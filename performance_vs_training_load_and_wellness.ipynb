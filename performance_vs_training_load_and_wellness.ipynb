{
 "cells": [
  {
   "cell_type": "markdown",
   "metadata": {},
   "source": [
    "# Missing RPE Data"
   ]
  },
  {
   "cell_type": "markdown",
   "metadata": {},
   "source": [
    "On some of the game dates, we don't have RPE data. But, we are mainly concerned with the acute/chronic ratio which we can compute for the dates for which it is missing."
   ]
  },
  {
   "cell_type": "code",
   "execution_count": 1,
   "metadata": {},
   "outputs": [],
   "source": [
    "import pandas as pd\n",
    "import numpy as np\n",
    "from factor_analyzer import FactorAnalyzer\n",
    "from factor_analyzer.factor_analyzer import calculate_bartlett_sphericity, calculate_kmo\n",
    "from scipy.stats import ttest_ind, ttest_rel\n",
    "from scipy.stats import pointbiserialr\n",
    "import matplotlib.pyplot as plt\n",
    "from sklearn.preprocessing import StandardScaler\n",
    "import warnings"
   ]
  },
  {
   "cell_type": "code",
   "execution_count": 2,
   "metadata": {},
   "outputs": [
    {
     "name": "stdout",
     "output_type": "stream",
     "text": [
      "   Unnamed: 0        Date  PlayerID  Training SessionType  Duration  RPE  \\\n",
      "0           0  2017-08-01        15         1    Strength      60.0  4.0   \n",
      "1           1  2017-08-01         1         1       Speed      60.0  3.0   \n",
      "2           2  2017-08-01         1         1    Strength      90.0  4.0   \n",
      "3           3  2017-08-01         3         1       Speed      45.0  5.0   \n",
      "4           4  2017-08-01         3         1    Strength      90.0  5.0   \n",
      "\n",
      "   SessionLoad  DailyLoad  AcuteChronicRatio  ObjectiveRating  FocusRating  \\\n",
      "0        240.0      300.0               4.29              6.0          7.0   \n",
      "1        180.0      540.0               4.29              0.0          0.0   \n",
      "2        360.0      540.0               4.29              0.0          0.0   \n",
      "3        225.0      675.0               4.29              7.0          7.0   \n",
      "4        450.0      675.0               4.29              7.0          7.0   \n",
      "\n",
      "   BestOutOfMyself  AcuteLoad  ChronicLoad  \n",
      "0              2.0      42.86         10.0  \n",
      "1              2.0      77.14         18.0  \n",
      "2              2.0      77.14         18.0  \n",
      "3              2.0      96.43         22.5  \n",
      "4              2.0      96.43         22.5  \n"
     ]
    }
   ],
   "source": [
    "np.random.seed(5151)\n",
    "warnings.filterwarnings('ignore')\n",
    "raw_rpe_df = pd.read_csv('./processed_data/processed_rpe.csv')\n",
    "raw_rpe = raw_rpe_df.copy()[['Date', 'PlayerID', 'RPE']]\n",
    "print(raw_rpe_df.head())\n"
   ]
  },
  {
   "cell_type": "markdown",
   "metadata": {},
   "source": [
    "## Drop Duplicate Dates"
   ]
  },
  {
   "cell_type": "markdown",
   "metadata": {},
   "source": [
    "This occurs when there are multiple training sessions on the same date. We only care about the daily load so we can drop the duplicate sessions."
   ]
  },
  {
   "cell_type": "code",
   "execution_count": 3,
   "metadata": {},
   "outputs": [
    {
     "data": {
      "text/html": [
       "<div>\n",
       "<style scoped>\n",
       "    .dataframe tbody tr th:only-of-type {\n",
       "        vertical-align: middle;\n",
       "    }\n",
       "\n",
       "    .dataframe tbody tr th {\n",
       "        vertical-align: top;\n",
       "    }\n",
       "\n",
       "    .dataframe thead th {\n",
       "        text-align: right;\n",
       "    }\n",
       "</style>\n",
       "<table border=\"1\" class=\"dataframe\">\n",
       "  <thead>\n",
       "    <tr style=\"text-align: right;\">\n",
       "      <th></th>\n",
       "      <th>Date</th>\n",
       "      <th>PlayerID</th>\n",
       "      <th>DailyLoad</th>\n",
       "      <th>AcuteChronicRatio</th>\n",
       "      <th>AcuteLoad</th>\n",
       "      <th>ChronicLoad</th>\n",
       "    </tr>\n",
       "  </thead>\n",
       "  <tbody>\n",
       "    <tr>\n",
       "      <th>0</th>\n",
       "      <td>2017-08-01</td>\n",
       "      <td>15</td>\n",
       "      <td>300.0</td>\n",
       "      <td>4.29</td>\n",
       "      <td>42.86</td>\n",
       "      <td>10.0</td>\n",
       "    </tr>\n",
       "    <tr>\n",
       "      <th>1</th>\n",
       "      <td>2017-08-01</td>\n",
       "      <td>1</td>\n",
       "      <td>540.0</td>\n",
       "      <td>4.29</td>\n",
       "      <td>77.14</td>\n",
       "      <td>18.0</td>\n",
       "    </tr>\n",
       "    <tr>\n",
       "      <th>2</th>\n",
       "      <td>2017-08-01</td>\n",
       "      <td>1</td>\n",
       "      <td>540.0</td>\n",
       "      <td>4.29</td>\n",
       "      <td>77.14</td>\n",
       "      <td>18.0</td>\n",
       "    </tr>\n",
       "    <tr>\n",
       "      <th>3</th>\n",
       "      <td>2017-08-01</td>\n",
       "      <td>3</td>\n",
       "      <td>675.0</td>\n",
       "      <td>4.29</td>\n",
       "      <td>96.43</td>\n",
       "      <td>22.5</td>\n",
       "    </tr>\n",
       "    <tr>\n",
       "      <th>4</th>\n",
       "      <td>2017-08-01</td>\n",
       "      <td>3</td>\n",
       "      <td>675.0</td>\n",
       "      <td>4.29</td>\n",
       "      <td>96.43</td>\n",
       "      <td>22.5</td>\n",
       "    </tr>\n",
       "  </tbody>\n",
       "</table>\n",
       "</div>"
      ],
      "text/plain": [
       "         Date  PlayerID  DailyLoad  AcuteChronicRatio  AcuteLoad  ChronicLoad\n",
       "0  2017-08-01        15      300.0               4.29      42.86         10.0\n",
       "1  2017-08-01         1      540.0               4.29      77.14         18.0\n",
       "2  2017-08-01         1      540.0               4.29      77.14         18.0\n",
       "3  2017-08-01         3      675.0               4.29      96.43         22.5\n",
       "4  2017-08-01         3      675.0               4.29      96.43         22.5"
      ]
     },
     "execution_count": 3,
     "metadata": {},
     "output_type": "execute_result"
    }
   ],
   "source": [
    "rpe_df = raw_rpe_df.copy()[['Date', 'PlayerID', 'DailyLoad', 'AcuteChronicRatio', 'AcuteLoad', 'ChronicLoad']]\n",
    "subjective_performance_df = raw_rpe_df.copy()[['Date', 'PlayerID', 'ObjectiveRating', 'FocusRating', 'BestOutOfMyself']]\n",
    "rpe_df.head()"
   ]
  },
  {
   "cell_type": "code",
   "execution_count": 4,
   "metadata": {},
   "outputs": [
    {
     "data": {
      "text/html": [
       "<div>\n",
       "<style scoped>\n",
       "    .dataframe tbody tr th:only-of-type {\n",
       "        vertical-align: middle;\n",
       "    }\n",
       "\n",
       "    .dataframe tbody tr th {\n",
       "        vertical-align: top;\n",
       "    }\n",
       "\n",
       "    .dataframe thead th {\n",
       "        text-align: right;\n",
       "    }\n",
       "</style>\n",
       "<table border=\"1\" class=\"dataframe\">\n",
       "  <thead>\n",
       "    <tr style=\"text-align: right;\">\n",
       "      <th></th>\n",
       "      <th>Date</th>\n",
       "      <th>PlayerID</th>\n",
       "      <th>ObjectiveRating</th>\n",
       "      <th>FocusRating</th>\n",
       "      <th>BestOutOfMyself</th>\n",
       "    </tr>\n",
       "  </thead>\n",
       "  <tbody>\n",
       "    <tr>\n",
       "      <th>0</th>\n",
       "      <td>2017-08-01</td>\n",
       "      <td>15</td>\n",
       "      <td>6.0</td>\n",
       "      <td>7.0</td>\n",
       "      <td>2.0</td>\n",
       "    </tr>\n",
       "    <tr>\n",
       "      <th>1</th>\n",
       "      <td>2017-08-01</td>\n",
       "      <td>1</td>\n",
       "      <td>0.0</td>\n",
       "      <td>0.0</td>\n",
       "      <td>2.0</td>\n",
       "    </tr>\n",
       "    <tr>\n",
       "      <th>2</th>\n",
       "      <td>2017-08-01</td>\n",
       "      <td>1</td>\n",
       "      <td>0.0</td>\n",
       "      <td>0.0</td>\n",
       "      <td>2.0</td>\n",
       "    </tr>\n",
       "    <tr>\n",
       "      <th>3</th>\n",
       "      <td>2017-08-01</td>\n",
       "      <td>3</td>\n",
       "      <td>7.0</td>\n",
       "      <td>7.0</td>\n",
       "      <td>2.0</td>\n",
       "    </tr>\n",
       "    <tr>\n",
       "      <th>4</th>\n",
       "      <td>2017-08-01</td>\n",
       "      <td>3</td>\n",
       "      <td>7.0</td>\n",
       "      <td>7.0</td>\n",
       "      <td>2.0</td>\n",
       "    </tr>\n",
       "  </tbody>\n",
       "</table>\n",
       "</div>"
      ],
      "text/plain": [
       "         Date  PlayerID  ObjectiveRating  FocusRating  BestOutOfMyself\n",
       "0  2017-08-01        15              6.0          7.0              2.0\n",
       "1  2017-08-01         1              0.0          0.0              2.0\n",
       "2  2017-08-01         1              0.0          0.0              2.0\n",
       "3  2017-08-01         3              7.0          7.0              2.0\n",
       "4  2017-08-01         3              7.0          7.0              2.0"
      ]
     },
     "execution_count": 4,
     "metadata": {},
     "output_type": "execute_result"
    }
   ],
   "source": [
    "subjective_performance_df.head()"
   ]
  },
  {
   "cell_type": "code",
   "execution_count": 5,
   "metadata": {},
   "outputs": [],
   "source": [
    "rpe_df = rpe_df.drop_duplicates()"
   ]
  },
  {
   "cell_type": "code",
   "execution_count": 6,
   "metadata": {},
   "outputs": [
    {
     "data": {
      "text/html": [
       "<div>\n",
       "<style scoped>\n",
       "    .dataframe tbody tr th:only-of-type {\n",
       "        vertical-align: middle;\n",
       "    }\n",
       "\n",
       "    .dataframe tbody tr th {\n",
       "        vertical-align: top;\n",
       "    }\n",
       "\n",
       "    .dataframe thead th {\n",
       "        text-align: right;\n",
       "    }\n",
       "</style>\n",
       "<table border=\"1\" class=\"dataframe\">\n",
       "  <thead>\n",
       "    <tr style=\"text-align: right;\">\n",
       "      <th></th>\n",
       "      <th>Date</th>\n",
       "      <th>PlayerID</th>\n",
       "      <th>DailyLoad</th>\n",
       "      <th>AcuteChronicRatio</th>\n",
       "      <th>AcuteLoad</th>\n",
       "      <th>ChronicLoad</th>\n",
       "    </tr>\n",
       "  </thead>\n",
       "  <tbody>\n",
       "    <tr>\n",
       "      <th>0</th>\n",
       "      <td>2017-08-01</td>\n",
       "      <td>15</td>\n",
       "      <td>300.0</td>\n",
       "      <td>4.29</td>\n",
       "      <td>42.86</td>\n",
       "      <td>10.0</td>\n",
       "    </tr>\n",
       "    <tr>\n",
       "      <th>1</th>\n",
       "      <td>2017-08-01</td>\n",
       "      <td>1</td>\n",
       "      <td>540.0</td>\n",
       "      <td>4.29</td>\n",
       "      <td>77.14</td>\n",
       "      <td>18.0</td>\n",
       "    </tr>\n",
       "    <tr>\n",
       "      <th>3</th>\n",
       "      <td>2017-08-01</td>\n",
       "      <td>3</td>\n",
       "      <td>675.0</td>\n",
       "      <td>4.29</td>\n",
       "      <td>96.43</td>\n",
       "      <td>22.5</td>\n",
       "    </tr>\n",
       "    <tr>\n",
       "      <th>5</th>\n",
       "      <td>2017-08-01</td>\n",
       "      <td>5</td>\n",
       "      <td>330.0</td>\n",
       "      <td>4.29</td>\n",
       "      <td>47.14</td>\n",
       "      <td>11.0</td>\n",
       "    </tr>\n",
       "    <tr>\n",
       "      <th>7</th>\n",
       "      <td>2017-08-01</td>\n",
       "      <td>8</td>\n",
       "      <td>345.0</td>\n",
       "      <td>4.29</td>\n",
       "      <td>49.29</td>\n",
       "      <td>11.5</td>\n",
       "    </tr>\n",
       "  </tbody>\n",
       "</table>\n",
       "</div>"
      ],
      "text/plain": [
       "         Date  PlayerID  DailyLoad  AcuteChronicRatio  AcuteLoad  ChronicLoad\n",
       "0  2017-08-01        15      300.0               4.29      42.86         10.0\n",
       "1  2017-08-01         1      540.0               4.29      77.14         18.0\n",
       "3  2017-08-01         3      675.0               4.29      96.43         22.5\n",
       "5  2017-08-01         5      330.0               4.29      47.14         11.0\n",
       "7  2017-08-01         8      345.0               4.29      49.29         11.5"
      ]
     },
     "execution_count": 6,
     "metadata": {},
     "output_type": "execute_result"
    }
   ],
   "source": [
    "rpe_df.head()"
   ]
  },
  {
   "cell_type": "markdown",
   "metadata": {},
   "source": [
    "## Fill In Missing RPE Data"
   ]
  },
  {
   "cell_type": "markdown",
   "metadata": {},
   "source": [
    "This row should not be in the dataset since it is the first entry for this player and they are not training."
   ]
  },
  {
   "cell_type": "code",
   "execution_count": 7,
   "metadata": {},
   "outputs": [],
   "source": [
    "rpe_df = rpe_df[~ rpe_df['AcuteChronicRatio'].isnull()]"
   ]
  },
  {
   "cell_type": "code",
   "execution_count": 8,
   "metadata": {},
   "outputs": [],
   "source": [
    "rpe_df['Date'] = pd.to_datetime(rpe_df['Date'])"
   ]
  },
  {
   "cell_type": "markdown",
   "metadata": {},
   "source": [
    "Adding missing dates and player ids to rpe data:"
   ]
  },
  {
   "cell_type": "code",
   "execution_count": 9,
   "metadata": {},
   "outputs": [],
   "source": [
    "dates = pd.date_range(start=min(rpe_df['Date']), end=max(rpe_df['Date']))\n",
    "players = rpe_df['PlayerID'].unique()\n",
    "idx = pd.MultiIndex.from_product((dates, players), names=['Date', 'PlayerID'])\n",
    "\n",
    "rpe_df = rpe_df.set_index(['Date', 'PlayerID']).reindex(idx, fill_value=0).reset_index().sort_values(by=['Date', 'PlayerID'])\n",
    "\n"
   ]
  },
  {
   "cell_type": "markdown",
   "metadata": {},
   "source": [
    "Use a rolling window to compute acute load and chronic load:"
   ]
  },
  {
   "cell_type": "code",
   "execution_count": 10,
   "metadata": {},
   "outputs": [],
   "source": [
    "temp = rpe_df[['Date','PlayerID','DailyLoad']].drop_duplicates()\n",
    "past7Days = temp.groupby('PlayerID').rolling('7d', on='Date')['DailyLoad'].sum().reset_index()\n",
    "past7Days['newAcuteLoad'] = (past7Days['DailyLoad'] / 7.).round(2)\n",
    "past7Days = past7Days.drop(columns = 'DailyLoad')\n",
    "\n",
    "rpe_df = pd.merge(rpe_df, past7Days, how='left', on=['Date', 'PlayerID'])"
   ]
  },
  {
   "cell_type": "code",
   "execution_count": 11,
   "metadata": {},
   "outputs": [],
   "source": [
    "past30Days = temp.groupby('PlayerID').rolling('30d', on='Date')['DailyLoad'].sum().reset_index()\n",
    "past30Days['newChronicLoad'] = (past30Days['DailyLoad'] / 30.).round(2)\n",
    "past30Days = past30Days.drop(columns = 'DailyLoad')\n",
    "\n",
    "rpe_df = pd.merge(rpe_df, past30Days, how=\"left\", on=[\"Date\", \"PlayerID\"])"
   ]
  },
  {
   "cell_type": "code",
   "execution_count": 12,
   "metadata": {},
   "outputs": [],
   "source": [
    "rpe_df.drop(['ChronicLoad','AcuteLoad'],axis = 1, inplace = True)\n",
    "rpe_df.rename(columns = {'newChronicLoad':'ChronicLoad','newAcuteLoad':'AcuteLoad'}, inplace = True)\n",
    "rpe_df['AcuteChronicRatio'] = (rpe_df['AcuteLoad'] / rpe_df['ChronicLoad']).round(2)"
   ]
  },
  {
   "cell_type": "code",
   "execution_count": 13,
   "metadata": {},
   "outputs": [
    {
     "data": {
      "text/html": [
       "<div>\n",
       "<style scoped>\n",
       "    .dataframe tbody tr th:only-of-type {\n",
       "        vertical-align: middle;\n",
       "    }\n",
       "\n",
       "    .dataframe tbody tr th {\n",
       "        vertical-align: top;\n",
       "    }\n",
       "\n",
       "    .dataframe thead th {\n",
       "        text-align: right;\n",
       "    }\n",
       "</style>\n",
       "<table border=\"1\" class=\"dataframe\">\n",
       "  <thead>\n",
       "    <tr style=\"text-align: right;\">\n",
       "      <th></th>\n",
       "      <th>Date</th>\n",
       "      <th>GameID</th>\n",
       "      <th>Outcome</th>\n",
       "      <th>TeamPoints</th>\n",
       "      <th>PlayerID</th>\n",
       "      <th>MaxSpeedInGame</th>\n",
       "      <th>MaxAccelImpulseInGame</th>\n",
       "    </tr>\n",
       "  </thead>\n",
       "  <tbody>\n",
       "    <tr>\n",
       "      <th>0</th>\n",
       "      <td>2017-11-30</td>\n",
       "      <td>1</td>\n",
       "      <td>W</td>\n",
       "      <td>19</td>\n",
       "      <td>2</td>\n",
       "      <td>7.284728</td>\n",
       "      <td>4.423615</td>\n",
       "    </tr>\n",
       "    <tr>\n",
       "      <th>1</th>\n",
       "      <td>2017-11-30</td>\n",
       "      <td>1</td>\n",
       "      <td>W</td>\n",
       "      <td>19</td>\n",
       "      <td>3</td>\n",
       "      <td>6.852436</td>\n",
       "      <td>4.888893</td>\n",
       "    </tr>\n",
       "    <tr>\n",
       "      <th>2</th>\n",
       "      <td>2017-11-30</td>\n",
       "      <td>1</td>\n",
       "      <td>W</td>\n",
       "      <td>19</td>\n",
       "      <td>4</td>\n",
       "      <td>7.267784</td>\n",
       "      <td>5.694449</td>\n",
       "    </tr>\n",
       "    <tr>\n",
       "      <th>3</th>\n",
       "      <td>2017-11-30</td>\n",
       "      <td>1</td>\n",
       "      <td>W</td>\n",
       "      <td>19</td>\n",
       "      <td>6</td>\n",
       "      <td>6.338894</td>\n",
       "      <td>4.777782</td>\n",
       "    </tr>\n",
       "    <tr>\n",
       "      <th>4</th>\n",
       "      <td>2017-11-30</td>\n",
       "      <td>1</td>\n",
       "      <td>W</td>\n",
       "      <td>19</td>\n",
       "      <td>7</td>\n",
       "      <td>7.065283</td>\n",
       "      <td>4.091273</td>\n",
       "    </tr>\n",
       "  </tbody>\n",
       "</table>\n",
       "</div>"
      ],
      "text/plain": [
       "         Date  GameID Outcome  TeamPoints  PlayerID  MaxSpeedInGame  \\\n",
       "0  2017-11-30       1       W          19         2        7.284728   \n",
       "1  2017-11-30       1       W          19         3        6.852436   \n",
       "2  2017-11-30       1       W          19         4        7.267784   \n",
       "3  2017-11-30       1       W          19         6        6.338894   \n",
       "4  2017-11-30       1       W          19         7        7.065283   \n",
       "\n",
       "   MaxAccelImpulseInGame  \n",
       "0               4.423615  \n",
       "1               4.888893  \n",
       "2               5.694449  \n",
       "3               4.777782  \n",
       "4               4.091273  "
      ]
     },
     "execution_count": 13,
     "metadata": {},
     "output_type": "execute_result"
    }
   ],
   "source": [
    "gps_df = pd.read_csv('./processed_data/processed_gps.csv')\n",
    "gps_df = gps_df.drop(columns=['Unnamed: 0'])\n",
    "gps_df.head()\n"
   ]
  },
  {
   "cell_type": "code",
   "execution_count": 14,
   "metadata": {},
   "outputs": [
    {
     "name": "stdout",
     "output_type": "stream",
     "text": [
      "443\n"
     ]
    },
    {
     "data": {
      "text/html": [
       "<div>\n",
       "<style scoped>\n",
       "    .dataframe tbody tr th:only-of-type {\n",
       "        vertical-align: middle;\n",
       "    }\n",
       "\n",
       "    .dataframe tbody tr th {\n",
       "        vertical-align: top;\n",
       "    }\n",
       "\n",
       "    .dataframe thead th {\n",
       "        text-align: right;\n",
       "    }\n",
       "</style>\n",
       "<table border=\"1\" class=\"dataframe\">\n",
       "  <thead>\n",
       "    <tr style=\"text-align: right;\">\n",
       "      <th></th>\n",
       "      <th>Date</th>\n",
       "      <th>GameID</th>\n",
       "      <th>Outcome</th>\n",
       "      <th>TeamPoints</th>\n",
       "      <th>PlayerID</th>\n",
       "      <th>MaxSpeedInGame</th>\n",
       "      <th>MaxAccelImpulseInGame</th>\n",
       "      <th>AcuteLoad</th>\n",
       "      <th>ChronicLoad</th>\n",
       "      <th>AcuteChronicRatio</th>\n",
       "    </tr>\n",
       "  </thead>\n",
       "  <tbody>\n",
       "    <tr>\n",
       "      <th>0</th>\n",
       "      <td>2017-11-30</td>\n",
       "      <td>1</td>\n",
       "      <td>W</td>\n",
       "      <td>19</td>\n",
       "      <td>2</td>\n",
       "      <td>7.284728</td>\n",
       "      <td>4.423615</td>\n",
       "      <td>206.57</td>\n",
       "      <td>371.20</td>\n",
       "      <td>0.56</td>\n",
       "    </tr>\n",
       "    <tr>\n",
       "      <th>1</th>\n",
       "      <td>2017-11-30</td>\n",
       "      <td>1</td>\n",
       "      <td>W</td>\n",
       "      <td>19</td>\n",
       "      <td>3</td>\n",
       "      <td>6.852436</td>\n",
       "      <td>4.888893</td>\n",
       "      <td>407.86</td>\n",
       "      <td>454.67</td>\n",
       "      <td>0.90</td>\n",
       "    </tr>\n",
       "    <tr>\n",
       "      <th>2</th>\n",
       "      <td>2017-11-30</td>\n",
       "      <td>1</td>\n",
       "      <td>W</td>\n",
       "      <td>19</td>\n",
       "      <td>4</td>\n",
       "      <td>7.267784</td>\n",
       "      <td>5.694449</td>\n",
       "      <td>236.00</td>\n",
       "      <td>406.90</td>\n",
       "      <td>0.58</td>\n",
       "    </tr>\n",
       "    <tr>\n",
       "      <th>3</th>\n",
       "      <td>2017-11-30</td>\n",
       "      <td>1</td>\n",
       "      <td>W</td>\n",
       "      <td>19</td>\n",
       "      <td>6</td>\n",
       "      <td>6.338894</td>\n",
       "      <td>4.777782</td>\n",
       "      <td>297.29</td>\n",
       "      <td>415.87</td>\n",
       "      <td>0.71</td>\n",
       "    </tr>\n",
       "    <tr>\n",
       "      <th>4</th>\n",
       "      <td>2017-11-30</td>\n",
       "      <td>1</td>\n",
       "      <td>W</td>\n",
       "      <td>19</td>\n",
       "      <td>7</td>\n",
       "      <td>7.065283</td>\n",
       "      <td>4.091273</td>\n",
       "      <td>237.57</td>\n",
       "      <td>476.60</td>\n",
       "      <td>0.50</td>\n",
       "    </tr>\n",
       "  </tbody>\n",
       "</table>\n",
       "</div>"
      ],
      "text/plain": [
       "        Date  GameID Outcome  TeamPoints  PlayerID  MaxSpeedInGame  \\\n",
       "0 2017-11-30       1       W          19         2        7.284728   \n",
       "1 2017-11-30       1       W          19         3        6.852436   \n",
       "2 2017-11-30       1       W          19         4        7.267784   \n",
       "3 2017-11-30       1       W          19         6        6.338894   \n",
       "4 2017-11-30       1       W          19         7        7.065283   \n",
       "\n",
       "   MaxAccelImpulseInGame  AcuteLoad  ChronicLoad  AcuteChronicRatio  \n",
       "0               4.423615     206.57       371.20               0.56  \n",
       "1               4.888893     407.86       454.67               0.90  \n",
       "2               5.694449     236.00       406.90               0.58  \n",
       "3               4.777782     297.29       415.87               0.71  \n",
       "4               4.091273     237.57       476.60               0.50  "
      ]
     },
     "execution_count": 14,
     "metadata": {},
     "output_type": "execute_result"
    }
   ],
   "source": [
    "# merged_df = gps_df.merge(rpe_df, how='left', on=['Date', 'PlayerID'])\n",
    "# merged_df.head()\n",
    "gps_df['Date'] = pd.to_datetime(gps_df['Date'])\n",
    "train_performance = gps_df.merge(rpe_df[[\n",
    "    'Date','PlayerID', 'AcuteLoad',\n",
    "    'ChronicLoad','AcuteChronicRatio']],\n",
    "    how='left', on= ['Date','PlayerID']).drop_duplicates()\n",
    "print(len(train_performance))\n",
    "train_performance.head()"
   ]
  },
  {
   "cell_type": "code",
   "execution_count": 15,
   "metadata": {},
   "outputs": [
    {
     "data": {
      "text/html": [
       "<div>\n",
       "<style scoped>\n",
       "    .dataframe tbody tr th:only-of-type {\n",
       "        vertical-align: middle;\n",
       "    }\n",
       "\n",
       "    .dataframe tbody tr th {\n",
       "        vertical-align: top;\n",
       "    }\n",
       "\n",
       "    .dataframe thead th {\n",
       "        text-align: right;\n",
       "    }\n",
       "</style>\n",
       "<table border=\"1\" class=\"dataframe\">\n",
       "  <thead>\n",
       "    <tr style=\"text-align: right;\">\n",
       "      <th></th>\n",
       "      <th>Date</th>\n",
       "      <th>PlayerID</th>\n",
       "      <th>MonitoringScore</th>\n",
       "      <th>Fatigue</th>\n",
       "      <th>Soreness</th>\n",
       "      <th>Desire</th>\n",
       "      <th>Irritability</th>\n",
       "      <th>SleepHours</th>\n",
       "      <th>SleepQuality</th>\n",
       "      <th>Menstruation</th>\n",
       "      <th>...</th>\n",
       "      <th>Nutrition</th>\n",
       "      <th>TrainingReadiness</th>\n",
       "      <th>StandardizedMonitoringScore</th>\n",
       "      <th>StandardizedPain</th>\n",
       "      <th>StandardizedIllness</th>\n",
       "      <th>StandardizedNutrition</th>\n",
       "      <th>StandardizedMenstruation</th>\n",
       "      <th>StandardizedTrainingReadiness</th>\n",
       "      <th>wellness</th>\n",
       "      <th>WellnessAffectedByLoad</th>\n",
       "    </tr>\n",
       "  </thead>\n",
       "  <tbody>\n",
       "    <tr>\n",
       "      <th>0</th>\n",
       "      <td>2018-07-21</td>\n",
       "      <td>1</td>\n",
       "      <td>13</td>\n",
       "      <td>3</td>\n",
       "      <td>3</td>\n",
       "      <td>2</td>\n",
       "      <td>3</td>\n",
       "      <td>8.00</td>\n",
       "      <td>2</td>\n",
       "      <td>0</td>\n",
       "      <td>...</td>\n",
       "      <td>3</td>\n",
       "      <td>0</td>\n",
       "      <td>-1.448934</td>\n",
       "      <td>0.363863</td>\n",
       "      <td>0.330081</td>\n",
       "      <td>0.718673</td>\n",
       "      <td>0.718673</td>\n",
       "      <td>-2.456667</td>\n",
       "      <td>-0.036317</td>\n",
       "      <td>-2.492984</td>\n",
       "    </tr>\n",
       "    <tr>\n",
       "      <th>1</th>\n",
       "      <td>2018-07-21</td>\n",
       "      <td>2</td>\n",
       "      <td>19</td>\n",
       "      <td>4</td>\n",
       "      <td>3</td>\n",
       "      <td>4</td>\n",
       "      <td>4</td>\n",
       "      <td>8.00</td>\n",
       "      <td>4</td>\n",
       "      <td>0</td>\n",
       "      <td>...</td>\n",
       "      <td>3</td>\n",
       "      <td>0</td>\n",
       "      <td>0.170479</td>\n",
       "      <td>-2.748287</td>\n",
       "      <td>0.330081</td>\n",
       "      <td>0.718673</td>\n",
       "      <td>0.718673</td>\n",
       "      <td>-2.456667</td>\n",
       "      <td>-1.529055</td>\n",
       "      <td>-3.985721</td>\n",
       "    </tr>\n",
       "    <tr>\n",
       "      <th>2</th>\n",
       "      <td>2018-07-21</td>\n",
       "      <td>3</td>\n",
       "      <td>19</td>\n",
       "      <td>3</td>\n",
       "      <td>3</td>\n",
       "      <td>5</td>\n",
       "      <td>4</td>\n",
       "      <td>8.00</td>\n",
       "      <td>4</td>\n",
       "      <td>1</td>\n",
       "      <td>...</td>\n",
       "      <td>3</td>\n",
       "      <td>100</td>\n",
       "      <td>0.170479</td>\n",
       "      <td>0.363863</td>\n",
       "      <td>0.330081</td>\n",
       "      <td>0.718673</td>\n",
       "      <td>0.718673</td>\n",
       "      <td>0.407056</td>\n",
       "      <td>1.583096</td>\n",
       "      <td>1.990151</td>\n",
       "    </tr>\n",
       "    <tr>\n",
       "      <th>3</th>\n",
       "      <td>2018-07-21</td>\n",
       "      <td>4</td>\n",
       "      <td>15</td>\n",
       "      <td>2</td>\n",
       "      <td>3</td>\n",
       "      <td>5</td>\n",
       "      <td>4</td>\n",
       "      <td>6.50</td>\n",
       "      <td>1</td>\n",
       "      <td>0</td>\n",
       "      <td>...</td>\n",
       "      <td>3</td>\n",
       "      <td>95</td>\n",
       "      <td>-0.909130</td>\n",
       "      <td>0.363863</td>\n",
       "      <td>0.330081</td>\n",
       "      <td>0.718673</td>\n",
       "      <td>0.718673</td>\n",
       "      <td>-2.456667</td>\n",
       "      <td>0.503487</td>\n",
       "      <td>-1.953180</td>\n",
       "    </tr>\n",
       "    <tr>\n",
       "      <th>4</th>\n",
       "      <td>2018-07-21</td>\n",
       "      <td>5</td>\n",
       "      <td>20</td>\n",
       "      <td>5</td>\n",
       "      <td>3</td>\n",
       "      <td>4</td>\n",
       "      <td>4</td>\n",
       "      <td>7.25</td>\n",
       "      <td>4</td>\n",
       "      <td>1</td>\n",
       "      <td>...</td>\n",
       "      <td>2</td>\n",
       "      <td>100</td>\n",
       "      <td>0.440381</td>\n",
       "      <td>0.363863</td>\n",
       "      <td>0.330081</td>\n",
       "      <td>-1.188751</td>\n",
       "      <td>-1.188751</td>\n",
       "      <td>0.407056</td>\n",
       "      <td>-0.054427</td>\n",
       "      <td>0.352629</td>\n",
       "    </tr>\n",
       "  </tbody>\n",
       "</table>\n",
       "<p>5 rows × 22 columns</p>\n",
       "</div>"
      ],
      "text/plain": [
       "        Date  PlayerID  MonitoringScore  Fatigue  Soreness  Desire  \\\n",
       "0 2018-07-21         1               13        3         3       2   \n",
       "1 2018-07-21         2               19        4         3       4   \n",
       "2 2018-07-21         3               19        3         3       5   \n",
       "3 2018-07-21         4               15        2         3       5   \n",
       "4 2018-07-21         5               20        5         3       4   \n",
       "\n",
       "   Irritability  SleepHours  SleepQuality  Menstruation  ...  Nutrition  \\\n",
       "0             3        8.00             2             0  ...          3   \n",
       "1             4        8.00             4             0  ...          3   \n",
       "2             4        8.00             4             1  ...          3   \n",
       "3             4        6.50             1             0  ...          3   \n",
       "4             4        7.25             4             1  ...          2   \n",
       "\n",
       "   TrainingReadiness  StandardizedMonitoringScore  StandardizedPain  \\\n",
       "0                  0                    -1.448934          0.363863   \n",
       "1                  0                     0.170479         -2.748287   \n",
       "2                100                     0.170479          0.363863   \n",
       "3                 95                    -0.909130          0.363863   \n",
       "4                100                     0.440381          0.363863   \n",
       "\n",
       "   StandardizedIllness  StandardizedNutrition  StandardizedMenstruation  \\\n",
       "0             0.330081               0.718673                  0.718673   \n",
       "1             0.330081               0.718673                  0.718673   \n",
       "2             0.330081               0.718673                  0.718673   \n",
       "3             0.330081               0.718673                  0.718673   \n",
       "4             0.330081              -1.188751                 -1.188751   \n",
       "\n",
       "   StandardizedTrainingReadiness  wellness  WellnessAffectedByLoad  \n",
       "0                      -2.456667 -0.036317               -2.492984  \n",
       "1                      -2.456667 -1.529055               -3.985721  \n",
       "2                       0.407056  1.583096                1.990151  \n",
       "3                      -2.456667  0.503487               -1.953180  \n",
       "4                       0.407056 -0.054427                0.352629  \n",
       "\n",
       "[5 rows x 22 columns]"
      ]
     },
     "execution_count": 15,
     "metadata": {},
     "output_type": "execute_result"
    }
   ],
   "source": [
    "wellness_df = pd.read_csv('./processed_data/processed_wellness.csv')\n",
    "wellness_df = wellness_df.drop(columns=['Unnamed: 0'])\n",
    "wellness_df['Date'] = pd.to_datetime(wellness_df['Date'])\n",
    "wellness_df.head()"
   ]
  },
  {
   "cell_type": "markdown",
   "metadata": {},
   "source": [
    "Impute wellness data for missing dates (if we merge without doing this there are 12 instances of performance data that have no wellness data):"
   ]
  },
  {
   "cell_type": "code",
   "execution_count": 16,
   "metadata": {},
   "outputs": [
    {
     "data": {
      "text/plain": [
       "(791, 22)"
      ]
     },
     "execution_count": 16,
     "metadata": {},
     "output_type": "execute_result"
    }
   ],
   "source": [
    "wellness_dates = pd.date_range(start=min(train_performance['Date']), end=max(train_performance['Date']))\n",
    "wellness_players = wellness_df['PlayerID'].unique()\n",
    "wellness_idx = pd.MultiIndex.from_product((wellness_dates, wellness_players), names=['Date', 'PlayerID'])\n",
    "\n",
    "wellness_df = wellness_df.set_index(['Date', 'PlayerID']).reindex(wellness_idx).reset_index().sort_values(by=['Date', 'PlayerID'])\n",
    "\n",
    "wellness_df[wellness_df['MonitoringScore'].isnull()].shape"
   ]
  },
  {
   "cell_type": "code",
   "execution_count": 17,
   "metadata": {},
   "outputs": [
    {
     "name": "stdout",
     "output_type": "stream",
     "text": [
      "3978\n"
     ]
    }
   ],
   "source": [
    "print(len(wellness_df))"
   ]
  },
  {
   "cell_type": "markdown",
   "metadata": {},
   "source": [
    "We see that there are 779 observations where we need to forward fill to impute the wellness data. This is out of 3978 observations after we reindex the data which is 20% of the observations."
   ]
  },
  {
   "cell_type": "code",
   "execution_count": 18,
   "metadata": {},
   "outputs": [],
   "source": [
    "wellness_df = wellness_df.fillna(method='ffill')"
   ]
  },
  {
   "cell_type": "code",
   "execution_count": 19,
   "metadata": {},
   "outputs": [
    {
     "name": "stdout",
     "output_type": "stream",
     "text": [
      "443\n"
     ]
    },
    {
     "data": {
      "text/html": [
       "<div>\n",
       "<style scoped>\n",
       "    .dataframe tbody tr th:only-of-type {\n",
       "        vertical-align: middle;\n",
       "    }\n",
       "\n",
       "    .dataframe tbody tr th {\n",
       "        vertical-align: top;\n",
       "    }\n",
       "\n",
       "    .dataframe thead th {\n",
       "        text-align: right;\n",
       "    }\n",
       "</style>\n",
       "<table border=\"1\" class=\"dataframe\">\n",
       "  <thead>\n",
       "    <tr style=\"text-align: right;\">\n",
       "      <th></th>\n",
       "      <th>Date</th>\n",
       "      <th>GameID</th>\n",
       "      <th>Outcome</th>\n",
       "      <th>TeamPoints</th>\n",
       "      <th>PlayerID</th>\n",
       "      <th>MaxSpeedInGame</th>\n",
       "      <th>MaxAccelImpulseInGame</th>\n",
       "      <th>AcuteLoad</th>\n",
       "      <th>ChronicLoad</th>\n",
       "      <th>AcuteChronicRatio</th>\n",
       "      <th>...</th>\n",
       "      <th>Nutrition</th>\n",
       "      <th>TrainingReadiness</th>\n",
       "      <th>StandardizedMonitoringScore</th>\n",
       "      <th>StandardizedPain</th>\n",
       "      <th>StandardizedIllness</th>\n",
       "      <th>StandardizedNutrition</th>\n",
       "      <th>StandardizedMenstruation</th>\n",
       "      <th>StandardizedTrainingReadiness</th>\n",
       "      <th>wellness</th>\n",
       "      <th>WellnessAffectedByLoad</th>\n",
       "    </tr>\n",
       "  </thead>\n",
       "  <tbody>\n",
       "    <tr>\n",
       "      <th>0</th>\n",
       "      <td>2017-11-30</td>\n",
       "      <td>1</td>\n",
       "      <td>W</td>\n",
       "      <td>19</td>\n",
       "      <td>2</td>\n",
       "      <td>7.284728</td>\n",
       "      <td>4.423615</td>\n",
       "      <td>206.57</td>\n",
       "      <td>371.20</td>\n",
       "      <td>0.56</td>\n",
       "      <td>...</td>\n",
       "      <td>2.0</td>\n",
       "      <td>0.0</td>\n",
       "      <td>0.980185</td>\n",
       "      <td>0.363863</td>\n",
       "      <td>0.330081</td>\n",
       "      <td>-1.188751</td>\n",
       "      <td>-1.188751</td>\n",
       "      <td>0.407056</td>\n",
       "      <td>0.485378</td>\n",
       "      <td>0.892433</td>\n",
       "    </tr>\n",
       "    <tr>\n",
       "      <th>1</th>\n",
       "      <td>2017-11-30</td>\n",
       "      <td>1</td>\n",
       "      <td>W</td>\n",
       "      <td>19</td>\n",
       "      <td>3</td>\n",
       "      <td>6.852436</td>\n",
       "      <td>4.888893</td>\n",
       "      <td>407.86</td>\n",
       "      <td>454.67</td>\n",
       "      <td>0.90</td>\n",
       "      <td>...</td>\n",
       "      <td>3.0</td>\n",
       "      <td>100.0</td>\n",
       "      <td>1.250087</td>\n",
       "      <td>0.363863</td>\n",
       "      <td>0.330081</td>\n",
       "      <td>0.718673</td>\n",
       "      <td>0.718673</td>\n",
       "      <td>0.407056</td>\n",
       "      <td>2.662704</td>\n",
       "      <td>3.069760</td>\n",
       "    </tr>\n",
       "    <tr>\n",
       "      <th>2</th>\n",
       "      <td>2017-11-30</td>\n",
       "      <td>1</td>\n",
       "      <td>W</td>\n",
       "      <td>19</td>\n",
       "      <td>4</td>\n",
       "      <td>7.267784</td>\n",
       "      <td>5.694449</td>\n",
       "      <td>236.00</td>\n",
       "      <td>406.90</td>\n",
       "      <td>0.58</td>\n",
       "      <td>...</td>\n",
       "      <td>3.0</td>\n",
       "      <td>100.0</td>\n",
       "      <td>0.710283</td>\n",
       "      <td>0.363863</td>\n",
       "      <td>0.330081</td>\n",
       "      <td>0.718673</td>\n",
       "      <td>0.718673</td>\n",
       "      <td>0.407056</td>\n",
       "      <td>2.122900</td>\n",
       "      <td>2.529956</td>\n",
       "    </tr>\n",
       "    <tr>\n",
       "      <th>3</th>\n",
       "      <td>2017-11-30</td>\n",
       "      <td>1</td>\n",
       "      <td>W</td>\n",
       "      <td>19</td>\n",
       "      <td>6</td>\n",
       "      <td>6.338894</td>\n",
       "      <td>4.777782</td>\n",
       "      <td>297.29</td>\n",
       "      <td>415.87</td>\n",
       "      <td>0.71</td>\n",
       "      <td>...</td>\n",
       "      <td>3.0</td>\n",
       "      <td>90.0</td>\n",
       "      <td>0.440381</td>\n",
       "      <td>0.363863</td>\n",
       "      <td>0.330081</td>\n",
       "      <td>0.718673</td>\n",
       "      <td>0.718673</td>\n",
       "      <td>0.407056</td>\n",
       "      <td>1.852998</td>\n",
       "      <td>2.260053</td>\n",
       "    </tr>\n",
       "    <tr>\n",
       "      <th>4</th>\n",
       "      <td>2017-11-30</td>\n",
       "      <td>1</td>\n",
       "      <td>W</td>\n",
       "      <td>19</td>\n",
       "      <td>7</td>\n",
       "      <td>7.065283</td>\n",
       "      <td>4.091273</td>\n",
       "      <td>237.57</td>\n",
       "      <td>476.60</td>\n",
       "      <td>0.50</td>\n",
       "      <td>...</td>\n",
       "      <td>3.0</td>\n",
       "      <td>95.0</td>\n",
       "      <td>1.250087</td>\n",
       "      <td>0.363863</td>\n",
       "      <td>0.330081</td>\n",
       "      <td>0.718673</td>\n",
       "      <td>0.718673</td>\n",
       "      <td>0.407056</td>\n",
       "      <td>2.662704</td>\n",
       "      <td>3.069760</td>\n",
       "    </tr>\n",
       "  </tbody>\n",
       "</table>\n",
       "<p>5 rows × 30 columns</p>\n",
       "</div>"
      ],
      "text/plain": [
       "        Date  GameID Outcome  TeamPoints  PlayerID  MaxSpeedInGame  \\\n",
       "0 2017-11-30       1       W          19         2        7.284728   \n",
       "1 2017-11-30       1       W          19         3        6.852436   \n",
       "2 2017-11-30       1       W          19         4        7.267784   \n",
       "3 2017-11-30       1       W          19         6        6.338894   \n",
       "4 2017-11-30       1       W          19         7        7.065283   \n",
       "\n",
       "   MaxAccelImpulseInGame  AcuteLoad  ChronicLoad  AcuteChronicRatio  ...  \\\n",
       "0               4.423615     206.57       371.20               0.56  ...   \n",
       "1               4.888893     407.86       454.67               0.90  ...   \n",
       "2               5.694449     236.00       406.90               0.58  ...   \n",
       "3               4.777782     297.29       415.87               0.71  ...   \n",
       "4               4.091273     237.57       476.60               0.50  ...   \n",
       "\n",
       "   Nutrition  TrainingReadiness  StandardizedMonitoringScore  \\\n",
       "0        2.0                0.0                     0.980185   \n",
       "1        3.0              100.0                     1.250087   \n",
       "2        3.0              100.0                     0.710283   \n",
       "3        3.0               90.0                     0.440381   \n",
       "4        3.0               95.0                     1.250087   \n",
       "\n",
       "   StandardizedPain  StandardizedIllness  StandardizedNutrition  \\\n",
       "0          0.363863             0.330081              -1.188751   \n",
       "1          0.363863             0.330081               0.718673   \n",
       "2          0.363863             0.330081               0.718673   \n",
       "3          0.363863             0.330081               0.718673   \n",
       "4          0.363863             0.330081               0.718673   \n",
       "\n",
       "   StandardizedMenstruation  StandardizedTrainingReadiness  wellness  \\\n",
       "0                 -1.188751                       0.407056  0.485378   \n",
       "1                  0.718673                       0.407056  2.662704   \n",
       "2                  0.718673                       0.407056  2.122900   \n",
       "3                  0.718673                       0.407056  1.852998   \n",
       "4                  0.718673                       0.407056  2.662704   \n",
       "\n",
       "   WellnessAffectedByLoad  \n",
       "0                0.892433  \n",
       "1                3.069760  \n",
       "2                2.529956  \n",
       "3                2.260053  \n",
       "4                3.069760  \n",
       "\n",
       "[5 rows x 30 columns]"
      ]
     },
     "execution_count": 19,
     "metadata": {},
     "output_type": "execute_result"
    }
   ],
   "source": [
    "merged_df = train_performance.merge(wellness_df,\n",
    "    how='left', on= ['Date','PlayerID']).drop_duplicates()\n",
    "print(len(merged_df))\n",
    "merged_df.head()"
   ]
  },
  {
   "cell_type": "code",
   "execution_count": 20,
   "metadata": {},
   "outputs": [
    {
     "name": "stdout",
     "output_type": "stream",
     "text": [
      "Empty DataFrame\n",
      "Columns: [Date, GameID, Outcome, TeamPoints, PlayerID, MaxSpeedInGame, MaxAccelImpulseInGame, AcuteLoad, ChronicLoad, AcuteChronicRatio, MonitoringScore, Fatigue, Soreness, Desire, Irritability, SleepHours, SleepQuality, Menstruation, Pain, Illness, Nutrition, TrainingReadiness, StandardizedMonitoringScore, StandardizedPain, StandardizedIllness, StandardizedNutrition, StandardizedMenstruation, StandardizedTrainingReadiness, wellness, WellnessAffectedByLoad]\n",
      "Index: []\n",
      "\n",
      "[0 rows x 30 columns]\n"
     ]
    }
   ],
   "source": [
    "print(merged_df[merged_df['MonitoringScore'].isnull()])"
   ]
  },
  {
   "cell_type": "markdown",
   "metadata": {},
   "source": [
    "## Explore Performance Data"
   ]
  },
  {
   "cell_type": "markdown",
   "metadata": {},
   "source": [
    "Before modeling performance data, we need to make sure there are no outliers in the data. The performance data is computed from data gathered by sensors so any issue with sensors will present itself as outliers in our data."
   ]
  },
  {
   "cell_type": "code",
   "execution_count": 21,
   "metadata": {},
   "outputs": [
    {
     "data": {
      "text/plain": [
       "<matplotlib.axes._subplots.AxesSubplot at 0x1a18fb2898>"
      ]
     },
     "execution_count": 21,
     "metadata": {},
     "output_type": "execute_result"
    },
    {
     "data": {
      "image/png": "[encoded data removed]",
      "text/plain": [
       "<Figure size 432x288 with 1 Axes>"
      ]
     },
     "metadata": {
      "needs_background": "light"
     },
     "output_type": "display_data"
    }
   ],
   "source": [
    "merged_df['MaxSpeedInGame'].hist()"
   ]
  },
  {
   "cell_type": "code",
   "execution_count": 22,
   "metadata": {},
   "outputs": [],
   "source": [
    "merged_df.to_csv('./processed_data/merged_df.csv')"
   ]
  },
  {
   "cell_type": "code",
   "execution_count": 23,
   "metadata": {},
   "outputs": [],
   "source": [
    "merged_df = merged_df[(merged_df['MaxSpeedInGame'] >= 5) & (merged_df['MaxSpeedInGame'] <= 9)]"
   ]
  },
  {
   "cell_type": "code",
   "execution_count": 24,
   "metadata": {},
   "outputs": [
    {
     "data": {
      "text/plain": [
       "<matplotlib.axes._subplots.AxesSubplot at 0x1a18eb62b0>"
      ]
     },
     "execution_count": 24,
     "metadata": {},
     "output_type": "execute_result"
    },
    {
     "data": {
      "image/png": "[encoded data removed]",
      "text/plain": [
       "<Figure size 432x288 with 1 Axes>"
      ]
     },
     "metadata": {
      "needs_background": "light"
     },
     "output_type": "display_data"
    }
   ],
   "source": [
    "merged_df['MaxSpeedInGame'].hist()"
   ]
  },
  {
   "cell_type": "markdown",
   "metadata": {},
   "source": [
    "## Correlations Between Predictors and Response"
   ]
  },
  {
   "cell_type": "markdown",
   "metadata": {},
   "source": [
    "Based on our previous analysis, we think that `AcuteChronicRatio`, `MonitoringScore`, `Pain`, `Illness`, `Nutrition` will be predictors for `MaxSpeedInGame` which is our measure for performance. We also have an overall score for wellness called `wellness` which is the combination of all predictors other than `AcuteChronicRatio`."
   ]
  },
  {
   "cell_type": "code",
   "execution_count": 25,
   "metadata": {},
   "outputs": [],
   "source": [
    "def scatter_plot(df, x, y, title=None, hold_plot = False):\n",
    "    plt.scatter(df[x], df[y])\n",
    "    plt.xlabel(x)\n",
    "    plt.ylabel(y)\n",
    "    \n",
    "    if title:\n",
    "        plt.title(title)\n",
    "    \n",
    "    if not hold_plot:\n",
    "        plt.show()"
   ]
  },
  {
   "cell_type": "code",
   "execution_count": 26,
   "metadata": {},
   "outputs": [
    {
     "data": {
      "image/png": "[encoded data removed]",
      "text/plain": [
       "<Figure size 432x288 with 1 Axes>"
      ]
     },
     "metadata": {
      "needs_background": "light"
     },
     "output_type": "display_data"
    }
   ],
   "source": [
    "scatter_plot(merged_df, 'AcuteChronicRatio', 'MaxSpeedInGame', 'Performance vs Acute Chronic Load Ratio')\n"
   ]
  },
  {
   "cell_type": "markdown",
   "metadata": {},
   "source": [
    "It does not look like there is any clear pattern between load and performance."
   ]
  },
  {
   "cell_type": "code",
   "execution_count": 27,
   "metadata": {},
   "outputs": [
    {
     "data": {
      "image/png": "[encoded data removed]",
      "text/plain": [
       "<Figure size 432x288 with 1 Axes>"
      ]
     },
     "metadata": {
      "needs_background": "light"
     },
     "output_type": "display_data"
    }
   ],
   "source": [
    "scatter_plot(merged_df, 'wellness', 'MaxSpeedInGame', 'Performance vs Wellness')\n"
   ]
  },
  {
   "cell_type": "code",
   "execution_count": 28,
   "metadata": {},
   "outputs": [
    {
     "data": {
      "text/plain": [
       "-0.17155508113939588"
      ]
     },
     "execution_count": 28,
     "metadata": {},
     "output_type": "execute_result"
    }
   ],
   "source": [
    "merged_df['wellness'].corr(merged_df['MaxSpeedInGame'])"
   ]
  },
  {
   "cell_type": "code",
   "execution_count": 29,
   "metadata": {},
   "outputs": [
    {
     "data": {
      "text/html": [
       "<div>\n",
       "<style scoped>\n",
       "    .dataframe tbody tr th:only-of-type {\n",
       "        vertical-align: middle;\n",
       "    }\n",
       "\n",
       "    .dataframe tbody tr th {\n",
       "        vertical-align: top;\n",
       "    }\n",
       "\n",
       "    .dataframe thead th {\n",
       "        text-align: right;\n",
       "    }\n",
       "</style>\n",
       "<table border=\"1\" class=\"dataframe\">\n",
       "  <thead>\n",
       "    <tr style=\"text-align: right;\">\n",
       "      <th></th>\n",
       "      <th>wellness</th>\n",
       "      <th>MaxSpeedInGame</th>\n",
       "    </tr>\n",
       "    <tr>\n",
       "      <th>PlayerID</th>\n",
       "      <th></th>\n",
       "      <th></th>\n",
       "    </tr>\n",
       "  </thead>\n",
       "  <tbody>\n",
       "    <tr>\n",
       "      <th>1</th>\n",
       "      <td>1.153202</td>\n",
       "      <td>7.683961</td>\n",
       "    </tr>\n",
       "    <tr>\n",
       "      <th>2</th>\n",
       "      <td>-0.435592</td>\n",
       "      <td>6.902797</td>\n",
       "    </tr>\n",
       "    <tr>\n",
       "      <th>3</th>\n",
       "      <td>1.942965</td>\n",
       "      <td>7.230131</td>\n",
       "    </tr>\n",
       "    <tr>\n",
       "      <th>4</th>\n",
       "      <td>0.958465</td>\n",
       "      <td>6.799333</td>\n",
       "    </tr>\n",
       "    <tr>\n",
       "      <th>5</th>\n",
       "      <td>-0.803991</td>\n",
       "      <td>7.721914</td>\n",
       "    </tr>\n",
       "    <tr>\n",
       "      <th>6</th>\n",
       "      <td>1.090028</td>\n",
       "      <td>6.511335</td>\n",
       "    </tr>\n",
       "    <tr>\n",
       "      <th>7</th>\n",
       "      <td>0.501306</td>\n",
       "      <td>7.383135</td>\n",
       "    </tr>\n",
       "    <tr>\n",
       "      <th>8</th>\n",
       "      <td>1.037884</td>\n",
       "      <td>7.159093</td>\n",
       "    </tr>\n",
       "    <tr>\n",
       "      <th>9</th>\n",
       "      <td>-0.515071</td>\n",
       "      <td>6.931128</td>\n",
       "    </tr>\n",
       "    <tr>\n",
       "      <th>10</th>\n",
       "      <td>-2.351081</td>\n",
       "      <td>7.614805</td>\n",
       "    </tr>\n",
       "    <tr>\n",
       "      <th>11</th>\n",
       "      <td>0.446037</td>\n",
       "      <td>6.920157</td>\n",
       "    </tr>\n",
       "    <tr>\n",
       "      <th>12</th>\n",
       "      <td>-0.032834</td>\n",
       "      <td>6.271713</td>\n",
       "    </tr>\n",
       "    <tr>\n",
       "      <th>13</th>\n",
       "      <td>1.746457</td>\n",
       "      <td>6.737886</td>\n",
       "    </tr>\n",
       "    <tr>\n",
       "      <th>14</th>\n",
       "      <td>1.936045</td>\n",
       "      <td>6.627116</td>\n",
       "    </tr>\n",
       "    <tr>\n",
       "      <th>15</th>\n",
       "      <td>3.009859</td>\n",
       "      <td>6.434150</td>\n",
       "    </tr>\n",
       "    <tr>\n",
       "      <th>16</th>\n",
       "      <td>0.728467</td>\n",
       "      <td>6.466877</td>\n",
       "    </tr>\n",
       "    <tr>\n",
       "      <th>17</th>\n",
       "      <td>-0.729182</td>\n",
       "      <td>6.250989</td>\n",
       "    </tr>\n",
       "  </tbody>\n",
       "</table>\n",
       "</div>"
      ],
      "text/plain": [
       "          wellness  MaxSpeedInGame\n",
       "PlayerID                          \n",
       "1         1.153202        7.683961\n",
       "2        -0.435592        6.902797\n",
       "3         1.942965        7.230131\n",
       "4         0.958465        6.799333\n",
       "5        -0.803991        7.721914\n",
       "6         1.090028        6.511335\n",
       "7         0.501306        7.383135\n",
       "8         1.037884        7.159093\n",
       "9        -0.515071        6.931128\n",
       "10       -2.351081        7.614805\n",
       "11        0.446037        6.920157\n",
       "12       -0.032834        6.271713\n",
       "13        1.746457        6.737886\n",
       "14        1.936045        6.627116\n",
       "15        3.009859        6.434150\n",
       "16        0.728467        6.466877\n",
       "17       -0.729182        6.250989"
      ]
     },
     "execution_count": 29,
     "metadata": {},
     "output_type": "execute_result"
    }
   ],
   "source": [
    "grouped_merged_df = merged_df[['wellness', 'MaxSpeedInGame', 'PlayerID']].groupby('PlayerID').mean()\n",
    "grouped_merged_df"
   ]
  },
  {
   "cell_type": "code",
   "execution_count": 30,
   "metadata": {},
   "outputs": [
    {
     "data": {
      "image/png": "[encoded data removed]",
      "text/plain": [
       "<Figure size 432x288 with 1 Axes>"
      ]
     },
     "metadata": {
      "needs_background": "light"
     },
     "output_type": "display_data"
    }
   ],
   "source": [
    "scatter_plot(grouped_merged_df, 'wellness', 'MaxSpeedInGame')"
   ]
  },
  {
   "cell_type": "code",
   "execution_count": 31,
   "metadata": {},
   "outputs": [
    {
     "data": {
      "image/png": "[encoded data removed]",
      "text/plain": [
       "<Figure size 432x288 with 1 Axes>"
      ]
     },
     "metadata": {
      "needs_background": "light"
     },
     "output_type": "display_data"
    }
   ],
   "source": [
    "scatter_plot(merged_df, 'MonitoringScore', 'MaxSpeedInGame', 'Monitoring Score VS Performance')\n"
   ]
  },
  {
   "cell_type": "code",
   "execution_count": 32,
   "metadata": {},
   "outputs": [
    {
     "data": {
      "text/plain": [
       "-0.11170593306358198"
      ]
     },
     "execution_count": 32,
     "metadata": {},
     "output_type": "execute_result"
    }
   ],
   "source": [
    "merged_df['MonitoringScore'].corr(merged_df['MaxSpeedInGame'])"
   ]
  },
  {
   "cell_type": "code",
   "execution_count": 33,
   "metadata": {},
   "outputs": [
    {
     "data": {
      "image/png": "[encoded data removed]",
      "text/plain": [
       "<Figure size 432x288 with 1 Axes>"
      ]
     },
     "metadata": {
      "needs_background": "light"
     },
     "output_type": "display_data"
    }
   ],
   "source": [
    "scatter_plot(merged_df, 'Pain', 'MaxSpeedInGame', 'Pain VS Performance')"
   ]
  },
  {
   "cell_type": "code",
   "execution_count": 34,
   "metadata": {},
   "outputs": [
    {
     "data": {
      "image/png": "[encoded data removed]",
      "text/plain": [
       "<Figure size 432x288 with 1 Axes>"
      ]
     },
     "metadata": {
      "needs_background": "light"
     },
     "output_type": "display_data"
    }
   ],
   "source": [
    "scatter_plot(merged_df, 'Illness', 'MaxSpeedInGame', 'Illness VS Performance')"
   ]
  },
  {
   "cell_type": "code",
   "execution_count": 35,
   "metadata": {},
   "outputs": [
    {
     "data": {
      "text/plain": [
       "Ttest_indResult(statistic=3.6342015507440735, pvalue=0.00031409377499258713)"
      ]
     },
     "execution_count": 35,
     "metadata": {},
     "output_type": "execute_result"
    }
   ],
   "source": [
    "ttest_ind(merged_df[merged_df['Illness'] == 2]['MaxSpeedInGame'], merged_df[merged_df['Illness'] == 3]['MaxSpeedInGame'])"
   ]
  },
  {
   "cell_type": "markdown",
   "metadata": {},
   "source": [
    "We get a significant results that the performance of those saying they are slightly off is better than those who are not ill."
   ]
  },
  {
   "cell_type": "code",
   "execution_count": 36,
   "metadata": {},
   "outputs": [
    {
     "data": {
      "image/png": "[encoded data removed]",
      "text/plain": [
       "<Figure size 432x288 with 1 Axes>"
      ]
     },
     "metadata": {
      "needs_background": "light"
     },
     "output_type": "display_data"
    }
   ],
   "source": [
    "scatter_plot(merged_df, 'Nutrition', 'MaxSpeedInGame', 'Nutrition VS Performance')"
   ]
  },
  {
   "cell_type": "code",
   "execution_count": 37,
   "metadata": {},
   "outputs": [
    {
     "data": {
      "image/png": "[encoded data removed]",
      "text/plain": [
       "<Figure size 432x288 with 1 Axes>"
      ]
     },
     "metadata": {
      "needs_background": "light"
     },
     "output_type": "display_data"
    }
   ],
   "source": [
    "scatter_plot(merged_df, 'AcuteChronicRatio', 'wellness', 'AcuteChronicRatio VS wellness')"
   ]
  },
  {
   "cell_type": "markdown",
   "metadata": {},
   "source": [
    "We see that there are no clear patterns when we are looking at the repeated measures data. Maybe we will get something out of using a mixed models regression."
   ]
  },
  {
   "cell_type": "markdown",
   "metadata": {},
   "source": [
    "### Regressions Of Wellness and Load on Performance"
   ]
  },
  {
   "cell_type": "code",
   "execution_count": 38,
   "metadata": {},
   "outputs": [],
   "source": [
    "import statsmodels.api as sm\n",
    "import statsmodels.formula.api as smf\n",
    "from statsmodels.tools.eval_measures import aic\n",
    "from statsmodels.graphics.gofplots import qqplot"
   ]
  },
  {
   "cell_type": "markdown",
   "metadata": {},
   "source": [
    "#### Mixel Linear Models"
   ]
  },
  {
   "cell_type": "markdown",
   "metadata": {},
   "source": [
    "We want to first model the relationship between Load and Wellness vs performance using a mixed linear model. This is because our data includes repreated measurements for each player over many games. In this case, the random effect will be the player id such that we group the measurements by player. We will be using random intercepts but not random slopes. This means we allow each player to have a random intercept, or random base level of performance, but each player should share the same slopes for each predictor. In this way, we allow the model to adjust to the base performance level of each player but we find relationships between the predicors and the response that are generalizable across the entire team."
   ]
  },
  {
   "cell_type": "code",
   "execution_count": 39,
   "metadata": {},
   "outputs": [],
   "source": [
    "merged_df['SquaredAcuteChronicRatio'] = merged_df['AcuteChronicRatio'] ** 2\n",
    "merged_df['CubedAcuteChronicRatio'] = merged_df['AcuteChronicRatio'] ** 3"
   ]
  },
  {
   "cell_type": "code",
   "execution_count": 78,
   "metadata": {},
   "outputs": [
    {
     "name": "stdout",
     "output_type": "stream",
     "text": [
      "               Mixed Linear Model Regression Results\n",
      "===================================================================\n",
      "Model:               MixedLM   Dependent Variable:   MaxSpeedInGame\n",
      "No. Observations:    415       Method:               REML          \n",
      "No. Groups:          17        Scale:                0.3789        \n",
      "Min. group size:     4         Likelihood:           -421.6478     \n",
      "Max. group size:     38        Converged:            Yes           \n",
      "Mean group size:     24.4                                          \n",
      "-------------------------------------------------------------------\n",
      "                         Coef.  Std.Err.   z    P>|z| [0.025 0.975]\n",
      "-------------------------------------------------------------------\n",
      "Intercept                 7.485    0.628 11.919 0.000  6.254  8.716\n",
      "AcuteChronicRatio        -0.450    0.395 -1.141 0.254 -1.223  0.323\n",
      "SquaredAcuteChronicRatio  0.206    0.242  0.850 0.395 -0.269  0.681\n",
      "MonitoringScore          -0.015    0.010 -1.452 0.146 -0.035  0.005\n",
      "SleepHours                0.016    0.038  0.419 0.675 -0.058  0.089\n",
      "TrainingReadiness        -0.001    0.002 -0.485 0.628 -0.006  0.003\n",
      "Pain                     -0.203    0.111 -1.826 0.068 -0.422  0.015\n",
      "Illness                  -0.149    0.139 -1.070 0.285 -0.421  0.124\n",
      "Nutrition                 0.196    0.090  2.172 0.030  0.019  0.372\n",
      "Menstruation             -0.005    0.111 -0.045 0.964 -0.223  0.213\n",
      "Group Var                 0.160    0.109                           \n",
      "===================================================================\n",
      "\n"
     ]
    }
   ],
   "source": [
    "mixed_mod = smf.mixedlm(\"MaxSpeedInGame ~ AcuteChronicRatio + SquaredAcuteChronicRatio + MonitoringScore + SleepHours + TrainingReadiness + Pain + Illness + Nutrition + Menstruation\", merged_df, groups=merged_df['PlayerID'])\n",
    "mixed_res = mixed_mod.fit()\n",
    "print(mixed_res.summary())"
   ]
  },
  {
   "cell_type": "code",
   "execution_count": 79,
   "metadata": {},
   "outputs": [
    {
     "data": {
      "text/plain": [
       "861.2955213758428"
      ]
     },
     "execution_count": 79,
     "metadata": {},
     "output_type": "execute_result"
    }
   ],
   "source": [
    "aic1 = aic(mixed_res.llf, 415, 9)\n",
    "aic1\n"
   ]
  },
  {
   "cell_type": "markdown",
   "metadata": {},
   "source": [
    "We can use this AIC measure as a baseline for comparing this model to the models below. Given that p-values for mixed linear models aee unreliable, we will use AIC as our metric for model selection. We want to removed uninformative features such that it makes the AIC of the model lower. In doing so, we hope to find a model that gives us some insights into the relationship between a subset of these predictors and the performance of players."
   ]
  },
  {
   "cell_type": "markdown",
   "metadata": {},
   "source": [
    "We see that even though we are modeling the realationship between load and perfromance non-linearly, we see that the 95% confidence interval for the load terms contains positive and negative values including 0. Furthermore, the standard error of the estimates for the coefficients are similar in magnitude to the estimates themselves, meaning the true value could be far from the estimate given. Thus, we cannot make any conclusions about relationship between performance and load given this model. This is not what we expected but makes sense based on our data as we found no clear patterns in the relationship between load and performance in the scatter plots above. Thus, we should remove the load terms from the model and see if we can find any stronger relationships for some of the wellness predictors."
   ]
  },
  {
   "cell_type": "markdown",
   "metadata": {},
   "source": [
    "We are tempted to expand the monitoring score into the predictors that make it up, but as we say in the wellness exploratory notebook, these predictors are all correlated with eachother, so they cannot be predictors in a model."
   ]
  },
  {
   "cell_type": "markdown",
   "metadata": {},
   "source": [
    "Thus, we will remove the load values and see what the resulting model looks like."
   ]
  },
  {
   "cell_type": "code",
   "execution_count": 42,
   "metadata": {},
   "outputs": [
    {
     "name": "stdout",
     "output_type": "stream",
     "text": [
      "           Mixed Linear Model Regression Results\n",
      "============================================================\n",
      "Model:            MixedLM Dependent Variable: MaxSpeedInGame\n",
      "No. Observations: 415     Method:             REML          \n",
      "No. Groups:       17      Scale:              0.3774        \n",
      "Min. group size:  4       Likelihood:         -419.6318     \n",
      "Max. group size:  38      Converged:          Yes           \n",
      "Mean group size:  24.4                                      \n",
      "------------------------------------------------------------\n",
      "                  Coef.  Std.Err.   z    P>|z| [0.025 0.975]\n",
      "------------------------------------------------------------\n",
      "Intercept          7.240    0.592 12.228 0.000  6.079  8.400\n",
      "MonitoringScore   -0.015    0.010 -1.521 0.128 -0.035  0.004\n",
      "SleepHours         0.017    0.037  0.453 0.650 -0.056  0.090\n",
      "TrainingReadiness -0.001    0.002 -0.354 0.724 -0.005  0.004\n",
      "Pain              -0.186    0.111 -1.685 0.092 -0.403  0.030\n",
      "Illness           -0.137    0.138 -0.991 0.321 -0.408  0.134\n",
      "Nutrition          0.185    0.090  2.055 0.040  0.009  0.360\n",
      "Group Var          0.167    0.114                           \n",
      "============================================================\n",
      "\n"
     ]
    }
   ],
   "source": [
    "mixed_mod = smf.mixedlm(\"MaxSpeedInGame ~ MonitoringScore + SleepHours + TrainingReadiness + Pain + Illness + Nutrition \", merged_df, groups=merged_df['PlayerID'])\n",
    "mixed_res = mixed_mod.fit()\n",
    "print(mixed_res.summary())\n"
   ]
  },
  {
   "cell_type": "code",
   "execution_count": 43,
   "metadata": {},
   "outputs": [
    {
     "data": {
      "text/plain": [
       "853.2635694089286"
      ]
     },
     "execution_count": 43,
     "metadata": {},
     "output_type": "execute_result"
    }
   ],
   "source": [
    "aic2 = aic(mixed_res.llf, 415, 7)\n",
    "aic2"
   ]
  },
  {
   "cell_type": "code",
   "execution_count": 44,
   "metadata": {},
   "outputs": [
    {
     "data": {
      "text/plain": [
       "0.06453537268008973"
      ]
     },
     "execution_count": 44,
     "metadata": {},
     "output_type": "execute_result"
    }
   ],
   "source": [
    "np.exp((min([aic1, aic2]) - max([aic1, aic2])) / 2)"
   ]
  },
  {
   "cell_type": "markdown",
   "metadata": {},
   "source": [
    "The AIC for this model is less than that of the first model, suggesting that this model loses less information from the process that generated the data compared to the first model, which is to say it is a better model of the data. In fact, the first model is only about `0.135` time as likely to minimize the information lost as the second model. Furthermore, it appears that sleep hours and training readiness do not have an effect on performance given their point estimates are close to 0 and their standard errors are small compared to the scale of the response. Thus we can remove these predictors from the model."
   ]
  },
  {
   "cell_type": "code",
   "execution_count": 45,
   "metadata": {},
   "outputs": [
    {
     "name": "stdout",
     "output_type": "stream",
     "text": [
      "           Mixed Linear Model Regression Results\n",
      "============================================================\n",
      "Model:            MixedLM Dependent Variable: MaxSpeedInGame\n",
      "No. Observations: 415     Method:             REML          \n",
      "No. Groups:       17      Scale:              0.3759        \n",
      "Min. group size:  4       Likelihood:         -412.2451     \n",
      "Max. group size:  38      Converged:          Yes           \n",
      "Mean group size:  24.4                                      \n",
      "------------------------------------------------------------\n",
      "                  Coef.  Std.Err.   z    P>|z| [0.025 0.975]\n",
      "------------------------------------------------------------\n",
      "Intercept          7.320    0.509 14.393 0.000  6.323  8.317\n",
      "MonitoringScore   -0.014    0.009 -1.542 0.123 -0.033  0.004\n",
      "Pain              -0.186    0.109 -1.713 0.087 -0.399  0.027\n",
      "Illness           -0.144    0.138 -1.042 0.297 -0.414  0.126\n",
      "Nutrition          0.183    0.090  2.048 0.041  0.008  0.359\n",
      "Group Var          0.166    0.112                           \n",
      "============================================================\n",
      "\n"
     ]
    }
   ],
   "source": [
    "mixed_mod = smf.mixedlm(\"MaxSpeedInGame ~ MonitoringScore + Pain + Illness + Nutrition \", merged_df, groups=merged_df['PlayerID'])\n",
    "mixed_res = mixed_mod.fit()\n",
    "print(mixed_res.summary())"
   ]
  },
  {
   "cell_type": "code",
   "execution_count": 46,
   "metadata": {},
   "outputs": [
    {
     "data": {
      "text/plain": [
       "834.4902532250703"
      ]
     },
     "execution_count": 46,
     "metadata": {},
     "output_type": "execute_result"
    }
   ],
   "source": [
    "aic3 = aic(mixed_res.llf, 415, 5)\n",
    "aic3\n"
   ]
  },
  {
   "cell_type": "code",
   "execution_count": 47,
   "metadata": {},
   "outputs": [
    {
     "data": {
      "text/plain": [
       "8.383515799939449e-05"
      ]
     },
     "execution_count": 47,
     "metadata": {},
     "output_type": "execute_result"
    }
   ],
   "source": [
    "np.exp((aic3 - aic2) / 2)"
   ]
  },
  {
   "cell_type": "markdown",
   "metadata": {},
   "source": [
    "We see that after removing, sleep hours and training readiness, we get another model with an even lower AIC. Compared to this new model, the second model is only about `0.135` times as likely to lose less information. Looking at the coefficient estimate for the monitoring score, we see that its point estimate is close to 0 and it's standard error is small, which means it is likely to be 0 or that the effect size of the relationship to perforamnce is very small. Thus, we could remove monitoring score from the model."
   ]
  },
  {
   "cell_type": "code",
   "execution_count": 48,
   "metadata": {},
   "outputs": [
    {
     "name": "stdout",
     "output_type": "stream",
     "text": [
      "           Mixed Linear Model Regression Results\n",
      "============================================================\n",
      "Model:            MixedLM Dependent Variable: MaxSpeedInGame\n",
      "No. Observations: 415     Method:             REML          \n",
      "No. Groups:       17      Scale:              0.3769        \n",
      "Min. group size:  4       Likelihood:         -409.6773     \n",
      "Max. group size:  38      Converged:          Yes           \n",
      "Mean group size:  24.4                                      \n",
      "------------------------------------------------------------\n",
      "                  Coef.  Std.Err.   z    P>|z| [0.025 0.975]\n",
      "------------------------------------------------------------\n",
      "Intercept          7.066    0.482 14.656 0.000  6.121  8.011\n",
      "C(Pain)[T.1.0]    -0.213    0.107 -1.979 0.048 -0.423 -0.002\n",
      "Illness           -0.134    0.138 -0.975 0.329 -0.405  0.136\n",
      "Nutrition          0.172    0.090  1.927 0.054 -0.003  0.348\n",
      "Group Var          0.170    0.113                           \n",
      "============================================================\n",
      "\n"
     ]
    }
   ],
   "source": [
    "mixed_mod = smf.mixedlm(\"MaxSpeedInGame ~ C(Pain) + Illness + Nutrition\", merged_df, groups=merged_df['PlayerID'])\n",
    "mixed_res = mixed_mod.fit()\n",
    "print(mixed_res.summary())"
   ]
  },
  {
   "cell_type": "code",
   "execution_count": 49,
   "metadata": {},
   "outputs": [
    {
     "data": {
      "text/plain": [
       "827.354679177794"
      ]
     },
     "execution_count": 49,
     "metadata": {},
     "output_type": "execute_result"
    }
   ],
   "source": [
    "aic4 = aic(mixed_res.llf, 415, 4)\n",
    "aic4"
   ]
  },
  {
   "cell_type": "code",
   "execution_count": 50,
   "metadata": {},
   "outputs": [
    {
     "data": {
      "text/plain": [
       "0.02821823091315604"
      ]
     },
     "execution_count": 50,
     "metadata": {},
     "output_type": "execute_result"
    }
   ],
   "source": [
    "np.exp((aic4 - aic3) / 2)"
   ]
  },
  {
   "cell_type": "markdown",
   "metadata": {},
   "source": [
    "We see that after removing the monitoring score, our model's AIC drops slightly. In fact, the previous model with the monitoring score is `0.368` times as likly to to minimize the information loss compared to this model. Thus, we can conlude this new model is the best fit to the data we have trained so far."
   ]
  },
  {
   "cell_type": "markdown",
   "metadata": {},
   "source": [
    "The point estimate for illness is about the same magnitude as the standard error so we cannot make any conclusions about its effect. It is entirely possible that this coefficient is actually 0 instead of negative. Thus, we could improve the model by removing it."
   ]
  },
  {
   "cell_type": "code",
   "execution_count": 51,
   "metadata": {},
   "outputs": [
    {
     "name": "stdout",
     "output_type": "stream",
     "text": [
      "           Mixed Linear Model Regression Results\n",
      "============================================================\n",
      "Model:            MixedLM Dependent Variable: MaxSpeedInGame\n",
      "No. Observations: 415     Method:             REML          \n",
      "No. Groups:       17      Scale:              0.3763        \n",
      "Min. group size:  4       Likelihood:         -409.0833     \n",
      "Max. group size:  38      Converged:          Yes           \n",
      "Mean group size:  24.4                                      \n",
      "------------------------------------------------------------\n",
      "                  Coef.  Std.Err.   z    P>|z| [0.025 0.975]\n",
      "------------------------------------------------------------\n",
      "Intercept          6.675    0.268 24.882 0.000  6.149  7.201\n",
      "C(Pain)[T.1.0]    -0.215    0.107 -2.005 0.045 -0.426 -0.005\n",
      "Nutrition          0.172    0.090  1.919 0.055 -0.004  0.348\n",
      "Group Var          0.178    0.118                           \n",
      "============================================================\n",
      "\n"
     ]
    }
   ],
   "source": [
    "mixed_mod = smf.mixedlm(\"MaxSpeedInGame ~ C(Pain) + Nutrition\", merged_df, groups=merged_df['PlayerID'])\n",
    "mixed_res = mixed_mod.fit()\n",
    "print(mixed_res.summary())"
   ]
  },
  {
   "cell_type": "code",
   "execution_count": 52,
   "metadata": {},
   "outputs": [
    {
     "data": {
      "text/plain": [
       "824.1665900582411"
      ]
     },
     "execution_count": 52,
     "metadata": {},
     "output_type": "execute_result"
    }
   ],
   "source": [
    "aic5 = aic(mixed_res.llf, 415, 3)\n",
    "aic5"
   ]
  },
  {
   "cell_type": "code",
   "execution_count": 53,
   "metadata": {},
   "outputs": [
    {
     "data": {
      "text/plain": [
       "0.20310248811603593"
      ]
     },
     "execution_count": 53,
     "metadata": {},
     "output_type": "execute_result"
    }
   ],
   "source": [
    "np.exp((aic5 - aic4) / 2)"
   ]
  },
  {
   "cell_type": "markdown",
   "metadata": {},
   "source": [
    "We see that removing illness from the model improves the AIC value. However, the improvement is the smallest yet as the 4th model is about `0.2` times as likely to actually minimize the information lost as the 5th model. Since the 5th model has the lowest AIC, we can say it is the best model for the data and thus, we can use it to interpret the relationship between performance and our significant measures of wellness: pain and nutrition."
   ]
  },
  {
   "cell_type": "markdown",
   "metadata": {},
   "source": [
    "It seems like this model is a good fit to the data. To verify this, we can fit another kind of model that accepted repreated measures called a generalized estimating equation (GEE) model. GEE models require that we provide the structure of the covariance between groups. We will use the Exchangeable covariance structure which assumes the measurements in a given group are correlated in the same way. In our case, that is to say the measurements for each player are correlated in the same way which makes sense. In fact, GEE with exchangeable correlation structure is annalogus to a mixed model with random intercepts, however, GEE uses a different algorithm to estimate the value of the parameters. Some research indicates that GEE is actually better than mixed models, for example, in [this paper](https://www.ncbi.nlm.nih.gov/pubmed/20220526), Hubbard et. al. aruge that: \"in general that mixed models involve unverifiable assumptions on the data-generating distribution, which lead to potentially misleading estimates and biased inference. We conclude that the estimation-equation approach of population average models provides a more useful approximation of the truth.\""
   ]
  },
  {
   "cell_type": "markdown",
   "metadata": {},
   "source": [
    "For example, in [this article](https://healthsci.mcmaster.ca/docs/librariesprovider8/research/methodology/study-design-and-methodological-issues/statistical-analysis-of-correlated-data-using-generalized-estimating-equations--an-orientation.pdf?sfvrsn=4b1c0d3b_4), Hanley et. al. describe how GEE uses a quasi-liklihood approach and uses weighted combinations of observations to extract the appropriate amount of information from correlated data. If we get similar conclusions from this alternative measure of analysing correlated data, it will add more support to our conclusions.\n"
   ]
  },
  {
   "cell_type": "markdown",
   "metadata": {},
   "source": [
    "Thus, if we find that the GEE model has similar coefficient estimates to the mixed model, this adds evidence that those coefficients are representative of the actual relationships in the data."
   ]
  },
  {
   "cell_type": "code",
   "execution_count": 54,
   "metadata": {},
   "outputs": [
    {
     "name": "stdout",
     "output_type": "stream",
     "text": [
      "                               GEE Regression Results                              \n",
      "===================================================================================\n",
      "Dep. Variable:              MaxSpeedInGame   No. Observations:                  415\n",
      "Model:                                 GEE   No. clusters:                       17\n",
      "Method:                        Generalized   Min. cluster size:                   4\n",
      "                      Estimating Equations   Max. cluster size:                  38\n",
      "Family:                           Gaussian   Mean cluster size:                24.4\n",
      "Dependence structure:         Exchangeable   Num. iterations:                     7\n",
      "Date:                     Tue, 10 Dec 2019   Scale:                           0.535\n",
      "Covariance type:                    robust   Time:                         14:32:27\n",
      "==================================================================================\n",
      "                     coef    std err          z      P>|z|      [0.025      0.975]\n",
      "----------------------------------------------------------------------------------\n",
      "Intercept          6.6773      0.266     25.129      0.000       6.156       7.198\n",
      "C(Pain)[T.1.0]    -0.2255      0.112     -2.018      0.044      -0.445      -0.006\n",
      "Nutrition          0.1759      0.099      1.779      0.075      -0.018       0.370\n",
      "==============================================================================\n",
      "Skew:                         -0.2059   Kurtosis:                      -0.4449\n",
      "Centered skew:                -0.3402   Centered kurtosis:             -0.2644\n",
      "==============================================================================\n"
     ]
    }
   ],
   "source": [
    "fam = sm.families.Gaussian()\n",
    "ind = sm.cov_struct.Exchangeable()\n",
    "mod = smf.gee(\"MaxSpeedInGame ~ C(Pain) + Nutrition\", \"PlayerID\", merged_df, cov_struct=ind, family=fam)\n",
    "res = mod.fit()\n",
    "print(res.summary())"
   ]
  },
  {
   "cell_type": "markdown",
   "metadata": {},
   "source": [
    "We see that the coefficients of the GEE model are in fact similar to those of the mixed model."
   ]
  },
  {
   "cell_type": "markdown",
   "metadata": {},
   "source": [
    "#### Test Model Fit"
   ]
  },
  {
   "cell_type": "markdown",
   "metadata": {},
   "source": [
    "Before interpreting the coefficients, we should check our assumption that the model is a good fit to the data. We can do this by first doing a QQ plot to ensure that the residuals of the model are uniformly distributed."
   ]
  },
  {
   "cell_type": "markdown",
   "metadata": {},
   "source": [
    "##### QQ Plot for Mixed Model"
   ]
  },
  {
   "cell_type": "code",
   "execution_count": 55,
   "metadata": {},
   "outputs": [
    {
     "data": {
      "image/png": "[encoded data removed]",
      "text/plain": [
       "<Figure size 432x288 with 1 Axes>"
      ]
     },
     "metadata": {
      "needs_background": "light"
     },
     "output_type": "display_data"
    }
   ],
   "source": [
    "qqplot(mixed_res.resid, line='s')\n",
    "plt.title('QQ Plot for Mixed Model')\n",
    "plt.show()"
   ]
  },
  {
   "cell_type": "markdown",
   "metadata": {},
   "source": [
    "##### QQ Plot for GEE Model"
   ]
  },
  {
   "cell_type": "code",
   "execution_count": 56,
   "metadata": {},
   "outputs": [
    {
     "data": {
      "image/png": "[encoded data removed]",
      "text/plain": [
       "<Figure size 432x288 with 1 Axes>"
      ]
     },
     "metadata": {
      "needs_background": "light"
     },
     "output_type": "display_data"
    }
   ],
   "source": [
    "qqplot(res.resid, line='s')\n",
    "plt.title('QQ Plot for GEE Model')\n",
    "plt.show()"
   ]
  },
  {
   "cell_type": "markdown",
   "metadata": {},
   "source": [
    "We see that, for the most part, the QQ plot is a straight line which means the residuals are normally distributed. For both models, there is a slight deviations from the line for large positive residuals, wherein the GEE model is closer to normally distributed than the mixed model. However, this deviation is minute and both models have similar coefficients so we conlcude that they are both good fits to the data and we can interpret the coefficients of either model to infer the relationship between the predictors and the response."
   ]
  },
  {
   "cell_type": "markdown",
   "metadata": {},
   "source": [
    "We can also plot the  standardized residuals versus the predictors to ensure that there are no patterns in the residuals with respect to any of the predictors."
   ]
  },
  {
   "cell_type": "code",
   "execution_count": 57,
   "metadata": {},
   "outputs": [],
   "source": [
    "def plot_residuals_for_model(m):\n",
    "\n",
    "    residuals = merged_df[['Pain', 'Nutrition']]\n",
    "    residuals['Residual'] = (m.resid - m.resid.mean()) / m.resid.std()\n",
    "\n",
    "    plt.subplot(1, 2, 1)\n",
    "    scatter_plot(residuals, 'Pain', 'Residual', 'Residuals vs Pain', hold_plot=True)\n",
    "    plt.subplot(1, 2, 2)\n",
    "    scatter_plot(residuals, 'Nutrition', 'Residual', 'Residuals vs Nutrition', hold_plot=True)\n",
    "    plt.tight_layout()\n",
    "    plt.show()\n"
   ]
  },
  {
   "cell_type": "markdown",
   "metadata": {},
   "source": [
    "##### Mixed Model Standardized Residuals"
   ]
  },
  {
   "cell_type": "code",
   "execution_count": 58,
   "metadata": {},
   "outputs": [
    {
     "data": {
      "image/png": "[encoded data removed]",
      "text/plain": [
       "<Figure size 432x288 with 2 Axes>"
      ]
     },
     "metadata": {
      "needs_background": "light"
     },
     "output_type": "display_data"
    }
   ],
   "source": [
    "plot_residuals_for_model(mixed_res)\n"
   ]
  },
  {
   "cell_type": "markdown",
   "metadata": {},
   "source": [
    "##### GEE Standardized Residuals"
   ]
  },
  {
   "cell_type": "code",
   "execution_count": 59,
   "metadata": {},
   "outputs": [
    {
     "data": {
      "image/png": "[encoded data removed]",
      "text/plain": [
       "<Figure size 432x288 with 2 Axes>"
      ]
     },
     "metadata": {
      "needs_background": "light"
     },
     "output_type": "display_data"
    }
   ],
   "source": [
    "plot_residuals_for_model(res)\n"
   ]
  },
  {
   "cell_type": "markdown",
   "metadata": {},
   "source": [
    "We see that there is no pattern in the residauls for either predictor which, taken with the QQ plots is solid evidence that both models are good fits to the data. We can see from the residual plot for Pain that there are more samples in the training set with pain set to 1 over 0. This means more players played without pain than played with pain. This imbalance could explain the unexpected result we got in the model. This will be further explored in the coefficient interpretation section below."
   ]
  },
  {
   "cell_type": "markdown",
   "metadata": {},
   "source": [
    "#### Coefficient Interpretation"
   ]
  },
  {
   "cell_type": "markdown",
   "metadata": {},
   "source": [
    "Before interpreting the coefficients, we should review the variance of performance data so we can contextualize the effect sizes of the relationships between the effects and the responses."
   ]
  },
  {
   "cell_type": "code",
   "execution_count": 60,
   "metadata": {},
   "outputs": [
    {
     "data": {
      "text/plain": [
       "0.7460984551489096"
      ]
     },
     "execution_count": 60,
     "metadata": {},
     "output_type": "execute_result"
    }
   ],
   "source": [
    "merged_df['MaxSpeedInGame'].std()"
   ]
  },
  {
   "cell_type": "markdown",
   "metadata": {},
   "source": [
    "We see that the standard deviation of the performance metric is about `0.75`."
   ]
  },
  {
   "cell_type": "markdown",
   "metadata": {},
   "source": [
    "##### Pain"
   ]
  },
  {
   "cell_type": "markdown",
   "metadata": {},
   "source": [
    "Looking at the coefficients of our model above, we see moderatly strong evidence that Pain has a negative relationship to performance. The standard error of this estimate is about half of the point estimate itself. Recalling how we coded pain, this is interesting because pain equal to 1 refers to not being in pain. Thus, better wellness with respect to pain is leading to worse performance."
   ]
  },
  {
   "cell_type": "code",
   "execution_count": 61,
   "metadata": {},
   "outputs": [
    {
     "data": {
      "text/html": [
       "<div>\n",
       "<style scoped>\n",
       "    .dataframe tbody tr th:only-of-type {\n",
       "        vertical-align: middle;\n",
       "    }\n",
       "\n",
       "    .dataframe tbody tr th {\n",
       "        vertical-align: top;\n",
       "    }\n",
       "\n",
       "    .dataframe thead th {\n",
       "        text-align: right;\n",
       "    }\n",
       "</style>\n",
       "<table border=\"1\" class=\"dataframe\">\n",
       "  <thead>\n",
       "    <tr style=\"text-align: right;\">\n",
       "      <th></th>\n",
       "      <th>PlayerID</th>\n",
       "      <th>AverageMaxSpeedInGame</th>\n",
       "      <th>ProbabilityOfPlayingNotInPain</th>\n",
       "      <th>GamesPlayedInPain</th>\n",
       "    </tr>\n",
       "  </thead>\n",
       "  <tbody>\n",
       "    <tr>\n",
       "      <th>0</th>\n",
       "      <td>1</td>\n",
       "      <td>7.683961</td>\n",
       "      <td>0.964286</td>\n",
       "      <td>1</td>\n",
       "    </tr>\n",
       "    <tr>\n",
       "      <th>1</th>\n",
       "      <td>2</td>\n",
       "      <td>6.902797</td>\n",
       "      <td>0.685714</td>\n",
       "      <td>11</td>\n",
       "    </tr>\n",
       "    <tr>\n",
       "      <th>2</th>\n",
       "      <td>3</td>\n",
       "      <td>7.230131</td>\n",
       "      <td>1.000000</td>\n",
       "      <td>0</td>\n",
       "    </tr>\n",
       "    <tr>\n",
       "      <th>3</th>\n",
       "      <td>4</td>\n",
       "      <td>6.799333</td>\n",
       "      <td>1.000000</td>\n",
       "      <td>0</td>\n",
       "    </tr>\n",
       "    <tr>\n",
       "      <th>4</th>\n",
       "      <td>5</td>\n",
       "      <td>7.721914</td>\n",
       "      <td>0.714286</td>\n",
       "      <td>8</td>\n",
       "    </tr>\n",
       "    <tr>\n",
       "      <th>5</th>\n",
       "      <td>6</td>\n",
       "      <td>6.511335</td>\n",
       "      <td>1.000000</td>\n",
       "      <td>0</td>\n",
       "    </tr>\n",
       "    <tr>\n",
       "      <th>6</th>\n",
       "      <td>7</td>\n",
       "      <td>7.383135</td>\n",
       "      <td>0.812500</td>\n",
       "      <td>6</td>\n",
       "    </tr>\n",
       "    <tr>\n",
       "      <th>7</th>\n",
       "      <td>8</td>\n",
       "      <td>7.159093</td>\n",
       "      <td>0.818182</td>\n",
       "      <td>6</td>\n",
       "    </tr>\n",
       "    <tr>\n",
       "      <th>8</th>\n",
       "      <td>9</td>\n",
       "      <td>6.931128</td>\n",
       "      <td>1.000000</td>\n",
       "      <td>0</td>\n",
       "    </tr>\n",
       "    <tr>\n",
       "      <th>9</th>\n",
       "      <td>10</td>\n",
       "      <td>7.614805</td>\n",
       "      <td>0.384615</td>\n",
       "      <td>16</td>\n",
       "    </tr>\n",
       "    <tr>\n",
       "      <th>10</th>\n",
       "      <td>11</td>\n",
       "      <td>6.920157</td>\n",
       "      <td>1.000000</td>\n",
       "      <td>0</td>\n",
       "    </tr>\n",
       "    <tr>\n",
       "      <th>11</th>\n",
       "      <td>12</td>\n",
       "      <td>6.271713</td>\n",
       "      <td>1.000000</td>\n",
       "      <td>0</td>\n",
       "    </tr>\n",
       "    <tr>\n",
       "      <th>12</th>\n",
       "      <td>13</td>\n",
       "      <td>6.737886</td>\n",
       "      <td>1.000000</td>\n",
       "      <td>0</td>\n",
       "    </tr>\n",
       "    <tr>\n",
       "      <th>13</th>\n",
       "      <td>14</td>\n",
       "      <td>6.627116</td>\n",
       "      <td>1.000000</td>\n",
       "      <td>0</td>\n",
       "    </tr>\n",
       "    <tr>\n",
       "      <th>14</th>\n",
       "      <td>15</td>\n",
       "      <td>6.434150</td>\n",
       "      <td>1.000000</td>\n",
       "      <td>0</td>\n",
       "    </tr>\n",
       "    <tr>\n",
       "      <th>15</th>\n",
       "      <td>16</td>\n",
       "      <td>6.466877</td>\n",
       "      <td>0.875000</td>\n",
       "      <td>3</td>\n",
       "    </tr>\n",
       "    <tr>\n",
       "      <th>16</th>\n",
       "      <td>17</td>\n",
       "      <td>6.250989</td>\n",
       "      <td>1.000000</td>\n",
       "      <td>0</td>\n",
       "    </tr>\n",
       "  </tbody>\n",
       "</table>\n",
       "</div>"
      ],
      "text/plain": [
       "    PlayerID  AverageMaxSpeedInGame  ProbabilityOfPlayingNotInPain  \\\n",
       "0          1               7.683961                       0.964286   \n",
       "1          2               6.902797                       0.685714   \n",
       "2          3               7.230131                       1.000000   \n",
       "3          4               6.799333                       1.000000   \n",
       "4          5               7.721914                       0.714286   \n",
       "5          6               6.511335                       1.000000   \n",
       "6          7               7.383135                       0.812500   \n",
       "7          8               7.159093                       0.818182   \n",
       "8          9               6.931128                       1.000000   \n",
       "9         10               7.614805                       0.384615   \n",
       "10        11               6.920157                       1.000000   \n",
       "11        12               6.271713                       1.000000   \n",
       "12        13               6.737886                       1.000000   \n",
       "13        14               6.627116                       1.000000   \n",
       "14        15               6.434150                       1.000000   \n",
       "15        16               6.466877                       0.875000   \n",
       "16        17               6.250989                       1.000000   \n",
       "\n",
       "    GamesPlayedInPain  \n",
       "0                   1  \n",
       "1                  11  \n",
       "2                   0  \n",
       "3                   0  \n",
       "4                   8  \n",
       "5                   0  \n",
       "6                   6  \n",
       "7                   6  \n",
       "8                   0  \n",
       "9                  16  \n",
       "10                  0  \n",
       "11                  0  \n",
       "12                  0  \n",
       "13                  0  \n",
       "14                  0  \n",
       "15                  3  \n",
       "16                  0  "
      ]
     },
     "execution_count": 61,
     "metadata": {},
     "output_type": "execute_result"
    }
   ],
   "source": [
    "def find_games_played_in_pain(row):\n",
    "    games = merged_df[merged_df['PlayerID'] == row['PlayerID']]\n",
    "    return len(games[games['Pain'] == 0])\n",
    "\n",
    "averaged_df = merged_df.copy()[['PlayerID', 'MaxSpeedInGame', 'Pain']].groupby('PlayerID').mean().reset_index()\n",
    "averaged_df.columns = ['PlayerID', 'AverageMaxSpeedInGame', 'ProbabilityOfPlayingNotInPain']\n",
    "averaged_df['GamesPlayedInPain'] =  averaged_df.apply(find_games_played_in_pain, axis=1)\n",
    "averaged_df"
   ]
  },
  {
   "cell_type": "markdown",
   "metadata": {},
   "source": [
    "We see that the games played in pain come from a subset of players (2, 5, 7, 8, and 10). These players tended to play a substantial amount of there games in pain and they also tend to be higher performing players on average. In the extreme case, player 10 played most of their games in pain and is one of the fastest players on the team."
   ]
  },
  {
   "cell_type": "markdown",
   "metadata": {},
   "source": [
    "There are many possible reasons for this imbalance. Some players might have different definitions of sickness. For example, player 10 might have a more liberal view of pain and marks themselves as in pain often while a player like player 12, who was never in pain while playing, might have a very strict view of pain and must be very hurt to mark themselve as in pain. Alternatively, some players might not be as affected by being in pain and encouraged to play while in pain, while other players who are affected by being in pain are not played while they are hurt."
   ]
  },
  {
   "cell_type": "markdown",
   "metadata": {},
   "source": [
    "This example highlights the selection bias in our dataset. There were some choices that went into which players played a given game so we cannot see the true effect of load and wellness on performance. In other words, we might not see performance issues due to poor wellness because we do not have performance data for istances where wellness was low, since a player with low wellness might not be played. Had we done an controlled experienment where we vary different factors of load and wellness and measure subsequent perforamnce, we might be able to find stronger relationships between load, wellness, and performance."
   ]
  },
  {
   "cell_type": "markdown",
   "metadata": {},
   "source": [
    "Thus, our coefficient for pain is misleading as the pain data in imbalanced because the inevitable instances of poor performance while in pain are missing from the dataset."
   ]
  },
  {
   "cell_type": "markdown",
   "metadata": {},
   "source": [
    "##### Nutrition"
   ]
  },
  {
   "cell_type": "markdown",
   "metadata": {},
   "source": [
    "Recall that nutrition was coded as an ordinal variable with 3 levels where 1 represents poor nutrition, 2 represents okay nutrition, and 3 represents excellent nutrition. Both models suggest that the coefficient for this predictor is about 0.14 which means that if we go up a single level, say from poor to okay or from okay to excellent, we would see an associated rise in the max speed in a game of 0.14 m/s which seems like is a small effect."
   ]
  },
  {
   "cell_type": "markdown",
   "metadata": {},
   "source": [
    "To contextualize this effect, lets see what percentile the median player would be elevated to if their speed increased by 0.14m/s."
   ]
  },
  {
   "cell_type": "code",
   "execution_count": 62,
   "metadata": {},
   "outputs": [
    {
     "data": {
      "text/plain": [
       "7.018894504"
      ]
     },
     "execution_count": 62,
     "metadata": {},
     "output_type": "execute_result"
    }
   ],
   "source": [
    "median_speed = merged_df['MaxSpeedInGame'].median()\n",
    "median_speed"
   ]
  },
  {
   "cell_type": "code",
   "execution_count": 63,
   "metadata": {},
   "outputs": [
    {
     "data": {
      "text/plain": [
       "7.158894504"
      ]
     },
     "execution_count": 63,
     "metadata": {},
     "output_type": "execute_result"
    }
   ],
   "source": [
    "new_speed = median_speed + 0.14\n",
    "new_speed\n"
   ]
  },
  {
   "cell_type": "code",
   "execution_count": 64,
   "metadata": {},
   "outputs": [
    {
     "data": {
      "text/plain": [
       "7.15129460992"
      ]
     },
     "execution_count": 64,
     "metadata": {},
     "output_type": "execute_result"
    }
   ],
   "source": [
    "merged_df['MaxSpeedInGame'].quantile(0.56)"
   ]
  },
  {
   "cell_type": "markdown",
   "metadata": {},
   "source": [
    "We see that increasing the median player's speed by 0.14 m/s would move them from the 50th percentile to the 56th percentile while is a non-negligable yet small increase in performance."
   ]
  },
  {
   "cell_type": "markdown",
   "metadata": {},
   "source": [
    "### Conclusions"
   ]
  },
  {
   "cell_type": "markdown",
   "metadata": {},
   "source": [
    "The player's max speed in a game has a lot of variance in it and it is hard to model the relationship between wellness, load, and performance using the data we have. We did however find that better nutrition on the day of a game is directly related to increased performance during that game."
   ]
  },
  {
   "cell_type": "markdown",
   "metadata": {},
   "source": [
    "## Effect of Wellness On RPE"
   ]
  },
  {
   "cell_type": "markdown",
   "metadata": {},
   "source": [
    "Now that we have explored the relationships between load and wellness on performance, we want to explore the relationship between wellness and load independent of performance. We will continue to use the same wellness predictors as before, however, for load we will use RPE as the target. This is because we want to see how wellness affected the perceived intensity of workouts."
   ]
  },
  {
   "cell_type": "code",
   "execution_count": 65,
   "metadata": {},
   "outputs": [
    {
     "data": {
      "text/html": [
       "<div>\n",
       "<style scoped>\n",
       "    .dataframe tbody tr th:only-of-type {\n",
       "        vertical-align: middle;\n",
       "    }\n",
       "\n",
       "    .dataframe tbody tr th {\n",
       "        vertical-align: top;\n",
       "    }\n",
       "\n",
       "    .dataframe thead th {\n",
       "        text-align: right;\n",
       "    }\n",
       "</style>\n",
       "<table border=\"1\" class=\"dataframe\">\n",
       "  <thead>\n",
       "    <tr style=\"text-align: right;\">\n",
       "      <th></th>\n",
       "      <th>Date</th>\n",
       "      <th>PlayerID</th>\n",
       "      <th>MonitoringScore</th>\n",
       "      <th>Fatigue</th>\n",
       "      <th>Soreness</th>\n",
       "      <th>Desire</th>\n",
       "      <th>Irritability</th>\n",
       "      <th>SleepHours</th>\n",
       "      <th>SleepQuality</th>\n",
       "      <th>Menstruation</th>\n",
       "      <th>...</th>\n",
       "      <th>TrainingReadiness</th>\n",
       "      <th>StandardizedMonitoringScore</th>\n",
       "      <th>StandardizedPain</th>\n",
       "      <th>StandardizedIllness</th>\n",
       "      <th>StandardizedNutrition</th>\n",
       "      <th>StandardizedMenstruation</th>\n",
       "      <th>StandardizedTrainingReadiness</th>\n",
       "      <th>wellness</th>\n",
       "      <th>WellnessAffectedByLoad</th>\n",
       "      <th>RPE</th>\n",
       "    </tr>\n",
       "  </thead>\n",
       "  <tbody>\n",
       "    <tr>\n",
       "      <th>0</th>\n",
       "      <td>2017-11-30</td>\n",
       "      <td>1</td>\n",
       "      <td>16.0</td>\n",
       "      <td>2.0</td>\n",
       "      <td>3.0</td>\n",
       "      <td>2.0</td>\n",
       "      <td>3.0</td>\n",
       "      <td>9.00</td>\n",
       "      <td>6.0</td>\n",
       "      <td>1.0</td>\n",
       "      <td>...</td>\n",
       "      <td>80.0</td>\n",
       "      <td>-0.639228</td>\n",
       "      <td>0.363863</td>\n",
       "      <td>0.330081</td>\n",
       "      <td>0.718673</td>\n",
       "      <td>0.718673</td>\n",
       "      <td>0.407056</td>\n",
       "      <td>0.773389</td>\n",
       "      <td>1.180445</td>\n",
       "      <td>7.0</td>\n",
       "    </tr>\n",
       "    <tr>\n",
       "      <th>1</th>\n",
       "      <td>2017-11-30</td>\n",
       "      <td>1</td>\n",
       "      <td>16.0</td>\n",
       "      <td>2.0</td>\n",
       "      <td>3.0</td>\n",
       "      <td>2.0</td>\n",
       "      <td>3.0</td>\n",
       "      <td>9.00</td>\n",
       "      <td>6.0</td>\n",
       "      <td>1.0</td>\n",
       "      <td>...</td>\n",
       "      <td>80.0</td>\n",
       "      <td>-0.639228</td>\n",
       "      <td>0.363863</td>\n",
       "      <td>0.330081</td>\n",
       "      <td>0.718673</td>\n",
       "      <td>0.718673</td>\n",
       "      <td>0.407056</td>\n",
       "      <td>0.773389</td>\n",
       "      <td>1.180445</td>\n",
       "      <td>2.0</td>\n",
       "    </tr>\n",
       "    <tr>\n",
       "      <th>2</th>\n",
       "      <td>2017-11-30</td>\n",
       "      <td>1</td>\n",
       "      <td>16.0</td>\n",
       "      <td>2.0</td>\n",
       "      <td>3.0</td>\n",
       "      <td>2.0</td>\n",
       "      <td>3.0</td>\n",
       "      <td>9.00</td>\n",
       "      <td>6.0</td>\n",
       "      <td>1.0</td>\n",
       "      <td>...</td>\n",
       "      <td>80.0</td>\n",
       "      <td>-0.639228</td>\n",
       "      <td>0.363863</td>\n",
       "      <td>0.330081</td>\n",
       "      <td>0.718673</td>\n",
       "      <td>0.718673</td>\n",
       "      <td>0.407056</td>\n",
       "      <td>0.773389</td>\n",
       "      <td>1.180445</td>\n",
       "      <td>4.0</td>\n",
       "    </tr>\n",
       "    <tr>\n",
       "      <th>3</th>\n",
       "      <td>2017-11-30</td>\n",
       "      <td>2</td>\n",
       "      <td>22.0</td>\n",
       "      <td>4.0</td>\n",
       "      <td>4.0</td>\n",
       "      <td>5.0</td>\n",
       "      <td>4.0</td>\n",
       "      <td>8.75</td>\n",
       "      <td>5.0</td>\n",
       "      <td>1.0</td>\n",
       "      <td>...</td>\n",
       "      <td>0.0</td>\n",
       "      <td>0.980185</td>\n",
       "      <td>0.363863</td>\n",
       "      <td>0.330081</td>\n",
       "      <td>-1.188751</td>\n",
       "      <td>-1.188751</td>\n",
       "      <td>0.407056</td>\n",
       "      <td>0.485378</td>\n",
       "      <td>0.892433</td>\n",
       "      <td>1.0</td>\n",
       "    </tr>\n",
       "    <tr>\n",
       "      <th>4</th>\n",
       "      <td>2017-11-30</td>\n",
       "      <td>2</td>\n",
       "      <td>22.0</td>\n",
       "      <td>4.0</td>\n",
       "      <td>4.0</td>\n",
       "      <td>5.0</td>\n",
       "      <td>4.0</td>\n",
       "      <td>8.75</td>\n",
       "      <td>5.0</td>\n",
       "      <td>1.0</td>\n",
       "      <td>...</td>\n",
       "      <td>0.0</td>\n",
       "      <td>0.980185</td>\n",
       "      <td>0.363863</td>\n",
       "      <td>0.330081</td>\n",
       "      <td>-1.188751</td>\n",
       "      <td>-1.188751</td>\n",
       "      <td>0.407056</td>\n",
       "      <td>0.485378</td>\n",
       "      <td>0.892433</td>\n",
       "      <td>6.0</td>\n",
       "    </tr>\n",
       "  </tbody>\n",
       "</table>\n",
       "<p>5 rows × 23 columns</p>\n",
       "</div>"
      ],
      "text/plain": [
       "        Date  PlayerID  MonitoringScore  Fatigue  Soreness  Desire  \\\n",
       "0 2017-11-30         1             16.0      2.0       3.0     2.0   \n",
       "1 2017-11-30         1             16.0      2.0       3.0     2.0   \n",
       "2 2017-11-30         1             16.0      2.0       3.0     2.0   \n",
       "3 2017-11-30         2             22.0      4.0       4.0     5.0   \n",
       "4 2017-11-30         2             22.0      4.0       4.0     5.0   \n",
       "\n",
       "   Irritability  SleepHours  SleepQuality  Menstruation  ...  \\\n",
       "0           3.0        9.00           6.0           1.0  ...   \n",
       "1           3.0        9.00           6.0           1.0  ...   \n",
       "2           3.0        9.00           6.0           1.0  ...   \n",
       "3           4.0        8.75           5.0           1.0  ...   \n",
       "4           4.0        8.75           5.0           1.0  ...   \n",
       "\n",
       "   TrainingReadiness  StandardizedMonitoringScore  StandardizedPain  \\\n",
       "0               80.0                    -0.639228          0.363863   \n",
       "1               80.0                    -0.639228          0.363863   \n",
       "2               80.0                    -0.639228          0.363863   \n",
       "3                0.0                     0.980185          0.363863   \n",
       "4                0.0                     0.980185          0.363863   \n",
       "\n",
       "   StandardizedIllness  StandardizedNutrition  StandardizedMenstruation  \\\n",
       "0             0.330081               0.718673                  0.718673   \n",
       "1             0.330081               0.718673                  0.718673   \n",
       "2             0.330081               0.718673                  0.718673   \n",
       "3             0.330081              -1.188751                 -1.188751   \n",
       "4             0.330081              -1.188751                 -1.188751   \n",
       "\n",
       "   StandardizedTrainingReadiness  wellness  WellnessAffectedByLoad  RPE  \n",
       "0                       0.407056  0.773389                1.180445  7.0  \n",
       "1                       0.407056  0.773389                1.180445  2.0  \n",
       "2                       0.407056  0.773389                1.180445  4.0  \n",
       "3                       0.407056  0.485378                0.892433  1.0  \n",
       "4                       0.407056  0.485378                0.892433  6.0  \n",
       "\n",
       "[5 rows x 23 columns]"
      ]
     },
     "execution_count": 65,
     "metadata": {},
     "output_type": "execute_result"
    }
   ],
   "source": [
    "raw_rpe['Date'] = pd.to_datetime(raw_rpe['Date'])\n",
    "rpe_wellness = wellness_df.merge(raw_rpe, on=['Date', 'PlayerID'])\n",
    "rpe_wellness = rpe_wellness.dropna()\n",
    "rpe_wellness.head()"
   ]
  },
  {
   "cell_type": "markdown",
   "metadata": {},
   "source": [
    "### Exploratory Analysis"
   ]
  },
  {
   "cell_type": "markdown",
   "metadata": {},
   "source": [
    "Before we get into modeling, we should look at the distribution of the response and see if there are any outliers that would affect our model."
   ]
  },
  {
   "cell_type": "code",
   "execution_count": 66,
   "metadata": {},
   "outputs": [
    {
     "data": {
      "text/plain": [
       "<matplotlib.axes._subplots.AxesSubplot at 0x1a1a7b75c0>"
      ]
     },
     "execution_count": 66,
     "metadata": {},
     "output_type": "execute_result"
    },
    {
     "data": {
      "image/png": "[encoded data removed]",
      "text/plain": [
       "<Figure size 432x288 with 1 Axes>"
      ]
     },
     "metadata": {
      "needs_background": "light"
     },
     "output_type": "display_data"
    }
   ],
   "source": [
    "rpe_wellness['RPE'].hist()"
   ]
  },
  {
   "cell_type": "markdown",
   "metadata": {},
   "source": [
    "### Regression Models"
   ]
  },
  {
   "cell_type": "code",
   "execution_count": 67,
   "metadata": {},
   "outputs": [
    {
     "name": "stdout",
     "output_type": "stream",
     "text": [
      "          Mixed Linear Model Regression Results\n",
      "=========================================================\n",
      "Model:            MixedLM Dependent Variable: RPE        \n",
      "No. Observations: 4822    Method:             REML       \n",
      "No. Groups:       17      Scale:              4.7006     \n",
      "Min. group size:  151     Likelihood:         -10599.9695\n",
      "Max. group size:  452     Converged:          Yes        \n",
      "Mean group size:  283.6                                  \n",
      "----------------------------------------------------------\n",
      "            Coef.  Std.Err.    z     P>|z|  [0.025  0.975]\n",
      "----------------------------------------------------------\n",
      "Intercept   4.291     0.125  34.411  0.000   4.047   4.536\n",
      "wellness    0.029     0.018   1.633  0.102  -0.006   0.063\n",
      "Group Var   0.246     0.043                               \n",
      "=========================================================\n",
      "\n"
     ]
    }
   ],
   "source": [
    "rpe_wellness = rpe_wellness.dropna()\n",
    "mixed_rpe_mod = smf.mixedlm(\"RPE ~ wellness\", rpe_wellness, groups=rpe_wellness['PlayerID'])\n",
    "mixed_rpe_res = mixed_rpe_mod.fit()\n",
    "print(mixed_rpe_res.summary())"
   ]
  },
  {
   "cell_type": "code",
   "execution_count": 68,
   "metadata": {},
   "outputs": [
    {
     "name": "stdout",
     "output_type": "stream",
     "text": [
      "                               GEE Regression Results                              \n",
      "===================================================================================\n",
      "Dep. Variable:                         RPE   No. Observations:                 4822\n",
      "Model:                                 GEE   No. clusters:                       17\n",
      "Method:                        Generalized   Min. cluster size:                 151\n",
      "                      Estimating Equations   Max. cluster size:                 452\n",
      "Family:                           Gaussian   Mean cluster size:               283.6\n",
      "Dependence structure:         Exchangeable   Num. iterations:                     6\n",
      "Date:                     Tue, 10 Dec 2019   Scale:                           4.939\n",
      "Covariance type:                    robust   Time:                         14:32:29\n",
      "==============================================================================\n",
      "                 coef    std err          z      P>|z|      [0.025      0.975]\n",
      "------------------------------------------------------------------------------\n",
      "Intercept      4.2915      0.121     35.378      0.000       4.054       4.529\n",
      "wellness       0.0287      0.020      1.407      0.159      -0.011       0.069\n",
      "==============================================================================\n",
      "Skew:                          0.1342   Kurtosis:                      -0.3859\n",
      "Centered skew:                 0.1979   Centered kurtosis:             -0.2858\n",
      "==============================================================================\n"
     ]
    }
   ],
   "source": [
    "fam = sm.families.Gaussian()\n",
    "ind = sm.cov_struct.Exchangeable()\n",
    "\n",
    "rpe_wellness_gee = smf.gee(\"RPE ~ wellness\", \"PlayerID\", rpe_wellness, cov_struct=ind, family=fam)\n",
    "rpe_wellness_gee_fit = rpe_wellness_gee.fit()\n",
    "print(rpe_wellness_gee_fit.summary())\n"
   ]
  },
  {
   "cell_type": "markdown",
   "metadata": {},
   "source": [
    "We see that the mixed and GEE models above both suggest a small positive relationship between RPE and wellness. If we expand wellness out into the elements that form it, we could find which specific aspects of wellness have a relationship with RPE."
   ]
  },
  {
   "cell_type": "markdown",
   "metadata": {},
   "source": [
    "First, let's fit a mixed linear model using the elements of our wellness score as predictors."
   ]
  },
  {
   "cell_type": "code",
   "execution_count": 69,
   "metadata": {},
   "outputs": [
    {
     "name": "stdout",
     "output_type": "stream",
     "text": [
      "           Mixed Linear Model Regression Results\n",
      "============================================================\n",
      "Model:             MixedLM  Dependent Variable:  RPE        \n",
      "No. Observations:  4822     Method:              REML       \n",
      "No. Groups:        17       Scale:               4.6871     \n",
      "Min. group size:   151      Likelihood:          -10599.8914\n",
      "Max. group size:   452      Converged:           Yes        \n",
      "Mean group size:   283.6                                    \n",
      "------------------------------------------------------------\n",
      "                  Coef.  Std.Err.   z    P>|z| [0.025 0.975]\n",
      "------------------------------------------------------------\n",
      "Intercept          3.598    0.374  9.632 0.000  2.866  4.330\n",
      "MonitoringScore   -0.010    0.011 -0.919 0.358 -0.033  0.012\n",
      "TrainingReadiness  0.005    0.002  3.026 0.002  0.002  0.008\n",
      "Pain               0.240    0.121  1.989 0.047  0.004  0.476\n",
      "Illness           -0.100    0.078 -1.274 0.203 -0.253  0.054\n",
      "Nutrition          0.220    0.079  2.793 0.005  0.065  0.374\n",
      "Group Var          0.198    0.035                           \n",
      "============================================================\n",
      "\n"
     ]
    }
   ],
   "source": [
    "mixed_rpe_mod = smf.mixedlm(\"RPE ~ MonitoringScore + TrainingReadiness + Pain + Illness + Nutrition\", rpe_wellness, groups=rpe_wellness['PlayerID'])\n",
    "mixed_rpe_res = mixed_rpe_mod.fit()\n",
    "print(mixed_rpe_res.summary())\n"
   ]
  },
  {
   "cell_type": "code",
   "execution_count": 70,
   "metadata": {},
   "outputs": [
    {
     "data": {
      "text/plain": [
       "21211.782870113246"
      ]
     },
     "execution_count": 70,
     "metadata": {},
     "output_type": "execute_result"
    }
   ],
   "source": [
    "rpe_aic1 = aic(mixed_rpe_res.llf, 4822, 6)\n",
    "rpe_aic1"
   ]
  },
  {
   "cell_type": "markdown",
   "metadata": {},
   "source": [
    "We see that the AIC is much larger than our previous model of performance. Modeling RPE in this was is losing a lot of information but we can still use regression to explore the relationship between RPE and the elements of wellness even if this model will not have a lot of predictive power."
   ]
  },
  {
   "cell_type": "markdown",
   "metadata": {},
   "source": [
    "Looking at the coefficients of the model above, we see that the standard error of the monitoring score estimate is equally as large in magnitiude as the point estimate itself. It very well could be the case that this coefficient should actually be 0 or positive so we can try removing it from our model as the data cannot tell us anything conclsive about the relationship between the monitoring score and RPE."
   ]
  },
  {
   "cell_type": "code",
   "execution_count": 71,
   "metadata": {},
   "outputs": [
    {
     "name": "stdout",
     "output_type": "stream",
     "text": [
      "           Mixed Linear Model Regression Results\n",
      "============================================================\n",
      "Model:             MixedLM  Dependent Variable:  RPE        \n",
      "No. Observations:  4822     Method:              REML       \n",
      "No. Groups:        17       Scale:               4.6868     \n",
      "Min. group size:   151      Likelihood:          -10596.7604\n",
      "Max. group size:   452      Converged:           Yes        \n",
      "Mean group size:   283.6                                    \n",
      "------------------------------------------------------------\n",
      "                  Coef.  Std.Err.   z    P>|z| [0.025 0.975]\n",
      "------------------------------------------------------------\n",
      "Intercept          3.452    0.338 10.201 0.000  2.789  4.115\n",
      "TrainingReadiness  0.005    0.002  2.892 0.004  0.001  0.008\n",
      "Pain               0.229    0.120  1.910 0.056 -0.006  0.464\n",
      "Illness           -0.107    0.078 -1.371 0.170 -0.260  0.046\n",
      "Nutrition          0.224    0.079  2.852 0.004  0.070  0.378\n",
      "Group Var          0.200    0.036                           \n",
      "============================================================\n",
      "\n"
     ]
    }
   ],
   "source": [
    "mixed_rpe_mod = smf.mixedlm(\"RPE ~ TrainingReadiness + Pain + Illness + Nutrition\", rpe_wellness, groups=rpe_wellness['PlayerID'])\n",
    "mixed_rpe_res = mixed_rpe_mod.fit()\n",
    "print(mixed_rpe_res.summary())"
   ]
  },
  {
   "cell_type": "code",
   "execution_count": 72,
   "metadata": {},
   "outputs": [
    {
     "data": {
      "text/plain": [
       "21203.52078261471"
      ]
     },
     "execution_count": 72,
     "metadata": {},
     "output_type": "execute_result"
    }
   ],
   "source": [
    "rpe_aic2 = aic(mixed_rpe_res.llf, 4822, 5)\n",
    "rpe_aic2"
   ]
  },
  {
   "cell_type": "code",
   "execution_count": 73,
   "metadata": {},
   "outputs": [
    {
     "data": {
      "text/plain": [
       "0.01606610108698092"
      ]
     },
     "execution_count": 73,
     "metadata": {},
     "output_type": "execute_result"
    }
   ],
   "source": [
    "np.exp((rpe_aic2 - rpe_aic1)/2)"
   ]
  },
  {
   "cell_type": "markdown",
   "metadata": {},
   "source": [
    "Our model with monitoring score removed loses much less data, with the first model only about 0.016 times as likely as the second model to minimize the information loss. Thus, we can confidently say the second model is better than the first."
   ]
  },
  {
   "cell_type": "markdown",
   "metadata": {},
   "source": [
    "Looking at the coefficient for illness, the standard error is close to the point estimate so we might be tempted to remove this predictor as the true value of the predictor may be closer to 0 or might even be positive."
   ]
  },
  {
   "cell_type": "code",
   "execution_count": 74,
   "metadata": {},
   "outputs": [
    {
     "name": "stdout",
     "output_type": "stream",
     "text": [
      "           Mixed Linear Model Regression Results\n",
      "===========================================================\n",
      "Model:              MixedLM Dependent Variable: RPE        \n",
      "No. Observations:   4822    Method:             REML       \n",
      "No. Groups:         17      Scale:              4.6877     \n",
      "Min. group size:    151     Likelihood:         -10596.0676\n",
      "Max. group size:    452     Converged:          Yes        \n",
      "Mean group size:    283.6                                  \n",
      "-----------------------------------------------------------\n",
      "                  Coef. Std.Err.   z    P>|z| [0.025 0.975]\n",
      "-----------------------------------------------------------\n",
      "Intercept         3.177    0.272 11.666 0.000  2.643  3.710\n",
      "TrainingReadiness 0.004    0.002  2.765 0.006  0.001  0.008\n",
      "Pain              0.227    0.120  1.891 0.059 -0.008  0.462\n",
      "Nutrition         0.220    0.078  2.805 0.005  0.066  0.374\n",
      "Group Var         0.200    0.036                           \n",
      "===========================================================\n",
      "\n"
     ]
    }
   ],
   "source": [
    "mixed_rpe_mod = smf.mixedlm(\"RPE ~ TrainingReadiness + Pain + Nutrition\", rpe_wellness, groups=rpe_wellness['PlayerID'])\n",
    "mixed_rpe_res = mixed_rpe_mod.fit()\n",
    "print(mixed_rpe_res.summary())"
   ]
  },
  {
   "cell_type": "code",
   "execution_count": 75,
   "metadata": {},
   "outputs": [
    {
     "data": {
      "text/plain": [
       "21202.13520798502"
      ]
     },
     "execution_count": 75,
     "metadata": {},
     "output_type": "execute_result"
    }
   ],
   "source": [
    "rpe_aic3 = aic(mixed_rpe_res.llf, 4822, 5)\n",
    "rpe_aic3"
   ]
  },
  {
   "cell_type": "code",
   "execution_count": 76,
   "metadata": {},
   "outputs": [
    {
     "data": {
      "text/plain": [
       "0.5001799652370944"
      ]
     },
     "execution_count": 76,
     "metadata": {},
     "output_type": "execute_result"
    }
   ],
   "source": [
    "np.exp((rpe_aic3 - rpe_aic2)/2)"
   ]
  },
  {
   "cell_type": "markdown",
   "metadata": {},
   "source": [
    "The model without illness is not that much better than the model that includes illness. In fact, the model that includes illness is about 0.48 times as likily as the model without illness to minimize information loss. Thus, we don't have enought evidence to discount the model with illness and we need to value its coefficient estimates as well."
   ]
  },
  {
   "cell_type": "markdown",
   "metadata": {},
   "source": [
    "As with previous regressions, we will train a GEE model as well to see if we get similar coefficients. Note that we will include illness as a predictor because removing it did not result in a much better mixed linear model so there is evidence that it is a valuable predictor."
   ]
  },
  {
   "cell_type": "code",
   "execution_count": 77,
   "metadata": {},
   "outputs": [
    {
     "ename": "NameError",
     "evalue": "name 'model_rpe_wellness' is not defined",
     "output_type": "error",
     "traceback": [
      "\u001b[0;31m---------------------------------------------------------------------------\u001b[0m",
      "\u001b[0;31mNameError\u001b[0m                                 Traceback (most recent call last)",
      "\u001b[0;32m<ipython-input-77-ec1fe8721e14>\u001b[0m in \u001b[0;36m<module>\u001b[0;34m\u001b[0m\n\u001b[0;32m----> 1\u001b[0;31m \u001b[0mrpe_wellness_gee\u001b[0m \u001b[0;34m=\u001b[0m \u001b[0msmf\u001b[0m\u001b[0;34m.\u001b[0m\u001b[0mgee\u001b[0m\u001b[0;34m(\u001b[0m\u001b[0;34m\"RPE ~ TrainingReadiness + Pain + Illness + Nutrition\"\u001b[0m\u001b[0;34m,\u001b[0m \u001b[0;34m\"PlayerID\"\u001b[0m\u001b[0;34m,\u001b[0m \u001b[0mmodel_rpe_wellness\u001b[0m\u001b[0;34m,\u001b[0m \u001b[0mcov_struct\u001b[0m\u001b[0;34m=\u001b[0m\u001b[0mind\u001b[0m\u001b[0;34m,\u001b[0m \u001b[0mfamily\u001b[0m\u001b[0;34m=\u001b[0m\u001b[0mfam\u001b[0m\u001b[0;34m)\u001b[0m\u001b[0;34m\u001b[0m\u001b[0;34m\u001b[0m\u001b[0m\n\u001b[0m\u001b[1;32m      2\u001b[0m \u001b[0mrpe_wellness_gee_fit\u001b[0m \u001b[0;34m=\u001b[0m \u001b[0mrpe_wellness_gee\u001b[0m\u001b[0;34m.\u001b[0m\u001b[0mfit\u001b[0m\u001b[0;34m(\u001b[0m\u001b[0;34m)\u001b[0m\u001b[0;34m\u001b[0m\u001b[0;34m\u001b[0m\u001b[0m\n\u001b[1;32m      3\u001b[0m \u001b[0mprint\u001b[0m\u001b[0;34m(\u001b[0m\u001b[0mrpe_wellness_gee_fit\u001b[0m\u001b[0;34m.\u001b[0m\u001b[0msummary\u001b[0m\u001b[0;34m(\u001b[0m\u001b[0;34m)\u001b[0m\u001b[0;34m)\u001b[0m\u001b[0;34m\u001b[0m\u001b[0;34m\u001b[0m\u001b[0m\n",
      "\u001b[0;31mNameError\u001b[0m: name 'model_rpe_wellness' is not defined"
     ]
    }
   ],
   "source": [
    "rpe_wellness_gee = smf.gee(\"RPE ~ TrainingReadiness + Pain + Illness + Nutrition\", \"PlayerID\", model_rpe_wellness, cov_struct=ind, family=fam)\n",
    "rpe_wellness_gee_fit = rpe_wellness_gee.fit()\n",
    "print(rpe_wellness_gee_fit.summary())\n"
   ]
  },
  {
   "cell_type": "markdown",
   "metadata": {},
   "source": [
    "### Test Model Fit"
   ]
  },
  {
   "cell_type": "markdown",
   "metadata": {},
   "source": [
    "We will test the model fit using residual plots and QQ plots as previously done in this notebook."
   ]
  },
  {
   "cell_type": "markdown",
   "metadata": {},
   "source": [
    "#### QQ Plots For Mixed Model"
   ]
  },
  {
   "cell_type": "code",
   "execution_count": null,
   "metadata": {},
   "outputs": [],
   "source": [
    "qqplot(mixed_rpe_res.resid, line='s')\n",
    "plt.title('QQ Plot for Mixed Model')\n",
    "plt.show()"
   ]
  },
  {
   "cell_type": "markdown",
   "metadata": {},
   "source": [
    "#### QQ Plots for GEE Model"
   ]
  },
  {
   "cell_type": "code",
   "execution_count": null,
   "metadata": {},
   "outputs": [],
   "source": [
    "qqplot(rpe_wellness_gee_fit.resid, line='s')\n",
    "plt.title('QQ Plot for Mixed Model')\n",
    "plt.show()"
   ]
  },
  {
   "cell_type": "markdown",
   "metadata": {},
   "source": [
    "We see from the QQ plots above that the residuals are not quite normally distributed, with the issue occuring at the extreme values of the residuals. This would be more of an issue if we were interested in predicting RPE but for our exploratory analysis, the slight non-normality of the residuals should not be too much of an issue."
   ]
  },
  {
   "cell_type": "code",
   "execution_count": null,
   "metadata": {},
   "outputs": [],
   "source": [
    "pre_wellness_predictions = rpe_wellness_mixed_fit.predict()\n",
    "residual_df = model_rpe_wellness.copy()[['MonitoringScore', 'TrainingReadiness', 'Illness', 'Pain', 'Nutrition', 'RPE']]\n",
    "residual_df['Prediction'] = pre_wellness_predictions\n",
    "residual_df['Residuals'] = residual_df['RPE'] - residual_df['Prediction']\n",
    "residual_df.head()\n"
   ]
  },
  {
   "cell_type": "code",
   "execution_count": null,
   "metadata": {},
   "outputs": [],
   "source": [
    "scatter_plot(residual_df, 'MonitoringScore', 'Residuals', 'Residuals VS Monitoring Score')"
   ]
  },
  {
   "cell_type": "markdown",
   "metadata": {},
   "source": [
    "## Performance vs Training load graphs per player"
   ]
  },
  {
   "cell_type": "code",
   "execution_count": null,
   "metadata": {},
   "outputs": [],
   "source": [
    "grouped = merged_df.copy().groupby('PlayerID')\n",
    "\n",
    "for name,group in grouped:\n",
    "    fig = plt.figure(figsize=(12,3))\n",
    "    ax1 = fig.add_subplot(121)\n",
    "\n",
    "    group.plot.bar(ax=ax1, color='red',x=\"GameID\",y=\"MaxSpeedInGame\")\n",
    "    ax1.set_ylabel('MaxSpeedInGame')\n",
    "    ax3 = ax1.twinx()\n",
    "    group.plot.bar(ax=ax3, color='blue',x=\"GameID\",y=\"AcuteChronicRatio\",fill=False)\n",
    "\n",
    "    ax1.set_title('Player ' + str(name), fontsize=15)\n",
    "    ax2 = fig.add_subplot(122)\n",
    "    group.plot.bar(ax=ax2, color='green',x=\"GameID\",y=\"MaxAccelImpulseInGame\")\n",
    "    ax2.set_ylabel('MaxAccelImpulseInGame')\n",
    "    ax4 = ax2.twinx()\n",
    "    group.plot.bar(ax=ax4, color='blue',\n",
    "                    x='GameID',\n",
    "                    y=\"AcuteChronicRatio\",fill=False)\n",
    "\n",
    "    ax2.set_title('Player ' + str(name), fontsize=15)\n",
    "\n",
    "plt.show()\n",
    "plt.close()"
   ]
  },
  {
   "cell_type": "markdown",
   "metadata": {},
   "source": [
    "## Performance vs Training load graphs for each game for all players"
   ]
  },
  {
   "cell_type": "code",
   "execution_count": null,
   "metadata": {},
   "outputs": [],
   "source": [
    "grouped_by_game = merged_df.copy().groupby(['GameID','Outcome','TeamPoints'])\n",
    "\n",
    "for name,group in grouped_by_game:\n",
    "    fig = plt.figure(figsize=(12,3))\n",
    "    ax1 = fig.add_subplot(121)\n",
    "\n",
    "    group.plot.bar(ax=ax1, color='blue',x=\"PlayerID\",y=\"MaxSpeedInGame\")\n",
    "    ax1.set_ylabel('MaxSpeedInGame')\n",
    "    ax1.set_title('Game ' + str(name[0])+ \n",
    "                  ' Outcome: ' + str(name[1]) + \n",
    "                  ' Points: ' + str(name[2]), fontsize=15)\n",
    "    ax3 = ax1.twinx()\n",
    "    group.plot.bar(ax=ax3, color='red',\n",
    "                    x='PlayerID',\n",
    "                    y=\"AcuteLoad\",fill=False)\n",
    "    ax2 = fig.add_subplot(122)\n",
    "    group.plot.bar(ax=ax2, color='green',x=\"PlayerID\",y=\"MaxAccelImpulseInGame\")\n",
    "    ax2.set_ylabel('MaxAccelImpulseInGame')\n",
    "    ax2.set_title('Game ' + str(name[0])+ \n",
    "                  ' Outcome: ' + str(name[1]) + \n",
    "                  ' Points: ' + str(name[2]), fontsize=15)\n",
    "    ax4 = ax2.twinx()\n",
    "    group.plot.bar(ax=ax4, color='red',\n",
    "                    x='PlayerID',\n",
    "                    y=\"AcuteLoad\",fill=False)\n",
    "\n",
    "plt.show()\n",
    "plt.close()"
   ]
  },
  {
   "cell_type": "markdown",
   "metadata": {},
   "source": [
    "## Performance vs wellness graphs per player"
   ]
  },
  {
   "cell_type": "code",
   "execution_count": null,
   "metadata": {},
   "outputs": [],
   "source": [
    "grouped = merged_df.copy().groupby('PlayerID')\n",
    "\n",
    "for name,group in grouped:\n",
    "    fig = plt.figure(figsize=(12,3))\n",
    "    ax1 = fig.add_subplot(121)\n",
    "\n",
    "    group.plot.bar(ax=ax1, color='red',x=\"GameID\",y=\"MaxSpeedInGame\")\n",
    "    ax1.set_ylabel('MaxSpeedInGame')\n",
    "    ax3 = ax1.twinx()\n",
    "    group.plot.bar(ax=ax3, color='blue',x=\"GameID\",y=\"wellness\",fill=False)\n",
    "    ax3.set_ylabel('wellness')\n",
    "    ax1.set_title('Player ' + str(name), fontsize=15)\n",
    "\n",
    "\n",
    "\n",
    "plt.show()\n",
    "plt.close()"
   ]
  },
  {
   "cell_type": "markdown",
   "metadata": {},
   "source": [
    "## Performance vs wellness and nutrition load graphs for each game for all players"
   ]
  },
  {
   "cell_type": "code",
   "execution_count": null,
   "metadata": {},
   "outputs": [],
   "source": [
    "grouped_by_game = merged_df.copy().groupby(['GameID','Outcome','TeamPoints'])\n",
    "\n",
    "for name,group in grouped_by_game:\n",
    "    fig = plt.figure(figsize=(12,3))\n",
    "    ax1 = fig.add_subplot(121)\n",
    "\n",
    "    group.plot.bar(ax=ax1, color='blue',x=\"PlayerID\",y=\"MaxSpeedInGame\")\n",
    "    ax1.set_ylabel('MaxSpeedInGame')\n",
    "    ax1.set_title('Game ' + str(name[0])+ \n",
    "                  ' Outcome: ' + str(name[1]) + \n",
    "                  ' Points: ' + str(name[2]), fontsize=15)\n",
    "    ax3 = ax1.twinx()\n",
    "    group.plot.bar(ax=ax3, color='red',\n",
    "                    x='PlayerID',\n",
    "                    y=\"wellness\",fill=False)\n",
    "    ax2 = fig.add_subplot(122)\n",
    "    group.plot.bar(ax=ax2, color='green',x=\"PlayerID\",y=\"MaxSpeedInGame\")\n",
    "    ax2.set_ylabel('MaxSpeedInGame')\n",
    "    ax2.set_title('Game ' + str(name[0])+ \n",
    "                  ' Outcome: ' + str(name[1]) + \n",
    "                  ' Points: ' + str(name[2]), fontsize=15)\n",
    "    ax4 = ax2.twinx()\n",
    "    group.plot.bar(ax=ax4, color='red',\n",
    "                    x='PlayerID',\n",
    "                    y=\"Nutrition\",fill=False)\n",
    "\n",
    "plt.show()\n",
    "plt.close()"
   ]
  },
  {
   "cell_type": "markdown",
   "metadata": {},
   "source": [
    "Unfortunately there is no special relationship between the clusters for prformance, training and wellness."
   ]
  },
  {
   "cell_type": "markdown",
   "metadata": {},
   "source": [
    "## Conslusions"
   ]
  },
  {
   "cell_type": "markdown",
   "metadata": {},
   "source": [
    "Mention final conclusions for the coach based on this data."
   ]
  }
 ],
 "metadata": {
  "kernelspec": {
   "display_name": "Python 3",
   "language": "python",
   "name": "python3"
  },
  "language_info": {
   "codemirror_mode": {
    "name": "ipython",
    "version": 3
   },
   "file_extension": ".py",
   "mimetype": "text/x-python",
   "name": "python",
   "nbconvert_exporter": "python",
   "pygments_lexer": "ipython3",
   "version": "3.7.3"
  }
 },
 "nbformat": 4,
 "nbformat_minor": 2
}
