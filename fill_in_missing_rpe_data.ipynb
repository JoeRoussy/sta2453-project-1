{
 "cells": [
  {
   "cell_type": "markdown",
   "metadata": {},
   "source": [
    "# Missing RPE Data"
   ]
  },
  {
   "cell_type": "markdown",
   "metadata": {},
   "source": [
    "On some of the game dates, we don't have RPE data. But, we are mainly concerned with the acute/chronic ratio which we can compute for the dates for which it is missing."
   ]
  },
  {
   "cell_type": "code",
   "execution_count": 1,
   "metadata": {},
   "outputs": [],
   "source": [
    "import pandas as pd\n",
    "import numpy as np\n",
    "from factor_analyzer import FactorAnalyzer\n",
    "from factor_analyzer.factor_analyzer import calculate_bartlett_sphericity, calculate_kmo\n",
    "from scipy.stats import ttest_ind, ttest_rel\n",
    "from scipy.stats import pointbiserialr\n",
    "import matplotlib.pyplot as plt\n",
    "from sklearn.preprocessing import StandardScaler"
   ]
  },
  {
   "cell_type": "code",
   "execution_count": 2,
   "metadata": {},
   "outputs": [
    {
     "name": "stdout",
     "output_type": "stream",
     "text": [
      "   Unnamed: 0        Date  PlayerID  Training SessionType  Duration  RPE  \\\n",
      "0           0  2017-08-01        15         1    Strength      60.0  4.0   \n",
      "1           1  2017-08-01         1         1       Speed      60.0  3.0   \n",
      "2           2  2017-08-01         1         1    Strength      90.0  4.0   \n",
      "3           3  2017-08-01         3         1       Speed      45.0  5.0   \n",
      "4           4  2017-08-01         3         1    Strength      90.0  5.0   \n",
      "\n",
      "   SessionLoad  DailyLoad  AcuteChronicRatio  ObjectiveRating  FocusRating  \\\n",
      "0        240.0      300.0               4.29              6.0          7.0   \n",
      "1        180.0      540.0               4.29              0.0          0.0   \n",
      "2        360.0      540.0               4.29              0.0          0.0   \n",
      "3        225.0      675.0               4.29              7.0          7.0   \n",
      "4        450.0      675.0               4.29              7.0          7.0   \n",
      "\n",
      "   BestOutOfMyself  AcuteLoad  ChronicLoad  \n",
      "0              3.0      42.86         10.0  \n",
      "1              3.0      77.14         18.0  \n",
      "2              3.0      77.14         18.0  \n",
      "3              3.0      96.43         22.5  \n",
      "4              3.0      96.43         22.5  \n"
     ]
    }
   ],
   "source": [
    "np.random.seed(5151)\n",
    "raw_rpe_df = pd.read_csv('./processed_data/processed_rpe.csv')\n",
    "raw_rpe = raw_rpe_df.copy()[['Date', 'PlayerID', 'RPE']]\n",
    "print(raw_rpe_df.head())\n"
   ]
  },
  {
   "cell_type": "markdown",
   "metadata": {},
   "source": [
    "## Drop Duplicate Dates"
   ]
  },
  {
   "cell_type": "markdown",
   "metadata": {},
   "source": [
    "This occurs when there are multiple training sessions on the same date. We only care about the daily load so we can drop the duplicate sessions."
   ]
  },
  {
   "cell_type": "code",
   "execution_count": 3,
   "metadata": {},
   "outputs": [
    {
     "data": {
      "text/html": [
       "<div>\n",
       "<style scoped>\n",
       "    .dataframe tbody tr th:only-of-type {\n",
       "        vertical-align: middle;\n",
       "    }\n",
       "\n",
       "    .dataframe tbody tr th {\n",
       "        vertical-align: top;\n",
       "    }\n",
       "\n",
       "    .dataframe thead th {\n",
       "        text-align: right;\n",
       "    }\n",
       "</style>\n",
       "<table border=\"1\" class=\"dataframe\">\n",
       "  <thead>\n",
       "    <tr style=\"text-align: right;\">\n",
       "      <th></th>\n",
       "      <th>Date</th>\n",
       "      <th>PlayerID</th>\n",
       "      <th>DailyLoad</th>\n",
       "      <th>AcuteChronicRatio</th>\n",
       "      <th>AcuteLoad</th>\n",
       "      <th>ChronicLoad</th>\n",
       "    </tr>\n",
       "  </thead>\n",
       "  <tbody>\n",
       "    <tr>\n",
       "      <th>0</th>\n",
       "      <td>2017-08-01</td>\n",
       "      <td>15</td>\n",
       "      <td>300.0</td>\n",
       "      <td>4.29</td>\n",
       "      <td>42.86</td>\n",
       "      <td>10.0</td>\n",
       "    </tr>\n",
       "    <tr>\n",
       "      <th>1</th>\n",
       "      <td>2017-08-01</td>\n",
       "      <td>1</td>\n",
       "      <td>540.0</td>\n",
       "      <td>4.29</td>\n",
       "      <td>77.14</td>\n",
       "      <td>18.0</td>\n",
       "    </tr>\n",
       "    <tr>\n",
       "      <th>2</th>\n",
       "      <td>2017-08-01</td>\n",
       "      <td>1</td>\n",
       "      <td>540.0</td>\n",
       "      <td>4.29</td>\n",
       "      <td>77.14</td>\n",
       "      <td>18.0</td>\n",
       "    </tr>\n",
       "    <tr>\n",
       "      <th>3</th>\n",
       "      <td>2017-08-01</td>\n",
       "      <td>3</td>\n",
       "      <td>675.0</td>\n",
       "      <td>4.29</td>\n",
       "      <td>96.43</td>\n",
       "      <td>22.5</td>\n",
       "    </tr>\n",
       "    <tr>\n",
       "      <th>4</th>\n",
       "      <td>2017-08-01</td>\n",
       "      <td>3</td>\n",
       "      <td>675.0</td>\n",
       "      <td>4.29</td>\n",
       "      <td>96.43</td>\n",
       "      <td>22.5</td>\n",
       "    </tr>\n",
       "  </tbody>\n",
       "</table>\n",
       "</div>"
      ],
      "text/plain": [
       "         Date  PlayerID  DailyLoad  AcuteChronicRatio  AcuteLoad  ChronicLoad\n",
       "0  2017-08-01        15      300.0               4.29      42.86         10.0\n",
       "1  2017-08-01         1      540.0               4.29      77.14         18.0\n",
       "2  2017-08-01         1      540.0               4.29      77.14         18.0\n",
       "3  2017-08-01         3      675.0               4.29      96.43         22.5\n",
       "4  2017-08-01         3      675.0               4.29      96.43         22.5"
      ]
     },
     "execution_count": 3,
     "metadata": {},
     "output_type": "execute_result"
    }
   ],
   "source": [
    "rpe_df = raw_rpe_df.copy()[['Date', 'PlayerID', 'DailyLoad', 'AcuteChronicRatio', 'AcuteLoad', 'ChronicLoad']]\n",
    "subjective_performance_df = raw_rpe_df.copy()[['Date', 'PlayerID', 'ObjectiveRating', 'FocusRating', 'BestOutOfMyself']]\n",
    "rpe_df.head()"
   ]
  },
  {
   "cell_type": "code",
   "execution_count": 4,
   "metadata": {},
   "outputs": [
    {
     "data": {
      "text/html": [
       "<div>\n",
       "<style scoped>\n",
       "    .dataframe tbody tr th:only-of-type {\n",
       "        vertical-align: middle;\n",
       "    }\n",
       "\n",
       "    .dataframe tbody tr th {\n",
       "        vertical-align: top;\n",
       "    }\n",
       "\n",
       "    .dataframe thead th {\n",
       "        text-align: right;\n",
       "    }\n",
       "</style>\n",
       "<table border=\"1\" class=\"dataframe\">\n",
       "  <thead>\n",
       "    <tr style=\"text-align: right;\">\n",
       "      <th></th>\n",
       "      <th>Date</th>\n",
       "      <th>PlayerID</th>\n",
       "      <th>ObjectiveRating</th>\n",
       "      <th>FocusRating</th>\n",
       "      <th>BestOutOfMyself</th>\n",
       "    </tr>\n",
       "  </thead>\n",
       "  <tbody>\n",
       "    <tr>\n",
       "      <th>0</th>\n",
       "      <td>2017-08-01</td>\n",
       "      <td>15</td>\n",
       "      <td>6.0</td>\n",
       "      <td>7.0</td>\n",
       "      <td>3.0</td>\n",
       "    </tr>\n",
       "    <tr>\n",
       "      <th>1</th>\n",
       "      <td>2017-08-01</td>\n",
       "      <td>1</td>\n",
       "      <td>0.0</td>\n",
       "      <td>0.0</td>\n",
       "      <td>3.0</td>\n",
       "    </tr>\n",
       "    <tr>\n",
       "      <th>2</th>\n",
       "      <td>2017-08-01</td>\n",
       "      <td>1</td>\n",
       "      <td>0.0</td>\n",
       "      <td>0.0</td>\n",
       "      <td>3.0</td>\n",
       "    </tr>\n",
       "    <tr>\n",
       "      <th>3</th>\n",
       "      <td>2017-08-01</td>\n",
       "      <td>3</td>\n",
       "      <td>7.0</td>\n",
       "      <td>7.0</td>\n",
       "      <td>3.0</td>\n",
       "    </tr>\n",
       "    <tr>\n",
       "      <th>4</th>\n",
       "      <td>2017-08-01</td>\n",
       "      <td>3</td>\n",
       "      <td>7.0</td>\n",
       "      <td>7.0</td>\n",
       "      <td>3.0</td>\n",
       "    </tr>\n",
       "  </tbody>\n",
       "</table>\n",
       "</div>"
      ],
      "text/plain": [
       "         Date  PlayerID  ObjectiveRating  FocusRating  BestOutOfMyself\n",
       "0  2017-08-01        15              6.0          7.0              3.0\n",
       "1  2017-08-01         1              0.0          0.0              3.0\n",
       "2  2017-08-01         1              0.0          0.0              3.0\n",
       "3  2017-08-01         3              7.0          7.0              3.0\n",
       "4  2017-08-01         3              7.0          7.0              3.0"
      ]
     },
     "execution_count": 4,
     "metadata": {},
     "output_type": "execute_result"
    }
   ],
   "source": [
    "subjective_performance_df.head()"
   ]
  },
  {
   "cell_type": "code",
   "execution_count": 5,
   "metadata": {},
   "outputs": [],
   "source": [
    "rpe_df = rpe_df.drop_duplicates()"
   ]
  },
  {
   "cell_type": "code",
   "execution_count": 6,
   "metadata": {},
   "outputs": [
    {
     "data": {
      "text/html": [
       "<div>\n",
       "<style scoped>\n",
       "    .dataframe tbody tr th:only-of-type {\n",
       "        vertical-align: middle;\n",
       "    }\n",
       "\n",
       "    .dataframe tbody tr th {\n",
       "        vertical-align: top;\n",
       "    }\n",
       "\n",
       "    .dataframe thead th {\n",
       "        text-align: right;\n",
       "    }\n",
       "</style>\n",
       "<table border=\"1\" class=\"dataframe\">\n",
       "  <thead>\n",
       "    <tr style=\"text-align: right;\">\n",
       "      <th></th>\n",
       "      <th>Date</th>\n",
       "      <th>PlayerID</th>\n",
       "      <th>DailyLoad</th>\n",
       "      <th>AcuteChronicRatio</th>\n",
       "      <th>AcuteLoad</th>\n",
       "      <th>ChronicLoad</th>\n",
       "    </tr>\n",
       "  </thead>\n",
       "  <tbody>\n",
       "    <tr>\n",
       "      <th>0</th>\n",
       "      <td>2017-08-01</td>\n",
       "      <td>15</td>\n",
       "      <td>300.0</td>\n",
       "      <td>4.29</td>\n",
       "      <td>42.86</td>\n",
       "      <td>10.0</td>\n",
       "    </tr>\n",
       "    <tr>\n",
       "      <th>1</th>\n",
       "      <td>2017-08-01</td>\n",
       "      <td>1</td>\n",
       "      <td>540.0</td>\n",
       "      <td>4.29</td>\n",
       "      <td>77.14</td>\n",
       "      <td>18.0</td>\n",
       "    </tr>\n",
       "    <tr>\n",
       "      <th>3</th>\n",
       "      <td>2017-08-01</td>\n",
       "      <td>3</td>\n",
       "      <td>675.0</td>\n",
       "      <td>4.29</td>\n",
       "      <td>96.43</td>\n",
       "      <td>22.5</td>\n",
       "    </tr>\n",
       "    <tr>\n",
       "      <th>5</th>\n",
       "      <td>2017-08-01</td>\n",
       "      <td>5</td>\n",
       "      <td>330.0</td>\n",
       "      <td>4.29</td>\n",
       "      <td>47.14</td>\n",
       "      <td>11.0</td>\n",
       "    </tr>\n",
       "    <tr>\n",
       "      <th>7</th>\n",
       "      <td>2017-08-01</td>\n",
       "      <td>8</td>\n",
       "      <td>345.0</td>\n",
       "      <td>4.29</td>\n",
       "      <td>49.29</td>\n",
       "      <td>11.5</td>\n",
       "    </tr>\n",
       "  </tbody>\n",
       "</table>\n",
       "</div>"
      ],
      "text/plain": [
       "         Date  PlayerID  DailyLoad  AcuteChronicRatio  AcuteLoad  ChronicLoad\n",
       "0  2017-08-01        15      300.0               4.29      42.86         10.0\n",
       "1  2017-08-01         1      540.0               4.29      77.14         18.0\n",
       "3  2017-08-01         3      675.0               4.29      96.43         22.5\n",
       "5  2017-08-01         5      330.0               4.29      47.14         11.0\n",
       "7  2017-08-01         8      345.0               4.29      49.29         11.5"
      ]
     },
     "execution_count": 6,
     "metadata": {},
     "output_type": "execute_result"
    }
   ],
   "source": [
    "rpe_df.head()"
   ]
  },
  {
   "cell_type": "markdown",
   "metadata": {},
   "source": [
    "## Fill In Missing RPE Data"
   ]
  },
  {
   "cell_type": "markdown",
   "metadata": {},
   "source": [
    "This row should not be in the dataset since it is the first entry for this player and they are not training."
   ]
  },
  {
   "cell_type": "code",
   "execution_count": 7,
   "metadata": {},
   "outputs": [],
   "source": [
    "rpe_df = rpe_df[~ rpe_df['AcuteChronicRatio'].isnull()]"
   ]
  },
  {
   "cell_type": "code",
   "execution_count": 8,
   "metadata": {},
   "outputs": [],
   "source": [
    "rpe_df['Date'] = pd.to_datetime(rpe_df['Date'])"
   ]
  },
  {
   "cell_type": "markdown",
   "metadata": {},
   "source": [
    "Adding missing dates and player ids to rpe data:"
   ]
  },
  {
   "cell_type": "code",
   "execution_count": 9,
   "metadata": {},
   "outputs": [],
   "source": [
    "dates = pd.date_range(start=min(rpe_df['Date']), end=max(rpe_df['Date']))\n",
    "players = rpe_df['PlayerID'].unique()\n",
    "idx = pd.MultiIndex.from_product((dates, players), names=['Date', 'PlayerID'])\n",
    "\n",
    "rpe_df = rpe_df.set_index(['Date', 'PlayerID']).reindex(idx, fill_value=0).reset_index().sort_values(by=['Date', 'PlayerID'])\n",
    "\n"
   ]
  },
  {
   "cell_type": "markdown",
   "metadata": {},
   "source": [
    "Use a rolling window to compute acute load and chronic load:"
   ]
  },
  {
   "cell_type": "code",
   "execution_count": 10,
   "metadata": {},
   "outputs": [],
   "source": [
    "temp = rpe_df[['Date','PlayerID','DailyLoad']].drop_duplicates()\n",
    "past7Days = temp.groupby('PlayerID').rolling('7d', on='Date')['DailyLoad'].sum().reset_index()\n",
    "past7Days['newAcuteLoad'] = (past7Days['DailyLoad'] / 7.).round(2)\n",
    "past7Days = past7Days.drop(columns = 'DailyLoad')\n",
    "\n",
    "rpe_df = pd.merge(rpe_df, past7Days, how='left', on=['Date', 'PlayerID'])"
   ]
  },
  {
   "cell_type": "code",
   "execution_count": 11,
   "metadata": {},
   "outputs": [],
   "source": [
    "past30Days = temp.groupby('PlayerID').rolling('30d', on='Date')['DailyLoad'].sum().reset_index()\n",
    "past30Days['newChronicLoad'] = (past30Days['DailyLoad'] / 30.).round(2)\n",
    "past30Days = past30Days.drop(columns = 'DailyLoad')\n",
    "\n",
    "rpe_df = pd.merge(rpe_df, past30Days, how=\"left\", on=[\"Date\", \"PlayerID\"])"
   ]
  },
  {
   "cell_type": "code",
   "execution_count": 12,
   "metadata": {},
   "outputs": [
    {
     "data": {
      "text/html": [
       "<div>\n",
       "<style scoped>\n",
       "    .dataframe tbody tr th:only-of-type {\n",
       "        vertical-align: middle;\n",
       "    }\n",
       "\n",
       "    .dataframe tbody tr th {\n",
       "        vertical-align: top;\n",
       "    }\n",
       "\n",
       "    .dataframe thead th {\n",
       "        text-align: right;\n",
       "    }\n",
       "</style>\n",
       "<table border=\"1\" class=\"dataframe\">\n",
       "  <thead>\n",
       "    <tr style=\"text-align: right;\">\n",
       "      <th></th>\n",
       "      <th>Date</th>\n",
       "      <th>PlayerID</th>\n",
       "      <th>DailyLoad</th>\n",
       "      <th>AcuteChronicRatio</th>\n",
       "      <th>AcuteLoad</th>\n",
       "      <th>ChronicLoad</th>\n",
       "    </tr>\n",
       "  </thead>\n",
       "  <tbody>\n",
       "    <tr>\n",
       "      <th>0</th>\n",
       "      <td>2017-08-01</td>\n",
       "      <td>1</td>\n",
       "      <td>540.0</td>\n",
       "      <td>4.29</td>\n",
       "      <td>77.14</td>\n",
       "      <td>18.00</td>\n",
       "    </tr>\n",
       "    <tr>\n",
       "      <th>17</th>\n",
       "      <td>2017-08-02</td>\n",
       "      <td>1</td>\n",
       "      <td>0.0</td>\n",
       "      <td>4.29</td>\n",
       "      <td>77.14</td>\n",
       "      <td>18.00</td>\n",
       "    </tr>\n",
       "    <tr>\n",
       "      <th>34</th>\n",
       "      <td>2017-08-03</td>\n",
       "      <td>1</td>\n",
       "      <td>0.0</td>\n",
       "      <td>4.29</td>\n",
       "      <td>77.14</td>\n",
       "      <td>18.00</td>\n",
       "    </tr>\n",
       "    <tr>\n",
       "      <th>51</th>\n",
       "      <td>2017-08-04</td>\n",
       "      <td>1</td>\n",
       "      <td>0.0</td>\n",
       "      <td>4.29</td>\n",
       "      <td>77.14</td>\n",
       "      <td>18.00</td>\n",
       "    </tr>\n",
       "    <tr>\n",
       "      <th>68</th>\n",
       "      <td>2017-08-05</td>\n",
       "      <td>1</td>\n",
       "      <td>0.0</td>\n",
       "      <td>4.29</td>\n",
       "      <td>77.14</td>\n",
       "      <td>18.00</td>\n",
       "    </tr>\n",
       "    <tr>\n",
       "      <th>85</th>\n",
       "      <td>2017-08-06</td>\n",
       "      <td>1</td>\n",
       "      <td>0.0</td>\n",
       "      <td>4.29</td>\n",
       "      <td>77.14</td>\n",
       "      <td>18.00</td>\n",
       "    </tr>\n",
       "    <tr>\n",
       "      <th>102</th>\n",
       "      <td>2017-08-07</td>\n",
       "      <td>1</td>\n",
       "      <td>720.0</td>\n",
       "      <td>4.29</td>\n",
       "      <td>180.00</td>\n",
       "      <td>42.00</td>\n",
       "    </tr>\n",
       "    <tr>\n",
       "      <th>119</th>\n",
       "      <td>2017-08-08</td>\n",
       "      <td>1</td>\n",
       "      <td>0.0</td>\n",
       "      <td>2.45</td>\n",
       "      <td>102.86</td>\n",
       "      <td>42.00</td>\n",
       "    </tr>\n",
       "    <tr>\n",
       "      <th>136</th>\n",
       "      <td>2017-08-09</td>\n",
       "      <td>1</td>\n",
       "      <td>0.0</td>\n",
       "      <td>2.45</td>\n",
       "      <td>102.86</td>\n",
       "      <td>42.00</td>\n",
       "    </tr>\n",
       "    <tr>\n",
       "      <th>153</th>\n",
       "      <td>2017-08-10</td>\n",
       "      <td>1</td>\n",
       "      <td>0.0</td>\n",
       "      <td>2.45</td>\n",
       "      <td>102.86</td>\n",
       "      <td>42.00</td>\n",
       "    </tr>\n",
       "    <tr>\n",
       "      <th>170</th>\n",
       "      <td>2017-08-11</td>\n",
       "      <td>1</td>\n",
       "      <td>0.0</td>\n",
       "      <td>2.45</td>\n",
       "      <td>102.86</td>\n",
       "      <td>42.00</td>\n",
       "    </tr>\n",
       "    <tr>\n",
       "      <th>187</th>\n",
       "      <td>2017-08-12</td>\n",
       "      <td>1</td>\n",
       "      <td>0.0</td>\n",
       "      <td>2.45</td>\n",
       "      <td>102.86</td>\n",
       "      <td>42.00</td>\n",
       "    </tr>\n",
       "    <tr>\n",
       "      <th>204</th>\n",
       "      <td>2017-08-13</td>\n",
       "      <td>1</td>\n",
       "      <td>0.0</td>\n",
       "      <td>2.45</td>\n",
       "      <td>102.86</td>\n",
       "      <td>42.00</td>\n",
       "    </tr>\n",
       "    <tr>\n",
       "      <th>221</th>\n",
       "      <td>2017-08-14</td>\n",
       "      <td>1</td>\n",
       "      <td>690.0</td>\n",
       "      <td>1.52</td>\n",
       "      <td>98.57</td>\n",
       "      <td>65.00</td>\n",
       "    </tr>\n",
       "    <tr>\n",
       "      <th>238</th>\n",
       "      <td>2017-08-15</td>\n",
       "      <td>1</td>\n",
       "      <td>0.0</td>\n",
       "      <td>1.52</td>\n",
       "      <td>98.57</td>\n",
       "      <td>65.00</td>\n",
       "    </tr>\n",
       "    <tr>\n",
       "      <th>255</th>\n",
       "      <td>2017-08-16</td>\n",
       "      <td>1</td>\n",
       "      <td>0.0</td>\n",
       "      <td>1.52</td>\n",
       "      <td>98.57</td>\n",
       "      <td>65.00</td>\n",
       "    </tr>\n",
       "    <tr>\n",
       "      <th>272</th>\n",
       "      <td>2017-08-17</td>\n",
       "      <td>1</td>\n",
       "      <td>510.0</td>\n",
       "      <td>2.09</td>\n",
       "      <td>171.43</td>\n",
       "      <td>82.00</td>\n",
       "    </tr>\n",
       "    <tr>\n",
       "      <th>289</th>\n",
       "      <td>2017-08-18</td>\n",
       "      <td>1</td>\n",
       "      <td>1230.0</td>\n",
       "      <td>2.82</td>\n",
       "      <td>347.14</td>\n",
       "      <td>123.00</td>\n",
       "    </tr>\n",
       "    <tr>\n",
       "      <th>306</th>\n",
       "      <td>2017-08-19</td>\n",
       "      <td>1</td>\n",
       "      <td>0.0</td>\n",
       "      <td>2.82</td>\n",
       "      <td>347.14</td>\n",
       "      <td>123.00</td>\n",
       "    </tr>\n",
       "    <tr>\n",
       "      <th>323</th>\n",
       "      <td>2017-08-20</td>\n",
       "      <td>1</td>\n",
       "      <td>0.0</td>\n",
       "      <td>2.82</td>\n",
       "      <td>347.14</td>\n",
       "      <td>123.00</td>\n",
       "    </tr>\n",
       "    <tr>\n",
       "      <th>340</th>\n",
       "      <td>2017-08-21</td>\n",
       "      <td>1</td>\n",
       "      <td>670.0</td>\n",
       "      <td>2.37</td>\n",
       "      <td>344.29</td>\n",
       "      <td>145.33</td>\n",
       "    </tr>\n",
       "    <tr>\n",
       "      <th>357</th>\n",
       "      <td>2017-08-22</td>\n",
       "      <td>1</td>\n",
       "      <td>1080.0</td>\n",
       "      <td>2.75</td>\n",
       "      <td>498.57</td>\n",
       "      <td>181.33</td>\n",
       "    </tr>\n",
       "    <tr>\n",
       "      <th>374</th>\n",
       "      <td>2017-08-23</td>\n",
       "      <td>1</td>\n",
       "      <td>0.0</td>\n",
       "      <td>2.75</td>\n",
       "      <td>498.57</td>\n",
       "      <td>181.33</td>\n",
       "    </tr>\n",
       "    <tr>\n",
       "      <th>391</th>\n",
       "      <td>2017-08-24</td>\n",
       "      <td>1</td>\n",
       "      <td>0.0</td>\n",
       "      <td>2.35</td>\n",
       "      <td>425.71</td>\n",
       "      <td>181.33</td>\n",
       "    </tr>\n",
       "    <tr>\n",
       "      <th>408</th>\n",
       "      <td>2017-08-25</td>\n",
       "      <td>1</td>\n",
       "      <td>1020.0</td>\n",
       "      <td>1.84</td>\n",
       "      <td>395.71</td>\n",
       "      <td>215.33</td>\n",
       "    </tr>\n",
       "    <tr>\n",
       "      <th>425</th>\n",
       "      <td>2017-08-26</td>\n",
       "      <td>1</td>\n",
       "      <td>0.0</td>\n",
       "      <td>1.84</td>\n",
       "      <td>395.71</td>\n",
       "      <td>215.33</td>\n",
       "    </tr>\n",
       "    <tr>\n",
       "      <th>442</th>\n",
       "      <td>2017-08-27</td>\n",
       "      <td>1</td>\n",
       "      <td>0.0</td>\n",
       "      <td>1.84</td>\n",
       "      <td>395.71</td>\n",
       "      <td>215.33</td>\n",
       "    </tr>\n",
       "    <tr>\n",
       "      <th>459</th>\n",
       "      <td>2017-08-28</td>\n",
       "      <td>1</td>\n",
       "      <td>780.0</td>\n",
       "      <td>1.70</td>\n",
       "      <td>411.43</td>\n",
       "      <td>241.33</td>\n",
       "    </tr>\n",
       "    <tr>\n",
       "      <th>476</th>\n",
       "      <td>2017-08-29</td>\n",
       "      <td>1</td>\n",
       "      <td>630.0</td>\n",
       "      <td>1.32</td>\n",
       "      <td>347.14</td>\n",
       "      <td>262.33</td>\n",
       "    </tr>\n",
       "    <tr>\n",
       "      <th>493</th>\n",
       "      <td>2017-08-30</td>\n",
       "      <td>1</td>\n",
       "      <td>0.0</td>\n",
       "      <td>1.32</td>\n",
       "      <td>347.14</td>\n",
       "      <td>262.33</td>\n",
       "    </tr>\n",
       "    <tr>\n",
       "      <th>...</th>\n",
       "      <td>...</td>\n",
       "      <td>...</td>\n",
       "      <td>...</td>\n",
       "      <td>...</td>\n",
       "      <td>...</td>\n",
       "      <td>...</td>\n",
       "    </tr>\n",
       "    <tr>\n",
       "      <th>5525</th>\n",
       "      <td>2018-06-22</td>\n",
       "      <td>1</td>\n",
       "      <td>710.0</td>\n",
       "      <td>1.51</td>\n",
       "      <td>387.14</td>\n",
       "      <td>256.67</td>\n",
       "    </tr>\n",
       "    <tr>\n",
       "      <th>5542</th>\n",
       "      <td>2018-06-23</td>\n",
       "      <td>1</td>\n",
       "      <td>0.0</td>\n",
       "      <td>1.65</td>\n",
       "      <td>387.14</td>\n",
       "      <td>234.67</td>\n",
       "    </tr>\n",
       "    <tr>\n",
       "      <th>5559</th>\n",
       "      <td>2018-06-24</td>\n",
       "      <td>1</td>\n",
       "      <td>0.0</td>\n",
       "      <td>1.90</td>\n",
       "      <td>387.14</td>\n",
       "      <td>204.00</td>\n",
       "    </tr>\n",
       "    <tr>\n",
       "      <th>5576</th>\n",
       "      <td>2018-06-25</td>\n",
       "      <td>1</td>\n",
       "      <td>570.0</td>\n",
       "      <td>1.72</td>\n",
       "      <td>384.29</td>\n",
       "      <td>223.00</td>\n",
       "    </tr>\n",
       "    <tr>\n",
       "      <th>5593</th>\n",
       "      <td>2018-06-26</td>\n",
       "      <td>1</td>\n",
       "      <td>630.0</td>\n",
       "      <td>1.35</td>\n",
       "      <td>328.57</td>\n",
       "      <td>244.00</td>\n",
       "    </tr>\n",
       "    <tr>\n",
       "      <th>5610</th>\n",
       "      <td>2018-06-27</td>\n",
       "      <td>1</td>\n",
       "      <td>0.0</td>\n",
       "      <td>1.47</td>\n",
       "      <td>328.57</td>\n",
       "      <td>224.00</td>\n",
       "    </tr>\n",
       "    <tr>\n",
       "      <th>5627</th>\n",
       "      <td>2018-06-28</td>\n",
       "      <td>1</td>\n",
       "      <td>300.0</td>\n",
       "      <td>1.45</td>\n",
       "      <td>315.71</td>\n",
       "      <td>217.67</td>\n",
       "    </tr>\n",
       "    <tr>\n",
       "      <th>5644</th>\n",
       "      <td>2018-06-29</td>\n",
       "      <td>1</td>\n",
       "      <td>390.0</td>\n",
       "      <td>1.17</td>\n",
       "      <td>270.00</td>\n",
       "      <td>230.67</td>\n",
       "    </tr>\n",
       "    <tr>\n",
       "      <th>5661</th>\n",
       "      <td>2018-06-30</td>\n",
       "      <td>1</td>\n",
       "      <td>0.0</td>\n",
       "      <td>1.25</td>\n",
       "      <td>270.00</td>\n",
       "      <td>216.00</td>\n",
       "    </tr>\n",
       "    <tr>\n",
       "      <th>5678</th>\n",
       "      <td>2018-07-01</td>\n",
       "      <td>1</td>\n",
       "      <td>0.0</td>\n",
       "      <td>1.34</td>\n",
       "      <td>270.00</td>\n",
       "      <td>201.00</td>\n",
       "    </tr>\n",
       "    <tr>\n",
       "      <th>5695</th>\n",
       "      <td>2018-07-02</td>\n",
       "      <td>1</td>\n",
       "      <td>370.0</td>\n",
       "      <td>1.13</td>\n",
       "      <td>241.43</td>\n",
       "      <td>213.33</td>\n",
       "    </tr>\n",
       "    <tr>\n",
       "      <th>5712</th>\n",
       "      <td>2018-07-03</td>\n",
       "      <td>1</td>\n",
       "      <td>450.0</td>\n",
       "      <td>0.94</td>\n",
       "      <td>215.71</td>\n",
       "      <td>228.33</td>\n",
       "    </tr>\n",
       "    <tr>\n",
       "      <th>5729</th>\n",
       "      <td>2018-07-04</td>\n",
       "      <td>1</td>\n",
       "      <td>0.0</td>\n",
       "      <td>0.94</td>\n",
       "      <td>215.71</td>\n",
       "      <td>228.33</td>\n",
       "    </tr>\n",
       "    <tr>\n",
       "      <th>5746</th>\n",
       "      <td>2018-07-05</td>\n",
       "      <td>1</td>\n",
       "      <td>220.0</td>\n",
       "      <td>0.91</td>\n",
       "      <td>204.29</td>\n",
       "      <td>223.67</td>\n",
       "    </tr>\n",
       "    <tr>\n",
       "      <th>5763</th>\n",
       "      <td>2018-07-06</td>\n",
       "      <td>1</td>\n",
       "      <td>0.0</td>\n",
       "      <td>0.66</td>\n",
       "      <td>148.57</td>\n",
       "      <td>223.67</td>\n",
       "    </tr>\n",
       "    <tr>\n",
       "      <th>5780</th>\n",
       "      <td>2018-07-07</td>\n",
       "      <td>1</td>\n",
       "      <td>0.0</td>\n",
       "      <td>0.68</td>\n",
       "      <td>148.57</td>\n",
       "      <td>219.67</td>\n",
       "    </tr>\n",
       "    <tr>\n",
       "      <th>5797</th>\n",
       "      <td>2018-07-08</td>\n",
       "      <td>1</td>\n",
       "      <td>0.0</td>\n",
       "      <td>0.72</td>\n",
       "      <td>148.57</td>\n",
       "      <td>205.27</td>\n",
       "    </tr>\n",
       "    <tr>\n",
       "      <th>5814</th>\n",
       "      <td>2018-07-09</td>\n",
       "      <td>1</td>\n",
       "      <td>0.0</td>\n",
       "      <td>0.47</td>\n",
       "      <td>95.71</td>\n",
       "      <td>205.27</td>\n",
       "    </tr>\n",
       "    <tr>\n",
       "      <th>5831</th>\n",
       "      <td>2018-07-10</td>\n",
       "      <td>1</td>\n",
       "      <td>360.0</td>\n",
       "      <td>0.39</td>\n",
       "      <td>82.86</td>\n",
       "      <td>212.00</td>\n",
       "    </tr>\n",
       "    <tr>\n",
       "      <th>5848</th>\n",
       "      <td>2018-07-11</td>\n",
       "      <td>1</td>\n",
       "      <td>0.0</td>\n",
       "      <td>0.39</td>\n",
       "      <td>82.86</td>\n",
       "      <td>212.00</td>\n",
       "    </tr>\n",
       "    <tr>\n",
       "      <th>5865</th>\n",
       "      <td>2018-07-12</td>\n",
       "      <td>1</td>\n",
       "      <td>0.0</td>\n",
       "      <td>0.24</td>\n",
       "      <td>51.43</td>\n",
       "      <td>212.00</td>\n",
       "    </tr>\n",
       "    <tr>\n",
       "      <th>5882</th>\n",
       "      <td>2018-07-13</td>\n",
       "      <td>1</td>\n",
       "      <td>0.0</td>\n",
       "      <td>0.24</td>\n",
       "      <td>51.43</td>\n",
       "      <td>212.00</td>\n",
       "    </tr>\n",
       "    <tr>\n",
       "      <th>5899</th>\n",
       "      <td>2018-07-14</td>\n",
       "      <td>1</td>\n",
       "      <td>0.0</td>\n",
       "      <td>0.24</td>\n",
       "      <td>51.43</td>\n",
       "      <td>212.00</td>\n",
       "    </tr>\n",
       "    <tr>\n",
       "      <th>5916</th>\n",
       "      <td>2018-07-15</td>\n",
       "      <td>1</td>\n",
       "      <td>0.0</td>\n",
       "      <td>0.26</td>\n",
       "      <td>51.43</td>\n",
       "      <td>200.00</td>\n",
       "    </tr>\n",
       "    <tr>\n",
       "      <th>5933</th>\n",
       "      <td>2018-07-16</td>\n",
       "      <td>1</td>\n",
       "      <td>240.0</td>\n",
       "      <td>0.41</td>\n",
       "      <td>85.71</td>\n",
       "      <td>208.00</td>\n",
       "    </tr>\n",
       "    <tr>\n",
       "      <th>5950</th>\n",
       "      <td>2018-07-17</td>\n",
       "      <td>1</td>\n",
       "      <td>180.0</td>\n",
       "      <td>0.28</td>\n",
       "      <td>60.00</td>\n",
       "      <td>214.00</td>\n",
       "    </tr>\n",
       "    <tr>\n",
       "      <th>5967</th>\n",
       "      <td>2018-07-18</td>\n",
       "      <td>1</td>\n",
       "      <td>0.0</td>\n",
       "      <td>0.31</td>\n",
       "      <td>60.00</td>\n",
       "      <td>194.33</td>\n",
       "    </tr>\n",
       "    <tr>\n",
       "      <th>5984</th>\n",
       "      <td>2018-07-19</td>\n",
       "      <td>1</td>\n",
       "      <td>180.0</td>\n",
       "      <td>0.52</td>\n",
       "      <td>85.71</td>\n",
       "      <td>166.33</td>\n",
       "    </tr>\n",
       "    <tr>\n",
       "      <th>6001</th>\n",
       "      <td>2018-07-20</td>\n",
       "      <td>1</td>\n",
       "      <td>0.0</td>\n",
       "      <td>0.52</td>\n",
       "      <td>85.71</td>\n",
       "      <td>166.33</td>\n",
       "    </tr>\n",
       "    <tr>\n",
       "      <th>6018</th>\n",
       "      <td>2018-07-21</td>\n",
       "      <td>1</td>\n",
       "      <td>0.0</td>\n",
       "      <td>0.56</td>\n",
       "      <td>85.71</td>\n",
       "      <td>153.33</td>\n",
       "    </tr>\n",
       "  </tbody>\n",
       "</table>\n",
       "<p>355 rows × 6 columns</p>\n",
       "</div>"
      ],
      "text/plain": [
       "           Date  PlayerID  DailyLoad  AcuteChronicRatio  AcuteLoad  \\\n",
       "0    2017-08-01         1      540.0               4.29      77.14   \n",
       "17   2017-08-02         1        0.0               4.29      77.14   \n",
       "34   2017-08-03         1        0.0               4.29      77.14   \n",
       "51   2017-08-04         1        0.0               4.29      77.14   \n",
       "68   2017-08-05         1        0.0               4.29      77.14   \n",
       "85   2017-08-06         1        0.0               4.29      77.14   \n",
       "102  2017-08-07         1      720.0               4.29     180.00   \n",
       "119  2017-08-08         1        0.0               2.45     102.86   \n",
       "136  2017-08-09         1        0.0               2.45     102.86   \n",
       "153  2017-08-10         1        0.0               2.45     102.86   \n",
       "170  2017-08-11         1        0.0               2.45     102.86   \n",
       "187  2017-08-12         1        0.0               2.45     102.86   \n",
       "204  2017-08-13         1        0.0               2.45     102.86   \n",
       "221  2017-08-14         1      690.0               1.52      98.57   \n",
       "238  2017-08-15         1        0.0               1.52      98.57   \n",
       "255  2017-08-16         1        0.0               1.52      98.57   \n",
       "272  2017-08-17         1      510.0               2.09     171.43   \n",
       "289  2017-08-18         1     1230.0               2.82     347.14   \n",
       "306  2017-08-19         1        0.0               2.82     347.14   \n",
       "323  2017-08-20         1        0.0               2.82     347.14   \n",
       "340  2017-08-21         1      670.0               2.37     344.29   \n",
       "357  2017-08-22         1     1080.0               2.75     498.57   \n",
       "374  2017-08-23         1        0.0               2.75     498.57   \n",
       "391  2017-08-24         1        0.0               2.35     425.71   \n",
       "408  2017-08-25         1     1020.0               1.84     395.71   \n",
       "425  2017-08-26         1        0.0               1.84     395.71   \n",
       "442  2017-08-27         1        0.0               1.84     395.71   \n",
       "459  2017-08-28         1      780.0               1.70     411.43   \n",
       "476  2017-08-29         1      630.0               1.32     347.14   \n",
       "493  2017-08-30         1        0.0               1.32     347.14   \n",
       "...         ...       ...        ...                ...        ...   \n",
       "5525 2018-06-22         1      710.0               1.51     387.14   \n",
       "5542 2018-06-23         1        0.0               1.65     387.14   \n",
       "5559 2018-06-24         1        0.0               1.90     387.14   \n",
       "5576 2018-06-25         1      570.0               1.72     384.29   \n",
       "5593 2018-06-26         1      630.0               1.35     328.57   \n",
       "5610 2018-06-27         1        0.0               1.47     328.57   \n",
       "5627 2018-06-28         1      300.0               1.45     315.71   \n",
       "5644 2018-06-29         1      390.0               1.17     270.00   \n",
       "5661 2018-06-30         1        0.0               1.25     270.00   \n",
       "5678 2018-07-01         1        0.0               1.34     270.00   \n",
       "5695 2018-07-02         1      370.0               1.13     241.43   \n",
       "5712 2018-07-03         1      450.0               0.94     215.71   \n",
       "5729 2018-07-04         1        0.0               0.94     215.71   \n",
       "5746 2018-07-05         1      220.0               0.91     204.29   \n",
       "5763 2018-07-06         1        0.0               0.66     148.57   \n",
       "5780 2018-07-07         1        0.0               0.68     148.57   \n",
       "5797 2018-07-08         1        0.0               0.72     148.57   \n",
       "5814 2018-07-09         1        0.0               0.47      95.71   \n",
       "5831 2018-07-10         1      360.0               0.39      82.86   \n",
       "5848 2018-07-11         1        0.0               0.39      82.86   \n",
       "5865 2018-07-12         1        0.0               0.24      51.43   \n",
       "5882 2018-07-13         1        0.0               0.24      51.43   \n",
       "5899 2018-07-14         1        0.0               0.24      51.43   \n",
       "5916 2018-07-15         1        0.0               0.26      51.43   \n",
       "5933 2018-07-16         1      240.0               0.41      85.71   \n",
       "5950 2018-07-17         1      180.0               0.28      60.00   \n",
       "5967 2018-07-18         1        0.0               0.31      60.00   \n",
       "5984 2018-07-19         1      180.0               0.52      85.71   \n",
       "6001 2018-07-20         1        0.0               0.52      85.71   \n",
       "6018 2018-07-21         1        0.0               0.56      85.71   \n",
       "\n",
       "      ChronicLoad  \n",
       "0           18.00  \n",
       "17          18.00  \n",
       "34          18.00  \n",
       "51          18.00  \n",
       "68          18.00  \n",
       "85          18.00  \n",
       "102         42.00  \n",
       "119         42.00  \n",
       "136         42.00  \n",
       "153         42.00  \n",
       "170         42.00  \n",
       "187         42.00  \n",
       "204         42.00  \n",
       "221         65.00  \n",
       "238         65.00  \n",
       "255         65.00  \n",
       "272         82.00  \n",
       "289        123.00  \n",
       "306        123.00  \n",
       "323        123.00  \n",
       "340        145.33  \n",
       "357        181.33  \n",
       "374        181.33  \n",
       "391        181.33  \n",
       "408        215.33  \n",
       "425        215.33  \n",
       "442        215.33  \n",
       "459        241.33  \n",
       "476        262.33  \n",
       "493        262.33  \n",
       "...           ...  \n",
       "5525       256.67  \n",
       "5542       234.67  \n",
       "5559       204.00  \n",
       "5576       223.00  \n",
       "5593       244.00  \n",
       "5610       224.00  \n",
       "5627       217.67  \n",
       "5644       230.67  \n",
       "5661       216.00  \n",
       "5678       201.00  \n",
       "5695       213.33  \n",
       "5712       228.33  \n",
       "5729       228.33  \n",
       "5746       223.67  \n",
       "5763       223.67  \n",
       "5780       219.67  \n",
       "5797       205.27  \n",
       "5814       205.27  \n",
       "5831       212.00  \n",
       "5848       212.00  \n",
       "5865       212.00  \n",
       "5882       212.00  \n",
       "5899       212.00  \n",
       "5916       200.00  \n",
       "5933       208.00  \n",
       "5950       214.00  \n",
       "5967       194.33  \n",
       "5984       166.33  \n",
       "6001       166.33  \n",
       "6018       153.33  \n",
       "\n",
       "[355 rows x 6 columns]"
      ]
     },
     "execution_count": 12,
     "metadata": {},
     "output_type": "execute_result"
    }
   ],
   "source": [
    "rpe_df.drop(['ChronicLoad','AcuteLoad'],axis = 1, inplace = True)\n",
    "rpe_df.rename(columns = {'newChronicLoad':'ChronicLoad','newAcuteLoad':'AcuteLoad'}, inplace = True)\n",
    "rpe_df['AcuteChronicRatio'] = (rpe_df['AcuteLoad'] / rpe_df['ChronicLoad']).round(2)\n",
    "rpe_df[rpe_df['PlayerID'] == 1]"
   ]
  },
  {
   "cell_type": "code",
   "execution_count": 13,
   "metadata": {},
   "outputs": [
    {
     "data": {
      "text/html": [
       "<div>\n",
       "<style scoped>\n",
       "    .dataframe tbody tr th:only-of-type {\n",
       "        vertical-align: middle;\n",
       "    }\n",
       "\n",
       "    .dataframe tbody tr th {\n",
       "        vertical-align: top;\n",
       "    }\n",
       "\n",
       "    .dataframe thead th {\n",
       "        text-align: right;\n",
       "    }\n",
       "</style>\n",
       "<table border=\"1\" class=\"dataframe\">\n",
       "  <thead>\n",
       "    <tr style=\"text-align: right;\">\n",
       "      <th></th>\n",
       "      <th>Date</th>\n",
       "      <th>GameID</th>\n",
       "      <th>Outcome</th>\n",
       "      <th>TeamPoints</th>\n",
       "      <th>PlayerID</th>\n",
       "      <th>MaxSpeedInGame</th>\n",
       "      <th>MaxAccelImpulseInGame</th>\n",
       "    </tr>\n",
       "  </thead>\n",
       "  <tbody>\n",
       "    <tr>\n",
       "      <th>0</th>\n",
       "      <td>2017-11-30</td>\n",
       "      <td>1</td>\n",
       "      <td>W</td>\n",
       "      <td>19</td>\n",
       "      <td>2</td>\n",
       "      <td>7.284728</td>\n",
       "      <td>4.423615</td>\n",
       "    </tr>\n",
       "    <tr>\n",
       "      <th>1</th>\n",
       "      <td>2017-11-30</td>\n",
       "      <td>1</td>\n",
       "      <td>W</td>\n",
       "      <td>19</td>\n",
       "      <td>3</td>\n",
       "      <td>6.852436</td>\n",
       "      <td>4.888893</td>\n",
       "    </tr>\n",
       "    <tr>\n",
       "      <th>2</th>\n",
       "      <td>2017-11-30</td>\n",
       "      <td>1</td>\n",
       "      <td>W</td>\n",
       "      <td>19</td>\n",
       "      <td>4</td>\n",
       "      <td>7.267784</td>\n",
       "      <td>5.694449</td>\n",
       "    </tr>\n",
       "    <tr>\n",
       "      <th>3</th>\n",
       "      <td>2017-11-30</td>\n",
       "      <td>1</td>\n",
       "      <td>W</td>\n",
       "      <td>19</td>\n",
       "      <td>6</td>\n",
       "      <td>6.338894</td>\n",
       "      <td>4.777782</td>\n",
       "    </tr>\n",
       "    <tr>\n",
       "      <th>4</th>\n",
       "      <td>2017-11-30</td>\n",
       "      <td>1</td>\n",
       "      <td>W</td>\n",
       "      <td>19</td>\n",
       "      <td>7</td>\n",
       "      <td>7.065283</td>\n",
       "      <td>4.091273</td>\n",
       "    </tr>\n",
       "  </tbody>\n",
       "</table>\n",
       "</div>"
      ],
      "text/plain": [
       "         Date  GameID Outcome  TeamPoints  PlayerID  MaxSpeedInGame  \\\n",
       "0  2017-11-30       1       W          19         2        7.284728   \n",
       "1  2017-11-30       1       W          19         3        6.852436   \n",
       "2  2017-11-30       1       W          19         4        7.267784   \n",
       "3  2017-11-30       1       W          19         6        6.338894   \n",
       "4  2017-11-30       1       W          19         7        7.065283   \n",
       "\n",
       "   MaxAccelImpulseInGame  \n",
       "0               4.423615  \n",
       "1               4.888893  \n",
       "2               5.694449  \n",
       "3               4.777782  \n",
       "4               4.091273  "
      ]
     },
     "execution_count": 13,
     "metadata": {},
     "output_type": "execute_result"
    }
   ],
   "source": [
    "gps_df = pd.read_csv('./processed_data/processed_gps.csv')\n",
    "gps_df = gps_df.drop(columns=['Unnamed: 0'])\n",
    "gps_df.head()\n"
   ]
  },
  {
   "cell_type": "code",
   "execution_count": 14,
   "metadata": {},
   "outputs": [
    {
     "name": "stdout",
     "output_type": "stream",
     "text": [
      "443\n"
     ]
    },
    {
     "data": {
      "text/html": [
       "<div>\n",
       "<style scoped>\n",
       "    .dataframe tbody tr th:only-of-type {\n",
       "        vertical-align: middle;\n",
       "    }\n",
       "\n",
       "    .dataframe tbody tr th {\n",
       "        vertical-align: top;\n",
       "    }\n",
       "\n",
       "    .dataframe thead th {\n",
       "        text-align: right;\n",
       "    }\n",
       "</style>\n",
       "<table border=\"1\" class=\"dataframe\">\n",
       "  <thead>\n",
       "    <tr style=\"text-align: right;\">\n",
       "      <th></th>\n",
       "      <th>Date</th>\n",
       "      <th>GameID</th>\n",
       "      <th>Outcome</th>\n",
       "      <th>TeamPoints</th>\n",
       "      <th>PlayerID</th>\n",
       "      <th>MaxSpeedInGame</th>\n",
       "      <th>MaxAccelImpulseInGame</th>\n",
       "      <th>AcuteLoad</th>\n",
       "      <th>ChronicLoad</th>\n",
       "      <th>AcuteChronicRatio</th>\n",
       "    </tr>\n",
       "  </thead>\n",
       "  <tbody>\n",
       "    <tr>\n",
       "      <th>0</th>\n",
       "      <td>2017-11-30</td>\n",
       "      <td>1</td>\n",
       "      <td>W</td>\n",
       "      <td>19</td>\n",
       "      <td>2</td>\n",
       "      <td>7.284728</td>\n",
       "      <td>4.423615</td>\n",
       "      <td>206.57</td>\n",
       "      <td>371.20</td>\n",
       "      <td>0.56</td>\n",
       "    </tr>\n",
       "    <tr>\n",
       "      <th>1</th>\n",
       "      <td>2017-11-30</td>\n",
       "      <td>1</td>\n",
       "      <td>W</td>\n",
       "      <td>19</td>\n",
       "      <td>3</td>\n",
       "      <td>6.852436</td>\n",
       "      <td>4.888893</td>\n",
       "      <td>407.86</td>\n",
       "      <td>454.67</td>\n",
       "      <td>0.90</td>\n",
       "    </tr>\n",
       "    <tr>\n",
       "      <th>2</th>\n",
       "      <td>2017-11-30</td>\n",
       "      <td>1</td>\n",
       "      <td>W</td>\n",
       "      <td>19</td>\n",
       "      <td>4</td>\n",
       "      <td>7.267784</td>\n",
       "      <td>5.694449</td>\n",
       "      <td>236.00</td>\n",
       "      <td>406.90</td>\n",
       "      <td>0.58</td>\n",
       "    </tr>\n",
       "    <tr>\n",
       "      <th>3</th>\n",
       "      <td>2017-11-30</td>\n",
       "      <td>1</td>\n",
       "      <td>W</td>\n",
       "      <td>19</td>\n",
       "      <td>6</td>\n",
       "      <td>6.338894</td>\n",
       "      <td>4.777782</td>\n",
       "      <td>297.29</td>\n",
       "      <td>415.87</td>\n",
       "      <td>0.71</td>\n",
       "    </tr>\n",
       "    <tr>\n",
       "      <th>4</th>\n",
       "      <td>2017-11-30</td>\n",
       "      <td>1</td>\n",
       "      <td>W</td>\n",
       "      <td>19</td>\n",
       "      <td>7</td>\n",
       "      <td>7.065283</td>\n",
       "      <td>4.091273</td>\n",
       "      <td>237.57</td>\n",
       "      <td>476.60</td>\n",
       "      <td>0.50</td>\n",
       "    </tr>\n",
       "  </tbody>\n",
       "</table>\n",
       "</div>"
      ],
      "text/plain": [
       "        Date  GameID Outcome  TeamPoints  PlayerID  MaxSpeedInGame  \\\n",
       "0 2017-11-30       1       W          19         2        7.284728   \n",
       "1 2017-11-30       1       W          19         3        6.852436   \n",
       "2 2017-11-30       1       W          19         4        7.267784   \n",
       "3 2017-11-30       1       W          19         6        6.338894   \n",
       "4 2017-11-30       1       W          19         7        7.065283   \n",
       "\n",
       "   MaxAccelImpulseInGame  AcuteLoad  ChronicLoad  AcuteChronicRatio  \n",
       "0               4.423615     206.57       371.20               0.56  \n",
       "1               4.888893     407.86       454.67               0.90  \n",
       "2               5.694449     236.00       406.90               0.58  \n",
       "3               4.777782     297.29       415.87               0.71  \n",
       "4               4.091273     237.57       476.60               0.50  "
      ]
     },
     "execution_count": 14,
     "metadata": {},
     "output_type": "execute_result"
    }
   ],
   "source": [
    "# merged_df = gps_df.merge(rpe_df, how='left', on=['Date', 'PlayerID'])\n",
    "# merged_df.head()\n",
    "gps_df['Date'] = pd.to_datetime(gps_df['Date'])\n",
    "train_performance = gps_df.merge(rpe_df[[\n",
    "    'Date','PlayerID', 'AcuteLoad',\n",
    "    'ChronicLoad','AcuteChronicRatio']],\n",
    "    how='left', on= ['Date','PlayerID']).drop_duplicates()\n",
    "print(len(train_performance))\n",
    "train_performance.head()"
   ]
  },
  {
   "cell_type": "code",
   "execution_count": 15,
   "metadata": {},
   "outputs": [
    {
     "data": {
      "text/html": [
       "<div>\n",
       "<style scoped>\n",
       "    .dataframe tbody tr th:only-of-type {\n",
       "        vertical-align: middle;\n",
       "    }\n",
       "\n",
       "    .dataframe tbody tr th {\n",
       "        vertical-align: top;\n",
       "    }\n",
       "\n",
       "    .dataframe thead th {\n",
       "        text-align: right;\n",
       "    }\n",
       "</style>\n",
       "<table border=\"1\" class=\"dataframe\">\n",
       "  <thead>\n",
       "    <tr style=\"text-align: right;\">\n",
       "      <th></th>\n",
       "      <th>Date</th>\n",
       "      <th>PlayerID</th>\n",
       "      <th>MonitoringScore</th>\n",
       "      <th>TrainingReadiness</th>\n",
       "      <th>Pain</th>\n",
       "      <th>Illness</th>\n",
       "      <th>Nutrition</th>\n",
       "      <th>StandardizedMonitoringScore</th>\n",
       "      <th>StandardizedPain</th>\n",
       "      <th>StandardizedIllness</th>\n",
       "      <th>StandardizedNutrition</th>\n",
       "      <th>StandardizedTrainingReadiness</th>\n",
       "      <th>wellness</th>\n",
       "    </tr>\n",
       "  </thead>\n",
       "  <tbody>\n",
       "    <tr>\n",
       "      <th>0</th>\n",
       "      <td>2018-07-21</td>\n",
       "      <td>1</td>\n",
       "      <td>13</td>\n",
       "      <td>0</td>\n",
       "      <td>1</td>\n",
       "      <td>3</td>\n",
       "      <td>3</td>\n",
       "      <td>-1.450204</td>\n",
       "      <td>0.364611</td>\n",
       "      <td>0.301008</td>\n",
       "      <td>0.722090</td>\n",
       "      <td>-1.826823</td>\n",
       "      <td>-1.889318</td>\n",
       "    </tr>\n",
       "    <tr>\n",
       "      <th>1</th>\n",
       "      <td>2018-07-21</td>\n",
       "      <td>2</td>\n",
       "      <td>19</td>\n",
       "      <td>0</td>\n",
       "      <td>0</td>\n",
       "      <td>3</td>\n",
       "      <td>3</td>\n",
       "      <td>0.170622</td>\n",
       "      <td>-2.742646</td>\n",
       "      <td>0.301008</td>\n",
       "      <td>0.722090</td>\n",
       "      <td>-1.826823</td>\n",
       "      <td>-3.375750</td>\n",
       "    </tr>\n",
       "    <tr>\n",
       "      <th>2</th>\n",
       "      <td>2018-07-21</td>\n",
       "      <td>3</td>\n",
       "      <td>19</td>\n",
       "      <td>100</td>\n",
       "      <td>1</td>\n",
       "      <td>3</td>\n",
       "      <td>3</td>\n",
       "      <td>0.170622</td>\n",
       "      <td>0.364611</td>\n",
       "      <td>0.301008</td>\n",
       "      <td>0.722090</td>\n",
       "      <td>0.795746</td>\n",
       "      <td>2.354077</td>\n",
       "    </tr>\n",
       "    <tr>\n",
       "      <th>3</th>\n",
       "      <td>2018-07-21</td>\n",
       "      <td>4</td>\n",
       "      <td>15</td>\n",
       "      <td>95</td>\n",
       "      <td>1</td>\n",
       "      <td>3</td>\n",
       "      <td>3</td>\n",
       "      <td>-0.909929</td>\n",
       "      <td>0.364611</td>\n",
       "      <td>0.301008</td>\n",
       "      <td>0.722090</td>\n",
       "      <td>0.664618</td>\n",
       "      <td>1.142398</td>\n",
       "    </tr>\n",
       "    <tr>\n",
       "      <th>4</th>\n",
       "      <td>2018-07-21</td>\n",
       "      <td>5</td>\n",
       "      <td>20</td>\n",
       "      <td>100</td>\n",
       "      <td>1</td>\n",
       "      <td>3</td>\n",
       "      <td>2</td>\n",
       "      <td>0.440759</td>\n",
       "      <td>0.364611</td>\n",
       "      <td>0.301008</td>\n",
       "      <td>-1.220149</td>\n",
       "      <td>0.795746</td>\n",
       "      <td>0.681976</td>\n",
       "    </tr>\n",
       "  </tbody>\n",
       "</table>\n",
       "</div>"
      ],
      "text/plain": [
       "        Date  PlayerID  MonitoringScore  TrainingReadiness  Pain  Illness  \\\n",
       "0 2018-07-21         1               13                  0     1        3   \n",
       "1 2018-07-21         2               19                  0     0        3   \n",
       "2 2018-07-21         3               19                100     1        3   \n",
       "3 2018-07-21         4               15                 95     1        3   \n",
       "4 2018-07-21         5               20                100     1        3   \n",
       "\n",
       "   Nutrition  StandardizedMonitoringScore  StandardizedPain  \\\n",
       "0          3                    -1.450204          0.364611   \n",
       "1          3                     0.170622         -2.742646   \n",
       "2          3                     0.170622          0.364611   \n",
       "3          3                    -0.909929          0.364611   \n",
       "4          2                     0.440759          0.364611   \n",
       "\n",
       "   StandardizedIllness  StandardizedNutrition  StandardizedTrainingReadiness  \\\n",
       "0             0.301008               0.722090                      -1.826823   \n",
       "1             0.301008               0.722090                      -1.826823   \n",
       "2             0.301008               0.722090                       0.795746   \n",
       "3             0.301008               0.722090                       0.664618   \n",
       "4             0.301008              -1.220149                       0.795746   \n",
       "\n",
       "   wellness  \n",
       "0 -1.889318  \n",
       "1 -3.375750  \n",
       "2  2.354077  \n",
       "3  1.142398  \n",
       "4  0.681976  "
      ]
     },
     "execution_count": 15,
     "metadata": {},
     "output_type": "execute_result"
    }
   ],
   "source": [
    "wellness_df = pd.read_csv('./processed_data/processed_wellness.csv')\n",
    "wellness_df = wellness_df.drop(columns=['Unnamed: 0'])\n",
    "wellness_df['Date'] = pd.to_datetime(wellness_df['Date'])\n",
    "wellness_df.head()"
   ]
  },
  {
   "cell_type": "markdown",
   "metadata": {},
   "source": [
    "Impute wellness data for missing dates (if we merge without doing this there are 12 instances of performance data that have no wellness data):"
   ]
  },
  {
   "cell_type": "code",
   "execution_count": 16,
   "metadata": {},
   "outputs": [
    {
     "data": {
      "text/plain": [
       "(779, 13)"
      ]
     },
     "execution_count": 16,
     "metadata": {},
     "output_type": "execute_result"
    }
   ],
   "source": [
    "wellness_dates = pd.date_range(start=min(train_performance['Date']), end=max(train_performance['Date']))\n",
    "wellness_players = wellness_df['PlayerID'].unique()\n",
    "wellness_idx = pd.MultiIndex.from_product((wellness_dates, wellness_players), names=['Date', 'PlayerID'])\n",
    "\n",
    "wellness_df = wellness_df.set_index(['Date', 'PlayerID']).reindex(wellness_idx).reset_index().sort_values(by=['Date', 'PlayerID'])\n",
    "\n",
    "wellness_df[wellness_df['MonitoringScore'].isnull()].shape"
   ]
  },
  {
   "cell_type": "code",
   "execution_count": 17,
   "metadata": {},
   "outputs": [
    {
     "name": "stdout",
     "output_type": "stream",
     "text": [
      "3978\n"
     ]
    }
   ],
   "source": [
    "print(len(wellness_df))"
   ]
  },
  {
   "cell_type": "markdown",
   "metadata": {},
   "source": [
    "We see that there are 779 observations where we need to forward fill to impute the wellness data. This is out of 3978 observations after we reindex the data which is 20% of the observations."
   ]
  },
  {
   "cell_type": "code",
   "execution_count": 18,
   "metadata": {},
   "outputs": [],
   "source": [
    "wellness_df = wellness_df.fillna(method='ffill')"
   ]
  },
  {
   "cell_type": "code",
   "execution_count": 19,
   "metadata": {},
   "outputs": [
    {
     "name": "stdout",
     "output_type": "stream",
     "text": [
      "443\n"
     ]
    },
    {
     "data": {
      "text/html": [
       "<div>\n",
       "<style scoped>\n",
       "    .dataframe tbody tr th:only-of-type {\n",
       "        vertical-align: middle;\n",
       "    }\n",
       "\n",
       "    .dataframe tbody tr th {\n",
       "        vertical-align: top;\n",
       "    }\n",
       "\n",
       "    .dataframe thead th {\n",
       "        text-align: right;\n",
       "    }\n",
       "</style>\n",
       "<table border=\"1\" class=\"dataframe\">\n",
       "  <thead>\n",
       "    <tr style=\"text-align: right;\">\n",
       "      <th></th>\n",
       "      <th>Date</th>\n",
       "      <th>GameID</th>\n",
       "      <th>Outcome</th>\n",
       "      <th>TeamPoints</th>\n",
       "      <th>PlayerID</th>\n",
       "      <th>MaxSpeedInGame</th>\n",
       "      <th>MaxAccelImpulseInGame</th>\n",
       "      <th>AcuteLoad</th>\n",
       "      <th>ChronicLoad</th>\n",
       "      <th>AcuteChronicRatio</th>\n",
       "      <th>...</th>\n",
       "      <th>TrainingReadiness</th>\n",
       "      <th>Pain</th>\n",
       "      <th>Illness</th>\n",
       "      <th>Nutrition</th>\n",
       "      <th>StandardizedMonitoringScore</th>\n",
       "      <th>StandardizedPain</th>\n",
       "      <th>StandardizedIllness</th>\n",
       "      <th>StandardizedNutrition</th>\n",
       "      <th>StandardizedTrainingReadiness</th>\n",
       "      <th>wellness</th>\n",
       "    </tr>\n",
       "  </thead>\n",
       "  <tbody>\n",
       "    <tr>\n",
       "      <th>0</th>\n",
       "      <td>2017-11-30</td>\n",
       "      <td>1</td>\n",
       "      <td>W</td>\n",
       "      <td>19</td>\n",
       "      <td>2</td>\n",
       "      <td>7.284728</td>\n",
       "      <td>4.423615</td>\n",
       "      <td>206.57</td>\n",
       "      <td>371.20</td>\n",
       "      <td>0.56</td>\n",
       "      <td>...</td>\n",
       "      <td>0.0</td>\n",
       "      <td>1.0</td>\n",
       "      <td>3.0</td>\n",
       "      <td>2.0</td>\n",
       "      <td>0.981035</td>\n",
       "      <td>0.364611</td>\n",
       "      <td>0.301008</td>\n",
       "      <td>-1.220149</td>\n",
       "      <td>-1.826823</td>\n",
       "      <td>-1.400318</td>\n",
       "    </tr>\n",
       "    <tr>\n",
       "      <th>1</th>\n",
       "      <td>2017-11-30</td>\n",
       "      <td>1</td>\n",
       "      <td>W</td>\n",
       "      <td>19</td>\n",
       "      <td>3</td>\n",
       "      <td>6.852436</td>\n",
       "      <td>4.888893</td>\n",
       "      <td>407.86</td>\n",
       "      <td>454.67</td>\n",
       "      <td>0.90</td>\n",
       "      <td>...</td>\n",
       "      <td>100.0</td>\n",
       "      <td>1.0</td>\n",
       "      <td>3.0</td>\n",
       "      <td>3.0</td>\n",
       "      <td>1.251172</td>\n",
       "      <td>0.364611</td>\n",
       "      <td>0.301008</td>\n",
       "      <td>0.722090</td>\n",
       "      <td>0.795746</td>\n",
       "      <td>3.434628</td>\n",
       "    </tr>\n",
       "    <tr>\n",
       "      <th>2</th>\n",
       "      <td>2017-11-30</td>\n",
       "      <td>1</td>\n",
       "      <td>W</td>\n",
       "      <td>19</td>\n",
       "      <td>4</td>\n",
       "      <td>7.267784</td>\n",
       "      <td>5.694449</td>\n",
       "      <td>236.00</td>\n",
       "      <td>406.90</td>\n",
       "      <td>0.58</td>\n",
       "      <td>...</td>\n",
       "      <td>100.0</td>\n",
       "      <td>1.0</td>\n",
       "      <td>3.0</td>\n",
       "      <td>3.0</td>\n",
       "      <td>0.710897</td>\n",
       "      <td>0.364611</td>\n",
       "      <td>0.301008</td>\n",
       "      <td>0.722090</td>\n",
       "      <td>0.795746</td>\n",
       "      <td>2.894352</td>\n",
       "    </tr>\n",
       "    <tr>\n",
       "      <th>3</th>\n",
       "      <td>2017-11-30</td>\n",
       "      <td>1</td>\n",
       "      <td>W</td>\n",
       "      <td>19</td>\n",
       "      <td>6</td>\n",
       "      <td>6.338894</td>\n",
       "      <td>4.777782</td>\n",
       "      <td>297.29</td>\n",
       "      <td>415.87</td>\n",
       "      <td>0.71</td>\n",
       "      <td>...</td>\n",
       "      <td>90.0</td>\n",
       "      <td>1.0</td>\n",
       "      <td>3.0</td>\n",
       "      <td>3.0</td>\n",
       "      <td>0.440759</td>\n",
       "      <td>0.364611</td>\n",
       "      <td>0.301008</td>\n",
       "      <td>0.722090</td>\n",
       "      <td>0.533489</td>\n",
       "      <td>2.361958</td>\n",
       "    </tr>\n",
       "    <tr>\n",
       "      <th>4</th>\n",
       "      <td>2017-11-30</td>\n",
       "      <td>1</td>\n",
       "      <td>W</td>\n",
       "      <td>19</td>\n",
       "      <td>7</td>\n",
       "      <td>7.065283</td>\n",
       "      <td>4.091273</td>\n",
       "      <td>237.57</td>\n",
       "      <td>476.60</td>\n",
       "      <td>0.50</td>\n",
       "      <td>...</td>\n",
       "      <td>95.0</td>\n",
       "      <td>1.0</td>\n",
       "      <td>3.0</td>\n",
       "      <td>3.0</td>\n",
       "      <td>1.251172</td>\n",
       "      <td>0.364611</td>\n",
       "      <td>0.301008</td>\n",
       "      <td>0.722090</td>\n",
       "      <td>0.664618</td>\n",
       "      <td>3.303499</td>\n",
       "    </tr>\n",
       "  </tbody>\n",
       "</table>\n",
       "<p>5 rows × 21 columns</p>\n",
       "</div>"
      ],
      "text/plain": [
       "        Date  GameID Outcome  TeamPoints  PlayerID  MaxSpeedInGame  \\\n",
       "0 2017-11-30       1       W          19         2        7.284728   \n",
       "1 2017-11-30       1       W          19         3        6.852436   \n",
       "2 2017-11-30       1       W          19         4        7.267784   \n",
       "3 2017-11-30       1       W          19         6        6.338894   \n",
       "4 2017-11-30       1       W          19         7        7.065283   \n",
       "\n",
       "   MaxAccelImpulseInGame  AcuteLoad  ChronicLoad  AcuteChronicRatio  ...  \\\n",
       "0               4.423615     206.57       371.20               0.56  ...   \n",
       "1               4.888893     407.86       454.67               0.90  ...   \n",
       "2               5.694449     236.00       406.90               0.58  ...   \n",
       "3               4.777782     297.29       415.87               0.71  ...   \n",
       "4               4.091273     237.57       476.60               0.50  ...   \n",
       "\n",
       "   TrainingReadiness  Pain  Illness  Nutrition  StandardizedMonitoringScore  \\\n",
       "0                0.0   1.0      3.0        2.0                     0.981035   \n",
       "1              100.0   1.0      3.0        3.0                     1.251172   \n",
       "2              100.0   1.0      3.0        3.0                     0.710897   \n",
       "3               90.0   1.0      3.0        3.0                     0.440759   \n",
       "4               95.0   1.0      3.0        3.0                     1.251172   \n",
       "\n",
       "   StandardizedPain  StandardizedIllness  StandardizedNutrition  \\\n",
       "0          0.364611             0.301008              -1.220149   \n",
       "1          0.364611             0.301008               0.722090   \n",
       "2          0.364611             0.301008               0.722090   \n",
       "3          0.364611             0.301008               0.722090   \n",
       "4          0.364611             0.301008               0.722090   \n",
       "\n",
       "   StandardizedTrainingReadiness  wellness  \n",
       "0                      -1.826823 -1.400318  \n",
       "1                       0.795746  3.434628  \n",
       "2                       0.795746  2.894352  \n",
       "3                       0.533489  2.361958  \n",
       "4                       0.664618  3.303499  \n",
       "\n",
       "[5 rows x 21 columns]"
      ]
     },
     "execution_count": 19,
     "metadata": {},
     "output_type": "execute_result"
    }
   ],
   "source": [
    "merged_df = train_performance.merge(wellness_df,\n",
    "    how='left', on= ['Date','PlayerID']).drop_duplicates()\n",
    "print(len(merged_df))\n",
    "merged_df.head()"
   ]
  },
  {
   "cell_type": "code",
   "execution_count": 20,
   "metadata": {},
   "outputs": [
    {
     "name": "stdout",
     "output_type": "stream",
     "text": [
      "Empty DataFrame\n",
      "Columns: [Date, GameID, Outcome, TeamPoints, PlayerID, MaxSpeedInGame, MaxAccelImpulseInGame, AcuteLoad, ChronicLoad, AcuteChronicRatio, MonitoringScore, TrainingReadiness, Pain, Illness, Nutrition, StandardizedMonitoringScore, StandardizedPain, StandardizedIllness, StandardizedNutrition, StandardizedTrainingReadiness, wellness]\n",
      "Index: []\n",
      "\n",
      "[0 rows x 21 columns]\n"
     ]
    }
   ],
   "source": [
    "print(merged_df[merged_df['MonitoringScore'].isnull()])"
   ]
  },
  {
   "cell_type": "code",
   "execution_count": 21,
   "metadata": {},
   "outputs": [],
   "source": [
    "merged_df.to_csv('./processed_data/merged_df.csv')"
   ]
  },
  {
   "cell_type": "markdown",
   "metadata": {},
   "source": [
    "## Correlations Between Predictors and Response"
   ]
  },
  {
   "cell_type": "markdown",
   "metadata": {},
   "source": [
    "Based on our previous analysis, we think that `AcuteChronicRatio`, `MonitoringScore`, `Pain`, `Illness`, `Nutrition` will be predictors for `MaxSpeedInGame` which is our measure for performance. We also have an overall score for wellness called `wellness` which is the combination of all predictors other than `AcuteChronicRatio`."
   ]
  },
  {
   "cell_type": "code",
   "execution_count": 22,
   "metadata": {},
   "outputs": [],
   "source": [
    "def scatter_plot(df, x, y, title=None):\n",
    "    df.plot.scatter(x, y)\n",
    "    if title:\n",
    "        plt.title(title)\n",
    "    plt.show()"
   ]
  },
  {
   "cell_type": "code",
   "execution_count": 23,
   "metadata": {},
   "outputs": [
    {
     "data": {
      "image/png": "[encoded data removed]",
      "text/plain": [
       "<Figure size 432x288 with 1 Axes>"
      ]
     },
     "metadata": {
      "needs_background": "light"
     },
     "output_type": "display_data"
    }
   ],
   "source": [
    "scatter_plot(merged_df, 'AcuteChronicRatio', 'MaxSpeedInGame', 'Acute Chronic Load Ratio vs Performance')\n"
   ]
  },
  {
   "cell_type": "markdown",
   "metadata": {},
   "source": [
    "It does not look like there is any clear pattern between load and performance."
   ]
  },
  {
   "cell_type": "code",
   "execution_count": 24,
   "metadata": {},
   "outputs": [
    {
     "data": {
      "image/png": "[encoded data removed]",
      "text/plain": [
       "<Figure size 432x288 with 1 Axes>"
      ]
     },
     "metadata": {
      "needs_background": "light"
     },
     "output_type": "display_data"
    }
   ],
   "source": [
    "scatter_plot(merged_df, 'wellness', 'MaxSpeedInGame', 'wellness VS Performance')\n"
   ]
  },
  {
   "cell_type": "code",
   "execution_count": 25,
   "metadata": {},
   "outputs": [
    {
     "data": {
      "text/plain": [
       "-0.08918453503221264"
      ]
     },
     "execution_count": 25,
     "metadata": {},
     "output_type": "execute_result"
    }
   ],
   "source": [
    "merged_df['wellness'].corr(merged_df['MaxSpeedInGame'])"
   ]
  },
  {
   "cell_type": "code",
   "execution_count": 26,
   "metadata": {},
   "outputs": [
    {
     "data": {
      "text/html": [
       "<div>\n",
       "<style scoped>\n",
       "    .dataframe tbody tr th:only-of-type {\n",
       "        vertical-align: middle;\n",
       "    }\n",
       "\n",
       "    .dataframe tbody tr th {\n",
       "        vertical-align: top;\n",
       "    }\n",
       "\n",
       "    .dataframe thead th {\n",
       "        text-align: right;\n",
       "    }\n",
       "</style>\n",
       "<table border=\"1\" class=\"dataframe\">\n",
       "  <thead>\n",
       "    <tr style=\"text-align: right;\">\n",
       "      <th></th>\n",
       "      <th>wellness</th>\n",
       "      <th>MaxSpeedInGame</th>\n",
       "    </tr>\n",
       "    <tr>\n",
       "      <th>PlayerID</th>\n",
       "      <th></th>\n",
       "      <th></th>\n",
       "    </tr>\n",
       "  </thead>\n",
       "  <tbody>\n",
       "    <tr>\n",
       "      <th>1</th>\n",
       "      <td>-0.744741</td>\n",
       "      <td>7.683961</td>\n",
       "    </tr>\n",
       "    <tr>\n",
       "      <th>2</th>\n",
       "      <td>-2.418550</td>\n",
       "      <td>6.632284</td>\n",
       "    </tr>\n",
       "    <tr>\n",
       "      <th>3</th>\n",
       "      <td>2.676770</td>\n",
       "      <td>6.826691</td>\n",
       "    </tr>\n",
       "    <tr>\n",
       "      <th>4</th>\n",
       "      <td>1.669272</td>\n",
       "      <td>6.632953</td>\n",
       "    </tr>\n",
       "    <tr>\n",
       "      <th>5</th>\n",
       "      <td>-0.001545</td>\n",
       "      <td>7.721914</td>\n",
       "    </tr>\n",
       "    <tr>\n",
       "      <th>6</th>\n",
       "      <td>1.637513</td>\n",
       "      <td>6.511335</td>\n",
       "    </tr>\n",
       "    <tr>\n",
       "      <th>7</th>\n",
       "      <td>1.145357</td>\n",
       "      <td>7.210339</td>\n",
       "    </tr>\n",
       "    <tr>\n",
       "      <th>8</th>\n",
       "      <td>1.392609</td>\n",
       "      <td>6.960623</td>\n",
       "    </tr>\n",
       "    <tr>\n",
       "      <th>9</th>\n",
       "      <td>0.073373</td>\n",
       "      <td>6.931128</td>\n",
       "    </tr>\n",
       "    <tr>\n",
       "      <th>10</th>\n",
       "      <td>-1.792957</td>\n",
       "      <td>7.614805</td>\n",
       "    </tr>\n",
       "    <tr>\n",
       "      <th>11</th>\n",
       "      <td>1.262475</td>\n",
       "      <td>6.920157</td>\n",
       "    </tr>\n",
       "    <tr>\n",
       "      <th>12</th>\n",
       "      <td>0.041509</td>\n",
       "      <td>6.081656</td>\n",
       "    </tr>\n",
       "    <tr>\n",
       "      <th>13</th>\n",
       "      <td>2.517581</td>\n",
       "      <td>6.737886</td>\n",
       "    </tr>\n",
       "    <tr>\n",
       "      <th>14</th>\n",
       "      <td>2.661953</td>\n",
       "      <td>5.901368</td>\n",
       "    </tr>\n",
       "    <tr>\n",
       "      <th>15</th>\n",
       "      <td>2.973401</td>\n",
       "      <td>5.996562</td>\n",
       "    </tr>\n",
       "    <tr>\n",
       "      <th>16</th>\n",
       "      <td>0.782839</td>\n",
       "      <td>6.154923</td>\n",
       "    </tr>\n",
       "    <tr>\n",
       "      <th>17</th>\n",
       "      <td>-0.325130</td>\n",
       "      <td>4.815937</td>\n",
       "    </tr>\n",
       "  </tbody>\n",
       "</table>\n",
       "</div>"
      ],
      "text/plain": [
       "          wellness  MaxSpeedInGame\n",
       "PlayerID                          \n",
       "1        -0.744741        7.683961\n",
       "2        -2.418550        6.632284\n",
       "3         2.676770        6.826691\n",
       "4         1.669272        6.632953\n",
       "5        -0.001545        7.721914\n",
       "6         1.637513        6.511335\n",
       "7         1.145357        7.210339\n",
       "8         1.392609        6.960623\n",
       "9         0.073373        6.931128\n",
       "10       -1.792957        7.614805\n",
       "11        1.262475        6.920157\n",
       "12        0.041509        6.081656\n",
       "13        2.517581        6.737886\n",
       "14        2.661953        5.901368\n",
       "15        2.973401        5.996562\n",
       "16        0.782839        6.154923\n",
       "17       -0.325130        4.815937"
      ]
     },
     "execution_count": 26,
     "metadata": {},
     "output_type": "execute_result"
    }
   ],
   "source": [
    "grouped_merged_df = merged_df[['wellness', 'MaxSpeedInGame', 'PlayerID']].groupby('PlayerID').mean()\n",
    "grouped_merged_df"
   ]
  },
  {
   "cell_type": "code",
   "execution_count": 27,
   "metadata": {},
   "outputs": [
    {
     "data": {
      "image/png": "[encoded data removed]",
      "text/plain": [
       "<Figure size 432x288 with 1 Axes>"
      ]
     },
     "metadata": {
      "needs_background": "light"
     },
     "output_type": "display_data"
    }
   ],
   "source": [
    "scatter_plot(grouped_merged_df, 'wellness', 'MaxSpeedInGame')"
   ]
  },
  {
   "cell_type": "code",
   "execution_count": 28,
   "metadata": {},
   "outputs": [
    {
     "data": {
      "image/png": "[encoded data removed]",
      "text/plain": [
       "<Figure size 432x288 with 1 Axes>"
      ]
     },
     "metadata": {
      "needs_background": "light"
     },
     "output_type": "display_data"
    }
   ],
   "source": [
    "scatter_plot(merged_df, 'MonitoringScore', 'MaxSpeedInGame', 'Monitoring Score VS Performance')\n"
   ]
  },
  {
   "cell_type": "code",
   "execution_count": 29,
   "metadata": {},
   "outputs": [
    {
     "data": {
      "text/plain": [
       "-0.02071922117430437"
      ]
     },
     "execution_count": 29,
     "metadata": {},
     "output_type": "execute_result"
    }
   ],
   "source": [
    "merged_df['MonitoringScore'].corr(merged_df['MaxSpeedInGame'])"
   ]
  },
  {
   "cell_type": "code",
   "execution_count": 30,
   "metadata": {},
   "outputs": [
    {
     "data": {
      "image/png": "[encoded data removed]",
      "text/plain": [
       "<Figure size 432x288 with 1 Axes>"
      ]
     },
     "metadata": {
      "needs_background": "light"
     },
     "output_type": "display_data"
    }
   ],
   "source": [
    "scatter_plot(merged_df, 'Pain', 'MaxSpeedInGame', 'Pain VS Performance')"
   ]
  },
  {
   "cell_type": "code",
   "execution_count": 31,
   "metadata": {},
   "outputs": [
    {
     "data": {
      "image/png": "[encoded data removed]",
      "text/plain": [
       "<Figure size 432x288 with 1 Axes>"
      ]
     },
     "metadata": {
      "needs_background": "light"
     },
     "output_type": "display_data"
    }
   ],
   "source": [
    "scatter_plot(merged_df, 'Illness', 'MaxSpeedInGame', 'Illness VS Performance')"
   ]
  },
  {
   "cell_type": "code",
   "execution_count": 52,
   "metadata": {},
   "outputs": [
    {
     "data": {
      "text/plain": [
       "Ttest_indResult(statistic=3.379531596808848, pvalue=0.0007907843577221889)"
      ]
     },
     "execution_count": 52,
     "metadata": {},
     "output_type": "execute_result"
    }
   ],
   "source": [
    "ttest_ind(merged_df[merged_df['Illness'] == 2]['MaxSpeedInGame'], merged_df[merged_df['Illness'] == 3]['MaxSpeedInGame'])"
   ]
  },
  {
   "cell_type": "markdown",
   "metadata": {},
   "source": [
    "We get a significant results that the performance of those saying they are slightly off is better than those who are not ill."
   ]
  },
  {
   "cell_type": "code",
   "execution_count": 32,
   "metadata": {},
   "outputs": [
    {
     "data": {
      "image/png": "[encoded data removed]",
      "text/plain": [
       "<Figure size 432x288 with 1 Axes>"
      ]
     },
     "metadata": {
      "needs_background": "light"
     },
     "output_type": "display_data"
    }
   ],
   "source": [
    "scatter_plot(merged_df, 'Nutrition', 'MaxSpeedInGame', 'Nutrition VS Performance')"
   ]
  },
  {
   "cell_type": "code",
   "execution_count": 33,
   "metadata": {},
   "outputs": [
    {
     "data": {
      "image/png": "[encoded data removed]",
      "text/plain": [
       "<Figure size 432x288 with 1 Axes>"
      ]
     },
     "metadata": {
      "needs_background": "light"
     },
     "output_type": "display_data"
    }
   ],
   "source": [
    "scatter_plot(merged_df, 'AcuteChronicRatio', 'wellness', 'AcuteChronicRatio VS wellness')"
   ]
  },
  {
   "cell_type": "markdown",
   "metadata": {},
   "source": [
    "We see that there are no clear patterns when we are looking at the repeated measures data. Maybe we will get something out of using a mixed models regression."
   ]
  },
  {
   "cell_type": "markdown",
   "metadata": {},
   "source": [
    "## Ideas Going Forward"
   ]
  },
  {
   "cell_type": "markdown",
   "metadata": {},
   "source": [
    "We also need to investigate the affect of wellness on load independent of performance. For example, look at the daily load to next day's wellness. Also look at wellness to current daily load (ie, does wellness affect RPE?)."
   ]
  },
  {
   "cell_type": "markdown",
   "metadata": {},
   "source": [
    "### Regression Examples"
   ]
  },
  {
   "cell_type": "code",
   "execution_count": 34,
   "metadata": {},
   "outputs": [],
   "source": [
    "import statsmodels.api as sm\n",
    "import statsmodels.formula.api as smf"
   ]
  },
  {
   "cell_type": "code",
   "execution_count": 35,
   "metadata": {},
   "outputs": [
    {
     "name": "stdout",
     "output_type": "stream",
     "text": [
      "                               GEE Regression Results                              \n",
      "===================================================================================\n",
      "Dep. Variable:              MaxSpeedInGame   No. Observations:                  443\n",
      "Model:                                 GEE   No. clusters:                       17\n",
      "Method:                        Generalized   Min. cluster size:                   5\n",
      "                      Estimating Equations   Max. cluster size:                  38\n",
      "Family:                           Gaussian   Mean cluster size:                26.1\n",
      "Dependence structure:         Exchangeable   Num. iterations:                    10\n",
      "Date:                     Mon, 02 Dec 2019   Scale:                           1.279\n",
      "Covariance type:                    robust   Time:                         11:28:31\n",
      "============================================================================================\n",
      "                               coef    std err          z      P>|z|      [0.025      0.975]\n",
      "--------------------------------------------------------------------------------------------\n",
      "Intercept                    7.4007      0.589     12.574      0.000       6.247       8.554\n",
      "AcuteChronicRatio           -0.8227      0.617     -1.334      0.182      -2.032       0.386\n",
      "SquaredAcuteChronicRatio     0.4816      0.366      1.317      0.188      -0.235       1.198\n",
      "MonitoringScore              0.0104      0.009      1.167      0.243      -0.007       0.028\n",
      "TrainingReadiness           -0.0019      0.002     -0.764      0.445      -0.007       0.003\n",
      "Illness                     -0.2938      0.128     -2.286      0.022      -0.546      -0.042\n",
      "Pain                        -0.1215      0.162     -0.749      0.454      -0.440       0.197\n",
      "Nutrition                    0.2005      0.204      0.985      0.325      -0.198       0.599\n",
      "==============================================================================\n",
      "Skew:                         -2.1713   Kurtosis:                       8.0450\n",
      "Centered skew:                -2.3717   Centered kurtosis:             10.8225\n",
      "==============================================================================\n"
     ]
    }
   ],
   "source": [
    "merged_df['SquaredAcuteChronicRatio'] = merged_df['AcuteChronicRatio'] ** 2\n",
    "merged_df['CubedAcuteChronicRatio'] = merged_df['AcuteChronicRatio'] ** 3\n",
    "\n",
    "fam = sm.families.Gaussian()\n",
    "ind = sm.cov_struct.Exchangeable()\n",
    "mod = smf.gee(\"MaxSpeedInGame ~ AcuteChronicRatio + SquaredAcuteChronicRatio +  MonitoringScore + TrainingReadiness + Illness + Pain + Nutrition\", \"PlayerID\", merged_df, cov_struct=ind, family=fam)\n",
    "res = mod.fit()\n",
    "print(res.summary())"
   ]
  },
  {
   "cell_type": "markdown",
   "metadata": {},
   "source": [
    "#### Plot Residuals"
   ]
  },
  {
   "cell_type": "code",
   "execution_count": 42,
   "metadata": {},
   "outputs": [
    {
     "data": {
      "text/html": [
       "<div>\n",
       "<style scoped>\n",
       "    .dataframe tbody tr th:only-of-type {\n",
       "        vertical-align: middle;\n",
       "    }\n",
       "\n",
       "    .dataframe tbody tr th {\n",
       "        vertical-align: top;\n",
       "    }\n",
       "\n",
       "    .dataframe thead th {\n",
       "        text-align: right;\n",
       "    }\n",
       "</style>\n",
       "<table border=\"1\" class=\"dataframe\">\n",
       "  <thead>\n",
       "    <tr style=\"text-align: right;\">\n",
       "      <th></th>\n",
       "      <th>AcuteChronicRatio</th>\n",
       "      <th>MonitoringScore</th>\n",
       "      <th>TrainingReadiness</th>\n",
       "      <th>Illness</th>\n",
       "      <th>Pain</th>\n",
       "      <th>Nutrition</th>\n",
       "      <th>MaxSpeedInGame</th>\n",
       "      <th>Prediction</th>\n",
       "      <th>Residuals</th>\n",
       "    </tr>\n",
       "  </thead>\n",
       "  <tbody>\n",
       "    <tr>\n",
       "      <th>0</th>\n",
       "      <td>0.56</td>\n",
       "      <td>22.0</td>\n",
       "      <td>0.0</td>\n",
       "      <td>3.0</td>\n",
       "      <td>1.0</td>\n",
       "      <td>2.0</td>\n",
       "      <td>7.284728</td>\n",
       "      <td>6.717238</td>\n",
       "      <td>0.567490</td>\n",
       "    </tr>\n",
       "    <tr>\n",
       "      <th>1</th>\n",
       "      <td>0.90</td>\n",
       "      <td>23.0</td>\n",
       "      <td>100.0</td>\n",
       "      <td>3.0</td>\n",
       "      <td>1.0</td>\n",
       "      <td>3.0</td>\n",
       "      <td>6.852436</td>\n",
       "      <td>6.698022</td>\n",
       "      <td>0.154414</td>\n",
       "    </tr>\n",
       "    <tr>\n",
       "      <th>2</th>\n",
       "      <td>0.58</td>\n",
       "      <td>21.0</td>\n",
       "      <td>100.0</td>\n",
       "      <td>3.0</td>\n",
       "      <td>1.0</td>\n",
       "      <td>3.0</td>\n",
       "      <td>7.267784</td>\n",
       "      <td>6.712459</td>\n",
       "      <td>0.555325</td>\n",
       "    </tr>\n",
       "    <tr>\n",
       "      <th>3</th>\n",
       "      <td>0.71</td>\n",
       "      <td>20.0</td>\n",
       "      <td>90.0</td>\n",
       "      <td>3.0</td>\n",
       "      <td>1.0</td>\n",
       "      <td>3.0</td>\n",
       "      <td>6.338894</td>\n",
       "      <td>6.694846</td>\n",
       "      <td>-0.355952</td>\n",
       "    </tr>\n",
       "    <tr>\n",
       "      <th>4</th>\n",
       "      <td>0.50</td>\n",
       "      <td>23.0</td>\n",
       "      <td>95.0</td>\n",
       "      <td>3.0</td>\n",
       "      <td>1.0</td>\n",
       "      <td>3.0</td>\n",
       "      <td>7.065283</td>\n",
       "      <td>6.766871</td>\n",
       "      <td>0.298413</td>\n",
       "    </tr>\n",
       "  </tbody>\n",
       "</table>\n",
       "</div>"
      ],
      "text/plain": [
       "   AcuteChronicRatio  MonitoringScore  TrainingReadiness  Illness  Pain  \\\n",
       "0               0.56             22.0                0.0      3.0   1.0   \n",
       "1               0.90             23.0              100.0      3.0   1.0   \n",
       "2               0.58             21.0              100.0      3.0   1.0   \n",
       "3               0.71             20.0               90.0      3.0   1.0   \n",
       "4               0.50             23.0               95.0      3.0   1.0   \n",
       "\n",
       "   Nutrition  MaxSpeedInGame  Prediction  Residuals  \n",
       "0        2.0        7.284728    6.717238   0.567490  \n",
       "1        3.0        6.852436    6.698022   0.154414  \n",
       "2        3.0        7.267784    6.712459   0.555325  \n",
       "3        3.0        6.338894    6.694846  -0.355952  \n",
       "4        3.0        7.065283    6.766871   0.298413  "
      ]
     },
     "execution_count": 42,
     "metadata": {},
     "output_type": "execute_result"
    }
   ],
   "source": [
    "#gee_predictions = mod.predict(merged_df[['AcuteChronicRatio', 'SquaredAcuteChronicRatio', 'MonitoringScore', 'TrainingReadiness', 'Illness', 'Pain', 'Nutrition']])\n",
    "gee_predictions = res.predict()\n",
    "residual_df = merged_df.copy()[['AcuteChronicRatio', 'MonitoringScore', 'TrainingReadiness', 'Illness', 'Pain', 'Nutrition', 'MaxSpeedInGame']]\n",
    "residual_df['Prediction'] = gee_predictions\n",
    "residual_df['Residuals'] = residual_df['MaxSpeedInGame'] - residual_df['Prediction']\n",
    "residual_df.head()\n"
   ]
  },
  {
   "cell_type": "code",
   "execution_count": 43,
   "metadata": {},
   "outputs": [
    {
     "data": {
      "image/png": "[encoded data removed]",
      "text/plain": [
       "<Figure size 432x288 with 1 Axes>"
      ]
     },
     "metadata": {
      "needs_background": "light"
     },
     "output_type": "display_data"
    }
   ],
   "source": [
    "scatter_plot(residual_df, 'AcuteChronicRatio', 'Residuals', 'AcuteChronicRatio VS Residuals')"
   ]
  },
  {
   "cell_type": "code",
   "execution_count": 44,
   "metadata": {},
   "outputs": [
    {
     "data": {
      "image/png": "[encoded data removed]",
      "text/plain": [
       "<Figure size 432x288 with 1 Axes>"
      ]
     },
     "metadata": {
      "needs_background": "light"
     },
     "output_type": "display_data"
    }
   ],
   "source": [
    "scatter_plot(residual_df, 'MonitoringScore', 'Residuals', 'MonitoringScore VS Residuals')"
   ]
  },
  {
   "cell_type": "code",
   "execution_count": 45,
   "metadata": {},
   "outputs": [
    {
     "data": {
      "image/png": "[encoded data removed]",
      "text/plain": [
       "<Figure size 432x288 with 1 Axes>"
      ]
     },
     "metadata": {
      "needs_background": "light"
     },
     "output_type": "display_data"
    }
   ],
   "source": [
    "scatter_plot(residual_df, 'Illness', 'Residuals', 'Illness VS Residuals')"
   ]
  },
  {
   "cell_type": "code",
   "execution_count": 53,
   "metadata": {},
   "outputs": [
    {
     "data": {
      "text/plain": [
       "Ttest_indResult(statistic=1.8139120173474979, pvalue=0.07037229856570243)"
      ]
     },
     "execution_count": 53,
     "metadata": {},
     "output_type": "execute_result"
    }
   ],
   "source": [
    "ttest_ind(residual_df[residual_df['Illness'] == 2]['Residuals'], residual_df[residual_df['Illness'] == 3]['Residuals'])"
   ]
  },
  {
   "cell_type": "markdown",
   "metadata": {},
   "source": [
    "No significant difference in the residuals for Illness = 2 or Illness = 3"
   ]
  },
  {
   "cell_type": "code",
   "execution_count": 46,
   "metadata": {},
   "outputs": [
    {
     "data": {
      "image/png": "[encoded data removed]",
      "text/plain": [
       "<Figure size 432x288 with 1 Axes>"
      ]
     },
     "metadata": {
      "needs_background": "light"
     },
     "output_type": "display_data"
    }
   ],
   "source": [
    "scatter_plot(residual_df, 'Pain', 'Residuals', 'Pain VS Residuals')"
   ]
  },
  {
   "cell_type": "code",
   "execution_count": 50,
   "metadata": {},
   "outputs": [
    {
     "data": {
      "text/plain": [
       "Ttest_indResult(statistic=1.4171700941776058, pvalue=0.1571392780332031)"
      ]
     },
     "execution_count": 50,
     "metadata": {},
     "output_type": "execute_result"
    }
   ],
   "source": [
    "ttest_ind(residual_df[residual_df['Pain'] == 0]['Residuals'], residual_df[residual_df['Pain'] == 1]['Residuals'])"
   ]
  },
  {
   "cell_type": "markdown",
   "metadata": {},
   "source": [
    "No significant difference between mean residuals for pain = 0 or pain = 1"
   ]
  },
  {
   "cell_type": "code",
   "execution_count": 47,
   "metadata": {},
   "outputs": [
    {
     "data": {
      "image/png": "[encoded data removed]",
      "text/plain": [
       "<Figure size 432x288 with 1 Axes>"
      ]
     },
     "metadata": {
      "needs_background": "light"
     },
     "output_type": "display_data"
    }
   ],
   "source": [
    "scatter_plot(residual_df, 'Nutrition', 'Residuals', 'Nutrition VS Residuals')"
   ]
  },
  {
   "cell_type": "code",
   "execution_count": 51,
   "metadata": {},
   "outputs": [
    {
     "data": {
      "text/plain": [
       "Ttest_indResult(statistic=-0.4669269936771026, pvalue=0.640783232980543)"
      ]
     },
     "execution_count": 51,
     "metadata": {},
     "output_type": "execute_result"
    }
   ],
   "source": [
    "ttest_ind(residual_df[residual_df['Nutrition'] == 2]['Residuals'], residual_df[residual_df['Nutrition'] == 3]['Residuals'])"
   ]
  },
  {
   "cell_type": "markdown",
   "metadata": {},
   "source": [
    "No significant difference between mean residuals for Nutrition = 2 or Nutrition = 3"
   ]
  },
  {
   "cell_type": "code",
   "execution_count": null,
   "metadata": {},
   "outputs": [],
   "source": [
    "mixed = smf.mixedlm(\"MaxSpeedInGame ~ AcuteChronicRatio + SquaredAcuteChronicRatio +  MonitoringScore + TrainingReadiness + Illness + Pain + Nutrition\", merged_df, groups = merged_df[\"PlayerID\"])\n",
    "mixed_fit = mixed.fit()\n",
    "print(mixed_fit.summary())\n"
   ]
  },
  {
   "cell_type": "markdown",
   "metadata": {},
   "source": [
    "## RPE and Wellness"
   ]
  },
  {
   "cell_type": "code",
   "execution_count": null,
   "metadata": {},
   "outputs": [],
   "source": [
    "raw_rpe['Date'] = pd.to_datetime(raw_rpe['Date'])\n",
    "rpe_wellness = wellness_df.merge(raw_rpe, on=['Date', 'PlayerID'])\n",
    "rpe_wellness.head()"
   ]
  },
  {
   "cell_type": "code",
   "execution_count": null,
   "metadata": {},
   "outputs": [],
   "source": [
    "rpe_wellness = rpe_wellness.dropna()\n",
    "rpe_wellness_mixed = smf.mixedlm(\"RPE ~ wellness\", rpe_wellness, groups = rpe_wellness[\"PlayerID\"])\n",
    "rpe_wellness_mixed_fit = rpe_wellness_mixed.fit()\n",
    "print(rpe_wellness_mixed_fit.summary())\n"
   ]
  },
  {
   "cell_type": "code",
   "execution_count": null,
   "metadata": {},
   "outputs": [],
   "source": [
    "model_rpe_wellness = rpe_wellness.dropna()\n",
    "model_rpe_wellness[['RPE']] = StandardScaler().fit_transform(model_rpe_wellness[['RPE']])\n",
    "\n",
    "rpe_wellness_mixed = smf.mixedlm(\"RPE ~ MonitoringScore + TrainingReadiness + Pain + Illness + Nutrition\", model_rpe_wellness, groups = model_rpe_wellness[\"PlayerID\"])\n",
    "rpe_wellness_mixed_fit = rpe_wellness_mixed.fit()\n",
    "print(rpe_wellness_mixed_fit.summary())\n"
   ]
  },
  {
   "cell_type": "code",
   "execution_count": null,
   "metadata": {},
   "outputs": [],
   "source": [
    "rpe_wellness['RPE'].corr(rpe_wellness['wellness'])\n"
   ]
  },
  {
   "cell_type": "code",
   "execution_count": null,
   "metadata": {},
   "outputs": [],
   "source": [
    "grouped_rpe_wellness = rpe_wellness[['PlayerID', 'wellness', 'RPE']].groupby(['PlayerID']).mean()\n",
    "grouped_rpe_wellness"
   ]
  },
  {
   "cell_type": "code",
   "execution_count": null,
   "metadata": {},
   "outputs": [],
   "source": [
    "grouped_rpe_wellness.corr()"
   ]
  },
  {
   "cell_type": "code",
   "execution_count": null,
   "metadata": {},
   "outputs": [],
   "source": [
    "grouped_rpe_wellness.plot.scatter('wellness', 'RPE')"
   ]
  },
  {
   "cell_type": "markdown",
   "metadata": {},
   "source": [
    "There is no general trend in average wellness and RPE"
   ]
  },
  {
   "cell_type": "markdown",
   "metadata": {},
   "source": [
    "## Wellness vs Subjective Performance"
   ]
  },
  {
   "cell_type": "code",
   "execution_count": null,
   "metadata": {},
   "outputs": [],
   "source": [
    "subjective_performance_df.head()"
   ]
  },
  {
   "cell_type": "markdown",
   "metadata": {},
   "source": [
    "Remember, Best Out Of Myself was lives on a scale of 0, 1, or 3 scale so we should standardize all the values so they can be combined into one measure of subjective performance."
   ]
  },
  {
   "cell_type": "code",
   "execution_count": null,
   "metadata": {},
   "outputs": [],
   "source": [
    "subjective_performance_scaler = StandardScaler()\n",
    "standardized_subjective_performance_values = subjective_performance_scaler.fit_transform(subjective_performance_df[['ObjectiveRating', 'FocusRating', 'BestOutOfMyself']])\n",
    "subjective_performance_df['StandardizedObjectiveRating'] = standardized_subjective_performance_values[:, 0]\n",
    "subjective_performance_df['StandardizedFocusRating'] = standardized_subjective_performance_values[:, 1]\n",
    "subjective_performance_df['StandardizedBestOutOfMyself'] = standardized_subjective_performance_values[:, 2]\n",
    "subjective_performance_df['SubjectivePerformance'] = subjective_performance_df['StandardizedObjectiveRating'] + subjective_performance_df['StandardizedFocusRating'] + subjective_performance_df['StandardizedBestOutOfMyself']\n",
    "subjective_performance_df.head()\n"
   ]
  },
  {
   "cell_type": "code",
   "execution_count": null,
   "metadata": {},
   "outputs": [],
   "source": [
    "wellness_df.head()"
   ]
  },
  {
   "cell_type": "code",
   "execution_count": null,
   "metadata": {},
   "outputs": [],
   "source": [
    "subjective_performance_df['Date'] = pd.to_datetime(subjective_performance_df['Date'])\n",
    "wellness_subjective_performance = wellness_df.merge(subjective_performance_df, how='inner', on= ['Date','PlayerID'])\n",
    "wellness_subjective_performance.head()\n"
   ]
  },
  {
   "cell_type": "code",
   "execution_count": null,
   "metadata": {},
   "outputs": [],
   "source": [
    "scatter_plot(wellness_subjective_performance, 'wellness', 'SubjectivePerformance', 'SubjectivePerformance VS wellness')\n"
   ]
  },
  {
   "cell_type": "code",
   "execution_count": null,
   "metadata": {},
   "outputs": [],
   "source": [
    "averaged_subjective_perofrmance = wellness_subjective_performance[['PlayerID', 'wellness', 'SubjectivePerformance']].groupby('PlayerID').mean()\n",
    "averaged_subjective_perofrmance\n"
   ]
  },
  {
   "cell_type": "code",
   "execution_count": null,
   "metadata": {},
   "outputs": [],
   "source": [
    "scatter_plot(averaged_subjective_perofrmance, 'wellness', 'SubjectivePerformance', 'SubjectivePerformance VS wellness')\n"
   ]
  },
  {
   "cell_type": "markdown",
   "metadata": {},
   "source": [
    "### Plot Subjective Performance Over Time For Each Player"
   ]
  },
  {
   "cell_type": "code",
   "execution_count": null,
   "metadata": {},
   "outputs": [],
   "source": [
    "for player_id in wellness_subjective_performance['PlayerID'].unique():\n",
    "    player_df = wellness_subjective_performance[wellness_subjective_performance['PlayerID'] == player_id]\n",
    "    plt.plot(player_df['Date'], player_df['wellness'])\n",
    "    plt.title('Wellness over time for player {}'.format(player_id))\n",
    "    plt.show()\n",
    "    plt.plot(player_df['Date'], player_df['SubjectivePerformance'])\n",
    "    plt.title('SubjectivePerformance over time for player {}'.format(player_id))\n",
    "    plt.show()\n"
   ]
  },
  {
   "cell_type": "markdown",
   "metadata": {},
   "source": [
    "## Looking Deeper Into Pain and Illness"
   ]
  },
  {
   "cell_type": "markdown",
   "metadata": {},
   "source": [
    "When we look at Pain, Illness, and Nutrition vs performance, it almost looks like the average performance for being in pain is less than not being in pain which is counter intuitive. The same goes for nutrition. We should formalize these findings by doing a t-test."
   ]
  },
  {
   "cell_type": "code",
   "execution_count": null,
   "metadata": {},
   "outputs": [],
   "source": [
    "averaged_df = merged_df.copy()[['PlayerID', 'MaxSpeedInGame', 'Pain', 'Illness', 'Nutrition', 'AcuteChronicRatio', 'AcuteLoad', 'ChronicLoad', 'wellness', 'MonitoringScore', 'TrainingReadiness']].groupby('PlayerID').mean()\n",
    "averaged_df\n"
   ]
  },
  {
   "cell_type": "code",
   "execution_count": null,
   "metadata": {},
   "outputs": [],
   "source": [
    "averaged_df.corr()"
   ]
  },
  {
   "cell_type": "markdown",
   "metadata": {},
   "source": [
    "Remember that taking the correlation of averaged values for repreated measures might not be the best thing to do, (find citation for this - Joe)"
   ]
  },
  {
   "cell_type": "markdown",
   "metadata": {},
   "source": [
    "### Pain"
   ]
  },
  {
   "cell_type": "markdown",
   "metadata": {},
   "source": [
    "There were 10 players that were never in pain (ie average pain = 1) so lets compare those players against those that were in pain."
   ]
  },
  {
   "cell_type": "code",
   "execution_count": null,
   "metadata": {},
   "outputs": [],
   "source": [
    "not_in_pain = averaged_df[averaged_df['Pain'] == 1]\n",
    "not_in_pain['MaxSpeedInGame'].mean()"
   ]
  },
  {
   "cell_type": "code",
   "execution_count": null,
   "metadata": {},
   "outputs": [],
   "source": [
    "in_pain = averaged_df[averaged_df['Pain'] != 1]\n",
    "in_pain['MaxSpeedInGame'].mean()"
   ]
  },
  {
   "cell_type": "markdown",
   "metadata": {},
   "source": [
    "It seems like those why were not in pain had lower average performance than those who were not in pain which seems counter intuitive. Let's first see if this difference was significant."
   ]
  },
  {
   "cell_type": "code",
   "execution_count": null,
   "metadata": {},
   "outputs": [],
   "source": [
    "ttest_ind(not_in_pain['MaxSpeedInGame'], in_pain['MaxSpeedInGame'])"
   ]
  },
  {
   "cell_type": "markdown",
   "metadata": {},
   "source": [
    "This is a significant result. There must be something more to this relationship."
   ]
  },
  {
   "cell_type": "markdown",
   "metadata": {},
   "source": [
    "#### No Pain Players"
   ]
  },
  {
   "cell_type": "code",
   "execution_count": null,
   "metadata": {},
   "outputs": [],
   "source": [
    "not_in_pain.index"
   ]
  },
  {
   "cell_type": "code",
   "execution_count": null,
   "metadata": {
    "scrolled": true
   },
   "outputs": [],
   "source": [
    "averaged_df.loc[not_in_pain.index][[]]"
   ]
  },
  {
   "cell_type": "markdown",
   "metadata": {},
   "source": [
    "#### Pain Players"
   ]
  },
  {
   "cell_type": "code",
   "execution_count": null,
   "metadata": {},
   "outputs": [],
   "source": [
    "in_pain.index"
   ]
  },
  {
   "cell_type": "code",
   "execution_count": null,
   "metadata": {},
   "outputs": [],
   "source": [
    "averaged_df.loc[not_in_pain.index][['MaxSpeedInGame', 'Pain', 'Illness', 'Nutrition', '']]"
   ]
  },
  {
   "cell_type": "markdown",
   "metadata": {},
   "source": [
    "## Performance For High And Low Wellness Occurances"
   ]
  },
  {
   "cell_type": "code",
   "execution_count": null,
   "metadata": {},
   "outputs": [],
   "source": [
    "# Need to average over all the players so we have independent measurements\n",
    "averaged_wellness_df = merged_df.copy()[['PlayerID', 'MaxSpeedInGame', 'wellness']].groupby('PlayerID').mean()\n",
    "wellness_median = averaged_wellness_df['wellness'].median()\n",
    "\n",
    "low_wellness_df = merged_df[merged_df['wellness'] < wellness_median]\n",
    "high_wellness_df = merged_df[merged_df['wellness'] > wellness_median]\n",
    "\n",
    "ttest_ind(low_wellness_df['MaxSpeedInGame'], high_wellness_df['MaxSpeedInGame'])"
   ]
  },
  {
   "cell_type": "markdown",
   "metadata": {},
   "source": [
    "As expected, we see that there is no significant difference between average performance of high and low wellness players."
   ]
  }
 ],
 "metadata": {
  "kernelspec": {
   "display_name": "Python 3",
   "language": "python",
   "name": "python3"
  },
  "language_info": {
   "codemirror_mode": {
    "name": "ipython",
    "version": 3
   },
   "file_extension": ".py",
   "mimetype": "text/x-python",
   "name": "python",
   "nbconvert_exporter": "python",
   "pygments_lexer": "ipython3",
   "version": "3.7.3"
  }
 },
 "nbformat": 4,
 "nbformat_minor": 2
}
