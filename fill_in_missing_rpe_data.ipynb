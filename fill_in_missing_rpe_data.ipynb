{
 "cells": [
  {
   "cell_type": "markdown",
   "metadata": {},
   "source": [
    "# Missing RPE Data"
   ]
  },
  {
   "cell_type": "markdown",
   "metadata": {},
   "source": [
    "On some of the game dates, we don't have RPE data. But, we are mainly concerned with the acute/chronic ratio which we can compute for the dates for which it is missing."
   ]
  },
  {
   "cell_type": "code",
   "execution_count": 1,
   "metadata": {},
   "outputs": [],
   "source": [
    "import pandas as pd\n",
    "import numpy as np\n",
    "from factor_analyzer import FactorAnalyzer\n",
    "from factor_analyzer.factor_analyzer import calculate_bartlett_sphericity, calculate_kmo\n",
    "from scipy.stats import ttest_ind, ttest_rel\n",
    "from scipy.stats import pointbiserialr\n",
    "import matplotlib.pyplot as plt\n",
    "from sklearn.preprocessing import StandardScaler"
   ]
  },
  {
   "cell_type": "code",
   "execution_count": 2,
   "metadata": {},
   "outputs": [
    {
     "name": "stdout",
     "output_type": "stream",
     "text": [
      "   Unnamed: 0        Date  PlayerID  Training SessionType  Duration  RPE  \\\n",
      "0           0  2017-08-01        15         1    Strength      60.0  4.0   \n",
      "1           1  2017-08-01         1         1       Speed      60.0  3.0   \n",
      "2           2  2017-08-01         1         1    Strength      90.0  4.0   \n",
      "3           3  2017-08-01         3         1       Speed      45.0  5.0   \n",
      "4           4  2017-08-01         3         1    Strength      90.0  5.0   \n",
      "\n",
      "   SessionLoad  DailyLoad  AcuteChronicRatio  ObjectiveRating  FocusRating  \\\n",
      "0        240.0      300.0               4.29              6.0          7.0   \n",
      "1        180.0      540.0               4.29              0.0          0.0   \n",
      "2        360.0      540.0               4.29              0.0          0.0   \n",
      "3        225.0      675.0               4.29              7.0          7.0   \n",
      "4        450.0      675.0               4.29              7.0          7.0   \n",
      "\n",
      "   BestOutOfMyself  AcuteLoad  ChronicLoad  \n",
      "0              3.0      42.86         10.0  \n",
      "1              3.0      77.14         18.0  \n",
      "2              3.0      77.14         18.0  \n",
      "3              3.0      96.43         22.5  \n",
      "4              3.0      96.43         22.5  \n"
     ]
    }
   ],
   "source": [
    "np.random.seed(5151)\n",
    "raw_rpe_df = pd.read_csv('./processed_data/processed_rpe.csv')\n",
    "raw_rpe = raw_rpe_df.copy()[['Date', 'PlayerID', 'RPE']]\n",
    "print(raw_rpe_df.head())\n"
   ]
  },
  {
   "cell_type": "markdown",
   "metadata": {},
   "source": [
    "## Drop Duplicate Dates"
   ]
  },
  {
   "cell_type": "markdown",
   "metadata": {},
   "source": [
    "This occurs when there are multiple training sessions on the same date. We only care about the daily load so we can drop the duplicate sessions."
   ]
  },
  {
   "cell_type": "code",
   "execution_count": 3,
   "metadata": {},
   "outputs": [
    {
     "data": {
      "text/html": [
       "<div>\n",
       "<style scoped>\n",
       "    .dataframe tbody tr th:only-of-type {\n",
       "        vertical-align: middle;\n",
       "    }\n",
       "\n",
       "    .dataframe tbody tr th {\n",
       "        vertical-align: top;\n",
       "    }\n",
       "\n",
       "    .dataframe thead th {\n",
       "        text-align: right;\n",
       "    }\n",
       "</style>\n",
       "<table border=\"1\" class=\"dataframe\">\n",
       "  <thead>\n",
       "    <tr style=\"text-align: right;\">\n",
       "      <th></th>\n",
       "      <th>Date</th>\n",
       "      <th>PlayerID</th>\n",
       "      <th>DailyLoad</th>\n",
       "      <th>AcuteChronicRatio</th>\n",
       "      <th>AcuteLoad</th>\n",
       "      <th>ChronicLoad</th>\n",
       "    </tr>\n",
       "  </thead>\n",
       "  <tbody>\n",
       "    <tr>\n",
       "      <th>0</th>\n",
       "      <td>2017-08-01</td>\n",
       "      <td>15</td>\n",
       "      <td>300.0</td>\n",
       "      <td>4.29</td>\n",
       "      <td>42.86</td>\n",
       "      <td>10.0</td>\n",
       "    </tr>\n",
       "    <tr>\n",
       "      <th>1</th>\n",
       "      <td>2017-08-01</td>\n",
       "      <td>1</td>\n",
       "      <td>540.0</td>\n",
       "      <td>4.29</td>\n",
       "      <td>77.14</td>\n",
       "      <td>18.0</td>\n",
       "    </tr>\n",
       "    <tr>\n",
       "      <th>2</th>\n",
       "      <td>2017-08-01</td>\n",
       "      <td>1</td>\n",
       "      <td>540.0</td>\n",
       "      <td>4.29</td>\n",
       "      <td>77.14</td>\n",
       "      <td>18.0</td>\n",
       "    </tr>\n",
       "    <tr>\n",
       "      <th>3</th>\n",
       "      <td>2017-08-01</td>\n",
       "      <td>3</td>\n",
       "      <td>675.0</td>\n",
       "      <td>4.29</td>\n",
       "      <td>96.43</td>\n",
       "      <td>22.5</td>\n",
       "    </tr>\n",
       "    <tr>\n",
       "      <th>4</th>\n",
       "      <td>2017-08-01</td>\n",
       "      <td>3</td>\n",
       "      <td>675.0</td>\n",
       "      <td>4.29</td>\n",
       "      <td>96.43</td>\n",
       "      <td>22.5</td>\n",
       "    </tr>\n",
       "  </tbody>\n",
       "</table>\n",
       "</div>"
      ],
      "text/plain": [
       "         Date  PlayerID  DailyLoad  AcuteChronicRatio  AcuteLoad  ChronicLoad\n",
       "0  2017-08-01        15      300.0               4.29      42.86         10.0\n",
       "1  2017-08-01         1      540.0               4.29      77.14         18.0\n",
       "2  2017-08-01         1      540.0               4.29      77.14         18.0\n",
       "3  2017-08-01         3      675.0               4.29      96.43         22.5\n",
       "4  2017-08-01         3      675.0               4.29      96.43         22.5"
      ]
     },
     "execution_count": 3,
     "metadata": {},
     "output_type": "execute_result"
    }
   ],
   "source": [
    "rpe_df = raw_rpe_df.copy()[['Date', 'PlayerID', 'DailyLoad', 'AcuteChronicRatio', 'AcuteLoad', 'ChronicLoad']]\n",
    "subjective_performance_df = raw_rpe_df.copy()[['Date', 'PlayerID', 'ObjectiveRating', 'FocusRating', 'BestOutOfMyself']]\n",
    "rpe_df.head()"
   ]
  },
  {
   "cell_type": "code",
   "execution_count": 4,
   "metadata": {},
   "outputs": [
    {
     "data": {
      "text/html": [
       "<div>\n",
       "<style scoped>\n",
       "    .dataframe tbody tr th:only-of-type {\n",
       "        vertical-align: middle;\n",
       "    }\n",
       "\n",
       "    .dataframe tbody tr th {\n",
       "        vertical-align: top;\n",
       "    }\n",
       "\n",
       "    .dataframe thead th {\n",
       "        text-align: right;\n",
       "    }\n",
       "</style>\n",
       "<table border=\"1\" class=\"dataframe\">\n",
       "  <thead>\n",
       "    <tr style=\"text-align: right;\">\n",
       "      <th></th>\n",
       "      <th>Date</th>\n",
       "      <th>PlayerID</th>\n",
       "      <th>ObjectiveRating</th>\n",
       "      <th>FocusRating</th>\n",
       "      <th>BestOutOfMyself</th>\n",
       "    </tr>\n",
       "  </thead>\n",
       "  <tbody>\n",
       "    <tr>\n",
       "      <th>0</th>\n",
       "      <td>2017-08-01</td>\n",
       "      <td>15</td>\n",
       "      <td>6.0</td>\n",
       "      <td>7.0</td>\n",
       "      <td>3.0</td>\n",
       "    </tr>\n",
       "    <tr>\n",
       "      <th>1</th>\n",
       "      <td>2017-08-01</td>\n",
       "      <td>1</td>\n",
       "      <td>0.0</td>\n",
       "      <td>0.0</td>\n",
       "      <td>3.0</td>\n",
       "    </tr>\n",
       "    <tr>\n",
       "      <th>2</th>\n",
       "      <td>2017-08-01</td>\n",
       "      <td>1</td>\n",
       "      <td>0.0</td>\n",
       "      <td>0.0</td>\n",
       "      <td>3.0</td>\n",
       "    </tr>\n",
       "    <tr>\n",
       "      <th>3</th>\n",
       "      <td>2017-08-01</td>\n",
       "      <td>3</td>\n",
       "      <td>7.0</td>\n",
       "      <td>7.0</td>\n",
       "      <td>3.0</td>\n",
       "    </tr>\n",
       "    <tr>\n",
       "      <th>4</th>\n",
       "      <td>2017-08-01</td>\n",
       "      <td>3</td>\n",
       "      <td>7.0</td>\n",
       "      <td>7.0</td>\n",
       "      <td>3.0</td>\n",
       "    </tr>\n",
       "  </tbody>\n",
       "</table>\n",
       "</div>"
      ],
      "text/plain": [
       "         Date  PlayerID  ObjectiveRating  FocusRating  BestOutOfMyself\n",
       "0  2017-08-01        15              6.0          7.0              3.0\n",
       "1  2017-08-01         1              0.0          0.0              3.0\n",
       "2  2017-08-01         1              0.0          0.0              3.0\n",
       "3  2017-08-01         3              7.0          7.0              3.0\n",
       "4  2017-08-01         3              7.0          7.0              3.0"
      ]
     },
     "execution_count": 4,
     "metadata": {},
     "output_type": "execute_result"
    }
   ],
   "source": [
    "subjective_performance_df.head()"
   ]
  },
  {
   "cell_type": "code",
   "execution_count": 5,
   "metadata": {},
   "outputs": [],
   "source": [
    "rpe_df = rpe_df.drop_duplicates()"
   ]
  },
  {
   "cell_type": "code",
   "execution_count": 6,
   "metadata": {},
   "outputs": [
    {
     "data": {
      "text/html": [
       "<div>\n",
       "<style scoped>\n",
       "    .dataframe tbody tr th:only-of-type {\n",
       "        vertical-align: middle;\n",
       "    }\n",
       "\n",
       "    .dataframe tbody tr th {\n",
       "        vertical-align: top;\n",
       "    }\n",
       "\n",
       "    .dataframe thead th {\n",
       "        text-align: right;\n",
       "    }\n",
       "</style>\n",
       "<table border=\"1\" class=\"dataframe\">\n",
       "  <thead>\n",
       "    <tr style=\"text-align: right;\">\n",
       "      <th></th>\n",
       "      <th>Date</th>\n",
       "      <th>PlayerID</th>\n",
       "      <th>DailyLoad</th>\n",
       "      <th>AcuteChronicRatio</th>\n",
       "      <th>AcuteLoad</th>\n",
       "      <th>ChronicLoad</th>\n",
       "    </tr>\n",
       "  </thead>\n",
       "  <tbody>\n",
       "    <tr>\n",
       "      <th>0</th>\n",
       "      <td>2017-08-01</td>\n",
       "      <td>15</td>\n",
       "      <td>300.0</td>\n",
       "      <td>4.29</td>\n",
       "      <td>42.86</td>\n",
       "      <td>10.0</td>\n",
       "    </tr>\n",
       "    <tr>\n",
       "      <th>1</th>\n",
       "      <td>2017-08-01</td>\n",
       "      <td>1</td>\n",
       "      <td>540.0</td>\n",
       "      <td>4.29</td>\n",
       "      <td>77.14</td>\n",
       "      <td>18.0</td>\n",
       "    </tr>\n",
       "    <tr>\n",
       "      <th>3</th>\n",
       "      <td>2017-08-01</td>\n",
       "      <td>3</td>\n",
       "      <td>675.0</td>\n",
       "      <td>4.29</td>\n",
       "      <td>96.43</td>\n",
       "      <td>22.5</td>\n",
       "    </tr>\n",
       "    <tr>\n",
       "      <th>5</th>\n",
       "      <td>2017-08-01</td>\n",
       "      <td>5</td>\n",
       "      <td>330.0</td>\n",
       "      <td>4.29</td>\n",
       "      <td>47.14</td>\n",
       "      <td>11.0</td>\n",
       "    </tr>\n",
       "    <tr>\n",
       "      <th>7</th>\n",
       "      <td>2017-08-01</td>\n",
       "      <td>8</td>\n",
       "      <td>345.0</td>\n",
       "      <td>4.29</td>\n",
       "      <td>49.29</td>\n",
       "      <td>11.5</td>\n",
       "    </tr>\n",
       "  </tbody>\n",
       "</table>\n",
       "</div>"
      ],
      "text/plain": [
       "         Date  PlayerID  DailyLoad  AcuteChronicRatio  AcuteLoad  ChronicLoad\n",
       "0  2017-08-01        15      300.0               4.29      42.86         10.0\n",
       "1  2017-08-01         1      540.0               4.29      77.14         18.0\n",
       "3  2017-08-01         3      675.0               4.29      96.43         22.5\n",
       "5  2017-08-01         5      330.0               4.29      47.14         11.0\n",
       "7  2017-08-01         8      345.0               4.29      49.29         11.5"
      ]
     },
     "execution_count": 6,
     "metadata": {},
     "output_type": "execute_result"
    }
   ],
   "source": [
    "rpe_df.head()"
   ]
  },
  {
   "cell_type": "markdown",
   "metadata": {},
   "source": [
    "## Fill In Missing RPE Data"
   ]
  },
  {
   "cell_type": "markdown",
   "metadata": {},
   "source": [
    "This row should not be in the dataset since it is the first entry for this player and they are not training."
   ]
  },
  {
   "cell_type": "code",
   "execution_count": 7,
   "metadata": {},
   "outputs": [],
   "source": [
    "rpe_df = rpe_df[~ rpe_df['AcuteChronicRatio'].isnull()]"
   ]
  },
  {
   "cell_type": "code",
   "execution_count": 8,
   "metadata": {},
   "outputs": [],
   "source": [
    "rpe_df['Date'] = pd.to_datetime(rpe_df['Date'])"
   ]
  },
  {
   "cell_type": "markdown",
   "metadata": {},
   "source": [
    "Adding missing dates and player ids to rpe data:"
   ]
  },
  {
   "cell_type": "code",
   "execution_count": 9,
   "metadata": {},
   "outputs": [],
   "source": [
    "dates = pd.date_range(start=min(rpe_df['Date']), end=max(rpe_df['Date']))\n",
    "players = rpe_df['PlayerID'].unique()\n",
    "idx = pd.MultiIndex.from_product((dates, players), names=['Date', 'PlayerID'])\n",
    "\n",
    "rpe_df = rpe_df.set_index(['Date', 'PlayerID']).reindex(idx, fill_value=0).reset_index().sort_values(by=['Date', 'PlayerID'])\n",
    "\n"
   ]
  },
  {
   "cell_type": "markdown",
   "metadata": {},
   "source": [
    "Use a rolling window to compute acute load and chronic load:"
   ]
  },
  {
   "cell_type": "code",
   "execution_count": 10,
   "metadata": {},
   "outputs": [],
   "source": [
    "temp = rpe_df[['Date','PlayerID','DailyLoad']].drop_duplicates()\n",
    "past7Days = temp.groupby('PlayerID').rolling('7d', on='Date')['DailyLoad'].sum().reset_index()\n",
    "past7Days['newAcuteLoad'] = (past7Days['DailyLoad'] / 7.).round(2)\n",
    "past7Days = past7Days.drop(columns = 'DailyLoad')\n",
    "\n",
    "rpe_df = pd.merge(rpe_df, past7Days, how='left', on=['Date', 'PlayerID'])"
   ]
  },
  {
   "cell_type": "code",
   "execution_count": 11,
   "metadata": {},
   "outputs": [],
   "source": [
    "past30Days = temp.groupby('PlayerID').rolling('30d', on='Date')['DailyLoad'].sum().reset_index()\n",
    "past30Days['newChronicLoad'] = (past30Days['DailyLoad'] / 30.).round(2)\n",
    "past30Days = past30Days.drop(columns = 'DailyLoad')\n",
    "\n",
    "rpe_df = pd.merge(rpe_df, past30Days, how=\"left\", on=[\"Date\", \"PlayerID\"])"
   ]
  },
  {
   "cell_type": "code",
   "execution_count": 12,
   "metadata": {},
   "outputs": [],
   "source": [
    "rpe_df.drop(['ChronicLoad','AcuteLoad'],axis = 1, inplace = True)\n",
    "rpe_df.rename(columns = {'newChronicLoad':'ChronicLoad','newAcuteLoad':'AcuteLoad'}, inplace = True)\n",
    "rpe_df['AcuteChronicRatio'] = (rpe_df['AcuteLoad'] / rpe_df['ChronicLoad']).round(2)"
   ]
  },
  {
   "cell_type": "code",
   "execution_count": 13,
   "metadata": {},
   "outputs": [
    {
     "data": {
      "text/html": [
       "<div>\n",
       "<style scoped>\n",
       "    .dataframe tbody tr th:only-of-type {\n",
       "        vertical-align: middle;\n",
       "    }\n",
       "\n",
       "    .dataframe tbody tr th {\n",
       "        vertical-align: top;\n",
       "    }\n",
       "\n",
       "    .dataframe thead th {\n",
       "        text-align: right;\n",
       "    }\n",
       "</style>\n",
       "<table border=\"1\" class=\"dataframe\">\n",
       "  <thead>\n",
       "    <tr style=\"text-align: right;\">\n",
       "      <th></th>\n",
       "      <th>Date</th>\n",
       "      <th>GameID</th>\n",
       "      <th>Outcome</th>\n",
       "      <th>TeamPoints</th>\n",
       "      <th>PlayerID</th>\n",
       "      <th>MaxSpeedInGame</th>\n",
       "      <th>MaxAccelImpulseInGame</th>\n",
       "    </tr>\n",
       "  </thead>\n",
       "  <tbody>\n",
       "    <tr>\n",
       "      <th>0</th>\n",
       "      <td>2017-11-30</td>\n",
       "      <td>1</td>\n",
       "      <td>W</td>\n",
       "      <td>19</td>\n",
       "      <td>2</td>\n",
       "      <td>7.284728</td>\n",
       "      <td>4.423615</td>\n",
       "    </tr>\n",
       "    <tr>\n",
       "      <th>1</th>\n",
       "      <td>2017-11-30</td>\n",
       "      <td>1</td>\n",
       "      <td>W</td>\n",
       "      <td>19</td>\n",
       "      <td>3</td>\n",
       "      <td>6.852436</td>\n",
       "      <td>4.888893</td>\n",
       "    </tr>\n",
       "    <tr>\n",
       "      <th>2</th>\n",
       "      <td>2017-11-30</td>\n",
       "      <td>1</td>\n",
       "      <td>W</td>\n",
       "      <td>19</td>\n",
       "      <td>4</td>\n",
       "      <td>7.267784</td>\n",
       "      <td>5.694449</td>\n",
       "    </tr>\n",
       "    <tr>\n",
       "      <th>3</th>\n",
       "      <td>2017-11-30</td>\n",
       "      <td>1</td>\n",
       "      <td>W</td>\n",
       "      <td>19</td>\n",
       "      <td>6</td>\n",
       "      <td>6.338894</td>\n",
       "      <td>4.777782</td>\n",
       "    </tr>\n",
       "    <tr>\n",
       "      <th>4</th>\n",
       "      <td>2017-11-30</td>\n",
       "      <td>1</td>\n",
       "      <td>W</td>\n",
       "      <td>19</td>\n",
       "      <td>7</td>\n",
       "      <td>7.065283</td>\n",
       "      <td>4.091273</td>\n",
       "    </tr>\n",
       "  </tbody>\n",
       "</table>\n",
       "</div>"
      ],
      "text/plain": [
       "         Date  GameID Outcome  TeamPoints  PlayerID  MaxSpeedInGame  \\\n",
       "0  2017-11-30       1       W          19         2        7.284728   \n",
       "1  2017-11-30       1       W          19         3        6.852436   \n",
       "2  2017-11-30       1       W          19         4        7.267784   \n",
       "3  2017-11-30       1       W          19         6        6.338894   \n",
       "4  2017-11-30       1       W          19         7        7.065283   \n",
       "\n",
       "   MaxAccelImpulseInGame  \n",
       "0               4.423615  \n",
       "1               4.888893  \n",
       "2               5.694449  \n",
       "3               4.777782  \n",
       "4               4.091273  "
      ]
     },
     "execution_count": 13,
     "metadata": {},
     "output_type": "execute_result"
    }
   ],
   "source": [
    "gps_df = pd.read_csv('./processed_data/processed_gps.csv')\n",
    "gps_df = gps_df.drop(columns=['Unnamed: 0'])\n",
    "gps_df.head()\n"
   ]
  },
  {
   "cell_type": "code",
   "execution_count": 14,
   "metadata": {},
   "outputs": [
    {
     "name": "stdout",
     "output_type": "stream",
     "text": [
      "443\n"
     ]
    },
    {
     "data": {
      "text/html": [
       "<div>\n",
       "<style scoped>\n",
       "    .dataframe tbody tr th:only-of-type {\n",
       "        vertical-align: middle;\n",
       "    }\n",
       "\n",
       "    .dataframe tbody tr th {\n",
       "        vertical-align: top;\n",
       "    }\n",
       "\n",
       "    .dataframe thead th {\n",
       "        text-align: right;\n",
       "    }\n",
       "</style>\n",
       "<table border=\"1\" class=\"dataframe\">\n",
       "  <thead>\n",
       "    <tr style=\"text-align: right;\">\n",
       "      <th></th>\n",
       "      <th>Date</th>\n",
       "      <th>GameID</th>\n",
       "      <th>Outcome</th>\n",
       "      <th>TeamPoints</th>\n",
       "      <th>PlayerID</th>\n",
       "      <th>MaxSpeedInGame</th>\n",
       "      <th>MaxAccelImpulseInGame</th>\n",
       "      <th>AcuteLoad</th>\n",
       "      <th>ChronicLoad</th>\n",
       "      <th>AcuteChronicRatio</th>\n",
       "    </tr>\n",
       "  </thead>\n",
       "  <tbody>\n",
       "    <tr>\n",
       "      <th>0</th>\n",
       "      <td>2017-11-30</td>\n",
       "      <td>1</td>\n",
       "      <td>W</td>\n",
       "      <td>19</td>\n",
       "      <td>2</td>\n",
       "      <td>7.284728</td>\n",
       "      <td>4.423615</td>\n",
       "      <td>206.57</td>\n",
       "      <td>371.20</td>\n",
       "      <td>0.56</td>\n",
       "    </tr>\n",
       "    <tr>\n",
       "      <th>1</th>\n",
       "      <td>2017-11-30</td>\n",
       "      <td>1</td>\n",
       "      <td>W</td>\n",
       "      <td>19</td>\n",
       "      <td>3</td>\n",
       "      <td>6.852436</td>\n",
       "      <td>4.888893</td>\n",
       "      <td>407.86</td>\n",
       "      <td>454.67</td>\n",
       "      <td>0.90</td>\n",
       "    </tr>\n",
       "    <tr>\n",
       "      <th>2</th>\n",
       "      <td>2017-11-30</td>\n",
       "      <td>1</td>\n",
       "      <td>W</td>\n",
       "      <td>19</td>\n",
       "      <td>4</td>\n",
       "      <td>7.267784</td>\n",
       "      <td>5.694449</td>\n",
       "      <td>236.00</td>\n",
       "      <td>406.90</td>\n",
       "      <td>0.58</td>\n",
       "    </tr>\n",
       "    <tr>\n",
       "      <th>3</th>\n",
       "      <td>2017-11-30</td>\n",
       "      <td>1</td>\n",
       "      <td>W</td>\n",
       "      <td>19</td>\n",
       "      <td>6</td>\n",
       "      <td>6.338894</td>\n",
       "      <td>4.777782</td>\n",
       "      <td>297.29</td>\n",
       "      <td>415.87</td>\n",
       "      <td>0.71</td>\n",
       "    </tr>\n",
       "    <tr>\n",
       "      <th>4</th>\n",
       "      <td>2017-11-30</td>\n",
       "      <td>1</td>\n",
       "      <td>W</td>\n",
       "      <td>19</td>\n",
       "      <td>7</td>\n",
       "      <td>7.065283</td>\n",
       "      <td>4.091273</td>\n",
       "      <td>237.57</td>\n",
       "      <td>476.60</td>\n",
       "      <td>0.50</td>\n",
       "    </tr>\n",
       "  </tbody>\n",
       "</table>\n",
       "</div>"
      ],
      "text/plain": [
       "        Date  GameID Outcome  TeamPoints  PlayerID  MaxSpeedInGame  \\\n",
       "0 2017-11-30       1       W          19         2        7.284728   \n",
       "1 2017-11-30       1       W          19         3        6.852436   \n",
       "2 2017-11-30       1       W          19         4        7.267784   \n",
       "3 2017-11-30       1       W          19         6        6.338894   \n",
       "4 2017-11-30       1       W          19         7        7.065283   \n",
       "\n",
       "   MaxAccelImpulseInGame  AcuteLoad  ChronicLoad  AcuteChronicRatio  \n",
       "0               4.423615     206.57       371.20               0.56  \n",
       "1               4.888893     407.86       454.67               0.90  \n",
       "2               5.694449     236.00       406.90               0.58  \n",
       "3               4.777782     297.29       415.87               0.71  \n",
       "4               4.091273     237.57       476.60               0.50  "
      ]
     },
     "execution_count": 14,
     "metadata": {},
     "output_type": "execute_result"
    }
   ],
   "source": [
    "# merged_df = gps_df.merge(rpe_df, how='left', on=['Date', 'PlayerID'])\n",
    "# merged_df.head()\n",
    "gps_df['Date'] = pd.to_datetime(gps_df['Date'])\n",
    "train_performance = gps_df.merge(rpe_df[[\n",
    "    'Date','PlayerID', 'AcuteLoad',\n",
    "    'ChronicLoad','AcuteChronicRatio']],\n",
    "    how='left', on= ['Date','PlayerID']).drop_duplicates()\n",
    "print(len(train_performance))\n",
    "train_performance.head()"
   ]
  },
  {
   "cell_type": "code",
   "execution_count": 15,
   "metadata": {},
   "outputs": [
    {
     "data": {
      "text/html": [
       "<div>\n",
       "<style scoped>\n",
       "    .dataframe tbody tr th:only-of-type {\n",
       "        vertical-align: middle;\n",
       "    }\n",
       "\n",
       "    .dataframe tbody tr th {\n",
       "        vertical-align: top;\n",
       "    }\n",
       "\n",
       "    .dataframe thead th {\n",
       "        text-align: right;\n",
       "    }\n",
       "</style>\n",
       "<table border=\"1\" class=\"dataframe\">\n",
       "  <thead>\n",
       "    <tr style=\"text-align: right;\">\n",
       "      <th></th>\n",
       "      <th>Date</th>\n",
       "      <th>PlayerID</th>\n",
       "      <th>MonitoringScore</th>\n",
       "      <th>Fatigue</th>\n",
       "      <th>Soreness</th>\n",
       "      <th>Desire</th>\n",
       "      <th>Irritability</th>\n",
       "      <th>SleepScore</th>\n",
       "      <th>SleepHours</th>\n",
       "      <th>SleepQuality</th>\n",
       "      <th>TrainingReadiness</th>\n",
       "      <th>Pain</th>\n",
       "      <th>Illness</th>\n",
       "      <th>Nutrition</th>\n",
       "      <th>StandardizedMonitoringScore</th>\n",
       "      <th>StandardizedPain</th>\n",
       "      <th>StandardizedIllness</th>\n",
       "      <th>StandardizedNutrition</th>\n",
       "      <th>StandardizedTrainingReadiness</th>\n",
       "      <th>wellness</th>\n",
       "    </tr>\n",
       "  </thead>\n",
       "  <tbody>\n",
       "    <tr>\n",
       "      <th>0</th>\n",
       "      <td>2018-07-21</td>\n",
       "      <td>1</td>\n",
       "      <td>13</td>\n",
       "      <td>3</td>\n",
       "      <td>3</td>\n",
       "      <td>2</td>\n",
       "      <td>3</td>\n",
       "      <td>16.0</td>\n",
       "      <td>8.00</td>\n",
       "      <td>2</td>\n",
       "      <td>0</td>\n",
       "      <td>1</td>\n",
       "      <td>3</td>\n",
       "      <td>3</td>\n",
       "      <td>-1.450204</td>\n",
       "      <td>0.364611</td>\n",
       "      <td>0.331464</td>\n",
       "      <td>0.722090</td>\n",
       "      <td>-1.826823</td>\n",
       "      <td>-1.858861</td>\n",
       "    </tr>\n",
       "    <tr>\n",
       "      <th>1</th>\n",
       "      <td>2018-07-21</td>\n",
       "      <td>2</td>\n",
       "      <td>19</td>\n",
       "      <td>4</td>\n",
       "      <td>3</td>\n",
       "      <td>4</td>\n",
       "      <td>4</td>\n",
       "      <td>32.0</td>\n",
       "      <td>8.00</td>\n",
       "      <td>4</td>\n",
       "      <td>0</td>\n",
       "      <td>0</td>\n",
       "      <td>3</td>\n",
       "      <td>3</td>\n",
       "      <td>0.170622</td>\n",
       "      <td>-2.742646</td>\n",
       "      <td>0.331464</td>\n",
       "      <td>0.722090</td>\n",
       "      <td>-1.826823</td>\n",
       "      <td>-3.345293</td>\n",
       "    </tr>\n",
       "    <tr>\n",
       "      <th>2</th>\n",
       "      <td>2018-07-21</td>\n",
       "      <td>3</td>\n",
       "      <td>19</td>\n",
       "      <td>3</td>\n",
       "      <td>3</td>\n",
       "      <td>5</td>\n",
       "      <td>4</td>\n",
       "      <td>32.0</td>\n",
       "      <td>8.00</td>\n",
       "      <td>4</td>\n",
       "      <td>100</td>\n",
       "      <td>1</td>\n",
       "      <td>3</td>\n",
       "      <td>3</td>\n",
       "      <td>0.170622</td>\n",
       "      <td>0.364611</td>\n",
       "      <td>0.331464</td>\n",
       "      <td>0.722090</td>\n",
       "      <td>0.795746</td>\n",
       "      <td>2.384534</td>\n",
       "    </tr>\n",
       "    <tr>\n",
       "      <th>3</th>\n",
       "      <td>2018-07-21</td>\n",
       "      <td>4</td>\n",
       "      <td>15</td>\n",
       "      <td>2</td>\n",
       "      <td>3</td>\n",
       "      <td>5</td>\n",
       "      <td>4</td>\n",
       "      <td>6.5</td>\n",
       "      <td>6.50</td>\n",
       "      <td>1</td>\n",
       "      <td>95</td>\n",
       "      <td>1</td>\n",
       "      <td>3</td>\n",
       "      <td>3</td>\n",
       "      <td>-0.909929</td>\n",
       "      <td>0.364611</td>\n",
       "      <td>0.331464</td>\n",
       "      <td>0.722090</td>\n",
       "      <td>0.664618</td>\n",
       "      <td>1.172854</td>\n",
       "    </tr>\n",
       "    <tr>\n",
       "      <th>4</th>\n",
       "      <td>2018-07-21</td>\n",
       "      <td>5</td>\n",
       "      <td>20</td>\n",
       "      <td>5</td>\n",
       "      <td>3</td>\n",
       "      <td>4</td>\n",
       "      <td>4</td>\n",
       "      <td>29.0</td>\n",
       "      <td>7.25</td>\n",
       "      <td>4</td>\n",
       "      <td>100</td>\n",
       "      <td>1</td>\n",
       "      <td>3</td>\n",
       "      <td>2</td>\n",
       "      <td>0.440759</td>\n",
       "      <td>0.364611</td>\n",
       "      <td>0.331464</td>\n",
       "      <td>-1.220149</td>\n",
       "      <td>0.795746</td>\n",
       "      <td>0.712432</td>\n",
       "    </tr>\n",
       "  </tbody>\n",
       "</table>\n",
       "</div>"
      ],
      "text/plain": [
       "        Date  PlayerID  MonitoringScore  Fatigue  Soreness  Desire  \\\n",
       "0 2018-07-21         1               13        3         3       2   \n",
       "1 2018-07-21         2               19        4         3       4   \n",
       "2 2018-07-21         3               19        3         3       5   \n",
       "3 2018-07-21         4               15        2         3       5   \n",
       "4 2018-07-21         5               20        5         3       4   \n",
       "\n",
       "   Irritability  SleepScore  SleepHours  SleepQuality  TrainingReadiness  \\\n",
       "0             3        16.0        8.00             2                  0   \n",
       "1             4        32.0        8.00             4                  0   \n",
       "2             4        32.0        8.00             4                100   \n",
       "3             4         6.5        6.50             1                 95   \n",
       "4             4        29.0        7.25             4                100   \n",
       "\n",
       "   Pain  Illness  Nutrition  StandardizedMonitoringScore  StandardizedPain  \\\n",
       "0     1        3          3                    -1.450204          0.364611   \n",
       "1     0        3          3                     0.170622         -2.742646   \n",
       "2     1        3          3                     0.170622          0.364611   \n",
       "3     1        3          3                    -0.909929          0.364611   \n",
       "4     1        3          2                     0.440759          0.364611   \n",
       "\n",
       "   StandardizedIllness  StandardizedNutrition  StandardizedTrainingReadiness  \\\n",
       "0             0.331464               0.722090                      -1.826823   \n",
       "1             0.331464               0.722090                      -1.826823   \n",
       "2             0.331464               0.722090                       0.795746   \n",
       "3             0.331464               0.722090                       0.664618   \n",
       "4             0.331464              -1.220149                       0.795746   \n",
       "\n",
       "   wellness  \n",
       "0 -1.858861  \n",
       "1 -3.345293  \n",
       "2  2.384534  \n",
       "3  1.172854  \n",
       "4  0.712432  "
      ]
     },
     "execution_count": 15,
     "metadata": {},
     "output_type": "execute_result"
    }
   ],
   "source": [
    "wellness_df = pd.read_csv('./processed_data/processed_wellness.csv')\n",
    "wellness_df = wellness_df.drop(columns=['Unnamed: 0'])\n",
    "wellness_df['Date'] = pd.to_datetime(wellness_df['Date'])\n",
    "wellness_df.head()"
   ]
  },
  {
   "cell_type": "markdown",
   "metadata": {},
   "source": [
    "Impute wellness data for missing dates (if we merge without doing this there are 12 instances of performance data that have no wellness data):"
   ]
  },
  {
   "cell_type": "code",
   "execution_count": 16,
   "metadata": {},
   "outputs": [
    {
     "data": {
      "text/plain": [
       "(779, 20)"
      ]
     },
     "execution_count": 16,
     "metadata": {},
     "output_type": "execute_result"
    }
   ],
   "source": [
    "wellness_dates = pd.date_range(start=min(train_performance['Date']), end=max(train_performance['Date']))\n",
    "wellness_players = wellness_df['PlayerID'].unique()\n",
    "wellness_idx = pd.MultiIndex.from_product((wellness_dates, wellness_players), names=['Date', 'PlayerID'])\n",
    "\n",
    "wellness_df = wellness_df.set_index(['Date', 'PlayerID']).reindex(wellness_idx).reset_index().sort_values(by=['Date', 'PlayerID'])\n",
    "\n",
    "wellness_df[wellness_df['MonitoringScore'].isnull()].shape"
   ]
  },
  {
   "cell_type": "code",
   "execution_count": 17,
   "metadata": {},
   "outputs": [
    {
     "name": "stdout",
     "output_type": "stream",
     "text": [
      "3978\n"
     ]
    }
   ],
   "source": [
    "print(len(wellness_df))"
   ]
  },
  {
   "cell_type": "markdown",
   "metadata": {},
   "source": [
    "We see that there are 779 observations where we need to forward fill to impute the wellness data. This is out of 3978 observations after we reindex the data which is 20% of the observations."
   ]
  },
  {
   "cell_type": "code",
   "execution_count": 18,
   "metadata": {},
   "outputs": [],
   "source": [
    "wellness_df = wellness_df.fillna(method='ffill')"
   ]
  },
  {
   "cell_type": "code",
   "execution_count": 19,
   "metadata": {},
   "outputs": [
    {
     "name": "stdout",
     "output_type": "stream",
     "text": [
      "443\n"
     ]
    },
    {
     "data": {
      "text/html": [
       "<div>\n",
       "<style scoped>\n",
       "    .dataframe tbody tr th:only-of-type {\n",
       "        vertical-align: middle;\n",
       "    }\n",
       "\n",
       "    .dataframe tbody tr th {\n",
       "        vertical-align: top;\n",
       "    }\n",
       "\n",
       "    .dataframe thead th {\n",
       "        text-align: right;\n",
       "    }\n",
       "</style>\n",
       "<table border=\"1\" class=\"dataframe\">\n",
       "  <thead>\n",
       "    <tr style=\"text-align: right;\">\n",
       "      <th></th>\n",
       "      <th>Date</th>\n",
       "      <th>GameID</th>\n",
       "      <th>Outcome</th>\n",
       "      <th>TeamPoints</th>\n",
       "      <th>PlayerID</th>\n",
       "      <th>MaxSpeedInGame</th>\n",
       "      <th>MaxAccelImpulseInGame</th>\n",
       "      <th>AcuteLoad</th>\n",
       "      <th>ChronicLoad</th>\n",
       "      <th>AcuteChronicRatio</th>\n",
       "      <th>...</th>\n",
       "      <th>TrainingReadiness</th>\n",
       "      <th>Pain</th>\n",
       "      <th>Illness</th>\n",
       "      <th>Nutrition</th>\n",
       "      <th>StandardizedMonitoringScore</th>\n",
       "      <th>StandardizedPain</th>\n",
       "      <th>StandardizedIllness</th>\n",
       "      <th>StandardizedNutrition</th>\n",
       "      <th>StandardizedTrainingReadiness</th>\n",
       "      <th>wellness</th>\n",
       "    </tr>\n",
       "  </thead>\n",
       "  <tbody>\n",
       "    <tr>\n",
       "      <th>0</th>\n",
       "      <td>2017-11-30</td>\n",
       "      <td>1</td>\n",
       "      <td>W</td>\n",
       "      <td>19</td>\n",
       "      <td>2</td>\n",
       "      <td>7.284728</td>\n",
       "      <td>4.423615</td>\n",
       "      <td>206.57</td>\n",
       "      <td>371.20</td>\n",
       "      <td>0.56</td>\n",
       "      <td>...</td>\n",
       "      <td>0.0</td>\n",
       "      <td>1.0</td>\n",
       "      <td>3.0</td>\n",
       "      <td>2.0</td>\n",
       "      <td>0.981035</td>\n",
       "      <td>0.364611</td>\n",
       "      <td>0.331464</td>\n",
       "      <td>-1.220149</td>\n",
       "      <td>-1.826823</td>\n",
       "      <td>-1.369861</td>\n",
       "    </tr>\n",
       "    <tr>\n",
       "      <th>1</th>\n",
       "      <td>2017-11-30</td>\n",
       "      <td>1</td>\n",
       "      <td>W</td>\n",
       "      <td>19</td>\n",
       "      <td>3</td>\n",
       "      <td>6.852436</td>\n",
       "      <td>4.888893</td>\n",
       "      <td>407.86</td>\n",
       "      <td>454.67</td>\n",
       "      <td>0.90</td>\n",
       "      <td>...</td>\n",
       "      <td>100.0</td>\n",
       "      <td>1.0</td>\n",
       "      <td>3.0</td>\n",
       "      <td>3.0</td>\n",
       "      <td>1.251172</td>\n",
       "      <td>0.364611</td>\n",
       "      <td>0.331464</td>\n",
       "      <td>0.722090</td>\n",
       "      <td>0.795746</td>\n",
       "      <td>3.465084</td>\n",
       "    </tr>\n",
       "    <tr>\n",
       "      <th>2</th>\n",
       "      <td>2017-11-30</td>\n",
       "      <td>1</td>\n",
       "      <td>W</td>\n",
       "      <td>19</td>\n",
       "      <td>4</td>\n",
       "      <td>7.267784</td>\n",
       "      <td>5.694449</td>\n",
       "      <td>236.00</td>\n",
       "      <td>406.90</td>\n",
       "      <td>0.58</td>\n",
       "      <td>...</td>\n",
       "      <td>100.0</td>\n",
       "      <td>1.0</td>\n",
       "      <td>3.0</td>\n",
       "      <td>3.0</td>\n",
       "      <td>0.710897</td>\n",
       "      <td>0.364611</td>\n",
       "      <td>0.331464</td>\n",
       "      <td>0.722090</td>\n",
       "      <td>0.795746</td>\n",
       "      <td>2.924809</td>\n",
       "    </tr>\n",
       "    <tr>\n",
       "      <th>3</th>\n",
       "      <td>2017-11-30</td>\n",
       "      <td>1</td>\n",
       "      <td>W</td>\n",
       "      <td>19</td>\n",
       "      <td>6</td>\n",
       "      <td>6.338894</td>\n",
       "      <td>4.777782</td>\n",
       "      <td>297.29</td>\n",
       "      <td>415.87</td>\n",
       "      <td>0.71</td>\n",
       "      <td>...</td>\n",
       "      <td>90.0</td>\n",
       "      <td>1.0</td>\n",
       "      <td>3.0</td>\n",
       "      <td>3.0</td>\n",
       "      <td>0.440759</td>\n",
       "      <td>0.364611</td>\n",
       "      <td>0.331464</td>\n",
       "      <td>0.722090</td>\n",
       "      <td>0.533489</td>\n",
       "      <td>2.392414</td>\n",
       "    </tr>\n",
       "    <tr>\n",
       "      <th>4</th>\n",
       "      <td>2017-11-30</td>\n",
       "      <td>1</td>\n",
       "      <td>W</td>\n",
       "      <td>19</td>\n",
       "      <td>7</td>\n",
       "      <td>7.065283</td>\n",
       "      <td>4.091273</td>\n",
       "      <td>237.57</td>\n",
       "      <td>476.60</td>\n",
       "      <td>0.50</td>\n",
       "      <td>...</td>\n",
       "      <td>95.0</td>\n",
       "      <td>1.0</td>\n",
       "      <td>3.0</td>\n",
       "      <td>3.0</td>\n",
       "      <td>1.251172</td>\n",
       "      <td>0.364611</td>\n",
       "      <td>0.331464</td>\n",
       "      <td>0.722090</td>\n",
       "      <td>0.664618</td>\n",
       "      <td>3.333956</td>\n",
       "    </tr>\n",
       "  </tbody>\n",
       "</table>\n",
       "<p>5 rows × 28 columns</p>\n",
       "</div>"
      ],
      "text/plain": [
       "        Date  GameID Outcome  TeamPoints  PlayerID  MaxSpeedInGame  \\\n",
       "0 2017-11-30       1       W          19         2        7.284728   \n",
       "1 2017-11-30       1       W          19         3        6.852436   \n",
       "2 2017-11-30       1       W          19         4        7.267784   \n",
       "3 2017-11-30       1       W          19         6        6.338894   \n",
       "4 2017-11-30       1       W          19         7        7.065283   \n",
       "\n",
       "   MaxAccelImpulseInGame  AcuteLoad  ChronicLoad  AcuteChronicRatio  ...  \\\n",
       "0               4.423615     206.57       371.20               0.56  ...   \n",
       "1               4.888893     407.86       454.67               0.90  ...   \n",
       "2               5.694449     236.00       406.90               0.58  ...   \n",
       "3               4.777782     297.29       415.87               0.71  ...   \n",
       "4               4.091273     237.57       476.60               0.50  ...   \n",
       "\n",
       "   TrainingReadiness  Pain  Illness  Nutrition  StandardizedMonitoringScore  \\\n",
       "0                0.0   1.0      3.0        2.0                     0.981035   \n",
       "1              100.0   1.0      3.0        3.0                     1.251172   \n",
       "2              100.0   1.0      3.0        3.0                     0.710897   \n",
       "3               90.0   1.0      3.0        3.0                     0.440759   \n",
       "4               95.0   1.0      3.0        3.0                     1.251172   \n",
       "\n",
       "   StandardizedPain  StandardizedIllness  StandardizedNutrition  \\\n",
       "0          0.364611             0.331464              -1.220149   \n",
       "1          0.364611             0.331464               0.722090   \n",
       "2          0.364611             0.331464               0.722090   \n",
       "3          0.364611             0.331464               0.722090   \n",
       "4          0.364611             0.331464               0.722090   \n",
       "\n",
       "   StandardizedTrainingReadiness  wellness  \n",
       "0                      -1.826823 -1.369861  \n",
       "1                       0.795746  3.465084  \n",
       "2                       0.795746  2.924809  \n",
       "3                       0.533489  2.392414  \n",
       "4                       0.664618  3.333956  \n",
       "\n",
       "[5 rows x 28 columns]"
      ]
     },
     "execution_count": 19,
     "metadata": {},
     "output_type": "execute_result"
    }
   ],
   "source": [
    "merged_df = train_performance.merge(wellness_df,\n",
    "    how='left', on= ['Date','PlayerID']).drop_duplicates()\n",
    "print(len(merged_df))\n",
    "merged_df.head()"
   ]
  },
  {
   "cell_type": "code",
   "execution_count": 20,
   "metadata": {},
   "outputs": [
    {
     "name": "stdout",
     "output_type": "stream",
     "text": [
      "Empty DataFrame\n",
      "Columns: [Date, GameID, Outcome, TeamPoints, PlayerID, MaxSpeedInGame, MaxAccelImpulseInGame, AcuteLoad, ChronicLoad, AcuteChronicRatio, MonitoringScore, Fatigue, Soreness, Desire, Irritability, SleepScore, SleepHours, SleepQuality, TrainingReadiness, Pain, Illness, Nutrition, StandardizedMonitoringScore, StandardizedPain, StandardizedIllness, StandardizedNutrition, StandardizedTrainingReadiness, wellness]\n",
      "Index: []\n",
      "\n",
      "[0 rows x 28 columns]\n"
     ]
    }
   ],
   "source": [
    "print(merged_df[merged_df['MonitoringScore'].isnull()])"
   ]
  },
  {
   "cell_type": "markdown",
   "metadata": {},
   "source": [
    "## Explore Performance Data"
   ]
  },
  {
   "cell_type": "markdown",
   "metadata": {},
   "source": [
    "Before modeling performance data, we need to make sure there are no outliers in the data. The performance data is computed from data gathered by sensors so any issue with sensors will present itself as outliers in our data."
   ]
  },
  {
   "cell_type": "code",
   "execution_count": 21,
   "metadata": {},
   "outputs": [
    {
     "data": {
      "text/plain": [
       "<matplotlib.axes._subplots.AxesSubplot at 0x1a1b7f70f0>"
      ]
     },
     "execution_count": 21,
     "metadata": {},
     "output_type": "execute_result"
    },
    {
     "data": {
      "image/png": "[encoded data removed]",
      "text/plain": [
       "<Figure size 432x288 with 1 Axes>"
      ]
     },
     "metadata": {
      "needs_background": "light"
     },
     "output_type": "display_data"
    }
   ],
   "source": [
    "merged_df['MaxSpeedInGame'].hist()"
   ]
  },
  {
   "cell_type": "code",
   "execution_count": 22,
   "metadata": {},
   "outputs": [],
   "source": [
    "merged_df.to_csv('./processed_data/merged_df.csv')"
   ]
  },
  {
   "cell_type": "code",
   "execution_count": 23,
   "metadata": {},
   "outputs": [],
   "source": [
    "merged_df = merged_df[(merged_df['MaxSpeedInGame'] >= 5) & (merged_df['MaxSpeedInGame'] <= 9)]"
   ]
  },
  {
   "cell_type": "code",
   "execution_count": 24,
   "metadata": {},
   "outputs": [
    {
     "data": {
      "text/plain": [
       "<matplotlib.axes._subplots.AxesSubplot at 0x1a1ccca5f8>"
      ]
     },
     "execution_count": 24,
     "metadata": {},
     "output_type": "execute_result"
    },
    {
     "data": {
      "image/png": "[encoded data removed]",
      "text/plain": [
       "<Figure size 432x288 with 1 Axes>"
      ]
     },
     "metadata": {
      "needs_background": "light"
     },
     "output_type": "display_data"
    }
   ],
   "source": [
    "merged_df['MaxSpeedInGame'].hist()"
   ]
  },
  {
   "cell_type": "markdown",
   "metadata": {},
   "source": [
    "## Correlations Between Predictors and Response"
   ]
  },
  {
   "cell_type": "markdown",
   "metadata": {},
   "source": [
    "Based on our previous analysis, we think that `AcuteChronicRatio`, `MonitoringScore`, `Pain`, `Illness`, `Nutrition` will be predictors for `MaxSpeedInGame` which is our measure for performance. We also have an overall score for wellness called `wellness` which is the combination of all predictors other than `AcuteChronicRatio`."
   ]
  },
  {
   "cell_type": "code",
   "execution_count": 25,
   "metadata": {},
   "outputs": [],
   "source": [
    "def scatter_plot(df, x, y, title=None):\n",
    "    df.plot.scatter(x, y)\n",
    "    if title:\n",
    "        plt.title(title)\n",
    "    plt.show()"
   ]
  },
  {
   "cell_type": "code",
   "execution_count": 26,
   "metadata": {},
   "outputs": [
    {
     "data": {
      "image/png": "[encoded data removed]",
      "text/plain": [
       "<Figure size 432x288 with 1 Axes>"
      ]
     },
     "metadata": {
      "needs_background": "light"
     },
     "output_type": "display_data"
    }
   ],
   "source": [
    "scatter_plot(merged_df, 'AcuteChronicRatio', 'MaxSpeedInGame', 'Performance vs Acute Chronic Load Ratio')\n"
   ]
  },
  {
   "cell_type": "markdown",
   "metadata": {},
   "source": [
    "It does not look like there is any clear pattern between load and performance."
   ]
  },
  {
   "cell_type": "code",
   "execution_count": 27,
   "metadata": {},
   "outputs": [
    {
     "data": {
      "image/png": "[encoded data removed]",
      "text/plain": [
       "<Figure size 432x288 with 1 Axes>"
      ]
     },
     "metadata": {
      "needs_background": "light"
     },
     "output_type": "display_data"
    }
   ],
   "source": [
    "scatter_plot(merged_df, 'wellness', 'MaxSpeedInGame', 'Performance vs Wellness')\n"
   ]
  },
  {
   "cell_type": "code",
   "execution_count": 28,
   "metadata": {},
   "outputs": [
    {
     "data": {
      "text/plain": [
       "-0.19368274836264404"
      ]
     },
     "execution_count": 28,
     "metadata": {},
     "output_type": "execute_result"
    }
   ],
   "source": [
    "merged_df['wellness'].corr(merged_df['MaxSpeedInGame'])"
   ]
  },
  {
   "cell_type": "code",
   "execution_count": 29,
   "metadata": {},
   "outputs": [
    {
     "data": {
      "text/html": [
       "<div>\n",
       "<style scoped>\n",
       "    .dataframe tbody tr th:only-of-type {\n",
       "        vertical-align: middle;\n",
       "    }\n",
       "\n",
       "    .dataframe tbody tr th {\n",
       "        vertical-align: top;\n",
       "    }\n",
       "\n",
       "    .dataframe thead th {\n",
       "        text-align: right;\n",
       "    }\n",
       "</style>\n",
       "<table border=\"1\" class=\"dataframe\">\n",
       "  <thead>\n",
       "    <tr style=\"text-align: right;\">\n",
       "      <th></th>\n",
       "      <th>wellness</th>\n",
       "      <th>MaxSpeedInGame</th>\n",
       "    </tr>\n",
       "    <tr>\n",
       "      <th>PlayerID</th>\n",
       "      <th></th>\n",
       "      <th></th>\n",
       "    </tr>\n",
       "  </thead>\n",
       "  <tbody>\n",
       "    <tr>\n",
       "      <th>1</th>\n",
       "      <td>-0.714285</td>\n",
       "      <td>7.683961</td>\n",
       "    </tr>\n",
       "    <tr>\n",
       "      <th>2</th>\n",
       "      <td>-2.491324</td>\n",
       "      <td>6.902797</td>\n",
       "    </tr>\n",
       "    <tr>\n",
       "      <th>3</th>\n",
       "      <td>2.722862</td>\n",
       "      <td>7.230131</td>\n",
       "    </tr>\n",
       "    <tr>\n",
       "      <th>4</th>\n",
       "      <td>1.706906</td>\n",
       "      <td>6.799333</td>\n",
       "    </tr>\n",
       "    <tr>\n",
       "      <th>5</th>\n",
       "      <td>-0.074293</td>\n",
       "      <td>7.721914</td>\n",
       "    </tr>\n",
       "    <tr>\n",
       "      <th>6</th>\n",
       "      <td>1.667970</td>\n",
       "      <td>6.511335</td>\n",
       "    </tr>\n",
       "    <tr>\n",
       "      <th>7</th>\n",
       "      <td>1.219980</td>\n",
       "      <td>7.383135</td>\n",
       "    </tr>\n",
       "    <tr>\n",
       "      <th>8</th>\n",
       "      <td>1.461009</td>\n",
       "      <td>7.159093</td>\n",
       "    </tr>\n",
       "    <tr>\n",
       "      <th>9</th>\n",
       "      <td>0.103829</td>\n",
       "      <td>6.931128</td>\n",
       "    </tr>\n",
       "    <tr>\n",
       "      <th>10</th>\n",
       "      <td>-2.140389</td>\n",
       "      <td>7.614805</td>\n",
       "    </tr>\n",
       "    <tr>\n",
       "      <th>11</th>\n",
       "      <td>1.232095</td>\n",
       "      <td>6.920157</td>\n",
       "    </tr>\n",
       "    <tr>\n",
       "      <th>12</th>\n",
       "      <td>0.041685</td>\n",
       "      <td>6.271713</td>\n",
       "    </tr>\n",
       "    <tr>\n",
       "      <th>13</th>\n",
       "      <td>2.548038</td>\n",
       "      <td>6.737886</td>\n",
       "    </tr>\n",
       "    <tr>\n",
       "      <th>14</th>\n",
       "      <td>2.727704</td>\n",
       "      <td>6.627116</td>\n",
       "    </tr>\n",
       "    <tr>\n",
       "      <th>15</th>\n",
       "      <td>3.538671</td>\n",
       "      <td>6.434150</td>\n",
       "    </tr>\n",
       "    <tr>\n",
       "      <th>16</th>\n",
       "      <td>1.215856</td>\n",
       "      <td>6.466877</td>\n",
       "    </tr>\n",
       "    <tr>\n",
       "      <th>17</th>\n",
       "      <td>-0.126823</td>\n",
       "      <td>6.250989</td>\n",
       "    </tr>\n",
       "  </tbody>\n",
       "</table>\n",
       "</div>"
      ],
      "text/plain": [
       "          wellness  MaxSpeedInGame\n",
       "PlayerID                          \n",
       "1        -0.714285        7.683961\n",
       "2        -2.491324        6.902797\n",
       "3         2.722862        7.230131\n",
       "4         1.706906        6.799333\n",
       "5        -0.074293        7.721914\n",
       "6         1.667970        6.511335\n",
       "7         1.219980        7.383135\n",
       "8         1.461009        7.159093\n",
       "9         0.103829        6.931128\n",
       "10       -2.140389        7.614805\n",
       "11        1.232095        6.920157\n",
       "12        0.041685        6.271713\n",
       "13        2.548038        6.737886\n",
       "14        2.727704        6.627116\n",
       "15        3.538671        6.434150\n",
       "16        1.215856        6.466877\n",
       "17       -0.126823        6.250989"
      ]
     },
     "execution_count": 29,
     "metadata": {},
     "output_type": "execute_result"
    }
   ],
   "source": [
    "grouped_merged_df = merged_df[['wellness', 'MaxSpeedInGame', 'PlayerID']].groupby('PlayerID').mean()\n",
    "grouped_merged_df"
   ]
  },
  {
   "cell_type": "code",
   "execution_count": 30,
   "metadata": {},
   "outputs": [
    {
     "data": {
      "image/png": "[encoded data removed]",
      "text/plain": [
       "<Figure size 432x288 with 1 Axes>"
      ]
     },
     "metadata": {
      "needs_background": "light"
     },
     "output_type": "display_data"
    }
   ],
   "source": [
    "scatter_plot(grouped_merged_df, 'wellness', 'MaxSpeedInGame')"
   ]
  },
  {
   "cell_type": "code",
   "execution_count": 31,
   "metadata": {},
   "outputs": [
    {
     "data": {
      "image/png": "[encoded data removed]",
      "text/plain": [
       "<Figure size 432x288 with 1 Axes>"
      ]
     },
     "metadata": {
      "needs_background": "light"
     },
     "output_type": "display_data"
    }
   ],
   "source": [
    "scatter_plot(merged_df, 'MonitoringScore', 'MaxSpeedInGame', 'Monitoring Score VS Performance')\n"
   ]
  },
  {
   "cell_type": "code",
   "execution_count": 32,
   "metadata": {},
   "outputs": [
    {
     "data": {
      "text/plain": [
       "-0.1101398501612068"
      ]
     },
     "execution_count": 32,
     "metadata": {},
     "output_type": "execute_result"
    }
   ],
   "source": [
    "merged_df['MonitoringScore'].corr(merged_df['MaxSpeedInGame'])"
   ]
  },
  {
   "cell_type": "code",
   "execution_count": 33,
   "metadata": {},
   "outputs": [
    {
     "data": {
      "image/png": "[encoded data removed]",
      "text/plain": [
       "<Figure size 432x288 with 1 Axes>"
      ]
     },
     "metadata": {
      "needs_background": "light"
     },
     "output_type": "display_data"
    }
   ],
   "source": [
    "scatter_plot(merged_df, 'Pain', 'MaxSpeedInGame', 'Pain VS Performance')"
   ]
  },
  {
   "cell_type": "code",
   "execution_count": 34,
   "metadata": {},
   "outputs": [
    {
     "data": {
      "image/png": "[encoded data removed]",
      "text/plain": [
       "<Figure size 432x288 with 1 Axes>"
      ]
     },
     "metadata": {
      "needs_background": "light"
     },
     "output_type": "display_data"
    }
   ],
   "source": [
    "scatter_plot(merged_df, 'Illness', 'MaxSpeedInGame', 'Illness VS Performance')"
   ]
  },
  {
   "cell_type": "code",
   "execution_count": 35,
   "metadata": {},
   "outputs": [
    {
     "data": {
      "text/plain": [
       "Ttest_indResult(statistic=3.6342015507440735, pvalue=0.00031409377499258713)"
      ]
     },
     "execution_count": 35,
     "metadata": {},
     "output_type": "execute_result"
    }
   ],
   "source": [
    "ttest_ind(merged_df[merged_df['Illness'] == 2]['MaxSpeedInGame'], merged_df[merged_df['Illness'] == 3]['MaxSpeedInGame'])"
   ]
  },
  {
   "cell_type": "markdown",
   "metadata": {},
   "source": [
    "We get a significant results that the performance of those saying they are slightly off is better than those who are not ill."
   ]
  },
  {
   "cell_type": "code",
   "execution_count": 36,
   "metadata": {},
   "outputs": [
    {
     "data": {
      "image/png": "[encoded data removed]",
      "text/plain": [
       "<Figure size 432x288 with 1 Axes>"
      ]
     },
     "metadata": {
      "needs_background": "light"
     },
     "output_type": "display_data"
    }
   ],
   "source": [
    "scatter_plot(merged_df, 'Nutrition', 'MaxSpeedInGame', 'Nutrition VS Performance')"
   ]
  },
  {
   "cell_type": "code",
   "execution_count": 37,
   "metadata": {},
   "outputs": [
    {
     "data": {
      "image/png": "[encoded data removed]",
      "text/plain": [
       "<Figure size 432x288 with 1 Axes>"
      ]
     },
     "metadata": {
      "needs_background": "light"
     },
     "output_type": "display_data"
    }
   ],
   "source": [
    "scatter_plot(merged_df, 'AcuteChronicRatio', 'wellness', 'AcuteChronicRatio VS wellness')"
   ]
  },
  {
   "cell_type": "markdown",
   "metadata": {},
   "source": [
    "We see that there are no clear patterns when we are looking at the repeated measures data. Maybe we will get something out of using a mixed models regression."
   ]
  },
  {
   "cell_type": "markdown",
   "metadata": {},
   "source": [
    "### Regressions Of Wellness and Load on Performance"
   ]
  },
  {
   "cell_type": "code",
   "execution_count": 38,
   "metadata": {},
   "outputs": [],
   "source": [
    "import statsmodels.api as sm\n",
    "import statsmodels.formula.api as smf\n",
    "from statsmodels.tools.eval_measures import aic\n",
    "from statsmodels.graphics.gofplots import qqplot"
   ]
  },
  {
   "cell_type": "markdown",
   "metadata": {},
   "source": [
    "#### Mixel Linear Models"
   ]
  },
  {
   "cell_type": "markdown",
   "metadata": {},
   "source": [
    "We want to first model the relationship between Load and Wellness vs performance using a mixed linear model. This is because our data includes repreated measurements for each player over many games. In this case, the random effect will be the player id such that we group the measurements by player. We will be using random intercepts but not random slopes. This means we allow each player to have a random intercept, or random base level of performance, but each player should share the same slopes for each predictor. In this way, we allow the model to adjust to the base performance level of each player but we find relationships between the predicors and the response that are generalizable across the entire team."
   ]
  },
  {
   "cell_type": "code",
   "execution_count": 39,
   "metadata": {},
   "outputs": [],
   "source": [
    "merged_df['SquaredAcuteChronicRatio'] = merged_df['AcuteChronicRatio'] ** 2\n",
    "merged_df['CubedAcuteChronicRatio'] = merged_df['AcuteChronicRatio'] ** 3"
   ]
  },
  {
   "cell_type": "code",
   "execution_count": 40,
   "metadata": {},
   "outputs": [
    {
     "name": "stdout",
     "output_type": "stream",
     "text": [
      "               Mixed Linear Model Regression Results\n",
      "===================================================================\n",
      "Model:               MixedLM   Dependent Variable:   MaxSpeedInGame\n",
      "No. Observations:    415       Method:               REML          \n",
      "No. Groups:          17        Scale:                0.3796        \n",
      "Min. group size:     4         Likelihood:           -421.3586     \n",
      "Max. group size:     38        Converged:            Yes           \n",
      "Mean group size:     24.4                                          \n",
      "-------------------------------------------------------------------\n",
      "                         Coef.  Std.Err.   z    P>|z| [0.025 0.975]\n",
      "-------------------------------------------------------------------\n",
      "Intercept                 7.528    0.627 12.008 0.000  6.299  8.756\n",
      "AcuteChronicRatio        -0.356    0.393 -0.907 0.365 -1.126  0.414\n",
      "SquaredAcuteChronicRatio  0.146    0.242  0.602 0.547 -0.329  0.621\n",
      "MonitoringScore          -0.014    0.010 -1.378 0.168 -0.034  0.006\n",
      "SleepHours                0.017    0.037  0.453 0.650 -0.056  0.090\n",
      "TrainingReadiness        -0.001    0.002 -0.508 0.611 -0.006  0.003\n",
      "Pain                     -0.196    0.110 -1.777 0.076 -0.412  0.020\n",
      "Illness                  -0.145    0.139 -1.040 0.298 -0.417  0.128\n",
      "Nutrition                 0.152    0.092  1.660 0.097 -0.028  0.332\n",
      "Group Var                 0.163    0.111                           \n",
      "===================================================================\n",
      "\n"
     ]
    }
   ],
   "source": [
    "mixed_mod = smf.mixedlm(\"MaxSpeedInGame ~ AcuteChronicRatio + SquaredAcuteChronicRatio + MonitoringScore + SleepHours + TrainingReadiness + Pain + Illness + Nutrition\", merged_df, groups=merged_df['PlayerID'])\n",
    "mixed_res = mixed_mod.fit()\n",
    "print(mixed_res.summary())"
   ]
  },
  {
   "cell_type": "code",
   "execution_count": 41,
   "metadata": {},
   "outputs": [
    {
     "data": {
      "text/plain": [
       "860.7171952840849"
      ]
     },
     "execution_count": 41,
     "metadata": {},
     "output_type": "execute_result"
    }
   ],
   "source": [
    "aic1 = aic(mixed_res.llf, 415, 9)\n",
    "aic1\n"
   ]
  },
  {
   "cell_type": "markdown",
   "metadata": {},
   "source": [
    "We can use this AIC measure as a baseline for comparing this model to the models below. Given that p-values for mixed linear models aee unreliable, we will use AIC as our metric for model selection. We want to removed uninformative features such that it makes the AIC of the model lower. In doing so, we hope to find a model that gives us some insights into the relationship between a subset of these predictors and the performance of players."
   ]
  },
  {
   "cell_type": "markdown",
   "metadata": {},
   "source": [
    "We see that even though we are modeling the realationship between load and perfromance non-linearly, we see that the 95% confidence interval for the load terms contains positive and negative values including 0. Furthermore, the standard error of the estimates for the coefficients are similar in magnitude to the estimates themselves, meaning the true value could be far from the estimate given. Thus, we cannot make any conclusions about relationship between performance and load given this model. This is not what we expected but makes sense based on our data as we found no clear patterns in the relationship between load and performance in the scatter plots above. Thus, we should remove the load terms from the model and see if we can find any stronger relationships for some of the wellness predictors."
   ]
  },
  {
   "cell_type": "markdown",
   "metadata": {},
   "source": [
    "We are tempted to expand the monitoring score into the predictors that make it up, but as we say in the wellness exploratory notebook, these predictors are all correlated with eachother, so they cannot be predictors in a model."
   ]
  },
  {
   "cell_type": "markdown",
   "metadata": {},
   "source": [
    "Thus, we will remove the load values and see what the resulting model looks like."
   ]
  },
  {
   "cell_type": "code",
   "execution_count": 42,
   "metadata": {},
   "outputs": [
    {
     "name": "stdout",
     "output_type": "stream",
     "text": [
      "           Mixed Linear Model Regression Results\n",
      "============================================================\n",
      "Model:            MixedLM Dependent Variable: MaxSpeedInGame\n",
      "No. Observations: 415     Method:             REML          \n",
      "No. Groups:       17      Scale:              0.3788        \n",
      "Min. group size:  4       Likelihood:         -420.4366     \n",
      "Max. group size:  38      Converged:          Yes           \n",
      "Mean group size:  24.4                                      \n",
      "------------------------------------------------------------\n",
      "                  Coef.  Std.Err.   z    P>|z| [0.025 0.975]\n",
      "------------------------------------------------------------\n",
      "Intercept          7.309    0.598 12.213 0.000  6.136  8.482\n",
      "MonitoringScore   -0.014    0.010 -1.404 0.160 -0.034  0.006\n",
      "SleepHours         0.018    0.037  0.475 0.635 -0.056  0.091\n",
      "TrainingReadiness -0.001    0.002 -0.387 0.699 -0.005  0.004\n",
      "Pain              -0.179    0.109 -1.645 0.100 -0.393  0.034\n",
      "Illness           -0.136    0.139 -0.981 0.327 -0.408  0.136\n",
      "Nutrition          0.148    0.091  1.615 0.106 -0.031  0.326\n",
      "Group Var          0.169    0.115                           \n",
      "============================================================\n",
      "\n"
     ]
    }
   ],
   "source": [
    "mixed_mod = smf.mixedlm(\"MaxSpeedInGame ~ MonitoringScore + SleepHours + TrainingReadiness + Pain + Illness + Nutrition \", merged_df, groups=merged_df['PlayerID'])\n",
    "mixed_res = mixed_mod.fit()\n",
    "print(mixed_res.summary())\n"
   ]
  },
  {
   "cell_type": "code",
   "execution_count": 43,
   "metadata": {},
   "outputs": [
    {
     "data": {
      "text/plain": [
       "854.8731175362045"
      ]
     },
     "execution_count": 43,
     "metadata": {},
     "output_type": "execute_result"
    }
   ],
   "source": [
    "aic2 = aic(mixed_res.llf, 415, 7)\n",
    "aic2"
   ]
  },
  {
   "cell_type": "code",
   "execution_count": 44,
   "metadata": {},
   "outputs": [
    {
     "data": {
      "text/plain": [
       "0.05382383533602819"
      ]
     },
     "execution_count": 44,
     "metadata": {},
     "output_type": "execute_result"
    }
   ],
   "source": [
    "np.exp((min([aic1, aic2]) - max([aic1, aic2])) / 2)"
   ]
  },
  {
   "cell_type": "markdown",
   "metadata": {},
   "source": [
    "The AIC for this model is less than that of the first model, suggesting that this model loses less information from the process that generated the data compared to the first model, which is to say it is a better model of the data. In fact, the first model is only about `0.135` time as likely to minimize the information lost as the second model. Furthermore, it appears that sleep hours and training readiness do not have an effect on performance given their point estimates are close to 0 and their standard errors are small compared to the scale of the response. Thus we can remove these predictors from the model."
   ]
  },
  {
   "cell_type": "code",
   "execution_count": 45,
   "metadata": {},
   "outputs": [
    {
     "name": "stdout",
     "output_type": "stream",
     "text": [
      "           Mixed Linear Model Regression Results\n",
      "============================================================\n",
      "Model:            MixedLM Dependent Variable: MaxSpeedInGame\n",
      "No. Observations: 415     Method:             REML          \n",
      "No. Groups:       17      Scale:              0.3772        \n",
      "Min. group size:  4       Likelihood:         -413.0785     \n",
      "Max. group size:  38      Converged:          Yes           \n",
      "Mean group size:  24.4                                      \n",
      "------------------------------------------------------------\n",
      "                  Coef.  Std.Err.   z    P>|z| [0.025 0.975]\n",
      "------------------------------------------------------------\n",
      "Intercept          7.394    0.515 14.353 0.000  6.384  8.403\n",
      "MonitoringScore   -0.013    0.009 -1.419 0.156 -0.032  0.005\n",
      "Pain              -0.178    0.107 -1.663 0.096 -0.388  0.032\n",
      "Illness           -0.143    0.138 -1.035 0.301 -0.413  0.128\n",
      "Nutrition          0.145    0.091  1.592 0.111 -0.033  0.323\n",
      "Group Var          0.169    0.113                           \n",
      "============================================================\n",
      "\n"
     ]
    }
   ],
   "source": [
    "mixed_mod = smf.mixedlm(\"MaxSpeedInGame ~ MonitoringScore + Pain + Illness + Nutrition \", merged_df, groups=merged_df['PlayerID'])\n",
    "mixed_res = mixed_mod.fit()\n",
    "print(mixed_res.summary())"
   ]
  },
  {
   "cell_type": "code",
   "execution_count": 46,
   "metadata": {},
   "outputs": [
    {
     "data": {
      "text/plain": [
       "836.1570952840652"
      ]
     },
     "execution_count": 46,
     "metadata": {},
     "output_type": "execute_result"
    }
   ],
   "source": [
    "aic3 = aic(mixed_res.llf, 415, 5)\n",
    "aic3\n"
   ]
  },
  {
   "cell_type": "code",
   "execution_count": 47,
   "metadata": {},
   "outputs": [
    {
     "data": {
      "text/plain": [
       "8.627151136064475e-05"
      ]
     },
     "execution_count": 47,
     "metadata": {},
     "output_type": "execute_result"
    }
   ],
   "source": [
    "np.exp((aic3 - aic2) / 2)"
   ]
  },
  {
   "cell_type": "markdown",
   "metadata": {},
   "source": [
    "We see that after removing, sleep hours and training readiness, we get another model with an even lower AIC. Compared to this new model, the second model is only about `0.135` times as likely to lose less information. Looking at the coefficient estimate for the monitoring score, we see that its point estimate is close to 0 and it's standard error is small, which means it is likely to be 0 or that the effect size of the relationship to perforamnce is very small. Thus, we could remove monitoring score from the model."
   ]
  },
  {
   "cell_type": "code",
   "execution_count": 48,
   "metadata": {},
   "outputs": [
    {
     "name": "stdout",
     "output_type": "stream",
     "text": [
      "           Mixed Linear Model Regression Results\n",
      "============================================================\n",
      "Model:            MixedLM Dependent Variable: MaxSpeedInGame\n",
      "No. Observations: 415     Method:             REML          \n",
      "No. Groups:       17      Scale:              0.3780        \n",
      "Min. group size:  4       Likelihood:         -410.3327     \n",
      "Max. group size:  38      Converged:          Yes           \n",
      "Mean group size:  24.4                                      \n",
      "------------------------------------------------------------\n",
      "                  Coef.  Std.Err.   z    P>|z| [0.025 0.975]\n",
      "------------------------------------------------------------\n",
      "Intercept          7.143    0.485 14.736 0.000  6.193  8.093\n",
      "C(Pain)[T.1.0]    -0.203    0.106 -1.920 0.055 -0.410  0.004\n",
      "Illness           -0.135    0.138 -0.978 0.328 -0.406  0.136\n",
      "Nutrition          0.141    0.091  1.551 0.121 -0.037  0.320\n",
      "Group Var          0.172    0.115                           \n",
      "============================================================\n",
      "\n"
     ]
    }
   ],
   "source": [
    "mixed_mod = smf.mixedlm(\"MaxSpeedInGame ~ C(Pain) + Illness + Nutrition\", merged_df, groups=merged_df['PlayerID'])\n",
    "mixed_res = mixed_mod.fit()\n",
    "print(mixed_res.summary())"
   ]
  },
  {
   "cell_type": "code",
   "execution_count": 49,
   "metadata": {},
   "outputs": [
    {
     "data": {
      "text/plain": [
       "828.6654056240745"
      ]
     },
     "execution_count": 49,
     "metadata": {},
     "output_type": "execute_result"
    }
   ],
   "source": [
    "aic4 = aic(mixed_res.llf, 415, 4)\n",
    "aic4"
   ]
  },
  {
   "cell_type": "code",
   "execution_count": 50,
   "metadata": {},
   "outputs": [
    {
     "data": {
      "text/plain": [
       "0.023615669391745208"
      ]
     },
     "execution_count": 50,
     "metadata": {},
     "output_type": "execute_result"
    }
   ],
   "source": [
    "np.exp((aic4 - aic3) / 2)"
   ]
  },
  {
   "cell_type": "markdown",
   "metadata": {},
   "source": [
    "We see that after removing the monitoring score, our model's AIC drops slightly. In fact, the previous model with the monitoring score is `0.368` times as likly to to minimize the information loss compared to this model. Thus, we can conlude this new model is the best fit to the data we have trained so far."
   ]
  },
  {
   "cell_type": "markdown",
   "metadata": {},
   "source": [
    "The point estimate for illness is about the same magnitude as the standard error so we cannot make any conclusions about its effect. It is entirely possible that this coefficient is actually 0 instead of negative. Thus, we could improve the model by removing it."
   ]
  },
  {
   "cell_type": "code",
   "execution_count": 51,
   "metadata": {},
   "outputs": [
    {
     "name": "stdout",
     "output_type": "stream",
     "text": [
      "           Mixed Linear Model Regression Results\n",
      "============================================================\n",
      "Model:            MixedLM Dependent Variable: MaxSpeedInGame\n",
      "No. Observations: 415     Method:             REML          \n",
      "No. Groups:       17      Scale:              0.3773        \n",
      "Min. group size:  4       Likelihood:         -409.7422     \n",
      "Max. group size:  38      Converged:          Yes           \n",
      "Mean group size:  24.4                                      \n",
      "------------------------------------------------------------\n",
      "                  Coef.  Std.Err.   z    P>|z| [0.025 0.975]\n",
      "------------------------------------------------------------\n",
      "Intercept          6.749    0.271 24.933 0.000  6.219  7.280\n",
      "C(Pain)[T.1.0]    -0.205    0.106 -1.941 0.052 -0.413  0.002\n",
      "Nutrition          0.141    0.091  1.545 0.122 -0.038  0.320\n",
      "Group Var          0.180    0.119                           \n",
      "============================================================\n",
      "\n"
     ]
    }
   ],
   "source": [
    "mixed_mod = smf.mixedlm(\"MaxSpeedInGame ~ C(Pain) + Nutrition\", merged_df, groups=merged_df['PlayerID'])\n",
    "mixed_res = mixed_mod.fit()\n",
    "print(mixed_res.summary())"
   ]
  },
  {
   "cell_type": "code",
   "execution_count": 52,
   "metadata": {},
   "outputs": [
    {
     "data": {
      "text/plain": [
       "825.4844518902278"
      ]
     },
     "execution_count": 52,
     "metadata": {},
     "output_type": "execute_result"
    }
   ],
   "source": [
    "aic5 = aic(mixed_res.llf, 415, 3)\n",
    "aic5"
   ]
  },
  {
   "cell_type": "code",
   "execution_count": 53,
   "metadata": {},
   "outputs": [
    {
     "data": {
      "text/plain": [
       "0.20382838953801416"
      ]
     },
     "execution_count": 53,
     "metadata": {},
     "output_type": "execute_result"
    }
   ],
   "source": [
    "np.exp((aic5 - aic4) / 2)"
   ]
  },
  {
   "cell_type": "markdown",
   "metadata": {},
   "source": [
    "We see that removing illness from the model improves the AIC value. However, the improvement is the smallest yet as the 4th model is about `0.2` times as likely to actually minimize the information lost as the 5th model. Since the 5th model has the lowest AIC, we can say it is the best model for the data and thus, we can use it to interpret the relationship between performance and our significant measures of wellness: pain and nutrition."
   ]
  },
  {
   "cell_type": "markdown",
   "metadata": {},
   "source": [
    "It seems like this model is a good fit to the data. To verify this, we can fit another kind of model that accepted repreated measures called a generalized estimating equation (GEE) model. GEE models require that we provide the structure of the covariance between groups. We will use the Exchangeable covariance structure which assumes the measurements in a given group are correlated in the same way. In our case, that is to say the measurements for each player are correlated in the same way which makes sense. In fact, GEE with exchangeable correlation structure is annalogus to a mixed model with random intercepts, however, GEE uses a different algorithm to estimate the value of the parameters. Some research indicates that GEE is actually better than mixed models, for example, in [this paper](https://www.ncbi.nlm.nih.gov/pubmed/20220526), Hubbard et. al. aruge that: \"in general that mixed models involve unverifiable assumptions on the data-generating distribution, which lead to potentially misleading estimates and biased inference. We conclude that the estimation-equation approach of population average models provides a more useful approximation of the truth.\" Thus, if we find that the GEE model has similar coefficient estimates to the mixed model, this adds evidence that those coefficients are representative of the actual relationships in the data."
   ]
  },
  {
   "cell_type": "code",
   "execution_count": 54,
   "metadata": {},
   "outputs": [
    {
     "name": "stdout",
     "output_type": "stream",
     "text": [
      "                               GEE Regression Results                              \n",
      "===================================================================================\n",
      "Dep. Variable:              MaxSpeedInGame   No. Observations:                  415\n",
      "Model:                                 GEE   No. clusters:                       17\n",
      "Method:                        Generalized   Min. cluster size:                   4\n",
      "                      Estimating Equations   Max. cluster size:                  38\n",
      "Family:                           Gaussian   Mean cluster size:                24.4\n",
      "Dependence structure:         Exchangeable   Num. iterations:                     7\n",
      "Date:                     Mon, 09 Dec 2019   Scale:                           0.538\n",
      "Covariance type:                    robust   Time:                         17:21:15\n",
      "==================================================================================\n",
      "                     coef    std err          z      P>|z|      [0.025      0.975]\n",
      "----------------------------------------------------------------------------------\n",
      "Intercept          6.7511      0.253     26.728      0.000       6.256       7.246\n",
      "C(Pain)[T.1.0]    -0.2156      0.110     -1.967      0.049      -0.430      -0.001\n",
      "Nutrition          0.1453      0.092      1.575      0.115      -0.036       0.326\n",
      "==============================================================================\n",
      "Skew:                         -0.2178   Kurtosis:                      -0.4404\n",
      "Centered skew:                -0.3475   Centered kurtosis:             -0.2115\n",
      "==============================================================================\n"
     ]
    }
   ],
   "source": [
    "fam = sm.families.Gaussian()\n",
    "ind = sm.cov_struct.Exchangeable()\n",
    "mod = smf.gee(\"MaxSpeedInGame ~ C(Pain) + Nutrition\", \"PlayerID\", merged_df, cov_struct=ind, family=fam)\n",
    "res = mod.fit()\n",
    "print(res.summary())"
   ]
  },
  {
   "cell_type": "markdown",
   "metadata": {},
   "source": [
    "We see that the coefficients of the GEE model are in fact similar to those of the mixed model."
   ]
  },
  {
   "cell_type": "markdown",
   "metadata": {},
   "source": [
    "#### Test Model Fit"
   ]
  },
  {
   "cell_type": "markdown",
   "metadata": {},
   "source": [
    "Before interpreting the coefficients, we should check our assumption that the model is a good fit to the data. We can do this by first doing a QQ plot to ensure that the residuals of the model are uniformly distributed."
   ]
  },
  {
   "cell_type": "markdown",
   "metadata": {},
   "source": [
    "##### Mixed Model"
   ]
  },
  {
   "cell_type": "code",
   "execution_count": 55,
   "metadata": {},
   "outputs": [
    {
     "data": {
      "image/png": "[encoded data removed]",
      "text/plain": [
       "<Figure size 432x288 with 1 Axes>"
      ]
     },
     "metadata": {
      "needs_background": "light"
     },
     "output_type": "display_data"
    }
   ],
   "source": [
    "qqplot(mixed_res.resid, line='s')\n",
    "plt.title('QQ Plot for Mixed Model')\n",
    "plt.show()"
   ]
  },
  {
   "cell_type": "markdown",
   "metadata": {},
   "source": [
    "##### GEE Model"
   ]
  },
  {
   "cell_type": "code",
   "execution_count": 56,
   "metadata": {},
   "outputs": [
    {
     "data": {
      "image/png": "[encoded data removed]",
      "text/plain": [
       "<Figure size 432x288 with 1 Axes>"
      ]
     },
     "metadata": {
      "needs_background": "light"
     },
     "output_type": "display_data"
    }
   ],
   "source": [
    "qqplot(res.resid, line='s')\n",
    "plt.title('QQ Plot for GEE Model')\n",
    "plt.show()"
   ]
  },
  {
   "cell_type": "markdown",
   "metadata": {},
   "source": [
    "We see that, for the most part, the QQ plot is a straight line which means the residuals are normally distributed. For both models, there is a slight deviations from the line for large positive residuals, wherein the GEE model is closer to normally distributed than the mixed model. However, this deviation is minute and both models have similar coefficients so we conlcude that they are both good fits to the data and we can interpret the coefficients of either model to infer the relationship between the predictors and the response."
   ]
  },
  {
   "cell_type": "markdown",
   "metadata": {},
   "source": [
    "We can also plot the residuals versus the predictors to ensure that there are no patterns in the residuals with respect to any of the predictors."
   ]
  },
  {
   "cell_type": "markdown",
   "metadata": {},
   "source": [
    "#### Coefficient Interpretation"
   ]
  },
  {
   "cell_type": "markdown",
   "metadata": {},
   "source": [
    "Before interpreting the coefficients, we should review the variance of performance data so we can contextualize the effect sizes of the relationships between the effects and the responses."
   ]
  },
  {
   "cell_type": "code",
   "execution_count": 57,
   "metadata": {},
   "outputs": [
    {
     "data": {
      "text/plain": [
       "0.7460984551489096"
      ]
     },
     "execution_count": 57,
     "metadata": {},
     "output_type": "execute_result"
    }
   ],
   "source": [
    "merged_df['MaxSpeedInGame'].std()"
   ]
  },
  {
   "cell_type": "markdown",
   "metadata": {},
   "source": [
    "We see that the standard deviation of the performance metric is about `0.75`."
   ]
  },
  {
   "cell_type": "markdown",
   "metadata": {},
   "source": [
    "Looking at the coefficients of our model above, we see moderatly strong evidence that Pain has a negative relationship to performance. The standard error of this estimate is about half of the point estimate itself. Recalling how we coded pain, this is interesting because pain equal to 1 refers to not being in pain. Thus, better wellness with respect to pain is leading to worse performance."
   ]
  },
  {
   "cell_type": "markdown",
   "metadata": {},
   "source": [
    "For example, from: https://healthsci.mcmaster.ca/docs/librariesprovider8/research/methodology/study-design-and-methodological-issues/statistical-analysis-of-correlated-data-using-generalized-estimating-equations--an-orientation.pdf?sfvrsn=4b1c0d3b_4 , GEE uses a quasi-liklihood approach and uses weighted combinations of observations to extract theappropriate amount of information from correlated data. If we get similar conclusions from this alternative measure of analysing correlated data, it will add more support to our conclusions."
   ]
  },
  {
   "cell_type": "code",
   "execution_count": 58,
   "metadata": {},
   "outputs": [
    {
     "name": "stdout",
     "output_type": "stream",
     "text": [
      "                               GEE Regression Results                              \n",
      "===================================================================================\n",
      "Dep. Variable:              MaxSpeedInGame   No. Observations:                  415\n",
      "Model:                                 GEE   No. clusters:                       17\n",
      "Method:                        Generalized   Min. cluster size:                   4\n",
      "                      Estimating Equations   Max. cluster size:                  38\n",
      "Family:                           Gaussian   Mean cluster size:                24.4\n",
      "Dependence structure:         Exchangeable   Num. iterations:                     8\n",
      "Date:                     Mon, 09 Dec 2019   Scale:                           0.531\n",
      "Covariance type:                    robust   Time:                         17:21:15\n",
      "==============================================================================\n",
      "                 coef    std err          z      P>|z|      [0.025      0.975]\n",
      "------------------------------------------------------------------------------\n",
      "Intercept      7.1829      0.491     14.632      0.000       6.221       8.145\n",
      "Pain          -0.2126      0.109     -1.955      0.051      -0.426       0.001\n",
      "Illness       -0.1479      0.143     -1.032      0.302      -0.429       0.133\n",
      "Nutrition      0.1455      0.092      1.583      0.113      -0.035       0.326\n",
      "==============================================================================\n",
      "Skew:                         -0.2351   Kurtosis:                      -0.4357\n",
      "Centered skew:                -0.3620   Centered kurtosis:             -0.2012\n",
      "==============================================================================\n"
     ]
    }
   ],
   "source": [
    "fam = sm.families.Gaussian()\n",
    "ind = sm.cov_struct.Exchangeable()\n",
    "mod = smf.gee(\"MaxSpeedInGame ~ Pain + Illness + Nutrition\", \"PlayerID\", merged_df, cov_struct=ind, family=fam)\n",
    "res = mod.fit()\n",
    "print(res.summary())"
   ]
  },
  {
   "cell_type": "markdown",
   "metadata": {},
   "source": [
    "Removing Load terms as they do not seem to affect performance in this data set."
   ]
  },
  {
   "cell_type": "markdown",
   "metadata": {},
   "source": [
    "We see that in general, the relationship between hours of sleep, quality of sleep, and soreness is very similar in this GEE model as our linear model. Unfortunatly, we cannot compute AIC values for a GEE model but the fact that this model makes the same conclusions as the mixed linear model does about these predictors adds more validty to them. On the other hand, this model gives support to a stronger conclusion about illness. It seems to suggest that having a lower illness score, meaning more ill in our case, leads to stronger performance. This will be explored further as we plot the residuals."
   ]
  },
  {
   "cell_type": "markdown",
   "metadata": {},
   "source": [
    "#### Residual and QQ Plots"
   ]
  },
  {
   "cell_type": "markdown",
   "metadata": {},
   "source": [
    "To ensure that these models are good fits to the data, we should ensure that there are no patterns in the residual plots and that the QQ plots are generally straight lines. This would mean that our model is not over or underpredicting the performance given the value of a predictor and we do not need to add any more terms to our model to fit the data better."
   ]
  },
  {
   "cell_type": "code",
   "execution_count": 59,
   "metadata": {},
   "outputs": [
    {
     "data": {
      "text/html": [
       "<div>\n",
       "<style scoped>\n",
       "    .dataframe tbody tr th:only-of-type {\n",
       "        vertical-align: middle;\n",
       "    }\n",
       "\n",
       "    .dataframe tbody tr th {\n",
       "        vertical-align: top;\n",
       "    }\n",
       "\n",
       "    .dataframe thead th {\n",
       "        text-align: right;\n",
       "    }\n",
       "</style>\n",
       "<table border=\"1\" class=\"dataframe\">\n",
       "  <thead>\n",
       "    <tr style=\"text-align: right;\">\n",
       "      <th></th>\n",
       "      <th>AcuteChronicRatio</th>\n",
       "      <th>MonitoringScore</th>\n",
       "      <th>TrainingReadiness</th>\n",
       "      <th>Illness</th>\n",
       "      <th>Pain</th>\n",
       "      <th>Nutrition</th>\n",
       "      <th>MaxSpeedInGame</th>\n",
       "      <th>Residual</th>\n",
       "    </tr>\n",
       "  </thead>\n",
       "  <tbody>\n",
       "    <tr>\n",
       "      <th>0</th>\n",
       "      <td>0.56</td>\n",
       "      <td>22.0</td>\n",
       "      <td>0.0</td>\n",
       "      <td>3.0</td>\n",
       "      <td>1.0</td>\n",
       "      <td>2.0</td>\n",
       "      <td>7.284728</td>\n",
       "      <td>0.467318</td>\n",
       "    </tr>\n",
       "    <tr>\n",
       "      <th>1</th>\n",
       "      <td>0.90</td>\n",
       "      <td>23.0</td>\n",
       "      <td>100.0</td>\n",
       "      <td>3.0</td>\n",
       "      <td>1.0</td>\n",
       "      <td>3.0</td>\n",
       "      <td>6.852436</td>\n",
       "      <td>-0.110429</td>\n",
       "    </tr>\n",
       "    <tr>\n",
       "      <th>2</th>\n",
       "      <td>0.58</td>\n",
       "      <td>21.0</td>\n",
       "      <td>100.0</td>\n",
       "      <td>3.0</td>\n",
       "      <td>1.0</td>\n",
       "      <td>3.0</td>\n",
       "      <td>7.267784</td>\n",
       "      <td>0.304919</td>\n",
       "    </tr>\n",
       "    <tr>\n",
       "      <th>3</th>\n",
       "      <td>0.71</td>\n",
       "      <td>20.0</td>\n",
       "      <td>90.0</td>\n",
       "      <td>3.0</td>\n",
       "      <td>1.0</td>\n",
       "      <td>3.0</td>\n",
       "      <td>6.338894</td>\n",
       "      <td>-0.623971</td>\n",
       "    </tr>\n",
       "    <tr>\n",
       "      <th>4</th>\n",
       "      <td>0.50</td>\n",
       "      <td>23.0</td>\n",
       "      <td>95.0</td>\n",
       "      <td>3.0</td>\n",
       "      <td>1.0</td>\n",
       "      <td>3.0</td>\n",
       "      <td>7.065283</td>\n",
       "      <td>0.102419</td>\n",
       "    </tr>\n",
       "  </tbody>\n",
       "</table>\n",
       "</div>"
      ],
      "text/plain": [
       "   AcuteChronicRatio  MonitoringScore  TrainingReadiness  Illness  Pain  \\\n",
       "0               0.56             22.0                0.0      3.0   1.0   \n",
       "1               0.90             23.0              100.0      3.0   1.0   \n",
       "2               0.58             21.0              100.0      3.0   1.0   \n",
       "3               0.71             20.0               90.0      3.0   1.0   \n",
       "4               0.50             23.0               95.0      3.0   1.0   \n",
       "\n",
       "   Nutrition  MaxSpeedInGame  Residual  \n",
       "0        2.0        7.284728  0.467318  \n",
       "1        3.0        6.852436 -0.110429  \n",
       "2        3.0        7.267784  0.304919  \n",
       "3        3.0        6.338894 -0.623971  \n",
       "4        3.0        7.065283  0.102419  "
      ]
     },
     "execution_count": 59,
     "metadata": {},
     "output_type": "execute_result"
    }
   ],
   "source": [
    "#gee_predictions = mod.predict(merged_df[['AcuteChronicRatio', 'SquaredAcuteChronicRatio', 'MonitoringScore', 'TrainingReadiness', 'Illness', 'Pain', 'Nutrition']])\n",
    "# TODO: Can get the residuals using res.resid\n",
    "residual_df = merged_df.copy()[['AcuteChronicRatio', 'MonitoringScore', 'TrainingReadiness', 'Illness', 'Pain', 'Nutrition', 'MaxSpeedInGame']]\n",
    "residual_df['Residual'] = res.resid\n",
    "residual_df.head()\n"
   ]
  },
  {
   "cell_type": "code",
   "execution_count": 60,
   "metadata": {},
   "outputs": [
    {
     "data": {
      "image/png": "[encoded data removed]",
      "text/plain": [
       "<Figure size 432x288 with 1 Axes>"
      ]
     },
     "metadata": {
      "needs_background": "light"
     },
     "output_type": "display_data"
    }
   ],
   "source": [
    "scatter_plot(residual_df, 'AcuteChronicRatio', 'Residual', 'Residual vs AcuteChronicRatio')"
   ]
  },
  {
   "cell_type": "code",
   "execution_count": 61,
   "metadata": {},
   "outputs": [
    {
     "data": {
      "image/png": "[encoded data removed]",
      "text/plain": [
       "<Figure size 432x288 with 1 Axes>"
      ]
     },
     "metadata": {
      "needs_background": "light"
     },
     "output_type": "display_data"
    }
   ],
   "source": [
    "scatter_plot(residual_df, 'MonitoringScore', 'Residual', 'MonitoringScore VS Residuals')"
   ]
  },
  {
   "cell_type": "code",
   "execution_count": 62,
   "metadata": {},
   "outputs": [
    {
     "data": {
      "image/png": "[encoded data removed]",
      "text/plain": [
       "<Figure size 432x288 with 1 Axes>"
      ]
     },
     "metadata": {
      "needs_background": "light"
     },
     "output_type": "display_data"
    }
   ],
   "source": [
    "scatter_plot(residual_df, 'Illness', 'Residual', 'Illness VS Residuals')"
   ]
  },
  {
   "cell_type": "code",
   "execution_count": 63,
   "metadata": {},
   "outputs": [
    {
     "ename": "KeyError",
     "evalue": "'Residuals'",
     "output_type": "error",
     "traceback": [
      "\u001b[0;31m---------------------------------------------------------------------------\u001b[0m",
      "\u001b[0;31mKeyError\u001b[0m                                  Traceback (most recent call last)",
      "\u001b[0;32m//anaconda3/lib/python3.7/site-packages/pandas/core/indexes/base.py\u001b[0m in \u001b[0;36mget_loc\u001b[0;34m(self, key, method, tolerance)\u001b[0m\n\u001b[1;32m   2656\u001b[0m             \u001b[0;32mtry\u001b[0m\u001b[0;34m:\u001b[0m\u001b[0;34m\u001b[0m\u001b[0;34m\u001b[0m\u001b[0m\n\u001b[0;32m-> 2657\u001b[0;31m                 \u001b[0;32mreturn\u001b[0m \u001b[0mself\u001b[0m\u001b[0;34m.\u001b[0m\u001b[0m_engine\u001b[0m\u001b[0;34m.\u001b[0m\u001b[0mget_loc\u001b[0m\u001b[0;34m(\u001b[0m\u001b[0mkey\u001b[0m\u001b[0;34m)\u001b[0m\u001b[0;34m\u001b[0m\u001b[0;34m\u001b[0m\u001b[0m\n\u001b[0m\u001b[1;32m   2658\u001b[0m             \u001b[0;32mexcept\u001b[0m \u001b[0mKeyError\u001b[0m\u001b[0;34m:\u001b[0m\u001b[0;34m\u001b[0m\u001b[0;34m\u001b[0m\u001b[0m\n",
      "\u001b[0;32mpandas/_libs/index.pyx\u001b[0m in \u001b[0;36mpandas._libs.index.IndexEngine.get_loc\u001b[0;34m()\u001b[0m\n",
      "\u001b[0;32mpandas/_libs/index.pyx\u001b[0m in \u001b[0;36mpandas._libs.index.IndexEngine.get_loc\u001b[0;34m()\u001b[0m\n",
      "\u001b[0;32mpandas/_libs/hashtable_class_helper.pxi\u001b[0m in \u001b[0;36mpandas._libs.hashtable.PyObjectHashTable.get_item\u001b[0;34m()\u001b[0m\n",
      "\u001b[0;32mpandas/_libs/hashtable_class_helper.pxi\u001b[0m in \u001b[0;36mpandas._libs.hashtable.PyObjectHashTable.get_item\u001b[0;34m()\u001b[0m\n",
      "\u001b[0;31mKeyError\u001b[0m: 'Residuals'",
      "\nDuring handling of the above exception, another exception occurred:\n",
      "\u001b[0;31mKeyError\u001b[0m                                  Traceback (most recent call last)",
      "\u001b[0;32m<ipython-input-63-e76886cfe903>\u001b[0m in \u001b[0;36m<module>\u001b[0;34m\u001b[0m\n\u001b[0;32m----> 1\u001b[0;31m \u001b[0mttest_ind\u001b[0m\u001b[0;34m(\u001b[0m\u001b[0mresidual_df\u001b[0m\u001b[0;34m[\u001b[0m\u001b[0mresidual_df\u001b[0m\u001b[0;34m[\u001b[0m\u001b[0;34m'Illness'\u001b[0m\u001b[0;34m]\u001b[0m \u001b[0;34m==\u001b[0m \u001b[0;36m2\u001b[0m\u001b[0;34m]\u001b[0m\u001b[0;34m[\u001b[0m\u001b[0;34m'Residuals'\u001b[0m\u001b[0;34m]\u001b[0m\u001b[0;34m,\u001b[0m \u001b[0mresidual_df\u001b[0m\u001b[0;34m[\u001b[0m\u001b[0mresidual_df\u001b[0m\u001b[0;34m[\u001b[0m\u001b[0;34m'Illness'\u001b[0m\u001b[0;34m]\u001b[0m \u001b[0;34m==\u001b[0m \u001b[0;36m3\u001b[0m\u001b[0;34m]\u001b[0m\u001b[0;34m[\u001b[0m\u001b[0;34m'Residuals'\u001b[0m\u001b[0;34m]\u001b[0m\u001b[0;34m)\u001b[0m\u001b[0;34m\u001b[0m\u001b[0;34m\u001b[0m\u001b[0m\n\u001b[0m",
      "\u001b[0;32m//anaconda3/lib/python3.7/site-packages/pandas/core/frame.py\u001b[0m in \u001b[0;36m__getitem__\u001b[0;34m(self, key)\u001b[0m\n\u001b[1;32m   2925\u001b[0m             \u001b[0;32mif\u001b[0m \u001b[0mself\u001b[0m\u001b[0;34m.\u001b[0m\u001b[0mcolumns\u001b[0m\u001b[0;34m.\u001b[0m\u001b[0mnlevels\u001b[0m \u001b[0;34m>\u001b[0m \u001b[0;36m1\u001b[0m\u001b[0;34m:\u001b[0m\u001b[0;34m\u001b[0m\u001b[0;34m\u001b[0m\u001b[0m\n\u001b[1;32m   2926\u001b[0m                 \u001b[0;32mreturn\u001b[0m \u001b[0mself\u001b[0m\u001b[0;34m.\u001b[0m\u001b[0m_getitem_multilevel\u001b[0m\u001b[0;34m(\u001b[0m\u001b[0mkey\u001b[0m\u001b[0;34m)\u001b[0m\u001b[0;34m\u001b[0m\u001b[0;34m\u001b[0m\u001b[0m\n\u001b[0;32m-> 2927\u001b[0;31m             \u001b[0mindexer\u001b[0m \u001b[0;34m=\u001b[0m \u001b[0mself\u001b[0m\u001b[0;34m.\u001b[0m\u001b[0mcolumns\u001b[0m\u001b[0;34m.\u001b[0m\u001b[0mget_loc\u001b[0m\u001b[0;34m(\u001b[0m\u001b[0mkey\u001b[0m\u001b[0;34m)\u001b[0m\u001b[0;34m\u001b[0m\u001b[0;34m\u001b[0m\u001b[0m\n\u001b[0m\u001b[1;32m   2928\u001b[0m             \u001b[0;32mif\u001b[0m \u001b[0mis_integer\u001b[0m\u001b[0;34m(\u001b[0m\u001b[0mindexer\u001b[0m\u001b[0;34m)\u001b[0m\u001b[0;34m:\u001b[0m\u001b[0;34m\u001b[0m\u001b[0;34m\u001b[0m\u001b[0m\n\u001b[1;32m   2929\u001b[0m                 \u001b[0mindexer\u001b[0m \u001b[0;34m=\u001b[0m \u001b[0;34m[\u001b[0m\u001b[0mindexer\u001b[0m\u001b[0;34m]\u001b[0m\u001b[0;34m\u001b[0m\u001b[0;34m\u001b[0m\u001b[0m\n",
      "\u001b[0;32m//anaconda3/lib/python3.7/site-packages/pandas/core/indexes/base.py\u001b[0m in \u001b[0;36mget_loc\u001b[0;34m(self, key, method, tolerance)\u001b[0m\n\u001b[1;32m   2657\u001b[0m                 \u001b[0;32mreturn\u001b[0m \u001b[0mself\u001b[0m\u001b[0;34m.\u001b[0m\u001b[0m_engine\u001b[0m\u001b[0;34m.\u001b[0m\u001b[0mget_loc\u001b[0m\u001b[0;34m(\u001b[0m\u001b[0mkey\u001b[0m\u001b[0;34m)\u001b[0m\u001b[0;34m\u001b[0m\u001b[0;34m\u001b[0m\u001b[0m\n\u001b[1;32m   2658\u001b[0m             \u001b[0;32mexcept\u001b[0m \u001b[0mKeyError\u001b[0m\u001b[0;34m:\u001b[0m\u001b[0;34m\u001b[0m\u001b[0;34m\u001b[0m\u001b[0m\n\u001b[0;32m-> 2659\u001b[0;31m                 \u001b[0;32mreturn\u001b[0m \u001b[0mself\u001b[0m\u001b[0;34m.\u001b[0m\u001b[0m_engine\u001b[0m\u001b[0;34m.\u001b[0m\u001b[0mget_loc\u001b[0m\u001b[0;34m(\u001b[0m\u001b[0mself\u001b[0m\u001b[0;34m.\u001b[0m\u001b[0m_maybe_cast_indexer\u001b[0m\u001b[0;34m(\u001b[0m\u001b[0mkey\u001b[0m\u001b[0;34m)\u001b[0m\u001b[0;34m)\u001b[0m\u001b[0;34m\u001b[0m\u001b[0;34m\u001b[0m\u001b[0m\n\u001b[0m\u001b[1;32m   2660\u001b[0m         \u001b[0mindexer\u001b[0m \u001b[0;34m=\u001b[0m \u001b[0mself\u001b[0m\u001b[0;34m.\u001b[0m\u001b[0mget_indexer\u001b[0m\u001b[0;34m(\u001b[0m\u001b[0;34m[\u001b[0m\u001b[0mkey\u001b[0m\u001b[0;34m]\u001b[0m\u001b[0;34m,\u001b[0m \u001b[0mmethod\u001b[0m\u001b[0;34m=\u001b[0m\u001b[0mmethod\u001b[0m\u001b[0;34m,\u001b[0m \u001b[0mtolerance\u001b[0m\u001b[0;34m=\u001b[0m\u001b[0mtolerance\u001b[0m\u001b[0;34m)\u001b[0m\u001b[0;34m\u001b[0m\u001b[0;34m\u001b[0m\u001b[0m\n\u001b[1;32m   2661\u001b[0m         \u001b[0;32mif\u001b[0m \u001b[0mindexer\u001b[0m\u001b[0;34m.\u001b[0m\u001b[0mndim\u001b[0m \u001b[0;34m>\u001b[0m \u001b[0;36m1\u001b[0m \u001b[0;32mor\u001b[0m \u001b[0mindexer\u001b[0m\u001b[0;34m.\u001b[0m\u001b[0msize\u001b[0m \u001b[0;34m>\u001b[0m \u001b[0;36m1\u001b[0m\u001b[0;34m:\u001b[0m\u001b[0;34m\u001b[0m\u001b[0;34m\u001b[0m\u001b[0m\n",
      "\u001b[0;32mpandas/_libs/index.pyx\u001b[0m in \u001b[0;36mpandas._libs.index.IndexEngine.get_loc\u001b[0;34m()\u001b[0m\n",
      "\u001b[0;32mpandas/_libs/index.pyx\u001b[0m in \u001b[0;36mpandas._libs.index.IndexEngine.get_loc\u001b[0;34m()\u001b[0m\n",
      "\u001b[0;32mpandas/_libs/hashtable_class_helper.pxi\u001b[0m in \u001b[0;36mpandas._libs.hashtable.PyObjectHashTable.get_item\u001b[0;34m()\u001b[0m\n",
      "\u001b[0;32mpandas/_libs/hashtable_class_helper.pxi\u001b[0m in \u001b[0;36mpandas._libs.hashtable.PyObjectHashTable.get_item\u001b[0;34m()\u001b[0m\n",
      "\u001b[0;31mKeyError\u001b[0m: 'Residuals'"
     ]
    }
   ],
   "source": [
    "ttest_ind(residual_df[residual_df['Illness'] == 2]['Residuals'], residual_df[residual_df['Illness'] == 3]['Residuals'])"
   ]
  },
  {
   "cell_type": "markdown",
   "metadata": {},
   "source": [
    "No significant difference in the residuals for Illness = 2 or Illness = 3"
   ]
  },
  {
   "cell_type": "markdown",
   "metadata": {},
   "source": [
    "Recall that our models suggested that lower illness improved perforamnce. Recall that we coded illness such that bring ill is represented by 1, being slightly off is represented by 2, and not being ill is represented by 3. We only have one case of a player being ill and playing which we can ignore. On the other hand, we have some examples of players playing while being slightly off, but not as many as the number of observations where players played when not ill at all."
   ]
  },
  {
   "cell_type": "markdown",
   "metadata": {},
   "source": [
    "We should look at those observations where players played while reporting that they were slightly off."
   ]
  },
  {
   "cell_type": "code",
   "execution_count": null,
   "metadata": {},
   "outputs": [],
   "source": [
    "averaged_df = merged_df.copy()[['PlayerID', 'MaxSpeedInGame', 'Illness']].groupby('PlayerID').mean()\n",
    "averaged_df"
   ]
  },
  {
   "cell_type": "markdown",
   "metadata": {},
   "source": [
    "We see that most players always said they were not ill at all on game day with a few exceptions. However, player 10 is the only player with an average illness sufficiently far from 3, meaning they are the only player who would often mark them selves as slightly off. Interestingly, player 10 has one of the highest average performance measures of all players, which is why there appears to be some relationship between feeling more ill and performing better. It is possible that player 10 was more likely than other players to mark themselve as feeling slightly off. It is also possible that player 10's performance was not effected by them feeling off, and this lead to them playing when they were feeling off as opposed to other players that would not have played when they felt off.\n",
    "\n",
    "This example highlights the selection bias in our dataset. There were some choices that went into which players played a given game so we cannot see the true effect of load and wellness on performance. In other words, we might not see performance issues due to poor wellness because we do not have performance data for istances where wellness was low, since a player with low wellness might not be played. Had we done an controlled experienment where we vary different factors of load and wellness and measure subsequent perforamnce, we might be able to find stronger relationships between load, wellness, and performance."
   ]
  },
  {
   "cell_type": "code",
   "execution_count": null,
   "metadata": {},
   "outputs": [],
   "source": [
    "scatter_plot(residual_df, 'Pain', 'Residuals', 'Pain VS Residuals')"
   ]
  },
  {
   "cell_type": "code",
   "execution_count": null,
   "metadata": {},
   "outputs": [],
   "source": [
    "ttest_ind(residual_df[residual_df['Pain'] == 0]['Residuals'], residual_df[residual_df['Pain'] == 1]['Residuals'])"
   ]
  },
  {
   "cell_type": "markdown",
   "metadata": {},
   "source": [
    "No significant difference between mean residuals for pain = 0 or pain = 1"
   ]
  },
  {
   "cell_type": "code",
   "execution_count": null,
   "metadata": {},
   "outputs": [],
   "source": [
    "scatter_plot(residual_df, 'Nutrition', 'Residuals', 'Nutrition VS Residuals')"
   ]
  },
  {
   "cell_type": "code",
   "execution_count": null,
   "metadata": {},
   "outputs": [],
   "source": [
    "ttest_ind(residual_df[residual_df['Nutrition'] == 2]['Residuals'], residual_df[residual_df['Nutrition'] == 3]['Residuals'])"
   ]
  },
  {
   "cell_type": "markdown",
   "metadata": {},
   "source": [
    "No significant difference between mean residuals for Nutrition = 2 or Nutrition = 3. We ignore Nutrition = 1 because there was only one instance of this in the training set."
   ]
  },
  {
   "cell_type": "markdown",
   "metadata": {},
   "source": [
    "## Effect of Wellness On RPE"
   ]
  },
  {
   "cell_type": "markdown",
   "metadata": {},
   "source": [
    "Now that we have explore the relationships between load and wellness on performance, we want to explore the relationship between wellness and load independent of performance."
   ]
  },
  {
   "cell_type": "code",
   "execution_count": null,
   "metadata": {},
   "outputs": [],
   "source": [
    "raw_rpe['Date'] = pd.to_datetime(raw_rpe['Date'])\n",
    "rpe_wellness = wellness_df.merge(raw_rpe, on=['Date', 'PlayerID'])\n",
    "rpe_wellness.head()"
   ]
  },
  {
   "cell_type": "code",
   "execution_count": null,
   "metadata": {},
   "outputs": [],
   "source": [
    "fam = sm.families.Gaussian()\n",
    "ind = sm.cov_struct.Exchangeable()\n",
    "\n",
    "rpe_wellness = rpe_wellness.dropna()\n",
    "rpe_wellness_mixed = smf.gee(\"RPE ~ wellness\", \"PlayerID\", rpe_wellness, cov_struct=ind, family=fam)\n",
    "rpe_wellness_mixed_fit = rpe_wellness_mixed.fit()\n",
    "print(rpe_wellness_mixed_fit.summary())\n"
   ]
  },
  {
   "cell_type": "code",
   "execution_count": null,
   "metadata": {},
   "outputs": [],
   "source": [
    "model_rpe_wellness = rpe_wellness.dropna()\n",
    "#model_rpe_wellness[['RPE']] = StandardScaler().fit_transform(model_rpe_wellness[['RPE']])\n",
    "\n",
    "rpe_wellness_mixed = smf.gee(\"RPE ~ MonitoringScore + TrainingReadiness + Pain + Illness + Nutrition\", \"PlayerID\", model_rpe_wellness, cov_struct=ind, family=fam)\n",
    "rpe_wellness_mixed_fit = rpe_wellness_mixed.fit()\n",
    "print(rpe_wellness_mixed_fit.summary())\n"
   ]
  },
  {
   "cell_type": "code",
   "execution_count": null,
   "metadata": {},
   "outputs": [],
   "source": [
    "pre_wellness_predictions = rpe_wellness_mixed_fit.predict()\n",
    "residual_df = model_rpe_wellness.copy()[['MonitoringScore', 'TrainingReadiness', 'Illness', 'Pain', 'Nutrition', 'RPE']]\n",
    "residual_df['Prediction'] = pre_wellness_predictions\n",
    "residual_df['Residuals'] = residual_df['RPE'] - residual_df['Prediction']\n",
    "residual_df.head()\n"
   ]
  },
  {
   "cell_type": "code",
   "execution_count": null,
   "metadata": {},
   "outputs": [],
   "source": [
    "scatter_plot(residual_df, 'MonitoringScore', 'Residuals', 'Residuals VS Monitoring Score')"
   ]
  },
  {
   "cell_type": "code",
   "execution_count": null,
   "metadata": {},
   "outputs": [],
   "source": [
    "rpe_wellness['RPE'].corr(rpe_wellness['wellness'])\n"
   ]
  },
  {
   "cell_type": "code",
   "execution_count": null,
   "metadata": {},
   "outputs": [],
   "source": [
    "grouped_rpe_wellness = rpe_wellness[['PlayerID', 'wellness', 'RPE']].groupby(['PlayerID']).mean()\n",
    "grouped_rpe_wellness"
   ]
  },
  {
   "cell_type": "code",
   "execution_count": null,
   "metadata": {},
   "outputs": [],
   "source": [
    "grouped_rpe_wellness.corr()"
   ]
  },
  {
   "cell_type": "code",
   "execution_count": null,
   "metadata": {},
   "outputs": [],
   "source": [
    "grouped_rpe_wellness.plot.scatter('wellness', 'RPE')"
   ]
  },
  {
   "cell_type": "markdown",
   "metadata": {},
   "source": [
    "There is no general trend in average wellness and RPE"
   ]
  },
  {
   "cell_type": "markdown",
   "metadata": {},
   "source": [
    "## Wellness vs Subjective Performance"
   ]
  },
  {
   "cell_type": "code",
   "execution_count": null,
   "metadata": {},
   "outputs": [],
   "source": [
    "subjective_performance_df.head()"
   ]
  },
  {
   "cell_type": "markdown",
   "metadata": {},
   "source": [
    "Remember, Best Out Of Myself was lives on a scale of 0, 1, or 3 scale so we should standardize all the values so they can be combined into one measure of subjective performance."
   ]
  },
  {
   "cell_type": "code",
   "execution_count": null,
   "metadata": {},
   "outputs": [],
   "source": [
    "subjective_performance_scaler = StandardScaler()\n",
    "standardized_subjective_performance_values = subjective_performance_scaler.fit_transform(subjective_performance_df[['ObjectiveRating', 'FocusRating', 'BestOutOfMyself']])\n",
    "subjective_performance_df['StandardizedObjectiveRating'] = standardized_subjective_performance_values[:, 0]\n",
    "subjective_performance_df['StandardizedFocusRating'] = standardized_subjective_performance_values[:, 1]\n",
    "subjective_performance_df['StandardizedBestOutOfMyself'] = standardized_subjective_performance_values[:, 2]\n",
    "subjective_performance_df['SubjectivePerformance'] = subjective_performance_df['StandardizedObjectiveRating'] + subjective_performance_df['StandardizedFocusRating'] + subjective_performance_df['StandardizedBestOutOfMyself']\n",
    "subjective_performance_df.head()\n"
   ]
  },
  {
   "cell_type": "code",
   "execution_count": null,
   "metadata": {},
   "outputs": [],
   "source": [
    "wellness_df.head()"
   ]
  },
  {
   "cell_type": "code",
   "execution_count": null,
   "metadata": {},
   "outputs": [],
   "source": [
    "subjective_performance_df['Date'] = pd.to_datetime(subjective_performance_df['Date'])\n",
    "wellness_subjective_performance = wellness_df.merge(subjective_performance_df, how='inner', on= ['Date','PlayerID'])\n",
    "wellness_subjective_performance.head()\n"
   ]
  },
  {
   "cell_type": "code",
   "execution_count": null,
   "metadata": {},
   "outputs": [],
   "source": [
    "scatter_plot(wellness_subjective_performance, 'wellness', 'SubjectivePerformance', 'SubjectivePerformance VS wellness')\n"
   ]
  },
  {
   "cell_type": "code",
   "execution_count": null,
   "metadata": {},
   "outputs": [],
   "source": [
    "averaged_subjective_perofrmance = wellness_subjective_performance[['PlayerID', 'wellness', 'SubjectivePerformance']].groupby('PlayerID').mean()\n",
    "averaged_subjective_perofrmance\n"
   ]
  },
  {
   "cell_type": "code",
   "execution_count": null,
   "metadata": {},
   "outputs": [],
   "source": [
    "scatter_plot(averaged_subjective_perofrmance, 'wellness', 'SubjectivePerformance', 'SubjectivePerformance VS wellness')\n"
   ]
  },
  {
   "cell_type": "markdown",
   "metadata": {},
   "source": [
    "### Plot Subjective Performance Over Time For Each Player"
   ]
  },
  {
   "cell_type": "code",
   "execution_count": null,
   "metadata": {},
   "outputs": [],
   "source": [
    "for player_id in wellness_subjective_performance['PlayerID'].unique():\n",
    "    player_df = wellness_subjective_performance[wellness_subjective_performance['PlayerID'] == player_id]\n",
    "    plt.plot(player_df['Date'], player_df['wellness'])\n",
    "    plt.title('Wellness over time for player {}'.format(player_id))\n",
    "    plt.show()\n",
    "    plt.plot(player_df['Date'], player_df['SubjectivePerformance'])\n",
    "    plt.title('SubjectivePerformance over time for player {}'.format(player_id))\n",
    "    plt.show()\n"
   ]
  },
  {
   "cell_type": "markdown",
   "metadata": {},
   "source": [
    "## Looking Deeper Into Pain and Illness"
   ]
  },
  {
   "cell_type": "markdown",
   "metadata": {},
   "source": [
    "When we look at Pain, Illness, and Nutrition vs performance, it almost looks like the average performance for being in pain is less than not being in pain which is counter intuitive. The same goes for nutrition. We should formalize these findings by doing a t-test."
   ]
  },
  {
   "cell_type": "code",
   "execution_count": null,
   "metadata": {},
   "outputs": [],
   "source": [
    "#averaged_df = merged_df.copy()[['PlayerID', 'MaxSpeedInGame', 'Pain', 'Illness', 'Nutrition', 'AcuteChronicRatio', 'AcuteLoad', 'ChronicLoad', 'wellness', 'MonitoringScore', 'TrainingReadiness']].groupby('PlayerID').mean()\n",
    "#averaged_df\n"
   ]
  },
  {
   "cell_type": "code",
   "execution_count": null,
   "metadata": {},
   "outputs": [],
   "source": [
    "#averaged_df.corr()"
   ]
  },
  {
   "cell_type": "markdown",
   "metadata": {},
   "source": [
    "Remember that taking the correlation of averaged values for repreated measures might not be the best thing to do, (find citation for this - Joe)"
   ]
  },
  {
   "cell_type": "markdown",
   "metadata": {},
   "source": [
    "### Pain"
   ]
  },
  {
   "cell_type": "markdown",
   "metadata": {},
   "source": [
    "There were 10 players that were never in pain (ie average pain = 1) so lets compare those players against those that were in pain."
   ]
  },
  {
   "cell_type": "code",
   "execution_count": null,
   "metadata": {},
   "outputs": [],
   "source": [
    "#not_in_pain = averaged_df[averaged_df['Pain'] == 1]\n",
    "#not_in_pain['MaxSpeedInGame'].mean()"
   ]
  },
  {
   "cell_type": "code",
   "execution_count": null,
   "metadata": {},
   "outputs": [],
   "source": [
    "#in_pain = averaged_df[averaged_df['Pain'] != 1]\n",
    "#in_pain['MaxSpeedInGame'].mean()"
   ]
  },
  {
   "cell_type": "markdown",
   "metadata": {},
   "source": [
    "It seems like those why were not in pain had lower average performance than those who were not in pain which seems counter intuitive. Let's first see if this difference was significant."
   ]
  },
  {
   "cell_type": "code",
   "execution_count": null,
   "metadata": {},
   "outputs": [],
   "source": [
    "#ttest_ind(not_in_pain['MaxSpeedInGame'], in_pain['MaxSpeedInGame'])"
   ]
  },
  {
   "cell_type": "markdown",
   "metadata": {},
   "source": [
    "This is a significant result. There must be something more to this relationship."
   ]
  },
  {
   "cell_type": "markdown",
   "metadata": {},
   "source": [
    "#### No Pain Players"
   ]
  },
  {
   "cell_type": "code",
   "execution_count": null,
   "metadata": {},
   "outputs": [],
   "source": [
    "#not_in_pain.index"
   ]
  },
  {
   "cell_type": "code",
   "execution_count": null,
   "metadata": {
    "scrolled": true
   },
   "outputs": [],
   "source": [
    "#averaged_df.loc[not_in_pain.index][[]]"
   ]
  },
  {
   "cell_type": "markdown",
   "metadata": {},
   "source": [
    "#### Pain Players"
   ]
  },
  {
   "cell_type": "code",
   "execution_count": null,
   "metadata": {},
   "outputs": [],
   "source": [
    "#in_pain.index"
   ]
  },
  {
   "cell_type": "markdown",
   "metadata": {},
   "source": [
    "## Performance For High And Low Wellness Occurances"
   ]
  },
  {
   "cell_type": "markdown",
   "metadata": {},
   "source": [
    "It seems like there is not relationship between wellness in general and performance based on the analysis above. To ensure that this is true, we can reframe the question about the relationship by grouping our data into instances of high and low performance, defined by those above or below the median wellness. We can then see if there is a "
   ]
  },
  {
   "cell_type": "code",
   "execution_count": null,
   "metadata": {},
   "outputs": [],
   "source": [
    "# Need to average over all the players so we have independent measurements\n",
    "averaged_wellness_df = merged_df.copy()[['PlayerID', 'MaxSpeedInGame', 'wellness']].groupby('PlayerID').mean()\n",
    "wellness_median = averaged_wellness_df['wellness'].median()\n",
    "\n",
    "low_wellness_df = merged_df[merged_df['wellness'] < wellness_median]\n",
    "high_wellness_df = merged_df[merged_df['wellness'] > wellness_median]\n",
    "\n",
    "ttest_ind(low_wellness_df['MaxSpeedInGame'], high_wellness_df['MaxSpeedInGame'])"
   ]
  },
  {
   "cell_type": "markdown",
   "metadata": {},
   "source": [
    "As expected, we see that there is no significant difference between average performance of high and low wellness players."
   ]
  },
  {
   "cell_type": "code",
   "execution_count": null,
   "metadata": {},
   "outputs": [],
   "source": [
    "# Try with monitoring score\n",
    "averaged_wellness_df = merged_df.copy()[['PlayerID', 'MaxSpeedInGame', 'MonitoringScore']].groupby('PlayerID').mean()\n",
    "wellness_median = averaged_wellness_df['MonitoringScore'].median()\n",
    "\n",
    "low_monitoring_score_df = merged_df[merged_df['MonitoringScore'] < wellness_median]\n",
    "high_monitoring_score_df = merged_df[merged_df['MonitoringScore'] > wellness_median]\n",
    "\n",
    "ttest_ind(low_monitoring_score_df['MaxSpeedInGame'], high_monitoring_score_df['MaxSpeedInGame'])\n"
   ]
  },
  {
   "cell_type": "markdown",
   "metadata": {},
   "source": [
    "Again, we see no significant difference in the performance of those with high and low wellness scores"
   ]
  },
  {
   "cell_type": "markdown",
   "metadata": {},
   "source": [
    "This adds further evidence to our conclusions that wellness alone does not have a relationship with performance"
   ]
  },
  {
   "cell_type": "markdown",
   "metadata": {},
   "source": [
    "## Conslusions"
   ]
  },
  {
   "cell_type": "markdown",
   "metadata": {},
   "source": [
    "Mention final conclusions for the coach based on this data."
   ]
  }
 ],
 "metadata": {
  "kernelspec": {
   "display_name": "Python 3",
   "language": "python",
   "name": "python3"
  },
  "language_info": {
   "codemirror_mode": {
    "name": "ipython",
    "version": 3
   },
   "file_extension": ".py",
   "mimetype": "text/x-python",
   "name": "python",
   "nbconvert_exporter": "python",
   "pygments_lexer": "ipython3",
   "version": "3.7.3"
  }
 },
 "nbformat": 4,
 "nbformat_minor": 2
}
