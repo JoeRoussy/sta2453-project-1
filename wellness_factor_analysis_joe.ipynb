{
 "cells": [
  {
   "cell_type": "markdown",
   "metadata": {},
   "source": [
    "# Factor Analysis"
   ]
  },
  {
   "cell_type": "markdown",
   "metadata": {},
   "source": [
    "Factor analysis is a method for automatically finding latent variables in a data set. It assumes that observed variables are actually a linear combination of a number of latent factors. Often, we are aiming to find a smaller number of factors that explain trends in our data.\n",
    "\n",
    "This is how factor analysis differs from principal componant analysis. In PCA, the components are not interpretable, however, in factor analysis, we can see which observed variables are highly correlated with which factors and group observed variables according to which factors they are correlated with by looking at the loading. We can also see which factors are most important by their eiganvalues. Another technical difference between PCA and factor analysis is that in PCA, all the components are orthogonal but in factor analysis this does not need to be the case."
   ]
  },
  {
   "cell_type": "markdown",
   "metadata": {},
   "source": [
    "## Load Data"
   ]
  },
  {
   "cell_type": "code",
   "execution_count": 1,
   "metadata": {},
   "outputs": [],
   "source": [
    "import pandas as pd\n",
    "import numpy as np\n",
    "from factor_analyzer import FactorAnalyzer\n",
    "from factor_analyzer.factor_analyzer import calculate_bartlett_sphericity, calculate_kmo\n",
    "from scipy.stats import pointbiserialr\n",
    "import matplotlib.pyplot as plt"
   ]
  },
  {
   "cell_type": "code",
   "execution_count": 2,
   "metadata": {},
   "outputs": [
    {
     "data": {
      "text/html": [
       "<div>\n",
       "<style scoped>\n",
       "    .dataframe tbody tr th:only-of-type {\n",
       "        vertical-align: middle;\n",
       "    }\n",
       "\n",
       "    .dataframe tbody tr th {\n",
       "        vertical-align: top;\n",
       "    }\n",
       "\n",
       "    .dataframe thead th {\n",
       "        text-align: right;\n",
       "    }\n",
       "</style>\n",
       "<table border=\"1\" class=\"dataframe\">\n",
       "  <thead>\n",
       "    <tr style=\"text-align: right;\">\n",
       "      <th></th>\n",
       "      <th>Date</th>\n",
       "      <th>PlayerID</th>\n",
       "      <th>Fatigue</th>\n",
       "      <th>Soreness</th>\n",
       "      <th>Desire</th>\n",
       "      <th>Irritability</th>\n",
       "      <th>BedTime</th>\n",
       "      <th>WakeTime</th>\n",
       "      <th>SleepHours</th>\n",
       "      <th>SleepQuality</th>\n",
       "      <th>MonitoringScore</th>\n",
       "      <th>Pain</th>\n",
       "      <th>Illness</th>\n",
       "      <th>Menstruation</th>\n",
       "      <th>Nutrition</th>\n",
       "      <th>NutritionAdjustment</th>\n",
       "      <th>USGMeasurement</th>\n",
       "      <th>USG</th>\n",
       "      <th>TrainingReadiness</th>\n",
       "    </tr>\n",
       "  </thead>\n",
       "  <tbody>\n",
       "    <tr>\n",
       "      <th>0</th>\n",
       "      <td>2018-07-21</td>\n",
       "      <td>1</td>\n",
       "      <td>3</td>\n",
       "      <td>3</td>\n",
       "      <td>2</td>\n",
       "      <td>3</td>\n",
       "      <td>23:00:00</td>\n",
       "      <td>07:00:00</td>\n",
       "      <td>8.00</td>\n",
       "      <td>2</td>\n",
       "      <td>13</td>\n",
       "      <td>No</td>\n",
       "      <td>No</td>\n",
       "      <td>Yes</td>\n",
       "      <td>Excellent</td>\n",
       "      <td>Yes</td>\n",
       "      <td>No</td>\n",
       "      <td>NaN</td>\n",
       "      <td>0%</td>\n",
       "    </tr>\n",
       "    <tr>\n",
       "      <th>1</th>\n",
       "      <td>2018-07-21</td>\n",
       "      <td>2</td>\n",
       "      <td>4</td>\n",
       "      <td>3</td>\n",
       "      <td>4</td>\n",
       "      <td>4</td>\n",
       "      <td>23:00:00</td>\n",
       "      <td>07:00:00</td>\n",
       "      <td>8.00</td>\n",
       "      <td>4</td>\n",
       "      <td>19</td>\n",
       "      <td>Yes</td>\n",
       "      <td>No</td>\n",
       "      <td>Yes</td>\n",
       "      <td>NaN</td>\n",
       "      <td>NaN</td>\n",
       "      <td>Yes</td>\n",
       "      <td>1.010</td>\n",
       "      <td>0%</td>\n",
       "    </tr>\n",
       "    <tr>\n",
       "      <th>2</th>\n",
       "      <td>2018-07-21</td>\n",
       "      <td>3</td>\n",
       "      <td>3</td>\n",
       "      <td>3</td>\n",
       "      <td>5</td>\n",
       "      <td>4</td>\n",
       "      <td>22:30:00</td>\n",
       "      <td>06:30:00</td>\n",
       "      <td>8.00</td>\n",
       "      <td>4</td>\n",
       "      <td>19</td>\n",
       "      <td>No</td>\n",
       "      <td>No</td>\n",
       "      <td>No</td>\n",
       "      <td>NaN</td>\n",
       "      <td>NaN</td>\n",
       "      <td>Yes</td>\n",
       "      <td>1.016</td>\n",
       "      <td>100%</td>\n",
       "    </tr>\n",
       "    <tr>\n",
       "      <th>3</th>\n",
       "      <td>2018-07-21</td>\n",
       "      <td>4</td>\n",
       "      <td>2</td>\n",
       "      <td>3</td>\n",
       "      <td>5</td>\n",
       "      <td>4</td>\n",
       "      <td>00:30:00</td>\n",
       "      <td>07:00:00</td>\n",
       "      <td>6.50</td>\n",
       "      <td>1</td>\n",
       "      <td>15</td>\n",
       "      <td>No</td>\n",
       "      <td>No</td>\n",
       "      <td>Yes</td>\n",
       "      <td>Excellent</td>\n",
       "      <td>Yes</td>\n",
       "      <td>Yes</td>\n",
       "      <td>1.025</td>\n",
       "      <td>95%</td>\n",
       "    </tr>\n",
       "    <tr>\n",
       "      <th>4</th>\n",
       "      <td>2018-07-21</td>\n",
       "      <td>5</td>\n",
       "      <td>5</td>\n",
       "      <td>3</td>\n",
       "      <td>4</td>\n",
       "      <td>4</td>\n",
       "      <td>23:45:00</td>\n",
       "      <td>07:00:00</td>\n",
       "      <td>7.25</td>\n",
       "      <td>4</td>\n",
       "      <td>20</td>\n",
       "      <td>No</td>\n",
       "      <td>No</td>\n",
       "      <td>No</td>\n",
       "      <td>Okay</td>\n",
       "      <td>Yes</td>\n",
       "      <td>Yes</td>\n",
       "      <td>1.022</td>\n",
       "      <td>100%</td>\n",
       "    </tr>\n",
       "  </tbody>\n",
       "</table>\n",
       "</div>"
      ],
      "text/plain": [
       "         Date  PlayerID  Fatigue  Soreness  Desire  Irritability   BedTime  \\\n",
       "0  2018-07-21         1        3         3       2             3  23:00:00   \n",
       "1  2018-07-21         2        4         3       4             4  23:00:00   \n",
       "2  2018-07-21         3        3         3       5             4  22:30:00   \n",
       "3  2018-07-21         4        2         3       5             4  00:30:00   \n",
       "4  2018-07-21         5        5         3       4             4  23:45:00   \n",
       "\n",
       "   WakeTime  SleepHours  SleepQuality  MonitoringScore Pain Illness  \\\n",
       "0  07:00:00        8.00             2               13   No      No   \n",
       "1  07:00:00        8.00             4               19  Yes      No   \n",
       "2  06:30:00        8.00             4               19   No      No   \n",
       "3  07:00:00        6.50             1               15   No      No   \n",
       "4  07:00:00        7.25             4               20   No      No   \n",
       "\n",
       "  Menstruation  Nutrition NutritionAdjustment USGMeasurement    USG  \\\n",
       "0          Yes  Excellent                 Yes             No    NaN   \n",
       "1          Yes        NaN                 NaN            Yes  1.010   \n",
       "2           No        NaN                 NaN            Yes  1.016   \n",
       "3          Yes  Excellent                 Yes            Yes  1.025   \n",
       "4           No       Okay                 Yes            Yes  1.022   \n",
       "\n",
       "  TrainingReadiness  \n",
       "0                0%  \n",
       "1                0%  \n",
       "2              100%  \n",
       "3               95%  \n",
       "4              100%  "
      ]
     },
     "execution_count": 2,
     "metadata": {},
     "output_type": "execute_result"
    }
   ],
   "source": [
    "wellness_df = pd.read_csv('./raw_data/wellness.csv')\n",
    "wellness_df.head()\n"
   ]
  },
  {
   "cell_type": "code",
   "execution_count": 3,
   "metadata": {},
   "outputs": [
    {
     "data": {
      "text/plain": [
       "(5011, 19)"
      ]
     },
     "execution_count": 3,
     "metadata": {},
     "output_type": "execute_result"
    }
   ],
   "source": [
    "wellness_df.shape"
   ]
  },
  {
   "cell_type": "markdown",
   "metadata": {},
   "source": [
    "To start with, we have 5011 wellness observations."
   ]
  },
  {
   "cell_type": "markdown",
   "metadata": {},
   "source": [
    "## Cleaning Data"
   ]
  },
  {
   "cell_type": "markdown",
   "metadata": {},
   "source": [
    "### Fatigue"
   ]
  },
  {
   "cell_type": "code",
   "execution_count": 4,
   "metadata": {},
   "outputs": [
    {
     "data": {
      "text/plain": [
       "4    2003\n",
       "3    1721\n",
       "2     642\n",
       "5     301\n",
       "1     187\n",
       "6     150\n",
       "7       7\n",
       "Name: Fatigue, dtype: int64"
      ]
     },
     "execution_count": 4,
     "metadata": {},
     "output_type": "execute_result"
    }
   ],
   "source": [
    "wellness_df['Fatigue'].value_counts()"
   ]
  },
  {
   "cell_type": "markdown",
   "metadata": {},
   "source": [
    "Based on the codebook, 1 is most tired and 7 is most fresh. The scales are:\n",
    "1 -> Exhausted\n",
    "4 -> Average\n",
    "7 -> Fresher than usual\n",
    "\n",
    "Thus, the values above make sense with average being most common and 1 less than average being second most common. I think we should be good leaving the values as is here."
   ]
  },
  {
   "cell_type": "markdown",
   "metadata": {},
   "source": [
    "### Soreness, Desire and Irritability"
   ]
  },
  {
   "cell_type": "markdown",
   "metadata": {},
   "source": [
    "All of these columns are on the same scale as fatigue so we just need to make sure there are no missing values and we can continue using the raw values as with Fatigue."
   ]
  },
  {
   "cell_type": "code",
   "execution_count": 5,
   "metadata": {},
   "outputs": [
    {
     "data": {
      "text/plain": [
       "4    1843\n",
       "3    1831\n",
       "2     737\n",
       "5     280\n",
       "1     176\n",
       "6     128\n",
       "7      16\n",
       "Name: Soreness, dtype: int64"
      ]
     },
     "execution_count": 5,
     "metadata": {},
     "output_type": "execute_result"
    }
   ],
   "source": [
    "wellness_df['Soreness'].value_counts()"
   ]
  },
  {
   "cell_type": "code",
   "execution_count": 6,
   "metadata": {},
   "outputs": [
    {
     "data": {
      "text/plain": [
       "4    3023\n",
       "3     820\n",
       "5     428\n",
       "2     300\n",
       "6     228\n",
       "1     159\n",
       "7      53\n",
       "Name: Desire, dtype: int64"
      ]
     },
     "execution_count": 6,
     "metadata": {},
     "output_type": "execute_result"
    }
   ],
   "source": [
    "wellness_df['Desire'].value_counts()"
   ]
  },
  {
   "cell_type": "code",
   "execution_count": 7,
   "metadata": {},
   "outputs": [
    {
     "data": {
      "text/plain": [
       "4    3597\n",
       "3     650\n",
       "5     347\n",
       "6     180\n",
       "2     135\n",
       "7      61\n",
       "1      41\n",
       "Name: Irritability, dtype: int64"
      ]
     },
     "execution_count": 7,
     "metadata": {},
     "output_type": "execute_result"
    }
   ],
   "source": [
    "wellness_df['Irritability'].value_counts()"
   ]
  },
  {
   "cell_type": "markdown",
   "metadata": {},
   "source": [
    "No missing values so all these columns can be used as is."
   ]
  },
  {
   "cell_type": "markdown",
   "metadata": {},
   "source": [
    "### BedTime, WakeTime, and SleepHours"
   ]
  },
  {
   "cell_type": "markdown",
   "metadata": {},
   "source": [
    "If we have SleepHours, it seems like we do not need BedTime and WakeTime as wellness would be affected by the amount of sleep and not the particular times players went to bed. Furthermore, most players go to bed and wake up at the same time. So, I will removed the `BedTime` and `Waketime` columns from the dataframe."
   ]
  },
  {
   "cell_type": "code",
   "execution_count": 8,
   "metadata": {},
   "outputs": [
    {
     "data": {
      "text/html": [
       "<div>\n",
       "<style scoped>\n",
       "    .dataframe tbody tr th:only-of-type {\n",
       "        vertical-align: middle;\n",
       "    }\n",
       "\n",
       "    .dataframe tbody tr th {\n",
       "        vertical-align: top;\n",
       "    }\n",
       "\n",
       "    .dataframe thead th {\n",
       "        text-align: right;\n",
       "    }\n",
       "</style>\n",
       "<table border=\"1\" class=\"dataframe\">\n",
       "  <thead>\n",
       "    <tr style=\"text-align: right;\">\n",
       "      <th></th>\n",
       "      <th>Date</th>\n",
       "      <th>PlayerID</th>\n",
       "      <th>Fatigue</th>\n",
       "      <th>Soreness</th>\n",
       "      <th>Desire</th>\n",
       "      <th>Irritability</th>\n",
       "      <th>SleepHours</th>\n",
       "      <th>SleepQuality</th>\n",
       "      <th>MonitoringScore</th>\n",
       "      <th>Pain</th>\n",
       "      <th>Illness</th>\n",
       "      <th>Menstruation</th>\n",
       "      <th>Nutrition</th>\n",
       "      <th>NutritionAdjustment</th>\n",
       "      <th>USGMeasurement</th>\n",
       "      <th>USG</th>\n",
       "      <th>TrainingReadiness</th>\n",
       "    </tr>\n",
       "  </thead>\n",
       "  <tbody>\n",
       "    <tr>\n",
       "      <th>0</th>\n",
       "      <td>2018-07-21</td>\n",
       "      <td>1</td>\n",
       "      <td>3</td>\n",
       "      <td>3</td>\n",
       "      <td>2</td>\n",
       "      <td>3</td>\n",
       "      <td>8.00</td>\n",
       "      <td>2</td>\n",
       "      <td>13</td>\n",
       "      <td>No</td>\n",
       "      <td>No</td>\n",
       "      <td>Yes</td>\n",
       "      <td>Excellent</td>\n",
       "      <td>Yes</td>\n",
       "      <td>No</td>\n",
       "      <td>NaN</td>\n",
       "      <td>0%</td>\n",
       "    </tr>\n",
       "    <tr>\n",
       "      <th>1</th>\n",
       "      <td>2018-07-21</td>\n",
       "      <td>2</td>\n",
       "      <td>4</td>\n",
       "      <td>3</td>\n",
       "      <td>4</td>\n",
       "      <td>4</td>\n",
       "      <td>8.00</td>\n",
       "      <td>4</td>\n",
       "      <td>19</td>\n",
       "      <td>Yes</td>\n",
       "      <td>No</td>\n",
       "      <td>Yes</td>\n",
       "      <td>NaN</td>\n",
       "      <td>NaN</td>\n",
       "      <td>Yes</td>\n",
       "      <td>1.010</td>\n",
       "      <td>0%</td>\n",
       "    </tr>\n",
       "    <tr>\n",
       "      <th>2</th>\n",
       "      <td>2018-07-21</td>\n",
       "      <td>3</td>\n",
       "      <td>3</td>\n",
       "      <td>3</td>\n",
       "      <td>5</td>\n",
       "      <td>4</td>\n",
       "      <td>8.00</td>\n",
       "      <td>4</td>\n",
       "      <td>19</td>\n",
       "      <td>No</td>\n",
       "      <td>No</td>\n",
       "      <td>No</td>\n",
       "      <td>NaN</td>\n",
       "      <td>NaN</td>\n",
       "      <td>Yes</td>\n",
       "      <td>1.016</td>\n",
       "      <td>100%</td>\n",
       "    </tr>\n",
       "    <tr>\n",
       "      <th>3</th>\n",
       "      <td>2018-07-21</td>\n",
       "      <td>4</td>\n",
       "      <td>2</td>\n",
       "      <td>3</td>\n",
       "      <td>5</td>\n",
       "      <td>4</td>\n",
       "      <td>6.50</td>\n",
       "      <td>1</td>\n",
       "      <td>15</td>\n",
       "      <td>No</td>\n",
       "      <td>No</td>\n",
       "      <td>Yes</td>\n",
       "      <td>Excellent</td>\n",
       "      <td>Yes</td>\n",
       "      <td>Yes</td>\n",
       "      <td>1.025</td>\n",
       "      <td>95%</td>\n",
       "    </tr>\n",
       "    <tr>\n",
       "      <th>4</th>\n",
       "      <td>2018-07-21</td>\n",
       "      <td>5</td>\n",
       "      <td>5</td>\n",
       "      <td>3</td>\n",
       "      <td>4</td>\n",
       "      <td>4</td>\n",
       "      <td>7.25</td>\n",
       "      <td>4</td>\n",
       "      <td>20</td>\n",
       "      <td>No</td>\n",
       "      <td>No</td>\n",
       "      <td>No</td>\n",
       "      <td>Okay</td>\n",
       "      <td>Yes</td>\n",
       "      <td>Yes</td>\n",
       "      <td>1.022</td>\n",
       "      <td>100%</td>\n",
       "    </tr>\n",
       "  </tbody>\n",
       "</table>\n",
       "</div>"
      ],
      "text/plain": [
       "         Date  PlayerID  Fatigue  Soreness  Desire  Irritability  SleepHours  \\\n",
       "0  2018-07-21         1        3         3       2             3        8.00   \n",
       "1  2018-07-21         2        4         3       4             4        8.00   \n",
       "2  2018-07-21         3        3         3       5             4        8.00   \n",
       "3  2018-07-21         4        2         3       5             4        6.50   \n",
       "4  2018-07-21         5        5         3       4             4        7.25   \n",
       "\n",
       "   SleepQuality  MonitoringScore Pain Illness Menstruation  Nutrition  \\\n",
       "0             2               13   No      No          Yes  Excellent   \n",
       "1             4               19  Yes      No          Yes        NaN   \n",
       "2             4               19   No      No           No        NaN   \n",
       "3             1               15   No      No          Yes  Excellent   \n",
       "4             4               20   No      No           No       Okay   \n",
       "\n",
       "  NutritionAdjustment USGMeasurement    USG TrainingReadiness  \n",
       "0                 Yes             No    NaN                0%  \n",
       "1                 NaN            Yes  1.010                0%  \n",
       "2                 NaN            Yes  1.016              100%  \n",
       "3                 Yes            Yes  1.025               95%  \n",
       "4                 Yes            Yes  1.022              100%  "
      ]
     },
     "execution_count": 8,
     "metadata": {},
     "output_type": "execute_result"
    }
   ],
   "source": [
    "wellness_df = wellness_df.drop(columns=['BedTime', 'WakeTime'])\n",
    "wellness_df.head()\n"
   ]
  },
  {
   "cell_type": "markdown",
   "metadata": {},
   "source": [
    "### Sleep Quality"
   ]
  },
  {
   "cell_type": "code",
   "execution_count": 9,
   "metadata": {},
   "outputs": [
    {
     "data": {
      "text/plain": [
       "4    2505\n",
       "3    1037\n",
       "5     508\n",
       "2     386\n",
       "6     242\n",
       "1     193\n",
       "7     140\n",
       "Name: SleepQuality, dtype: int64"
      ]
     },
     "execution_count": 9,
     "metadata": {},
     "output_type": "execute_result"
    }
   ],
   "source": [
    "wellness_df['SleepQuality'].value_counts()\n"
   ]
  },
  {
   "cell_type": "markdown",
   "metadata": {},
   "source": [
    "No missing values so we can leave this column as is. One interesting thought is how does this correlate with sleep duration?"
   ]
  },
  {
   "cell_type": "markdown",
   "metadata": {},
   "source": [
    "#### Correlation With Sleep"
   ]
  },
  {
   "cell_type": "code",
   "execution_count": 10,
   "metadata": {},
   "outputs": [
    {
     "data": {
      "text/plain": [
       "0.28179835513040297"
      ]
     },
     "execution_count": 10,
     "metadata": {},
     "output_type": "execute_result"
    }
   ],
   "source": [
    "wellness_df['SleepQuality'].corr(wellness_df['SleepHours'])"
   ]
  },
  {
   "cell_type": "markdown",
   "metadata": {},
   "source": [
    "It turns out sleep quality and the duration of sleep are not very correlated so we can keep them both in the data set."
   ]
  },
  {
   "cell_type": "markdown",
   "metadata": {},
   "source": [
    "### Monitoring Score"
   ]
  },
  {
   "cell_type": "markdown",
   "metadata": {},
   "source": [
    "This is an aggregation of the 5 scale values. We could either use this or the 5 scales on their own but it would not be appropriate to use both. We are trying to see if our data can be represented as latent factors so we should ignore this summary column and see if the columns that it is made from are actually all related."
   ]
  },
  {
   "cell_type": "code",
   "execution_count": 11,
   "metadata": {
    "scrolled": true
   },
   "outputs": [
    {
     "data": {
      "text/html": [
       "<div>\n",
       "<style scoped>\n",
       "    .dataframe tbody tr th:only-of-type {\n",
       "        vertical-align: middle;\n",
       "    }\n",
       "\n",
       "    .dataframe tbody tr th {\n",
       "        vertical-align: top;\n",
       "    }\n",
       "\n",
       "    .dataframe thead th {\n",
       "        text-align: right;\n",
       "    }\n",
       "</style>\n",
       "<table border=\"1\" class=\"dataframe\">\n",
       "  <thead>\n",
       "    <tr style=\"text-align: right;\">\n",
       "      <th></th>\n",
       "      <th>Date</th>\n",
       "      <th>PlayerID</th>\n",
       "      <th>Fatigue</th>\n",
       "      <th>Soreness</th>\n",
       "      <th>Desire</th>\n",
       "      <th>Irritability</th>\n",
       "      <th>SleepHours</th>\n",
       "      <th>SleepQuality</th>\n",
       "      <th>Pain</th>\n",
       "      <th>Illness</th>\n",
       "      <th>Menstruation</th>\n",
       "      <th>Nutrition</th>\n",
       "      <th>NutritionAdjustment</th>\n",
       "      <th>USGMeasurement</th>\n",
       "      <th>USG</th>\n",
       "      <th>TrainingReadiness</th>\n",
       "    </tr>\n",
       "  </thead>\n",
       "  <tbody>\n",
       "    <tr>\n",
       "      <th>0</th>\n",
       "      <td>2018-07-21</td>\n",
       "      <td>1</td>\n",
       "      <td>3</td>\n",
       "      <td>3</td>\n",
       "      <td>2</td>\n",
       "      <td>3</td>\n",
       "      <td>8.00</td>\n",
       "      <td>2</td>\n",
       "      <td>No</td>\n",
       "      <td>No</td>\n",
       "      <td>Yes</td>\n",
       "      <td>Excellent</td>\n",
       "      <td>Yes</td>\n",
       "      <td>No</td>\n",
       "      <td>NaN</td>\n",
       "      <td>0%</td>\n",
       "    </tr>\n",
       "    <tr>\n",
       "      <th>1</th>\n",
       "      <td>2018-07-21</td>\n",
       "      <td>2</td>\n",
       "      <td>4</td>\n",
       "      <td>3</td>\n",
       "      <td>4</td>\n",
       "      <td>4</td>\n",
       "      <td>8.00</td>\n",
       "      <td>4</td>\n",
       "      <td>Yes</td>\n",
       "      <td>No</td>\n",
       "      <td>Yes</td>\n",
       "      <td>NaN</td>\n",
       "      <td>NaN</td>\n",
       "      <td>Yes</td>\n",
       "      <td>1.010</td>\n",
       "      <td>0%</td>\n",
       "    </tr>\n",
       "    <tr>\n",
       "      <th>2</th>\n",
       "      <td>2018-07-21</td>\n",
       "      <td>3</td>\n",
       "      <td>3</td>\n",
       "      <td>3</td>\n",
       "      <td>5</td>\n",
       "      <td>4</td>\n",
       "      <td>8.00</td>\n",
       "      <td>4</td>\n",
       "      <td>No</td>\n",
       "      <td>No</td>\n",
       "      <td>No</td>\n",
       "      <td>NaN</td>\n",
       "      <td>NaN</td>\n",
       "      <td>Yes</td>\n",
       "      <td>1.016</td>\n",
       "      <td>100%</td>\n",
       "    </tr>\n",
       "    <tr>\n",
       "      <th>3</th>\n",
       "      <td>2018-07-21</td>\n",
       "      <td>4</td>\n",
       "      <td>2</td>\n",
       "      <td>3</td>\n",
       "      <td>5</td>\n",
       "      <td>4</td>\n",
       "      <td>6.50</td>\n",
       "      <td>1</td>\n",
       "      <td>No</td>\n",
       "      <td>No</td>\n",
       "      <td>Yes</td>\n",
       "      <td>Excellent</td>\n",
       "      <td>Yes</td>\n",
       "      <td>Yes</td>\n",
       "      <td>1.025</td>\n",
       "      <td>95%</td>\n",
       "    </tr>\n",
       "    <tr>\n",
       "      <th>4</th>\n",
       "      <td>2018-07-21</td>\n",
       "      <td>5</td>\n",
       "      <td>5</td>\n",
       "      <td>3</td>\n",
       "      <td>4</td>\n",
       "      <td>4</td>\n",
       "      <td>7.25</td>\n",
       "      <td>4</td>\n",
       "      <td>No</td>\n",
       "      <td>No</td>\n",
       "      <td>No</td>\n",
       "      <td>Okay</td>\n",
       "      <td>Yes</td>\n",
       "      <td>Yes</td>\n",
       "      <td>1.022</td>\n",
       "      <td>100%</td>\n",
       "    </tr>\n",
       "  </tbody>\n",
       "</table>\n",
       "</div>"
      ],
      "text/plain": [
       "         Date  PlayerID  Fatigue  Soreness  Desire  Irritability  SleepHours  \\\n",
       "0  2018-07-21         1        3         3       2             3        8.00   \n",
       "1  2018-07-21         2        4         3       4             4        8.00   \n",
       "2  2018-07-21         3        3         3       5             4        8.00   \n",
       "3  2018-07-21         4        2         3       5             4        6.50   \n",
       "4  2018-07-21         5        5         3       4             4        7.25   \n",
       "\n",
       "   SleepQuality Pain Illness Menstruation  Nutrition NutritionAdjustment  \\\n",
       "0             2   No      No          Yes  Excellent                 Yes   \n",
       "1             4  Yes      No          Yes        NaN                 NaN   \n",
       "2             4   No      No           No        NaN                 NaN   \n",
       "3             1   No      No          Yes  Excellent                 Yes   \n",
       "4             4   No      No           No       Okay                 Yes   \n",
       "\n",
       "  USGMeasurement    USG TrainingReadiness  \n",
       "0             No    NaN                0%  \n",
       "1            Yes  1.010                0%  \n",
       "2            Yes  1.016              100%  \n",
       "3            Yes  1.025               95%  \n",
       "4            Yes  1.022              100%  "
      ]
     },
     "execution_count": 11,
     "metadata": {},
     "output_type": "execute_result"
    }
   ],
   "source": [
    "wellness_df = wellness_df.drop(columns=['MonitoringScore'])\n",
    "wellness_df.head()\n"
   ]
  },
  {
   "cell_type": "markdown",
   "metadata": {},
   "source": [
    "### Pain"
   ]
  },
  {
   "cell_type": "code",
   "execution_count": 12,
   "metadata": {},
   "outputs": [
    {
     "data": {
      "text/plain": [
       "No     4423\n",
       "Yes     588\n",
       "Name: Pain, dtype: int64"
      ]
     },
     "execution_count": 12,
     "metadata": {},
     "output_type": "execute_result"
    }
   ],
   "source": [
    "wellness_df['Pain'].value_counts()"
   ]
  },
  {
   "cell_type": "markdown",
   "metadata": {},
   "source": [
    "No missing values but we need to code this `Yes/No` column to take the values `1/0`"
   ]
  },
  {
   "cell_type": "code",
   "execution_count": 13,
   "metadata": {},
   "outputs": [
    {
     "data": {
      "text/html": [
       "<div>\n",
       "<style scoped>\n",
       "    .dataframe tbody tr th:only-of-type {\n",
       "        vertical-align: middle;\n",
       "    }\n",
       "\n",
       "    .dataframe tbody tr th {\n",
       "        vertical-align: top;\n",
       "    }\n",
       "\n",
       "    .dataframe thead th {\n",
       "        text-align: right;\n",
       "    }\n",
       "</style>\n",
       "<table border=\"1\" class=\"dataframe\">\n",
       "  <thead>\n",
       "    <tr style=\"text-align: right;\">\n",
       "      <th></th>\n",
       "      <th>Date</th>\n",
       "      <th>PlayerID</th>\n",
       "      <th>Fatigue</th>\n",
       "      <th>Soreness</th>\n",
       "      <th>Desire</th>\n",
       "      <th>Irritability</th>\n",
       "      <th>SleepHours</th>\n",
       "      <th>SleepQuality</th>\n",
       "      <th>Pain</th>\n",
       "      <th>Illness</th>\n",
       "      <th>Menstruation</th>\n",
       "      <th>Nutrition</th>\n",
       "      <th>NutritionAdjustment</th>\n",
       "      <th>USGMeasurement</th>\n",
       "      <th>USG</th>\n",
       "      <th>TrainingReadiness</th>\n",
       "    </tr>\n",
       "  </thead>\n",
       "  <tbody>\n",
       "    <tr>\n",
       "      <th>0</th>\n",
       "      <td>2018-07-21</td>\n",
       "      <td>1</td>\n",
       "      <td>3</td>\n",
       "      <td>3</td>\n",
       "      <td>2</td>\n",
       "      <td>3</td>\n",
       "      <td>8.00</td>\n",
       "      <td>2</td>\n",
       "      <td>0</td>\n",
       "      <td>No</td>\n",
       "      <td>Yes</td>\n",
       "      <td>Excellent</td>\n",
       "      <td>Yes</td>\n",
       "      <td>No</td>\n",
       "      <td>NaN</td>\n",
       "      <td>0%</td>\n",
       "    </tr>\n",
       "    <tr>\n",
       "      <th>1</th>\n",
       "      <td>2018-07-21</td>\n",
       "      <td>2</td>\n",
       "      <td>4</td>\n",
       "      <td>3</td>\n",
       "      <td>4</td>\n",
       "      <td>4</td>\n",
       "      <td>8.00</td>\n",
       "      <td>4</td>\n",
       "      <td>1</td>\n",
       "      <td>No</td>\n",
       "      <td>Yes</td>\n",
       "      <td>NaN</td>\n",
       "      <td>NaN</td>\n",
       "      <td>Yes</td>\n",
       "      <td>1.010</td>\n",
       "      <td>0%</td>\n",
       "    </tr>\n",
       "    <tr>\n",
       "      <th>2</th>\n",
       "      <td>2018-07-21</td>\n",
       "      <td>3</td>\n",
       "      <td>3</td>\n",
       "      <td>3</td>\n",
       "      <td>5</td>\n",
       "      <td>4</td>\n",
       "      <td>8.00</td>\n",
       "      <td>4</td>\n",
       "      <td>0</td>\n",
       "      <td>No</td>\n",
       "      <td>No</td>\n",
       "      <td>NaN</td>\n",
       "      <td>NaN</td>\n",
       "      <td>Yes</td>\n",
       "      <td>1.016</td>\n",
       "      <td>100%</td>\n",
       "    </tr>\n",
       "    <tr>\n",
       "      <th>3</th>\n",
       "      <td>2018-07-21</td>\n",
       "      <td>4</td>\n",
       "      <td>2</td>\n",
       "      <td>3</td>\n",
       "      <td>5</td>\n",
       "      <td>4</td>\n",
       "      <td>6.50</td>\n",
       "      <td>1</td>\n",
       "      <td>0</td>\n",
       "      <td>No</td>\n",
       "      <td>Yes</td>\n",
       "      <td>Excellent</td>\n",
       "      <td>Yes</td>\n",
       "      <td>Yes</td>\n",
       "      <td>1.025</td>\n",
       "      <td>95%</td>\n",
       "    </tr>\n",
       "    <tr>\n",
       "      <th>4</th>\n",
       "      <td>2018-07-21</td>\n",
       "      <td>5</td>\n",
       "      <td>5</td>\n",
       "      <td>3</td>\n",
       "      <td>4</td>\n",
       "      <td>4</td>\n",
       "      <td>7.25</td>\n",
       "      <td>4</td>\n",
       "      <td>0</td>\n",
       "      <td>No</td>\n",
       "      <td>No</td>\n",
       "      <td>Okay</td>\n",
       "      <td>Yes</td>\n",
       "      <td>Yes</td>\n",
       "      <td>1.022</td>\n",
       "      <td>100%</td>\n",
       "    </tr>\n",
       "  </tbody>\n",
       "</table>\n",
       "</div>"
      ],
      "text/plain": [
       "         Date  PlayerID  Fatigue  Soreness  Desire  Irritability  SleepHours  \\\n",
       "0  2018-07-21         1        3         3       2             3        8.00   \n",
       "1  2018-07-21         2        4         3       4             4        8.00   \n",
       "2  2018-07-21         3        3         3       5             4        8.00   \n",
       "3  2018-07-21         4        2         3       5             4        6.50   \n",
       "4  2018-07-21         5        5         3       4             4        7.25   \n",
       "\n",
       "   SleepQuality  Pain Illness Menstruation  Nutrition NutritionAdjustment  \\\n",
       "0             2     0      No          Yes  Excellent                 Yes   \n",
       "1             4     1      No          Yes        NaN                 NaN   \n",
       "2             4     0      No           No        NaN                 NaN   \n",
       "3             1     0      No          Yes  Excellent                 Yes   \n",
       "4             4     0      No           No       Okay                 Yes   \n",
       "\n",
       "  USGMeasurement    USG TrainingReadiness  \n",
       "0             No    NaN                0%  \n",
       "1            Yes  1.010                0%  \n",
       "2            Yes  1.016              100%  \n",
       "3            Yes  1.025               95%  \n",
       "4            Yes  1.022              100%  "
      ]
     },
     "execution_count": 13,
     "metadata": {},
     "output_type": "execute_result"
    }
   ],
   "source": [
    "wellness_df['Pain'] = wellness_df['Pain'].map(dict(Yes=1, No=0))\n",
    "wellness_df.head()\n"
   ]
  },
  {
   "cell_type": "markdown",
   "metadata": {},
   "source": [
    "### Illness"
   ]
  },
  {
   "cell_type": "markdown",
   "metadata": {},
   "source": [
    "This should be trated the same as `Pain` assuming there are no missing values "
   ]
  },
  {
   "cell_type": "code",
   "execution_count": 14,
   "metadata": {},
   "outputs": [
    {
     "data": {
      "text/plain": [
       "No              4456\n",
       "Slightly Off     421\n",
       "Yes              134\n",
       "Name: Illness, dtype: int64"
      ]
     },
     "execution_count": 14,
     "metadata": {},
     "output_type": "execute_result"
    }
   ],
   "source": [
    "wellness_df['Illness'].value_counts()"
   ]
  },
  {
   "cell_type": "markdown",
   "metadata": {},
   "source": [
    "It turns out there is a medium category of `Slightly Off` between `Yes` and `No`. So, I will code this column as a ordered categorical variable. I don't want to encode the difference between fully sick and being slightly off as the same as being slightly off and not sick. It seems the distance from not sick to slightly off is less than between slightly off and sick. So, instead of encoding sick as `2`, I will bump it up to `3`."
   ]
  },
  {
   "cell_type": "code",
   "execution_count": 15,
   "metadata": {},
   "outputs": [
    {
     "data": {
      "text/html": [
       "<div>\n",
       "<style scoped>\n",
       "    .dataframe tbody tr th:only-of-type {\n",
       "        vertical-align: middle;\n",
       "    }\n",
       "\n",
       "    .dataframe tbody tr th {\n",
       "        vertical-align: top;\n",
       "    }\n",
       "\n",
       "    .dataframe thead th {\n",
       "        text-align: right;\n",
       "    }\n",
       "</style>\n",
       "<table border=\"1\" class=\"dataframe\">\n",
       "  <thead>\n",
       "    <tr style=\"text-align: right;\">\n",
       "      <th></th>\n",
       "      <th>Date</th>\n",
       "      <th>PlayerID</th>\n",
       "      <th>Fatigue</th>\n",
       "      <th>Soreness</th>\n",
       "      <th>Desire</th>\n",
       "      <th>Irritability</th>\n",
       "      <th>SleepHours</th>\n",
       "      <th>SleepQuality</th>\n",
       "      <th>Pain</th>\n",
       "      <th>Illness</th>\n",
       "      <th>Menstruation</th>\n",
       "      <th>Nutrition</th>\n",
       "      <th>NutritionAdjustment</th>\n",
       "      <th>USGMeasurement</th>\n",
       "      <th>USG</th>\n",
       "      <th>TrainingReadiness</th>\n",
       "    </tr>\n",
       "  </thead>\n",
       "  <tbody>\n",
       "    <tr>\n",
       "      <th>0</th>\n",
       "      <td>2018-07-21</td>\n",
       "      <td>1</td>\n",
       "      <td>3</td>\n",
       "      <td>3</td>\n",
       "      <td>2</td>\n",
       "      <td>3</td>\n",
       "      <td>8.00</td>\n",
       "      <td>2</td>\n",
       "      <td>0</td>\n",
       "      <td>0</td>\n",
       "      <td>Yes</td>\n",
       "      <td>Excellent</td>\n",
       "      <td>Yes</td>\n",
       "      <td>No</td>\n",
       "      <td>NaN</td>\n",
       "      <td>0%</td>\n",
       "    </tr>\n",
       "    <tr>\n",
       "      <th>1</th>\n",
       "      <td>2018-07-21</td>\n",
       "      <td>2</td>\n",
       "      <td>4</td>\n",
       "      <td>3</td>\n",
       "      <td>4</td>\n",
       "      <td>4</td>\n",
       "      <td>8.00</td>\n",
       "      <td>4</td>\n",
       "      <td>1</td>\n",
       "      <td>0</td>\n",
       "      <td>Yes</td>\n",
       "      <td>NaN</td>\n",
       "      <td>NaN</td>\n",
       "      <td>Yes</td>\n",
       "      <td>1.010</td>\n",
       "      <td>0%</td>\n",
       "    </tr>\n",
       "    <tr>\n",
       "      <th>2</th>\n",
       "      <td>2018-07-21</td>\n",
       "      <td>3</td>\n",
       "      <td>3</td>\n",
       "      <td>3</td>\n",
       "      <td>5</td>\n",
       "      <td>4</td>\n",
       "      <td>8.00</td>\n",
       "      <td>4</td>\n",
       "      <td>0</td>\n",
       "      <td>0</td>\n",
       "      <td>No</td>\n",
       "      <td>NaN</td>\n",
       "      <td>NaN</td>\n",
       "      <td>Yes</td>\n",
       "      <td>1.016</td>\n",
       "      <td>100%</td>\n",
       "    </tr>\n",
       "    <tr>\n",
       "      <th>3</th>\n",
       "      <td>2018-07-21</td>\n",
       "      <td>4</td>\n",
       "      <td>2</td>\n",
       "      <td>3</td>\n",
       "      <td>5</td>\n",
       "      <td>4</td>\n",
       "      <td>6.50</td>\n",
       "      <td>1</td>\n",
       "      <td>0</td>\n",
       "      <td>0</td>\n",
       "      <td>Yes</td>\n",
       "      <td>Excellent</td>\n",
       "      <td>Yes</td>\n",
       "      <td>Yes</td>\n",
       "      <td>1.025</td>\n",
       "      <td>95%</td>\n",
       "    </tr>\n",
       "    <tr>\n",
       "      <th>4</th>\n",
       "      <td>2018-07-21</td>\n",
       "      <td>5</td>\n",
       "      <td>5</td>\n",
       "      <td>3</td>\n",
       "      <td>4</td>\n",
       "      <td>4</td>\n",
       "      <td>7.25</td>\n",
       "      <td>4</td>\n",
       "      <td>0</td>\n",
       "      <td>0</td>\n",
       "      <td>No</td>\n",
       "      <td>Okay</td>\n",
       "      <td>Yes</td>\n",
       "      <td>Yes</td>\n",
       "      <td>1.022</td>\n",
       "      <td>100%</td>\n",
       "    </tr>\n",
       "  </tbody>\n",
       "</table>\n",
       "</div>"
      ],
      "text/plain": [
       "         Date  PlayerID  Fatigue  Soreness  Desire  Irritability  SleepHours  \\\n",
       "0  2018-07-21         1        3         3       2             3        8.00   \n",
       "1  2018-07-21         2        4         3       4             4        8.00   \n",
       "2  2018-07-21         3        3         3       5             4        8.00   \n",
       "3  2018-07-21         4        2         3       5             4        6.50   \n",
       "4  2018-07-21         5        5         3       4             4        7.25   \n",
       "\n",
       "   SleepQuality  Pain  Illness Menstruation  Nutrition NutritionAdjustment  \\\n",
       "0             2     0        0          Yes  Excellent                 Yes   \n",
       "1             4     1        0          Yes        NaN                 NaN   \n",
       "2             4     0        0           No        NaN                 NaN   \n",
       "3             1     0        0          Yes  Excellent                 Yes   \n",
       "4             4     0        0           No       Okay                 Yes   \n",
       "\n",
       "  USGMeasurement    USG TrainingReadiness  \n",
       "0             No    NaN                0%  \n",
       "1            Yes  1.010                0%  \n",
       "2            Yes  1.016              100%  \n",
       "3            Yes  1.025               95%  \n",
       "4            Yes  1.022              100%  "
      ]
     },
     "execution_count": 15,
     "metadata": {},
     "output_type": "execute_result"
    }
   ],
   "source": [
    "wellness_df['Illness'] = wellness_df['Illness'].map({'Yes': 3, 'Slightly Off': 1, 'No': 0})\n",
    "wellness_df.head()\n"
   ]
  },
  {
   "cell_type": "markdown",
   "metadata": {},
   "source": [
    "### Menstruation"
   ]
  },
  {
   "cell_type": "code",
   "execution_count": 16,
   "metadata": {},
   "outputs": [
    {
     "data": {
      "text/plain": [
       "No     4285\n",
       "Yes     710\n",
       "Name: Menstruation, dtype: int64"
      ]
     },
     "execution_count": 16,
     "metadata": {},
     "output_type": "execute_result"
    }
   ],
   "source": [
    "wellness_df['Menstruation'].value_counts()"
   ]
  },
  {
   "cell_type": "markdown",
   "metadata": {},
   "source": [
    "Update: it seems like `value_counts` does not show values that are NaN so I will need to check for that separatly"
   ]
  },
  {
   "cell_type": "code",
   "execution_count": 17,
   "metadata": {},
   "outputs": [
    {
     "data": {
      "text/plain": [
       "(4995, 16)"
      ]
     },
     "execution_count": 17,
     "metadata": {},
     "output_type": "execute_result"
    }
   ],
   "source": [
    "wellness_df[~ wellness_df['Menstruation'].isnull()].shape"
   ]
  },
  {
   "cell_type": "markdown",
   "metadata": {},
   "source": [
    "17 observations is a small amount compared to 5011 overall so I will just remove the obervations that are missing Menstruation data."
   ]
  },
  {
   "cell_type": "code",
   "execution_count": 18,
   "metadata": {},
   "outputs": [
    {
     "data": {
      "text/plain": [
       "(4995, 16)"
      ]
     },
     "execution_count": 18,
     "metadata": {},
     "output_type": "execute_result"
    }
   ],
   "source": [
    "wellness_df = wellness_df[~ wellness_df['Menstruation'].isnull()]\n",
    "\n",
    "wellness_df.shape"
   ]
  },
  {
   "cell_type": "markdown",
   "metadata": {},
   "source": [
    "This is a simple `Yes/No` column so we can encode it with integers 1 and 0."
   ]
  },
  {
   "cell_type": "code",
   "execution_count": 19,
   "metadata": {},
   "outputs": [
    {
     "data": {
      "text/html": [
       "<div>\n",
       "<style scoped>\n",
       "    .dataframe tbody tr th:only-of-type {\n",
       "        vertical-align: middle;\n",
       "    }\n",
       "\n",
       "    .dataframe tbody tr th {\n",
       "        vertical-align: top;\n",
       "    }\n",
       "\n",
       "    .dataframe thead th {\n",
       "        text-align: right;\n",
       "    }\n",
       "</style>\n",
       "<table border=\"1\" class=\"dataframe\">\n",
       "  <thead>\n",
       "    <tr style=\"text-align: right;\">\n",
       "      <th></th>\n",
       "      <th>Date</th>\n",
       "      <th>PlayerID</th>\n",
       "      <th>Fatigue</th>\n",
       "      <th>Soreness</th>\n",
       "      <th>Desire</th>\n",
       "      <th>Irritability</th>\n",
       "      <th>SleepHours</th>\n",
       "      <th>SleepQuality</th>\n",
       "      <th>Pain</th>\n",
       "      <th>Illness</th>\n",
       "      <th>Menstruation</th>\n",
       "      <th>Nutrition</th>\n",
       "      <th>NutritionAdjustment</th>\n",
       "      <th>USGMeasurement</th>\n",
       "      <th>USG</th>\n",
       "      <th>TrainingReadiness</th>\n",
       "    </tr>\n",
       "  </thead>\n",
       "  <tbody>\n",
       "    <tr>\n",
       "      <th>0</th>\n",
       "      <td>2018-07-21</td>\n",
       "      <td>1</td>\n",
       "      <td>3</td>\n",
       "      <td>3</td>\n",
       "      <td>2</td>\n",
       "      <td>3</td>\n",
       "      <td>8.00</td>\n",
       "      <td>2</td>\n",
       "      <td>0</td>\n",
       "      <td>0</td>\n",
       "      <td>1</td>\n",
       "      <td>Excellent</td>\n",
       "      <td>Yes</td>\n",
       "      <td>No</td>\n",
       "      <td>NaN</td>\n",
       "      <td>0%</td>\n",
       "    </tr>\n",
       "    <tr>\n",
       "      <th>1</th>\n",
       "      <td>2018-07-21</td>\n",
       "      <td>2</td>\n",
       "      <td>4</td>\n",
       "      <td>3</td>\n",
       "      <td>4</td>\n",
       "      <td>4</td>\n",
       "      <td>8.00</td>\n",
       "      <td>4</td>\n",
       "      <td>1</td>\n",
       "      <td>0</td>\n",
       "      <td>1</td>\n",
       "      <td>NaN</td>\n",
       "      <td>NaN</td>\n",
       "      <td>Yes</td>\n",
       "      <td>1.010</td>\n",
       "      <td>0%</td>\n",
       "    </tr>\n",
       "    <tr>\n",
       "      <th>2</th>\n",
       "      <td>2018-07-21</td>\n",
       "      <td>3</td>\n",
       "      <td>3</td>\n",
       "      <td>3</td>\n",
       "      <td>5</td>\n",
       "      <td>4</td>\n",
       "      <td>8.00</td>\n",
       "      <td>4</td>\n",
       "      <td>0</td>\n",
       "      <td>0</td>\n",
       "      <td>0</td>\n",
       "      <td>NaN</td>\n",
       "      <td>NaN</td>\n",
       "      <td>Yes</td>\n",
       "      <td>1.016</td>\n",
       "      <td>100%</td>\n",
       "    </tr>\n",
       "    <tr>\n",
       "      <th>3</th>\n",
       "      <td>2018-07-21</td>\n",
       "      <td>4</td>\n",
       "      <td>2</td>\n",
       "      <td>3</td>\n",
       "      <td>5</td>\n",
       "      <td>4</td>\n",
       "      <td>6.50</td>\n",
       "      <td>1</td>\n",
       "      <td>0</td>\n",
       "      <td>0</td>\n",
       "      <td>1</td>\n",
       "      <td>Excellent</td>\n",
       "      <td>Yes</td>\n",
       "      <td>Yes</td>\n",
       "      <td>1.025</td>\n",
       "      <td>95%</td>\n",
       "    </tr>\n",
       "    <tr>\n",
       "      <th>4</th>\n",
       "      <td>2018-07-21</td>\n",
       "      <td>5</td>\n",
       "      <td>5</td>\n",
       "      <td>3</td>\n",
       "      <td>4</td>\n",
       "      <td>4</td>\n",
       "      <td>7.25</td>\n",
       "      <td>4</td>\n",
       "      <td>0</td>\n",
       "      <td>0</td>\n",
       "      <td>0</td>\n",
       "      <td>Okay</td>\n",
       "      <td>Yes</td>\n",
       "      <td>Yes</td>\n",
       "      <td>1.022</td>\n",
       "      <td>100%</td>\n",
       "    </tr>\n",
       "  </tbody>\n",
       "</table>\n",
       "</div>"
      ],
      "text/plain": [
       "         Date  PlayerID  Fatigue  Soreness  Desire  Irritability  SleepHours  \\\n",
       "0  2018-07-21         1        3         3       2             3        8.00   \n",
       "1  2018-07-21         2        4         3       4             4        8.00   \n",
       "2  2018-07-21         3        3         3       5             4        8.00   \n",
       "3  2018-07-21         4        2         3       5             4        6.50   \n",
       "4  2018-07-21         5        5         3       4             4        7.25   \n",
       "\n",
       "   SleepQuality  Pain  Illness  Menstruation  Nutrition NutritionAdjustment  \\\n",
       "0             2     0        0             1  Excellent                 Yes   \n",
       "1             4     1        0             1        NaN                 NaN   \n",
       "2             4     0        0             0        NaN                 NaN   \n",
       "3             1     0        0             1  Excellent                 Yes   \n",
       "4             4     0        0             0       Okay                 Yes   \n",
       "\n",
       "  USGMeasurement    USG TrainingReadiness  \n",
       "0             No    NaN                0%  \n",
       "1            Yes  1.010                0%  \n",
       "2            Yes  1.016              100%  \n",
       "3            Yes  1.025               95%  \n",
       "4            Yes  1.022              100%  "
      ]
     },
     "execution_count": 19,
     "metadata": {},
     "output_type": "execute_result"
    }
   ],
   "source": [
    "wellness_df['Menstruation'] = wellness_df['Menstruation'].map(dict(Yes=1, No=0))\n",
    "wellness_df.head()\n"
   ]
  },
  {
   "cell_type": "markdown",
   "metadata": {},
   "source": [
    "### Nutrition"
   ]
  },
  {
   "cell_type": "code",
   "execution_count": 20,
   "metadata": {},
   "outputs": [
    {
     "data": {
      "text/plain": [
       "Excellent    2706\n",
       "Okay         1394\n",
       "Poor           63\n",
       "Name: Nutrition, dtype: int64"
      ]
     },
     "execution_count": 20,
     "metadata": {},
     "output_type": "execute_result"
    }
   ],
   "source": [
    "wellness_df['Nutrition'].value_counts()\n"
   ]
  },
  {
   "cell_type": "code",
   "execution_count": 21,
   "metadata": {},
   "outputs": [
    {
     "data": {
      "text/plain": [
       "(832, 16)"
      ]
     },
     "execution_count": 21,
     "metadata": {},
     "output_type": "execute_result"
    }
   ],
   "source": [
    "wellness_df[wellness_df['Nutrition'].isnull()].shape\n"
   ]
  },
  {
   "cell_type": "markdown",
   "metadata": {},
   "source": [
    "#### Impute By Sampling From Distribution"
   ]
  },
  {
   "cell_type": "markdown",
   "metadata": {},
   "source": [
    "There are a pretty solid amont of missing values but it would be nice to still include `Nutrition` in our analysis so I will resample the distribution to fill in missing values."
   ]
  },
  {
   "cell_type": "code",
   "execution_count": 22,
   "metadata": {},
   "outputs": [
    {
     "data": {
      "text/html": [
       "<div>\n",
       "<style scoped>\n",
       "    .dataframe tbody tr th:only-of-type {\n",
       "        vertical-align: middle;\n",
       "    }\n",
       "\n",
       "    .dataframe tbody tr th {\n",
       "        vertical-align: top;\n",
       "    }\n",
       "\n",
       "    .dataframe thead th {\n",
       "        text-align: right;\n",
       "    }\n",
       "</style>\n",
       "<table border=\"1\" class=\"dataframe\">\n",
       "  <thead>\n",
       "    <tr style=\"text-align: right;\">\n",
       "      <th></th>\n",
       "      <th>Date</th>\n",
       "      <th>PlayerID</th>\n",
       "      <th>Fatigue</th>\n",
       "      <th>Soreness</th>\n",
       "      <th>Desire</th>\n",
       "      <th>Irritability</th>\n",
       "      <th>SleepHours</th>\n",
       "      <th>SleepQuality</th>\n",
       "      <th>Pain</th>\n",
       "      <th>Illness</th>\n",
       "      <th>Menstruation</th>\n",
       "      <th>Nutrition</th>\n",
       "      <th>NutritionAdjustment</th>\n",
       "      <th>USGMeasurement</th>\n",
       "      <th>USG</th>\n",
       "      <th>TrainingReadiness</th>\n",
       "    </tr>\n",
       "  </thead>\n",
       "  <tbody>\n",
       "    <tr>\n",
       "      <th>0</th>\n",
       "      <td>2018-07-21</td>\n",
       "      <td>1</td>\n",
       "      <td>3</td>\n",
       "      <td>3</td>\n",
       "      <td>2</td>\n",
       "      <td>3</td>\n",
       "      <td>8.00</td>\n",
       "      <td>2</td>\n",
       "      <td>0</td>\n",
       "      <td>0</td>\n",
       "      <td>1</td>\n",
       "      <td>Excellent</td>\n",
       "      <td>Yes</td>\n",
       "      <td>No</td>\n",
       "      <td>NaN</td>\n",
       "      <td>0%</td>\n",
       "    </tr>\n",
       "    <tr>\n",
       "      <th>1</th>\n",
       "      <td>2018-07-21</td>\n",
       "      <td>2</td>\n",
       "      <td>4</td>\n",
       "      <td>3</td>\n",
       "      <td>4</td>\n",
       "      <td>4</td>\n",
       "      <td>8.00</td>\n",
       "      <td>4</td>\n",
       "      <td>1</td>\n",
       "      <td>0</td>\n",
       "      <td>1</td>\n",
       "      <td>Okay</td>\n",
       "      <td>NaN</td>\n",
       "      <td>Yes</td>\n",
       "      <td>1.010</td>\n",
       "      <td>0%</td>\n",
       "    </tr>\n",
       "    <tr>\n",
       "      <th>2</th>\n",
       "      <td>2018-07-21</td>\n",
       "      <td>3</td>\n",
       "      <td>3</td>\n",
       "      <td>3</td>\n",
       "      <td>5</td>\n",
       "      <td>4</td>\n",
       "      <td>8.00</td>\n",
       "      <td>4</td>\n",
       "      <td>0</td>\n",
       "      <td>0</td>\n",
       "      <td>0</td>\n",
       "      <td>Excellent</td>\n",
       "      <td>NaN</td>\n",
       "      <td>Yes</td>\n",
       "      <td>1.016</td>\n",
       "      <td>100%</td>\n",
       "    </tr>\n",
       "    <tr>\n",
       "      <th>3</th>\n",
       "      <td>2018-07-21</td>\n",
       "      <td>4</td>\n",
       "      <td>2</td>\n",
       "      <td>3</td>\n",
       "      <td>5</td>\n",
       "      <td>4</td>\n",
       "      <td>6.50</td>\n",
       "      <td>1</td>\n",
       "      <td>0</td>\n",
       "      <td>0</td>\n",
       "      <td>1</td>\n",
       "      <td>Excellent</td>\n",
       "      <td>Yes</td>\n",
       "      <td>Yes</td>\n",
       "      <td>1.025</td>\n",
       "      <td>95%</td>\n",
       "    </tr>\n",
       "    <tr>\n",
       "      <th>4</th>\n",
       "      <td>2018-07-21</td>\n",
       "      <td>5</td>\n",
       "      <td>5</td>\n",
       "      <td>3</td>\n",
       "      <td>4</td>\n",
       "      <td>4</td>\n",
       "      <td>7.25</td>\n",
       "      <td>4</td>\n",
       "      <td>0</td>\n",
       "      <td>0</td>\n",
       "      <td>0</td>\n",
       "      <td>Okay</td>\n",
       "      <td>Yes</td>\n",
       "      <td>Yes</td>\n",
       "      <td>1.022</td>\n",
       "      <td>100%</td>\n",
       "    </tr>\n",
       "  </tbody>\n",
       "</table>\n",
       "</div>"
      ],
      "text/plain": [
       "         Date  PlayerID  Fatigue  Soreness  Desire  Irritability  SleepHours  \\\n",
       "0  2018-07-21         1        3         3       2             3        8.00   \n",
       "1  2018-07-21         2        4         3       4             4        8.00   \n",
       "2  2018-07-21         3        3         3       5             4        8.00   \n",
       "3  2018-07-21         4        2         3       5             4        6.50   \n",
       "4  2018-07-21         5        5         3       4             4        7.25   \n",
       "\n",
       "   SleepQuality  Pain  Illness  Menstruation  Nutrition NutritionAdjustment  \\\n",
       "0             2     0        0             1  Excellent                 Yes   \n",
       "1             4     1        0             1       Okay                 NaN   \n",
       "2             4     0        0             0  Excellent                 NaN   \n",
       "3             1     0        0             1  Excellent                 Yes   \n",
       "4             4     0        0             0       Okay                 Yes   \n",
       "\n",
       "  USGMeasurement    USG TrainingReadiness  \n",
       "0             No    NaN                0%  \n",
       "1            Yes  1.010                0%  \n",
       "2            Yes  1.016              100%  \n",
       "3            Yes  1.025               95%  \n",
       "4            Yes  1.022              100%  "
      ]
     },
     "execution_count": 22,
     "metadata": {},
     "output_type": "execute_result"
    }
   ],
   "source": [
    "normalized_nutrition_value_counts = wellness_df['Nutrition'].value_counts(normalize=True)\n",
    "missing_nutrition_indicies = wellness_df['Nutrition'].isnull()\n",
    "wellness_df.loc[missing_nutrition_indicies, 'Nutrition'] = np.random.choice(normalized_nutrition_value_counts.index, size=len(wellness_df[missing_nutrition_indicies]), p=normalized_nutrition_value_counts.values)\n",
    "wellness_df.head()\n"
   ]
  },
  {
   "cell_type": "markdown",
   "metadata": {},
   "source": [
    "Make sure the imputation worked by looking for missing values again."
   ]
  },
  {
   "cell_type": "code",
   "execution_count": 23,
   "metadata": {},
   "outputs": [
    {
     "data": {
      "text/plain": [
       "(0, 16)"
      ]
     },
     "execution_count": 23,
     "metadata": {},
     "output_type": "execute_result"
    }
   ],
   "source": [
    "wellness_df[wellness_df['Nutrition'].isnull()].shape\n"
   ]
  },
  {
   "cell_type": "code",
   "execution_count": 24,
   "metadata": {},
   "outputs": [
    {
     "data": {
      "text/plain": [
       "Excellent    3244\n",
       "Okay         1675\n",
       "Poor           76\n",
       "Name: Nutrition, dtype: int64"
      ]
     },
     "execution_count": 24,
     "metadata": {},
     "output_type": "execute_result"
    }
   ],
   "source": [
    "wellness_df['Nutrition'].value_counts()"
   ]
  },
  {
   "cell_type": "markdown",
   "metadata": {},
   "source": [
    "I will encode this as a ordered categorical variable with equal space between categories"
   ]
  },
  {
   "cell_type": "code",
   "execution_count": 25,
   "metadata": {},
   "outputs": [
    {
     "data": {
      "text/html": [
       "<div>\n",
       "<style scoped>\n",
       "    .dataframe tbody tr th:only-of-type {\n",
       "        vertical-align: middle;\n",
       "    }\n",
       "\n",
       "    .dataframe tbody tr th {\n",
       "        vertical-align: top;\n",
       "    }\n",
       "\n",
       "    .dataframe thead th {\n",
       "        text-align: right;\n",
       "    }\n",
       "</style>\n",
       "<table border=\"1\" class=\"dataframe\">\n",
       "  <thead>\n",
       "    <tr style=\"text-align: right;\">\n",
       "      <th></th>\n",
       "      <th>Date</th>\n",
       "      <th>PlayerID</th>\n",
       "      <th>Fatigue</th>\n",
       "      <th>Soreness</th>\n",
       "      <th>Desire</th>\n",
       "      <th>Irritability</th>\n",
       "      <th>SleepHours</th>\n",
       "      <th>SleepQuality</th>\n",
       "      <th>Pain</th>\n",
       "      <th>Illness</th>\n",
       "      <th>Menstruation</th>\n",
       "      <th>Nutrition</th>\n",
       "      <th>NutritionAdjustment</th>\n",
       "      <th>USGMeasurement</th>\n",
       "      <th>USG</th>\n",
       "      <th>TrainingReadiness</th>\n",
       "    </tr>\n",
       "  </thead>\n",
       "  <tbody>\n",
       "    <tr>\n",
       "      <th>0</th>\n",
       "      <td>2018-07-21</td>\n",
       "      <td>1</td>\n",
       "      <td>3</td>\n",
       "      <td>3</td>\n",
       "      <td>2</td>\n",
       "      <td>3</td>\n",
       "      <td>8.00</td>\n",
       "      <td>2</td>\n",
       "      <td>0</td>\n",
       "      <td>0</td>\n",
       "      <td>1</td>\n",
       "      <td>3</td>\n",
       "      <td>Yes</td>\n",
       "      <td>No</td>\n",
       "      <td>NaN</td>\n",
       "      <td>0%</td>\n",
       "    </tr>\n",
       "    <tr>\n",
       "      <th>1</th>\n",
       "      <td>2018-07-21</td>\n",
       "      <td>2</td>\n",
       "      <td>4</td>\n",
       "      <td>3</td>\n",
       "      <td>4</td>\n",
       "      <td>4</td>\n",
       "      <td>8.00</td>\n",
       "      <td>4</td>\n",
       "      <td>1</td>\n",
       "      <td>0</td>\n",
       "      <td>1</td>\n",
       "      <td>2</td>\n",
       "      <td>NaN</td>\n",
       "      <td>Yes</td>\n",
       "      <td>1.010</td>\n",
       "      <td>0%</td>\n",
       "    </tr>\n",
       "    <tr>\n",
       "      <th>2</th>\n",
       "      <td>2018-07-21</td>\n",
       "      <td>3</td>\n",
       "      <td>3</td>\n",
       "      <td>3</td>\n",
       "      <td>5</td>\n",
       "      <td>4</td>\n",
       "      <td>8.00</td>\n",
       "      <td>4</td>\n",
       "      <td>0</td>\n",
       "      <td>0</td>\n",
       "      <td>0</td>\n",
       "      <td>3</td>\n",
       "      <td>NaN</td>\n",
       "      <td>Yes</td>\n",
       "      <td>1.016</td>\n",
       "      <td>100%</td>\n",
       "    </tr>\n",
       "    <tr>\n",
       "      <th>3</th>\n",
       "      <td>2018-07-21</td>\n",
       "      <td>4</td>\n",
       "      <td>2</td>\n",
       "      <td>3</td>\n",
       "      <td>5</td>\n",
       "      <td>4</td>\n",
       "      <td>6.50</td>\n",
       "      <td>1</td>\n",
       "      <td>0</td>\n",
       "      <td>0</td>\n",
       "      <td>1</td>\n",
       "      <td>3</td>\n",
       "      <td>Yes</td>\n",
       "      <td>Yes</td>\n",
       "      <td>1.025</td>\n",
       "      <td>95%</td>\n",
       "    </tr>\n",
       "    <tr>\n",
       "      <th>4</th>\n",
       "      <td>2018-07-21</td>\n",
       "      <td>5</td>\n",
       "      <td>5</td>\n",
       "      <td>3</td>\n",
       "      <td>4</td>\n",
       "      <td>4</td>\n",
       "      <td>7.25</td>\n",
       "      <td>4</td>\n",
       "      <td>0</td>\n",
       "      <td>0</td>\n",
       "      <td>0</td>\n",
       "      <td>2</td>\n",
       "      <td>Yes</td>\n",
       "      <td>Yes</td>\n",
       "      <td>1.022</td>\n",
       "      <td>100%</td>\n",
       "    </tr>\n",
       "  </tbody>\n",
       "</table>\n",
       "</div>"
      ],
      "text/plain": [
       "         Date  PlayerID  Fatigue  Soreness  Desire  Irritability  SleepHours  \\\n",
       "0  2018-07-21         1        3         3       2             3        8.00   \n",
       "1  2018-07-21         2        4         3       4             4        8.00   \n",
       "2  2018-07-21         3        3         3       5             4        8.00   \n",
       "3  2018-07-21         4        2         3       5             4        6.50   \n",
       "4  2018-07-21         5        5         3       4             4        7.25   \n",
       "\n",
       "   SleepQuality  Pain  Illness  Menstruation  Nutrition NutritionAdjustment  \\\n",
       "0             2     0        0             1          3                 Yes   \n",
       "1             4     1        0             1          2                 NaN   \n",
       "2             4     0        0             0          3                 NaN   \n",
       "3             1     0        0             1          3                 Yes   \n",
       "4             4     0        0             0          2                 Yes   \n",
       "\n",
       "  USGMeasurement    USG TrainingReadiness  \n",
       "0             No    NaN                0%  \n",
       "1            Yes  1.010                0%  \n",
       "2            Yes  1.016              100%  \n",
       "3            Yes  1.025               95%  \n",
       "4            Yes  1.022              100%  "
      ]
     },
     "execution_count": 25,
     "metadata": {},
     "output_type": "execute_result"
    }
   ],
   "source": [
    "wellness_df['Nutrition'] = wellness_df['Nutrition'].map({'Excellent': 3, 'Okay': 2, 'Poor': 1})\n",
    "wellness_df.head()\n"
   ]
  },
  {
   "cell_type": "markdown",
   "metadata": {},
   "source": [
    "### NutritionAdjustment"
   ]
  },
  {
   "cell_type": "code",
   "execution_count": 26,
   "metadata": {},
   "outputs": [
    {
     "data": {
      "text/plain": [
       "Yes             3718\n",
       "No               438\n",
       "I Don't Know      99\n",
       "Name: NutritionAdjustment, dtype: int64"
      ]
     },
     "execution_count": 26,
     "metadata": {},
     "output_type": "execute_result"
    }
   ],
   "source": [
    "wellness_df['NutritionAdjustment'].value_counts()"
   ]
  },
  {
   "cell_type": "code",
   "execution_count": 27,
   "metadata": {},
   "outputs": [
    {
     "data": {
      "text/plain": [
       "(740, 16)"
      ]
     },
     "execution_count": 27,
     "metadata": {},
     "output_type": "execute_result"
    }
   ],
   "source": [
    "wellness_df[wellness_df['NutritionAdjustment'].isnull()].shape"
   ]
  },
  {
   "cell_type": "markdown",
   "metadata": {},
   "source": [
    "We could map all missing values for nutrition adjustment to the \"I don't know\" value but then we would have more \"I don't knows\" than \"No\". How do we encode this?"
   ]
  },
  {
   "cell_type": "markdown",
   "metadata": {},
   "source": [
    "Since there are so many missing values, I will remove the nutrition columns for now"
   ]
  },
  {
   "cell_type": "code",
   "execution_count": 28,
   "metadata": {},
   "outputs": [
    {
     "data": {
      "text/html": [
       "<div>\n",
       "<style scoped>\n",
       "    .dataframe tbody tr th:only-of-type {\n",
       "        vertical-align: middle;\n",
       "    }\n",
       "\n",
       "    .dataframe tbody tr th {\n",
       "        vertical-align: top;\n",
       "    }\n",
       "\n",
       "    .dataframe thead th {\n",
       "        text-align: right;\n",
       "    }\n",
       "</style>\n",
       "<table border=\"1\" class=\"dataframe\">\n",
       "  <thead>\n",
       "    <tr style=\"text-align: right;\">\n",
       "      <th></th>\n",
       "      <th>Date</th>\n",
       "      <th>PlayerID</th>\n",
       "      <th>Fatigue</th>\n",
       "      <th>Soreness</th>\n",
       "      <th>Desire</th>\n",
       "      <th>Irritability</th>\n",
       "      <th>SleepHours</th>\n",
       "      <th>SleepQuality</th>\n",
       "      <th>Pain</th>\n",
       "      <th>Illness</th>\n",
       "      <th>Menstruation</th>\n",
       "      <th>Nutrition</th>\n",
       "      <th>USGMeasurement</th>\n",
       "      <th>USG</th>\n",
       "      <th>TrainingReadiness</th>\n",
       "    </tr>\n",
       "  </thead>\n",
       "  <tbody>\n",
       "    <tr>\n",
       "      <th>0</th>\n",
       "      <td>2018-07-21</td>\n",
       "      <td>1</td>\n",
       "      <td>3</td>\n",
       "      <td>3</td>\n",
       "      <td>2</td>\n",
       "      <td>3</td>\n",
       "      <td>8.00</td>\n",
       "      <td>2</td>\n",
       "      <td>0</td>\n",
       "      <td>0</td>\n",
       "      <td>1</td>\n",
       "      <td>3</td>\n",
       "      <td>No</td>\n",
       "      <td>NaN</td>\n",
       "      <td>0%</td>\n",
       "    </tr>\n",
       "    <tr>\n",
       "      <th>1</th>\n",
       "      <td>2018-07-21</td>\n",
       "      <td>2</td>\n",
       "      <td>4</td>\n",
       "      <td>3</td>\n",
       "      <td>4</td>\n",
       "      <td>4</td>\n",
       "      <td>8.00</td>\n",
       "      <td>4</td>\n",
       "      <td>1</td>\n",
       "      <td>0</td>\n",
       "      <td>1</td>\n",
       "      <td>2</td>\n",
       "      <td>Yes</td>\n",
       "      <td>1.010</td>\n",
       "      <td>0%</td>\n",
       "    </tr>\n",
       "    <tr>\n",
       "      <th>2</th>\n",
       "      <td>2018-07-21</td>\n",
       "      <td>3</td>\n",
       "      <td>3</td>\n",
       "      <td>3</td>\n",
       "      <td>5</td>\n",
       "      <td>4</td>\n",
       "      <td>8.00</td>\n",
       "      <td>4</td>\n",
       "      <td>0</td>\n",
       "      <td>0</td>\n",
       "      <td>0</td>\n",
       "      <td>3</td>\n",
       "      <td>Yes</td>\n",
       "      <td>1.016</td>\n",
       "      <td>100%</td>\n",
       "    </tr>\n",
       "    <tr>\n",
       "      <th>3</th>\n",
       "      <td>2018-07-21</td>\n",
       "      <td>4</td>\n",
       "      <td>2</td>\n",
       "      <td>3</td>\n",
       "      <td>5</td>\n",
       "      <td>4</td>\n",
       "      <td>6.50</td>\n",
       "      <td>1</td>\n",
       "      <td>0</td>\n",
       "      <td>0</td>\n",
       "      <td>1</td>\n",
       "      <td>3</td>\n",
       "      <td>Yes</td>\n",
       "      <td>1.025</td>\n",
       "      <td>95%</td>\n",
       "    </tr>\n",
       "    <tr>\n",
       "      <th>4</th>\n",
       "      <td>2018-07-21</td>\n",
       "      <td>5</td>\n",
       "      <td>5</td>\n",
       "      <td>3</td>\n",
       "      <td>4</td>\n",
       "      <td>4</td>\n",
       "      <td>7.25</td>\n",
       "      <td>4</td>\n",
       "      <td>0</td>\n",
       "      <td>0</td>\n",
       "      <td>0</td>\n",
       "      <td>2</td>\n",
       "      <td>Yes</td>\n",
       "      <td>1.022</td>\n",
       "      <td>100%</td>\n",
       "    </tr>\n",
       "  </tbody>\n",
       "</table>\n",
       "</div>"
      ],
      "text/plain": [
       "         Date  PlayerID  Fatigue  Soreness  Desire  Irritability  SleepHours  \\\n",
       "0  2018-07-21         1        3         3       2             3        8.00   \n",
       "1  2018-07-21         2        4         3       4             4        8.00   \n",
       "2  2018-07-21         3        3         3       5             4        8.00   \n",
       "3  2018-07-21         4        2         3       5             4        6.50   \n",
       "4  2018-07-21         5        5         3       4             4        7.25   \n",
       "\n",
       "   SleepQuality  Pain  Illness  Menstruation  Nutrition USGMeasurement    USG  \\\n",
       "0             2     0        0             1          3             No    NaN   \n",
       "1             4     1        0             1          2            Yes  1.010   \n",
       "2             4     0        0             0          3            Yes  1.016   \n",
       "3             1     0        0             1          3            Yes  1.025   \n",
       "4             4     0        0             0          2            Yes  1.022   \n",
       "\n",
       "  TrainingReadiness  \n",
       "0                0%  \n",
       "1                0%  \n",
       "2              100%  \n",
       "3               95%  \n",
       "4              100%  "
      ]
     },
     "execution_count": 28,
     "metadata": {},
     "output_type": "execute_result"
    }
   ],
   "source": [
    "#wellness_df = wellness_df.drop(columns=['Nutrition', 'NutritionAdjustment'])\n",
    "wellness_df = wellness_df.drop(columns=['NutritionAdjustment'])\n",
    "wellness_df.head()\n"
   ]
  },
  {
   "cell_type": "markdown",
   "metadata": {},
   "source": [
    "### USG"
   ]
  },
  {
   "cell_type": "markdown",
   "metadata": {},
   "source": [
    "`USGMeasirement` is just a flag that tells us whether there is a value for USG on that row so it does not prodive us any useful information we could not get from just looking at the `USG` column. So, I will drop it."
   ]
  },
  {
   "cell_type": "code",
   "execution_count": 29,
   "metadata": {},
   "outputs": [],
   "source": [
    "wellness_df = wellness_df.drop(columns=['USGMeasurement'])\n"
   ]
  },
  {
   "cell_type": "code",
   "execution_count": 30,
   "metadata": {},
   "outputs": [
    {
     "data": {
      "text/plain": [
       "(4370, 14)"
      ]
     },
     "execution_count": 30,
     "metadata": {},
     "output_type": "execute_result"
    }
   ],
   "source": [
    "wellness_df[wellness_df['USG'].isnull()].shape\n"
   ]
  },
  {
   "cell_type": "markdown",
   "metadata": {},
   "source": [
    "There are so many missing measuresments for `USG` that I don't think we could do anything over than dropping it."
   ]
  },
  {
   "cell_type": "code",
   "execution_count": 31,
   "metadata": {},
   "outputs": [],
   "source": [
    "wellness_df = wellness_df.drop(columns=['USG'])\n"
   ]
  },
  {
   "cell_type": "markdown",
   "metadata": {},
   "source": [
    "### TrainingReadiness"
   ]
  },
  {
   "cell_type": "code",
   "execution_count": 32,
   "metadata": {},
   "outputs": [
    {
     "data": {
      "text/plain": [
       "100%    1434\n",
       "0%      1004\n",
       "90%      641\n",
       "95%      590\n",
       "85%      293\n",
       "80%      226\n",
       "75%      201\n",
       "70%      152\n",
       "65%      111\n",
       "50%       72\n",
       "60%       70\n",
       "55%       52\n",
       "35%       26\n",
       "45%       23\n",
       "30%       17\n",
       "25%       17\n",
       "40%       16\n",
       "15%       14\n",
       "20%       14\n",
       "5%        11\n",
       "10%       11\n",
       "Name: TrainingReadiness, dtype: int64"
      ]
     },
     "execution_count": 32,
     "metadata": {},
     "output_type": "execute_result"
    }
   ],
   "source": [
    "wellness_df['TrainingReadiness'].value_counts()"
   ]
  },
  {
   "cell_type": "code",
   "execution_count": 33,
   "metadata": {},
   "outputs": [
    {
     "data": {
      "text/plain": [
       "(0, 13)"
      ]
     },
     "execution_count": 33,
     "metadata": {},
     "output_type": "execute_result"
    }
   ],
   "source": [
    "wellness_df[wellness_df['TrainingReadiness'].isnull()].shape"
   ]
  },
  {
   "cell_type": "markdown",
   "metadata": {},
   "source": [
    "Training readiness has no missing values and is expressed as percentages. I can map this to integers."
   ]
  },
  {
   "cell_type": "code",
   "execution_count": 34,
   "metadata": {},
   "outputs": [
    {
     "data": {
      "text/html": [
       "<div>\n",
       "<style scoped>\n",
       "    .dataframe tbody tr th:only-of-type {\n",
       "        vertical-align: middle;\n",
       "    }\n",
       "\n",
       "    .dataframe tbody tr th {\n",
       "        vertical-align: top;\n",
       "    }\n",
       "\n",
       "    .dataframe thead th {\n",
       "        text-align: right;\n",
       "    }\n",
       "</style>\n",
       "<table border=\"1\" class=\"dataframe\">\n",
       "  <thead>\n",
       "    <tr style=\"text-align: right;\">\n",
       "      <th></th>\n",
       "      <th>Date</th>\n",
       "      <th>PlayerID</th>\n",
       "      <th>Fatigue</th>\n",
       "      <th>Soreness</th>\n",
       "      <th>Desire</th>\n",
       "      <th>Irritability</th>\n",
       "      <th>SleepHours</th>\n",
       "      <th>SleepQuality</th>\n",
       "      <th>Pain</th>\n",
       "      <th>Illness</th>\n",
       "      <th>Menstruation</th>\n",
       "      <th>Nutrition</th>\n",
       "      <th>TrainingReadiness</th>\n",
       "    </tr>\n",
       "  </thead>\n",
       "  <tbody>\n",
       "    <tr>\n",
       "      <th>0</th>\n",
       "      <td>2018-07-21</td>\n",
       "      <td>1</td>\n",
       "      <td>3</td>\n",
       "      <td>3</td>\n",
       "      <td>2</td>\n",
       "      <td>3</td>\n",
       "      <td>8.00</td>\n",
       "      <td>2</td>\n",
       "      <td>0</td>\n",
       "      <td>0</td>\n",
       "      <td>1</td>\n",
       "      <td>3</td>\n",
       "      <td>0</td>\n",
       "    </tr>\n",
       "    <tr>\n",
       "      <th>1</th>\n",
       "      <td>2018-07-21</td>\n",
       "      <td>2</td>\n",
       "      <td>4</td>\n",
       "      <td>3</td>\n",
       "      <td>4</td>\n",
       "      <td>4</td>\n",
       "      <td>8.00</td>\n",
       "      <td>4</td>\n",
       "      <td>1</td>\n",
       "      <td>0</td>\n",
       "      <td>1</td>\n",
       "      <td>2</td>\n",
       "      <td>0</td>\n",
       "    </tr>\n",
       "    <tr>\n",
       "      <th>2</th>\n",
       "      <td>2018-07-21</td>\n",
       "      <td>3</td>\n",
       "      <td>3</td>\n",
       "      <td>3</td>\n",
       "      <td>5</td>\n",
       "      <td>4</td>\n",
       "      <td>8.00</td>\n",
       "      <td>4</td>\n",
       "      <td>0</td>\n",
       "      <td>0</td>\n",
       "      <td>0</td>\n",
       "      <td>3</td>\n",
       "      <td>100</td>\n",
       "    </tr>\n",
       "    <tr>\n",
       "      <th>3</th>\n",
       "      <td>2018-07-21</td>\n",
       "      <td>4</td>\n",
       "      <td>2</td>\n",
       "      <td>3</td>\n",
       "      <td>5</td>\n",
       "      <td>4</td>\n",
       "      <td>6.50</td>\n",
       "      <td>1</td>\n",
       "      <td>0</td>\n",
       "      <td>0</td>\n",
       "      <td>1</td>\n",
       "      <td>3</td>\n",
       "      <td>95</td>\n",
       "    </tr>\n",
       "    <tr>\n",
       "      <th>4</th>\n",
       "      <td>2018-07-21</td>\n",
       "      <td>5</td>\n",
       "      <td>5</td>\n",
       "      <td>3</td>\n",
       "      <td>4</td>\n",
       "      <td>4</td>\n",
       "      <td>7.25</td>\n",
       "      <td>4</td>\n",
       "      <td>0</td>\n",
       "      <td>0</td>\n",
       "      <td>0</td>\n",
       "      <td>2</td>\n",
       "      <td>100</td>\n",
       "    </tr>\n",
       "  </tbody>\n",
       "</table>\n",
       "</div>"
      ],
      "text/plain": [
       "         Date  PlayerID  Fatigue  Soreness  Desire  Irritability  SleepHours  \\\n",
       "0  2018-07-21         1        3         3       2             3        8.00   \n",
       "1  2018-07-21         2        4         3       4             4        8.00   \n",
       "2  2018-07-21         3        3         3       5             4        8.00   \n",
       "3  2018-07-21         4        2         3       5             4        6.50   \n",
       "4  2018-07-21         5        5         3       4             4        7.25   \n",
       "\n",
       "   SleepQuality  Pain  Illness  Menstruation  Nutrition  TrainingReadiness  \n",
       "0             2     0        0             1          3                  0  \n",
       "1             4     1        0             1          2                  0  \n",
       "2             4     0        0             0          3                100  \n",
       "3             1     0        0             1          3                 95  \n",
       "4             4     0        0             0          2                100  "
      ]
     },
     "execution_count": 34,
     "metadata": {},
     "output_type": "execute_result"
    }
   ],
   "source": [
    "wellness_df['TrainingReadiness'] = wellness_df.apply(lambda row: int(row['TrainingReadiness'][0:-1]), axis=1)\n",
    "wellness_df.head()\n"
   ]
  },
  {
   "cell_type": "code",
   "execution_count": 35,
   "metadata": {},
   "outputs": [
    {
     "data": {
      "text/plain": [
       "(4995, 13)"
      ]
     },
     "execution_count": 35,
     "metadata": {},
     "output_type": "execute_result"
    }
   ],
   "source": [
    "wellness_df.shape"
   ]
  },
  {
   "cell_type": "markdown",
   "metadata": {},
   "source": [
    "After all my cleaning, I am left with 4995 observations and 11 observed variables for factor analysis (date and player id are not useful in this case."
   ]
  },
  {
   "cell_type": "markdown",
   "metadata": {},
   "source": [
    "## Factor Analysis"
   ]
  },
  {
   "cell_type": "code",
   "execution_count": 36,
   "metadata": {},
   "outputs": [
    {
     "data": {
      "text/html": [
       "<div>\n",
       "<style scoped>\n",
       "    .dataframe tbody tr th:only-of-type {\n",
       "        vertical-align: middle;\n",
       "    }\n",
       "\n",
       "    .dataframe tbody tr th {\n",
       "        vertical-align: top;\n",
       "    }\n",
       "\n",
       "    .dataframe thead th {\n",
       "        text-align: right;\n",
       "    }\n",
       "</style>\n",
       "<table border=\"1\" class=\"dataframe\">\n",
       "  <thead>\n",
       "    <tr style=\"text-align: right;\">\n",
       "      <th></th>\n",
       "      <th>Date</th>\n",
       "      <th>PlayerID</th>\n",
       "      <th>Fatigue</th>\n",
       "      <th>Soreness</th>\n",
       "      <th>Desire</th>\n",
       "      <th>Irritability</th>\n",
       "      <th>SleepHours</th>\n",
       "      <th>SleepQuality</th>\n",
       "      <th>Pain</th>\n",
       "      <th>Illness</th>\n",
       "      <th>Menstruation</th>\n",
       "      <th>Nutrition</th>\n",
       "      <th>TrainingReadiness</th>\n",
       "    </tr>\n",
       "  </thead>\n",
       "  <tbody>\n",
       "    <tr>\n",
       "      <th>0</th>\n",
       "      <td>2018-07-21</td>\n",
       "      <td>1</td>\n",
       "      <td>3</td>\n",
       "      <td>3</td>\n",
       "      <td>2</td>\n",
       "      <td>3</td>\n",
       "      <td>8.00</td>\n",
       "      <td>2</td>\n",
       "      <td>0</td>\n",
       "      <td>0</td>\n",
       "      <td>1</td>\n",
       "      <td>3</td>\n",
       "      <td>0</td>\n",
       "    </tr>\n",
       "    <tr>\n",
       "      <th>1</th>\n",
       "      <td>2018-07-21</td>\n",
       "      <td>2</td>\n",
       "      <td>4</td>\n",
       "      <td>3</td>\n",
       "      <td>4</td>\n",
       "      <td>4</td>\n",
       "      <td>8.00</td>\n",
       "      <td>4</td>\n",
       "      <td>1</td>\n",
       "      <td>0</td>\n",
       "      <td>1</td>\n",
       "      <td>2</td>\n",
       "      <td>0</td>\n",
       "    </tr>\n",
       "    <tr>\n",
       "      <th>2</th>\n",
       "      <td>2018-07-21</td>\n",
       "      <td>3</td>\n",
       "      <td>3</td>\n",
       "      <td>3</td>\n",
       "      <td>5</td>\n",
       "      <td>4</td>\n",
       "      <td>8.00</td>\n",
       "      <td>4</td>\n",
       "      <td>0</td>\n",
       "      <td>0</td>\n",
       "      <td>0</td>\n",
       "      <td>3</td>\n",
       "      <td>100</td>\n",
       "    </tr>\n",
       "    <tr>\n",
       "      <th>3</th>\n",
       "      <td>2018-07-21</td>\n",
       "      <td>4</td>\n",
       "      <td>2</td>\n",
       "      <td>3</td>\n",
       "      <td>5</td>\n",
       "      <td>4</td>\n",
       "      <td>6.50</td>\n",
       "      <td>1</td>\n",
       "      <td>0</td>\n",
       "      <td>0</td>\n",
       "      <td>1</td>\n",
       "      <td>3</td>\n",
       "      <td>95</td>\n",
       "    </tr>\n",
       "    <tr>\n",
       "      <th>4</th>\n",
       "      <td>2018-07-21</td>\n",
       "      <td>5</td>\n",
       "      <td>5</td>\n",
       "      <td>3</td>\n",
       "      <td>4</td>\n",
       "      <td>4</td>\n",
       "      <td>7.25</td>\n",
       "      <td>4</td>\n",
       "      <td>0</td>\n",
       "      <td>0</td>\n",
       "      <td>0</td>\n",
       "      <td>2</td>\n",
       "      <td>100</td>\n",
       "    </tr>\n",
       "  </tbody>\n",
       "</table>\n",
       "</div>"
      ],
      "text/plain": [
       "         Date  PlayerID  Fatigue  Soreness  Desire  Irritability  SleepHours  \\\n",
       "0  2018-07-21         1        3         3       2             3        8.00   \n",
       "1  2018-07-21         2        4         3       4             4        8.00   \n",
       "2  2018-07-21         3        3         3       5             4        8.00   \n",
       "3  2018-07-21         4        2         3       5             4        6.50   \n",
       "4  2018-07-21         5        5         3       4             4        7.25   \n",
       "\n",
       "   SleepQuality  Pain  Illness  Menstruation  Nutrition  TrainingReadiness  \n",
       "0             2     0        0             1          3                  0  \n",
       "1             4     1        0             1          2                  0  \n",
       "2             4     0        0             0          3                100  \n",
       "3             1     0        0             1          3                 95  \n",
       "4             4     0        0             0          2                100  "
      ]
     },
     "execution_count": 36,
     "metadata": {},
     "output_type": "execute_result"
    }
   ],
   "source": [
    "wellness_df.head()"
   ]
  },
  {
   "cell_type": "markdown",
   "metadata": {},
   "source": [
    "### Averaging Over Different Dates"
   ]
  },
  {
   "cell_type": "markdown",
   "metadata": {},
   "source": [
    "We cannot perform factor analysis using data gathered at different dates. So for each player, we need to average all their values. In doing so, we can interpret most columns as \"Average X\", i.e. \"Average Sleep Hours\". However, we cannot do this for the binary categorical columns. We could instead interpret these as probabilities, i.e., probability of being Ill."
   ]
  },
  {
   "cell_type": "markdown",
   "metadata": {},
   "source": [
    "#### Question:"
   ]
  },
  {
   "cell_type": "markdown",
   "metadata": {},
   "source": [
    "Why is this? Is it because the observations for a given individual will not be independent over many different days?"
   ]
  },
  {
   "cell_type": "code",
   "execution_count": 37,
   "metadata": {},
   "outputs": [
    {
     "data": {
      "text/html": [
       "<div>\n",
       "<style scoped>\n",
       "    .dataframe tbody tr th:only-of-type {\n",
       "        vertical-align: middle;\n",
       "    }\n",
       "\n",
       "    .dataframe tbody tr th {\n",
       "        vertical-align: top;\n",
       "    }\n",
       "\n",
       "    .dataframe thead th {\n",
       "        text-align: right;\n",
       "    }\n",
       "</style>\n",
       "<table border=\"1\" class=\"dataframe\">\n",
       "  <thead>\n",
       "    <tr style=\"text-align: right;\">\n",
       "      <th></th>\n",
       "      <th>PlayerID</th>\n",
       "      <th>Fatigue</th>\n",
       "      <th>Soreness</th>\n",
       "      <th>Desire</th>\n",
       "      <th>Irritability</th>\n",
       "      <th>SleepHours</th>\n",
       "      <th>SleepQuality</th>\n",
       "      <th>Pain</th>\n",
       "      <th>Illness</th>\n",
       "      <th>Menstruation</th>\n",
       "      <th>Nutrition</th>\n",
       "      <th>TrainingReadiness</th>\n",
       "    </tr>\n",
       "  </thead>\n",
       "  <tbody>\n",
       "    <tr>\n",
       "      <th>0</th>\n",
       "      <td>1</td>\n",
       "      <td>2.671924</td>\n",
       "      <td>3.302839</td>\n",
       "      <td>2.479495</td>\n",
       "      <td>3.936909</td>\n",
       "      <td>8.715300</td>\n",
       "      <td>3.611987</td>\n",
       "      <td>0.025237</td>\n",
       "      <td>0.151420</td>\n",
       "      <td>0.157729</td>\n",
       "      <td>2.917981</td>\n",
       "      <td>21.435331</td>\n",
       "    </tr>\n",
       "    <tr>\n",
       "      <th>1</th>\n",
       "      <td>2</td>\n",
       "      <td>3.779762</td>\n",
       "      <td>3.276786</td>\n",
       "      <td>4.113095</td>\n",
       "      <td>4.151786</td>\n",
       "      <td>9.053571</td>\n",
       "      <td>4.122024</td>\n",
       "      <td>0.205357</td>\n",
       "      <td>0.044643</td>\n",
       "      <td>0.187500</td>\n",
       "      <td>2.604167</td>\n",
       "      <td>11.651786</td>\n",
       "    </tr>\n",
       "    <tr>\n",
       "      <th>2</th>\n",
       "      <td>3</td>\n",
       "      <td>3.350725</td>\n",
       "      <td>3.176812</td>\n",
       "      <td>3.455072</td>\n",
       "      <td>3.979710</td>\n",
       "      <td>7.879710</td>\n",
       "      <td>3.913043</td>\n",
       "      <td>0.026087</td>\n",
       "      <td>0.000000</td>\n",
       "      <td>0.118841</td>\n",
       "      <td>2.982609</td>\n",
       "      <td>98.115942</td>\n",
       "    </tr>\n",
       "    <tr>\n",
       "      <th>3</th>\n",
       "      <td>4</td>\n",
       "      <td>3.305195</td>\n",
       "      <td>3.542208</td>\n",
       "      <td>3.935065</td>\n",
       "      <td>3.668831</td>\n",
       "      <td>8.266234</td>\n",
       "      <td>2.954545</td>\n",
       "      <td>0.006494</td>\n",
       "      <td>0.016234</td>\n",
       "      <td>0.146104</td>\n",
       "      <td>2.928571</td>\n",
       "      <td>66.996753</td>\n",
       "    </tr>\n",
       "    <tr>\n",
       "      <th>4</th>\n",
       "      <td>5</td>\n",
       "      <td>3.803089</td>\n",
       "      <td>3.814672</td>\n",
       "      <td>4.324324</td>\n",
       "      <td>3.965251</td>\n",
       "      <td>7.925676</td>\n",
       "      <td>3.841699</td>\n",
       "      <td>0.316602</td>\n",
       "      <td>0.254826</td>\n",
       "      <td>0.111969</td>\n",
       "      <td>2.042471</td>\n",
       "      <td>65.637066</td>\n",
       "    </tr>\n",
       "  </tbody>\n",
       "</table>\n",
       "</div>"
      ],
      "text/plain": [
       "   PlayerID   Fatigue  Soreness    Desire  Irritability  SleepHours  \\\n",
       "0         1  2.671924  3.302839  2.479495      3.936909    8.715300   \n",
       "1         2  3.779762  3.276786  4.113095      4.151786    9.053571   \n",
       "2         3  3.350725  3.176812  3.455072      3.979710    7.879710   \n",
       "3         4  3.305195  3.542208  3.935065      3.668831    8.266234   \n",
       "4         5  3.803089  3.814672  4.324324      3.965251    7.925676   \n",
       "\n",
       "   SleepQuality      Pain   Illness  Menstruation  Nutrition  \\\n",
       "0      3.611987  0.025237  0.151420      0.157729   2.917981   \n",
       "1      4.122024  0.205357  0.044643      0.187500   2.604167   \n",
       "2      3.913043  0.026087  0.000000      0.118841   2.982609   \n",
       "3      2.954545  0.006494  0.016234      0.146104   2.928571   \n",
       "4      3.841699  0.316602  0.254826      0.111969   2.042471   \n",
       "\n",
       "   TrainingReadiness  \n",
       "0          21.435331  \n",
       "1          11.651786  \n",
       "2          98.115942  \n",
       "3          66.996753  \n",
       "4          65.637066  "
      ]
     },
     "execution_count": 37,
     "metadata": {},
     "output_type": "execute_result"
    }
   ],
   "source": [
    "wellness_df = wellness_df.drop(columns=['Date'])\n",
    "full_wellness_df = wellness_df # Save full df for later\n",
    "wellness_df = wellness_df.groupby('PlayerID',as_index = False).mean()\n",
    "wellness_df.head()\n"
   ]
  },
  {
   "cell_type": "markdown",
   "metadata": {},
   "source": [
    "Now that we have averaged over all the days for each player, we can drop the player id column."
   ]
  },
  {
   "cell_type": "code",
   "execution_count": 38,
   "metadata": {},
   "outputs": [],
   "source": [
    "wellness_df = wellness_df.drop(columns=['PlayerID'])\n"
   ]
  },
  {
   "cell_type": "code",
   "execution_count": 39,
   "metadata": {},
   "outputs": [
    {
     "data": {
      "text/plain": [
       "(17, 11)"
      ]
     },
     "execution_count": 39,
     "metadata": {},
     "output_type": "execute_result"
    }
   ],
   "source": [
    "wellness_df.shape"
   ]
  },
  {
   "cell_type": "markdown",
   "metadata": {},
   "source": [
    "We see that we have averaged over the 17 players in the dataset"
   ]
  },
  {
   "cell_type": "markdown",
   "metadata": {},
   "source": [
    "### Adequacy Tests"
   ]
  },
  {
   "cell_type": "markdown",
   "metadata": {},
   "source": [
    "Before we perform any partiular tests for suitability, we should make sure there are not any columns that are correlated in our dataset."
   ]
  },
  {
   "cell_type": "code",
   "execution_count": 40,
   "metadata": {},
   "outputs": [
    {
     "data": {
      "text/html": [
       "<div>\n",
       "<style scoped>\n",
       "    .dataframe tbody tr th:only-of-type {\n",
       "        vertical-align: middle;\n",
       "    }\n",
       "\n",
       "    .dataframe tbody tr th {\n",
       "        vertical-align: top;\n",
       "    }\n",
       "\n",
       "    .dataframe thead th {\n",
       "        text-align: right;\n",
       "    }\n",
       "</style>\n",
       "<table border=\"1\" class=\"dataframe\">\n",
       "  <thead>\n",
       "    <tr style=\"text-align: right;\">\n",
       "      <th></th>\n",
       "      <th>Fatigue</th>\n",
       "      <th>Soreness</th>\n",
       "      <th>Desire</th>\n",
       "      <th>Irritability</th>\n",
       "      <th>SleepHours</th>\n",
       "      <th>SleepQuality</th>\n",
       "      <th>Pain</th>\n",
       "      <th>Illness</th>\n",
       "      <th>Menstruation</th>\n",
       "      <th>Nutrition</th>\n",
       "      <th>TrainingReadiness</th>\n",
       "    </tr>\n",
       "  </thead>\n",
       "  <tbody>\n",
       "    <tr>\n",
       "      <th>Fatigue</th>\n",
       "      <td>1.000000</td>\n",
       "      <td>0.864415</td>\n",
       "      <td>0.839981</td>\n",
       "      <td>0.872072</td>\n",
       "      <td>0.197166</td>\n",
       "      <td>0.793575</td>\n",
       "      <td>-0.149257</td>\n",
       "      <td>-0.168557</td>\n",
       "      <td>-0.350946</td>\n",
       "      <td>-0.321631</td>\n",
       "      <td>0.057665</td>\n",
       "    </tr>\n",
       "    <tr>\n",
       "      <th>Soreness</th>\n",
       "      <td>0.864415</td>\n",
       "      <td>1.000000</td>\n",
       "      <td>0.661108</td>\n",
       "      <td>0.805039</td>\n",
       "      <td>0.057078</td>\n",
       "      <td>0.681841</td>\n",
       "      <td>-0.168149</td>\n",
       "      <td>-0.179042</td>\n",
       "      <td>-0.177611</td>\n",
       "      <td>-0.404306</td>\n",
       "      <td>-0.101565</td>\n",
       "    </tr>\n",
       "    <tr>\n",
       "      <th>Desire</th>\n",
       "      <td>0.839981</td>\n",
       "      <td>0.661108</td>\n",
       "      <td>1.000000</td>\n",
       "      <td>0.580191</td>\n",
       "      <td>0.238104</td>\n",
       "      <td>0.592546</td>\n",
       "      <td>0.020143</td>\n",
       "      <td>-0.176135</td>\n",
       "      <td>-0.281295</td>\n",
       "      <td>-0.372534</td>\n",
       "      <td>0.229256</td>\n",
       "    </tr>\n",
       "    <tr>\n",
       "      <th>Irritability</th>\n",
       "      <td>0.872072</td>\n",
       "      <td>0.805039</td>\n",
       "      <td>0.580191</td>\n",
       "      <td>1.000000</td>\n",
       "      <td>0.198796</td>\n",
       "      <td>0.807746</td>\n",
       "      <td>-0.055961</td>\n",
       "      <td>0.045648</td>\n",
       "      <td>-0.275293</td>\n",
       "      <td>-0.205824</td>\n",
       "      <td>-0.082904</td>\n",
       "    </tr>\n",
       "    <tr>\n",
       "      <th>SleepHours</th>\n",
       "      <td>0.197166</td>\n",
       "      <td>0.057078</td>\n",
       "      <td>0.238104</td>\n",
       "      <td>0.198796</td>\n",
       "      <td>1.000000</td>\n",
       "      <td>0.401260</td>\n",
       "      <td>-0.297852</td>\n",
       "      <td>-0.357908</td>\n",
       "      <td>-0.025995</td>\n",
       "      <td>0.035310</td>\n",
       "      <td>0.007867</td>\n",
       "    </tr>\n",
       "    <tr>\n",
       "      <th>SleepQuality</th>\n",
       "      <td>0.793575</td>\n",
       "      <td>0.681841</td>\n",
       "      <td>0.592546</td>\n",
       "      <td>0.807746</td>\n",
       "      <td>0.401260</td>\n",
       "      <td>1.000000</td>\n",
       "      <td>-0.302088</td>\n",
       "      <td>-0.277461</td>\n",
       "      <td>-0.335666</td>\n",
       "      <td>-0.054723</td>\n",
       "      <td>0.035654</td>\n",
       "    </tr>\n",
       "    <tr>\n",
       "      <th>Pain</th>\n",
       "      <td>-0.149257</td>\n",
       "      <td>-0.168149</td>\n",
       "      <td>0.020143</td>\n",
       "      <td>-0.055961</td>\n",
       "      <td>-0.297852</td>\n",
       "      <td>-0.302088</td>\n",
       "      <td>1.000000</td>\n",
       "      <td>0.739189</td>\n",
       "      <td>0.220786</td>\n",
       "      <td>-0.282712</td>\n",
       "      <td>-0.174203</td>\n",
       "    </tr>\n",
       "    <tr>\n",
       "      <th>Illness</th>\n",
       "      <td>-0.168557</td>\n",
       "      <td>-0.179042</td>\n",
       "      <td>-0.176135</td>\n",
       "      <td>0.045648</td>\n",
       "      <td>-0.357908</td>\n",
       "      <td>-0.277461</td>\n",
       "      <td>0.739189</td>\n",
       "      <td>1.000000</td>\n",
       "      <td>0.018446</td>\n",
       "      <td>-0.195579</td>\n",
       "      <td>-0.074957</td>\n",
       "    </tr>\n",
       "    <tr>\n",
       "      <th>Menstruation</th>\n",
       "      <td>-0.350946</td>\n",
       "      <td>-0.177611</td>\n",
       "      <td>-0.281295</td>\n",
       "      <td>-0.275293</td>\n",
       "      <td>-0.025995</td>\n",
       "      <td>-0.335666</td>\n",
       "      <td>0.220786</td>\n",
       "      <td>0.018446</td>\n",
       "      <td>1.000000</td>\n",
       "      <td>-0.278098</td>\n",
       "      <td>-0.172369</td>\n",
       "    </tr>\n",
       "    <tr>\n",
       "      <th>Nutrition</th>\n",
       "      <td>-0.321631</td>\n",
       "      <td>-0.404306</td>\n",
       "      <td>-0.372534</td>\n",
       "      <td>-0.205824</td>\n",
       "      <td>0.035310</td>\n",
       "      <td>-0.054723</td>\n",
       "      <td>-0.282712</td>\n",
       "      <td>-0.195579</td>\n",
       "      <td>-0.278098</td>\n",
       "      <td>1.000000</td>\n",
       "      <td>0.085942</td>\n",
       "    </tr>\n",
       "    <tr>\n",
       "      <th>TrainingReadiness</th>\n",
       "      <td>0.057665</td>\n",
       "      <td>-0.101565</td>\n",
       "      <td>0.229256</td>\n",
       "      <td>-0.082904</td>\n",
       "      <td>0.007867</td>\n",
       "      <td>0.035654</td>\n",
       "      <td>-0.174203</td>\n",
       "      <td>-0.074957</td>\n",
       "      <td>-0.172369</td>\n",
       "      <td>0.085942</td>\n",
       "      <td>1.000000</td>\n",
       "    </tr>\n",
       "  </tbody>\n",
       "</table>\n",
       "</div>"
      ],
      "text/plain": [
       "                    Fatigue  Soreness    Desire  Irritability  SleepHours  \\\n",
       "Fatigue            1.000000  0.864415  0.839981      0.872072    0.197166   \n",
       "Soreness           0.864415  1.000000  0.661108      0.805039    0.057078   \n",
       "Desire             0.839981  0.661108  1.000000      0.580191    0.238104   \n",
       "Irritability       0.872072  0.805039  0.580191      1.000000    0.198796   \n",
       "SleepHours         0.197166  0.057078  0.238104      0.198796    1.000000   \n",
       "SleepQuality       0.793575  0.681841  0.592546      0.807746    0.401260   \n",
       "Pain              -0.149257 -0.168149  0.020143     -0.055961   -0.297852   \n",
       "Illness           -0.168557 -0.179042 -0.176135      0.045648   -0.357908   \n",
       "Menstruation      -0.350946 -0.177611 -0.281295     -0.275293   -0.025995   \n",
       "Nutrition         -0.321631 -0.404306 -0.372534     -0.205824    0.035310   \n",
       "TrainingReadiness  0.057665 -0.101565  0.229256     -0.082904    0.007867   \n",
       "\n",
       "                   SleepQuality      Pain   Illness  Menstruation  Nutrition  \\\n",
       "Fatigue                0.793575 -0.149257 -0.168557     -0.350946  -0.321631   \n",
       "Soreness               0.681841 -0.168149 -0.179042     -0.177611  -0.404306   \n",
       "Desire                 0.592546  0.020143 -0.176135     -0.281295  -0.372534   \n",
       "Irritability           0.807746 -0.055961  0.045648     -0.275293  -0.205824   \n",
       "SleepHours             0.401260 -0.297852 -0.357908     -0.025995   0.035310   \n",
       "SleepQuality           1.000000 -0.302088 -0.277461     -0.335666  -0.054723   \n",
       "Pain                  -0.302088  1.000000  0.739189      0.220786  -0.282712   \n",
       "Illness               -0.277461  0.739189  1.000000      0.018446  -0.195579   \n",
       "Menstruation          -0.335666  0.220786  0.018446      1.000000  -0.278098   \n",
       "Nutrition             -0.054723 -0.282712 -0.195579     -0.278098   1.000000   \n",
       "TrainingReadiness      0.035654 -0.174203 -0.074957     -0.172369   0.085942   \n",
       "\n",
       "                   TrainingReadiness  \n",
       "Fatigue                     0.057665  \n",
       "Soreness                   -0.101565  \n",
       "Desire                      0.229256  \n",
       "Irritability               -0.082904  \n",
       "SleepHours                  0.007867  \n",
       "SleepQuality                0.035654  \n",
       "Pain                       -0.174203  \n",
       "Illness                    -0.074957  \n",
       "Menstruation               -0.172369  \n",
       "Nutrition                   0.085942  \n",
       "TrainingReadiness           1.000000  "
      ]
     },
     "execution_count": 40,
     "metadata": {},
     "output_type": "execute_result"
    }
   ],
   "source": [
    "wellness_df.corr()"
   ]
  },
  {
   "cell_type": "markdown",
   "metadata": {},
   "source": [
    "#### A note on correlation"
   ]
  },
  {
   "cell_type": "markdown",
   "metadata": {},
   "source": [
    "Remember that we are just trying to make sure we do not have perfect multicollinearity here. Even if observations have high correlation with eachother, we are just trying to make sure there are no ones in the correlation matrix."
   ]
  },
  {
   "cell_type": "code",
   "execution_count": 41,
   "metadata": {},
   "outputs": [
    {
     "data": {
      "text/plain": [
       "(-0.05596149426979927, 0.8310724465048328)"
      ]
     },
     "execution_count": 41,
     "metadata": {},
     "output_type": "execute_result"
    }
   ],
   "source": [
    "r, p = pointbiserialr(wellness_df['Pain'], wellness_df['Irritability'])\n",
    "r, p"
   ]
  },
  {
   "cell_type": "markdown",
   "metadata": {},
   "source": [
    "There are two tests we can perform to see if a dataset is suitable for factor analysis."
   ]
  },
  {
   "cell_type": "markdown",
   "metadata": {},
   "source": [
    "#### Bartlett’s Test"
   ]
  },
  {
   "cell_type": "markdown",
   "metadata": {},
   "source": [
    "This test makes sure the observed variable are correlated. It tests if the observed correlation matrix is statistically different from the identity matrix (ie, are all correlations between observations 0). A significant result means we have correlation between the observations."
   ]
  },
  {
   "cell_type": "code",
   "execution_count": 42,
   "metadata": {},
   "outputs": [
    {
     "data": {
      "text/plain": [
       "(115.20872222068972, 1.0339287018058485e-06)"
      ]
     },
     "execution_count": 42,
     "metadata": {},
     "output_type": "execute_result"
    }
   ],
   "source": [
    "chi_square_value,p_value = calculate_bartlett_sphericity(wellness_df)\n",
    "chi_square_value, p_value\n"
   ]
  },
  {
   "cell_type": "markdown",
   "metadata": {},
   "source": [
    "#### Kaiser-Meyer-Olkin Test"
   ]
  },
  {
   "cell_type": "markdown",
   "metadata": {},
   "source": [
    "TODO: Better description of test... We are looking for an overall value larger than 0.6 for the entire model."
   ]
  },
  {
   "cell_type": "code",
   "execution_count": 43,
   "metadata": {},
   "outputs": [
    {
     "data": {
      "text/plain": [
       "(array([0.67481127, 0.80216818, 0.57558427, 0.60719751, 0.40084007,\n",
       "        0.88543428, 0.43685993, 0.42295334, 0.48276731, 0.47488962,\n",
       "        0.21083612]), 0.6068514939086366)"
      ]
     },
     "execution_count": 43,
     "metadata": {},
     "output_type": "execute_result"
    }
   ],
   "source": [
    "kmo_all,kmo_model=calculate_kmo(wellness_df)\n",
    "kmo_all, kmo_model\n"
   ]
  },
  {
   "cell_type": "markdown",
   "metadata": {},
   "source": [
    "The data just barely passes the KMO test but passes Bartlett's test by a large margin.\n",
    "\n",
    "From the perspective of the KMO test, training readiness is the least adequate of all observations."
   ]
  },
  {
   "cell_type": "markdown",
   "metadata": {},
   "source": [
    "### Choosing the Number of Factors"
   ]
  },
  {
   "cell_type": "code",
   "execution_count": 44,
   "metadata": {},
   "outputs": [
    {
     "data": {
      "image/png": "[encoded data removed]",
      "text/plain": [
       "<Figure size 432x288 with 1 Axes>"
      ]
     },
     "metadata": {
      "needs_background": "light"
     },
     "output_type": "display_data"
    }
   ],
   "source": [
    "factor_number_tester = FactorAnalyzer(n_factors=10, rotation=None) # Using number of factors = number of columns\n",
    "factor_number_tester.fit(wellness_df) \n",
    "ev, v = factor_number_tester.get_eigenvalues()\n",
    "\n",
    "plt.scatter(range(1,wellness_df.shape[1]+1),ev)\n",
    "plt.plot(range(1,wellness_df.shape[1]+1),ev)\n",
    "plt.title('Scree Plot')\n",
    "plt.xlabel('Factors')\n",
    "plt.ylabel('Eigenvalue')\n",
    "plt.grid()\n",
    "plt.show()\n"
   ]
  },
  {
   "cell_type": "markdown",
   "metadata": {},
   "source": [
    "It seems like the elbow forms at the second factor so I will use 2 factors for my analysis."
   ]
  },
  {
   "cell_type": "markdown",
   "metadata": {},
   "source": [
    "### Perform Factor Analysis"
   ]
  },
  {
   "cell_type": "code",
   "execution_count": 45,
   "metadata": {},
   "outputs": [
    {
     "data": {
      "text/plain": [
       "['Fatigue',\n",
       " 'Soreness',\n",
       " 'Desire',\n",
       " 'Irritability',\n",
       " 'SleepHours',\n",
       " 'SleepQuality',\n",
       " 'Pain',\n",
       " 'Illness',\n",
       " 'Menstruation',\n",
       " 'Nutrition',\n",
       " 'TrainingReadiness']"
      ]
     },
     "execution_count": 45,
     "metadata": {},
     "output_type": "execute_result"
    }
   ],
   "source": [
    "list(wellness_df.columns)"
   ]
  },
  {
   "cell_type": "code",
   "execution_count": 46,
   "metadata": {},
   "outputs": [
    {
     "data": {
      "text/plain": [
       "array([[ 0.9999637 , -0.10251951],\n",
       "       [ 0.86920184, -0.04298575],\n",
       "       [ 0.77620861, -0.03967186],\n",
       "       [ 0.88230361,  0.00343475],\n",
       "       [ 0.19913985, -0.36543125],\n",
       "       [ 0.79745379, -0.34152668],\n",
       "       [-0.0479715 ,  0.90952835],\n",
       "       [-0.07961548,  0.75297746],\n",
       "       [-0.26741873,  0.21511906],\n",
       "       [-0.34040989, -0.36852136],\n",
       "       [ 0.01120741, -0.16488903]])"
      ]
     },
     "execution_count": 46,
     "metadata": {},
     "output_type": "execute_result"
    }
   ],
   "source": [
    "fa = FactorAnalyzer(n_factors=2, rotation='varimax')\n",
    "\n",
    "fa.fit(wellness_df)\n",
    "fa.loadings_\n"
   ]
  },
  {
   "cell_type": "markdown",
   "metadata": {},
   "source": [
    "The rule of thumb for seeing if a observation is related to a factor is a loading of `0.7` or higher."
   ]
  },
  {
   "cell_type": "markdown",
   "metadata": {},
   "source": [
    "From this we see that `Fatigue`, `Soreness`, `Desire`, `Irritability`, and `SleepQuality` all relate to the first factor. This is interesting because these are the observations that made up the Monitor Score. We can see this as subjective wellness as they are all self reported values.\n",
    "\n",
    "The second is related to Pain and Illness. We can see this as objective wellness."
   ]
  },
  {
   "cell_type": "code",
   "execution_count": 47,
   "metadata": {},
   "outputs": [
    {
     "data": {
      "text/plain": [
       "(array([4.00814512, 1.86761362]),\n",
       " array([0.36437683, 0.16978306]),\n",
       " array([0.36437683, 0.53415989]))"
      ]
     },
     "execution_count": 47,
     "metadata": {},
     "output_type": "execute_result"
    }
   ],
   "source": [
    "fa.get_factor_variance()"
   ]
  },
  {
   "cell_type": "markdown",
   "metadata": {},
   "source": [
    "This 2 factor model explains `56.5%` of the variance which is adequate."
   ]
  },
  {
   "cell_type": "markdown",
   "metadata": {},
   "source": [
    "#### Try 3 Factors"
   ]
  },
  {
   "cell_type": "markdown",
   "metadata": {},
   "source": [
    "Some would say that the elbow of the scree plot occurs at the 3rd factor. Just to make sure I should not be using 3 factors, let's see what happens when I do."
   ]
  },
  {
   "cell_type": "code",
   "execution_count": 58,
   "metadata": {},
   "outputs": [
    {
     "data": {
      "text/plain": [
       "array([[ 0.9706043 , -0.09419305, -0.02948021],\n",
       "       [ 0.84930351, -0.10012738, -0.20230247],\n",
       "       [ 0.75939297, -0.08763359, -0.12369022],\n",
       "       [ 0.90240411,  0.07613953,  0.14222811],\n",
       "       [ 0.24974446, -0.38062594,  0.16397496],\n",
       "       [ 0.85330554, -0.26310962,  0.3151894 ],\n",
       "       [-0.06420744,  0.72446597, -0.240941  ],\n",
       "       [-0.0502522 ,  0.99814272,  0.05555116],\n",
       "       [-0.27912932,  0.0413893 , -0.41509438],\n",
       "       [-0.35669827, -0.20134047,  0.69557326],\n",
       "       [ 0.00921157, -0.10794354,  0.11422761],\n",
       "       [ 0.80544605, -0.35822998,  0.31562351]])"
      ]
     },
     "execution_count": 58,
     "metadata": {},
     "output_type": "execute_result"
    }
   ],
   "source": [
    "fa_alt = FactorAnalyzer(n_factors=3, rotation='varimax')\n",
    "\n",
    "fa_alt.fit(wellness_df)\n",
    "fa_alt.loadings_\n"
   ]
  },
  {
   "cell_type": "code",
   "execution_count": 49,
   "metadata": {},
   "outputs": [
    {
     "data": {
      "text/plain": [
       "(array([4.01599339, 1.81165138, 1.03119366]),\n",
       " array([0.36509031, 0.16469558, 0.09374488]),\n",
       " array([0.36509031, 0.52978589, 0.62353077]))"
      ]
     },
     "execution_count": 49,
     "metadata": {},
     "output_type": "execute_result"
    }
   ],
   "source": [
    "fa_alt.get_factor_variance()\n"
   ]
  },
  {
   "cell_type": "markdown",
   "metadata": {},
   "source": [
    "The interpretation of the first two factors has not changed while the last factor is related to Nutrition. Given that the 3 factor model explains a higher proportion of the variance in the data compared to the 2 factor model, we could use this model instead."
   ]
  },
  {
   "cell_type": "markdown",
   "metadata": {},
   "source": [
    "## Alternative Measure For Sleep"
   ]
  },
  {
   "cell_type": "markdown",
   "metadata": {},
   "source": [
    "We want to see if we should combine sleep into one measure by multipliying the quality and duration to get a sleep score. We will run factor analysis on this new dataset and see if we get results that explain more of the variance than before."
   ]
  },
  {
   "cell_type": "code",
   "execution_count": 50,
   "metadata": {},
   "outputs": [
    {
     "data": {
      "text/html": [
       "<div>\n",
       "<style scoped>\n",
       "    .dataframe tbody tr th:only-of-type {\n",
       "        vertical-align: middle;\n",
       "    }\n",
       "\n",
       "    .dataframe tbody tr th {\n",
       "        vertical-align: top;\n",
       "    }\n",
       "\n",
       "    .dataframe thead th {\n",
       "        text-align: right;\n",
       "    }\n",
       "</style>\n",
       "<table border=\"1\" class=\"dataframe\">\n",
       "  <thead>\n",
       "    <tr style=\"text-align: right;\">\n",
       "      <th></th>\n",
       "      <th>Fatigue</th>\n",
       "      <th>Soreness</th>\n",
       "      <th>Desire</th>\n",
       "      <th>Irritability</th>\n",
       "      <th>Pain</th>\n",
       "      <th>Illness</th>\n",
       "      <th>Menstruation</th>\n",
       "      <th>Nutrition</th>\n",
       "      <th>TrainingReadiness</th>\n",
       "      <th>SleepScore</th>\n",
       "    </tr>\n",
       "  </thead>\n",
       "  <tbody>\n",
       "    <tr>\n",
       "      <th>0</th>\n",
       "      <td>2.671924</td>\n",
       "      <td>3.302839</td>\n",
       "      <td>2.479495</td>\n",
       "      <td>3.936909</td>\n",
       "      <td>0.025237</td>\n",
       "      <td>0.151420</td>\n",
       "      <td>0.157729</td>\n",
       "      <td>2.917981</td>\n",
       "      <td>21.435331</td>\n",
       "      <td>31.479552</td>\n",
       "    </tr>\n",
       "    <tr>\n",
       "      <th>1</th>\n",
       "      <td>3.779762</td>\n",
       "      <td>3.276786</td>\n",
       "      <td>4.113095</td>\n",
       "      <td>4.151786</td>\n",
       "      <td>0.205357</td>\n",
       "      <td>0.044643</td>\n",
       "      <td>0.187500</td>\n",
       "      <td>2.604167</td>\n",
       "      <td>11.651786</td>\n",
       "      <td>37.319037</td>\n",
       "    </tr>\n",
       "    <tr>\n",
       "      <th>2</th>\n",
       "      <td>3.350725</td>\n",
       "      <td>3.176812</td>\n",
       "      <td>3.455072</td>\n",
       "      <td>3.979710</td>\n",
       "      <td>0.026087</td>\n",
       "      <td>0.000000</td>\n",
       "      <td>0.118841</td>\n",
       "      <td>2.982609</td>\n",
       "      <td>98.115942</td>\n",
       "      <td>30.833648</td>\n",
       "    </tr>\n",
       "    <tr>\n",
       "      <th>3</th>\n",
       "      <td>3.305195</td>\n",
       "      <td>3.542208</td>\n",
       "      <td>3.935065</td>\n",
       "      <td>3.668831</td>\n",
       "      <td>0.006494</td>\n",
       "      <td>0.016234</td>\n",
       "      <td>0.146104</td>\n",
       "      <td>2.928571</td>\n",
       "      <td>66.996753</td>\n",
       "      <td>24.422963</td>\n",
       "    </tr>\n",
       "    <tr>\n",
       "      <th>4</th>\n",
       "      <td>3.803089</td>\n",
       "      <td>3.814672</td>\n",
       "      <td>4.324324</td>\n",
       "      <td>3.965251</td>\n",
       "      <td>0.316602</td>\n",
       "      <td>0.254826</td>\n",
       "      <td>0.111969</td>\n",
       "      <td>2.042471</td>\n",
       "      <td>65.637066</td>\n",
       "      <td>30.448059</td>\n",
       "    </tr>\n",
       "  </tbody>\n",
       "</table>\n",
       "</div>"
      ],
      "text/plain": [
       "    Fatigue  Soreness    Desire  Irritability      Pain   Illness  \\\n",
       "0  2.671924  3.302839  2.479495      3.936909  0.025237  0.151420   \n",
       "1  3.779762  3.276786  4.113095      4.151786  0.205357  0.044643   \n",
       "2  3.350725  3.176812  3.455072      3.979710  0.026087  0.000000   \n",
       "3  3.305195  3.542208  3.935065      3.668831  0.006494  0.016234   \n",
       "4  3.803089  3.814672  4.324324      3.965251  0.316602  0.254826   \n",
       "\n",
       "   Menstruation  Nutrition  TrainingReadiness  SleepScore  \n",
       "0      0.157729   2.917981          21.435331   31.479552  \n",
       "1      0.187500   2.604167          11.651786   37.319037  \n",
       "2      0.118841   2.982609          98.115942   30.833648  \n",
       "3      0.146104   2.928571          66.996753   24.422963  \n",
       "4      0.111969   2.042471          65.637066   30.448059  "
      ]
     },
     "execution_count": 50,
     "metadata": {},
     "output_type": "execute_result"
    }
   ],
   "source": [
    "wellness_df_alt = wellness_df\n",
    "wellness_df_alt['SleepScore'] = wellness_df_alt['SleepQuality'] * wellness_df_alt['SleepHours']\n",
    "wellness_df_alt = wellness_df_alt.drop(columns=['SleepQuality', 'SleepHours'])\n",
    "wellness_df_alt.head()\n"
   ]
  },
  {
   "cell_type": "markdown",
   "metadata": {},
   "source": [
    "### Choose Number of Factors "
   ]
  },
  {
   "cell_type": "code",
   "execution_count": 51,
   "metadata": {},
   "outputs": [
    {
     "data": {
      "image/png": "[encoded data removed]",
      "text/plain": [
       "<Figure size 432x288 with 1 Axes>"
      ]
     },
     "metadata": {
      "needs_background": "light"
     },
     "output_type": "display_data"
    }
   ],
   "source": [
    "factor_number_tester.fit(wellness_df_alt) \n",
    "ev, v = factor_number_tester.get_eigenvalues()\n",
    "\n",
    "plt.scatter(range(1,wellness_df_alt.shape[1]+1),ev)\n",
    "plt.plot(range(1,wellness_df_alt.shape[1]+1),ev)\n",
    "plt.title('Scree Plot')\n",
    "plt.xlabel('Factors')\n",
    "plt.ylabel('Eigenvalue')\n",
    "plt.grid()\n",
    "plt.show()\n"
   ]
  },
  {
   "cell_type": "markdown",
   "metadata": {},
   "source": [
    "Again, we see that we could use 2 or 3 factors."
   ]
  },
  {
   "cell_type": "markdown",
   "metadata": {},
   "source": [
    "### Run Factor Analysis"
   ]
  },
  {
   "cell_type": "code",
   "execution_count": 52,
   "metadata": {},
   "outputs": [
    {
     "data": {
      "text/plain": [
       "['Fatigue',\n",
       " 'Soreness',\n",
       " 'Desire',\n",
       " 'Irritability',\n",
       " 'Pain',\n",
       " 'Illness',\n",
       " 'Menstruation',\n",
       " 'Nutrition',\n",
       " 'TrainingReadiness',\n",
       " 'SleepScore']"
      ]
     },
     "execution_count": 52,
     "metadata": {},
     "output_type": "execute_result"
    }
   ],
   "source": [
    "list(wellness_df_alt.columns)\n"
   ]
  },
  {
   "cell_type": "code",
   "execution_count": 53,
   "metadata": {},
   "outputs": [
    {
     "data": {
      "text/plain": [
       "array([[ 1.00583542, -0.07244065],\n",
       "       [ 0.87283645, -0.03192377],\n",
       "       [ 0.78527152,  0.00240624],\n",
       "       [ 0.87393423,  0.03344984],\n",
       "       [-0.08164269,  0.9594943 ],\n",
       "       [-0.11443897,  0.70732145],\n",
       "       [-0.26972895,  0.2233289 ],\n",
       "       [-0.33221027, -0.38600497],\n",
       "       [ 0.01932225, -0.17260457],\n",
       "       [ 0.74184594, -0.32653745]])"
      ]
     },
     "execution_count": 53,
     "metadata": {},
     "output_type": "execute_result"
    }
   ],
   "source": [
    "fa_sleep_score = FactorAnalyzer(n_factors=2, rotation='varimax')\n",
    "\n",
    "fa_sleep_score.fit(wellness_df_alt)\n",
    "fa_sleep_score.loadings_\n"
   ]
  },
  {
   "cell_type": "code",
   "execution_count": 54,
   "metadata": {},
   "outputs": [
    {
     "data": {
      "text/plain": [
       "(array([3.90754866, 1.76361908]),\n",
       " array([0.39075487, 0.17636191]),\n",
       " array([0.39075487, 0.56711677]))"
      ]
     },
     "execution_count": 54,
     "metadata": {},
     "output_type": "execute_result"
    }
   ],
   "source": [
    "fa_sleep_score.get_factor_variance()"
   ]
  },
  {
   "cell_type": "markdown",
   "metadata": {},
   "source": [
    "### With 3 Factors"
   ]
  },
  {
   "cell_type": "code",
   "execution_count": 55,
   "metadata": {},
   "outputs": [
    {
     "data": {
      "text/plain": [
       "array([[ 1.00066868, -0.06680446,  0.06811551],\n",
       "       [ 0.87562849, -0.12196354, -0.14167111],\n",
       "       [ 0.77798555, -0.04834929, -0.03408108],\n",
       "       [ 0.88194739,  0.09837034,  0.12898608],\n",
       "       [-0.08240486,  0.71905273, -0.33231219],\n",
       "       [-0.08932429,  0.99591844, -0.05360116],\n",
       "       [-0.28900926, -0.01703651, -0.55840259],\n",
       "       [-0.37027166, -0.16346642,  0.68582938],\n",
       "       [ 0.0199315 , -0.08791182,  0.18612635],\n",
       "       [ 0.7367167 , -0.25536352,  0.23775412]])"
      ]
     },
     "execution_count": 55,
     "metadata": {},
     "output_type": "execute_result"
    }
   ],
   "source": [
    "fa_sleep_score_alt = FactorAnalyzer(n_factors=3, rotation='varimax')\n",
    "\n",
    "fa_sleep_score_alt.fit(wellness_df_alt)\n",
    "fa_sleep_score_alt.loadings_\n"
   ]
  },
  {
   "cell_type": "code",
   "execution_count": 56,
   "metadata": {},
   "outputs": [
    {
     "data": {
      "text/plain": [
       "(array([3.92970137, 1.6401932 , 1.02915925]),\n",
       " array([0.39297014, 0.16401932, 0.10291593]),\n",
       " array([0.39297014, 0.55698946, 0.65990538]))"
      ]
     },
     "execution_count": 56,
     "metadata": {},
     "output_type": "execute_result"
    }
   ],
   "source": [
    "fa_sleep_score_alt.get_factor_variance()\n"
   ]
  },
  {
   "cell_type": "markdown",
   "metadata": {},
   "source": [
    "### Experiment Conclusions"
   ]
  },
  {
   "cell_type": "markdown",
   "metadata": {},
   "source": [
    "When we create the sleep score, we are making a summary column yet we removed the Monitor Score which is yet another summary column. Even though the model with sleep score explains more variance, does it make sense to do this?"
   ]
  },
  {
   "cell_type": "markdown",
   "metadata": {},
   "source": [
    "## Factor Analysis Conclusions"
   ]
  },
  {
   "cell_type": "markdown",
   "metadata": {},
   "source": [
    "Given the wellness data, we can summarize it into summary measures by taking the `Monitor Score` with the categorical variables `Pain` and `Illness`. This gives us as nice 3 feature description of ones wellness. Since the `Monitor Score` is on a different scale than `Pain` and `Illness`, we can standardize the `Monitor Score`.\n",
    "\n",
    "If we wanted to use the 3 factor model, we could also include Nutrition into our model. The question is, so we want to include a variable for which we imputed 17% of the data?"
   ]
  },
  {
   "cell_type": "markdown",
   "metadata": {},
   "source": [
    "## Summarizing Data"
   ]
  },
  {
   "cell_type": "markdown",
   "metadata": {},
   "source": [
    "There are two paths we could go down for summarizing the data. The first is to do a linear combination of the terms based on the eiganvalues (need to map everything to the 0-1 scale to do this). Another option is that we could use the built in mapping function in the factor analysis package to map the data to the factors and then add up the values of all the factors for a single wellness score."
   ]
  },
  {
   "cell_type": "markdown",
   "metadata": {},
   "source": [
    "Note that we might not actually need a single wellness score if we are looking to use wellness as covariates in some model of performance."
   ]
  },
  {
   "cell_type": "code",
   "execution_count": 59,
   "metadata": {},
   "outputs": [
    {
     "data": {
      "text/plain": [
       "array([[-9.05890355e-01, -1.77767302e+00,  6.41404262e-01],\n",
       "       [ 4.23958093e-01, -1.82818219e-01, -8.94039865e-02],\n",
       "       [-4.49637529e-01,  1.52131128e-02,  2.88735758e-01],\n",
       "       [-7.47453233e-01, -2.37146133e+00,  2.14995273e-03],\n",
       "       [ 5.13689761e-01, -1.70676479e-01, -1.42843919e+00],\n",
       "       [ 1.21289107e-01,  4.17999478e+00, -6.66962344e-01],\n",
       "       [-7.35259857e-01,  5.14622866e+00, -4.13473543e-01],\n",
       "       [ 6.67951960e-01,  4.40853924e+00,  9.16938028e-01],\n",
       "       [ 1.93010954e+00,  9.38033687e-01, -3.66730770e-01],\n",
       "       [-5.88220640e-01,  1.24817392e+00, -6.39748007e-01],\n",
       "       [-1.36343793e+00, -2.18827750e+00,  1.25673239e+00],\n",
       "       [ 3.56079609e-01, -4.06073066e-01, -1.83999665e+00],\n",
       "       [-2.46775139e-01, -2.07989045e+00,  1.37412506e+00],\n",
       "       [-2.62951377e-01, -3.48428772e+00,  1.43613609e+00],\n",
       "       [ 2.10071802e+00, -3.05207545e+00,  1.48986303e+00],\n",
       "       [-1.71146124e+00,  2.00115344e+00, -1.37176411e+00],\n",
       "       [ 8.97291216e-01, -2.22410360e+00, -5.89565971e-01]])"
      ]
     },
     "execution_count": 59,
     "metadata": {},
     "output_type": "execute_result"
    }
   ],
   "source": [
    "fa_alt.transform(wellness_df)\n"
   ]
  },
  {
   "cell_type": "code",
   "execution_count": 62,
   "metadata": {},
   "outputs": [
    {
     "data": {
      "text/plain": [
       "array([[  -51.50477696,  1281.60134684,  -262.731778  ],\n",
       "       [  -54.09558223,  1419.23224405,  -292.88054735],\n",
       "       [   57.50361723, -1433.00562599,   277.28447777],\n",
       "       ...,\n",
       "       [   68.41377218, -1236.86703266,   234.46502487],\n",
       "       [   83.99159392, -1538.02373943,   289.8096211 ],\n",
       "       [   77.4402516 , -1299.96881604,   235.9340907 ]])"
      ]
     },
     "execution_count": 62,
     "metadata": {},
     "output_type": "execute_result"
    }
   ],
   "source": [
    "full_data_set_weights = fa_alt.transform(full_wellness_df)\n",
    "full_data_set_weights\n"
   ]
  },
  {
   "cell_type": "markdown",
   "metadata": {},
   "source": [
    "The scale is very large when we transform the values on the full dataset without averaging over all the dates. This makes me question the validity of using the factor analysis model trained on the averaged dataset on the non-averaged dataset."
   ]
  },
  {
   "cell_type": "markdown",
   "metadata": {},
   "source": [
    "Maybe it would be better to just pull out the features from wellness and not try and map them using factor analysis."
   ]
  },
  {
   "cell_type": "code",
   "execution_count": 68,
   "metadata": {},
   "outputs": [
    {
     "data": {
      "text/plain": [
       "array([  967.36479188,  1072.25611447, -1098.217531  , ...,\n",
       "        -933.98823561, -1164.22252441,  -986.59447374])"
      ]
     },
     "execution_count": 68,
     "metadata": {},
     "output_type": "execute_result"
    }
   ],
   "source": [
    "wellness_scores = np.sum(full_data_set_weights, axis=1)\n",
    "wellness_scores\n"
   ]
  },
  {
   "cell_type": "code",
   "execution_count": 69,
   "metadata": {},
   "outputs": [
    {
     "data": {
      "text/plain": [
       "-303.6573823028529"
      ]
     },
     "execution_count": 69,
     "metadata": {},
     "output_type": "execute_result"
    }
   ],
   "source": [
    "wellness_scores.mean()"
   ]
  },
  {
   "cell_type": "code",
   "execution_count": 70,
   "metadata": {},
   "outputs": [
    {
     "data": {
      "text/plain": [
       "866.7728178210604"
      ]
     },
     "execution_count": 70,
     "metadata": {},
     "output_type": "execute_result"
    }
   ],
   "source": [
    "wellness_scores.std()"
   ]
  },
  {
   "cell_type": "code",
   "execution_count": 72,
   "metadata": {},
   "outputs": [
    {
     "data": {
      "text/plain": [
       "(array([  12.,  139., 2326., 1236.,  240.,  537.,  490.,   12.,    0.,\n",
       "           3.]),\n",
       " array([-2530.63618653, -1903.74504566, -1276.85390479,  -649.96276392,\n",
       "          -23.07162305,   603.81951782,  1230.71065869,  1857.60179956,\n",
       "         2484.49294043,  3111.3840813 ,  3738.27522217]),\n",
       " <a list of 10 Patch objects>)"
      ]
     },
     "execution_count": 72,
     "metadata": {},
     "output_type": "execute_result"
    },
    {
     "data": {
      "image/png": "[encoded data removed]",
      "text/plain": [
       "<Figure size 432x288 with 1 Axes>"
      ]
     },
     "metadata": {
      "needs_background": "light"
     },
     "output_type": "display_data"
    }
   ],
   "source": [
    "plt.hist(wellness_scores)"
   ]
  },
  {
   "cell_type": "code",
   "execution_count": null,
   "metadata": {},
   "outputs": [],
   "source": [
    "We see that mapping "
   ]
  },
  {
   "cell_type": "markdown",
   "metadata": {},
   "source": [
    "## Final Thoughts"
   ]
  },
  {
   "cell_type": "markdown",
   "metadata": {},
   "source": [
    "We could attach the wellness scores to each player but I am unsure about the validity of doing so. I think a better idea would be to just use the seperate features that we found to be relevant from wellness. These were, `MonitorScore`, `Illness`, `Pain`, and (potentially) `Nutrition`."
   ]
  },
  {
   "cell_type": "markdown",
   "metadata": {},
   "source": [
    "## Next Steps"
   ]
  },
  {
   "cell_type": "markdown",
   "metadata": {},
   "source": [
    "I can also hold the player id and date series back as variables before dropping them and re-attach them to the data frame so it can be linked to performance and training load data."
   ]
  },
  {
   "cell_type": "markdown",
   "metadata": {},
   "source": [
    "## What I Am Still Confused About"
   ]
  },
  {
   "cell_type": "markdown",
   "metadata": {},
   "source": [
    "How does rotation come into play with factor analysis?"
   ]
  },
  {
   "cell_type": "markdown",
   "metadata": {},
   "source": [
    "How should I deal with the nutrition column. It has a lot of missing values. Should I ignore it altogether? I ignored it for now."
   ]
  }
 ],
 "metadata": {
  "kernelspec": {
   "display_name": "Python 3",
   "language": "python",
   "name": "python3"
  },
  "language_info": {
   "codemirror_mode": {
    "name": "ipython",
    "version": 3
   },
   "file_extension": ".py",
   "mimetype": "text/x-python",
   "name": "python",
   "nbconvert_exporter": "python",
   "pygments_lexer": "ipython3",
   "version": "3.7.3"
  }
 },
 "nbformat": 4,
 "nbformat_minor": 2
}
