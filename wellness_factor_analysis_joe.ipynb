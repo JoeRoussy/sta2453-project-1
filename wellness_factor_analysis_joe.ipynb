{
 "cells": [
  {
   "cell_type": "markdown",
   "metadata": {},
   "source": [
    "# Factor Analysis"
   ]
  },
  {
   "cell_type": "markdown",
   "metadata": {},
   "source": [
    "Factor analysis is a method for automatically finding latent variables in a data set. It assumes that observed variables are actually a linear combination of a number of latent factors. Often, we are aiming to find a smaller number of factors that explain trends in our data.\n",
    "\n",
    "This is how factor analysis differs from principal componant analysis. In PCA, the components are not interpretable, however, in factor analysis, we can see which observed variables are highly correlated with which factors and group observed variables according to which factors they are correlated with by looking at the loading. We can also see which factors are most important by their eiganvalues. Another technical difference between PCA and factor analysis is that in PCA, all the components are orthogonal but in factor analysis this does not need to be the case."
   ]
  },
  {
   "cell_type": "markdown",
   "metadata": {},
   "source": [
    "## Load Data"
   ]
  },
  {
   "cell_type": "code",
   "execution_count": 1,
   "metadata": {},
   "outputs": [],
   "source": [
    "import pandas as pd\n",
    "import numpy as np\n",
    "from factor_analyzer import FactorAnalyzer\n",
    "from factor_analyzer.factor_analyzer import calculate_bartlett_sphericity, calculate_kmo\n",
    "from scipy.stats import pointbiserialr, ttest_ind\n",
    "import matplotlib.pyplot as plt\n",
    "import pingouin as pg\n",
    "from sklearn.decomposition import PCA"
   ]
  },
  {
   "cell_type": "code",
   "execution_count": 2,
   "metadata": {},
   "outputs": [
    {
     "data": {
      "text/html": [
       "<div>\n",
       "<style scoped>\n",
       "    .dataframe tbody tr th:only-of-type {\n",
       "        vertical-align: middle;\n",
       "    }\n",
       "\n",
       "    .dataframe tbody tr th {\n",
       "        vertical-align: top;\n",
       "    }\n",
       "\n",
       "    .dataframe thead th {\n",
       "        text-align: right;\n",
       "    }\n",
       "</style>\n",
       "<table border=\"1\" class=\"dataframe\">\n",
       "  <thead>\n",
       "    <tr style=\"text-align: right;\">\n",
       "      <th></th>\n",
       "      <th>Date</th>\n",
       "      <th>PlayerID</th>\n",
       "      <th>Fatigue</th>\n",
       "      <th>Soreness</th>\n",
       "      <th>Desire</th>\n",
       "      <th>Irritability</th>\n",
       "      <th>BedTime</th>\n",
       "      <th>WakeTime</th>\n",
       "      <th>SleepHours</th>\n",
       "      <th>SleepQuality</th>\n",
       "      <th>MonitoringScore</th>\n",
       "      <th>Pain</th>\n",
       "      <th>Illness</th>\n",
       "      <th>Menstruation</th>\n",
       "      <th>Nutrition</th>\n",
       "      <th>NutritionAdjustment</th>\n",
       "      <th>USGMeasurement</th>\n",
       "      <th>USG</th>\n",
       "      <th>TrainingReadiness</th>\n",
       "    </tr>\n",
       "  </thead>\n",
       "  <tbody>\n",
       "    <tr>\n",
       "      <th>0</th>\n",
       "      <td>2018-07-21</td>\n",
       "      <td>1</td>\n",
       "      <td>3</td>\n",
       "      <td>3</td>\n",
       "      <td>2</td>\n",
       "      <td>3</td>\n",
       "      <td>23:00:00</td>\n",
       "      <td>07:00:00</td>\n",
       "      <td>8.00</td>\n",
       "      <td>2</td>\n",
       "      <td>13</td>\n",
       "      <td>No</td>\n",
       "      <td>No</td>\n",
       "      <td>Yes</td>\n",
       "      <td>Excellent</td>\n",
       "      <td>Yes</td>\n",
       "      <td>No</td>\n",
       "      <td>NaN</td>\n",
       "      <td>0%</td>\n",
       "    </tr>\n",
       "    <tr>\n",
       "      <th>1</th>\n",
       "      <td>2018-07-21</td>\n",
       "      <td>2</td>\n",
       "      <td>4</td>\n",
       "      <td>3</td>\n",
       "      <td>4</td>\n",
       "      <td>4</td>\n",
       "      <td>23:00:00</td>\n",
       "      <td>07:00:00</td>\n",
       "      <td>8.00</td>\n",
       "      <td>4</td>\n",
       "      <td>19</td>\n",
       "      <td>Yes</td>\n",
       "      <td>No</td>\n",
       "      <td>Yes</td>\n",
       "      <td>NaN</td>\n",
       "      <td>NaN</td>\n",
       "      <td>Yes</td>\n",
       "      <td>1.010</td>\n",
       "      <td>0%</td>\n",
       "    </tr>\n",
       "    <tr>\n",
       "      <th>2</th>\n",
       "      <td>2018-07-21</td>\n",
       "      <td>3</td>\n",
       "      <td>3</td>\n",
       "      <td>3</td>\n",
       "      <td>5</td>\n",
       "      <td>4</td>\n",
       "      <td>22:30:00</td>\n",
       "      <td>06:30:00</td>\n",
       "      <td>8.00</td>\n",
       "      <td>4</td>\n",
       "      <td>19</td>\n",
       "      <td>No</td>\n",
       "      <td>No</td>\n",
       "      <td>No</td>\n",
       "      <td>NaN</td>\n",
       "      <td>NaN</td>\n",
       "      <td>Yes</td>\n",
       "      <td>1.016</td>\n",
       "      <td>100%</td>\n",
       "    </tr>\n",
       "    <tr>\n",
       "      <th>3</th>\n",
       "      <td>2018-07-21</td>\n",
       "      <td>4</td>\n",
       "      <td>2</td>\n",
       "      <td>3</td>\n",
       "      <td>5</td>\n",
       "      <td>4</td>\n",
       "      <td>00:30:00</td>\n",
       "      <td>07:00:00</td>\n",
       "      <td>6.50</td>\n",
       "      <td>1</td>\n",
       "      <td>15</td>\n",
       "      <td>No</td>\n",
       "      <td>No</td>\n",
       "      <td>Yes</td>\n",
       "      <td>Excellent</td>\n",
       "      <td>Yes</td>\n",
       "      <td>Yes</td>\n",
       "      <td>1.025</td>\n",
       "      <td>95%</td>\n",
       "    </tr>\n",
       "    <tr>\n",
       "      <th>4</th>\n",
       "      <td>2018-07-21</td>\n",
       "      <td>5</td>\n",
       "      <td>5</td>\n",
       "      <td>3</td>\n",
       "      <td>4</td>\n",
       "      <td>4</td>\n",
       "      <td>23:45:00</td>\n",
       "      <td>07:00:00</td>\n",
       "      <td>7.25</td>\n",
       "      <td>4</td>\n",
       "      <td>20</td>\n",
       "      <td>No</td>\n",
       "      <td>No</td>\n",
       "      <td>No</td>\n",
       "      <td>Okay</td>\n",
       "      <td>Yes</td>\n",
       "      <td>Yes</td>\n",
       "      <td>1.022</td>\n",
       "      <td>100%</td>\n",
       "    </tr>\n",
       "  </tbody>\n",
       "</table>\n",
       "</div>"
      ],
      "text/plain": [
       "         Date  PlayerID  Fatigue  Soreness  Desire  Irritability   BedTime  \\\n",
       "0  2018-07-21         1        3         3       2             3  23:00:00   \n",
       "1  2018-07-21         2        4         3       4             4  23:00:00   \n",
       "2  2018-07-21         3        3         3       5             4  22:30:00   \n",
       "3  2018-07-21         4        2         3       5             4  00:30:00   \n",
       "4  2018-07-21         5        5         3       4             4  23:45:00   \n",
       "\n",
       "   WakeTime  SleepHours  SleepQuality  MonitoringScore Pain Illness  \\\n",
       "0  07:00:00        8.00             2               13   No      No   \n",
       "1  07:00:00        8.00             4               19  Yes      No   \n",
       "2  06:30:00        8.00             4               19   No      No   \n",
       "3  07:00:00        6.50             1               15   No      No   \n",
       "4  07:00:00        7.25             4               20   No      No   \n",
       "\n",
       "  Menstruation  Nutrition NutritionAdjustment USGMeasurement    USG  \\\n",
       "0          Yes  Excellent                 Yes             No    NaN   \n",
       "1          Yes        NaN                 NaN            Yes  1.010   \n",
       "2           No        NaN                 NaN            Yes  1.016   \n",
       "3          Yes  Excellent                 Yes            Yes  1.025   \n",
       "4           No       Okay                 Yes            Yes  1.022   \n",
       "\n",
       "  TrainingReadiness  \n",
       "0                0%  \n",
       "1                0%  \n",
       "2              100%  \n",
       "3               95%  \n",
       "4              100%  "
      ]
     },
     "execution_count": 2,
     "metadata": {},
     "output_type": "execute_result"
    }
   ],
   "source": [
    "wellness_df = pd.read_csv('./raw_data/wellness.csv')\n",
    "wellness_df.head()\n"
   ]
  },
  {
   "cell_type": "code",
   "execution_count": 3,
   "metadata": {},
   "outputs": [
    {
     "data": {
      "text/plain": [
       "(5011, 19)"
      ]
     },
     "execution_count": 3,
     "metadata": {},
     "output_type": "execute_result"
    }
   ],
   "source": [
    "wellness_df.shape"
   ]
  },
  {
   "cell_type": "markdown",
   "metadata": {},
   "source": [
    "To start with, we have 5011 wellness observations."
   ]
  },
  {
   "cell_type": "markdown",
   "metadata": {},
   "source": [
    "## Cleaning and Visualizing Data"
   ]
  },
  {
   "cell_type": "markdown",
   "metadata": {},
   "source": [
    "### Fatigue"
   ]
  },
  {
   "cell_type": "code",
   "execution_count": 4,
   "metadata": {},
   "outputs": [
    {
     "data": {
      "text/plain": [
       "4    2003\n",
       "3    1721\n",
       "2     642\n",
       "5     301\n",
       "1     187\n",
       "6     150\n",
       "7       7\n",
       "Name: Fatigue, dtype: int64"
      ]
     },
     "execution_count": 4,
     "metadata": {},
     "output_type": "execute_result"
    }
   ],
   "source": [
    "wellness_df['Fatigue'].value_counts()"
   ]
  },
  {
   "cell_type": "markdown",
   "metadata": {},
   "source": [
    "Based on the codebook, 1 is most tired and 7 is most fresh. The scales are:\n",
    "1 -> Exhausted\n",
    "4 -> Average\n",
    "7 -> Fresher than usual\n",
    "\n",
    "Thus, the values above make sense with average being most common and 1 less than average being second most common. I think we should be good leaving the values as is here."
   ]
  },
  {
   "cell_type": "code",
   "execution_count": 5,
   "metadata": {},
   "outputs": [
    {
     "data": {
      "text/plain": [
       "Text(0.5, 1.0, 'Distribution of Fatigue')"
      ]
     },
     "execution_count": 5,
     "metadata": {},
     "output_type": "execute_result"
    },
    {
     "data": {
      "image/png": "[encoded data removed]",
      "text/plain": [
       "<Figure size 432x288 with 1 Axes>"
      ]
     },
     "metadata": {
      "needs_background": "light"
     },
     "output_type": "display_data"
    }
   ],
   "source": [
    "plt.bar(np.sort(wellness_df['Fatigue'].unique()), wellness_df['Fatigue'].value_counts().sort_index())\n",
    "plt.title('Distribution of Fatigue')"
   ]
  },
  {
   "cell_type": "markdown",
   "metadata": {},
   "source": [
    "### Soreness, Desire and Irritability"
   ]
  },
  {
   "cell_type": "markdown",
   "metadata": {},
   "source": [
    "All of these columns are on the same scale as fatigue so we just need to make sure there are no missing values and we can continue using the raw values as with Fatigue."
   ]
  },
  {
   "cell_type": "code",
   "execution_count": 6,
   "metadata": {},
   "outputs": [
    {
     "data": {
      "text/plain": [
       "4    1843\n",
       "3    1831\n",
       "2     737\n",
       "5     280\n",
       "1     176\n",
       "6     128\n",
       "7      16\n",
       "Name: Soreness, dtype: int64"
      ]
     },
     "execution_count": 6,
     "metadata": {},
     "output_type": "execute_result"
    }
   ],
   "source": [
    "wellness_df['Soreness'].value_counts()"
   ]
  },
  {
   "cell_type": "code",
   "execution_count": 7,
   "metadata": {},
   "outputs": [
    {
     "data": {
      "text/plain": [
       "Text(0.5, 1.0, 'Distribution of Soreness')"
      ]
     },
     "execution_count": 7,
     "metadata": {},
     "output_type": "execute_result"
    },
    {
     "data": {
      "image/png": "[encoded data removed]",
      "text/plain": [
       "<Figure size 432x288 with 1 Axes>"
      ]
     },
     "metadata": {
      "needs_background": "light"
     },
     "output_type": "display_data"
    }
   ],
   "source": [
    "plt.bar(np.sort(wellness_df['Soreness'].unique()), wellness_df['Soreness'].value_counts().sort_index())\n",
    "plt.title('Distribution of Soreness')"
   ]
  },
  {
   "cell_type": "code",
   "execution_count": 8,
   "metadata": {},
   "outputs": [
    {
     "data": {
      "text/plain": [
       "4    3023\n",
       "3     820\n",
       "5     428\n",
       "2     300\n",
       "6     228\n",
       "1     159\n",
       "7      53\n",
       "Name: Desire, dtype: int64"
      ]
     },
     "execution_count": 8,
     "metadata": {},
     "output_type": "execute_result"
    }
   ],
   "source": [
    "wellness_df['Desire'].value_counts()"
   ]
  },
  {
   "cell_type": "code",
   "execution_count": 9,
   "metadata": {},
   "outputs": [
    {
     "data": {
      "text/plain": [
       "Text(0.5, 1.0, 'Distribution of Desire')"
      ]
     },
     "execution_count": 9,
     "metadata": {},
     "output_type": "execute_result"
    },
    {
     "data": {
      "image/png": "[encoded data removed]",
      "text/plain": [
       "<Figure size 432x288 with 1 Axes>"
      ]
     },
     "metadata": {
      "needs_background": "light"
     },
     "output_type": "display_data"
    }
   ],
   "source": [
    "plt.bar(np.sort(wellness_df['Desire'].unique()), wellness_df['Desire'].value_counts().sort_index())\n",
    "plt.title('Distribution of Desire')"
   ]
  },
  {
   "cell_type": "code",
   "execution_count": 10,
   "metadata": {},
   "outputs": [
    {
     "data": {
      "text/plain": [
       "4    3597\n",
       "3     650\n",
       "5     347\n",
       "6     180\n",
       "2     135\n",
       "7      61\n",
       "1      41\n",
       "Name: Irritability, dtype: int64"
      ]
     },
     "execution_count": 10,
     "metadata": {},
     "output_type": "execute_result"
    }
   ],
   "source": [
    "wellness_df['Irritability'].value_counts()"
   ]
  },
  {
   "cell_type": "code",
   "execution_count": 11,
   "metadata": {},
   "outputs": [
    {
     "data": {
      "text/plain": [
       "Text(0.5, 1.0, 'Distribution of Irritability')"
      ]
     },
     "execution_count": 11,
     "metadata": {},
     "output_type": "execute_result"
    },
    {
     "data": {
      "image/png": "[encoded data removed]",
      "text/plain": [
       "<Figure size 432x288 with 1 Axes>"
      ]
     },
     "metadata": {
      "needs_background": "light"
     },
     "output_type": "display_data"
    }
   ],
   "source": [
    "plt.bar(np.sort(wellness_df['Irritability'].unique()), wellness_df['Irritability'].value_counts().sort_index())\n",
    "plt.title('Distribution of Irritability')"
   ]
  },
  {
   "cell_type": "markdown",
   "metadata": {},
   "source": [
    "No missing values so all these columns can be used as is."
   ]
  },
  {
   "cell_type": "markdown",
   "metadata": {},
   "source": [
    "### Distribution Of Monitor Score Components"
   ]
  },
  {
   "cell_type": "markdown",
   "metadata": {},
   "source": [
    "All of the monitor score components follow a normal distribution with a mean at the average value of 4. Soreness and Fatigue tend to have more lower values below 4."
   ]
  },
  {
   "cell_type": "markdown",
   "metadata": {},
   "source": [
    "### BedTime, WakeTime, and SleepHours"
   ]
  },
  {
   "cell_type": "markdown",
   "metadata": {},
   "source": [
    "If we have SleepHours, it seems like we do not need BedTime and WakeTime as wellness would be affected by the amount of sleep and not the particular times players went to bed. Furthermore, most players go to bed and wake up at the same time. So, I will removed the `BedTime` and `Waketime` columns from the dataframe."
   ]
  },
  {
   "cell_type": "code",
   "execution_count": 12,
   "metadata": {},
   "outputs": [
    {
     "data": {
      "text/html": [
       "<div>\n",
       "<style scoped>\n",
       "    .dataframe tbody tr th:only-of-type {\n",
       "        vertical-align: middle;\n",
       "    }\n",
       "\n",
       "    .dataframe tbody tr th {\n",
       "        vertical-align: top;\n",
       "    }\n",
       "\n",
       "    .dataframe thead th {\n",
       "        text-align: right;\n",
       "    }\n",
       "</style>\n",
       "<table border=\"1\" class=\"dataframe\">\n",
       "  <thead>\n",
       "    <tr style=\"text-align: right;\">\n",
       "      <th></th>\n",
       "      <th>Date</th>\n",
       "      <th>PlayerID</th>\n",
       "      <th>Fatigue</th>\n",
       "      <th>Soreness</th>\n",
       "      <th>Desire</th>\n",
       "      <th>Irritability</th>\n",
       "      <th>SleepHours</th>\n",
       "      <th>SleepQuality</th>\n",
       "      <th>MonitoringScore</th>\n",
       "      <th>Pain</th>\n",
       "      <th>Illness</th>\n",
       "      <th>Menstruation</th>\n",
       "      <th>Nutrition</th>\n",
       "      <th>NutritionAdjustment</th>\n",
       "      <th>USGMeasurement</th>\n",
       "      <th>USG</th>\n",
       "      <th>TrainingReadiness</th>\n",
       "    </tr>\n",
       "  </thead>\n",
       "  <tbody>\n",
       "    <tr>\n",
       "      <th>0</th>\n",
       "      <td>2018-07-21</td>\n",
       "      <td>1</td>\n",
       "      <td>3</td>\n",
       "      <td>3</td>\n",
       "      <td>2</td>\n",
       "      <td>3</td>\n",
       "      <td>8.00</td>\n",
       "      <td>2</td>\n",
       "      <td>13</td>\n",
       "      <td>No</td>\n",
       "      <td>No</td>\n",
       "      <td>Yes</td>\n",
       "      <td>Excellent</td>\n",
       "      <td>Yes</td>\n",
       "      <td>No</td>\n",
       "      <td>NaN</td>\n",
       "      <td>0%</td>\n",
       "    </tr>\n",
       "    <tr>\n",
       "      <th>1</th>\n",
       "      <td>2018-07-21</td>\n",
       "      <td>2</td>\n",
       "      <td>4</td>\n",
       "      <td>3</td>\n",
       "      <td>4</td>\n",
       "      <td>4</td>\n",
       "      <td>8.00</td>\n",
       "      <td>4</td>\n",
       "      <td>19</td>\n",
       "      <td>Yes</td>\n",
       "      <td>No</td>\n",
       "      <td>Yes</td>\n",
       "      <td>NaN</td>\n",
       "      <td>NaN</td>\n",
       "      <td>Yes</td>\n",
       "      <td>1.010</td>\n",
       "      <td>0%</td>\n",
       "    </tr>\n",
       "    <tr>\n",
       "      <th>2</th>\n",
       "      <td>2018-07-21</td>\n",
       "      <td>3</td>\n",
       "      <td>3</td>\n",
       "      <td>3</td>\n",
       "      <td>5</td>\n",
       "      <td>4</td>\n",
       "      <td>8.00</td>\n",
       "      <td>4</td>\n",
       "      <td>19</td>\n",
       "      <td>No</td>\n",
       "      <td>No</td>\n",
       "      <td>No</td>\n",
       "      <td>NaN</td>\n",
       "      <td>NaN</td>\n",
       "      <td>Yes</td>\n",
       "      <td>1.016</td>\n",
       "      <td>100%</td>\n",
       "    </tr>\n",
       "    <tr>\n",
       "      <th>3</th>\n",
       "      <td>2018-07-21</td>\n",
       "      <td>4</td>\n",
       "      <td>2</td>\n",
       "      <td>3</td>\n",
       "      <td>5</td>\n",
       "      <td>4</td>\n",
       "      <td>6.50</td>\n",
       "      <td>1</td>\n",
       "      <td>15</td>\n",
       "      <td>No</td>\n",
       "      <td>No</td>\n",
       "      <td>Yes</td>\n",
       "      <td>Excellent</td>\n",
       "      <td>Yes</td>\n",
       "      <td>Yes</td>\n",
       "      <td>1.025</td>\n",
       "      <td>95%</td>\n",
       "    </tr>\n",
       "    <tr>\n",
       "      <th>4</th>\n",
       "      <td>2018-07-21</td>\n",
       "      <td>5</td>\n",
       "      <td>5</td>\n",
       "      <td>3</td>\n",
       "      <td>4</td>\n",
       "      <td>4</td>\n",
       "      <td>7.25</td>\n",
       "      <td>4</td>\n",
       "      <td>20</td>\n",
       "      <td>No</td>\n",
       "      <td>No</td>\n",
       "      <td>No</td>\n",
       "      <td>Okay</td>\n",
       "      <td>Yes</td>\n",
       "      <td>Yes</td>\n",
       "      <td>1.022</td>\n",
       "      <td>100%</td>\n",
       "    </tr>\n",
       "  </tbody>\n",
       "</table>\n",
       "</div>"
      ],
      "text/plain": [
       "         Date  PlayerID  Fatigue  Soreness  Desire  Irritability  SleepHours  \\\n",
       "0  2018-07-21         1        3         3       2             3        8.00   \n",
       "1  2018-07-21         2        4         3       4             4        8.00   \n",
       "2  2018-07-21         3        3         3       5             4        8.00   \n",
       "3  2018-07-21         4        2         3       5             4        6.50   \n",
       "4  2018-07-21         5        5         3       4             4        7.25   \n",
       "\n",
       "   SleepQuality  MonitoringScore Pain Illness Menstruation  Nutrition  \\\n",
       "0             2               13   No      No          Yes  Excellent   \n",
       "1             4               19  Yes      No          Yes        NaN   \n",
       "2             4               19   No      No           No        NaN   \n",
       "3             1               15   No      No          Yes  Excellent   \n",
       "4             4               20   No      No           No       Okay   \n",
       "\n",
       "  NutritionAdjustment USGMeasurement    USG TrainingReadiness  \n",
       "0                 Yes             No    NaN                0%  \n",
       "1                 NaN            Yes  1.010                0%  \n",
       "2                 NaN            Yes  1.016              100%  \n",
       "3                 Yes            Yes  1.025               95%  \n",
       "4                 Yes            Yes  1.022              100%  "
      ]
     },
     "execution_count": 12,
     "metadata": {},
     "output_type": "execute_result"
    }
   ],
   "source": [
    "wellness_df = wellness_df.drop(columns=['BedTime', 'WakeTime'])\n",
    "wellness_df.head()\n"
   ]
  },
  {
   "cell_type": "code",
   "execution_count": 13,
   "metadata": {},
   "outputs": [
    {
     "data": {
      "text/plain": [
       "8.661893833566154"
      ]
     },
     "execution_count": 13,
     "metadata": {},
     "output_type": "execute_result"
    }
   ],
   "source": [
    "wellness_df['SleepHours'].mean()"
   ]
  },
  {
   "cell_type": "code",
   "execution_count": 14,
   "metadata": {},
   "outputs": [
    {
     "data": {
      "text/plain": [
       "1.1704873009267451"
      ]
     },
     "execution_count": 14,
     "metadata": {},
     "output_type": "execute_result"
    }
   ],
   "source": [
    "wellness_df['SleepQuality'].std()"
   ]
  },
  {
   "cell_type": "code",
   "execution_count": 15,
   "metadata": {},
   "outputs": [
    {
     "data": {
      "text/plain": [
       "Text(0.5, 1.0, 'Distribution of Sleep Hours')"
      ]
     },
     "execution_count": 15,
     "metadata": {},
     "output_type": "execute_result"
    },
    {
     "data": {
      "image/png": "[encoded data removed]",
      "text/plain": [
       "<Figure size 432x288 with 1 Axes>"
      ]
     },
     "metadata": {
      "needs_background": "light"
     },
     "output_type": "display_data"
    }
   ],
   "source": [
    "plt.bar(np.sort(wellness_df['SleepHours'].unique()), wellness_df['SleepHours'].value_counts().sort_index())\n",
    "plt.title('Distribution of Sleep Hours')"
   ]
  },
  {
   "cell_type": "markdown",
   "metadata": {},
   "source": [
    "The distribution is very peaked around 8.5 hours of sleep, similar to some of the other concentrated wellness variables above."
   ]
  },
  {
   "cell_type": "markdown",
   "metadata": {},
   "source": [
    "### Sleep Quality"
   ]
  },
  {
   "cell_type": "code",
   "execution_count": 16,
   "metadata": {},
   "outputs": [
    {
     "data": {
      "text/plain": [
       "4    2505\n",
       "3    1037\n",
       "5     508\n",
       "2     386\n",
       "6     242\n",
       "1     193\n",
       "7     140\n",
       "Name: SleepQuality, dtype: int64"
      ]
     },
     "execution_count": 16,
     "metadata": {},
     "output_type": "execute_result"
    }
   ],
   "source": [
    "wellness_df['SleepQuality'].value_counts()\n"
   ]
  },
  {
   "cell_type": "code",
   "execution_count": 17,
   "metadata": {},
   "outputs": [
    {
     "data": {
      "text/plain": [
       "Text(0.5, 1.0, 'Distribution of Sleep Quality')"
      ]
     },
     "execution_count": 17,
     "metadata": {},
     "output_type": "execute_result"
    },
    {
     "data": {
      "image/png": "[encoded data removed]",
      "text/plain": [
       "<Figure size 432x288 with 1 Axes>"
      ]
     },
     "metadata": {
      "needs_background": "light"
     },
     "output_type": "display_data"
    }
   ],
   "source": [
    "plt.bar(np.sort(wellness_df['SleepQuality'].unique()), wellness_df['SleepQuality'].value_counts().sort_index())\n",
    "plt.title('Distribution of Sleep Quality')"
   ]
  },
  {
   "cell_type": "markdown",
   "metadata": {},
   "source": [
    "Sleep quality has much more variance than sleep hours. It is slightly skewed to the left but not as much as Soreness and Fatigue are."
   ]
  },
  {
   "cell_type": "markdown",
   "metadata": {},
   "source": [
    "No missing values so we can leave this column as is. One interesting thought is how does this correlate with sleep duration?"
   ]
  },
  {
   "cell_type": "markdown",
   "metadata": {},
   "source": [
    "#### Correlation With Sleep"
   ]
  },
  {
   "cell_type": "code",
   "execution_count": 18,
   "metadata": {},
   "outputs": [
    {
     "data": {
      "text/plain": [
       "0.28179835513040297"
      ]
     },
     "execution_count": 18,
     "metadata": {},
     "output_type": "execute_result"
    }
   ],
   "source": [
    "wellness_df['SleepQuality'].corr(wellness_df['SleepHours'])"
   ]
  },
  {
   "cell_type": "markdown",
   "metadata": {},
   "source": [
    "It turns out sleep quality and the duration of sleep are not very correlated which is interesting. I would have thought that they would be, i.e. less sleep leads to worse quality and vice versa. Contextualizing this result in the context of these players being athletes makes sense. They are on a regimented schedule and get about the same amount of sleep each night, which we see from the distribution of sleep hours. So, any variance in their subjective sleep quality is likely related to other factors other than how long they slept."
   ]
  },
  {
   "cell_type": "markdown",
   "metadata": {},
   "source": [
    "### Pain"
   ]
  },
  {
   "cell_type": "code",
   "execution_count": 19,
   "metadata": {},
   "outputs": [
    {
     "data": {
      "text/plain": [
       "No     4423\n",
       "Yes     588\n",
       "Name: Pain, dtype: int64"
      ]
     },
     "execution_count": 19,
     "metadata": {},
     "output_type": "execute_result"
    }
   ],
   "source": [
    "wellness_df['Pain'].value_counts()"
   ]
  },
  {
   "cell_type": "markdown",
   "metadata": {},
   "source": [
    "No missing values but we need to code this `Yes/No` column to take the values `1/0`"
   ]
  },
  {
   "cell_type": "code",
   "execution_count": 20,
   "metadata": {},
   "outputs": [
    {
     "data": {
      "text/html": [
       "<div>\n",
       "<style scoped>\n",
       "    .dataframe tbody tr th:only-of-type {\n",
       "        vertical-align: middle;\n",
       "    }\n",
       "\n",
       "    .dataframe tbody tr th {\n",
       "        vertical-align: top;\n",
       "    }\n",
       "\n",
       "    .dataframe thead th {\n",
       "        text-align: right;\n",
       "    }\n",
       "</style>\n",
       "<table border=\"1\" class=\"dataframe\">\n",
       "  <thead>\n",
       "    <tr style=\"text-align: right;\">\n",
       "      <th></th>\n",
       "      <th>Date</th>\n",
       "      <th>PlayerID</th>\n",
       "      <th>Fatigue</th>\n",
       "      <th>Soreness</th>\n",
       "      <th>Desire</th>\n",
       "      <th>Irritability</th>\n",
       "      <th>SleepHours</th>\n",
       "      <th>SleepQuality</th>\n",
       "      <th>MonitoringScore</th>\n",
       "      <th>Pain</th>\n",
       "      <th>Illness</th>\n",
       "      <th>Menstruation</th>\n",
       "      <th>Nutrition</th>\n",
       "      <th>NutritionAdjustment</th>\n",
       "      <th>USGMeasurement</th>\n",
       "      <th>USG</th>\n",
       "      <th>TrainingReadiness</th>\n",
       "    </tr>\n",
       "  </thead>\n",
       "  <tbody>\n",
       "    <tr>\n",
       "      <th>0</th>\n",
       "      <td>2018-07-21</td>\n",
       "      <td>1</td>\n",
       "      <td>3</td>\n",
       "      <td>3</td>\n",
       "      <td>2</td>\n",
       "      <td>3</td>\n",
       "      <td>8.00</td>\n",
       "      <td>2</td>\n",
       "      <td>13</td>\n",
       "      <td>0</td>\n",
       "      <td>No</td>\n",
       "      <td>Yes</td>\n",
       "      <td>Excellent</td>\n",
       "      <td>Yes</td>\n",
       "      <td>No</td>\n",
       "      <td>NaN</td>\n",
       "      <td>0%</td>\n",
       "    </tr>\n",
       "    <tr>\n",
       "      <th>1</th>\n",
       "      <td>2018-07-21</td>\n",
       "      <td>2</td>\n",
       "      <td>4</td>\n",
       "      <td>3</td>\n",
       "      <td>4</td>\n",
       "      <td>4</td>\n",
       "      <td>8.00</td>\n",
       "      <td>4</td>\n",
       "      <td>19</td>\n",
       "      <td>1</td>\n",
       "      <td>No</td>\n",
       "      <td>Yes</td>\n",
       "      <td>NaN</td>\n",
       "      <td>NaN</td>\n",
       "      <td>Yes</td>\n",
       "      <td>1.010</td>\n",
       "      <td>0%</td>\n",
       "    </tr>\n",
       "    <tr>\n",
       "      <th>2</th>\n",
       "      <td>2018-07-21</td>\n",
       "      <td>3</td>\n",
       "      <td>3</td>\n",
       "      <td>3</td>\n",
       "      <td>5</td>\n",
       "      <td>4</td>\n",
       "      <td>8.00</td>\n",
       "      <td>4</td>\n",
       "      <td>19</td>\n",
       "      <td>0</td>\n",
       "      <td>No</td>\n",
       "      <td>No</td>\n",
       "      <td>NaN</td>\n",
       "      <td>NaN</td>\n",
       "      <td>Yes</td>\n",
       "      <td>1.016</td>\n",
       "      <td>100%</td>\n",
       "    </tr>\n",
       "    <tr>\n",
       "      <th>3</th>\n",
       "      <td>2018-07-21</td>\n",
       "      <td>4</td>\n",
       "      <td>2</td>\n",
       "      <td>3</td>\n",
       "      <td>5</td>\n",
       "      <td>4</td>\n",
       "      <td>6.50</td>\n",
       "      <td>1</td>\n",
       "      <td>15</td>\n",
       "      <td>0</td>\n",
       "      <td>No</td>\n",
       "      <td>Yes</td>\n",
       "      <td>Excellent</td>\n",
       "      <td>Yes</td>\n",
       "      <td>Yes</td>\n",
       "      <td>1.025</td>\n",
       "      <td>95%</td>\n",
       "    </tr>\n",
       "    <tr>\n",
       "      <th>4</th>\n",
       "      <td>2018-07-21</td>\n",
       "      <td>5</td>\n",
       "      <td>5</td>\n",
       "      <td>3</td>\n",
       "      <td>4</td>\n",
       "      <td>4</td>\n",
       "      <td>7.25</td>\n",
       "      <td>4</td>\n",
       "      <td>20</td>\n",
       "      <td>0</td>\n",
       "      <td>No</td>\n",
       "      <td>No</td>\n",
       "      <td>Okay</td>\n",
       "      <td>Yes</td>\n",
       "      <td>Yes</td>\n",
       "      <td>1.022</td>\n",
       "      <td>100%</td>\n",
       "    </tr>\n",
       "  </tbody>\n",
       "</table>\n",
       "</div>"
      ],
      "text/plain": [
       "         Date  PlayerID  Fatigue  Soreness  Desire  Irritability  SleepHours  \\\n",
       "0  2018-07-21         1        3         3       2             3        8.00   \n",
       "1  2018-07-21         2        4         3       4             4        8.00   \n",
       "2  2018-07-21         3        3         3       5             4        8.00   \n",
       "3  2018-07-21         4        2         3       5             4        6.50   \n",
       "4  2018-07-21         5        5         3       4             4        7.25   \n",
       "\n",
       "   SleepQuality  MonitoringScore  Pain Illness Menstruation  Nutrition  \\\n",
       "0             2               13     0      No          Yes  Excellent   \n",
       "1             4               19     1      No          Yes        NaN   \n",
       "2             4               19     0      No           No        NaN   \n",
       "3             1               15     0      No          Yes  Excellent   \n",
       "4             4               20     0      No           No       Okay   \n",
       "\n",
       "  NutritionAdjustment USGMeasurement    USG TrainingReadiness  \n",
       "0                 Yes             No    NaN                0%  \n",
       "1                 NaN            Yes  1.010                0%  \n",
       "2                 NaN            Yes  1.016              100%  \n",
       "3                 Yes            Yes  1.025               95%  \n",
       "4                 Yes            Yes  1.022              100%  "
      ]
     },
     "execution_count": 20,
     "metadata": {},
     "output_type": "execute_result"
    }
   ],
   "source": [
    "wellness_df['Pain'] = wellness_df['Pain'].map(dict(Yes=1, No=0))\n",
    "wellness_df.head()\n"
   ]
  },
  {
   "cell_type": "markdown",
   "metadata": {},
   "source": [
    "### Illness"
   ]
  },
  {
   "cell_type": "markdown",
   "metadata": {},
   "source": [
    "This should be trated the same as `Pain` assuming there are no missing values "
   ]
  },
  {
   "cell_type": "code",
   "execution_count": 21,
   "metadata": {},
   "outputs": [
    {
     "data": {
      "text/plain": [
       "No              4456\n",
       "Slightly Off     421\n",
       "Yes              134\n",
       "Name: Illness, dtype: int64"
      ]
     },
     "execution_count": 21,
     "metadata": {},
     "output_type": "execute_result"
    }
   ],
   "source": [
    "wellness_df['Illness'].value_counts()"
   ]
  },
  {
   "cell_type": "markdown",
   "metadata": {},
   "source": [
    "It turns out there is a medium category of `Slightly Off` between `Yes` and `No`. So, I will code this column as a ordered categorical variable. I don't want to encode the difference between fully sick and being slightly off as the same as being slightly off and not sick. It seems the distance from not sick to slightly off is less than between slightly off and sick. So, instead of encoding sick as `2`, I will bump it up to `3`."
   ]
  },
  {
   "cell_type": "code",
   "execution_count": 22,
   "metadata": {},
   "outputs": [
    {
     "data": {
      "text/html": [
       "<div>\n",
       "<style scoped>\n",
       "    .dataframe tbody tr th:only-of-type {\n",
       "        vertical-align: middle;\n",
       "    }\n",
       "\n",
       "    .dataframe tbody tr th {\n",
       "        vertical-align: top;\n",
       "    }\n",
       "\n",
       "    .dataframe thead th {\n",
       "        text-align: right;\n",
       "    }\n",
       "</style>\n",
       "<table border=\"1\" class=\"dataframe\">\n",
       "  <thead>\n",
       "    <tr style=\"text-align: right;\">\n",
       "      <th></th>\n",
       "      <th>Date</th>\n",
       "      <th>PlayerID</th>\n",
       "      <th>Fatigue</th>\n",
       "      <th>Soreness</th>\n",
       "      <th>Desire</th>\n",
       "      <th>Irritability</th>\n",
       "      <th>SleepHours</th>\n",
       "      <th>SleepQuality</th>\n",
       "      <th>MonitoringScore</th>\n",
       "      <th>Pain</th>\n",
       "      <th>Illness</th>\n",
       "      <th>Menstruation</th>\n",
       "      <th>Nutrition</th>\n",
       "      <th>NutritionAdjustment</th>\n",
       "      <th>USGMeasurement</th>\n",
       "      <th>USG</th>\n",
       "      <th>TrainingReadiness</th>\n",
       "    </tr>\n",
       "  </thead>\n",
       "  <tbody>\n",
       "    <tr>\n",
       "      <th>0</th>\n",
       "      <td>2018-07-21</td>\n",
       "      <td>1</td>\n",
       "      <td>3</td>\n",
       "      <td>3</td>\n",
       "      <td>2</td>\n",
       "      <td>3</td>\n",
       "      <td>8.00</td>\n",
       "      <td>2</td>\n",
       "      <td>13</td>\n",
       "      <td>0</td>\n",
       "      <td>0</td>\n",
       "      <td>Yes</td>\n",
       "      <td>Excellent</td>\n",
       "      <td>Yes</td>\n",
       "      <td>No</td>\n",
       "      <td>NaN</td>\n",
       "      <td>0%</td>\n",
       "    </tr>\n",
       "    <tr>\n",
       "      <th>1</th>\n",
       "      <td>2018-07-21</td>\n",
       "      <td>2</td>\n",
       "      <td>4</td>\n",
       "      <td>3</td>\n",
       "      <td>4</td>\n",
       "      <td>4</td>\n",
       "      <td>8.00</td>\n",
       "      <td>4</td>\n",
       "      <td>19</td>\n",
       "      <td>1</td>\n",
       "      <td>0</td>\n",
       "      <td>Yes</td>\n",
       "      <td>NaN</td>\n",
       "      <td>NaN</td>\n",
       "      <td>Yes</td>\n",
       "      <td>1.010</td>\n",
       "      <td>0%</td>\n",
       "    </tr>\n",
       "    <tr>\n",
       "      <th>2</th>\n",
       "      <td>2018-07-21</td>\n",
       "      <td>3</td>\n",
       "      <td>3</td>\n",
       "      <td>3</td>\n",
       "      <td>5</td>\n",
       "      <td>4</td>\n",
       "      <td>8.00</td>\n",
       "      <td>4</td>\n",
       "      <td>19</td>\n",
       "      <td>0</td>\n",
       "      <td>0</td>\n",
       "      <td>No</td>\n",
       "      <td>NaN</td>\n",
       "      <td>NaN</td>\n",
       "      <td>Yes</td>\n",
       "      <td>1.016</td>\n",
       "      <td>100%</td>\n",
       "    </tr>\n",
       "    <tr>\n",
       "      <th>3</th>\n",
       "      <td>2018-07-21</td>\n",
       "      <td>4</td>\n",
       "      <td>2</td>\n",
       "      <td>3</td>\n",
       "      <td>5</td>\n",
       "      <td>4</td>\n",
       "      <td>6.50</td>\n",
       "      <td>1</td>\n",
       "      <td>15</td>\n",
       "      <td>0</td>\n",
       "      <td>0</td>\n",
       "      <td>Yes</td>\n",
       "      <td>Excellent</td>\n",
       "      <td>Yes</td>\n",
       "      <td>Yes</td>\n",
       "      <td>1.025</td>\n",
       "      <td>95%</td>\n",
       "    </tr>\n",
       "    <tr>\n",
       "      <th>4</th>\n",
       "      <td>2018-07-21</td>\n",
       "      <td>5</td>\n",
       "      <td>5</td>\n",
       "      <td>3</td>\n",
       "      <td>4</td>\n",
       "      <td>4</td>\n",
       "      <td>7.25</td>\n",
       "      <td>4</td>\n",
       "      <td>20</td>\n",
       "      <td>0</td>\n",
       "      <td>0</td>\n",
       "      <td>No</td>\n",
       "      <td>Okay</td>\n",
       "      <td>Yes</td>\n",
       "      <td>Yes</td>\n",
       "      <td>1.022</td>\n",
       "      <td>100%</td>\n",
       "    </tr>\n",
       "  </tbody>\n",
       "</table>\n",
       "</div>"
      ],
      "text/plain": [
       "         Date  PlayerID  Fatigue  Soreness  Desire  Irritability  SleepHours  \\\n",
       "0  2018-07-21         1        3         3       2             3        8.00   \n",
       "1  2018-07-21         2        4         3       4             4        8.00   \n",
       "2  2018-07-21         3        3         3       5             4        8.00   \n",
       "3  2018-07-21         4        2         3       5             4        6.50   \n",
       "4  2018-07-21         5        5         3       4             4        7.25   \n",
       "\n",
       "   SleepQuality  MonitoringScore  Pain  Illness Menstruation  Nutrition  \\\n",
       "0             2               13     0        0          Yes  Excellent   \n",
       "1             4               19     1        0          Yes        NaN   \n",
       "2             4               19     0        0           No        NaN   \n",
       "3             1               15     0        0          Yes  Excellent   \n",
       "4             4               20     0        0           No       Okay   \n",
       "\n",
       "  NutritionAdjustment USGMeasurement    USG TrainingReadiness  \n",
       "0                 Yes             No    NaN                0%  \n",
       "1                 NaN            Yes  1.010                0%  \n",
       "2                 NaN            Yes  1.016              100%  \n",
       "3                 Yes            Yes  1.025               95%  \n",
       "4                 Yes            Yes  1.022              100%  "
      ]
     },
     "execution_count": 22,
     "metadata": {},
     "output_type": "execute_result"
    }
   ],
   "source": [
    "wellness_df['Illness'] = wellness_df['Illness'].map({'Yes': 3, 'Slightly Off': 1, 'No': 0})\n",
    "wellness_df.head()\n"
   ]
  },
  {
   "cell_type": "markdown",
   "metadata": {},
   "source": [
    "### Menstruation"
   ]
  },
  {
   "cell_type": "code",
   "execution_count": 23,
   "metadata": {},
   "outputs": [
    {
     "data": {
      "text/plain": [
       "No     4285\n",
       "Yes     710\n",
       "Name: Menstruation, dtype: int64"
      ]
     },
     "execution_count": 23,
     "metadata": {},
     "output_type": "execute_result"
    }
   ],
   "source": [
    "wellness_df['Menstruation'].value_counts()"
   ]
  },
  {
   "cell_type": "markdown",
   "metadata": {},
   "source": [
    "Update: it seems like `value_counts` does not show values that are NaN so I will need to check for that separatly"
   ]
  },
  {
   "cell_type": "code",
   "execution_count": 24,
   "metadata": {},
   "outputs": [
    {
     "data": {
      "text/plain": [
       "(4995, 17)"
      ]
     },
     "execution_count": 24,
     "metadata": {},
     "output_type": "execute_result"
    }
   ],
   "source": [
    "wellness_df[~ wellness_df['Menstruation'].isnull()].shape"
   ]
  },
  {
   "cell_type": "markdown",
   "metadata": {},
   "source": [
    "17 observations is a small amount compared to 5011 overall so I will just remove the obervations that are missing Menstruation data."
   ]
  },
  {
   "cell_type": "code",
   "execution_count": 25,
   "metadata": {},
   "outputs": [
    {
     "data": {
      "text/plain": [
       "(4995, 17)"
      ]
     },
     "execution_count": 25,
     "metadata": {},
     "output_type": "execute_result"
    }
   ],
   "source": [
    "wellness_df = wellness_df[~ wellness_df['Menstruation'].isnull()]\n",
    "\n",
    "wellness_df.shape"
   ]
  },
  {
   "cell_type": "markdown",
   "metadata": {},
   "source": [
    "This is a simple `Yes/No` column so we can encode it with integers 1 and 0."
   ]
  },
  {
   "cell_type": "code",
   "execution_count": 26,
   "metadata": {},
   "outputs": [
    {
     "data": {
      "text/html": [
       "<div>\n",
       "<style scoped>\n",
       "    .dataframe tbody tr th:only-of-type {\n",
       "        vertical-align: middle;\n",
       "    }\n",
       "\n",
       "    .dataframe tbody tr th {\n",
       "        vertical-align: top;\n",
       "    }\n",
       "\n",
       "    .dataframe thead th {\n",
       "        text-align: right;\n",
       "    }\n",
       "</style>\n",
       "<table border=\"1\" class=\"dataframe\">\n",
       "  <thead>\n",
       "    <tr style=\"text-align: right;\">\n",
       "      <th></th>\n",
       "      <th>Date</th>\n",
       "      <th>PlayerID</th>\n",
       "      <th>Fatigue</th>\n",
       "      <th>Soreness</th>\n",
       "      <th>Desire</th>\n",
       "      <th>Irritability</th>\n",
       "      <th>SleepHours</th>\n",
       "      <th>SleepQuality</th>\n",
       "      <th>MonitoringScore</th>\n",
       "      <th>Pain</th>\n",
       "      <th>Illness</th>\n",
       "      <th>Menstruation</th>\n",
       "      <th>Nutrition</th>\n",
       "      <th>NutritionAdjustment</th>\n",
       "      <th>USGMeasurement</th>\n",
       "      <th>USG</th>\n",
       "      <th>TrainingReadiness</th>\n",
       "    </tr>\n",
       "  </thead>\n",
       "  <tbody>\n",
       "    <tr>\n",
       "      <th>0</th>\n",
       "      <td>2018-07-21</td>\n",
       "      <td>1</td>\n",
       "      <td>3</td>\n",
       "      <td>3</td>\n",
       "      <td>2</td>\n",
       "      <td>3</td>\n",
       "      <td>8.00</td>\n",
       "      <td>2</td>\n",
       "      <td>13</td>\n",
       "      <td>0</td>\n",
       "      <td>0</td>\n",
       "      <td>1</td>\n",
       "      <td>Excellent</td>\n",
       "      <td>Yes</td>\n",
       "      <td>No</td>\n",
       "      <td>NaN</td>\n",
       "      <td>0%</td>\n",
       "    </tr>\n",
       "    <tr>\n",
       "      <th>1</th>\n",
       "      <td>2018-07-21</td>\n",
       "      <td>2</td>\n",
       "      <td>4</td>\n",
       "      <td>3</td>\n",
       "      <td>4</td>\n",
       "      <td>4</td>\n",
       "      <td>8.00</td>\n",
       "      <td>4</td>\n",
       "      <td>19</td>\n",
       "      <td>1</td>\n",
       "      <td>0</td>\n",
       "      <td>1</td>\n",
       "      <td>NaN</td>\n",
       "      <td>NaN</td>\n",
       "      <td>Yes</td>\n",
       "      <td>1.010</td>\n",
       "      <td>0%</td>\n",
       "    </tr>\n",
       "    <tr>\n",
       "      <th>2</th>\n",
       "      <td>2018-07-21</td>\n",
       "      <td>3</td>\n",
       "      <td>3</td>\n",
       "      <td>3</td>\n",
       "      <td>5</td>\n",
       "      <td>4</td>\n",
       "      <td>8.00</td>\n",
       "      <td>4</td>\n",
       "      <td>19</td>\n",
       "      <td>0</td>\n",
       "      <td>0</td>\n",
       "      <td>0</td>\n",
       "      <td>NaN</td>\n",
       "      <td>NaN</td>\n",
       "      <td>Yes</td>\n",
       "      <td>1.016</td>\n",
       "      <td>100%</td>\n",
       "    </tr>\n",
       "    <tr>\n",
       "      <th>3</th>\n",
       "      <td>2018-07-21</td>\n",
       "      <td>4</td>\n",
       "      <td>2</td>\n",
       "      <td>3</td>\n",
       "      <td>5</td>\n",
       "      <td>4</td>\n",
       "      <td>6.50</td>\n",
       "      <td>1</td>\n",
       "      <td>15</td>\n",
       "      <td>0</td>\n",
       "      <td>0</td>\n",
       "      <td>1</td>\n",
       "      <td>Excellent</td>\n",
       "      <td>Yes</td>\n",
       "      <td>Yes</td>\n",
       "      <td>1.025</td>\n",
       "      <td>95%</td>\n",
       "    </tr>\n",
       "    <tr>\n",
       "      <th>4</th>\n",
       "      <td>2018-07-21</td>\n",
       "      <td>5</td>\n",
       "      <td>5</td>\n",
       "      <td>3</td>\n",
       "      <td>4</td>\n",
       "      <td>4</td>\n",
       "      <td>7.25</td>\n",
       "      <td>4</td>\n",
       "      <td>20</td>\n",
       "      <td>0</td>\n",
       "      <td>0</td>\n",
       "      <td>0</td>\n",
       "      <td>Okay</td>\n",
       "      <td>Yes</td>\n",
       "      <td>Yes</td>\n",
       "      <td>1.022</td>\n",
       "      <td>100%</td>\n",
       "    </tr>\n",
       "  </tbody>\n",
       "</table>\n",
       "</div>"
      ],
      "text/plain": [
       "         Date  PlayerID  Fatigue  Soreness  Desire  Irritability  SleepHours  \\\n",
       "0  2018-07-21         1        3         3       2             3        8.00   \n",
       "1  2018-07-21         2        4         3       4             4        8.00   \n",
       "2  2018-07-21         3        3         3       5             4        8.00   \n",
       "3  2018-07-21         4        2         3       5             4        6.50   \n",
       "4  2018-07-21         5        5         3       4             4        7.25   \n",
       "\n",
       "   SleepQuality  MonitoringScore  Pain  Illness  Menstruation  Nutrition  \\\n",
       "0             2               13     0        0             1  Excellent   \n",
       "1             4               19     1        0             1        NaN   \n",
       "2             4               19     0        0             0        NaN   \n",
       "3             1               15     0        0             1  Excellent   \n",
       "4             4               20     0        0             0       Okay   \n",
       "\n",
       "  NutritionAdjustment USGMeasurement    USG TrainingReadiness  \n",
       "0                 Yes             No    NaN                0%  \n",
       "1                 NaN            Yes  1.010                0%  \n",
       "2                 NaN            Yes  1.016              100%  \n",
       "3                 Yes            Yes  1.025               95%  \n",
       "4                 Yes            Yes  1.022              100%  "
      ]
     },
     "execution_count": 26,
     "metadata": {},
     "output_type": "execute_result"
    }
   ],
   "source": [
    "wellness_df['Menstruation'] = wellness_df['Menstruation'].map(dict(Yes=1, No=0))\n",
    "wellness_df.head()\n"
   ]
  },
  {
   "cell_type": "markdown",
   "metadata": {},
   "source": [
    "### Nutrition"
   ]
  },
  {
   "cell_type": "code",
   "execution_count": 27,
   "metadata": {},
   "outputs": [
    {
     "data": {
      "text/plain": [
       "Excellent    2706\n",
       "Okay         1394\n",
       "Poor           63\n",
       "Name: Nutrition, dtype: int64"
      ]
     },
     "execution_count": 27,
     "metadata": {},
     "output_type": "execute_result"
    }
   ],
   "source": [
    "wellness_df['Nutrition'].value_counts()\n"
   ]
  },
  {
   "cell_type": "code",
   "execution_count": 28,
   "metadata": {},
   "outputs": [
    {
     "data": {
      "text/plain": [
       "(832, 17)"
      ]
     },
     "execution_count": 28,
     "metadata": {},
     "output_type": "execute_result"
    }
   ],
   "source": [
    "wellness_df[wellness_df['Nutrition'].isnull()].shape\n"
   ]
  },
  {
   "cell_type": "markdown",
   "metadata": {},
   "source": [
    "#### Impute By Sampling From Distribution"
   ]
  },
  {
   "cell_type": "markdown",
   "metadata": {},
   "source": [
    "There are a pretty solid amont of missing values but it would be nice to still include `Nutrition` in our analysis so I will resample the distribution to fill in missing values."
   ]
  },
  {
   "cell_type": "code",
   "execution_count": 29,
   "metadata": {},
   "outputs": [
    {
     "data": {
      "text/html": [
       "<div>\n",
       "<style scoped>\n",
       "    .dataframe tbody tr th:only-of-type {\n",
       "        vertical-align: middle;\n",
       "    }\n",
       "\n",
       "    .dataframe tbody tr th {\n",
       "        vertical-align: top;\n",
       "    }\n",
       "\n",
       "    .dataframe thead th {\n",
       "        text-align: right;\n",
       "    }\n",
       "</style>\n",
       "<table border=\"1\" class=\"dataframe\">\n",
       "  <thead>\n",
       "    <tr style=\"text-align: right;\">\n",
       "      <th></th>\n",
       "      <th>Date</th>\n",
       "      <th>PlayerID</th>\n",
       "      <th>Fatigue</th>\n",
       "      <th>Soreness</th>\n",
       "      <th>Desire</th>\n",
       "      <th>Irritability</th>\n",
       "      <th>SleepHours</th>\n",
       "      <th>SleepQuality</th>\n",
       "      <th>MonitoringScore</th>\n",
       "      <th>Pain</th>\n",
       "      <th>Illness</th>\n",
       "      <th>Menstruation</th>\n",
       "      <th>Nutrition</th>\n",
       "      <th>NutritionAdjustment</th>\n",
       "      <th>USGMeasurement</th>\n",
       "      <th>USG</th>\n",
       "      <th>TrainingReadiness</th>\n",
       "    </tr>\n",
       "  </thead>\n",
       "  <tbody>\n",
       "    <tr>\n",
       "      <th>0</th>\n",
       "      <td>2018-07-21</td>\n",
       "      <td>1</td>\n",
       "      <td>3</td>\n",
       "      <td>3</td>\n",
       "      <td>2</td>\n",
       "      <td>3</td>\n",
       "      <td>8.00</td>\n",
       "      <td>2</td>\n",
       "      <td>13</td>\n",
       "      <td>0</td>\n",
       "      <td>0</td>\n",
       "      <td>1</td>\n",
       "      <td>Excellent</td>\n",
       "      <td>Yes</td>\n",
       "      <td>No</td>\n",
       "      <td>NaN</td>\n",
       "      <td>0%</td>\n",
       "    </tr>\n",
       "    <tr>\n",
       "      <th>1</th>\n",
       "      <td>2018-07-21</td>\n",
       "      <td>2</td>\n",
       "      <td>4</td>\n",
       "      <td>3</td>\n",
       "      <td>4</td>\n",
       "      <td>4</td>\n",
       "      <td>8.00</td>\n",
       "      <td>4</td>\n",
       "      <td>19</td>\n",
       "      <td>1</td>\n",
       "      <td>0</td>\n",
       "      <td>1</td>\n",
       "      <td>Okay</td>\n",
       "      <td>NaN</td>\n",
       "      <td>Yes</td>\n",
       "      <td>1.010</td>\n",
       "      <td>0%</td>\n",
       "    </tr>\n",
       "    <tr>\n",
       "      <th>2</th>\n",
       "      <td>2018-07-21</td>\n",
       "      <td>3</td>\n",
       "      <td>3</td>\n",
       "      <td>3</td>\n",
       "      <td>5</td>\n",
       "      <td>4</td>\n",
       "      <td>8.00</td>\n",
       "      <td>4</td>\n",
       "      <td>19</td>\n",
       "      <td>0</td>\n",
       "      <td>0</td>\n",
       "      <td>0</td>\n",
       "      <td>Okay</td>\n",
       "      <td>NaN</td>\n",
       "      <td>Yes</td>\n",
       "      <td>1.016</td>\n",
       "      <td>100%</td>\n",
       "    </tr>\n",
       "    <tr>\n",
       "      <th>3</th>\n",
       "      <td>2018-07-21</td>\n",
       "      <td>4</td>\n",
       "      <td>2</td>\n",
       "      <td>3</td>\n",
       "      <td>5</td>\n",
       "      <td>4</td>\n",
       "      <td>6.50</td>\n",
       "      <td>1</td>\n",
       "      <td>15</td>\n",
       "      <td>0</td>\n",
       "      <td>0</td>\n",
       "      <td>1</td>\n",
       "      <td>Excellent</td>\n",
       "      <td>Yes</td>\n",
       "      <td>Yes</td>\n",
       "      <td>1.025</td>\n",
       "      <td>95%</td>\n",
       "    </tr>\n",
       "    <tr>\n",
       "      <th>4</th>\n",
       "      <td>2018-07-21</td>\n",
       "      <td>5</td>\n",
       "      <td>5</td>\n",
       "      <td>3</td>\n",
       "      <td>4</td>\n",
       "      <td>4</td>\n",
       "      <td>7.25</td>\n",
       "      <td>4</td>\n",
       "      <td>20</td>\n",
       "      <td>0</td>\n",
       "      <td>0</td>\n",
       "      <td>0</td>\n",
       "      <td>Okay</td>\n",
       "      <td>Yes</td>\n",
       "      <td>Yes</td>\n",
       "      <td>1.022</td>\n",
       "      <td>100%</td>\n",
       "    </tr>\n",
       "  </tbody>\n",
       "</table>\n",
       "</div>"
      ],
      "text/plain": [
       "         Date  PlayerID  Fatigue  Soreness  Desire  Irritability  SleepHours  \\\n",
       "0  2018-07-21         1        3         3       2             3        8.00   \n",
       "1  2018-07-21         2        4         3       4             4        8.00   \n",
       "2  2018-07-21         3        3         3       5             4        8.00   \n",
       "3  2018-07-21         4        2         3       5             4        6.50   \n",
       "4  2018-07-21         5        5         3       4             4        7.25   \n",
       "\n",
       "   SleepQuality  MonitoringScore  Pain  Illness  Menstruation  Nutrition  \\\n",
       "0             2               13     0        0             1  Excellent   \n",
       "1             4               19     1        0             1       Okay   \n",
       "2             4               19     0        0             0       Okay   \n",
       "3             1               15     0        0             1  Excellent   \n",
       "4             4               20     0        0             0       Okay   \n",
       "\n",
       "  NutritionAdjustment USGMeasurement    USG TrainingReadiness  \n",
       "0                 Yes             No    NaN                0%  \n",
       "1                 NaN            Yes  1.010                0%  \n",
       "2                 NaN            Yes  1.016              100%  \n",
       "3                 Yes            Yes  1.025               95%  \n",
       "4                 Yes            Yes  1.022              100%  "
      ]
     },
     "execution_count": 29,
     "metadata": {},
     "output_type": "execute_result"
    }
   ],
   "source": [
    "normalized_nutrition_value_counts = wellness_df['Nutrition'].value_counts(normalize=True)\n",
    "missing_nutrition_indicies = wellness_df['Nutrition'].isnull()\n",
    "wellness_df.loc[missing_nutrition_indicies, 'Nutrition'] = np.random.choice(normalized_nutrition_value_counts.index, size=len(wellness_df[missing_nutrition_indicies]), p=normalized_nutrition_value_counts.values)\n",
    "wellness_df.head()\n"
   ]
  },
  {
   "cell_type": "markdown",
   "metadata": {},
   "source": [
    "Make sure the imputation worked by looking for missing values again."
   ]
  },
  {
   "cell_type": "code",
   "execution_count": 30,
   "metadata": {},
   "outputs": [
    {
     "data": {
      "text/plain": [
       "(0, 17)"
      ]
     },
     "execution_count": 30,
     "metadata": {},
     "output_type": "execute_result"
    }
   ],
   "source": [
    "wellness_df[wellness_df['Nutrition'].isnull()].shape\n"
   ]
  },
  {
   "cell_type": "code",
   "execution_count": 31,
   "metadata": {},
   "outputs": [
    {
     "data": {
      "text/plain": [
       "Excellent    3273\n",
       "Okay         1646\n",
       "Poor           76\n",
       "Name: Nutrition, dtype: int64"
      ]
     },
     "execution_count": 31,
     "metadata": {},
     "output_type": "execute_result"
    }
   ],
   "source": [
    "wellness_df['Nutrition'].value_counts()"
   ]
  },
  {
   "cell_type": "markdown",
   "metadata": {},
   "source": [
    "I will encode this as a ordered categorical variable with equal space between categories"
   ]
  },
  {
   "cell_type": "code",
   "execution_count": 32,
   "metadata": {},
   "outputs": [
    {
     "data": {
      "text/html": [
       "<div>\n",
       "<style scoped>\n",
       "    .dataframe tbody tr th:only-of-type {\n",
       "        vertical-align: middle;\n",
       "    }\n",
       "\n",
       "    .dataframe tbody tr th {\n",
       "        vertical-align: top;\n",
       "    }\n",
       "\n",
       "    .dataframe thead th {\n",
       "        text-align: right;\n",
       "    }\n",
       "</style>\n",
       "<table border=\"1\" class=\"dataframe\">\n",
       "  <thead>\n",
       "    <tr style=\"text-align: right;\">\n",
       "      <th></th>\n",
       "      <th>Date</th>\n",
       "      <th>PlayerID</th>\n",
       "      <th>Fatigue</th>\n",
       "      <th>Soreness</th>\n",
       "      <th>Desire</th>\n",
       "      <th>Irritability</th>\n",
       "      <th>SleepHours</th>\n",
       "      <th>SleepQuality</th>\n",
       "      <th>MonitoringScore</th>\n",
       "      <th>Pain</th>\n",
       "      <th>Illness</th>\n",
       "      <th>Menstruation</th>\n",
       "      <th>Nutrition</th>\n",
       "      <th>NutritionAdjustment</th>\n",
       "      <th>USGMeasurement</th>\n",
       "      <th>USG</th>\n",
       "      <th>TrainingReadiness</th>\n",
       "    </tr>\n",
       "  </thead>\n",
       "  <tbody>\n",
       "    <tr>\n",
       "      <th>0</th>\n",
       "      <td>2018-07-21</td>\n",
       "      <td>1</td>\n",
       "      <td>3</td>\n",
       "      <td>3</td>\n",
       "      <td>2</td>\n",
       "      <td>3</td>\n",
       "      <td>8.00</td>\n",
       "      <td>2</td>\n",
       "      <td>13</td>\n",
       "      <td>0</td>\n",
       "      <td>0</td>\n",
       "      <td>1</td>\n",
       "      <td>3</td>\n",
       "      <td>Yes</td>\n",
       "      <td>No</td>\n",
       "      <td>NaN</td>\n",
       "      <td>0%</td>\n",
       "    </tr>\n",
       "    <tr>\n",
       "      <th>1</th>\n",
       "      <td>2018-07-21</td>\n",
       "      <td>2</td>\n",
       "      <td>4</td>\n",
       "      <td>3</td>\n",
       "      <td>4</td>\n",
       "      <td>4</td>\n",
       "      <td>8.00</td>\n",
       "      <td>4</td>\n",
       "      <td>19</td>\n",
       "      <td>1</td>\n",
       "      <td>0</td>\n",
       "      <td>1</td>\n",
       "      <td>2</td>\n",
       "      <td>NaN</td>\n",
       "      <td>Yes</td>\n",
       "      <td>1.010</td>\n",
       "      <td>0%</td>\n",
       "    </tr>\n",
       "    <tr>\n",
       "      <th>2</th>\n",
       "      <td>2018-07-21</td>\n",
       "      <td>3</td>\n",
       "      <td>3</td>\n",
       "      <td>3</td>\n",
       "      <td>5</td>\n",
       "      <td>4</td>\n",
       "      <td>8.00</td>\n",
       "      <td>4</td>\n",
       "      <td>19</td>\n",
       "      <td>0</td>\n",
       "      <td>0</td>\n",
       "      <td>0</td>\n",
       "      <td>2</td>\n",
       "      <td>NaN</td>\n",
       "      <td>Yes</td>\n",
       "      <td>1.016</td>\n",
       "      <td>100%</td>\n",
       "    </tr>\n",
       "    <tr>\n",
       "      <th>3</th>\n",
       "      <td>2018-07-21</td>\n",
       "      <td>4</td>\n",
       "      <td>2</td>\n",
       "      <td>3</td>\n",
       "      <td>5</td>\n",
       "      <td>4</td>\n",
       "      <td>6.50</td>\n",
       "      <td>1</td>\n",
       "      <td>15</td>\n",
       "      <td>0</td>\n",
       "      <td>0</td>\n",
       "      <td>1</td>\n",
       "      <td>3</td>\n",
       "      <td>Yes</td>\n",
       "      <td>Yes</td>\n",
       "      <td>1.025</td>\n",
       "      <td>95%</td>\n",
       "    </tr>\n",
       "    <tr>\n",
       "      <th>4</th>\n",
       "      <td>2018-07-21</td>\n",
       "      <td>5</td>\n",
       "      <td>5</td>\n",
       "      <td>3</td>\n",
       "      <td>4</td>\n",
       "      <td>4</td>\n",
       "      <td>7.25</td>\n",
       "      <td>4</td>\n",
       "      <td>20</td>\n",
       "      <td>0</td>\n",
       "      <td>0</td>\n",
       "      <td>0</td>\n",
       "      <td>2</td>\n",
       "      <td>Yes</td>\n",
       "      <td>Yes</td>\n",
       "      <td>1.022</td>\n",
       "      <td>100%</td>\n",
       "    </tr>\n",
       "  </tbody>\n",
       "</table>\n",
       "</div>"
      ],
      "text/plain": [
       "         Date  PlayerID  Fatigue  Soreness  Desire  Irritability  SleepHours  \\\n",
       "0  2018-07-21         1        3         3       2             3        8.00   \n",
       "1  2018-07-21         2        4         3       4             4        8.00   \n",
       "2  2018-07-21         3        3         3       5             4        8.00   \n",
       "3  2018-07-21         4        2         3       5             4        6.50   \n",
       "4  2018-07-21         5        5         3       4             4        7.25   \n",
       "\n",
       "   SleepQuality  MonitoringScore  Pain  Illness  Menstruation  Nutrition  \\\n",
       "0             2               13     0        0             1          3   \n",
       "1             4               19     1        0             1          2   \n",
       "2             4               19     0        0             0          2   \n",
       "3             1               15     0        0             1          3   \n",
       "4             4               20     0        0             0          2   \n",
       "\n",
       "  NutritionAdjustment USGMeasurement    USG TrainingReadiness  \n",
       "0                 Yes             No    NaN                0%  \n",
       "1                 NaN            Yes  1.010                0%  \n",
       "2                 NaN            Yes  1.016              100%  \n",
       "3                 Yes            Yes  1.025               95%  \n",
       "4                 Yes            Yes  1.022              100%  "
      ]
     },
     "execution_count": 32,
     "metadata": {},
     "output_type": "execute_result"
    }
   ],
   "source": [
    "wellness_df['Nutrition'] = wellness_df['Nutrition'].map({'Excellent': 3, 'Okay': 2, 'Poor': 1})\n",
    "wellness_df.head()\n"
   ]
  },
  {
   "cell_type": "markdown",
   "metadata": {},
   "source": [
    "### NutritionAdjustment"
   ]
  },
  {
   "cell_type": "code",
   "execution_count": 33,
   "metadata": {},
   "outputs": [
    {
     "data": {
      "text/plain": [
       "Yes             3718\n",
       "No               438\n",
       "I Don't Know      99\n",
       "Name: NutritionAdjustment, dtype: int64"
      ]
     },
     "execution_count": 33,
     "metadata": {},
     "output_type": "execute_result"
    }
   ],
   "source": [
    "wellness_df['NutritionAdjustment'].value_counts()"
   ]
  },
  {
   "cell_type": "code",
   "execution_count": 34,
   "metadata": {},
   "outputs": [
    {
     "data": {
      "text/plain": [
       "(740, 17)"
      ]
     },
     "execution_count": 34,
     "metadata": {},
     "output_type": "execute_result"
    }
   ],
   "source": [
    "wellness_df[wellness_df['NutritionAdjustment'].isnull()].shape"
   ]
  },
  {
   "cell_type": "markdown",
   "metadata": {},
   "source": [
    "We could map all missing values for nutrition adjustment to the \"I don't know\" value but then we would have more \"I don't knows\" than \"No\". How do we encode this?"
   ]
  },
  {
   "cell_type": "markdown",
   "metadata": {},
   "source": [
    "Since there are so many missing values, I will remove the nutrition columns for now"
   ]
  },
  {
   "cell_type": "code",
   "execution_count": 35,
   "metadata": {},
   "outputs": [
    {
     "data": {
      "text/html": [
       "<div>\n",
       "<style scoped>\n",
       "    .dataframe tbody tr th:only-of-type {\n",
       "        vertical-align: middle;\n",
       "    }\n",
       "\n",
       "    .dataframe tbody tr th {\n",
       "        vertical-align: top;\n",
       "    }\n",
       "\n",
       "    .dataframe thead th {\n",
       "        text-align: right;\n",
       "    }\n",
       "</style>\n",
       "<table border=\"1\" class=\"dataframe\">\n",
       "  <thead>\n",
       "    <tr style=\"text-align: right;\">\n",
       "      <th></th>\n",
       "      <th>Date</th>\n",
       "      <th>PlayerID</th>\n",
       "      <th>Fatigue</th>\n",
       "      <th>Soreness</th>\n",
       "      <th>Desire</th>\n",
       "      <th>Irritability</th>\n",
       "      <th>SleepHours</th>\n",
       "      <th>SleepQuality</th>\n",
       "      <th>MonitoringScore</th>\n",
       "      <th>Pain</th>\n",
       "      <th>Illness</th>\n",
       "      <th>Menstruation</th>\n",
       "      <th>Nutrition</th>\n",
       "      <th>USGMeasurement</th>\n",
       "      <th>USG</th>\n",
       "      <th>TrainingReadiness</th>\n",
       "    </tr>\n",
       "  </thead>\n",
       "  <tbody>\n",
       "    <tr>\n",
       "      <th>0</th>\n",
       "      <td>2018-07-21</td>\n",
       "      <td>1</td>\n",
       "      <td>3</td>\n",
       "      <td>3</td>\n",
       "      <td>2</td>\n",
       "      <td>3</td>\n",
       "      <td>8.00</td>\n",
       "      <td>2</td>\n",
       "      <td>13</td>\n",
       "      <td>0</td>\n",
       "      <td>0</td>\n",
       "      <td>1</td>\n",
       "      <td>3</td>\n",
       "      <td>No</td>\n",
       "      <td>NaN</td>\n",
       "      <td>0%</td>\n",
       "    </tr>\n",
       "    <tr>\n",
       "      <th>1</th>\n",
       "      <td>2018-07-21</td>\n",
       "      <td>2</td>\n",
       "      <td>4</td>\n",
       "      <td>3</td>\n",
       "      <td>4</td>\n",
       "      <td>4</td>\n",
       "      <td>8.00</td>\n",
       "      <td>4</td>\n",
       "      <td>19</td>\n",
       "      <td>1</td>\n",
       "      <td>0</td>\n",
       "      <td>1</td>\n",
       "      <td>2</td>\n",
       "      <td>Yes</td>\n",
       "      <td>1.010</td>\n",
       "      <td>0%</td>\n",
       "    </tr>\n",
       "    <tr>\n",
       "      <th>2</th>\n",
       "      <td>2018-07-21</td>\n",
       "      <td>3</td>\n",
       "      <td>3</td>\n",
       "      <td>3</td>\n",
       "      <td>5</td>\n",
       "      <td>4</td>\n",
       "      <td>8.00</td>\n",
       "      <td>4</td>\n",
       "      <td>19</td>\n",
       "      <td>0</td>\n",
       "      <td>0</td>\n",
       "      <td>0</td>\n",
       "      <td>2</td>\n",
       "      <td>Yes</td>\n",
       "      <td>1.016</td>\n",
       "      <td>100%</td>\n",
       "    </tr>\n",
       "    <tr>\n",
       "      <th>3</th>\n",
       "      <td>2018-07-21</td>\n",
       "      <td>4</td>\n",
       "      <td>2</td>\n",
       "      <td>3</td>\n",
       "      <td>5</td>\n",
       "      <td>4</td>\n",
       "      <td>6.50</td>\n",
       "      <td>1</td>\n",
       "      <td>15</td>\n",
       "      <td>0</td>\n",
       "      <td>0</td>\n",
       "      <td>1</td>\n",
       "      <td>3</td>\n",
       "      <td>Yes</td>\n",
       "      <td>1.025</td>\n",
       "      <td>95%</td>\n",
       "    </tr>\n",
       "    <tr>\n",
       "      <th>4</th>\n",
       "      <td>2018-07-21</td>\n",
       "      <td>5</td>\n",
       "      <td>5</td>\n",
       "      <td>3</td>\n",
       "      <td>4</td>\n",
       "      <td>4</td>\n",
       "      <td>7.25</td>\n",
       "      <td>4</td>\n",
       "      <td>20</td>\n",
       "      <td>0</td>\n",
       "      <td>0</td>\n",
       "      <td>0</td>\n",
       "      <td>2</td>\n",
       "      <td>Yes</td>\n",
       "      <td>1.022</td>\n",
       "      <td>100%</td>\n",
       "    </tr>\n",
       "  </tbody>\n",
       "</table>\n",
       "</div>"
      ],
      "text/plain": [
       "         Date  PlayerID  Fatigue  Soreness  Desire  Irritability  SleepHours  \\\n",
       "0  2018-07-21         1        3         3       2             3        8.00   \n",
       "1  2018-07-21         2        4         3       4             4        8.00   \n",
       "2  2018-07-21         3        3         3       5             4        8.00   \n",
       "3  2018-07-21         4        2         3       5             4        6.50   \n",
       "4  2018-07-21         5        5         3       4             4        7.25   \n",
       "\n",
       "   SleepQuality  MonitoringScore  Pain  Illness  Menstruation  Nutrition  \\\n",
       "0             2               13     0        0             1          3   \n",
       "1             4               19     1        0             1          2   \n",
       "2             4               19     0        0             0          2   \n",
       "3             1               15     0        0             1          3   \n",
       "4             4               20     0        0             0          2   \n",
       "\n",
       "  USGMeasurement    USG TrainingReadiness  \n",
       "0             No    NaN                0%  \n",
       "1            Yes  1.010                0%  \n",
       "2            Yes  1.016              100%  \n",
       "3            Yes  1.025               95%  \n",
       "4            Yes  1.022              100%  "
      ]
     },
     "execution_count": 35,
     "metadata": {},
     "output_type": "execute_result"
    }
   ],
   "source": [
    "wellness_df = wellness_df.drop(columns=['NutritionAdjustment'])\n",
    "wellness_df.head()\n"
   ]
  },
  {
   "cell_type": "markdown",
   "metadata": {},
   "source": [
    "### USG"
   ]
  },
  {
   "cell_type": "markdown",
   "metadata": {},
   "source": [
    "`USGMeasirement` is just a flag that tells us whether there is a value for USG on that row so it does not prodive us any useful information we could not get from just looking at the `USG` column. So, I will drop it."
   ]
  },
  {
   "cell_type": "code",
   "execution_count": 36,
   "metadata": {},
   "outputs": [],
   "source": [
    "wellness_df = wellness_df.drop(columns=['USGMeasurement'])\n"
   ]
  },
  {
   "cell_type": "code",
   "execution_count": 37,
   "metadata": {},
   "outputs": [
    {
     "data": {
      "text/plain": [
       "(4370, 15)"
      ]
     },
     "execution_count": 37,
     "metadata": {},
     "output_type": "execute_result"
    }
   ],
   "source": [
    "wellness_df[wellness_df['USG'].isnull()].shape\n"
   ]
  },
  {
   "cell_type": "markdown",
   "metadata": {},
   "source": [
    "There are so many missing measuresments for `USG` that I don't think we could do anything over than dropping it."
   ]
  },
  {
   "cell_type": "code",
   "execution_count": 38,
   "metadata": {},
   "outputs": [],
   "source": [
    "wellness_df = wellness_df.drop(columns=['USG'])\n"
   ]
  },
  {
   "cell_type": "markdown",
   "metadata": {},
   "source": [
    "### TrainingReadiness"
   ]
  },
  {
   "cell_type": "code",
   "execution_count": 39,
   "metadata": {},
   "outputs": [
    {
     "data": {
      "text/plain": [
       "100%    1434\n",
       "0%      1004\n",
       "90%      641\n",
       "95%      590\n",
       "85%      293\n",
       "80%      226\n",
       "75%      201\n",
       "70%      152\n",
       "65%      111\n",
       "50%       72\n",
       "60%       70\n",
       "55%       52\n",
       "35%       26\n",
       "45%       23\n",
       "30%       17\n",
       "25%       17\n",
       "40%       16\n",
       "20%       14\n",
       "15%       14\n",
       "5%        11\n",
       "10%       11\n",
       "Name: TrainingReadiness, dtype: int64"
      ]
     },
     "execution_count": 39,
     "metadata": {},
     "output_type": "execute_result"
    }
   ],
   "source": [
    "wellness_df['TrainingReadiness'].value_counts()"
   ]
  },
  {
   "cell_type": "code",
   "execution_count": 40,
   "metadata": {},
   "outputs": [
    {
     "data": {
      "text/plain": [
       "(0, 14)"
      ]
     },
     "execution_count": 40,
     "metadata": {},
     "output_type": "execute_result"
    }
   ],
   "source": [
    "wellness_df[wellness_df['TrainingReadiness'].isnull()].shape"
   ]
  },
  {
   "cell_type": "markdown",
   "metadata": {},
   "source": [
    "Training readiness has no missing values and is expressed as percentages. I can map this to integers."
   ]
  },
  {
   "cell_type": "code",
   "execution_count": 41,
   "metadata": {},
   "outputs": [
    {
     "data": {
      "text/html": [
       "<div>\n",
       "<style scoped>\n",
       "    .dataframe tbody tr th:only-of-type {\n",
       "        vertical-align: middle;\n",
       "    }\n",
       "\n",
       "    .dataframe tbody tr th {\n",
       "        vertical-align: top;\n",
       "    }\n",
       "\n",
       "    .dataframe thead th {\n",
       "        text-align: right;\n",
       "    }\n",
       "</style>\n",
       "<table border=\"1\" class=\"dataframe\">\n",
       "  <thead>\n",
       "    <tr style=\"text-align: right;\">\n",
       "      <th></th>\n",
       "      <th>Date</th>\n",
       "      <th>PlayerID</th>\n",
       "      <th>Fatigue</th>\n",
       "      <th>Soreness</th>\n",
       "      <th>Desire</th>\n",
       "      <th>Irritability</th>\n",
       "      <th>SleepHours</th>\n",
       "      <th>SleepQuality</th>\n",
       "      <th>MonitoringScore</th>\n",
       "      <th>Pain</th>\n",
       "      <th>Illness</th>\n",
       "      <th>Menstruation</th>\n",
       "      <th>Nutrition</th>\n",
       "      <th>TrainingReadiness</th>\n",
       "    </tr>\n",
       "  </thead>\n",
       "  <tbody>\n",
       "    <tr>\n",
       "      <th>0</th>\n",
       "      <td>2018-07-21</td>\n",
       "      <td>1</td>\n",
       "      <td>3</td>\n",
       "      <td>3</td>\n",
       "      <td>2</td>\n",
       "      <td>3</td>\n",
       "      <td>8.00</td>\n",
       "      <td>2</td>\n",
       "      <td>13</td>\n",
       "      <td>0</td>\n",
       "      <td>0</td>\n",
       "      <td>1</td>\n",
       "      <td>3</td>\n",
       "      <td>0</td>\n",
       "    </tr>\n",
       "    <tr>\n",
       "      <th>1</th>\n",
       "      <td>2018-07-21</td>\n",
       "      <td>2</td>\n",
       "      <td>4</td>\n",
       "      <td>3</td>\n",
       "      <td>4</td>\n",
       "      <td>4</td>\n",
       "      <td>8.00</td>\n",
       "      <td>4</td>\n",
       "      <td>19</td>\n",
       "      <td>1</td>\n",
       "      <td>0</td>\n",
       "      <td>1</td>\n",
       "      <td>2</td>\n",
       "      <td>0</td>\n",
       "    </tr>\n",
       "    <tr>\n",
       "      <th>2</th>\n",
       "      <td>2018-07-21</td>\n",
       "      <td>3</td>\n",
       "      <td>3</td>\n",
       "      <td>3</td>\n",
       "      <td>5</td>\n",
       "      <td>4</td>\n",
       "      <td>8.00</td>\n",
       "      <td>4</td>\n",
       "      <td>19</td>\n",
       "      <td>0</td>\n",
       "      <td>0</td>\n",
       "      <td>0</td>\n",
       "      <td>2</td>\n",
       "      <td>100</td>\n",
       "    </tr>\n",
       "    <tr>\n",
       "      <th>3</th>\n",
       "      <td>2018-07-21</td>\n",
       "      <td>4</td>\n",
       "      <td>2</td>\n",
       "      <td>3</td>\n",
       "      <td>5</td>\n",
       "      <td>4</td>\n",
       "      <td>6.50</td>\n",
       "      <td>1</td>\n",
       "      <td>15</td>\n",
       "      <td>0</td>\n",
       "      <td>0</td>\n",
       "      <td>1</td>\n",
       "      <td>3</td>\n",
       "      <td>95</td>\n",
       "    </tr>\n",
       "    <tr>\n",
       "      <th>4</th>\n",
       "      <td>2018-07-21</td>\n",
       "      <td>5</td>\n",
       "      <td>5</td>\n",
       "      <td>3</td>\n",
       "      <td>4</td>\n",
       "      <td>4</td>\n",
       "      <td>7.25</td>\n",
       "      <td>4</td>\n",
       "      <td>20</td>\n",
       "      <td>0</td>\n",
       "      <td>0</td>\n",
       "      <td>0</td>\n",
       "      <td>2</td>\n",
       "      <td>100</td>\n",
       "    </tr>\n",
       "  </tbody>\n",
       "</table>\n",
       "</div>"
      ],
      "text/plain": [
       "         Date  PlayerID  Fatigue  Soreness  Desire  Irritability  SleepHours  \\\n",
       "0  2018-07-21         1        3         3       2             3        8.00   \n",
       "1  2018-07-21         2        4         3       4             4        8.00   \n",
       "2  2018-07-21         3        3         3       5             4        8.00   \n",
       "3  2018-07-21         4        2         3       5             4        6.50   \n",
       "4  2018-07-21         5        5         3       4             4        7.25   \n",
       "\n",
       "   SleepQuality  MonitoringScore  Pain  Illness  Menstruation  Nutrition  \\\n",
       "0             2               13     0        0             1          3   \n",
       "1             4               19     1        0             1          2   \n",
       "2             4               19     0        0             0          2   \n",
       "3             1               15     0        0             1          3   \n",
       "4             4               20     0        0             0          2   \n",
       "\n",
       "   TrainingReadiness  \n",
       "0                  0  \n",
       "1                  0  \n",
       "2                100  \n",
       "3                 95  \n",
       "4                100  "
      ]
     },
     "execution_count": 41,
     "metadata": {},
     "output_type": "execute_result"
    }
   ],
   "source": [
    "wellness_df['TrainingReadiness'] = wellness_df.apply(lambda row: int(row['TrainingReadiness'][0:-1]), axis=1)\n",
    "wellness_df.head()\n"
   ]
  },
  {
   "cell_type": "code",
   "execution_count": 42,
   "metadata": {},
   "outputs": [
    {
     "data": {
      "text/plain": [
       "<matplotlib.axes._subplots.AxesSubplot at 0x1c1b779d30>"
      ]
     },
     "execution_count": 42,
     "metadata": {},
     "output_type": "execute_result"
    },
    {
     "data": {
      "image/png": "[encoded data removed]",
      "text/plain": [
       "<Figure size 432x288 with 1 Axes>"
      ]
     },
     "metadata": {
      "needs_background": "light"
     },
     "output_type": "display_data"
    }
   ],
   "source": [
    "wellness_df['TrainingReadiness'].hist()"
   ]
  },
  {
   "cell_type": "markdown",
   "metadata": {},
   "source": [
    "Training readiness has a interesting distribution where most players are 100% ready but the second most common response is close to 0. We also see a tail to the left of 100% with a small number of player tending down to about 50% readiness.\n",
    "\n",
    "It is interesting that most players see themselves as completely ready or not at all ready to train. I wonder what casues the players to be 0% ready to train? Is there are correlation to one of the binary variables like illness? If we look at those who responded with training readiness < 10%, what do the distributions for the wellness items look like?"
   ]
  },
  {
   "cell_type": "code",
   "execution_count": 43,
   "metadata": {},
   "outputs": [],
   "source": [
    "low_readiness_df = wellness_df[wellness_df['TrainingReadiness'] <= 10]\n",
    "high_readiness_df = wellness_df[wellness_df['TrainingReadiness'] >= 80]"
   ]
  },
  {
   "cell_type": "code",
   "execution_count": 44,
   "metadata": {},
   "outputs": [
    {
     "data": {
      "text/plain": [
       "17.680311890838208"
      ]
     },
     "execution_count": 44,
     "metadata": {},
     "output_type": "execute_result"
    }
   ],
   "source": [
    "low_readiness_df['MonitoringScore'].mean()"
   ]
  },
  {
   "cell_type": "code",
   "execution_count": 45,
   "metadata": {},
   "outputs": [
    {
     "data": {
      "text/plain": [
       "3.908857022161638"
      ]
     },
     "execution_count": 45,
     "metadata": {},
     "output_type": "execute_result"
    }
   ],
   "source": [
    "low_readiness_df['MonitoringScore'].std()"
   ]
  },
  {
   "cell_type": "code",
   "execution_count": 46,
   "metadata": {},
   "outputs": [
    {
     "data": {
      "text/plain": [
       "18.78831658291457"
      ]
     },
     "execution_count": 46,
     "metadata": {},
     "output_type": "execute_result"
    }
   ],
   "source": [
    "high_readiness_df['MonitoringScore'].mean()"
   ]
  },
  {
   "cell_type": "code",
   "execution_count": 47,
   "metadata": {},
   "outputs": [
    {
     "data": {
      "text/plain": [
       "3.589759467852359"
      ]
     },
     "execution_count": 47,
     "metadata": {},
     "output_type": "execute_result"
    }
   ],
   "source": [
    "high_readiness_df['MonitoringScore'].std()"
   ]
  },
  {
   "cell_type": "code",
   "execution_count": 48,
   "metadata": {},
   "outputs": [
    {
     "data": {
      "text/plain": [
       "Text(0.5, 1.0, 'Distribution of Monitor Score for Low Training Readiness')"
      ]
     },
     "execution_count": 48,
     "metadata": {},
     "output_type": "execute_result"
    },
    {
     "data": {
      "image/png": "[encoded data removed]",
      "text/plain": [
       "<Figure size 432x288 with 1 Axes>"
      ]
     },
     "metadata": {
      "needs_background": "light"
     },
     "output_type": "display_data"
    }
   ],
   "source": [
    "plt.bar(np.sort(low_readiness_df['MonitoringScore'].unique()), low_readiness_df['MonitoringScore'].value_counts().sort_index())\n",
    "plt.title('Distribution of Monitor Score for Low Training Readiness')\n"
   ]
  },
  {
   "cell_type": "code",
   "execution_count": 49,
   "metadata": {},
   "outputs": [
    {
     "data": {
      "text/plain": [
       "Text(0.5, 1.0, 'Distribution of Monitor Score for High Training Readiness')"
      ]
     },
     "execution_count": 49,
     "metadata": {},
     "output_type": "execute_result"
    },
    {
     "data": {
      "image/png": "[encoded data removed]",
      "text/plain": [
       "<Figure size 432x288 with 1 Axes>"
      ]
     },
     "metadata": {
      "needs_background": "light"
     },
     "output_type": "display_data"
    }
   ],
   "source": [
    "plt.bar(np.sort(high_readiness_df['MonitoringScore'].unique()), high_readiness_df['MonitoringScore'].value_counts().sort_index())\n",
    "plt.title('Distribution of Monitor Score for High Training Readiness')"
   ]
  },
  {
   "cell_type": "markdown",
   "metadata": {},
   "source": [
    "#### Is The Difference Significant?"
   ]
  },
  {
   "cell_type": "markdown",
   "metadata": {},
   "source": [
    "The monitoring score for those who reported a low monitoring score seems to be lower than the mean for those who reported a high monitoring score, but, is the difference significant?"
   ]
  },
  {
   "cell_type": "code",
   "execution_count": 50,
   "metadata": {},
   "outputs": [
    {
     "data": {
      "text/plain": [
       "Ttest_indResult(statistic=-8.409875700037977, pvalue=5.552492748622289e-17)"
      ]
     },
     "execution_count": 50,
     "metadata": {},
     "output_type": "execute_result"
    }
   ],
   "source": [
    "ttest_ind(low_readiness_df['MonitoringScore'], high_readiness_df['MonitoringScore'])"
   ]
  },
  {
   "cell_type": "markdown",
   "metadata": {},
   "source": [
    "We see that the difference in the means is significant. As we would expect, those who report that their training readiness is low tend to report lower monitor scores."
   ]
  },
  {
   "cell_type": "code",
   "execution_count": 51,
   "metadata": {},
   "outputs": [
    {
     "data": {
      "text/plain": [
       "0.13709833678544753"
      ]
     },
     "execution_count": 51,
     "metadata": {},
     "output_type": "execute_result"
    }
   ],
   "source": [
    "wellness_df['MonitoringScore'].corr(wellness_df['TrainingReadiness'])\n"
   ]
  },
  {
   "cell_type": "markdown",
   "metadata": {},
   "source": [
    "However, the effect size is weak, as we can see from the mean differences and the low correlation between Monitoring Score and Training Readiness."
   ]
  },
  {
   "cell_type": "markdown",
   "metadata": {},
   "source": [
    "### Monitoring Score"
   ]
  },
  {
   "cell_type": "markdown",
   "metadata": {},
   "source": [
    "This is an aggregation of the 5 scale values. We could either use this or the 5 scales on their own but it would not be appropriate to use both. We are trying to see if our data can be represented as latent factors so we should ignore this summary column and see if the columns that it is made from are actually all related."
   ]
  },
  {
   "cell_type": "code",
   "execution_count": 52,
   "metadata": {},
   "outputs": [
    {
     "data": {
      "text/html": [
       "<div>\n",
       "<style scoped>\n",
       "    .dataframe tbody tr th:only-of-type {\n",
       "        vertical-align: middle;\n",
       "    }\n",
       "\n",
       "    .dataframe tbody tr th {\n",
       "        vertical-align: top;\n",
       "    }\n",
       "\n",
       "    .dataframe thead th {\n",
       "        text-align: right;\n",
       "    }\n",
       "</style>\n",
       "<table border=\"1\" class=\"dataframe\">\n",
       "  <thead>\n",
       "    <tr style=\"text-align: right;\">\n",
       "      <th></th>\n",
       "      <th>Date</th>\n",
       "      <th>PlayerID</th>\n",
       "      <th>Fatigue</th>\n",
       "      <th>Soreness</th>\n",
       "      <th>Desire</th>\n",
       "      <th>Irritability</th>\n",
       "      <th>SleepHours</th>\n",
       "      <th>SleepQuality</th>\n",
       "      <th>Pain</th>\n",
       "      <th>Illness</th>\n",
       "      <th>Menstruation</th>\n",
       "      <th>Nutrition</th>\n",
       "      <th>TrainingReadiness</th>\n",
       "    </tr>\n",
       "  </thead>\n",
       "  <tbody>\n",
       "    <tr>\n",
       "      <th>0</th>\n",
       "      <td>2018-07-21</td>\n",
       "      <td>1</td>\n",
       "      <td>3</td>\n",
       "      <td>3</td>\n",
       "      <td>2</td>\n",
       "      <td>3</td>\n",
       "      <td>8.00</td>\n",
       "      <td>2</td>\n",
       "      <td>0</td>\n",
       "      <td>0</td>\n",
       "      <td>1</td>\n",
       "      <td>3</td>\n",
       "      <td>0</td>\n",
       "    </tr>\n",
       "    <tr>\n",
       "      <th>1</th>\n",
       "      <td>2018-07-21</td>\n",
       "      <td>2</td>\n",
       "      <td>4</td>\n",
       "      <td>3</td>\n",
       "      <td>4</td>\n",
       "      <td>4</td>\n",
       "      <td>8.00</td>\n",
       "      <td>4</td>\n",
       "      <td>1</td>\n",
       "      <td>0</td>\n",
       "      <td>1</td>\n",
       "      <td>2</td>\n",
       "      <td>0</td>\n",
       "    </tr>\n",
       "    <tr>\n",
       "      <th>2</th>\n",
       "      <td>2018-07-21</td>\n",
       "      <td>3</td>\n",
       "      <td>3</td>\n",
       "      <td>3</td>\n",
       "      <td>5</td>\n",
       "      <td>4</td>\n",
       "      <td>8.00</td>\n",
       "      <td>4</td>\n",
       "      <td>0</td>\n",
       "      <td>0</td>\n",
       "      <td>0</td>\n",
       "      <td>2</td>\n",
       "      <td>100</td>\n",
       "    </tr>\n",
       "    <tr>\n",
       "      <th>3</th>\n",
       "      <td>2018-07-21</td>\n",
       "      <td>4</td>\n",
       "      <td>2</td>\n",
       "      <td>3</td>\n",
       "      <td>5</td>\n",
       "      <td>4</td>\n",
       "      <td>6.50</td>\n",
       "      <td>1</td>\n",
       "      <td>0</td>\n",
       "      <td>0</td>\n",
       "      <td>1</td>\n",
       "      <td>3</td>\n",
       "      <td>95</td>\n",
       "    </tr>\n",
       "    <tr>\n",
       "      <th>4</th>\n",
       "      <td>2018-07-21</td>\n",
       "      <td>5</td>\n",
       "      <td>5</td>\n",
       "      <td>3</td>\n",
       "      <td>4</td>\n",
       "      <td>4</td>\n",
       "      <td>7.25</td>\n",
       "      <td>4</td>\n",
       "      <td>0</td>\n",
       "      <td>0</td>\n",
       "      <td>0</td>\n",
       "      <td>2</td>\n",
       "      <td>100</td>\n",
       "    </tr>\n",
       "  </tbody>\n",
       "</table>\n",
       "</div>"
      ],
      "text/plain": [
       "         Date  PlayerID  Fatigue  Soreness  Desire  Irritability  SleepHours  \\\n",
       "0  2018-07-21         1        3         3       2             3        8.00   \n",
       "1  2018-07-21         2        4         3       4             4        8.00   \n",
       "2  2018-07-21         3        3         3       5             4        8.00   \n",
       "3  2018-07-21         4        2         3       5             4        6.50   \n",
       "4  2018-07-21         5        5         3       4             4        7.25   \n",
       "\n",
       "   SleepQuality  Pain  Illness  Menstruation  Nutrition  TrainingReadiness  \n",
       "0             2     0        0             1          3                  0  \n",
       "1             4     1        0             1          2                  0  \n",
       "2             4     0        0             0          2                100  \n",
       "3             1     0        0             1          3                 95  \n",
       "4             4     0        0             0          2                100  "
      ]
     },
     "execution_count": 52,
     "metadata": {},
     "output_type": "execute_result"
    }
   ],
   "source": [
    "wellness_df = wellness_df.drop(columns=['MonitoringScore'])\n",
    "wellness_df.head()\n"
   ]
  },
  {
   "cell_type": "code",
   "execution_count": 53,
   "metadata": {},
   "outputs": [
    {
     "data": {
      "text/plain": [
       "(4995, 13)"
      ]
     },
     "execution_count": 53,
     "metadata": {},
     "output_type": "execute_result"
    }
   ],
   "source": [
    "wellness_df.shape\n"
   ]
  },
  {
   "cell_type": "markdown",
   "metadata": {},
   "source": [
    "After all my cleaning, I am left with 4995 observations and 11 observed variables for factor analysis (date and player id are not useful in this case."
   ]
  },
  {
   "cell_type": "code",
   "execution_count": 54,
   "metadata": {},
   "outputs": [
    {
     "data": {
      "text/plain": [
       "Index(['Date', 'PlayerID', 'Fatigue', 'Soreness', 'Desire', 'Irritability',\n",
       "       'SleepHours', 'SleepQuality', 'Pain', 'Illness', 'Menstruation',\n",
       "       'Nutrition', 'TrainingReadiness'],\n",
       "      dtype='object')"
      ]
     },
     "execution_count": 54,
     "metadata": {},
     "output_type": "execute_result"
    }
   ],
   "source": [
    "wellness_df.columns"
   ]
  },
  {
   "cell_type": "code",
   "execution_count": 55,
   "metadata": {},
   "outputs": [],
   "source": [
    "test_wellness_df = wellness_df.copy()"
   ]
  },
  {
   "cell_type": "code",
   "execution_count": 56,
   "metadata": {},
   "outputs": [
    {
     "name": "stdout",
     "output_type": "stream",
     "text": [
      "Repeated Measures Correlation Result for Fatigue and Soreness\n",
      "             r   dof           pval        CI95%  power\n",
      "rm_corr  0.425  4977  4.349049e-218  [0.4, 0.45]    1.0\n",
      "Repeated Measures Correlation Result for Fatigue and Desire\n",
      "             r   dof           pval         CI95%  power\n",
      "rm_corr  0.491  4977  2.047966e-300  [0.47, 0.51]    1.0\n",
      "Repeated Measures Correlation Result for Fatigue and Irritability\n",
      "             r   dof           pval         CI95%  power\n",
      "rm_corr  0.382  4977  5.424256e-173  [0.36, 0.41]    1.0\n",
      "Repeated Measures Correlation Result for Fatigue and SleepHours\n",
      "             r   dof          pval         CI95%  power\n",
      "rm_corr  0.201  4977  2.500877e-46  [0.17, 0.23]    1.0\n",
      "Repeated Measures Correlation Result for Fatigue and SleepQuality\n",
      "             r   dof           pval        CI95%  power\n",
      "rm_corr  0.423  4977  6.015440e-215  [0.4, 0.45]    1.0\n",
      "Repeated Measures Correlation Result for Fatigue and Pain\n"
     ]
    },
    {
     "name": "stderr",
     "output_type": "stream",
     "text": [
      "//anaconda3/lib/python3.7/site-packages/numpy/lib/function_base.py:2530: RuntimeWarning: invalid value encountered in true_divide\n",
      "  c /= stddev[:, None]\n",
      "//anaconda3/lib/python3.7/site-packages/numpy/lib/function_base.py:2531: RuntimeWarning: invalid value encountered in true_divide\n",
      "  c /= stddev[None, :]\n"
     ]
    },
    {
     "name": "stdout",
     "output_type": "stream",
     "text": [
      "             r   dof      pval           CI95%  power\n",
      "rm_corr -0.036  4977  0.011026  [-0.06, -0.01]   0.72\n",
      "Repeated Measures Correlation Result for Fatigue and Illness\n",
      "             r   dof          pval           CI95%  power\n",
      "rm_corr -0.119  4977  3.045770e-17  [-0.15, -0.09]    1.0\n",
      "Repeated Measures Correlation Result for Fatigue and Menstruation\n",
      "             r   dof      pval          CI95%  power\n",
      "rm_corr  0.006  4977  0.665409  [-0.02, 0.03]  0.072\n",
      "Repeated Measures Correlation Result for Fatigue and Nutrition\n",
      "             r   dof          pval        CI95%  power\n",
      "rm_corr  0.129  4977  7.001607e-20  [0.1, 0.16]    1.0\n",
      "Repeated Measures Correlation Result for Fatigue and TrainingReadiness\n",
      "             r   dof          pval         CI95%  power\n",
      "rm_corr  0.158  4977  2.685135e-29  [0.13, 0.19]    1.0\n",
      "Repeated Measures Correlation Result for Soreness and Fatigue\n",
      "             r   dof           pval        CI95%  power\n",
      "rm_corr  0.425  4977  4.349030e-218  [0.4, 0.45]    1.0\n",
      "Repeated Measures Correlation Result for Soreness and Desire\n",
      "             r   dof           pval        CI95%  power\n",
      "rm_corr  0.379  4977  5.568108e-170  [0.36, 0.4]    1.0\n",
      "Repeated Measures Correlation Result for Soreness and Irritability\n",
      "             r   dof          pval         CI95%  power\n",
      "rm_corr  0.239  4977  1.397613e-65  [0.21, 0.26]    1.0\n",
      "Repeated Measures Correlation Result for Soreness and SleepHours\n",
      "             r   dof      pval         CI95%  power\n",
      "rm_corr  0.027  4977  0.058692  [-0.0, 0.05]  0.472\n",
      "Repeated Measures Correlation Result for Soreness and SleepQuality\n",
      "             r   dof          pval        CI95%  power\n",
      "rm_corr  0.178  4977  1.501552e-36  [0.15, 0.2]    1.0\n",
      "Repeated Measures Correlation Result for Soreness and Pain\n",
      "             r   dof          pval          CI95%  power\n",
      "rm_corr -0.131  4977  1.238324e-20  [-0.16, -0.1]    1.0\n",
      "Repeated Measures Correlation Result for Soreness and Illness\n",
      "             r   dof      pval          CI95%  power\n",
      "rm_corr -0.013  4977  0.353588  [-0.04, 0.01]  0.153\n",
      "Repeated Measures Correlation Result for Soreness and Menstruation\n",
      "             r   dof      pval          CI95%  power\n",
      "rm_corr  0.014  4977  0.314112  [-0.01, 0.04]  0.172\n",
      "Repeated Measures Correlation Result for Soreness and Nutrition\n",
      "             r   dof      pval         CI95%  power\n",
      "rm_corr  0.046  4977  0.001315  [0.02, 0.07]  0.895\n",
      "Repeated Measures Correlation Result for Soreness and TrainingReadiness\n",
      "             r   dof          pval         CI95%  power\n",
      "rm_corr  0.101  4977  8.303302e-13  [0.07, 0.13]    1.0\n",
      "Repeated Measures Correlation Result for Desire and Fatigue\n",
      "             r   dof           pval         CI95%  power\n",
      "rm_corr  0.491  4977  2.047847e-300  [0.47, 0.51]    1.0\n",
      "Repeated Measures Correlation Result for Desire and Soreness\n",
      "             r   dof           pval        CI95%  power\n",
      "rm_corr  0.379  4977  5.567968e-170  [0.36, 0.4]    1.0\n",
      "Repeated Measures Correlation Result for Desire and Irritability\n",
      "             r   dof           pval         CI95%  power\n",
      "rm_corr  0.435  4977  1.861571e-229  [0.41, 0.46]    1.0\n",
      "Repeated Measures Correlation Result for Desire and SleepHours\n",
      "             r   dof      pval         CI95%  power\n",
      "rm_corr  0.036  4977  0.010464  [0.01, 0.06]  0.726\n",
      "Repeated Measures Correlation Result for Desire and SleepQuality\n",
      "             r   dof          pval        CI95%  power\n",
      "rm_corr  0.231  4977  2.345143e-61  [0.2, 0.26]    1.0\n",
      "Repeated Measures Correlation Result for Desire and Pain\n",
      "             r   dof     pval           CI95%  power\n",
      "rm_corr -0.059  4977  0.00003  [-0.09, -0.03]  0.987\n",
      "Repeated Measures Correlation Result for Desire and Illness\n",
      "             r   dof          pval           CI95%  power\n",
      "rm_corr -0.134  4977  1.793690e-21  [-0.16, -0.11]    1.0\n",
      "Repeated Measures Correlation Result for Desire and Menstruation\n",
      "             r   dof      pval          CI95%  power\n",
      "rm_corr -0.014  4977  0.334779  [-0.04, 0.01]  0.161\n",
      "Repeated Measures Correlation Result for Desire and Nutrition\n",
      "             r   dof          pval        CI95%  power\n",
      "rm_corr  0.126  4977  4.894253e-19  [0.1, 0.15]    1.0\n",
      "Repeated Measures Correlation Result for Desire and TrainingReadiness\n",
      "             r   dof           pval        CI95%  power\n",
      "rm_corr  0.324  4977  6.993297e-122  [0.3, 0.35]    1.0\n",
      "Repeated Measures Correlation Result for Irritability and Fatigue\n",
      "             r   dof           pval         CI95%  power\n",
      "rm_corr  0.382  4977  5.424700e-173  [0.36, 0.41]    1.0\n",
      "Repeated Measures Correlation Result for Irritability and Soreness\n",
      "             r   dof          pval         CI95%  power\n",
      "rm_corr  0.239  4977  1.397652e-65  [0.21, 0.26]    1.0\n",
      "Repeated Measures Correlation Result for Irritability and Desire\n",
      "             r   dof           pval         CI95%  power\n",
      "rm_corr  0.435  4977  1.861864e-229  [0.41, 0.46]    1.0\n",
      "Repeated Measures Correlation Result for Irritability and SleepHours\n",
      "            r   dof          pval         CI95%  power\n",
      "rm_corr  0.08  4977  1.817824e-08  [0.05, 0.11]    1.0\n",
      "Repeated Measures Correlation Result for Irritability and SleepQuality\n",
      "             r   dof           pval         CI95%  power\n",
      "rm_corr  0.307  4977  6.799473e-109  [0.28, 0.33]    1.0\n",
      "Repeated Measures Correlation Result for Irritability and Pain\n",
      "             r   dof      pval           CI95%  power\n",
      "rm_corr -0.045  4977  0.001678  [-0.07, -0.02]  0.882\n",
      "Repeated Measures Correlation Result for Irritability and Illness\n",
      "             r   dof          pval           CI95%  power\n",
      "rm_corr -0.092  4977  7.366515e-11  [-0.12, -0.06]    1.0\n",
      "Repeated Measures Correlation Result for Irritability and Menstruation\n",
      "             r   dof      pval          CI95%  power\n",
      "rm_corr -0.019  4977  0.179349  [-0.05, 0.01]  0.269\n",
      "Repeated Measures Correlation Result for Irritability and Nutrition\n",
      "             r   dof          pval         CI95%  power\n",
      "rm_corr  0.118  4977  7.058113e-17  [0.09, 0.15]    1.0\n",
      "Repeated Measures Correlation Result for Irritability and TrainingReadiness\n",
      "             r   dof          pval         CI95%  power\n",
      "rm_corr  0.139  4977  5.020780e-23  [0.11, 0.17]    1.0\n",
      "Repeated Measures Correlation Result for SleepHours and Fatigue\n",
      "             r   dof          pval         CI95%  power\n",
      "rm_corr  0.201  4977  2.500875e-46  [0.17, 0.23]    1.0\n",
      "Repeated Measures Correlation Result for SleepHours and Soreness\n",
      "             r   dof      pval         CI95%  power\n",
      "rm_corr  0.027  4977  0.058692  [-0.0, 0.05]  0.472\n",
      "Repeated Measures Correlation Result for SleepHours and Desire\n",
      "             r   dof      pval         CI95%  power\n",
      "rm_corr  0.036  4977  0.010464  [0.01, 0.06]  0.726\n",
      "Repeated Measures Correlation Result for SleepHours and Irritability\n",
      "            r   dof          pval         CI95%  power\n",
      "rm_corr  0.08  4977  1.817819e-08  [0.05, 0.11]    1.0\n",
      "Repeated Measures Correlation Result for SleepHours and SleepQuality\n",
      "             r   dof          pval         CI95%  power\n",
      "rm_corr  0.269  4977  4.751148e-83  [0.24, 0.29]    1.0\n",
      "Repeated Measures Correlation Result for SleepHours and Pain\n",
      "             r   dof      pval          CI95%  power\n",
      "rm_corr  0.019  4977  0.186216  [-0.01, 0.05]  0.262\n",
      "Repeated Measures Correlation Result for SleepHours and Illness\n",
      "             r   dof      pval         CI95%  power\n",
      "rm_corr  0.039  4977  0.006348  [0.01, 0.07]  0.779\n",
      "Repeated Measures Correlation Result for SleepHours and Menstruation\n",
      "             r   dof      pval          CI95%  power\n",
      "rm_corr -0.001  4977  0.960987  [-0.03, 0.03]   0.05\n",
      "Repeated Measures Correlation Result for SleepHours and Nutrition\n",
      "             r   dof      pval         CI95%  power\n",
      "rm_corr  0.048  4977  0.000688  [0.02, 0.08]  0.924\n",
      "Repeated Measures Correlation Result for SleepHours and TrainingReadiness\n",
      "             r   dof      pval           CI95%  power\n",
      "rm_corr -0.036  4977  0.010345  [-0.06, -0.01]  0.727\n",
      "Repeated Measures Correlation Result for SleepQuality and Fatigue\n",
      "             r   dof           pval        CI95%  power\n",
      "rm_corr  0.423  4977  6.015782e-215  [0.4, 0.45]    1.0\n",
      "Repeated Measures Correlation Result for SleepQuality and Soreness\n",
      "             r   dof          pval        CI95%  power\n",
      "rm_corr  0.178  4977  1.501565e-36  [0.15, 0.2]    1.0\n",
      "Repeated Measures Correlation Result for SleepQuality and Desire\n"
     ]
    },
    {
     "name": "stdout",
     "output_type": "stream",
     "text": [
      "             r   dof          pval        CI95%  power\n",
      "rm_corr  0.231  4977  2.345194e-61  [0.2, 0.26]    1.0\n",
      "Repeated Measures Correlation Result for SleepQuality and Irritability\n",
      "             r   dof           pval         CI95%  power\n",
      "rm_corr  0.307  4977  6.799322e-109  [0.28, 0.33]    1.0\n",
      "Repeated Measures Correlation Result for SleepQuality and SleepHours\n",
      "             r   dof          pval         CI95%  power\n",
      "rm_corr  0.269  4977  4.751244e-83  [0.24, 0.29]    1.0\n",
      "Repeated Measures Correlation Result for SleepQuality and Pain\n",
      "             r   dof      pval          CI95%  power\n",
      "rm_corr -0.022  4977  0.125065  [-0.05, 0.01]  0.335\n",
      "Repeated Measures Correlation Result for SleepQuality and Illness\n",
      "             r   dof          pval           CI95%  power\n",
      "rm_corr -0.087  4977  9.286735e-10  [-0.11, -0.06]    1.0\n",
      "Repeated Measures Correlation Result for SleepQuality and Menstruation\n",
      "             r   dof      pval          CI95%  power\n",
      "rm_corr -0.001  4977  0.962367  [-0.03, 0.03]   0.05\n",
      "Repeated Measures Correlation Result for SleepQuality and Nutrition\n",
      "             r   dof          pval         CI95%  power\n",
      "rm_corr  0.099  4977  2.606580e-12  [0.07, 0.13]    1.0\n",
      "Repeated Measures Correlation Result for SleepQuality and TrainingReadiness\n",
      "             r   dof          pval        CI95%  power\n",
      "rm_corr  0.073  4977  2.272748e-07  [0.05, 0.1]  0.999\n",
      "Repeated Measures Correlation Result for Pain and Fatigue\n",
      "             r   dof      pval           CI95%  power\n",
      "rm_corr -0.036  4977  0.011026  [-0.06, -0.01]   0.72\n",
      "Repeated Measures Correlation Result for Pain and Soreness\n",
      "             r   dof          pval          CI95%  power\n",
      "rm_corr -0.131  4977  1.238293e-20  [-0.16, -0.1]    1.0\n",
      "Repeated Measures Correlation Result for Pain and Desire\n",
      "             r   dof     pval           CI95%  power\n",
      "rm_corr -0.059  4977  0.00003  [-0.09, -0.03]  0.987\n",
      "Repeated Measures Correlation Result for Pain and Irritability\n",
      "             r   dof      pval           CI95%  power\n",
      "rm_corr -0.045  4977  0.001678  [-0.07, -0.02]  0.882\n",
      "Repeated Measures Correlation Result for Pain and SleepHours\n",
      "             r   dof      pval          CI95%  power\n",
      "rm_corr  0.019  4977  0.186216  [-0.01, 0.05]  0.262\n",
      "Repeated Measures Correlation Result for Pain and SleepQuality\n",
      "             r   dof      pval          CI95%  power\n",
      "rm_corr -0.022  4977  0.125064  [-0.05, 0.01]  0.335\n",
      "Repeated Measures Correlation Result for Pain and Illness\n",
      "             r   dof      pval           CI95%  power\n",
      "rm_corr -0.038  4977  0.007277  [-0.07, -0.01]  0.766\n",
      "Repeated Measures Correlation Result for Pain and Menstruation\n",
      "             r   dof     pval          CI95%  power\n",
      "rm_corr  0.005  4977  0.70554  [-0.02, 0.03]  0.067\n",
      "Repeated Measures Correlation Result for Pain and Nutrition\n",
      "            r   dof      pval          CI95%  power\n",
      "rm_corr  0.02  4977  0.164301  [-0.01, 0.05]  0.285\n",
      "Repeated Measures Correlation Result for Pain and TrainingReadiness\n",
      "            r   dof      pval          CI95%  power\n",
      "rm_corr -0.01  4977  0.486946  [-0.04, 0.02]  0.107\n",
      "Repeated Measures Correlation Result for Illness and Fatigue\n",
      "             r   dof          pval           CI95%  power\n",
      "rm_corr -0.119  4977  3.045746e-17  [-0.15, -0.09]    1.0\n",
      "Repeated Measures Correlation Result for Illness and Soreness\n",
      "             r   dof      pval          CI95%  power\n",
      "rm_corr -0.013  4977  0.353588  [-0.04, 0.01]  0.153\n",
      "Repeated Measures Correlation Result for Illness and Desire\n",
      "             r   dof          pval           CI95%  power\n",
      "rm_corr -0.134  4977  1.793677e-21  [-0.16, -0.11]    1.0\n",
      "Repeated Measures Correlation Result for Illness and Irritability\n",
      "             r   dof          pval           CI95%  power\n",
      "rm_corr -0.092  4977  7.366454e-11  [-0.12, -0.06]    1.0\n",
      "Repeated Measures Correlation Result for Illness and SleepHours\n",
      "             r   dof      pval         CI95%  power\n",
      "rm_corr  0.039  4977  0.006348  [0.01, 0.07]  0.779\n",
      "Repeated Measures Correlation Result for Illness and SleepQuality\n",
      "             r   dof          pval           CI95%  power\n",
      "rm_corr -0.087  4977  9.286680e-10  [-0.11, -0.06]    1.0\n",
      "Repeated Measures Correlation Result for Illness and Pain\n",
      "             r   dof      pval           CI95%  power\n",
      "rm_corr -0.038  4977  0.007278  [-0.07, -0.01]  0.766\n",
      "Repeated Measures Correlation Result for Illness and Menstruation\n",
      "             r   dof      pval          CI95%  power\n",
      "rm_corr  0.018  4977  0.204911  [-0.01, 0.05]  0.245\n",
      "Repeated Measures Correlation Result for Illness and Nutrition\n",
      "             r   dof      pval          CI95%  power\n",
      "rm_corr -0.018  4977  0.207126  [-0.05, 0.01]  0.243\n",
      "Repeated Measures Correlation Result for Illness and TrainingReadiness\n",
      "             r   dof          pval           CI95%  power\n",
      "rm_corr -0.096  4977  9.743478e-12  [-0.12, -0.07]    1.0\n",
      "Repeated Measures Correlation Result for Menstruation and Fatigue\n",
      "             r   dof      pval          CI95%  power\n",
      "rm_corr  0.006  4977  0.665409  [-0.02, 0.03]  0.072\n",
      "Repeated Measures Correlation Result for Menstruation and Soreness\n",
      "             r   dof      pval          CI95%  power\n",
      "rm_corr  0.014  4977  0.314112  [-0.01, 0.04]  0.172\n",
      "Repeated Measures Correlation Result for Menstruation and Desire\n",
      "             r   dof      pval          CI95%  power\n",
      "rm_corr -0.014  4977  0.334779  [-0.04, 0.01]  0.161\n",
      "Repeated Measures Correlation Result for Menstruation and Irritability\n",
      "             r   dof      pval          CI95%  power\n",
      "rm_corr -0.019  4977  0.179349  [-0.05, 0.01]  0.269\n",
      "Repeated Measures Correlation Result for Menstruation and SleepHours\n",
      "             r   dof      pval          CI95%  power\n",
      "rm_corr -0.001  4977  0.960987  [-0.03, 0.03]   0.05\n",
      "Repeated Measures Correlation Result for Menstruation and SleepQuality\n",
      "             r   dof      pval          CI95%  power\n",
      "rm_corr -0.001  4977  0.962367  [-0.03, 0.03]   0.05\n",
      "Repeated Measures Correlation Result for Menstruation and Pain\n",
      "             r   dof     pval          CI95%  power\n",
      "rm_corr  0.005  4977  0.70554  [-0.02, 0.03]  0.067\n",
      "Repeated Measures Correlation Result for Menstruation and Illness\n",
      "             r   dof      pval          CI95%  power\n",
      "rm_corr  0.018  4977  0.204911  [-0.01, 0.05]  0.245\n",
      "Repeated Measures Correlation Result for Menstruation and Nutrition\n",
      "             r   dof      pval          CI95%  power\n",
      "rm_corr -0.008  4977  0.587599  [-0.04, 0.02]  0.084\n",
      "Repeated Measures Correlation Result for Menstruation and TrainingReadiness\n",
      "             r   dof      pval          CI95%  power\n",
      "rm_corr  0.006  4977  0.660601  [-0.02, 0.03]  0.072\n",
      "Repeated Measures Correlation Result for Nutrition and Fatigue\n",
      "             r   dof          pval        CI95%  power\n",
      "rm_corr  0.129  4977  7.001734e-20  [0.1, 0.16]    1.0\n",
      "Repeated Measures Correlation Result for Nutrition and Soreness\n",
      "             r   dof      pval         CI95%  power\n",
      "rm_corr  0.046  4977  0.001315  [0.02, 0.07]  0.895\n",
      "Repeated Measures Correlation Result for Nutrition and Desire\n",
      "             r   dof          pval        CI95%  power\n",
      "rm_corr  0.126  4977  4.894349e-19  [0.1, 0.15]    1.0\n",
      "Repeated Measures Correlation Result for Nutrition and Irritability\n",
      "             r   dof          pval         CI95%  power\n",
      "rm_corr  0.118  4977  7.058177e-17  [0.09, 0.15]    1.0\n",
      "Repeated Measures Correlation Result for Nutrition and SleepHours\n",
      "             r   dof      pval         CI95%  power\n",
      "rm_corr  0.048  4977  0.000688  [0.02, 0.08]  0.924\n",
      "Repeated Measures Correlation Result for Nutrition and SleepQuality\n",
      "             r   dof          pval         CI95%  power\n",
      "rm_corr  0.099  4977  2.606602e-12  [0.07, 0.13]    1.0\n",
      "Repeated Measures Correlation Result for Nutrition and Pain\n",
      "            r   dof      pval          CI95%  power\n",
      "rm_corr  0.02  4977  0.164301  [-0.01, 0.05]  0.285\n",
      "Repeated Measures Correlation Result for Nutrition and Illness\n",
      "             r   dof      pval          CI95%  power\n",
      "rm_corr -0.018  4977  0.207126  [-0.05, 0.01]  0.243\n",
      "Repeated Measures Correlation Result for Nutrition and Menstruation\n",
      "             r   dof      pval          CI95%  power\n",
      "rm_corr -0.008  4977  0.587599  [-0.04, 0.02]  0.084\n",
      "Repeated Measures Correlation Result for Nutrition and TrainingReadiness\n",
      "             r   dof          pval         CI95%  power\n",
      "rm_corr  0.105  4977  1.044917e-13  [0.08, 0.13]    1.0\n",
      "Repeated Measures Correlation Result for TrainingReadiness and Fatigue\n"
     ]
    },
    {
     "name": "stdout",
     "output_type": "stream",
     "text": [
      "             r   dof          pval         CI95%  power\n",
      "rm_corr  0.158  4977  2.685141e-29  [0.13, 0.19]    1.0\n",
      "Repeated Measures Correlation Result for TrainingReadiness and Soreness\n",
      "             r   dof          pval         CI95%  power\n",
      "rm_corr  0.101  4977  8.303311e-13  [0.07, 0.13]    1.0\n",
      "Repeated Measures Correlation Result for TrainingReadiness and Desire\n",
      "             r   dof           pval        CI95%  power\n",
      "rm_corr  0.324  4977  6.993504e-122  [0.3, 0.35]    1.0\n",
      "Repeated Measures Correlation Result for TrainingReadiness and Irritability\n",
      "             r   dof          pval         CI95%  power\n",
      "rm_corr  0.139  4977  5.020746e-23  [0.11, 0.17]    1.0\n",
      "Repeated Measures Correlation Result for TrainingReadiness and SleepHours\n",
      "             r   dof      pval           CI95%  power\n",
      "rm_corr -0.036  4977  0.010345  [-0.06, -0.01]  0.727\n",
      "Repeated Measures Correlation Result for TrainingReadiness and SleepQuality\n",
      "             r   dof          pval        CI95%  power\n",
      "rm_corr  0.073  4977  2.272747e-07  [0.05, 0.1]  0.999\n",
      "Repeated Measures Correlation Result for TrainingReadiness and Pain\n",
      "            r   dof      pval          CI95%  power\n",
      "rm_corr -0.01  4977  0.486946  [-0.04, 0.02]  0.107\n",
      "Repeated Measures Correlation Result for TrainingReadiness and Illness\n",
      "             r   dof          pval           CI95%  power\n",
      "rm_corr -0.096  4977  9.743535e-12  [-0.12, -0.07]    1.0\n",
      "Repeated Measures Correlation Result for TrainingReadiness and Menstruation\n",
      "             r   dof      pval          CI95%  power\n",
      "rm_corr  0.006  4977  0.660601  [-0.02, 0.03]  0.072\n",
      "Repeated Measures Correlation Result for TrainingReadiness and Nutrition\n",
      "             r   dof          pval         CI95%  power\n",
      "rm_corr  0.105  4977  1.044906e-13  [0.08, 0.13]    1.0\n"
     ]
    }
   ],
   "source": [
    "for i in test_wellness_df.columns:\n",
    "    if i == 'Date' or i == 'PlayerID':\n",
    "        continue\n",
    "        \n",
    "    for j in wellness_df.columns:\n",
    "        if j == 'Date' or j == 'PlayerID' or i == j:\n",
    "            continue\n",
    "            \n",
    "        print('Repeated Measures Correlation Result for {} and {}'.format(i, j))\n",
    "        print(pg.rm_corr(data=wellness_df, x=i, y=j, subject='PlayerID'))"
   ]
  },
  {
   "cell_type": "markdown",
   "metadata": {},
   "source": [
    "## Factor Analysis"
   ]
  },
  {
   "cell_type": "code",
   "execution_count": 57,
   "metadata": {},
   "outputs": [
    {
     "data": {
      "text/html": [
       "<div>\n",
       "<style scoped>\n",
       "    .dataframe tbody tr th:only-of-type {\n",
       "        vertical-align: middle;\n",
       "    }\n",
       "\n",
       "    .dataframe tbody tr th {\n",
       "        vertical-align: top;\n",
       "    }\n",
       "\n",
       "    .dataframe thead th {\n",
       "        text-align: right;\n",
       "    }\n",
       "</style>\n",
       "<table border=\"1\" class=\"dataframe\">\n",
       "  <thead>\n",
       "    <tr style=\"text-align: right;\">\n",
       "      <th></th>\n",
       "      <th>Date</th>\n",
       "      <th>PlayerID</th>\n",
       "      <th>Fatigue</th>\n",
       "      <th>Soreness</th>\n",
       "      <th>Desire</th>\n",
       "      <th>Irritability</th>\n",
       "      <th>SleepHours</th>\n",
       "      <th>SleepQuality</th>\n",
       "      <th>Pain</th>\n",
       "      <th>Illness</th>\n",
       "      <th>Menstruation</th>\n",
       "      <th>Nutrition</th>\n",
       "      <th>TrainingReadiness</th>\n",
       "    </tr>\n",
       "  </thead>\n",
       "  <tbody>\n",
       "    <tr>\n",
       "      <th>0</th>\n",
       "      <td>2018-07-21</td>\n",
       "      <td>1</td>\n",
       "      <td>3</td>\n",
       "      <td>3</td>\n",
       "      <td>2</td>\n",
       "      <td>3</td>\n",
       "      <td>8.00</td>\n",
       "      <td>2</td>\n",
       "      <td>0</td>\n",
       "      <td>0</td>\n",
       "      <td>1</td>\n",
       "      <td>3</td>\n",
       "      <td>0</td>\n",
       "    </tr>\n",
       "    <tr>\n",
       "      <th>1</th>\n",
       "      <td>2018-07-21</td>\n",
       "      <td>2</td>\n",
       "      <td>4</td>\n",
       "      <td>3</td>\n",
       "      <td>4</td>\n",
       "      <td>4</td>\n",
       "      <td>8.00</td>\n",
       "      <td>4</td>\n",
       "      <td>1</td>\n",
       "      <td>0</td>\n",
       "      <td>1</td>\n",
       "      <td>2</td>\n",
       "      <td>0</td>\n",
       "    </tr>\n",
       "    <tr>\n",
       "      <th>2</th>\n",
       "      <td>2018-07-21</td>\n",
       "      <td>3</td>\n",
       "      <td>3</td>\n",
       "      <td>3</td>\n",
       "      <td>5</td>\n",
       "      <td>4</td>\n",
       "      <td>8.00</td>\n",
       "      <td>4</td>\n",
       "      <td>0</td>\n",
       "      <td>0</td>\n",
       "      <td>0</td>\n",
       "      <td>2</td>\n",
       "      <td>100</td>\n",
       "    </tr>\n",
       "    <tr>\n",
       "      <th>3</th>\n",
       "      <td>2018-07-21</td>\n",
       "      <td>4</td>\n",
       "      <td>2</td>\n",
       "      <td>3</td>\n",
       "      <td>5</td>\n",
       "      <td>4</td>\n",
       "      <td>6.50</td>\n",
       "      <td>1</td>\n",
       "      <td>0</td>\n",
       "      <td>0</td>\n",
       "      <td>1</td>\n",
       "      <td>3</td>\n",
       "      <td>95</td>\n",
       "    </tr>\n",
       "    <tr>\n",
       "      <th>4</th>\n",
       "      <td>2018-07-21</td>\n",
       "      <td>5</td>\n",
       "      <td>5</td>\n",
       "      <td>3</td>\n",
       "      <td>4</td>\n",
       "      <td>4</td>\n",
       "      <td>7.25</td>\n",
       "      <td>4</td>\n",
       "      <td>0</td>\n",
       "      <td>0</td>\n",
       "      <td>0</td>\n",
       "      <td>2</td>\n",
       "      <td>100</td>\n",
       "    </tr>\n",
       "  </tbody>\n",
       "</table>\n",
       "</div>"
      ],
      "text/plain": [
       "         Date  PlayerID  Fatigue  Soreness  Desire  Irritability  SleepHours  \\\n",
       "0  2018-07-21         1        3         3       2             3        8.00   \n",
       "1  2018-07-21         2        4         3       4             4        8.00   \n",
       "2  2018-07-21         3        3         3       5             4        8.00   \n",
       "3  2018-07-21         4        2         3       5             4        6.50   \n",
       "4  2018-07-21         5        5         3       4             4        7.25   \n",
       "\n",
       "   SleepQuality  Pain  Illness  Menstruation  Nutrition  TrainingReadiness  \n",
       "0             2     0        0             1          3                  0  \n",
       "1             4     1        0             1          2                  0  \n",
       "2             4     0        0             0          2                100  \n",
       "3             1     0        0             1          3                 95  \n",
       "4             4     0        0             0          2                100  "
      ]
     },
     "execution_count": 57,
     "metadata": {},
     "output_type": "execute_result"
    }
   ],
   "source": [
    "wellness_df.head()"
   ]
  },
  {
   "cell_type": "markdown",
   "metadata": {},
   "source": [
    "### Averaging Over Different Dates"
   ]
  },
  {
   "cell_type": "markdown",
   "metadata": {},
   "source": [
    "We cannot perform factor analysis using data gathered at different dates. So for each player, we need to average all their values. In doing so, we can interpret most columns as \"Average X\", i.e. \"Average Sleep Hours\". However, we cannot do this for the binary categorical columns. We could instead interpret these as probabilities, i.e., probability of being Ill."
   ]
  },
  {
   "cell_type": "markdown",
   "metadata": {},
   "source": [
    "#### Question:"
   ]
  },
  {
   "cell_type": "markdown",
   "metadata": {},
   "source": [
    "Why is this? Is it because the observations for a given individual will not be independent over many different days?"
   ]
  },
  {
   "cell_type": "code",
   "execution_count": 58,
   "metadata": {},
   "outputs": [
    {
     "data": {
      "text/html": [
       "<div>\n",
       "<style scoped>\n",
       "    .dataframe tbody tr th:only-of-type {\n",
       "        vertical-align: middle;\n",
       "    }\n",
       "\n",
       "    .dataframe tbody tr th {\n",
       "        vertical-align: top;\n",
       "    }\n",
       "\n",
       "    .dataframe thead th {\n",
       "        text-align: right;\n",
       "    }\n",
       "</style>\n",
       "<table border=\"1\" class=\"dataframe\">\n",
       "  <thead>\n",
       "    <tr style=\"text-align: right;\">\n",
       "      <th></th>\n",
       "      <th>PlayerID</th>\n",
       "      <th>Fatigue</th>\n",
       "      <th>Soreness</th>\n",
       "      <th>Desire</th>\n",
       "      <th>Irritability</th>\n",
       "      <th>SleepHours</th>\n",
       "      <th>SleepQuality</th>\n",
       "      <th>Pain</th>\n",
       "      <th>Illness</th>\n",
       "      <th>Menstruation</th>\n",
       "      <th>Nutrition</th>\n",
       "      <th>TrainingReadiness</th>\n",
       "    </tr>\n",
       "  </thead>\n",
       "  <tbody>\n",
       "    <tr>\n",
       "      <th>0</th>\n",
       "      <td>1</td>\n",
       "      <td>2.671924</td>\n",
       "      <td>3.302839</td>\n",
       "      <td>2.479495</td>\n",
       "      <td>3.936909</td>\n",
       "      <td>8.715300</td>\n",
       "      <td>3.611987</td>\n",
       "      <td>0.025237</td>\n",
       "      <td>0.151420</td>\n",
       "      <td>0.157729</td>\n",
       "      <td>2.921136</td>\n",
       "      <td>21.435331</td>\n",
       "    </tr>\n",
       "    <tr>\n",
       "      <th>1</th>\n",
       "      <td>2</td>\n",
       "      <td>3.779762</td>\n",
       "      <td>3.276786</td>\n",
       "      <td>4.113095</td>\n",
       "      <td>4.151786</td>\n",
       "      <td>9.053571</td>\n",
       "      <td>4.122024</td>\n",
       "      <td>0.205357</td>\n",
       "      <td>0.044643</td>\n",
       "      <td>0.187500</td>\n",
       "      <td>2.636905</td>\n",
       "      <td>11.651786</td>\n",
       "    </tr>\n",
       "    <tr>\n",
       "      <th>2</th>\n",
       "      <td>3</td>\n",
       "      <td>3.350725</td>\n",
       "      <td>3.176812</td>\n",
       "      <td>3.455072</td>\n",
       "      <td>3.979710</td>\n",
       "      <td>7.879710</td>\n",
       "      <td>3.913043</td>\n",
       "      <td>0.026087</td>\n",
       "      <td>0.000000</td>\n",
       "      <td>0.118841</td>\n",
       "      <td>2.985507</td>\n",
       "      <td>98.115942</td>\n",
       "    </tr>\n",
       "    <tr>\n",
       "      <th>3</th>\n",
       "      <td>4</td>\n",
       "      <td>3.305195</td>\n",
       "      <td>3.542208</td>\n",
       "      <td>3.935065</td>\n",
       "      <td>3.668831</td>\n",
       "      <td>8.266234</td>\n",
       "      <td>2.954545</td>\n",
       "      <td>0.006494</td>\n",
       "      <td>0.016234</td>\n",
       "      <td>0.146104</td>\n",
       "      <td>2.938312</td>\n",
       "      <td>66.996753</td>\n",
       "    </tr>\n",
       "    <tr>\n",
       "      <th>4</th>\n",
       "      <td>5</td>\n",
       "      <td>3.803089</td>\n",
       "      <td>3.814672</td>\n",
       "      <td>4.324324</td>\n",
       "      <td>3.965251</td>\n",
       "      <td>7.925676</td>\n",
       "      <td>3.841699</td>\n",
       "      <td>0.316602</td>\n",
       "      <td>0.254826</td>\n",
       "      <td>0.111969</td>\n",
       "      <td>2.050193</td>\n",
       "      <td>65.637066</td>\n",
       "    </tr>\n",
       "    <tr>\n",
       "      <th>5</th>\n",
       "      <td>6</td>\n",
       "      <td>3.694656</td>\n",
       "      <td>3.438931</td>\n",
       "      <td>3.961832</td>\n",
       "      <td>3.942748</td>\n",
       "      <td>8.471374</td>\n",
       "      <td>3.984733</td>\n",
       "      <td>0.003817</td>\n",
       "      <td>0.057252</td>\n",
       "      <td>0.141221</td>\n",
       "      <td>2.721374</td>\n",
       "      <td>67.156489</td>\n",
       "    </tr>\n",
       "    <tr>\n",
       "      <th>6</th>\n",
       "      <td>7</td>\n",
       "      <td>3.073314</td>\n",
       "      <td>3.087977</td>\n",
       "      <td>3.797654</td>\n",
       "      <td>3.697947</td>\n",
       "      <td>9.212610</td>\n",
       "      <td>3.862170</td>\n",
       "      <td>0.070381</td>\n",
       "      <td>0.096774</td>\n",
       "      <td>0.131965</td>\n",
       "      <td>2.891496</td>\n",
       "      <td>93.460411</td>\n",
       "    </tr>\n",
       "    <tr>\n",
       "      <th>7</th>\n",
       "      <td>8</td>\n",
       "      <td>3.737705</td>\n",
       "      <td>3.537705</td>\n",
       "      <td>3.734426</td>\n",
       "      <td>4.367213</td>\n",
       "      <td>8.194262</td>\n",
       "      <td>4.016393</td>\n",
       "      <td>0.255738</td>\n",
       "      <td>0.708197</td>\n",
       "      <td>0.072131</td>\n",
       "      <td>2.593443</td>\n",
       "      <td>53.704918</td>\n",
       "    </tr>\n",
       "    <tr>\n",
       "      <th>8</th>\n",
       "      <td>9</td>\n",
       "      <td>4.877828</td>\n",
       "      <td>4.565611</td>\n",
       "      <td>4.886878</td>\n",
       "      <td>4.914027</td>\n",
       "      <td>9.160633</td>\n",
       "      <td>4.900452</td>\n",
       "      <td>0.004525</td>\n",
       "      <td>0.058824</td>\n",
       "      <td>0.104072</td>\n",
       "      <td>2.479638</td>\n",
       "      <td>77.104072</td>\n",
       "    </tr>\n",
       "    <tr>\n",
       "      <th>9</th>\n",
       "      <td>10</td>\n",
       "      <td>2.954683</td>\n",
       "      <td>2.978852</td>\n",
       "      <td>3.794562</td>\n",
       "      <td>3.824773</td>\n",
       "      <td>8.374622</td>\n",
       "      <td>2.933535</td>\n",
       "      <td>0.725076</td>\n",
       "      <td>0.595166</td>\n",
       "      <td>0.211480</td>\n",
       "      <td>2.510574</td>\n",
       "      <td>74.244713</td>\n",
       "    </tr>\n",
       "    <tr>\n",
       "      <th>10</th>\n",
       "      <td>11</td>\n",
       "      <td>2.616715</td>\n",
       "      <td>2.668588</td>\n",
       "      <td>3.331412</td>\n",
       "      <td>3.613833</td>\n",
       "      <td>8.446686</td>\n",
       "      <td>3.198847</td>\n",
       "      <td>0.002882</td>\n",
       "      <td>0.244957</td>\n",
       "      <td>0.224784</td>\n",
       "      <td>2.737752</td>\n",
       "      <td>96.455331</td>\n",
       "    </tr>\n",
       "    <tr>\n",
       "      <th>11</th>\n",
       "      <td>12</td>\n",
       "      <td>3.800000</td>\n",
       "      <td>3.852174</td>\n",
       "      <td>4.013043</td>\n",
       "      <td>4.017391</td>\n",
       "      <td>8.307609</td>\n",
       "      <td>3.600000</td>\n",
       "      <td>0.008696</td>\n",
       "      <td>0.073913</td>\n",
       "      <td>0.178261</td>\n",
       "      <td>2.060870</td>\n",
       "      <td>72.869565</td>\n",
       "    </tr>\n",
       "    <tr>\n",
       "      <th>12</th>\n",
       "      <td>13</td>\n",
       "      <td>3.465909</td>\n",
       "      <td>2.900568</td>\n",
       "      <td>3.960227</td>\n",
       "      <td>4.000000</td>\n",
       "      <td>9.088778</td>\n",
       "      <td>3.826705</td>\n",
       "      <td>0.042614</td>\n",
       "      <td>0.142045</td>\n",
       "      <td>0.036932</td>\n",
       "      <td>2.877841</td>\n",
       "      <td>99.900568</td>\n",
       "    </tr>\n",
       "    <tr>\n",
       "      <th>13</th>\n",
       "      <td>14</td>\n",
       "      <td>3.384906</td>\n",
       "      <td>3.233962</td>\n",
       "      <td>4.147170</td>\n",
       "      <td>3.758491</td>\n",
       "      <td>8.938679</td>\n",
       "      <td>4.109434</td>\n",
       "      <td>0.007547</td>\n",
       "      <td>0.003774</td>\n",
       "      <td>0.041509</td>\n",
       "      <td>2.852830</td>\n",
       "      <td>66.320755</td>\n",
       "    </tr>\n",
       "    <tr>\n",
       "      <th>14</th>\n",
       "      <td>15</td>\n",
       "      <td>4.448276</td>\n",
       "      <td>4.236453</td>\n",
       "      <td>4.596059</td>\n",
       "      <td>4.600985</td>\n",
       "      <td>9.012315</td>\n",
       "      <td>5.679803</td>\n",
       "      <td>0.049261</td>\n",
       "      <td>0.044335</td>\n",
       "      <td>0.157635</td>\n",
       "      <td>2.610837</td>\n",
       "      <td>78.965517</td>\n",
       "    </tr>\n",
       "    <tr>\n",
       "      <th>15</th>\n",
       "      <td>16</td>\n",
       "      <td>2.587209</td>\n",
       "      <td>3.052326</td>\n",
       "      <td>3.514535</td>\n",
       "      <td>3.622093</td>\n",
       "      <td>8.863372</td>\n",
       "      <td>3.258721</td>\n",
       "      <td>0.116279</td>\n",
       "      <td>0.084302</td>\n",
       "      <td>0.206395</td>\n",
       "      <td>2.340116</td>\n",
       "      <td>56.787791</td>\n",
       "    </tr>\n",
       "    <tr>\n",
       "      <th>16</th>\n",
       "      <td>17</td>\n",
       "      <td>3.781659</td>\n",
       "      <td>3.445415</td>\n",
       "      <td>3.991266</td>\n",
       "      <td>3.995633</td>\n",
       "      <td>9.634279</td>\n",
       "      <td>4.082969</td>\n",
       "      <td>0.000000</td>\n",
       "      <td>0.061135</td>\n",
       "      <td>0.170306</td>\n",
       "      <td>2.235808</td>\n",
       "      <td>86.026201</td>\n",
       "    </tr>\n",
       "  </tbody>\n",
       "</table>\n",
       "</div>"
      ],
      "text/plain": [
       "    PlayerID   Fatigue  Soreness    Desire  Irritability  SleepHours  \\\n",
       "0          1  2.671924  3.302839  2.479495      3.936909    8.715300   \n",
       "1          2  3.779762  3.276786  4.113095      4.151786    9.053571   \n",
       "2          3  3.350725  3.176812  3.455072      3.979710    7.879710   \n",
       "3          4  3.305195  3.542208  3.935065      3.668831    8.266234   \n",
       "4          5  3.803089  3.814672  4.324324      3.965251    7.925676   \n",
       "5          6  3.694656  3.438931  3.961832      3.942748    8.471374   \n",
       "6          7  3.073314  3.087977  3.797654      3.697947    9.212610   \n",
       "7          8  3.737705  3.537705  3.734426      4.367213    8.194262   \n",
       "8          9  4.877828  4.565611  4.886878      4.914027    9.160633   \n",
       "9         10  2.954683  2.978852  3.794562      3.824773    8.374622   \n",
       "10        11  2.616715  2.668588  3.331412      3.613833    8.446686   \n",
       "11        12  3.800000  3.852174  4.013043      4.017391    8.307609   \n",
       "12        13  3.465909  2.900568  3.960227      4.000000    9.088778   \n",
       "13        14  3.384906  3.233962  4.147170      3.758491    8.938679   \n",
       "14        15  4.448276  4.236453  4.596059      4.600985    9.012315   \n",
       "15        16  2.587209  3.052326  3.514535      3.622093    8.863372   \n",
       "16        17  3.781659  3.445415  3.991266      3.995633    9.634279   \n",
       "\n",
       "    SleepQuality      Pain   Illness  Menstruation  Nutrition  \\\n",
       "0       3.611987  0.025237  0.151420      0.157729   2.921136   \n",
       "1       4.122024  0.205357  0.044643      0.187500   2.636905   \n",
       "2       3.913043  0.026087  0.000000      0.118841   2.985507   \n",
       "3       2.954545  0.006494  0.016234      0.146104   2.938312   \n",
       "4       3.841699  0.316602  0.254826      0.111969   2.050193   \n",
       "5       3.984733  0.003817  0.057252      0.141221   2.721374   \n",
       "6       3.862170  0.070381  0.096774      0.131965   2.891496   \n",
       "7       4.016393  0.255738  0.708197      0.072131   2.593443   \n",
       "8       4.900452  0.004525  0.058824      0.104072   2.479638   \n",
       "9       2.933535  0.725076  0.595166      0.211480   2.510574   \n",
       "10      3.198847  0.002882  0.244957      0.224784   2.737752   \n",
       "11      3.600000  0.008696  0.073913      0.178261   2.060870   \n",
       "12      3.826705  0.042614  0.142045      0.036932   2.877841   \n",
       "13      4.109434  0.007547  0.003774      0.041509   2.852830   \n",
       "14      5.679803  0.049261  0.044335      0.157635   2.610837   \n",
       "15      3.258721  0.116279  0.084302      0.206395   2.340116   \n",
       "16      4.082969  0.000000  0.061135      0.170306   2.235808   \n",
       "\n",
       "    TrainingReadiness  \n",
       "0           21.435331  \n",
       "1           11.651786  \n",
       "2           98.115942  \n",
       "3           66.996753  \n",
       "4           65.637066  \n",
       "5           67.156489  \n",
       "6           93.460411  \n",
       "7           53.704918  \n",
       "8           77.104072  \n",
       "9           74.244713  \n",
       "10          96.455331  \n",
       "11          72.869565  \n",
       "12          99.900568  \n",
       "13          66.320755  \n",
       "14          78.965517  \n",
       "15          56.787791  \n",
       "16          86.026201  "
      ]
     },
     "execution_count": 58,
     "metadata": {},
     "output_type": "execute_result"
    }
   ],
   "source": [
    "wellness_df = wellness_df.drop(columns=['Date'])\n",
    "full_wellness_df = wellness_df.copy() # Save full df for later\n",
    "wellness_df = wellness_df.groupby('PlayerID',as_index = False).mean()\n",
    "wellness_df\n"
   ]
  },
  {
   "cell_type": "markdown",
   "metadata": {},
   "source": [
    "Now that we have averaged over all the days for each player, we can drop the player id column."
   ]
  },
  {
   "cell_type": "code",
   "execution_count": 59,
   "metadata": {},
   "outputs": [],
   "source": [
    "player_id_series = wellness_df['PlayerID'] # Also save this for later\n",
    "wellness_df = wellness_df.drop(columns=['PlayerID'])\n"
   ]
  },
  {
   "cell_type": "code",
   "execution_count": 60,
   "metadata": {},
   "outputs": [
    {
     "data": {
      "text/plain": [
       "(17, 11)"
      ]
     },
     "execution_count": 60,
     "metadata": {},
     "output_type": "execute_result"
    }
   ],
   "source": [
    "wellness_df.shape"
   ]
  },
  {
   "cell_type": "markdown",
   "metadata": {},
   "source": [
    "We see that we have averaged over the 17 players in the dataset"
   ]
  },
  {
   "cell_type": "markdown",
   "metadata": {},
   "source": [
    "### Correlations"
   ]
  },
  {
   "cell_type": "markdown",
   "metadata": {},
   "source": [
    "Note, I am not sure if we should be taking correlations of aggregated values but when the aggregated correlation is high, the repreated measures correlation is also high. The general paterns we see in the correlation matrix below are apparent in the 'more correct' repeated measures correlation matrix."
   ]
  },
  {
   "cell_type": "code",
   "execution_count": 61,
   "metadata": {},
   "outputs": [
    {
     "data": {
      "text/html": [
       "<div>\n",
       "<style scoped>\n",
       "    .dataframe tbody tr th:only-of-type {\n",
       "        vertical-align: middle;\n",
       "    }\n",
       "\n",
       "    .dataframe tbody tr th {\n",
       "        vertical-align: top;\n",
       "    }\n",
       "\n",
       "    .dataframe thead th {\n",
       "        text-align: right;\n",
       "    }\n",
       "</style>\n",
       "<table border=\"1\" class=\"dataframe\">\n",
       "  <thead>\n",
       "    <tr style=\"text-align: right;\">\n",
       "      <th></th>\n",
       "      <th>Fatigue</th>\n",
       "      <th>Soreness</th>\n",
       "      <th>Desire</th>\n",
       "      <th>Irritability</th>\n",
       "      <th>SleepHours</th>\n",
       "      <th>SleepQuality</th>\n",
       "      <th>Pain</th>\n",
       "      <th>Illness</th>\n",
       "      <th>Menstruation</th>\n",
       "      <th>Nutrition</th>\n",
       "      <th>TrainingReadiness</th>\n",
       "    </tr>\n",
       "  </thead>\n",
       "  <tbody>\n",
       "    <tr>\n",
       "      <th>Fatigue</th>\n",
       "      <td>1.000000</td>\n",
       "      <td>0.864415</td>\n",
       "      <td>0.839981</td>\n",
       "      <td>0.872072</td>\n",
       "      <td>0.197166</td>\n",
       "      <td>0.793575</td>\n",
       "      <td>-0.149257</td>\n",
       "      <td>-0.168557</td>\n",
       "      <td>-0.350946</td>\n",
       "      <td>-0.317562</td>\n",
       "      <td>0.057665</td>\n",
       "    </tr>\n",
       "    <tr>\n",
       "      <th>Soreness</th>\n",
       "      <td>0.864415</td>\n",
       "      <td>1.000000</td>\n",
       "      <td>0.661108</td>\n",
       "      <td>0.805039</td>\n",
       "      <td>0.057078</td>\n",
       "      <td>0.681841</td>\n",
       "      <td>-0.168149</td>\n",
       "      <td>-0.179042</td>\n",
       "      <td>-0.177611</td>\n",
       "      <td>-0.403641</td>\n",
       "      <td>-0.101565</td>\n",
       "    </tr>\n",
       "    <tr>\n",
       "      <th>Desire</th>\n",
       "      <td>0.839981</td>\n",
       "      <td>0.661108</td>\n",
       "      <td>1.000000</td>\n",
       "      <td>0.580191</td>\n",
       "      <td>0.238104</td>\n",
       "      <td>0.592546</td>\n",
       "      <td>0.020143</td>\n",
       "      <td>-0.176135</td>\n",
       "      <td>-0.281295</td>\n",
       "      <td>-0.374367</td>\n",
       "      <td>0.229256</td>\n",
       "    </tr>\n",
       "    <tr>\n",
       "      <th>Irritability</th>\n",
       "      <td>0.872072</td>\n",
       "      <td>0.805039</td>\n",
       "      <td>0.580191</td>\n",
       "      <td>1.000000</td>\n",
       "      <td>0.198796</td>\n",
       "      <td>0.807746</td>\n",
       "      <td>-0.055961</td>\n",
       "      <td>0.045648</td>\n",
       "      <td>-0.275293</td>\n",
       "      <td>-0.194388</td>\n",
       "      <td>-0.082904</td>\n",
       "    </tr>\n",
       "    <tr>\n",
       "      <th>SleepHours</th>\n",
       "      <td>0.197166</td>\n",
       "      <td>0.057078</td>\n",
       "      <td>0.238104</td>\n",
       "      <td>0.198796</td>\n",
       "      <td>1.000000</td>\n",
       "      <td>0.401260</td>\n",
       "      <td>-0.297852</td>\n",
       "      <td>-0.357908</td>\n",
       "      <td>-0.025995</td>\n",
       "      <td>0.021189</td>\n",
       "      <td>0.007867</td>\n",
       "    </tr>\n",
       "    <tr>\n",
       "      <th>SleepQuality</th>\n",
       "      <td>0.793575</td>\n",
       "      <td>0.681841</td>\n",
       "      <td>0.592546</td>\n",
       "      <td>0.807746</td>\n",
       "      <td>0.401260</td>\n",
       "      <td>1.000000</td>\n",
       "      <td>-0.302088</td>\n",
       "      <td>-0.277461</td>\n",
       "      <td>-0.335666</td>\n",
       "      <td>-0.055743</td>\n",
       "      <td>0.035654</td>\n",
       "    </tr>\n",
       "    <tr>\n",
       "      <th>Pain</th>\n",
       "      <td>-0.149257</td>\n",
       "      <td>-0.168149</td>\n",
       "      <td>0.020143</td>\n",
       "      <td>-0.055961</td>\n",
       "      <td>-0.297852</td>\n",
       "      <td>-0.302088</td>\n",
       "      <td>1.000000</td>\n",
       "      <td>0.739189</td>\n",
       "      <td>0.220786</td>\n",
       "      <td>-0.268243</td>\n",
       "      <td>-0.174203</td>\n",
       "    </tr>\n",
       "    <tr>\n",
       "      <th>Illness</th>\n",
       "      <td>-0.168557</td>\n",
       "      <td>-0.179042</td>\n",
       "      <td>-0.176135</td>\n",
       "      <td>0.045648</td>\n",
       "      <td>-0.357908</td>\n",
       "      <td>-0.277461</td>\n",
       "      <td>0.739189</td>\n",
       "      <td>1.000000</td>\n",
       "      <td>0.018446</td>\n",
       "      <td>-0.166768</td>\n",
       "      <td>-0.074957</td>\n",
       "    </tr>\n",
       "    <tr>\n",
       "      <th>Menstruation</th>\n",
       "      <td>-0.350946</td>\n",
       "      <td>-0.177611</td>\n",
       "      <td>-0.281295</td>\n",
       "      <td>-0.275293</td>\n",
       "      <td>-0.025995</td>\n",
       "      <td>-0.335666</td>\n",
       "      <td>0.220786</td>\n",
       "      <td>0.018446</td>\n",
       "      <td>1.000000</td>\n",
       "      <td>-0.291836</td>\n",
       "      <td>-0.172369</td>\n",
       "    </tr>\n",
       "    <tr>\n",
       "      <th>Nutrition</th>\n",
       "      <td>-0.317562</td>\n",
       "      <td>-0.403641</td>\n",
       "      <td>-0.374367</td>\n",
       "      <td>-0.194388</td>\n",
       "      <td>0.021189</td>\n",
       "      <td>-0.055743</td>\n",
       "      <td>-0.268243</td>\n",
       "      <td>-0.166768</td>\n",
       "      <td>-0.291836</td>\n",
       "      <td>1.000000</td>\n",
       "      <td>0.059988</td>\n",
       "    </tr>\n",
       "    <tr>\n",
       "      <th>TrainingReadiness</th>\n",
       "      <td>0.057665</td>\n",
       "      <td>-0.101565</td>\n",
       "      <td>0.229256</td>\n",
       "      <td>-0.082904</td>\n",
       "      <td>0.007867</td>\n",
       "      <td>0.035654</td>\n",
       "      <td>-0.174203</td>\n",
       "      <td>-0.074957</td>\n",
       "      <td>-0.172369</td>\n",
       "      <td>0.059988</td>\n",
       "      <td>1.000000</td>\n",
       "    </tr>\n",
       "  </tbody>\n",
       "</table>\n",
       "</div>"
      ],
      "text/plain": [
       "                    Fatigue  Soreness    Desire  Irritability  SleepHours  \\\n",
       "Fatigue            1.000000  0.864415  0.839981      0.872072    0.197166   \n",
       "Soreness           0.864415  1.000000  0.661108      0.805039    0.057078   \n",
       "Desire             0.839981  0.661108  1.000000      0.580191    0.238104   \n",
       "Irritability       0.872072  0.805039  0.580191      1.000000    0.198796   \n",
       "SleepHours         0.197166  0.057078  0.238104      0.198796    1.000000   \n",
       "SleepQuality       0.793575  0.681841  0.592546      0.807746    0.401260   \n",
       "Pain              -0.149257 -0.168149  0.020143     -0.055961   -0.297852   \n",
       "Illness           -0.168557 -0.179042 -0.176135      0.045648   -0.357908   \n",
       "Menstruation      -0.350946 -0.177611 -0.281295     -0.275293   -0.025995   \n",
       "Nutrition         -0.317562 -0.403641 -0.374367     -0.194388    0.021189   \n",
       "TrainingReadiness  0.057665 -0.101565  0.229256     -0.082904    0.007867   \n",
       "\n",
       "                   SleepQuality      Pain   Illness  Menstruation  Nutrition  \\\n",
       "Fatigue                0.793575 -0.149257 -0.168557     -0.350946  -0.317562   \n",
       "Soreness               0.681841 -0.168149 -0.179042     -0.177611  -0.403641   \n",
       "Desire                 0.592546  0.020143 -0.176135     -0.281295  -0.374367   \n",
       "Irritability           0.807746 -0.055961  0.045648     -0.275293  -0.194388   \n",
       "SleepHours             0.401260 -0.297852 -0.357908     -0.025995   0.021189   \n",
       "SleepQuality           1.000000 -0.302088 -0.277461     -0.335666  -0.055743   \n",
       "Pain                  -0.302088  1.000000  0.739189      0.220786  -0.268243   \n",
       "Illness               -0.277461  0.739189  1.000000      0.018446  -0.166768   \n",
       "Menstruation          -0.335666  0.220786  0.018446      1.000000  -0.291836   \n",
       "Nutrition             -0.055743 -0.268243 -0.166768     -0.291836   1.000000   \n",
       "TrainingReadiness      0.035654 -0.174203 -0.074957     -0.172369   0.059988   \n",
       "\n",
       "                   TrainingReadiness  \n",
       "Fatigue                     0.057665  \n",
       "Soreness                   -0.101565  \n",
       "Desire                      0.229256  \n",
       "Irritability               -0.082904  \n",
       "SleepHours                  0.007867  \n",
       "SleepQuality                0.035654  \n",
       "Pain                       -0.174203  \n",
       "Illness                    -0.074957  \n",
       "Menstruation               -0.172369  \n",
       "Nutrition                   0.059988  \n",
       "TrainingReadiness           1.000000  "
      ]
     },
     "execution_count": 61,
     "metadata": {},
     "output_type": "execute_result"
    }
   ],
   "source": [
    "wellness_df.corr()"
   ]
  },
  {
   "cell_type": "markdown",
   "metadata": {},
   "source": [
    "All the variables that make up the monitor score are correlated with each other. It is interesting to see that the moinitor score is mad up of measures that all seem to move together."
   ]
  },
  {
   "cell_type": "markdown",
   "metadata": {},
   "source": [
    "#### A note on correlation"
   ]
  },
  {
   "cell_type": "markdown",
   "metadata": {},
   "source": [
    "Remember that we are just trying to make sure we do not have perfect multicollinearity here. Even if observations have high correlation with eachother, we are just trying to make sure there are no ones in the correlation matrix."
   ]
  },
  {
   "cell_type": "markdown",
   "metadata": {},
   "source": [
    "### Adequacy Tests"
   ]
  },
  {
   "cell_type": "markdown",
   "metadata": {},
   "source": [
    "There are two tests we can perform to see if a dataset is suitable for factor analysis."
   ]
  },
  {
   "cell_type": "markdown",
   "metadata": {},
   "source": [
    "#### Bartlett’s Test"
   ]
  },
  {
   "cell_type": "markdown",
   "metadata": {},
   "source": [
    "This test makes sure the observed variable are correlated. It tests if the observed correlation matrix is statistically different from the identity matrix (ie, are all correlations between observations 0). A significant result means we have correlation between the observations."
   ]
  },
  {
   "cell_type": "code",
   "execution_count": 62,
   "metadata": {},
   "outputs": [
    {
     "data": {
      "text/plain": [
       "(115.1905255102081, 1.0390203377404314e-06)"
      ]
     },
     "execution_count": 62,
     "metadata": {},
     "output_type": "execute_result"
    }
   ],
   "source": [
    "chi_square_value,p_value = calculate_bartlett_sphericity(wellness_df)\n",
    "chi_square_value, p_value\n"
   ]
  },
  {
   "cell_type": "markdown",
   "metadata": {},
   "source": [
    "#### Kaiser-Meyer-Olkin Test"
   ]
  },
  {
   "cell_type": "markdown",
   "metadata": {},
   "source": [
    "TODO: Better description of test... We are looking for an overall value larger than 0.6 for the entire model."
   ]
  },
  {
   "cell_type": "code",
   "execution_count": 63,
   "metadata": {},
   "outputs": [
    {
     "data": {
      "text/plain": [
       "(array([0.67264327, 0.79436527, 0.57377575, 0.60374408, 0.39210918,\n",
       "        0.88490598, 0.43387275, 0.42871681, 0.49038528, 0.46150402,\n",
       "        0.20477796]), 0.6044578613206235)"
      ]
     },
     "execution_count": 63,
     "metadata": {},
     "output_type": "execute_result"
    }
   ],
   "source": [
    "kmo_all,kmo_model=calculate_kmo(wellness_df)\n",
    "kmo_all, kmo_model\n"
   ]
  },
  {
   "cell_type": "markdown",
   "metadata": {},
   "source": [
    "The data just barely passes the KMO test but passes Bartlett's test by a large margin.\n",
    "\n",
    "From the perspective of the KMO test, training readiness is the least adequate of all observations."
   ]
  },
  {
   "cell_type": "markdown",
   "metadata": {},
   "source": [
    "### Dealing With Pain, Illness, and Menstruation"
   ]
  },
  {
   "cell_type": "markdown",
   "metadata": {},
   "source": [
    "The scale of all variables are such that larger values indicate better wellness. However, the Pain, Illness, and Menstruation variables are encoding the probability that one is exhibing the given trait, which all seem to decrease wellness. Thus, I should take the inverse of these probabilities to represent the probability that the players are not exhibiting this trait so wellness can be interpreted in the same way accross all factors."
   ]
  },
  {
   "cell_type": "code",
   "execution_count": 64,
   "metadata": {},
   "outputs": [
    {
     "data": {
      "text/html": [
       "<div>\n",
       "<style scoped>\n",
       "    .dataframe tbody tr th:only-of-type {\n",
       "        vertical-align: middle;\n",
       "    }\n",
       "\n",
       "    .dataframe tbody tr th {\n",
       "        vertical-align: top;\n",
       "    }\n",
       "\n",
       "    .dataframe thead th {\n",
       "        text-align: right;\n",
       "    }\n",
       "</style>\n",
       "<table border=\"1\" class=\"dataframe\">\n",
       "  <thead>\n",
       "    <tr style=\"text-align: right;\">\n",
       "      <th></th>\n",
       "      <th>Fatigue</th>\n",
       "      <th>Soreness</th>\n",
       "      <th>Desire</th>\n",
       "      <th>Irritability</th>\n",
       "      <th>SleepHours</th>\n",
       "      <th>SleepQuality</th>\n",
       "      <th>Pain</th>\n",
       "      <th>Illness</th>\n",
       "      <th>Menstruation</th>\n",
       "      <th>Nutrition</th>\n",
       "      <th>TrainingReadiness</th>\n",
       "    </tr>\n",
       "  </thead>\n",
       "  <tbody>\n",
       "    <tr>\n",
       "      <th>0</th>\n",
       "      <td>2.671924</td>\n",
       "      <td>3.302839</td>\n",
       "      <td>2.479495</td>\n",
       "      <td>3.936909</td>\n",
       "      <td>8.715300</td>\n",
       "      <td>3.611987</td>\n",
       "      <td>0.974763</td>\n",
       "      <td>0.848580</td>\n",
       "      <td>0.842271</td>\n",
       "      <td>2.921136</td>\n",
       "      <td>21.435331</td>\n",
       "    </tr>\n",
       "    <tr>\n",
       "      <th>1</th>\n",
       "      <td>3.779762</td>\n",
       "      <td>3.276786</td>\n",
       "      <td>4.113095</td>\n",
       "      <td>4.151786</td>\n",
       "      <td>9.053571</td>\n",
       "      <td>4.122024</td>\n",
       "      <td>0.794643</td>\n",
       "      <td>0.955357</td>\n",
       "      <td>0.812500</td>\n",
       "      <td>2.636905</td>\n",
       "      <td>11.651786</td>\n",
       "    </tr>\n",
       "    <tr>\n",
       "      <th>2</th>\n",
       "      <td>3.350725</td>\n",
       "      <td>3.176812</td>\n",
       "      <td>3.455072</td>\n",
       "      <td>3.979710</td>\n",
       "      <td>7.879710</td>\n",
       "      <td>3.913043</td>\n",
       "      <td>0.973913</td>\n",
       "      <td>1.000000</td>\n",
       "      <td>0.881159</td>\n",
       "      <td>2.985507</td>\n",
       "      <td>98.115942</td>\n",
       "    </tr>\n",
       "    <tr>\n",
       "      <th>3</th>\n",
       "      <td>3.305195</td>\n",
       "      <td>3.542208</td>\n",
       "      <td>3.935065</td>\n",
       "      <td>3.668831</td>\n",
       "      <td>8.266234</td>\n",
       "      <td>2.954545</td>\n",
       "      <td>0.993506</td>\n",
       "      <td>0.983766</td>\n",
       "      <td>0.853896</td>\n",
       "      <td>2.938312</td>\n",
       "      <td>66.996753</td>\n",
       "    </tr>\n",
       "    <tr>\n",
       "      <th>4</th>\n",
       "      <td>3.803089</td>\n",
       "      <td>3.814672</td>\n",
       "      <td>4.324324</td>\n",
       "      <td>3.965251</td>\n",
       "      <td>7.925676</td>\n",
       "      <td>3.841699</td>\n",
       "      <td>0.683398</td>\n",
       "      <td>0.745174</td>\n",
       "      <td>0.888031</td>\n",
       "      <td>2.050193</td>\n",
       "      <td>65.637066</td>\n",
       "    </tr>\n",
       "    <tr>\n",
       "      <th>5</th>\n",
       "      <td>3.694656</td>\n",
       "      <td>3.438931</td>\n",
       "      <td>3.961832</td>\n",
       "      <td>3.942748</td>\n",
       "      <td>8.471374</td>\n",
       "      <td>3.984733</td>\n",
       "      <td>0.996183</td>\n",
       "      <td>0.942748</td>\n",
       "      <td>0.858779</td>\n",
       "      <td>2.721374</td>\n",
       "      <td>67.156489</td>\n",
       "    </tr>\n",
       "    <tr>\n",
       "      <th>6</th>\n",
       "      <td>3.073314</td>\n",
       "      <td>3.087977</td>\n",
       "      <td>3.797654</td>\n",
       "      <td>3.697947</td>\n",
       "      <td>9.212610</td>\n",
       "      <td>3.862170</td>\n",
       "      <td>0.929619</td>\n",
       "      <td>0.903226</td>\n",
       "      <td>0.868035</td>\n",
       "      <td>2.891496</td>\n",
       "      <td>93.460411</td>\n",
       "    </tr>\n",
       "    <tr>\n",
       "      <th>7</th>\n",
       "      <td>3.737705</td>\n",
       "      <td>3.537705</td>\n",
       "      <td>3.734426</td>\n",
       "      <td>4.367213</td>\n",
       "      <td>8.194262</td>\n",
       "      <td>4.016393</td>\n",
       "      <td>0.744262</td>\n",
       "      <td>0.291803</td>\n",
       "      <td>0.927869</td>\n",
       "      <td>2.593443</td>\n",
       "      <td>53.704918</td>\n",
       "    </tr>\n",
       "    <tr>\n",
       "      <th>8</th>\n",
       "      <td>4.877828</td>\n",
       "      <td>4.565611</td>\n",
       "      <td>4.886878</td>\n",
       "      <td>4.914027</td>\n",
       "      <td>9.160633</td>\n",
       "      <td>4.900452</td>\n",
       "      <td>0.995475</td>\n",
       "      <td>0.941176</td>\n",
       "      <td>0.895928</td>\n",
       "      <td>2.479638</td>\n",
       "      <td>77.104072</td>\n",
       "    </tr>\n",
       "    <tr>\n",
       "      <th>9</th>\n",
       "      <td>2.954683</td>\n",
       "      <td>2.978852</td>\n",
       "      <td>3.794562</td>\n",
       "      <td>3.824773</td>\n",
       "      <td>8.374622</td>\n",
       "      <td>2.933535</td>\n",
       "      <td>0.274924</td>\n",
       "      <td>0.404834</td>\n",
       "      <td>0.788520</td>\n",
       "      <td>2.510574</td>\n",
       "      <td>74.244713</td>\n",
       "    </tr>\n",
       "    <tr>\n",
       "      <th>10</th>\n",
       "      <td>2.616715</td>\n",
       "      <td>2.668588</td>\n",
       "      <td>3.331412</td>\n",
       "      <td>3.613833</td>\n",
       "      <td>8.446686</td>\n",
       "      <td>3.198847</td>\n",
       "      <td>0.997118</td>\n",
       "      <td>0.755043</td>\n",
       "      <td>0.775216</td>\n",
       "      <td>2.737752</td>\n",
       "      <td>96.455331</td>\n",
       "    </tr>\n",
       "    <tr>\n",
       "      <th>11</th>\n",
       "      <td>3.800000</td>\n",
       "      <td>3.852174</td>\n",
       "      <td>4.013043</td>\n",
       "      <td>4.017391</td>\n",
       "      <td>8.307609</td>\n",
       "      <td>3.600000</td>\n",
       "      <td>0.991304</td>\n",
       "      <td>0.926087</td>\n",
       "      <td>0.821739</td>\n",
       "      <td>2.060870</td>\n",
       "      <td>72.869565</td>\n",
       "    </tr>\n",
       "    <tr>\n",
       "      <th>12</th>\n",
       "      <td>3.465909</td>\n",
       "      <td>2.900568</td>\n",
       "      <td>3.960227</td>\n",
       "      <td>4.000000</td>\n",
       "      <td>9.088778</td>\n",
       "      <td>3.826705</td>\n",
       "      <td>0.957386</td>\n",
       "      <td>0.857955</td>\n",
       "      <td>0.963068</td>\n",
       "      <td>2.877841</td>\n",
       "      <td>99.900568</td>\n",
       "    </tr>\n",
       "    <tr>\n",
       "      <th>13</th>\n",
       "      <td>3.384906</td>\n",
       "      <td>3.233962</td>\n",
       "      <td>4.147170</td>\n",
       "      <td>3.758491</td>\n",
       "      <td>8.938679</td>\n",
       "      <td>4.109434</td>\n",
       "      <td>0.992453</td>\n",
       "      <td>0.996226</td>\n",
       "      <td>0.958491</td>\n",
       "      <td>2.852830</td>\n",
       "      <td>66.320755</td>\n",
       "    </tr>\n",
       "    <tr>\n",
       "      <th>14</th>\n",
       "      <td>4.448276</td>\n",
       "      <td>4.236453</td>\n",
       "      <td>4.596059</td>\n",
       "      <td>4.600985</td>\n",
       "      <td>9.012315</td>\n",
       "      <td>5.679803</td>\n",
       "      <td>0.950739</td>\n",
       "      <td>0.955665</td>\n",
       "      <td>0.842365</td>\n",
       "      <td>2.610837</td>\n",
       "      <td>78.965517</td>\n",
       "    </tr>\n",
       "    <tr>\n",
       "      <th>15</th>\n",
       "      <td>2.587209</td>\n",
       "      <td>3.052326</td>\n",
       "      <td>3.514535</td>\n",
       "      <td>3.622093</td>\n",
       "      <td>8.863372</td>\n",
       "      <td>3.258721</td>\n",
       "      <td>0.883721</td>\n",
       "      <td>0.915698</td>\n",
       "      <td>0.793605</td>\n",
       "      <td>2.340116</td>\n",
       "      <td>56.787791</td>\n",
       "    </tr>\n",
       "    <tr>\n",
       "      <th>16</th>\n",
       "      <td>3.781659</td>\n",
       "      <td>3.445415</td>\n",
       "      <td>3.991266</td>\n",
       "      <td>3.995633</td>\n",
       "      <td>9.634279</td>\n",
       "      <td>4.082969</td>\n",
       "      <td>1.000000</td>\n",
       "      <td>0.938865</td>\n",
       "      <td>0.829694</td>\n",
       "      <td>2.235808</td>\n",
       "      <td>86.026201</td>\n",
       "    </tr>\n",
       "  </tbody>\n",
       "</table>\n",
       "</div>"
      ],
      "text/plain": [
       "     Fatigue  Soreness    Desire  Irritability  SleepHours  SleepQuality  \\\n",
       "0   2.671924  3.302839  2.479495      3.936909    8.715300      3.611987   \n",
       "1   3.779762  3.276786  4.113095      4.151786    9.053571      4.122024   \n",
       "2   3.350725  3.176812  3.455072      3.979710    7.879710      3.913043   \n",
       "3   3.305195  3.542208  3.935065      3.668831    8.266234      2.954545   \n",
       "4   3.803089  3.814672  4.324324      3.965251    7.925676      3.841699   \n",
       "5   3.694656  3.438931  3.961832      3.942748    8.471374      3.984733   \n",
       "6   3.073314  3.087977  3.797654      3.697947    9.212610      3.862170   \n",
       "7   3.737705  3.537705  3.734426      4.367213    8.194262      4.016393   \n",
       "8   4.877828  4.565611  4.886878      4.914027    9.160633      4.900452   \n",
       "9   2.954683  2.978852  3.794562      3.824773    8.374622      2.933535   \n",
       "10  2.616715  2.668588  3.331412      3.613833    8.446686      3.198847   \n",
       "11  3.800000  3.852174  4.013043      4.017391    8.307609      3.600000   \n",
       "12  3.465909  2.900568  3.960227      4.000000    9.088778      3.826705   \n",
       "13  3.384906  3.233962  4.147170      3.758491    8.938679      4.109434   \n",
       "14  4.448276  4.236453  4.596059      4.600985    9.012315      5.679803   \n",
       "15  2.587209  3.052326  3.514535      3.622093    8.863372      3.258721   \n",
       "16  3.781659  3.445415  3.991266      3.995633    9.634279      4.082969   \n",
       "\n",
       "        Pain   Illness  Menstruation  Nutrition  TrainingReadiness  \n",
       "0   0.974763  0.848580      0.842271   2.921136          21.435331  \n",
       "1   0.794643  0.955357      0.812500   2.636905          11.651786  \n",
       "2   0.973913  1.000000      0.881159   2.985507          98.115942  \n",
       "3   0.993506  0.983766      0.853896   2.938312          66.996753  \n",
       "4   0.683398  0.745174      0.888031   2.050193          65.637066  \n",
       "5   0.996183  0.942748      0.858779   2.721374          67.156489  \n",
       "6   0.929619  0.903226      0.868035   2.891496          93.460411  \n",
       "7   0.744262  0.291803      0.927869   2.593443          53.704918  \n",
       "8   0.995475  0.941176      0.895928   2.479638          77.104072  \n",
       "9   0.274924  0.404834      0.788520   2.510574          74.244713  \n",
       "10  0.997118  0.755043      0.775216   2.737752          96.455331  \n",
       "11  0.991304  0.926087      0.821739   2.060870          72.869565  \n",
       "12  0.957386  0.857955      0.963068   2.877841          99.900568  \n",
       "13  0.992453  0.996226      0.958491   2.852830          66.320755  \n",
       "14  0.950739  0.955665      0.842365   2.610837          78.965517  \n",
       "15  0.883721  0.915698      0.793605   2.340116          56.787791  \n",
       "16  1.000000  0.938865      0.829694   2.235808          86.026201  "
      ]
     },
     "execution_count": 64,
     "metadata": {},
     "output_type": "execute_result"
    }
   ],
   "source": [
    "wellness_df['Pain'] = 1 - wellness_df['Pain']\n",
    "wellness_df['Illness'] = 1 - wellness_df['Illness']\n",
    "wellness_df['Menstruation'] = 1 - wellness_df['Menstruation']\n",
    "pca_df = wellness_df.copy() # Added in for bonus at end of document\n",
    "wellness_df\n"
   ]
  },
  {
   "cell_type": "markdown",
   "metadata": {},
   "source": [
    "### Choosing the Number of Factors"
   ]
  },
  {
   "cell_type": "code",
   "execution_count": 65,
   "metadata": {},
   "outputs": [
    {
     "data": {
      "image/png": "[encoded data removed]",
      "text/plain": [
       "<Figure size 432x288 with 1 Axes>"
      ]
     },
     "metadata": {
      "needs_background": "light"
     },
     "output_type": "display_data"
    }
   ],
   "source": [
    "factor_number_tester = FactorAnalyzer(n_factors=10, rotation=None) # Using number of factors = number of columns\n",
    "factor_number_tester.fit(wellness_df) \n",
    "ev, v = factor_number_tester.get_eigenvalues()\n",
    "\n",
    "plt.scatter(range(1,wellness_df.shape[1]+1),ev)\n",
    "plt.plot(range(1,wellness_df.shape[1]+1),ev)\n",
    "plt.title('Scree Plot')\n",
    "plt.xlabel('Factors')\n",
    "plt.ylabel('Eigenvalue')\n",
    "plt.grid()\n",
    "plt.show()\n"
   ]
  },
  {
   "cell_type": "markdown",
   "metadata": {},
   "source": [
    "It seems like the elbow forms at the second factor so I will use 2 factors for my analysis."
   ]
  },
  {
   "cell_type": "markdown",
   "metadata": {},
   "source": [
    "### Perform Factor Analysis"
   ]
  },
  {
   "cell_type": "code",
   "execution_count": 66,
   "metadata": {},
   "outputs": [
    {
     "data": {
      "text/plain": [
       "['Fatigue',\n",
       " 'Soreness',\n",
       " 'Desire',\n",
       " 'Irritability',\n",
       " 'SleepHours',\n",
       " 'SleepQuality',\n",
       " 'Pain',\n",
       " 'Illness',\n",
       " 'Menstruation',\n",
       " 'Nutrition',\n",
       " 'TrainingReadiness']"
      ]
     },
     "execution_count": 66,
     "metadata": {},
     "output_type": "execute_result"
    }
   ],
   "source": [
    "list(wellness_df.columns)"
   ]
  },
  {
   "cell_type": "code",
   "execution_count": 67,
   "metadata": {},
   "outputs": [
    {
     "data": {
      "text/plain": [
       "array([[ 0.99881835,  0.11359349],\n",
       "       [ 0.86830451,  0.05469727],\n",
       "       [ 0.77676729,  0.04704464],\n",
       "       [ 0.88158831,  0.00675226],\n",
       "       [ 0.19592085,  0.36526222],\n",
       "       [ 0.79370152,  0.34829706],\n",
       "       [ 0.03567137,  0.92173342],\n",
       "       [ 0.07276339,  0.7484231 ],\n",
       "       [ 0.26429935,  0.21674487],\n",
       "       [-0.33671982,  0.33684575],\n",
       "       [ 0.01213516,  0.15934235]])"
      ]
     },
     "execution_count": 67,
     "metadata": {},
     "output_type": "execute_result"
    }
   ],
   "source": [
    "fa = FactorAnalyzer(n_factors=2, rotation='varimax')\n",
    "\n",
    "fa.fit(wellness_df)\n",
    "fa.loadings_\n"
   ]
  },
  {
   "cell_type": "markdown",
   "metadata": {},
   "source": [
    "The rule of thumb for seeing if a observation is related to a factor is a loading of `0.7` or higher."
   ]
  },
  {
   "cell_type": "markdown",
   "metadata": {},
   "source": [
    "From this we see that `Fatigue`, `Soreness`, `Desire`, `Irritability`, and `SleepQuality` all relate to the first factor. This is interesting because these are the observations that made up the Monitor Score. We can see this as subjective wellness as they are all self reported values.\n",
    "\n",
    "The second is related to `Pain` and `Illness`. We can see this as objective wellness."
   ]
  },
  {
   "cell_type": "code",
   "execution_count": 68,
   "metadata": {},
   "outputs": [
    {
     "data": {
      "text/plain": [
       "(array([3.99045187, 1.86844441]),\n",
       " array([0.36276835, 0.16985858]),\n",
       " array([0.36276835, 0.53262693]))"
      ]
     },
     "execution_count": 68,
     "metadata": {},
     "output_type": "execute_result"
    }
   ],
   "source": [
    "fa.get_factor_variance()"
   ]
  },
  {
   "cell_type": "markdown",
   "metadata": {},
   "source": [
    "This 2 factor model explains `53.4%` of the variance which is adequate."
   ]
  },
  {
   "cell_type": "markdown",
   "metadata": {},
   "source": [
    "#### Try 3 Factors"
   ]
  },
  {
   "cell_type": "markdown",
   "metadata": {},
   "source": [
    "Some would say that the elbow of the scree plot occurs at the 3rd factor. Just to make sure I should not be using 3 factors, let's see what happens when I do."
   ]
  },
  {
   "cell_type": "code",
   "execution_count": 69,
   "metadata": {},
   "outputs": [
    {
     "data": {
      "text/plain": [
       "array([[ 0.99237761,  0.12492504,  0.04184565],\n",
       "       [ 0.86245682,  0.1337924 , -0.14050099],\n",
       "       [ 0.76682627,  0.10996312, -0.07780675],\n",
       "       [ 0.89316975, -0.04360363,  0.14195388],\n",
       "       [ 0.18898156,  0.36398077,  0.06719366],\n",
       "       [ 0.79692072,  0.27897668,  0.25260081],\n",
       "       [ 0.0438031 ,  0.73688007,  0.28795428],\n",
       "       [ 0.02954212,  0.99902542, -0.00423838],\n",
       "       [ 0.29396833,  0.02704047,  0.52955509],\n",
       "       [-0.36814094,  0.14388163,  0.73244256],\n",
       "       [ 0.01614594,  0.10336711,  0.13712992]])"
      ]
     },
     "execution_count": 69,
     "metadata": {},
     "output_type": "execute_result"
    }
   ],
   "source": [
    "fa_alt = FactorAnalyzer(n_factors=3, rotation='varimax')\n",
    "\n",
    "fa_alt.fit(wellness_df)\n",
    "fa_alt.loadings_\n"
   ]
  },
  {
   "cell_type": "code",
   "execution_count": 70,
   "metadata": {},
   "outputs": [
    {
     "data": {
      "text/plain": [
       "(array([4.01021374, 1.83097171, 1.03465948]),\n",
       " array([0.36456489, 0.16645197, 0.09405995]),\n",
       " array([0.36456489, 0.53101686, 0.62507681]))"
      ]
     },
     "execution_count": 70,
     "metadata": {},
     "output_type": "execute_result"
    }
   ],
   "source": [
    "fa_alt.get_factor_variance()\n"
   ]
  },
  {
   "cell_type": "markdown",
   "metadata": {},
   "source": [
    "The interpretation of the first two factors has not changed while the last factor is related to `Nutrition`. Given that the 3 factor model explains a higher proportion of the variance in the data compared to the 2 factor model, we could use this model instead."
   ]
  },
  {
   "cell_type": "markdown",
   "metadata": {},
   "source": [
    "## Alternative Measure For Sleep"
   ]
  },
  {
   "cell_type": "markdown",
   "metadata": {},
   "source": [
    "We want to see if we should combine sleep into one measure by multipliying the quality and duration to get a sleep score. We will run factor analysis on this new dataset and see if we get results that explain more of the variance than before."
   ]
  },
  {
   "cell_type": "code",
   "execution_count": 71,
   "metadata": {},
   "outputs": [
    {
     "data": {
      "text/html": [
       "<div>\n",
       "<style scoped>\n",
       "    .dataframe tbody tr th:only-of-type {\n",
       "        vertical-align: middle;\n",
       "    }\n",
       "\n",
       "    .dataframe tbody tr th {\n",
       "        vertical-align: top;\n",
       "    }\n",
       "\n",
       "    .dataframe thead th {\n",
       "        text-align: right;\n",
       "    }\n",
       "</style>\n",
       "<table border=\"1\" class=\"dataframe\">\n",
       "  <thead>\n",
       "    <tr style=\"text-align: right;\">\n",
       "      <th></th>\n",
       "      <th>Fatigue</th>\n",
       "      <th>Soreness</th>\n",
       "      <th>Desire</th>\n",
       "      <th>Irritability</th>\n",
       "      <th>Pain</th>\n",
       "      <th>Illness</th>\n",
       "      <th>Menstruation</th>\n",
       "      <th>Nutrition</th>\n",
       "      <th>TrainingReadiness</th>\n",
       "      <th>SleepScore</th>\n",
       "    </tr>\n",
       "  </thead>\n",
       "  <tbody>\n",
       "    <tr>\n",
       "      <th>0</th>\n",
       "      <td>2.671924</td>\n",
       "      <td>3.302839</td>\n",
       "      <td>2.479495</td>\n",
       "      <td>3.936909</td>\n",
       "      <td>0.974763</td>\n",
       "      <td>0.848580</td>\n",
       "      <td>0.842271</td>\n",
       "      <td>2.921136</td>\n",
       "      <td>21.435331</td>\n",
       "      <td>31.479552</td>\n",
       "    </tr>\n",
       "    <tr>\n",
       "      <th>1</th>\n",
       "      <td>3.779762</td>\n",
       "      <td>3.276786</td>\n",
       "      <td>4.113095</td>\n",
       "      <td>4.151786</td>\n",
       "      <td>0.794643</td>\n",
       "      <td>0.955357</td>\n",
       "      <td>0.812500</td>\n",
       "      <td>2.636905</td>\n",
       "      <td>11.651786</td>\n",
       "      <td>37.319037</td>\n",
       "    </tr>\n",
       "    <tr>\n",
       "      <th>2</th>\n",
       "      <td>3.350725</td>\n",
       "      <td>3.176812</td>\n",
       "      <td>3.455072</td>\n",
       "      <td>3.979710</td>\n",
       "      <td>0.973913</td>\n",
       "      <td>1.000000</td>\n",
       "      <td>0.881159</td>\n",
       "      <td>2.985507</td>\n",
       "      <td>98.115942</td>\n",
       "      <td>30.833648</td>\n",
       "    </tr>\n",
       "    <tr>\n",
       "      <th>3</th>\n",
       "      <td>3.305195</td>\n",
       "      <td>3.542208</td>\n",
       "      <td>3.935065</td>\n",
       "      <td>3.668831</td>\n",
       "      <td>0.993506</td>\n",
       "      <td>0.983766</td>\n",
       "      <td>0.853896</td>\n",
       "      <td>2.938312</td>\n",
       "      <td>66.996753</td>\n",
       "      <td>24.422963</td>\n",
       "    </tr>\n",
       "    <tr>\n",
       "      <th>4</th>\n",
       "      <td>3.803089</td>\n",
       "      <td>3.814672</td>\n",
       "      <td>4.324324</td>\n",
       "      <td>3.965251</td>\n",
       "      <td>0.683398</td>\n",
       "      <td>0.745174</td>\n",
       "      <td>0.888031</td>\n",
       "      <td>2.050193</td>\n",
       "      <td>65.637066</td>\n",
       "      <td>30.448059</td>\n",
       "    </tr>\n",
       "  </tbody>\n",
       "</table>\n",
       "</div>"
      ],
      "text/plain": [
       "    Fatigue  Soreness    Desire  Irritability      Pain   Illness  \\\n",
       "0  2.671924  3.302839  2.479495      3.936909  0.974763  0.848580   \n",
       "1  3.779762  3.276786  4.113095      4.151786  0.794643  0.955357   \n",
       "2  3.350725  3.176812  3.455072      3.979710  0.973913  1.000000   \n",
       "3  3.305195  3.542208  3.935065      3.668831  0.993506  0.983766   \n",
       "4  3.803089  3.814672  4.324324      3.965251  0.683398  0.745174   \n",
       "\n",
       "   Menstruation  Nutrition  TrainingReadiness  SleepScore  \n",
       "0      0.842271   2.921136          21.435331   31.479552  \n",
       "1      0.812500   2.636905          11.651786   37.319037  \n",
       "2      0.881159   2.985507          98.115942   30.833648  \n",
       "3      0.853896   2.938312          66.996753   24.422963  \n",
       "4      0.888031   2.050193          65.637066   30.448059  "
      ]
     },
     "execution_count": 71,
     "metadata": {},
     "output_type": "execute_result"
    }
   ],
   "source": [
    "wellness_df_alt = wellness_df.copy()\n",
    "wellness_df_alt['SleepScore'] = wellness_df_alt['SleepQuality'] * wellness_df_alt['SleepHours']\n",
    "wellness_df_alt = wellness_df_alt.drop(columns=['SleepQuality', 'SleepHours'])\n",
    "wellness_df_alt.head()\n"
   ]
  },
  {
   "cell_type": "markdown",
   "metadata": {},
   "source": [
    "### Choose Number of Factors "
   ]
  },
  {
   "cell_type": "code",
   "execution_count": 72,
   "metadata": {},
   "outputs": [
    {
     "data": {
      "image/png": "[encoded data removed]",
      "text/plain": [
       "<Figure size 432x288 with 1 Axes>"
      ]
     },
     "metadata": {
      "needs_background": "light"
     },
     "output_type": "display_data"
    }
   ],
   "source": [
    "factor_number_tester.fit(wellness_df_alt) \n",
    "ev, v = factor_number_tester.get_eigenvalues()\n",
    "\n",
    "plt.scatter(range(1,wellness_df_alt.shape[1]+1),ev)\n",
    "plt.plot(range(1,wellness_df_alt.shape[1]+1),ev)\n",
    "plt.title('Scree Plot')\n",
    "plt.xlabel('Factors')\n",
    "plt.ylabel('Eigenvalue')\n",
    "plt.grid()\n",
    "plt.show()\n"
   ]
  },
  {
   "cell_type": "markdown",
   "metadata": {},
   "source": [
    "Again, we see that we could use 2 or 3 factors."
   ]
  },
  {
   "cell_type": "markdown",
   "metadata": {},
   "source": [
    "### Run Factor Analysis"
   ]
  },
  {
   "cell_type": "code",
   "execution_count": 73,
   "metadata": {},
   "outputs": [
    {
     "data": {
      "text/plain": [
       "['Fatigue',\n",
       " 'Soreness',\n",
       " 'Desire',\n",
       " 'Irritability',\n",
       " 'Pain',\n",
       " 'Illness',\n",
       " 'Menstruation',\n",
       " 'Nutrition',\n",
       " 'TrainingReadiness',\n",
       " 'SleepScore']"
      ]
     },
     "execution_count": 73,
     "metadata": {},
     "output_type": "execute_result"
    }
   ],
   "source": [
    "list(wellness_df_alt.columns)\n"
   ]
  },
  {
   "cell_type": "code",
   "execution_count": 74,
   "metadata": {},
   "outputs": [
    {
     "data": {
      "text/plain": [
       "array([[ 1.00500414,  0.08369598],\n",
       "       [ 0.87206669,  0.04431703],\n",
       "       [ 0.78653736,  0.0043627 ],\n",
       "       [ 0.87324035, -0.02222798],\n",
       "       [ 0.06844902,  0.98055639],\n",
       "       [ 0.10828769,  0.6980765 ],\n",
       "       [ 0.26633687,  0.22463818],\n",
       "       [-0.3300841 ,  0.35402638],\n",
       "       [ 0.02006989,  0.16616255],\n",
       "       [ 0.73845165,  0.33101448]])"
      ]
     },
     "execution_count": 74,
     "metadata": {},
     "output_type": "execute_result"
    }
   ],
   "source": [
    "fa_sleep_score = FactorAnalyzer(n_factors=2, rotation='varimax')\n",
    "\n",
    "fa_sleep_score.fit(wellness_df_alt)\n",
    "fa_sleep_score.loadings_\n"
   ]
  },
  {
   "cell_type": "code",
   "execution_count": 75,
   "metadata": {},
   "outputs": [
    {
     "data": {
      "text/plain": [
       "(array([3.89373934, 1.77126134]),\n",
       " array([0.38937393, 0.17712613]),\n",
       " array([0.38937393, 0.56650007]))"
      ]
     },
     "execution_count": 75,
     "metadata": {},
     "output_type": "execute_result"
    }
   ],
   "source": [
    "fa_sleep_score.get_factor_variance()"
   ]
  },
  {
   "cell_type": "markdown",
   "metadata": {},
   "source": [
    "### With 3 Factors"
   ]
  },
  {
   "cell_type": "code",
   "execution_count": 76,
   "metadata": {},
   "outputs": [
    {
     "data": {
      "text/plain": [
       "array([[ 1.00005081,  0.07399062,  0.06560229],\n",
       "       [ 0.8731089 ,  0.11888344, -0.13468352],\n",
       "       [ 0.77849425,  0.05678076, -0.04989408],\n",
       "       [ 0.88359503, -0.09691976,  0.14562148],\n",
       "       [ 0.07902507,  0.72960232,  0.31230352],\n",
       "       [ 0.08533067,  0.99655668,  0.02674521],\n",
       "       [ 0.2874598 ,  0.00386066,  0.54801437],\n",
       "       [-0.36914223,  0.14769297,  0.71361815],\n",
       "       [ 0.02222706,  0.09987504,  0.15261749],\n",
       "       [ 0.73622738,  0.26290321,  0.23292309]])"
      ]
     },
     "execution_count": 76,
     "metadata": {},
     "output_type": "execute_result"
    }
   ],
   "source": [
    "fa_sleep_score_alt = FactorAnalyzer(n_factors=3, rotation='varimax')\n",
    "\n",
    "fa_sleep_score_alt.fit(wellness_df_alt)\n",
    "fa_sleep_score_alt.loadings_\n"
   ]
  },
  {
   "cell_type": "code",
   "execution_count": 77,
   "metadata": {},
   "outputs": [
    {
     "data": {
      "text/plain": [
       "(array([3.92416445, 1.65859138, 1.03150302]),\n",
       " array([0.39241645, 0.16585914, 0.1031503 ]),\n",
       " array([0.39241645, 0.55827558, 0.66142589]))"
      ]
     },
     "execution_count": 77,
     "metadata": {},
     "output_type": "execute_result"
    }
   ],
   "source": [
    "fa_sleep_score_alt.get_factor_variance()\n"
   ]
  },
  {
   "cell_type": "markdown",
   "metadata": {},
   "source": [
    "### Experiment Conclusions"
   ]
  },
  {
   "cell_type": "markdown",
   "metadata": {},
   "source": [
    "When we create the sleep score, we are making a summary column yet we removed the Monitor Score which is yet another summary column. Even though the model with sleep score explains more variance, does it make sense to do this?"
   ]
  },
  {
   "cell_type": "markdown",
   "metadata": {},
   "source": [
    "## Factor Analysis Conclusions"
   ]
  },
  {
   "cell_type": "markdown",
   "metadata": {},
   "source": [
    "Given the wellness data, we can summarize it into summary measures by taking the `Monitor Score` with the categorical variables `Pain` and `Illness`. This gives us as nice 3 feature description of ones wellness. Since the `Monitor Score` is on a different scale than `Pain` and `Illness`, we can standardize the `Monitor Score`.\n",
    "\n",
    "If we wanted to use the 3 factor model, we could also include `Nutrition` into our model. The question is, so we want to include a variable for which we imputed 17% of the data?"
   ]
  },
  {
   "cell_type": "markdown",
   "metadata": {},
   "source": [
    "## Summarizing Data"
   ]
  },
  {
   "cell_type": "markdown",
   "metadata": {},
   "source": [
    "There are two paths we could go down for summarizing the data. The first is to do a linear combination of the terms based on the eiganvalues (need to map everything to the 0-1 scale to do this). Another option is that we could use the built in mapping function in the factor analysis package to map the data to the factors and then add up the values of all the factors for a single wellness score."
   ]
  },
  {
   "cell_type": "markdown",
   "metadata": {},
   "source": [
    "Note that we might not actually need a single wellness score if we are looking to use wellness as covariates in some model of performance."
   ]
  },
  {
   "cell_type": "code",
   "execution_count": 78,
   "metadata": {},
   "outputs": [
    {
     "data": {
      "text/plain": [
       "array([[-1.02419382,  0.22860861,  0.2432537 ],\n",
       "       [ 0.41798952,  0.44379489, -0.12612558],\n",
       "       [-0.32636634,  1.09576015,  0.77497184],\n",
       "       [-0.57092687,  0.21604085,  0.21116719],\n",
       "       [ 0.57756889, -0.45189539, -1.39789338],\n",
       "       [ 0.41461806,  0.29058826,  0.39580361],\n",
       "       [-0.61692566,  0.19797385,  0.57043941],\n",
       "       [ 0.7813928 , -2.92562801,  1.19077014],\n",
       "       [ 1.97546662,  0.5061477 ,  0.05963002],\n",
       "       [-0.5225498 , -2.24846932, -0.96397696],\n",
       "       [-1.59533802, -0.4497801 ,  0.31468221],\n",
       "       [ 0.53253316,  0.44728129, -1.56528057],\n",
       "       [-0.29777915,  0.33361433,  1.18424143],\n",
       "       [-0.49645768,  0.70009673,  0.89723343],\n",
       "       [ 1.70951584,  0.4875296 ,  0.45727616],\n",
       "       [-1.89861325,  0.62091986, -1.3465948 ],\n",
       "       [ 0.94006569,  0.5074167 , -0.89959782]])"
      ]
     },
     "execution_count": 78,
     "metadata": {},
     "output_type": "execute_result"
    }
   ],
   "source": [
    "summary_fa = FactorAnalyzer(n_factors=3, rotation='varimax')\n",
    "\n",
    "summary_fa.fit(wellness_df)\n",
    "player_wellness_scores = summary_fa.transform(wellness_df)\n",
    "player_wellness_scores\n"
   ]
  },
  {
   "cell_type": "code",
   "execution_count": 79,
   "metadata": {},
   "outputs": [
    {
     "data": {
      "text/html": [
       "<div>\n",
       "<style scoped>\n",
       "    .dataframe tbody tr th:only-of-type {\n",
       "        vertical-align: middle;\n",
       "    }\n",
       "\n",
       "    .dataframe tbody tr th {\n",
       "        vertical-align: top;\n",
       "    }\n",
       "\n",
       "    .dataframe thead th {\n",
       "        text-align: right;\n",
       "    }\n",
       "</style>\n",
       "<table border=\"1\" class=\"dataframe\">\n",
       "  <thead>\n",
       "    <tr style=\"text-align: right;\">\n",
       "      <th></th>\n",
       "      <th>Fatigue</th>\n",
       "      <th>Soreness</th>\n",
       "      <th>Desire</th>\n",
       "      <th>Irritability</th>\n",
       "      <th>SleepHours</th>\n",
       "      <th>SleepQuality</th>\n",
       "      <th>Pain</th>\n",
       "      <th>Illness</th>\n",
       "      <th>Menstruation</th>\n",
       "      <th>Nutrition</th>\n",
       "      <th>TrainingReadiness</th>\n",
       "      <th>PlayerID</th>\n",
       "      <th>SubjectiveWellBeing</th>\n",
       "      <th>PhysicalHealth</th>\n",
       "      <th>Nutrition2</th>\n",
       "      <th>AverageMonitoringScore</th>\n",
       "      <th>OverallWellness</th>\n",
       "    </tr>\n",
       "  </thead>\n",
       "  <tbody>\n",
       "    <tr>\n",
       "      <th>0</th>\n",
       "      <td>2.671924</td>\n",
       "      <td>3.302839</td>\n",
       "      <td>2.479495</td>\n",
       "      <td>3.936909</td>\n",
       "      <td>8.715300</td>\n",
       "      <td>3.611987</td>\n",
       "      <td>0.974763</td>\n",
       "      <td>0.848580</td>\n",
       "      <td>0.842271</td>\n",
       "      <td>2.921136</td>\n",
       "      <td>21.435331</td>\n",
       "      <td>1</td>\n",
       "      <td>-1.024194</td>\n",
       "      <td>0.228609</td>\n",
       "      <td>0.243254</td>\n",
       "      <td>16.003155</td>\n",
       "      <td>2.125550</td>\n",
       "    </tr>\n",
       "    <tr>\n",
       "      <th>1</th>\n",
       "      <td>3.779762</td>\n",
       "      <td>3.276786</td>\n",
       "      <td>4.113095</td>\n",
       "      <td>4.151786</td>\n",
       "      <td>9.053571</td>\n",
       "      <td>4.122024</td>\n",
       "      <td>0.794643</td>\n",
       "      <td>0.955357</td>\n",
       "      <td>0.812500</td>\n",
       "      <td>2.636905</td>\n",
       "      <td>11.651786</td>\n",
       "      <td>2</td>\n",
       "      <td>0.417990</td>\n",
       "      <td>0.443795</td>\n",
       "      <td>-0.126126</td>\n",
       "      <td>19.443452</td>\n",
       "      <td>3.498689</td>\n",
       "    </tr>\n",
       "    <tr>\n",
       "      <th>2</th>\n",
       "      <td>3.350725</td>\n",
       "      <td>3.176812</td>\n",
       "      <td>3.455072</td>\n",
       "      <td>3.979710</td>\n",
       "      <td>7.879710</td>\n",
       "      <td>3.913043</td>\n",
       "      <td>0.973913</td>\n",
       "      <td>1.000000</td>\n",
       "      <td>0.881159</td>\n",
       "      <td>2.985507</td>\n",
       "      <td>98.115942</td>\n",
       "      <td>3</td>\n",
       "      <td>-0.326366</td>\n",
       "      <td>1.095760</td>\n",
       "      <td>0.774972</td>\n",
       "      <td>17.875362</td>\n",
       "      <td>3.754901</td>\n",
       "    </tr>\n",
       "    <tr>\n",
       "      <th>3</th>\n",
       "      <td>3.305195</td>\n",
       "      <td>3.542208</td>\n",
       "      <td>3.935065</td>\n",
       "      <td>3.668831</td>\n",
       "      <td>8.266234</td>\n",
       "      <td>2.954545</td>\n",
       "      <td>0.993506</td>\n",
       "      <td>0.983766</td>\n",
       "      <td>0.853896</td>\n",
       "      <td>2.938312</td>\n",
       "      <td>66.996753</td>\n",
       "      <td>4</td>\n",
       "      <td>-0.570927</td>\n",
       "      <td>0.216041</td>\n",
       "      <td>0.211167</td>\n",
       "      <td>17.405844</td>\n",
       "      <td>2.583426</td>\n",
       "    </tr>\n",
       "    <tr>\n",
       "      <th>4</th>\n",
       "      <td>3.803089</td>\n",
       "      <td>3.814672</td>\n",
       "      <td>4.324324</td>\n",
       "      <td>3.965251</td>\n",
       "      <td>7.925676</td>\n",
       "      <td>3.841699</td>\n",
       "      <td>0.683398</td>\n",
       "      <td>0.745174</td>\n",
       "      <td>0.888031</td>\n",
       "      <td>2.050193</td>\n",
       "      <td>65.637066</td>\n",
       "      <td>5</td>\n",
       "      <td>0.577569</td>\n",
       "      <td>-0.451895</td>\n",
       "      <td>-1.397893</td>\n",
       "      <td>19.749035</td>\n",
       "      <td>2.175867</td>\n",
       "    </tr>\n",
       "    <tr>\n",
       "      <th>5</th>\n",
       "      <td>3.694656</td>\n",
       "      <td>3.438931</td>\n",
       "      <td>3.961832</td>\n",
       "      <td>3.942748</td>\n",
       "      <td>8.471374</td>\n",
       "      <td>3.984733</td>\n",
       "      <td>0.996183</td>\n",
       "      <td>0.942748</td>\n",
       "      <td>0.858779</td>\n",
       "      <td>2.721374</td>\n",
       "      <td>67.156489</td>\n",
       "      <td>6</td>\n",
       "      <td>0.414618</td>\n",
       "      <td>0.290588</td>\n",
       "      <td>0.395804</td>\n",
       "      <td>19.022901</td>\n",
       "      <td>3.426580</td>\n",
       "    </tr>\n",
       "    <tr>\n",
       "      <th>6</th>\n",
       "      <td>3.073314</td>\n",
       "      <td>3.087977</td>\n",
       "      <td>3.797654</td>\n",
       "      <td>3.697947</td>\n",
       "      <td>9.212610</td>\n",
       "      <td>3.862170</td>\n",
       "      <td>0.929619</td>\n",
       "      <td>0.903226</td>\n",
       "      <td>0.868035</td>\n",
       "      <td>2.891496</td>\n",
       "      <td>93.460411</td>\n",
       "      <td>7</td>\n",
       "      <td>-0.616926</td>\n",
       "      <td>0.197974</td>\n",
       "      <td>0.570439</td>\n",
       "      <td>17.519062</td>\n",
       "      <td>2.472544</td>\n",
       "    </tr>\n",
       "    <tr>\n",
       "      <th>7</th>\n",
       "      <td>3.737705</td>\n",
       "      <td>3.537705</td>\n",
       "      <td>3.734426</td>\n",
       "      <td>4.367213</td>\n",
       "      <td>8.194262</td>\n",
       "      <td>4.016393</td>\n",
       "      <td>0.744262</td>\n",
       "      <td>0.291803</td>\n",
       "      <td>0.927869</td>\n",
       "      <td>2.593443</td>\n",
       "      <td>53.704918</td>\n",
       "      <td>8</td>\n",
       "      <td>0.781393</td>\n",
       "      <td>-2.925628</td>\n",
       "      <td>1.190770</td>\n",
       "      <td>19.393443</td>\n",
       "      <td>0.449207</td>\n",
       "    </tr>\n",
       "    <tr>\n",
       "      <th>8</th>\n",
       "      <td>4.877828</td>\n",
       "      <td>4.565611</td>\n",
       "      <td>4.886878</td>\n",
       "      <td>4.914027</td>\n",
       "      <td>9.160633</td>\n",
       "      <td>4.900452</td>\n",
       "      <td>0.995475</td>\n",
       "      <td>0.941176</td>\n",
       "      <td>0.895928</td>\n",
       "      <td>2.479638</td>\n",
       "      <td>77.104072</td>\n",
       "      <td>9</td>\n",
       "      <td>1.975467</td>\n",
       "      <td>0.506148</td>\n",
       "      <td>0.059630</td>\n",
       "      <td>24.144796</td>\n",
       "      <td>4.961252</td>\n",
       "    </tr>\n",
       "    <tr>\n",
       "      <th>9</th>\n",
       "      <td>2.954683</td>\n",
       "      <td>2.978852</td>\n",
       "      <td>3.794562</td>\n",
       "      <td>3.824773</td>\n",
       "      <td>8.374622</td>\n",
       "      <td>2.933535</td>\n",
       "      <td>0.274924</td>\n",
       "      <td>0.404834</td>\n",
       "      <td>0.788520</td>\n",
       "      <td>2.510574</td>\n",
       "      <td>74.244713</td>\n",
       "      <td>10</td>\n",
       "      <td>-0.522550</td>\n",
       "      <td>-2.248469</td>\n",
       "      <td>-0.963977</td>\n",
       "      <td>16.486405</td>\n",
       "      <td>-0.260445</td>\n",
       "    </tr>\n",
       "    <tr>\n",
       "      <th>10</th>\n",
       "      <td>2.616715</td>\n",
       "      <td>2.668588</td>\n",
       "      <td>3.331412</td>\n",
       "      <td>3.613833</td>\n",
       "      <td>8.446686</td>\n",
       "      <td>3.198847</td>\n",
       "      <td>0.997118</td>\n",
       "      <td>0.755043</td>\n",
       "      <td>0.775216</td>\n",
       "      <td>2.737752</td>\n",
       "      <td>96.455331</td>\n",
       "      <td>11</td>\n",
       "      <td>-1.595338</td>\n",
       "      <td>-0.449780</td>\n",
       "      <td>0.314682</td>\n",
       "      <td>15.429395</td>\n",
       "      <td>0.692634</td>\n",
       "    </tr>\n",
       "    <tr>\n",
       "      <th>11</th>\n",
       "      <td>3.800000</td>\n",
       "      <td>3.852174</td>\n",
       "      <td>4.013043</td>\n",
       "      <td>4.017391</td>\n",
       "      <td>8.307609</td>\n",
       "      <td>3.600000</td>\n",
       "      <td>0.991304</td>\n",
       "      <td>0.926087</td>\n",
       "      <td>0.821739</td>\n",
       "      <td>2.060870</td>\n",
       "      <td>72.869565</td>\n",
       "      <td>12</td>\n",
       "      <td>0.532533</td>\n",
       "      <td>0.447281</td>\n",
       "      <td>-1.565281</td>\n",
       "      <td>19.282609</td>\n",
       "      <td>3.040684</td>\n",
       "    </tr>\n",
       "    <tr>\n",
       "      <th>12</th>\n",
       "      <td>3.465909</td>\n",
       "      <td>2.900568</td>\n",
       "      <td>3.960227</td>\n",
       "      <td>4.000000</td>\n",
       "      <td>9.088778</td>\n",
       "      <td>3.826705</td>\n",
       "      <td>0.957386</td>\n",
       "      <td>0.857955</td>\n",
       "      <td>0.963068</td>\n",
       "      <td>2.877841</td>\n",
       "      <td>99.900568</td>\n",
       "      <td>13</td>\n",
       "      <td>-0.297779</td>\n",
       "      <td>0.333614</td>\n",
       "      <td>1.184241</td>\n",
       "      <td>18.153409</td>\n",
       "      <td>2.913676</td>\n",
       "    </tr>\n",
       "    <tr>\n",
       "      <th>13</th>\n",
       "      <td>3.384906</td>\n",
       "      <td>3.233962</td>\n",
       "      <td>4.147170</td>\n",
       "      <td>3.758491</td>\n",
       "      <td>8.938679</td>\n",
       "      <td>4.109434</td>\n",
       "      <td>0.992453</td>\n",
       "      <td>0.996226</td>\n",
       "      <td>0.958491</td>\n",
       "      <td>2.852830</td>\n",
       "      <td>66.320755</td>\n",
       "      <td>14</td>\n",
       "      <td>-0.496458</td>\n",
       "      <td>0.700097</td>\n",
       "      <td>0.897233</td>\n",
       "      <td>18.633962</td>\n",
       "      <td>3.056469</td>\n",
       "    </tr>\n",
       "    <tr>\n",
       "      <th>14</th>\n",
       "      <td>4.448276</td>\n",
       "      <td>4.236453</td>\n",
       "      <td>4.596059</td>\n",
       "      <td>4.600985</td>\n",
       "      <td>9.012315</td>\n",
       "      <td>5.679803</td>\n",
       "      <td>0.950739</td>\n",
       "      <td>0.955665</td>\n",
       "      <td>0.842365</td>\n",
       "      <td>2.610837</td>\n",
       "      <td>78.965517</td>\n",
       "      <td>15</td>\n",
       "      <td>1.709516</td>\n",
       "      <td>0.487530</td>\n",
       "      <td>0.457276</td>\n",
       "      <td>23.561576</td>\n",
       "      <td>4.807883</td>\n",
       "    </tr>\n",
       "    <tr>\n",
       "      <th>15</th>\n",
       "      <td>2.587209</td>\n",
       "      <td>3.052326</td>\n",
       "      <td>3.514535</td>\n",
       "      <td>3.622093</td>\n",
       "      <td>8.863372</td>\n",
       "      <td>3.258721</td>\n",
       "      <td>0.883721</td>\n",
       "      <td>0.915698</td>\n",
       "      <td>0.793605</td>\n",
       "      <td>2.340116</td>\n",
       "      <td>56.787791</td>\n",
       "      <td>16</td>\n",
       "      <td>-1.898613</td>\n",
       "      <td>0.620920</td>\n",
       "      <td>-1.346595</td>\n",
       "      <td>16.034884</td>\n",
       "      <td>1.062423</td>\n",
       "    </tr>\n",
       "    <tr>\n",
       "      <th>16</th>\n",
       "      <td>3.781659</td>\n",
       "      <td>3.445415</td>\n",
       "      <td>3.991266</td>\n",
       "      <td>3.995633</td>\n",
       "      <td>9.634279</td>\n",
       "      <td>4.082969</td>\n",
       "      <td>1.000000</td>\n",
       "      <td>0.938865</td>\n",
       "      <td>0.829694</td>\n",
       "      <td>2.235808</td>\n",
       "      <td>86.026201</td>\n",
       "      <td>17</td>\n",
       "      <td>0.940066</td>\n",
       "      <td>0.507417</td>\n",
       "      <td>-0.899598</td>\n",
       "      <td>19.296943</td>\n",
       "      <td>3.683290</td>\n",
       "    </tr>\n",
       "  </tbody>\n",
       "</table>\n",
       "</div>"
      ],
      "text/plain": [
       "     Fatigue  Soreness    Desire  Irritability  SleepHours  SleepQuality  \\\n",
       "0   2.671924  3.302839  2.479495      3.936909    8.715300      3.611987   \n",
       "1   3.779762  3.276786  4.113095      4.151786    9.053571      4.122024   \n",
       "2   3.350725  3.176812  3.455072      3.979710    7.879710      3.913043   \n",
       "3   3.305195  3.542208  3.935065      3.668831    8.266234      2.954545   \n",
       "4   3.803089  3.814672  4.324324      3.965251    7.925676      3.841699   \n",
       "5   3.694656  3.438931  3.961832      3.942748    8.471374      3.984733   \n",
       "6   3.073314  3.087977  3.797654      3.697947    9.212610      3.862170   \n",
       "7   3.737705  3.537705  3.734426      4.367213    8.194262      4.016393   \n",
       "8   4.877828  4.565611  4.886878      4.914027    9.160633      4.900452   \n",
       "9   2.954683  2.978852  3.794562      3.824773    8.374622      2.933535   \n",
       "10  2.616715  2.668588  3.331412      3.613833    8.446686      3.198847   \n",
       "11  3.800000  3.852174  4.013043      4.017391    8.307609      3.600000   \n",
       "12  3.465909  2.900568  3.960227      4.000000    9.088778      3.826705   \n",
       "13  3.384906  3.233962  4.147170      3.758491    8.938679      4.109434   \n",
       "14  4.448276  4.236453  4.596059      4.600985    9.012315      5.679803   \n",
       "15  2.587209  3.052326  3.514535      3.622093    8.863372      3.258721   \n",
       "16  3.781659  3.445415  3.991266      3.995633    9.634279      4.082969   \n",
       "\n",
       "        Pain   Illness  Menstruation  Nutrition  TrainingReadiness  PlayerID  \\\n",
       "0   0.974763  0.848580      0.842271   2.921136          21.435331         1   \n",
       "1   0.794643  0.955357      0.812500   2.636905          11.651786         2   \n",
       "2   0.973913  1.000000      0.881159   2.985507          98.115942         3   \n",
       "3   0.993506  0.983766      0.853896   2.938312          66.996753         4   \n",
       "4   0.683398  0.745174      0.888031   2.050193          65.637066         5   \n",
       "5   0.996183  0.942748      0.858779   2.721374          67.156489         6   \n",
       "6   0.929619  0.903226      0.868035   2.891496          93.460411         7   \n",
       "7   0.744262  0.291803      0.927869   2.593443          53.704918         8   \n",
       "8   0.995475  0.941176      0.895928   2.479638          77.104072         9   \n",
       "9   0.274924  0.404834      0.788520   2.510574          74.244713        10   \n",
       "10  0.997118  0.755043      0.775216   2.737752          96.455331        11   \n",
       "11  0.991304  0.926087      0.821739   2.060870          72.869565        12   \n",
       "12  0.957386  0.857955      0.963068   2.877841          99.900568        13   \n",
       "13  0.992453  0.996226      0.958491   2.852830          66.320755        14   \n",
       "14  0.950739  0.955665      0.842365   2.610837          78.965517        15   \n",
       "15  0.883721  0.915698      0.793605   2.340116          56.787791        16   \n",
       "16  1.000000  0.938865      0.829694   2.235808          86.026201        17   \n",
       "\n",
       "    SubjectiveWellBeing  PhysicalHealth  Nutrition2  AverageMonitoringScore  \\\n",
       "0             -1.024194        0.228609    0.243254               16.003155   \n",
       "1              0.417990        0.443795   -0.126126               19.443452   \n",
       "2             -0.326366        1.095760    0.774972               17.875362   \n",
       "3             -0.570927        0.216041    0.211167               17.405844   \n",
       "4              0.577569       -0.451895   -1.397893               19.749035   \n",
       "5              0.414618        0.290588    0.395804               19.022901   \n",
       "6             -0.616926        0.197974    0.570439               17.519062   \n",
       "7              0.781393       -2.925628    1.190770               19.393443   \n",
       "8              1.975467        0.506148    0.059630               24.144796   \n",
       "9             -0.522550       -2.248469   -0.963977               16.486405   \n",
       "10            -1.595338       -0.449780    0.314682               15.429395   \n",
       "11             0.532533        0.447281   -1.565281               19.282609   \n",
       "12            -0.297779        0.333614    1.184241               18.153409   \n",
       "13            -0.496458        0.700097    0.897233               18.633962   \n",
       "14             1.709516        0.487530    0.457276               23.561576   \n",
       "15            -1.898613        0.620920   -1.346595               16.034884   \n",
       "16             0.940066        0.507417   -0.899598               19.296943   \n",
       "\n",
       "    OverallWellness  \n",
       "0          2.125550  \n",
       "1          3.498689  \n",
       "2          3.754901  \n",
       "3          2.583426  \n",
       "4          2.175867  \n",
       "5          3.426580  \n",
       "6          2.472544  \n",
       "7          0.449207  \n",
       "8          4.961252  \n",
       "9         -0.260445  \n",
       "10         0.692634  \n",
       "11         3.040684  \n",
       "12         2.913676  \n",
       "13         3.056469  \n",
       "14         4.807883  \n",
       "15         1.062423  \n",
       "16         3.683290  "
      ]
     },
     "execution_count": 79,
     "metadata": {},
     "output_type": "execute_result"
    }
   ],
   "source": [
    "wellness_df['PlayerID'] = player_id_series\n",
    "wellness_df['SubjectiveWellBeing'] = player_wellness_scores[:, 0]\n",
    "wellness_df['PhysicalHealth'] = player_wellness_scores[:, 1]\n",
    "wellness_df['Nutrition2'] = player_wellness_scores[:, 2]\n",
    "wellness_df['AverageMonitoringScore'] = wellness_df['Fatigue'] + wellness_df['Soreness'] + wellness_df['Desire'] + wellness_df['Irritability'] + wellness_df['SleepQuality']\n",
    "wellness_df['OverallWellness'] = wellness_df['SubjectiveWellBeing'] + wellness_df['PhysicalHealth'] + wellness_df['Nutrition']\n",
    "wellness_df\n"
   ]
  },
  {
   "cell_type": "markdown",
   "metadata": {},
   "source": [
    "It is strange that the features and the mapping to the 3 factors do not seem to match up very well. "
   ]
  },
  {
   "cell_type": "code",
   "execution_count": 80,
   "metadata": {},
   "outputs": [
    {
     "data": {
      "text/plain": [
       "0.9370011561904156"
      ]
     },
     "execution_count": 80,
     "metadata": {},
     "output_type": "execute_result"
    }
   ],
   "source": [
    "wellness_df['SubjectiveWellBeing'].corr(wellness_df['AverageMonitoringScore'])"
   ]
  },
  {
   "cell_type": "code",
   "execution_count": 81,
   "metadata": {},
   "outputs": [
    {
     "data": {
      "text/plain": [
       "<matplotlib.axes._subplots.AxesSubplot at 0x1c1e2985f8>"
      ]
     },
     "execution_count": 81,
     "metadata": {},
     "output_type": "execute_result"
    },
    {
     "data": {
      "image/png": "[encoded data removed]",
      "text/plain": [
       "<Figure size 432x288 with 1 Axes>"
      ]
     },
     "metadata": {
      "needs_background": "light"
     },
     "output_type": "display_data"
    }
   ],
   "source": [
    "wellness_df['OverallWellness'].hist()"
   ]
  },
  {
   "cell_type": "markdown",
   "metadata": {},
   "source": [
    "## Final Thoughts"
   ]
  },
  {
   "cell_type": "markdown",
   "metadata": {},
   "source": [
    "We could attach the wellness scores to each player but I am unsure about the validity of doing so. I think a better idea would be to just use the seperate features that we found to be relevant from wellness. These were, `MonitorScore`, `Illness`, `Pain`, and (potentially) `Nutrition`."
   ]
  },
  {
   "cell_type": "markdown",
   "metadata": {},
   "source": [
    "## Next Steps"
   ]
  },
  {
   "cell_type": "markdown",
   "metadata": {},
   "source": [
    "This notebook is getting quite long so I should stop here. The general conclusions are that the wellness data can be summarized using the `MonitoringScore`, `Pain`, `Illness`, and `Nutrition` data. I tried to transform the data to the factors, the relationships between columns that are correlated to a factor and the value of the factor itself seemed to break down.\n",
    "\n",
    "Going forward, I want to improve my imputing on the nutrition data by sampling from the nutrition data from the given player. I also want to try and summarize the wellness data using normalized scores for each of the key features mentioned above because the scales are different."
   ]
  },
  {
   "cell_type": "markdown",
   "metadata": {},
   "source": [
    "## PCA down to 2 Dimensions"
   ]
  },
  {
   "cell_type": "markdown",
   "metadata": {},
   "source": [
    "I want to try and visualize the clusters of players so I will use PCA to plot the average player wellness data on 2 principal components."
   ]
  },
  {
   "cell_type": "code",
   "execution_count": 82,
   "metadata": {},
   "outputs": [
    {
     "data": {
      "text/html": [
       "<div>\n",
       "<style scoped>\n",
       "    .dataframe tbody tr th:only-of-type {\n",
       "        vertical-align: middle;\n",
       "    }\n",
       "\n",
       "    .dataframe tbody tr th {\n",
       "        vertical-align: top;\n",
       "    }\n",
       "\n",
       "    .dataframe thead th {\n",
       "        text-align: right;\n",
       "    }\n",
       "</style>\n",
       "<table border=\"1\" class=\"dataframe\">\n",
       "  <thead>\n",
       "    <tr style=\"text-align: right;\">\n",
       "      <th></th>\n",
       "      <th>Fatigue</th>\n",
       "      <th>Soreness</th>\n",
       "      <th>Desire</th>\n",
       "      <th>Irritability</th>\n",
       "      <th>SleepHours</th>\n",
       "      <th>SleepQuality</th>\n",
       "      <th>Pain</th>\n",
       "      <th>Illness</th>\n",
       "      <th>Menstruation</th>\n",
       "      <th>Nutrition</th>\n",
       "      <th>TrainingReadiness</th>\n",
       "    </tr>\n",
       "  </thead>\n",
       "  <tbody>\n",
       "    <tr>\n",
       "      <th>0</th>\n",
       "      <td>2.671924</td>\n",
       "      <td>3.302839</td>\n",
       "      <td>2.479495</td>\n",
       "      <td>3.936909</td>\n",
       "      <td>8.715300</td>\n",
       "      <td>3.611987</td>\n",
       "      <td>0.974763</td>\n",
       "      <td>0.848580</td>\n",
       "      <td>0.842271</td>\n",
       "      <td>2.921136</td>\n",
       "      <td>21.435331</td>\n",
       "    </tr>\n",
       "    <tr>\n",
       "      <th>1</th>\n",
       "      <td>3.779762</td>\n",
       "      <td>3.276786</td>\n",
       "      <td>4.113095</td>\n",
       "      <td>4.151786</td>\n",
       "      <td>9.053571</td>\n",
       "      <td>4.122024</td>\n",
       "      <td>0.794643</td>\n",
       "      <td>0.955357</td>\n",
       "      <td>0.812500</td>\n",
       "      <td>2.636905</td>\n",
       "      <td>11.651786</td>\n",
       "    </tr>\n",
       "    <tr>\n",
       "      <th>2</th>\n",
       "      <td>3.350725</td>\n",
       "      <td>3.176812</td>\n",
       "      <td>3.455072</td>\n",
       "      <td>3.979710</td>\n",
       "      <td>7.879710</td>\n",
       "      <td>3.913043</td>\n",
       "      <td>0.973913</td>\n",
       "      <td>1.000000</td>\n",
       "      <td>0.881159</td>\n",
       "      <td>2.985507</td>\n",
       "      <td>98.115942</td>\n",
       "    </tr>\n",
       "    <tr>\n",
       "      <th>3</th>\n",
       "      <td>3.305195</td>\n",
       "      <td>3.542208</td>\n",
       "      <td>3.935065</td>\n",
       "      <td>3.668831</td>\n",
       "      <td>8.266234</td>\n",
       "      <td>2.954545</td>\n",
       "      <td>0.993506</td>\n",
       "      <td>0.983766</td>\n",
       "      <td>0.853896</td>\n",
       "      <td>2.938312</td>\n",
       "      <td>66.996753</td>\n",
       "    </tr>\n",
       "    <tr>\n",
       "      <th>4</th>\n",
       "      <td>3.803089</td>\n",
       "      <td>3.814672</td>\n",
       "      <td>4.324324</td>\n",
       "      <td>3.965251</td>\n",
       "      <td>7.925676</td>\n",
       "      <td>3.841699</td>\n",
       "      <td>0.683398</td>\n",
       "      <td>0.745174</td>\n",
       "      <td>0.888031</td>\n",
       "      <td>2.050193</td>\n",
       "      <td>65.637066</td>\n",
       "    </tr>\n",
       "  </tbody>\n",
       "</table>\n",
       "</div>"
      ],
      "text/plain": [
       "    Fatigue  Soreness    Desire  Irritability  SleepHours  SleepQuality  \\\n",
       "0  2.671924  3.302839  2.479495      3.936909    8.715300      3.611987   \n",
       "1  3.779762  3.276786  4.113095      4.151786    9.053571      4.122024   \n",
       "2  3.350725  3.176812  3.455072      3.979710    7.879710      3.913043   \n",
       "3  3.305195  3.542208  3.935065      3.668831    8.266234      2.954545   \n",
       "4  3.803089  3.814672  4.324324      3.965251    7.925676      3.841699   \n",
       "\n",
       "       Pain   Illness  Menstruation  Nutrition  TrainingReadiness  \n",
       "0  0.974763  0.848580      0.842271   2.921136          21.435331  \n",
       "1  0.794643  0.955357      0.812500   2.636905          11.651786  \n",
       "2  0.973913  1.000000      0.881159   2.985507          98.115942  \n",
       "3  0.993506  0.983766      0.853896   2.938312          66.996753  \n",
       "4  0.683398  0.745174      0.888031   2.050193          65.637066  "
      ]
     },
     "execution_count": 82,
     "metadata": {},
     "output_type": "execute_result"
    }
   ],
   "source": [
    "pca_df.head()"
   ]
  },
  {
   "cell_type": "code",
   "execution_count": 83,
   "metadata": {},
   "outputs": [
    {
     "data": {
      "text/plain": [
       "array([[ 48.38529743,  -1.10820023],\n",
       "       [ 58.15897748,   0.55155538],\n",
       "       [-28.30028616,  -0.52426598],\n",
       "       [  2.81729671,  -0.70297029],\n",
       "       [  4.17557862,   0.39305832],\n",
       "       [  2.65611761,   0.16467186],\n",
       "       [-23.6466182 ,  -0.46847015],\n",
       "       [ 16.11002706,   0.23641436],\n",
       "       [ -7.29504044,   2.4694773 ],\n",
       "       [ -4.42862076,  -1.14487901],\n",
       "       [-26.63852143,  -1.55915943],\n",
       "       [ -3.05542711,   0.22294049],\n",
       "       [-30.08803991,  -0.23082401],\n",
       "       [  3.49037678,   0.07397769],\n",
       "       [ -9.15617696,   2.2989686 ],\n",
       "       [ 13.02842764,  -1.13673544],\n",
       "       [-16.21336837,   0.46444054]])"
      ]
     },
     "execution_count": 83,
     "metadata": {},
     "output_type": "execute_result"
    }
   ],
   "source": [
    "pca = PCA(n_components=2)\n",
    "principal_components = pca.fit_transform(pca_df)\n",
    "principal_components\n"
   ]
  },
  {
   "cell_type": "code",
   "execution_count": 84,
   "metadata": {},
   "outputs": [
    {
     "data": {
      "text/plain": [
       "0      1\n",
       "1      2\n",
       "2      3\n",
       "3      4\n",
       "4      5\n",
       "5      6\n",
       "6      7\n",
       "7      8\n",
       "8      9\n",
       "9     10\n",
       "10    11\n",
       "11    12\n",
       "12    13\n",
       "13    14\n",
       "14    15\n",
       "15    16\n",
       "16    17\n",
       "Name: PlayerID, dtype: int64"
      ]
     },
     "execution_count": 84,
     "metadata": {},
     "output_type": "execute_result"
    }
   ],
   "source": [
    "player_id_series\n"
   ]
  },
  {
   "cell_type": "code",
   "execution_count": 86,
   "metadata": {},
   "outputs": [
    {
     "data": {
      "image/png": "[encoded data removed]",
      "text/plain": [
       "<Figure size 432x288 with 1 Axes>"
      ]
     },
     "metadata": {
      "needs_background": "light"
     },
     "output_type": "display_data"
    }
   ],
   "source": [
    "HORIZONTAL_OFFSET = 1\n",
    "VERTICAL_OFFSET = 0.1\n",
    "\n",
    "fig, ax = plt.subplots()\n",
    "ax.scatter(principal_components[:, 0], principal_components[:, 1])\n",
    "\n",
    "for i in range(len(player_id_series)):\n",
    "    ax.annotate(str(i + 1), (principal_components[i, 0] + HORIZONTAL_OFFSET, principal_components[i, 1] + VERTICAL_OFFSET), color='r')\n"
   ]
  },
  {
   "cell_type": "markdown",
   "metadata": {},
   "source": [
    "We see that 15 and 9 are similar and outliers\n",
    "\n",
    "1 and 2 are outliers seperatly\n",
    "\n",
    "12, 5, 6, 14, and 8 are similar and moderate\n",
    "\n",
    "13, 3, and 7 form their own cluster\n",
    "\n",
    "10, 4, and 16 are clustered,\n",
    "\n",
    "11 is on its own\n",
    "\n",
    "17 is between two clusters"
   ]
  }
 ],
 "metadata": {
  "kernelspec": {
   "display_name": "Python 3",
   "language": "python",
   "name": "python3"
  },
  "language_info": {
   "codemirror_mode": {
    "name": "ipython",
    "version": 3
   },
   "file_extension": ".py",
   "mimetype": "text/x-python",
   "name": "python",
   "nbconvert_exporter": "python",
   "pygments_lexer": "ipython3",
   "version": "3.7.3"
  }
 },
 "nbformat": 4,
 "nbformat_minor": 2
}
