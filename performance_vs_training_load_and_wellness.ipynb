{
 "cells": [
  {
   "cell_type": "markdown",
   "metadata": {},
   "source": [
    "# Relationships Between Performance, Training Load, and Wellness"
   ]
  },
  {
   "cell_type": "markdown",
   "metadata": {},
   "source": [
    "Our exploratory notebooks for performance, training load, and wellness have lead us to measures to quantify these 3 elements of each player. We have a summary measure for wellness and we can also explore the effect of its elements on performance. We also have a measure for a player's performance in max speed over 1 second achieved in a game. In terms of load, we have shown that we can quantify it in terms of training load, or RPE depending on the context. With these measures in mind, we can now explore the relationships between these 3 elements."
   ]
  },
  {
   "cell_type": "markdown",
   "metadata": {},
   "source": [
    "## Data Cleaning"
   ]
  },
  {
   "cell_type": "markdown",
   "metadata": {},
   "source": [
    "On some of the game dates, we don't have RPE data. But, we are mainly concerned with the acute/chronic ratio which we can compute for the dates for which it is missing."
   ]
  },
  {
   "cell_type": "code",
   "execution_count": 1,
   "metadata": {},
   "outputs": [],
   "source": [
    "import pandas as pd\n",
    "import numpy as np\n",
    "from factor_analyzer import FactorAnalyzer\n",
    "from factor_analyzer.factor_analyzer import calculate_bartlett_sphericity, calculate_kmo\n",
    "from scipy.stats import ttest_ind, ttest_rel\n",
    "from scipy.stats import pointbiserialr\n",
    "import matplotlib.pyplot as plt\n",
    "from sklearn.preprocessing import StandardScaler\n",
    "import warnings"
   ]
  },
  {
   "cell_type": "code",
   "execution_count": 2,
   "metadata": {},
   "outputs": [
    {
     "name": "stdout",
     "output_type": "stream",
     "text": [
      "   Unnamed: 0        Date  PlayerID  Training SessionType  Duration  RPE  \\\n",
      "0           0  2017-08-01        15         1    Strength      60.0  4.0   \n",
      "1           1  2017-08-01         1         1       Speed      60.0  3.0   \n",
      "2           2  2017-08-01         1         1    Strength      90.0  4.0   \n",
      "3           3  2017-08-01         3         1       Speed      45.0  5.0   \n",
      "4           4  2017-08-01         3         1    Strength      90.0  5.0   \n",
      "\n",
      "   SessionLoad  DailyLoad  AcuteChronicRatio  ObjectiveRating  FocusRating  \\\n",
      "0        240.0      300.0               4.29              6.0          7.0   \n",
      "1        180.0      540.0               4.29              0.0          0.0   \n",
      "2        360.0      540.0               4.29              0.0          0.0   \n",
      "3        225.0      675.0               4.29              7.0          7.0   \n",
      "4        450.0      675.0               4.29              7.0          7.0   \n",
      "\n",
      "   BestOutOfMyself  AcuteLoad  ChronicLoad  \n",
      "0              2.0      42.86         10.0  \n",
      "1              2.0      77.14         18.0  \n",
      "2              2.0      77.14         18.0  \n",
      "3              2.0      96.43         22.5  \n",
      "4              2.0      96.43         22.5  \n"
     ]
    }
   ],
   "source": [
    "np.random.seed(5151)\n",
    "warnings.filterwarnings('ignore')\n",
    "raw_rpe_df = pd.read_csv('./processed_data/processed_rpe.csv')\n",
    "raw_rpe = raw_rpe_df.copy()[['Date', 'PlayerID', 'RPE']]\n",
    "print(raw_rpe_df.head())\n"
   ]
  },
  {
   "cell_type": "markdown",
   "metadata": {},
   "source": [
    "### Drop Duplicate Dates"
   ]
  },
  {
   "cell_type": "markdown",
   "metadata": {},
   "source": [
    "This occurs when there are multiple training sessions on the same date. We only care about the daily load so we can drop the duplicate sessions."
   ]
  },
  {
   "cell_type": "code",
   "execution_count": 3,
   "metadata": {},
   "outputs": [
    {
     "data": {
      "text/html": [
       "<div>\n",
       "<style scoped>\n",
       "    .dataframe tbody tr th:only-of-type {\n",
       "        vertical-align: middle;\n",
       "    }\n",
       "\n",
       "    .dataframe tbody tr th {\n",
       "        vertical-align: top;\n",
       "    }\n",
       "\n",
       "    .dataframe thead th {\n",
       "        text-align: right;\n",
       "    }\n",
       "</style>\n",
       "<table border=\"1\" class=\"dataframe\">\n",
       "  <thead>\n",
       "    <tr style=\"text-align: right;\">\n",
       "      <th></th>\n",
       "      <th>Date</th>\n",
       "      <th>PlayerID</th>\n",
       "      <th>DailyLoad</th>\n",
       "      <th>AcuteChronicRatio</th>\n",
       "      <th>AcuteLoad</th>\n",
       "      <th>ChronicLoad</th>\n",
       "    </tr>\n",
       "  </thead>\n",
       "  <tbody>\n",
       "    <tr>\n",
       "      <th>0</th>\n",
       "      <td>2017-08-01</td>\n",
       "      <td>15</td>\n",
       "      <td>300.0</td>\n",
       "      <td>4.29</td>\n",
       "      <td>42.86</td>\n",
       "      <td>10.0</td>\n",
       "    </tr>\n",
       "    <tr>\n",
       "      <th>1</th>\n",
       "      <td>2017-08-01</td>\n",
       "      <td>1</td>\n",
       "      <td>540.0</td>\n",
       "      <td>4.29</td>\n",
       "      <td>77.14</td>\n",
       "      <td>18.0</td>\n",
       "    </tr>\n",
       "    <tr>\n",
       "      <th>2</th>\n",
       "      <td>2017-08-01</td>\n",
       "      <td>1</td>\n",
       "      <td>540.0</td>\n",
       "      <td>4.29</td>\n",
       "      <td>77.14</td>\n",
       "      <td>18.0</td>\n",
       "    </tr>\n",
       "    <tr>\n",
       "      <th>3</th>\n",
       "      <td>2017-08-01</td>\n",
       "      <td>3</td>\n",
       "      <td>675.0</td>\n",
       "      <td>4.29</td>\n",
       "      <td>96.43</td>\n",
       "      <td>22.5</td>\n",
       "    </tr>\n",
       "    <tr>\n",
       "      <th>4</th>\n",
       "      <td>2017-08-01</td>\n",
       "      <td>3</td>\n",
       "      <td>675.0</td>\n",
       "      <td>4.29</td>\n",
       "      <td>96.43</td>\n",
       "      <td>22.5</td>\n",
       "    </tr>\n",
       "  </tbody>\n",
       "</table>\n",
       "</div>"
      ],
      "text/plain": [
       "         Date  PlayerID  DailyLoad  AcuteChronicRatio  AcuteLoad  ChronicLoad\n",
       "0  2017-08-01        15      300.0               4.29      42.86         10.0\n",
       "1  2017-08-01         1      540.0               4.29      77.14         18.0\n",
       "2  2017-08-01         1      540.0               4.29      77.14         18.0\n",
       "3  2017-08-01         3      675.0               4.29      96.43         22.5\n",
       "4  2017-08-01         3      675.0               4.29      96.43         22.5"
      ]
     },
     "execution_count": 3,
     "metadata": {},
     "output_type": "execute_result"
    }
   ],
   "source": [
    "rpe_df = raw_rpe_df.copy()[['Date', 'PlayerID', 'DailyLoad', 'AcuteChronicRatio', 'AcuteLoad', 'ChronicLoad']]\n",
    "subjective_performance_df = raw_rpe_df.copy()[['Date', 'PlayerID', 'ObjectiveRating', 'FocusRating', 'BestOutOfMyself']]\n",
    "rpe_df.head()"
   ]
  },
  {
   "cell_type": "code",
   "execution_count": 4,
   "metadata": {},
   "outputs": [
    {
     "data": {
      "text/html": [
       "<div>\n",
       "<style scoped>\n",
       "    .dataframe tbody tr th:only-of-type {\n",
       "        vertical-align: middle;\n",
       "    }\n",
       "\n",
       "    .dataframe tbody tr th {\n",
       "        vertical-align: top;\n",
       "    }\n",
       "\n",
       "    .dataframe thead th {\n",
       "        text-align: right;\n",
       "    }\n",
       "</style>\n",
       "<table border=\"1\" class=\"dataframe\">\n",
       "  <thead>\n",
       "    <tr style=\"text-align: right;\">\n",
       "      <th></th>\n",
       "      <th>Date</th>\n",
       "      <th>PlayerID</th>\n",
       "      <th>ObjectiveRating</th>\n",
       "      <th>FocusRating</th>\n",
       "      <th>BestOutOfMyself</th>\n",
       "    </tr>\n",
       "  </thead>\n",
       "  <tbody>\n",
       "    <tr>\n",
       "      <th>0</th>\n",
       "      <td>2017-08-01</td>\n",
       "      <td>15</td>\n",
       "      <td>6.0</td>\n",
       "      <td>7.0</td>\n",
       "      <td>2.0</td>\n",
       "    </tr>\n",
       "    <tr>\n",
       "      <th>1</th>\n",
       "      <td>2017-08-01</td>\n",
       "      <td>1</td>\n",
       "      <td>0.0</td>\n",
       "      <td>0.0</td>\n",
       "      <td>2.0</td>\n",
       "    </tr>\n",
       "    <tr>\n",
       "      <th>2</th>\n",
       "      <td>2017-08-01</td>\n",
       "      <td>1</td>\n",
       "      <td>0.0</td>\n",
       "      <td>0.0</td>\n",
       "      <td>2.0</td>\n",
       "    </tr>\n",
       "    <tr>\n",
       "      <th>3</th>\n",
       "      <td>2017-08-01</td>\n",
       "      <td>3</td>\n",
       "      <td>7.0</td>\n",
       "      <td>7.0</td>\n",
       "      <td>2.0</td>\n",
       "    </tr>\n",
       "    <tr>\n",
       "      <th>4</th>\n",
       "      <td>2017-08-01</td>\n",
       "      <td>3</td>\n",
       "      <td>7.0</td>\n",
       "      <td>7.0</td>\n",
       "      <td>2.0</td>\n",
       "    </tr>\n",
       "  </tbody>\n",
       "</table>\n",
       "</div>"
      ],
      "text/plain": [
       "         Date  PlayerID  ObjectiveRating  FocusRating  BestOutOfMyself\n",
       "0  2017-08-01        15              6.0          7.0              2.0\n",
       "1  2017-08-01         1              0.0          0.0              2.0\n",
       "2  2017-08-01         1              0.0          0.0              2.0\n",
       "3  2017-08-01         3              7.0          7.0              2.0\n",
       "4  2017-08-01         3              7.0          7.0              2.0"
      ]
     },
     "execution_count": 4,
     "metadata": {},
     "output_type": "execute_result"
    }
   ],
   "source": [
    "subjective_performance_df.head()"
   ]
  },
  {
   "cell_type": "code",
   "execution_count": 5,
   "metadata": {},
   "outputs": [],
   "source": [
    "rpe_df = rpe_df.drop_duplicates()"
   ]
  },
  {
   "cell_type": "code",
   "execution_count": 6,
   "metadata": {},
   "outputs": [
    {
     "data": {
      "text/html": [
       "<div>\n",
       "<style scoped>\n",
       "    .dataframe tbody tr th:only-of-type {\n",
       "        vertical-align: middle;\n",
       "    }\n",
       "\n",
       "    .dataframe tbody tr th {\n",
       "        vertical-align: top;\n",
       "    }\n",
       "\n",
       "    .dataframe thead th {\n",
       "        text-align: right;\n",
       "    }\n",
       "</style>\n",
       "<table border=\"1\" class=\"dataframe\">\n",
       "  <thead>\n",
       "    <tr style=\"text-align: right;\">\n",
       "      <th></th>\n",
       "      <th>Date</th>\n",
       "      <th>PlayerID</th>\n",
       "      <th>DailyLoad</th>\n",
       "      <th>AcuteChronicRatio</th>\n",
       "      <th>AcuteLoad</th>\n",
       "      <th>ChronicLoad</th>\n",
       "    </tr>\n",
       "  </thead>\n",
       "  <tbody>\n",
       "    <tr>\n",
       "      <th>0</th>\n",
       "      <td>2017-08-01</td>\n",
       "      <td>15</td>\n",
       "      <td>300.0</td>\n",
       "      <td>4.29</td>\n",
       "      <td>42.86</td>\n",
       "      <td>10.0</td>\n",
       "    </tr>\n",
       "    <tr>\n",
       "      <th>1</th>\n",
       "      <td>2017-08-01</td>\n",
       "      <td>1</td>\n",
       "      <td>540.0</td>\n",
       "      <td>4.29</td>\n",
       "      <td>77.14</td>\n",
       "      <td>18.0</td>\n",
       "    </tr>\n",
       "    <tr>\n",
       "      <th>3</th>\n",
       "      <td>2017-08-01</td>\n",
       "      <td>3</td>\n",
       "      <td>675.0</td>\n",
       "      <td>4.29</td>\n",
       "      <td>96.43</td>\n",
       "      <td>22.5</td>\n",
       "    </tr>\n",
       "    <tr>\n",
       "      <th>5</th>\n",
       "      <td>2017-08-01</td>\n",
       "      <td>5</td>\n",
       "      <td>330.0</td>\n",
       "      <td>4.29</td>\n",
       "      <td>47.14</td>\n",
       "      <td>11.0</td>\n",
       "    </tr>\n",
       "    <tr>\n",
       "      <th>7</th>\n",
       "      <td>2017-08-01</td>\n",
       "      <td>8</td>\n",
       "      <td>345.0</td>\n",
       "      <td>4.29</td>\n",
       "      <td>49.29</td>\n",
       "      <td>11.5</td>\n",
       "    </tr>\n",
       "  </tbody>\n",
       "</table>\n",
       "</div>"
      ],
      "text/plain": [
       "         Date  PlayerID  DailyLoad  AcuteChronicRatio  AcuteLoad  ChronicLoad\n",
       "0  2017-08-01        15      300.0               4.29      42.86         10.0\n",
       "1  2017-08-01         1      540.0               4.29      77.14         18.0\n",
       "3  2017-08-01         3      675.0               4.29      96.43         22.5\n",
       "5  2017-08-01         5      330.0               4.29      47.14         11.0\n",
       "7  2017-08-01         8      345.0               4.29      49.29         11.5"
      ]
     },
     "execution_count": 6,
     "metadata": {},
     "output_type": "execute_result"
    }
   ],
   "source": [
    "rpe_df.head()"
   ]
  },
  {
   "cell_type": "markdown",
   "metadata": {},
   "source": [
    "### Fill In Missing RPE Data"
   ]
  },
  {
   "cell_type": "markdown",
   "metadata": {},
   "source": [
    "This row should not be in the dataset since it is the first entry for this player and they are not training."
   ]
  },
  {
   "cell_type": "code",
   "execution_count": 7,
   "metadata": {},
   "outputs": [],
   "source": [
    "rpe_df = rpe_df[~ rpe_df['AcuteChronicRatio'].isnull()]"
   ]
  },
  {
   "cell_type": "code",
   "execution_count": 8,
   "metadata": {},
   "outputs": [],
   "source": [
    "rpe_df['Date'] = pd.to_datetime(rpe_df['Date'])"
   ]
  },
  {
   "cell_type": "markdown",
   "metadata": {},
   "source": [
    "Adding missing dates and player ids to rpe data:"
   ]
  },
  {
   "cell_type": "code",
   "execution_count": 9,
   "metadata": {},
   "outputs": [],
   "source": [
    "dates = pd.date_range(start=min(rpe_df['Date']), end=max(rpe_df['Date']))\n",
    "players = rpe_df['PlayerID'].unique()\n",
    "idx = pd.MultiIndex.from_product((dates, players), names=['Date', 'PlayerID'])\n",
    "\n",
    "rpe_df = rpe_df.set_index(['Date', 'PlayerID']).reindex(idx, fill_value=0).reset_index().sort_values(by=['Date', 'PlayerID'])\n",
    "\n"
   ]
  },
  {
   "cell_type": "markdown",
   "metadata": {},
   "source": [
    "Use a rolling window to compute acute load and chronic load as it is incorrect in some cases:"
   ]
  },
  {
   "cell_type": "code",
   "execution_count": 10,
   "metadata": {},
   "outputs": [],
   "source": [
    "temp = rpe_df[['Date','PlayerID','DailyLoad']].drop_duplicates()\n",
    "past7Days = temp.groupby('PlayerID').rolling('7d', on='Date')['DailyLoad'].sum().reset_index()\n",
    "past7Days['newAcuteLoad'] = (past7Days['DailyLoad'] / 7.).round(2)\n",
    "past7Days = past7Days.drop(columns = 'DailyLoad')\n",
    "\n",
    "rpe_df = pd.merge(rpe_df, past7Days, how='left', on=['Date', 'PlayerID'])"
   ]
  },
  {
   "cell_type": "code",
   "execution_count": 11,
   "metadata": {},
   "outputs": [],
   "source": [
    "past30Days = temp.groupby('PlayerID').rolling('30d', on='Date')['DailyLoad'].sum().reset_index()\n",
    "past30Days['newChronicLoad'] = (past30Days['DailyLoad'] / 30.).round(2)\n",
    "past30Days = past30Days.drop(columns = 'DailyLoad')\n",
    "\n",
    "rpe_df = pd.merge(rpe_df, past30Days, how=\"left\", on=[\"Date\", \"PlayerID\"])"
   ]
  },
  {
   "cell_type": "code",
   "execution_count": 12,
   "metadata": {},
   "outputs": [],
   "source": [
    "rpe_df.drop(['ChronicLoad','AcuteLoad'],axis = 1, inplace = True)\n",
    "rpe_df.rename(columns = {'newChronicLoad':'ChronicLoad','newAcuteLoad':'AcuteLoad'}, inplace = True)\n",
    "rpe_df['AcuteChronicRatio'] = (rpe_df['AcuteLoad'] / rpe_df['ChronicLoad']).round(2)"
   ]
  },
  {
   "cell_type": "code",
   "execution_count": 13,
   "metadata": {},
   "outputs": [
    {
     "data": {
      "text/html": [
       "<div>\n",
       "<style scoped>\n",
       "    .dataframe tbody tr th:only-of-type {\n",
       "        vertical-align: middle;\n",
       "    }\n",
       "\n",
       "    .dataframe tbody tr th {\n",
       "        vertical-align: top;\n",
       "    }\n",
       "\n",
       "    .dataframe thead th {\n",
       "        text-align: right;\n",
       "    }\n",
       "</style>\n",
       "<table border=\"1\" class=\"dataframe\">\n",
       "  <thead>\n",
       "    <tr style=\"text-align: right;\">\n",
       "      <th></th>\n",
       "      <th>Date</th>\n",
       "      <th>GameID</th>\n",
       "      <th>Outcome</th>\n",
       "      <th>TeamPoints</th>\n",
       "      <th>PlayerID</th>\n",
       "      <th>MaxSpeedInGame</th>\n",
       "      <th>MaxAccelImpulseInGame</th>\n",
       "    </tr>\n",
       "  </thead>\n",
       "  <tbody>\n",
       "    <tr>\n",
       "      <th>0</th>\n",
       "      <td>2017-11-30</td>\n",
       "      <td>1</td>\n",
       "      <td>W</td>\n",
       "      <td>19</td>\n",
       "      <td>2</td>\n",
       "      <td>7.284728</td>\n",
       "      <td>4.423615</td>\n",
       "    </tr>\n",
       "    <tr>\n",
       "      <th>1</th>\n",
       "      <td>2017-11-30</td>\n",
       "      <td>1</td>\n",
       "      <td>W</td>\n",
       "      <td>19</td>\n",
       "      <td>3</td>\n",
       "      <td>6.852436</td>\n",
       "      <td>4.888893</td>\n",
       "    </tr>\n",
       "    <tr>\n",
       "      <th>2</th>\n",
       "      <td>2017-11-30</td>\n",
       "      <td>1</td>\n",
       "      <td>W</td>\n",
       "      <td>19</td>\n",
       "      <td>4</td>\n",
       "      <td>7.267784</td>\n",
       "      <td>5.694449</td>\n",
       "    </tr>\n",
       "    <tr>\n",
       "      <th>3</th>\n",
       "      <td>2017-11-30</td>\n",
       "      <td>1</td>\n",
       "      <td>W</td>\n",
       "      <td>19</td>\n",
       "      <td>6</td>\n",
       "      <td>6.338894</td>\n",
       "      <td>4.777782</td>\n",
       "    </tr>\n",
       "    <tr>\n",
       "      <th>4</th>\n",
       "      <td>2017-11-30</td>\n",
       "      <td>1</td>\n",
       "      <td>W</td>\n",
       "      <td>19</td>\n",
       "      <td>7</td>\n",
       "      <td>7.065283</td>\n",
       "      <td>4.091273</td>\n",
       "    </tr>\n",
       "  </tbody>\n",
       "</table>\n",
       "</div>"
      ],
      "text/plain": [
       "         Date  GameID Outcome  TeamPoints  PlayerID  MaxSpeedInGame  \\\n",
       "0  2017-11-30       1       W          19         2        7.284728   \n",
       "1  2017-11-30       1       W          19         3        6.852436   \n",
       "2  2017-11-30       1       W          19         4        7.267784   \n",
       "3  2017-11-30       1       W          19         6        6.338894   \n",
       "4  2017-11-30       1       W          19         7        7.065283   \n",
       "\n",
       "   MaxAccelImpulseInGame  \n",
       "0               4.423615  \n",
       "1               4.888893  \n",
       "2               5.694449  \n",
       "3               4.777782  \n",
       "4               4.091273  "
      ]
     },
     "execution_count": 13,
     "metadata": {},
     "output_type": "execute_result"
    }
   ],
   "source": [
    "gps_df = pd.read_csv('./processed_data/processed_gps.csv')\n",
    "gps_df = gps_df.drop(columns=['Unnamed: 0'])\n",
    "gps_df.head()\n"
   ]
  },
  {
   "cell_type": "code",
   "execution_count": 14,
   "metadata": {},
   "outputs": [
    {
     "name": "stdout",
     "output_type": "stream",
     "text": [
      "443\n"
     ]
    },
    {
     "data": {
      "text/html": [
       "<div>\n",
       "<style scoped>\n",
       "    .dataframe tbody tr th:only-of-type {\n",
       "        vertical-align: middle;\n",
       "    }\n",
       "\n",
       "    .dataframe tbody tr th {\n",
       "        vertical-align: top;\n",
       "    }\n",
       "\n",
       "    .dataframe thead th {\n",
       "        text-align: right;\n",
       "    }\n",
       "</style>\n",
       "<table border=\"1\" class=\"dataframe\">\n",
       "  <thead>\n",
       "    <tr style=\"text-align: right;\">\n",
       "      <th></th>\n",
       "      <th>Date</th>\n",
       "      <th>GameID</th>\n",
       "      <th>Outcome</th>\n",
       "      <th>TeamPoints</th>\n",
       "      <th>PlayerID</th>\n",
       "      <th>MaxSpeedInGame</th>\n",
       "      <th>MaxAccelImpulseInGame</th>\n",
       "      <th>AcuteLoad</th>\n",
       "      <th>ChronicLoad</th>\n",
       "      <th>AcuteChronicRatio</th>\n",
       "    </tr>\n",
       "  </thead>\n",
       "  <tbody>\n",
       "    <tr>\n",
       "      <th>0</th>\n",
       "      <td>2017-11-30</td>\n",
       "      <td>1</td>\n",
       "      <td>W</td>\n",
       "      <td>19</td>\n",
       "      <td>2</td>\n",
       "      <td>7.284728</td>\n",
       "      <td>4.423615</td>\n",
       "      <td>206.57</td>\n",
       "      <td>371.20</td>\n",
       "      <td>0.56</td>\n",
       "    </tr>\n",
       "    <tr>\n",
       "      <th>1</th>\n",
       "      <td>2017-11-30</td>\n",
       "      <td>1</td>\n",
       "      <td>W</td>\n",
       "      <td>19</td>\n",
       "      <td>3</td>\n",
       "      <td>6.852436</td>\n",
       "      <td>4.888893</td>\n",
       "      <td>407.86</td>\n",
       "      <td>454.67</td>\n",
       "      <td>0.90</td>\n",
       "    </tr>\n",
       "    <tr>\n",
       "      <th>2</th>\n",
       "      <td>2017-11-30</td>\n",
       "      <td>1</td>\n",
       "      <td>W</td>\n",
       "      <td>19</td>\n",
       "      <td>4</td>\n",
       "      <td>7.267784</td>\n",
       "      <td>5.694449</td>\n",
       "      <td>236.00</td>\n",
       "      <td>406.90</td>\n",
       "      <td>0.58</td>\n",
       "    </tr>\n",
       "    <tr>\n",
       "      <th>3</th>\n",
       "      <td>2017-11-30</td>\n",
       "      <td>1</td>\n",
       "      <td>W</td>\n",
       "      <td>19</td>\n",
       "      <td>6</td>\n",
       "      <td>6.338894</td>\n",
       "      <td>4.777782</td>\n",
       "      <td>297.29</td>\n",
       "      <td>415.87</td>\n",
       "      <td>0.71</td>\n",
       "    </tr>\n",
       "    <tr>\n",
       "      <th>4</th>\n",
       "      <td>2017-11-30</td>\n",
       "      <td>1</td>\n",
       "      <td>W</td>\n",
       "      <td>19</td>\n",
       "      <td>7</td>\n",
       "      <td>7.065283</td>\n",
       "      <td>4.091273</td>\n",
       "      <td>237.57</td>\n",
       "      <td>476.60</td>\n",
       "      <td>0.50</td>\n",
       "    </tr>\n",
       "  </tbody>\n",
       "</table>\n",
       "</div>"
      ],
      "text/plain": [
       "        Date  GameID Outcome  TeamPoints  PlayerID  MaxSpeedInGame  \\\n",
       "0 2017-11-30       1       W          19         2        7.284728   \n",
       "1 2017-11-30       1       W          19         3        6.852436   \n",
       "2 2017-11-30       1       W          19         4        7.267784   \n",
       "3 2017-11-30       1       W          19         6        6.338894   \n",
       "4 2017-11-30       1       W          19         7        7.065283   \n",
       "\n",
       "   MaxAccelImpulseInGame  AcuteLoad  ChronicLoad  AcuteChronicRatio  \n",
       "0               4.423615     206.57       371.20               0.56  \n",
       "1               4.888893     407.86       454.67               0.90  \n",
       "2               5.694449     236.00       406.90               0.58  \n",
       "3               4.777782     297.29       415.87               0.71  \n",
       "4               4.091273     237.57       476.60               0.50  "
      ]
     },
     "execution_count": 14,
     "metadata": {},
     "output_type": "execute_result"
    }
   ],
   "source": [
    "gps_df['Date'] = pd.to_datetime(gps_df['Date'])\n",
    "train_performance = gps_df.merge(rpe_df[[\n",
    "    'Date','PlayerID', 'AcuteLoad',\n",
    "    'ChronicLoad','AcuteChronicRatio']],\n",
    "    how='left', on= ['Date','PlayerID']).drop_duplicates()\n",
    "print(len(train_performance))\n",
    "train_performance.head()"
   ]
  },
  {
   "cell_type": "code",
   "execution_count": 15,
   "metadata": {},
   "outputs": [
    {
     "data": {
      "text/html": [
       "<div>\n",
       "<style scoped>\n",
       "    .dataframe tbody tr th:only-of-type {\n",
       "        vertical-align: middle;\n",
       "    }\n",
       "\n",
       "    .dataframe tbody tr th {\n",
       "        vertical-align: top;\n",
       "    }\n",
       "\n",
       "    .dataframe thead th {\n",
       "        text-align: right;\n",
       "    }\n",
       "</style>\n",
       "<table border=\"1\" class=\"dataframe\">\n",
       "  <thead>\n",
       "    <tr style=\"text-align: right;\">\n",
       "      <th></th>\n",
       "      <th>Date</th>\n",
       "      <th>PlayerID</th>\n",
       "      <th>MonitoringScore</th>\n",
       "      <th>Fatigue</th>\n",
       "      <th>Soreness</th>\n",
       "      <th>Desire</th>\n",
       "      <th>Irritability</th>\n",
       "      <th>SleepHours</th>\n",
       "      <th>SleepQuality</th>\n",
       "      <th>Menstruation</th>\n",
       "      <th>...</th>\n",
       "      <th>Nutrition</th>\n",
       "      <th>TrainingReadiness</th>\n",
       "      <th>StandardizedMonitoringScore</th>\n",
       "      <th>StandardizedPain</th>\n",
       "      <th>StandardizedIllness</th>\n",
       "      <th>StandardizedNutrition</th>\n",
       "      <th>StandardizedMenstruation</th>\n",
       "      <th>StandardizedTrainingReadiness</th>\n",
       "      <th>wellness</th>\n",
       "      <th>WellnessAffectedByLoad</th>\n",
       "    </tr>\n",
       "  </thead>\n",
       "  <tbody>\n",
       "    <tr>\n",
       "      <th>0</th>\n",
       "      <td>2018-07-21</td>\n",
       "      <td>1</td>\n",
       "      <td>13</td>\n",
       "      <td>3</td>\n",
       "      <td>3</td>\n",
       "      <td>2</td>\n",
       "      <td>3</td>\n",
       "      <td>8.00</td>\n",
       "      <td>2</td>\n",
       "      <td>0</td>\n",
       "      <td>...</td>\n",
       "      <td>3</td>\n",
       "      <td>0</td>\n",
       "      <td>-1.448934</td>\n",
       "      <td>0.363863</td>\n",
       "      <td>0.330081</td>\n",
       "      <td>0.716267</td>\n",
       "      <td>0.716267</td>\n",
       "      <td>-2.456667</td>\n",
       "      <td>-0.038724</td>\n",
       "      <td>-2.495390</td>\n",
       "    </tr>\n",
       "    <tr>\n",
       "      <th>1</th>\n",
       "      <td>2018-07-21</td>\n",
       "      <td>2</td>\n",
       "      <td>19</td>\n",
       "      <td>4</td>\n",
       "      <td>3</td>\n",
       "      <td>4</td>\n",
       "      <td>4</td>\n",
       "      <td>8.00</td>\n",
       "      <td>4</td>\n",
       "      <td>0</td>\n",
       "      <td>...</td>\n",
       "      <td>3</td>\n",
       "      <td>0</td>\n",
       "      <td>0.170479</td>\n",
       "      <td>-2.748287</td>\n",
       "      <td>0.330081</td>\n",
       "      <td>0.716267</td>\n",
       "      <td>0.716267</td>\n",
       "      <td>-2.456667</td>\n",
       "      <td>-1.531461</td>\n",
       "      <td>-3.988127</td>\n",
       "    </tr>\n",
       "    <tr>\n",
       "      <th>2</th>\n",
       "      <td>2018-07-21</td>\n",
       "      <td>3</td>\n",
       "      <td>19</td>\n",
       "      <td>3</td>\n",
       "      <td>3</td>\n",
       "      <td>5</td>\n",
       "      <td>4</td>\n",
       "      <td>8.00</td>\n",
       "      <td>4</td>\n",
       "      <td>1</td>\n",
       "      <td>...</td>\n",
       "      <td>3</td>\n",
       "      <td>100</td>\n",
       "      <td>0.170479</td>\n",
       "      <td>0.363863</td>\n",
       "      <td>0.330081</td>\n",
       "      <td>0.716267</td>\n",
       "      <td>0.716267</td>\n",
       "      <td>0.407056</td>\n",
       "      <td>1.580689</td>\n",
       "      <td>1.987745</td>\n",
       "    </tr>\n",
       "    <tr>\n",
       "      <th>3</th>\n",
       "      <td>2018-07-21</td>\n",
       "      <td>4</td>\n",
       "      <td>15</td>\n",
       "      <td>2</td>\n",
       "      <td>3</td>\n",
       "      <td>5</td>\n",
       "      <td>4</td>\n",
       "      <td>6.50</td>\n",
       "      <td>1</td>\n",
       "      <td>0</td>\n",
       "      <td>...</td>\n",
       "      <td>3</td>\n",
       "      <td>95</td>\n",
       "      <td>-0.909130</td>\n",
       "      <td>0.363863</td>\n",
       "      <td>0.330081</td>\n",
       "      <td>0.716267</td>\n",
       "      <td>0.716267</td>\n",
       "      <td>-2.456667</td>\n",
       "      <td>0.501081</td>\n",
       "      <td>-1.955586</td>\n",
       "    </tr>\n",
       "    <tr>\n",
       "      <th>4</th>\n",
       "      <td>2018-07-21</td>\n",
       "      <td>5</td>\n",
       "      <td>20</td>\n",
       "      <td>5</td>\n",
       "      <td>3</td>\n",
       "      <td>4</td>\n",
       "      <td>4</td>\n",
       "      <td>7.25</td>\n",
       "      <td>4</td>\n",
       "      <td>1</td>\n",
       "      <td>...</td>\n",
       "      <td>2</td>\n",
       "      <td>100</td>\n",
       "      <td>0.440381</td>\n",
       "      <td>0.363863</td>\n",
       "      <td>0.330081</td>\n",
       "      <td>-1.221844</td>\n",
       "      <td>-1.221844</td>\n",
       "      <td>0.407056</td>\n",
       "      <td>-0.087520</td>\n",
       "      <td>0.319536</td>\n",
       "    </tr>\n",
       "  </tbody>\n",
       "</table>\n",
       "<p>5 rows × 22 columns</p>\n",
       "</div>"
      ],
      "text/plain": [
       "        Date  PlayerID  MonitoringScore  Fatigue  Soreness  Desire  \\\n",
       "0 2018-07-21         1               13        3         3       2   \n",
       "1 2018-07-21         2               19        4         3       4   \n",
       "2 2018-07-21         3               19        3         3       5   \n",
       "3 2018-07-21         4               15        2         3       5   \n",
       "4 2018-07-21         5               20        5         3       4   \n",
       "\n",
       "   Irritability  SleepHours  SleepQuality  Menstruation  ...  Nutrition  \\\n",
       "0             3        8.00             2             0  ...          3   \n",
       "1             4        8.00             4             0  ...          3   \n",
       "2             4        8.00             4             1  ...          3   \n",
       "3             4        6.50             1             0  ...          3   \n",
       "4             4        7.25             4             1  ...          2   \n",
       "\n",
       "   TrainingReadiness  StandardizedMonitoringScore  StandardizedPain  \\\n",
       "0                  0                    -1.448934          0.363863   \n",
       "1                  0                     0.170479         -2.748287   \n",
       "2                100                     0.170479          0.363863   \n",
       "3                 95                    -0.909130          0.363863   \n",
       "4                100                     0.440381          0.363863   \n",
       "\n",
       "   StandardizedIllness  StandardizedNutrition  StandardizedMenstruation  \\\n",
       "0             0.330081               0.716267                  0.716267   \n",
       "1             0.330081               0.716267                  0.716267   \n",
       "2             0.330081               0.716267                  0.716267   \n",
       "3             0.330081               0.716267                  0.716267   \n",
       "4             0.330081              -1.221844                 -1.221844   \n",
       "\n",
       "   StandardizedTrainingReadiness  wellness  WellnessAffectedByLoad  \n",
       "0                      -2.456667 -0.038724               -2.495390  \n",
       "1                      -2.456667 -1.531461               -3.988127  \n",
       "2                       0.407056  1.580689                1.987745  \n",
       "3                      -2.456667  0.501081               -1.955586  \n",
       "4                       0.407056 -0.087520                0.319536  \n",
       "\n",
       "[5 rows x 22 columns]"
      ]
     },
     "execution_count": 15,
     "metadata": {},
     "output_type": "execute_result"
    }
   ],
   "source": [
    "wellness_df = pd.read_csv('./processed_data/processed_wellness.csv')\n",
    "wellness_df = wellness_df.drop(columns=['Unnamed: 0'])\n",
    "wellness_df['Date'] = pd.to_datetime(wellness_df['Date'])\n",
    "wellness_df.head()"
   ]
  },
  {
   "cell_type": "markdown",
   "metadata": {},
   "source": [
    "Impute wellness data for missing dates (if we merge without doing this there are 12 instances of performance data that have no wellness data):"
   ]
  },
  {
   "cell_type": "code",
   "execution_count": 16,
   "metadata": {},
   "outputs": [
    {
     "data": {
      "text/plain": [
       "(791, 22)"
      ]
     },
     "execution_count": 16,
     "metadata": {},
     "output_type": "execute_result"
    }
   ],
   "source": [
    "wellness_dates = pd.date_range(start=min(train_performance['Date']), end=max(train_performance['Date']))\n",
    "wellness_players = wellness_df['PlayerID'].unique()\n",
    "wellness_idx = pd.MultiIndex.from_product((wellness_dates, wellness_players), names=['Date', 'PlayerID'])\n",
    "\n",
    "wellness_df = wellness_df.set_index(['Date', 'PlayerID']).reindex(wellness_idx).reset_index().sort_values(by=['Date', 'PlayerID'])\n",
    "\n",
    "wellness_df[wellness_df['MonitoringScore'].isnull()].shape"
   ]
  },
  {
   "cell_type": "code",
   "execution_count": 17,
   "metadata": {},
   "outputs": [
    {
     "name": "stdout",
     "output_type": "stream",
     "text": [
      "3978\n"
     ]
    }
   ],
   "source": [
    "print(len(wellness_df))"
   ]
  },
  {
   "cell_type": "markdown",
   "metadata": {},
   "source": [
    "We see that there are 779 observations where we need to forward fill to impute the wellness data. This is out of 3978 observations after we reindex the data which is 20% of the observations. We choose forward filling because we assume wellness does not change too frequently in a short time frame."
   ]
  },
  {
   "cell_type": "code",
   "execution_count": 18,
   "metadata": {},
   "outputs": [],
   "source": [
    "wellness_df = wellness_df.fillna(method='ffill')"
   ]
  },
  {
   "cell_type": "code",
   "execution_count": 19,
   "metadata": {},
   "outputs": [
    {
     "name": "stdout",
     "output_type": "stream",
     "text": [
      "443\n"
     ]
    },
    {
     "data": {
      "text/html": [
       "<div>\n",
       "<style scoped>\n",
       "    .dataframe tbody tr th:only-of-type {\n",
       "        vertical-align: middle;\n",
       "    }\n",
       "\n",
       "    .dataframe tbody tr th {\n",
       "        vertical-align: top;\n",
       "    }\n",
       "\n",
       "    .dataframe thead th {\n",
       "        text-align: right;\n",
       "    }\n",
       "</style>\n",
       "<table border=\"1\" class=\"dataframe\">\n",
       "  <thead>\n",
       "    <tr style=\"text-align: right;\">\n",
       "      <th></th>\n",
       "      <th>Date</th>\n",
       "      <th>GameID</th>\n",
       "      <th>Outcome</th>\n",
       "      <th>TeamPoints</th>\n",
       "      <th>PlayerID</th>\n",
       "      <th>MaxSpeedInGame</th>\n",
       "      <th>MaxAccelImpulseInGame</th>\n",
       "      <th>AcuteLoad</th>\n",
       "      <th>ChronicLoad</th>\n",
       "      <th>AcuteChronicRatio</th>\n",
       "      <th>...</th>\n",
       "      <th>Nutrition</th>\n",
       "      <th>TrainingReadiness</th>\n",
       "      <th>StandardizedMonitoringScore</th>\n",
       "      <th>StandardizedPain</th>\n",
       "      <th>StandardizedIllness</th>\n",
       "      <th>StandardizedNutrition</th>\n",
       "      <th>StandardizedMenstruation</th>\n",
       "      <th>StandardizedTrainingReadiness</th>\n",
       "      <th>wellness</th>\n",
       "      <th>WellnessAffectedByLoad</th>\n",
       "    </tr>\n",
       "  </thead>\n",
       "  <tbody>\n",
       "    <tr>\n",
       "      <th>0</th>\n",
       "      <td>2017-11-30</td>\n",
       "      <td>1</td>\n",
       "      <td>W</td>\n",
       "      <td>19</td>\n",
       "      <td>2</td>\n",
       "      <td>7.284728</td>\n",
       "      <td>4.423615</td>\n",
       "      <td>206.57</td>\n",
       "      <td>371.20</td>\n",
       "      <td>0.56</td>\n",
       "      <td>...</td>\n",
       "      <td>3.0</td>\n",
       "      <td>0.0</td>\n",
       "      <td>0.980185</td>\n",
       "      <td>0.363863</td>\n",
       "      <td>0.330081</td>\n",
       "      <td>0.716267</td>\n",
       "      <td>0.716267</td>\n",
       "      <td>0.407056</td>\n",
       "      <td>2.390396</td>\n",
       "      <td>2.797452</td>\n",
       "    </tr>\n",
       "    <tr>\n",
       "      <th>1</th>\n",
       "      <td>2017-11-30</td>\n",
       "      <td>1</td>\n",
       "      <td>W</td>\n",
       "      <td>19</td>\n",
       "      <td>3</td>\n",
       "      <td>6.852436</td>\n",
       "      <td>4.888893</td>\n",
       "      <td>407.86</td>\n",
       "      <td>454.67</td>\n",
       "      <td>0.90</td>\n",
       "      <td>...</td>\n",
       "      <td>3.0</td>\n",
       "      <td>100.0</td>\n",
       "      <td>1.250087</td>\n",
       "      <td>0.363863</td>\n",
       "      <td>0.330081</td>\n",
       "      <td>0.716267</td>\n",
       "      <td>0.716267</td>\n",
       "      <td>0.407056</td>\n",
       "      <td>2.660298</td>\n",
       "      <td>3.067354</td>\n",
       "    </tr>\n",
       "    <tr>\n",
       "      <th>2</th>\n",
       "      <td>2017-11-30</td>\n",
       "      <td>1</td>\n",
       "      <td>W</td>\n",
       "      <td>19</td>\n",
       "      <td>4</td>\n",
       "      <td>7.267784</td>\n",
       "      <td>5.694449</td>\n",
       "      <td>236.00</td>\n",
       "      <td>406.90</td>\n",
       "      <td>0.58</td>\n",
       "      <td>...</td>\n",
       "      <td>3.0</td>\n",
       "      <td>100.0</td>\n",
       "      <td>0.710283</td>\n",
       "      <td>0.363863</td>\n",
       "      <td>0.330081</td>\n",
       "      <td>0.716267</td>\n",
       "      <td>0.716267</td>\n",
       "      <td>0.407056</td>\n",
       "      <td>2.120494</td>\n",
       "      <td>2.527549</td>\n",
       "    </tr>\n",
       "    <tr>\n",
       "      <th>3</th>\n",
       "      <td>2017-11-30</td>\n",
       "      <td>1</td>\n",
       "      <td>W</td>\n",
       "      <td>19</td>\n",
       "      <td>6</td>\n",
       "      <td>6.338894</td>\n",
       "      <td>4.777782</td>\n",
       "      <td>297.29</td>\n",
       "      <td>415.87</td>\n",
       "      <td>0.71</td>\n",
       "      <td>...</td>\n",
       "      <td>3.0</td>\n",
       "      <td>90.0</td>\n",
       "      <td>0.440381</td>\n",
       "      <td>0.363863</td>\n",
       "      <td>0.330081</td>\n",
       "      <td>0.716267</td>\n",
       "      <td>0.716267</td>\n",
       "      <td>0.407056</td>\n",
       "      <td>1.850592</td>\n",
       "      <td>2.257647</td>\n",
       "    </tr>\n",
       "    <tr>\n",
       "      <th>4</th>\n",
       "      <td>2017-11-30</td>\n",
       "      <td>1</td>\n",
       "      <td>W</td>\n",
       "      <td>19</td>\n",
       "      <td>7</td>\n",
       "      <td>7.065283</td>\n",
       "      <td>4.091273</td>\n",
       "      <td>237.57</td>\n",
       "      <td>476.60</td>\n",
       "      <td>0.50</td>\n",
       "      <td>...</td>\n",
       "      <td>3.0</td>\n",
       "      <td>95.0</td>\n",
       "      <td>1.250087</td>\n",
       "      <td>0.363863</td>\n",
       "      <td>0.330081</td>\n",
       "      <td>0.716267</td>\n",
       "      <td>0.716267</td>\n",
       "      <td>0.407056</td>\n",
       "      <td>2.660298</td>\n",
       "      <td>3.067354</td>\n",
       "    </tr>\n",
       "  </tbody>\n",
       "</table>\n",
       "<p>5 rows × 30 columns</p>\n",
       "</div>"
      ],
      "text/plain": [
       "        Date  GameID Outcome  TeamPoints  PlayerID  MaxSpeedInGame  \\\n",
       "0 2017-11-30       1       W          19         2        7.284728   \n",
       "1 2017-11-30       1       W          19         3        6.852436   \n",
       "2 2017-11-30       1       W          19         4        7.267784   \n",
       "3 2017-11-30       1       W          19         6        6.338894   \n",
       "4 2017-11-30       1       W          19         7        7.065283   \n",
       "\n",
       "   MaxAccelImpulseInGame  AcuteLoad  ChronicLoad  AcuteChronicRatio  ...  \\\n",
       "0               4.423615     206.57       371.20               0.56  ...   \n",
       "1               4.888893     407.86       454.67               0.90  ...   \n",
       "2               5.694449     236.00       406.90               0.58  ...   \n",
       "3               4.777782     297.29       415.87               0.71  ...   \n",
       "4               4.091273     237.57       476.60               0.50  ...   \n",
       "\n",
       "   Nutrition  TrainingReadiness  StandardizedMonitoringScore  \\\n",
       "0        3.0                0.0                     0.980185   \n",
       "1        3.0              100.0                     1.250087   \n",
       "2        3.0              100.0                     0.710283   \n",
       "3        3.0               90.0                     0.440381   \n",
       "4        3.0               95.0                     1.250087   \n",
       "\n",
       "   StandardizedPain  StandardizedIllness  StandardizedNutrition  \\\n",
       "0          0.363863             0.330081               0.716267   \n",
       "1          0.363863             0.330081               0.716267   \n",
       "2          0.363863             0.330081               0.716267   \n",
       "3          0.363863             0.330081               0.716267   \n",
       "4          0.363863             0.330081               0.716267   \n",
       "\n",
       "   StandardizedMenstruation  StandardizedTrainingReadiness  wellness  \\\n",
       "0                  0.716267                       0.407056  2.390396   \n",
       "1                  0.716267                       0.407056  2.660298   \n",
       "2                  0.716267                       0.407056  2.120494   \n",
       "3                  0.716267                       0.407056  1.850592   \n",
       "4                  0.716267                       0.407056  2.660298   \n",
       "\n",
       "   WellnessAffectedByLoad  \n",
       "0                2.797452  \n",
       "1                3.067354  \n",
       "2                2.527549  \n",
       "3                2.257647  \n",
       "4                3.067354  \n",
       "\n",
       "[5 rows x 30 columns]"
      ]
     },
     "execution_count": 19,
     "metadata": {},
     "output_type": "execute_result"
    }
   ],
   "source": [
    "merged_df = train_performance.merge(wellness_df,\n",
    "    how='left', on= ['Date','PlayerID']).drop_duplicates()\n",
    "print(len(merged_df))\n",
    "merged_df.head()"
   ]
  },
  {
   "cell_type": "code",
   "execution_count": 20,
   "metadata": {},
   "outputs": [
    {
     "name": "stdout",
     "output_type": "stream",
     "text": [
      "Empty DataFrame\n",
      "Columns: [Date, GameID, Outcome, TeamPoints, PlayerID, MaxSpeedInGame, MaxAccelImpulseInGame, AcuteLoad, ChronicLoad, AcuteChronicRatio, MonitoringScore, Fatigue, Soreness, Desire, Irritability, SleepHours, SleepQuality, Menstruation, Pain, Illness, Nutrition, TrainingReadiness, StandardizedMonitoringScore, StandardizedPain, StandardizedIllness, StandardizedNutrition, StandardizedMenstruation, StandardizedTrainingReadiness, wellness, WellnessAffectedByLoad]\n",
      "Index: []\n",
      "\n",
      "[0 rows x 30 columns]\n"
     ]
    }
   ],
   "source": [
    "print(merged_df[merged_df['MonitoringScore'].isnull()])"
   ]
  },
  {
   "cell_type": "markdown",
   "metadata": {},
   "source": [
    "## Explore Performance Data"
   ]
  },
  {
   "cell_type": "markdown",
   "metadata": {},
   "source": [
    "Before modeling performance data, we need to make sure there are no outliers in the data. The performance data is computed from data gathered by sensors so any issue with sensors will present itself as outliers in our data."
   ]
  },
  {
   "cell_type": "code",
   "execution_count": 21,
   "metadata": {},
   "outputs": [
    {
     "data": {
      "image/png": "[encoded data removed]",
      "text/plain": [
       "<Figure size 432x288 with 1 Axes>"
      ]
     },
     "metadata": {
      "needs_background": "light"
     },
     "output_type": "display_data"
    }
   ],
   "source": [
    "merged_df['MaxSpeedInGame'].hist()\n",
    "plt.title('Histogram of Max Speed In Game')\n",
    "plt.xlabel('Max Speed In Game')\n",
    "plt.ylabel('Count')\n",
    "plt.show()"
   ]
  },
  {
   "cell_type": "markdown",
   "metadata": {},
   "source": [
    "There are some outliers in the form of very low speed individuals in our data set. Including these will harm the linear models we plan to use so we will exclude them. Ming had also stated that he does not believe any woman can run more than 9 m/s. We can try applying the IQR outlier removal rule and see if the upper bound is close to this."
   ]
  },
  {
   "cell_type": "code",
   "execution_count": 22,
   "metadata": {},
   "outputs": [
    {
     "data": {
      "text/plain": [
       "6.3722967645"
      ]
     },
     "execution_count": 22,
     "metadata": {},
     "output_type": "execute_result"
    }
   ],
   "source": [
    "q1 = merged_df['MaxSpeedInGame'].quantile(0.25)\n",
    "q1"
   ]
  },
  {
   "cell_type": "code",
   "execution_count": 23,
   "metadata": {},
   "outputs": [
    {
     "data": {
      "text/plain": [
       "7.504635633333335"
      ]
     },
     "execution_count": 23,
     "metadata": {},
     "output_type": "execute_result"
    }
   ],
   "source": [
    "q3 = merged_df['MaxSpeedInGame'].quantile(0.75)\n",
    "q3"
   ]
  },
  {
   "cell_type": "code",
   "execution_count": 24,
   "metadata": {},
   "outputs": [
    {
     "data": {
      "text/plain": [
       "1.132338868833335"
      ]
     },
     "execution_count": 24,
     "metadata": {},
     "output_type": "execute_result"
    }
   ],
   "source": [
    "iqr = q3 - q1\n",
    "iqr"
   ]
  },
  {
   "cell_type": "code",
   "execution_count": 25,
   "metadata": {},
   "outputs": [],
   "source": [
    "merged_df.to_csv('./processed_data/merged_df.csv')"
   ]
  },
  {
   "cell_type": "code",
   "execution_count": 26,
   "metadata": {},
   "outputs": [
    {
     "data": {
      "text/plain": [
       "9.203143936583338"
      ]
     },
     "execution_count": 26,
     "metadata": {},
     "output_type": "execute_result"
    }
   ],
   "source": [
    "upper_bound = q3 + iqr*1.5\n",
    "upper_bound"
   ]
  },
  {
   "cell_type": "markdown",
   "metadata": {},
   "source": [
    "Using the IQR outlier removal rule, the upper bound is about 9 m/s which means this must be a good method for removing outliers"
   ]
  },
  {
   "cell_type": "code",
   "execution_count": 27,
   "metadata": {},
   "outputs": [],
   "source": [
    "merged_df = merged_df[(merged_df['MaxSpeedInGame'] >= q1 - 1.5*iqr) & (merged_df['MaxSpeedInGame'] <= upper_bound)]"
   ]
  },
  {
   "cell_type": "code",
   "execution_count": 28,
   "metadata": {},
   "outputs": [
    {
     "data": {
      "image/png": "[encoded data removed]",
      "text/plain": [
       "<Figure size 432x288 with 1 Axes>"
      ]
     },
     "metadata": {
      "needs_background": "light"
     },
     "output_type": "display_data"
    }
   ],
   "source": [
    "merged_df['MaxSpeedInGame'].hist()\n",
    "plt.title('Histogram of Max Speed In Game')\n",
    "plt.xlabel('Max Speed In Game')\n",
    "plt.ylabel('Count')\n",
    "plt.show()"
   ]
  },
  {
   "cell_type": "markdown",
   "metadata": {},
   "source": [
    "After removing outliers our performance data is normally distributed and is better suited to being the response in a regression model."
   ]
  },
  {
   "cell_type": "markdown",
   "metadata": {},
   "source": [
    "## Correlations Between Predictors and Response"
   ]
  },
  {
   "cell_type": "markdown",
   "metadata": {},
   "source": [
    "Based on our previous analysis, we think that `AcuteChronicRatio`, `MonitoringScore`, `Pain`, `Illness`, `Menstruation`, `Nutrition` will be predictors for `MaxSpeedInGame` which is our measure for performance. We also have an overall score for wellness called `wellness` which is the combination of all predictors other than `AcuteChronicRatio`."
   ]
  },
  {
   "cell_type": "code",
   "execution_count": 29,
   "metadata": {},
   "outputs": [],
   "source": [
    "def scatter_plot(df, x, y, title=None, hold_plot = False):\n",
    "    plt.scatter(df[x], df[y])\n",
    "    plt.xlabel(x)\n",
    "    plt.ylabel(y)\n",
    "    \n",
    "    if title:\n",
    "        plt.title(title)\n",
    "    \n",
    "    if not hold_plot:\n",
    "        plt.show()"
   ]
  },
  {
   "cell_type": "code",
   "execution_count": 30,
   "metadata": {},
   "outputs": [
    {
     "data": {
      "image/png": "[encoded data removed]",
      "text/plain": [
       "<Figure size 432x288 with 1 Axes>"
      ]
     },
     "metadata": {
      "needs_background": "light"
     },
     "output_type": "display_data"
    }
   ],
   "source": [
    "scatter_plot(merged_df, 'AcuteChronicRatio', 'MaxSpeedInGame', 'Performance vs Acute Chronic Load Ratio')\n"
   ]
  },
  {
   "cell_type": "markdown",
   "metadata": {},
   "source": [
    "It does not look like there is any clear pattern between load and performance."
   ]
  },
  {
   "cell_type": "code",
   "execution_count": 31,
   "metadata": {},
   "outputs": [
    {
     "data": {
      "image/png": "[encoded data removed]",
      "text/plain": [
       "<Figure size 432x288 with 1 Axes>"
      ]
     },
     "metadata": {
      "needs_background": "light"
     },
     "output_type": "display_data"
    }
   ],
   "source": [
    "scatter_plot(merged_df, 'wellness', 'MaxSpeedInGame', 'Performance vs Wellness')\n"
   ]
  },
  {
   "cell_type": "markdown",
   "metadata": {},
   "source": [
    "Similarly, we do not see any clear pattern between performance and wellness."
   ]
  },
  {
   "cell_type": "code",
   "execution_count": 32,
   "metadata": {},
   "outputs": [
    {
     "data": {
      "text/html": [
       "<div>\n",
       "<style scoped>\n",
       "    .dataframe tbody tr th:only-of-type {\n",
       "        vertical-align: middle;\n",
       "    }\n",
       "\n",
       "    .dataframe tbody tr th {\n",
       "        vertical-align: top;\n",
       "    }\n",
       "\n",
       "    .dataframe thead th {\n",
       "        text-align: right;\n",
       "    }\n",
       "</style>\n",
       "<table border=\"1\" class=\"dataframe\">\n",
       "  <thead>\n",
       "    <tr style=\"text-align: right;\">\n",
       "      <th></th>\n",
       "      <th>wellness</th>\n",
       "      <th>MaxSpeedInGame</th>\n",
       "    </tr>\n",
       "    <tr>\n",
       "      <th>PlayerID</th>\n",
       "      <th></th>\n",
       "      <th></th>\n",
       "    </tr>\n",
       "  </thead>\n",
       "  <tbody>\n",
       "    <tr>\n",
       "      <th>1</th>\n",
       "      <td>1.149699</td>\n",
       "      <td>7.683961</td>\n",
       "    </tr>\n",
       "    <tr>\n",
       "      <th>2</th>\n",
       "      <td>-0.450273</td>\n",
       "      <td>6.902797</td>\n",
       "    </tr>\n",
       "    <tr>\n",
       "      <th>3</th>\n",
       "      <td>1.940559</td>\n",
       "      <td>7.230131</td>\n",
       "    </tr>\n",
       "    <tr>\n",
       "      <th>4</th>\n",
       "      <td>0.956059</td>\n",
       "      <td>6.799333</td>\n",
       "    </tr>\n",
       "    <tr>\n",
       "      <th>5</th>\n",
       "      <td>-0.831605</td>\n",
       "      <td>7.721914</td>\n",
       "    </tr>\n",
       "    <tr>\n",
       "      <th>6</th>\n",
       "      <td>1.075347</td>\n",
       "      <td>6.511335</td>\n",
       "    </tr>\n",
       "    <tr>\n",
       "      <th>7</th>\n",
       "      <td>0.513464</td>\n",
       "      <td>7.309137</td>\n",
       "    </tr>\n",
       "    <tr>\n",
       "      <th>8</th>\n",
       "      <td>0.616924</td>\n",
       "      <td>7.159093</td>\n",
       "    </tr>\n",
       "    <tr>\n",
       "      <th>9</th>\n",
       "      <td>-0.551233</td>\n",
       "      <td>6.931128</td>\n",
       "    </tr>\n",
       "    <tr>\n",
       "      <th>10</th>\n",
       "      <td>-2.353487</td>\n",
       "      <td>7.614805</td>\n",
       "    </tr>\n",
       "    <tr>\n",
       "      <th>11</th>\n",
       "      <td>0.429095</td>\n",
       "      <td>6.920157</td>\n",
       "    </tr>\n",
       "    <tr>\n",
       "      <th>12</th>\n",
       "      <td>-0.025235</td>\n",
       "      <td>6.215714</td>\n",
       "    </tr>\n",
       "    <tr>\n",
       "      <th>13</th>\n",
       "      <td>1.744051</td>\n",
       "      <td>6.737886</td>\n",
       "    </tr>\n",
       "    <tr>\n",
       "      <th>14</th>\n",
       "      <td>1.918067</td>\n",
       "      <td>6.304165</td>\n",
       "    </tr>\n",
       "    <tr>\n",
       "      <th>15</th>\n",
       "      <td>3.003842</td>\n",
       "      <td>6.434150</td>\n",
       "    </tr>\n",
       "    <tr>\n",
       "      <th>16</th>\n",
       "      <td>0.718389</td>\n",
       "      <td>6.466877</td>\n",
       "    </tr>\n",
       "    <tr>\n",
       "      <th>17</th>\n",
       "      <td>-0.762275</td>\n",
       "      <td>6.250989</td>\n",
       "    </tr>\n",
       "  </tbody>\n",
       "</table>\n",
       "</div>"
      ],
      "text/plain": [
       "          wellness  MaxSpeedInGame\n",
       "PlayerID                          \n",
       "1         1.149699        7.683961\n",
       "2        -0.450273        6.902797\n",
       "3         1.940559        7.230131\n",
       "4         0.956059        6.799333\n",
       "5        -0.831605        7.721914\n",
       "6         1.075347        6.511335\n",
       "7         0.513464        7.309137\n",
       "8         0.616924        7.159093\n",
       "9        -0.551233        6.931128\n",
       "10       -2.353487        7.614805\n",
       "11        0.429095        6.920157\n",
       "12       -0.025235        6.215714\n",
       "13        1.744051        6.737886\n",
       "14        1.918067        6.304165\n",
       "15        3.003842        6.434150\n",
       "16        0.718389        6.466877\n",
       "17       -0.762275        6.250989"
      ]
     },
     "execution_count": 32,
     "metadata": {},
     "output_type": "execute_result"
    }
   ],
   "source": [
    "grouped_merged_df = merged_df[['wellness', 'MaxSpeedInGame', 'PlayerID']].groupby('PlayerID').mean()\n",
    "grouped_merged_df"
   ]
  },
  {
   "cell_type": "code",
   "execution_count": 33,
   "metadata": {},
   "outputs": [
    {
     "data": {
      "image/png": "[encoded data removed]",
      "text/plain": [
       "<Figure size 432x288 with 1 Axes>"
      ]
     },
     "metadata": {
      "needs_background": "light"
     },
     "output_type": "display_data"
    }
   ],
   "source": [
    "scatter_plot(grouped_merged_df, 'wellness', 'MaxSpeedInGame')"
   ]
  },
  {
   "cell_type": "markdown",
   "metadata": {},
   "source": [
    "When we average the data by player, we do not see a clear pattern between wellness and performance."
   ]
  },
  {
   "cell_type": "markdown",
   "metadata": {},
   "source": [
    "We see that there are no clear patterns when we are looking at the repeated measures data. It is possible that using a regression model will illuminate some relationships in the data, particularly for individual features of wellness."
   ]
  },
  {
   "cell_type": "markdown",
   "metadata": {},
   "source": [
    "## Regressions Of Wellness and Load on Performance"
   ]
  },
  {
   "cell_type": "code",
   "execution_count": 34,
   "metadata": {},
   "outputs": [],
   "source": [
    "import statsmodels.api as sm\n",
    "import statsmodels.formula.api as smf\n",
    "from statsmodels.tools.eval_measures import aic\n",
    "from statsmodels.graphics.gofplots import qqplot"
   ]
  },
  {
   "cell_type": "markdown",
   "metadata": {},
   "source": [
    "### Mixed Linear Models"
   ]
  },
  {
   "cell_type": "markdown",
   "metadata": {},
   "source": [
    "We want to first model the relationship between Load and Wellness vs performance using a mixed linear model. This is because our data includes repeated measurements for each player over many games. In this case, the random effect will be the player id such that we group the measurements by player. We will be using random intercepts but not random slopes. This means we allow each player to have a random intercept, or random base level of performance, but each player should share the same slopes for each predictor. In this way, we allow the model to adjust to the base performance level of each player but we find relationships between the predictors and the response that are generalizable across the entire team."
   ]
  },
  {
   "cell_type": "markdown",
   "metadata": {},
   "source": [
    "The relationship between acute chronic ratio and performance is known to be non-linear so we add a squared term to our regression equation."
   ]
  },
  {
   "cell_type": "code",
   "execution_count": 35,
   "metadata": {},
   "outputs": [
    {
     "name": "stdout",
     "output_type": "stream",
     "text": [
      "                  Mixed Linear Model Regression Results\n",
      "=========================================================================\n",
      "Model:                 MixedLM     Dependent Variable:     MaxSpeedInGame\n",
      "No. Observations:      420         Method:                 REML          \n",
      "No. Groups:            17          Scale:                  0.4134        \n",
      "Min. group size:       4           Likelihood:             -440.0633     \n",
      "Max. group size:       38          Converged:              Yes           \n",
      "Mean group size:       24.7                                              \n",
      "-------------------------------------------------------------------------\n",
      "                               Coef.  Std.Err.   z    P>|z| [0.025 0.975]\n",
      "-------------------------------------------------------------------------\n",
      "Intercept                       7.633    0.650 11.744 0.000  6.359  8.906\n",
      "AcuteChronicRatio              -0.335    0.409 -0.817 0.414 -1.137  0.468\n",
      "np.power(AcuteChronicRatio, 2)  0.140    0.253  0.551 0.581 -0.356  0.636\n",
      "MonitoringScore                -0.015    0.010 -1.453 0.146 -0.036  0.005\n",
      "SleepHours                      0.009    0.039  0.239 0.811 -0.067  0.085\n",
      "Pain                           -0.200    0.115 -1.734 0.083 -0.426  0.026\n",
      "Illness                        -0.156    0.145 -1.077 0.282 -0.440  0.128\n",
      "Nutrition                       0.113    0.095  1.184 0.237 -0.074  0.300\n",
      "Menstruation                   -0.009    0.116 -0.078 0.937 -0.237  0.219\n",
      "Group Var                       0.184    0.117                           \n",
      "=========================================================================\n",
      "\n"
     ]
    }
   ],
   "source": [
    "mixed_mod = smf.mixedlm(\"MaxSpeedInGame ~ AcuteChronicRatio + np.power(AcuteChronicRatio, 2) + MonitoringScore + SleepHours + Pain + Illness + Nutrition + Menstruation\", merged_df, groups=merged_df['PlayerID'])\n",
    "mixed_res = mixed_mod.fit()\n",
    "print(mixed_res.summary())"
   ]
  },
  {
   "cell_type": "code",
   "execution_count": 36,
   "metadata": {},
   "outputs": [
    {
     "data": {
      "text/plain": [
       "898.1265549139007"
      ]
     },
     "execution_count": 36,
     "metadata": {},
     "output_type": "execute_result"
    }
   ],
   "source": [
    "aic1 = aic(mixed_res.llf, 415, 9)\n",
    "aic1\n"
   ]
  },
  {
   "cell_type": "markdown",
   "metadata": {},
   "source": [
    "We can use this AIC measure as a baseline for comparing this model to the models below. Given that p-values for mixed linear models are unreliable, we will use AIC as our metric for model selection. We want to remove uninformative features such that it makes the AIC of the model lower. In doing so, we hope to find a model that gives us some insights into the relationship between a subset of these predictors and the performance of players."
   ]
  },
  {
   "cell_type": "markdown",
   "metadata": {},
   "source": [
    "We see that even though we are modeling the realationship between load and perfromance non-linearly, we see that the 95% confidence interval for the load terms contains positive and negative values including 0. Furthermore, the standard error of the estimates for the coefficients are similar in magnitude to the estimates themselves, meaning the true value could be far from the estimate given. Thus, we cannot make any conclusions about relationship between performance and load given this model. This is not what we expected but makes sense based on our data as we found no clear patterns in the relationship between load and performance in the scatter plots above. Thus, we should remove the load terms from the model and see if we can find any stronger relationships for some of the wellness predictors."
   ]
  },
  {
   "cell_type": "markdown",
   "metadata": {},
   "source": [
    "We are tempted to expand the monitoring score into the predictors that make it up, but as we say in the wellness exploratory notebook, these predictors are all correlated with each other, so they cannot be predictors in a model."
   ]
  },
  {
   "cell_type": "markdown",
   "metadata": {},
   "source": [
    "Thus, we will remove the load values and see what the resulting model looks like."
   ]
  },
  {
   "cell_type": "markdown",
   "metadata": {},
   "source": [
    "#### Remove Training Load"
   ]
  },
  {
   "cell_type": "code",
   "execution_count": 37,
   "metadata": {},
   "outputs": [
    {
     "name": "stdout",
     "output_type": "stream",
     "text": [
      "           Mixed Linear Model Regression Results\n",
      "============================================================\n",
      "Model:            MixedLM Dependent Variable: MaxSpeedInGame\n",
      "No. Observations: 420     Method:             REML          \n",
      "No. Groups:       17      Scale:              0.4124        \n",
      "Min. group size:  4       Likelihood:         -439.0420     \n",
      "Max. group size:  38      Converged:          Yes           \n",
      "Mean group size:  24.7                                      \n",
      "------------------------------------------------------------\n",
      "                  Coef.  Std.Err.   z    P>|z| [0.025 0.975]\n",
      "------------------------------------------------------------\n",
      "Intercept          7.463    0.624 11.968 0.000  6.241  8.685\n",
      "MonitoringScore   -0.015    0.010 -1.471 0.141 -0.035  0.005\n",
      "SleepHours         0.010    0.039  0.248 0.804 -0.066  0.085\n",
      "Pain              -0.187    0.115 -1.632 0.103 -0.412  0.038\n",
      "Illness           -0.148    0.145 -1.026 0.305 -0.432  0.135\n",
      "Nutrition          0.110    0.094  1.169 0.242 -0.075  0.296\n",
      "Menstruation      -0.028    0.115 -0.241 0.809 -0.253  0.197\n",
      "Group Var          0.188    0.120                           \n",
      "============================================================\n",
      "\n"
     ]
    }
   ],
   "source": [
    "mixed_mod = smf.mixedlm(\"MaxSpeedInGame ~ MonitoringScore + SleepHours + Pain + Illness + Nutrition + Menstruation\", merged_df, groups=merged_df['PlayerID'])\n",
    "mixed_res = mixed_mod.fit()\n",
    "print(mixed_res.summary())\n"
   ]
  },
  {
   "cell_type": "code",
   "execution_count": 38,
   "metadata": {},
   "outputs": [
    {
     "data": {
      "text/plain": [
       "892.0840687780228"
      ]
     },
     "execution_count": 38,
     "metadata": {},
     "output_type": "execute_result"
    }
   ],
   "source": [
    "aic2 = aic(mixed_res.llf, 415, 7)\n",
    "aic2"
   ]
  },
  {
   "cell_type": "code",
   "execution_count": 39,
   "metadata": {},
   "outputs": [
    {
     "data": {
      "text/plain": [
       "0.0487405928207259"
      ]
     },
     "execution_count": 39,
     "metadata": {},
     "output_type": "execute_result"
    }
   ],
   "source": [
    "np.exp((min([aic1, aic2]) - max([aic1, aic2])) / 2)"
   ]
  },
  {
   "cell_type": "markdown",
   "metadata": {},
   "source": [
    "The AIC for this model is less than that of the first model, suggesting that this model loses less information from the process that generated the data compared to the first model, which is to say it is a better model of the data. In fact, the first model is only about `0.049` times as likely to minimize the information lost as the second model. "
   ]
  },
  {
   "cell_type": "markdown",
   "metadata": {},
   "source": [
    "The standard error is much larger than the point estimate for Menstruation which is near 0. The model is very uncertain about the effect of Menstruation and thus, it should be removed."
   ]
  },
  {
   "cell_type": "markdown",
   "metadata": {},
   "source": [
    "#### Remove Menstruation"
   ]
  },
  {
   "cell_type": "code",
   "execution_count": 40,
   "metadata": {},
   "outputs": [
    {
     "name": "stdout",
     "output_type": "stream",
     "text": [
      "           Mixed Linear Model Regression Results\n",
      "============================================================\n",
      "Model:            MixedLM Dependent Variable: MaxSpeedInGame\n",
      "No. Observations: 420     Method:             REML          \n",
      "No. Groups:       17      Scale:              0.4115        \n",
      "Min. group size:  4       Likelihood:         -437.8254     \n",
      "Max. group size:  38      Converged:          Yes           \n",
      "Mean group size:  24.7                                      \n",
      "------------------------------------------------------------\n",
      "                  Coef.  Std.Err.   z    P>|z| [0.025 0.975]\n",
      "------------------------------------------------------------\n",
      "Intercept          7.429    0.607 12.242 0.000  6.240  8.618\n",
      "MonitoringScore   -0.015    0.010 -1.477 0.140 -0.035  0.005\n",
      "SleepHours         0.010    0.038  0.271 0.786 -0.065  0.086\n",
      "Pain              -0.188    0.114 -1.647 0.100 -0.412  0.036\n",
      "Illness           -0.147    0.144 -1.020 0.308 -0.430  0.136\n",
      "Nutrition          0.110    0.094  1.171 0.242 -0.074  0.295\n",
      "Group Var          0.187    0.120                           \n",
      "============================================================\n",
      "\n"
     ]
    }
   ],
   "source": [
    "mixed_mod = smf.mixedlm(\"MaxSpeedInGame ~ MonitoringScore + SleepHours + Pain + Illness + Nutrition \", merged_df, groups=merged_df['PlayerID'])\n",
    "mixed_res = mixed_mod.fit()\n",
    "print(mixed_res.summary())"
   ]
  },
  {
   "cell_type": "code",
   "execution_count": 41,
   "metadata": {},
   "outputs": [
    {
     "data": {
      "text/plain": [
       "887.6508568841068"
      ]
     },
     "execution_count": 41,
     "metadata": {},
     "output_type": "execute_result"
    }
   ],
   "source": [
    "aic3 = aic(mixed_res.llf, 415, 6)\n",
    "aic3\n"
   ]
  },
  {
   "cell_type": "code",
   "execution_count": 42,
   "metadata": {},
   "outputs": [
    {
     "data": {
      "text/plain": [
       "0.10897836017602136"
      ]
     },
     "execution_count": 42,
     "metadata": {},
     "output_type": "execute_result"
    }
   ],
   "source": [
    "np.exp((aic3 - aic2) / 2)"
   ]
  },
  {
   "cell_type": "markdown",
   "metadata": {},
   "source": [
    "We see that after removing Menstruation, we get another model with an even lower AIC. Compared to this new model, the second model is only about `0.109` times as likely to lose less information. Looking at the estimate for sleep hours, the standard error is much larger than the point estimate which means the model is very uncertain about the effect of sleep hours. Thus, it should be removed."
   ]
  },
  {
   "cell_type": "markdown",
   "metadata": {},
   "source": [
    "#### Remove Sleep Hours"
   ]
  },
  {
   "cell_type": "code",
   "execution_count": 43,
   "metadata": {},
   "outputs": [
    {
     "name": "stdout",
     "output_type": "stream",
     "text": [
      "           Mixed Linear Model Regression Results\n",
      "============================================================\n",
      "Model:            MixedLM Dependent Variable: MaxSpeedInGame\n",
      "No. Observations: 420     Method:             REML          \n",
      "No. Groups:       17      Scale:              0.4105        \n",
      "Min. group size:  4       Likelihood:         -435.5227     \n",
      "Max. group size:  38      Converged:          Yes           \n",
      "Mean group size:  24.7                                      \n",
      "------------------------------------------------------------\n",
      "                  Coef.  Std.Err.   z    P>|z| [0.025 0.975]\n",
      "------------------------------------------------------------\n",
      "Intercept          7.508    0.531 14.153 0.000  6.469  8.548\n",
      "C(Pain)[T.1.0]    -0.191    0.114 -1.684 0.092 -0.414  0.031\n",
      "MonitoringScore   -0.014    0.010 -1.465 0.143 -0.033  0.005\n",
      "Illness           -0.149    0.144 -1.034 0.301 -0.431  0.133\n",
      "Nutrition          0.110    0.094  1.165 0.244 -0.075  0.294\n",
      "Group Var          0.187    0.120                           \n",
      "============================================================\n",
      "\n"
     ]
    }
   ],
   "source": [
    "mixed_mod = smf.mixedlm(\"MaxSpeedInGame ~ MonitoringScore + C(Pain) + Illness + Nutrition\", merged_df, groups=merged_df['PlayerID'])\n",
    "mixed_res = mixed_mod.fit()\n",
    "print(mixed_res.summary())"
   ]
  },
  {
   "cell_type": "code",
   "execution_count": 44,
   "metadata": {},
   "outputs": [
    {
     "data": {
      "text/plain": [
       "881.0453048765698"
      ]
     },
     "execution_count": 44,
     "metadata": {},
     "output_type": "execute_result"
    }
   ],
   "source": [
    "aic4 = aic(mixed_res.llf, 415, 5)\n",
    "aic4"
   ]
  },
  {
   "cell_type": "code",
   "execution_count": 45,
   "metadata": {},
   "outputs": [
    {
     "data": {
      "text/plain": [
       "0.03678092157260381"
      ]
     },
     "execution_count": 45,
     "metadata": {},
     "output_type": "execute_result"
    }
   ],
   "source": [
    "np.exp((aic4 - aic3) / 2)"
   ]
  },
  {
   "cell_type": "markdown",
   "metadata": {},
   "source": [
    "Removing sleep hours lowers our model's AIC yet again. Specifically, the third model is only `0.037` times as probable to minimize the information loss compared to the 4th model. Looking at the coefficient estimate for the monitoring score, we see that its point estimate is close to 0 and it's standard error is small, which means it is likely to be 0 or that the effect size of the relationship to performance  is very small. Thus, we could remove monitoring score from the model."
   ]
  },
  {
   "cell_type": "markdown",
   "metadata": {},
   "source": [
    "#### Remove Monitoring Score"
   ]
  },
  {
   "cell_type": "code",
   "execution_count": 46,
   "metadata": {},
   "outputs": [
    {
     "name": "stdout",
     "output_type": "stream",
     "text": [
      "           Mixed Linear Model Regression Results\n",
      "============================================================\n",
      "Model:            MixedLM Dependent Variable: MaxSpeedInGame\n",
      "No. Observations: 420     Method:             REML          \n",
      "No. Groups:       17      Scale:              0.4114        \n",
      "Min. group size:  4       Likelihood:         -432.8815     \n",
      "Max. group size:  38      Converged:          Yes           \n",
      "Mean group size:  24.7                                      \n",
      "------------------------------------------------------------\n",
      "                  Coef.  Std.Err.   z    P>|z| [0.025 0.975]\n",
      "------------------------------------------------------------\n",
      "Intercept          7.270    0.506 14.377 0.000  6.279  8.261\n",
      "C(Pain)[T.1.0]    -0.216    0.113 -1.922 0.055 -0.437  0.004\n",
      "Illness           -0.140    0.144 -0.972 0.331 -0.422  0.142\n",
      "Nutrition          0.094    0.094  0.999 0.318 -0.090  0.278\n",
      "Group Var          0.191    0.122                           \n",
      "============================================================\n",
      "\n"
     ]
    }
   ],
   "source": [
    "mixed_mod = smf.mixedlm(\"MaxSpeedInGame ~ C(Pain) + Illness + Nutrition\", merged_df, groups=merged_df['PlayerID'])\n",
    "mixed_res = mixed_mod.fit()\n",
    "print(mixed_res.summary())"
   ]
  },
  {
   "cell_type": "code",
   "execution_count": 47,
   "metadata": {},
   "outputs": [
    {
     "data": {
      "text/plain": [
       "873.7630632031078"
      ]
     },
     "execution_count": 47,
     "metadata": {},
     "output_type": "execute_result"
    }
   ],
   "source": [
    "aic5 = aic(mixed_res.llf, 415, 4)\n",
    "aic5"
   ]
  },
  {
   "cell_type": "code",
   "execution_count": 48,
   "metadata": {},
   "outputs": [
    {
     "data": {
      "text/plain": [
       "0.026222935858217732"
      ]
     },
     "execution_count": 48,
     "metadata": {},
     "output_type": "execute_result"
    }
   ],
   "source": [
    "np.exp((aic5 - aic4) / 2)"
   ]
  },
  {
   "cell_type": "markdown",
   "metadata": {},
   "source": [
    "We see that after removing the monitoring score, our model's AIC drops slightly. In fact, the previous model with the monitoring score is `0.026` times as likely to minimize the information loss compared to this model. Thus, we can conclude this new model is the best fit to the data we have trained so far."
   ]
  },
  {
   "cell_type": "markdown",
   "metadata": {},
   "source": [
    "The point estimate for illness is about the same magnitude as the standard error so we cannot make any conclusions about its effect. It is entirely possible that this coefficient is actually 0 instead of negative. Thus, we could improve the model by removing it."
   ]
  },
  {
   "cell_type": "markdown",
   "metadata": {},
   "source": [
    "#### Remove Illness"
   ]
  },
  {
   "cell_type": "code",
   "execution_count": 49,
   "metadata": {},
   "outputs": [
    {
     "name": "stdout",
     "output_type": "stream",
     "text": [
      "           Mixed Linear Model Regression Results\n",
      "============================================================\n",
      "Model:            MixedLM Dependent Variable: MaxSpeedInGame\n",
      "No. Observations: 420     Method:             REML          \n",
      "No. Groups:       17      Scale:              0.4107        \n",
      "Min. group size:  4       Likelihood:         -432.3287     \n",
      "Max. group size:  38      Converged:          Yes           \n",
      "Mean group size:  24.7                                      \n",
      "------------------------------------------------------------\n",
      "                  Coef.  Std.Err.   z    P>|z| [0.025 0.975]\n",
      "------------------------------------------------------------\n",
      "Intercept          6.859    0.279 24.610 0.000  6.313  7.405\n",
      "C(Pain)[T.1.0]    -0.220    0.113 -1.951 0.051 -0.440  0.001\n",
      "Nutrition          0.094    0.094  1.006 0.314 -0.090  0.279\n",
      "Group Var          0.200    0.126                           \n",
      "============================================================\n",
      "\n"
     ]
    }
   ],
   "source": [
    "mixed_mod = smf.mixedlm(\"MaxSpeedInGame ~ C(Pain) + Nutrition\", merged_df, groups=merged_df['PlayerID'])\n",
    "mixed_res = mixed_mod.fit()\n",
    "print(mixed_res.summary())"
   ]
  },
  {
   "cell_type": "code",
   "execution_count": 50,
   "metadata": {},
   "outputs": [
    {
     "data": {
      "text/plain": [
       "870.6574434269673"
      ]
     },
     "execution_count": 50,
     "metadata": {},
     "output_type": "execute_result"
    }
   ],
   "source": [
    "aic6 = aic(mixed_res.llf, 415, 3)\n",
    "aic6"
   ]
  },
  {
   "cell_type": "code",
   "execution_count": 51,
   "metadata": {},
   "outputs": [
    {
     "data": {
      "text/plain": [
       "0.211652417891768"
      ]
     },
     "execution_count": 51,
     "metadata": {},
     "output_type": "execute_result"
    }
   ],
   "source": [
    "np.exp((aic6 - aic5) / 2)"
   ]
  },
  {
   "cell_type": "markdown",
   "metadata": {},
   "source": [
    "We see that removing illness from the model improves the AIC value. However, the improvement is the smallest yet as the 4th model is about `0.212` times as likely to actually minimize the information lost as the 5th model. We also see that the standard error is equal to the point estimate for Nutrition so we cannot be sure of its true effect on the response. The coefficient could actually be 0 so we should remove it."
   ]
  },
  {
   "cell_type": "markdown",
   "metadata": {},
   "source": [
    "#### Remove Nutrition"
   ]
  },
  {
   "cell_type": "code",
   "execution_count": 88,
   "metadata": {},
   "outputs": [
    {
     "name": "stdout",
     "output_type": "stream",
     "text": [
      "           Mixed Linear Model Regression Results\n",
      "============================================================\n",
      "Model:            MixedLM Dependent Variable: MaxSpeedInGame\n",
      "No. Observations: 420     Method:             REML          \n",
      "No. Groups:       17      Scale:              0.4103        \n",
      "Min. group size:  4       Likelihood:         -431.3861     \n",
      "Max. group size:  38      Converged:          Yes           \n",
      "Mean group size:  24.7                                      \n",
      "------------------------------------------------------------\n",
      "                  Coef.  Std.Err.   z    P>|z| [0.025 0.975]\n",
      "------------------------------------------------------------\n",
      "Intercept          7.094    0.153 46.299 0.000  6.794  7.394\n",
      "C(Pain)[T.1.0]    -0.202    0.111 -1.817 0.069 -0.420  0.016\n",
      "Group Var          0.205    0.129                           \n",
      "============================================================\n",
      "\n"
     ]
    }
   ],
   "source": [
    "mixed_mod = smf.mixedlm(\"MaxSpeedInGame ~ C(Pain)\", merged_df, groups=merged_df['PlayerID'])\n",
    "mixed_res = mixed_mod.fit()\n",
    "print(mixed_res.summary())"
   ]
  },
  {
   "cell_type": "code",
   "execution_count": 89,
   "metadata": {},
   "outputs": [
    {
     "data": {
      "text/plain": [
       "866.7721256629279"
      ]
     },
     "execution_count": 89,
     "metadata": {},
     "output_type": "execute_result"
    }
   ],
   "source": [
    "aic7 = aic(mixed_res.llf, 415, 2)\n",
    "aic7"
   ]
  },
  {
   "cell_type": "code",
   "execution_count": 90,
   "metadata": {},
   "outputs": [
    {
     "data": {
      "text/plain": [
       "0.14332236544813928"
      ]
     },
     "execution_count": 90,
     "metadata": {},
     "output_type": "execute_result"
    }
   ],
   "source": [
    "np.exp((aic7 - aic6) / 2)"
   ]
  },
  {
   "cell_type": "markdown",
   "metadata": {},
   "source": [
    "We see that the model is improved by removing nutrition. This leaves us with a model containing one predictor: Pain. The standard error of the pain coefficient is small compared to its point estimate so we can be confident that the direction of the effect and that the point estimate itself is relatively accurate."
   ]
  },
  {
   "cell_type": "markdown",
   "metadata": {},
   "source": [
    "We might wonder if we can use regression to try and find a trend in the general association between wellness and perforamance:"
   ]
  },
  {
   "cell_type": "code",
   "execution_count": 91,
   "metadata": {},
   "outputs": [
    {
     "name": "stdout",
     "output_type": "stream",
     "text": [
      "           Mixed Linear Model Regression Results\n",
      "============================================================\n",
      "Model:            MixedLM Dependent Variable: MaxSpeedInGame\n",
      "No. Observations: 420     Method:             REML          \n",
      "No. Groups:       17      Scale:              0.4101        \n",
      "Min. group size:  4       Likelihood:         -433.1693     \n",
      "Max. group size:  38      Converged:          Yes           \n",
      "Mean group size:  24.7                                      \n",
      "-------------------------------------------------------------\n",
      "              Coef.   Std.Err.    z     P>|z|  [0.025  0.975]\n",
      "-------------------------------------------------------------\n",
      "Intercept      6.932     0.118  58.973  0.000   6.701   7.162\n",
      "wellness      -0.034     0.019  -1.820  0.069  -0.070   0.003\n",
      "Group Var      0.209     0.131                               \n",
      "============================================================\n",
      "\n"
     ]
    }
   ],
   "source": [
    "mixed_mod_alt = smf.mixedlm(\"MaxSpeedInGame ~ wellness\", merged_df, groups=merged_df['PlayerID'])\n",
    "mixed_res_alt = mixed_mod_alt.fit()\n",
    "print(mixed_res_alt.summary())"
   ]
  },
  {
   "cell_type": "code",
   "execution_count": 92,
   "metadata": {},
   "outputs": [
    {
     "data": {
      "text/plain": [
       "870.3386768068845"
      ]
     },
     "execution_count": 92,
     "metadata": {},
     "output_type": "execute_result"
    }
   ],
   "source": [
    "aic8 = aic(mixed_res_alt.llf, 415, 2)\n",
    "aic8"
   ]
  },
  {
   "cell_type": "code",
   "execution_count": 93,
   "metadata": {},
   "outputs": [
    {
     "data": {
      "text/plain": [
       "0.16808666458264068"
      ]
     },
     "execution_count": 93,
     "metadata": {},
     "output_type": "execute_result"
    }
   ],
   "source": [
    "np.exp((aic7 - aic8) / 2)"
   ]
  },
  {
   "cell_type": "markdown",
   "metadata": {},
   "source": [
    "We see that the model with wellness in general as the predictor is only `0.168` times as probable as minimizing the information lost compared to the process that generated the data. In addition to the, the magnitude of the coefficient is small so any effect that wellness has on performance is minuscule if it exists at all."
   ]
  },
  {
   "cell_type": "markdown",
   "metadata": {},
   "source": [
    "It seems our model with pain as the only predictor is a good fit to the data. To verify this, we can fit another kind of model that accepted repreated measures called a generalized estimating equation (GEE) model. GEE models require that we provide the structure of the covariance between groups. We will use the Exchangeable covariance structure which assumes the measurements in a given group are correlated in the same way. In our case, that is to say the measurements for each player are correlated in the same way which makes sense. In fact, GEE with exchangeable correlation structure is annalogus to a mixed model with random intercepts, however, GEE uses a different algorithm to estimate the value of the parameters. For example, in [this article](https://healthsci.mcmaster.ca/docs/librariesprovider8/research/methodology/study-design-and-methodological-issues/statistical-analysis-of-correlated-data-using-generalized-estimating-equations--an-orientation.pdf?sfvrsn=4b1c0d3b_4), Hanley et. al. describe how GEE uses a quasi-liklihood approach and uses weighted combinations of observations to extract the appropriate amount of information from correlated data. If we get similar conclusions from this alternative measure of analysing correlated data, it will add more support to our conclusions. Some research indicates that GEE is actually better than mixed models, for example, in [this paper](https://www.ncbi.nlm.nih.gov/pubmed/20220526), Hubbard et. al. argue that: \"in general that mixed models involve unverifiable assumptions on the data-generating distribution, which lead to potentially misleading estimates and biased inference. We conclude that the estimation-equation approach of population average models provides a more useful approximation of the truth.\""
   ]
  },
  {
   "cell_type": "markdown",
   "metadata": {},
   "source": [
    "Thus, if we find that the GEE model has similar coefficient estimates to the mixed model, this adds evidence that those coefficients are representative of the actual relationships in the data."
   ]
  },
  {
   "cell_type": "code",
   "execution_count": 79,
   "metadata": {},
   "outputs": [
    {
     "name": "stdout",
     "output_type": "stream",
     "text": [
      "                               GEE Regression Results                              \n",
      "===================================================================================\n",
      "Dep. Variable:              MaxSpeedInGame   No. Observations:                  420\n",
      "Model:                                 GEE   No. clusters:                       17\n",
      "Method:                        Generalized   Min. cluster size:                   4\n",
      "                      Estimating Equations   Max. cluster size:                  38\n",
      "Family:                           Gaussian   Mean cluster size:                24.7\n",
      "Dependence structure:         Exchangeable   Num. iterations:                     7\n",
      "Date:                     Tue, 10 Dec 2019   Scale:                           0.590\n",
      "Covariance type:                    robust   Time:                         16:53:06\n",
      "==================================================================================\n",
      "                     coef    std err          z      P>|z|      [0.025      0.975]\n",
      "----------------------------------------------------------------------------------\n",
      "Intercept          7.1098      0.156     45.613      0.000       6.804       7.415\n",
      "C(Pain)[T.1.0]    -0.2143      0.100     -2.151      0.032      -0.410      -0.019\n",
      "==============================================================================\n",
      "Skew:                         -0.3599   Kurtosis:                      -0.2479\n",
      "Centered skew:                -0.4120   Centered kurtosis:              0.0697\n",
      "==============================================================================\n"
     ]
    }
   ],
   "source": [
    "fam = sm.families.Gaussian()\n",
    "ind = sm.cov_struct.Exchangeable()\n",
    "mod = smf.gee(\"MaxSpeedInGame ~ C(Pain)\", \"PlayerID\", merged_df, cov_struct=ind, family=fam)\n",
    "res = mod.fit()\n",
    "print(res.summary())"
   ]
  },
  {
   "cell_type": "markdown",
   "metadata": {},
   "source": [
    "We see that the coefficients of the GEE model are in fact similar to those of the mixed model."
   ]
  },
  {
   "cell_type": "markdown",
   "metadata": {},
   "source": [
    "#### Test Model Fit"
   ]
  },
  {
   "cell_type": "markdown",
   "metadata": {},
   "source": [
    "Before interpreting the coefficients, we should check our assumption that the model is a good fit to the data. We can do this by first doing a QQ plot to ensure that the residuals of the model are uniformly distributed."
   ]
  },
  {
   "cell_type": "markdown",
   "metadata": {},
   "source": [
    "##### QQ Plot for Mixed Model"
   ]
  },
  {
   "cell_type": "code",
   "execution_count": 53,
   "metadata": {},
   "outputs": [
    {
     "data": {
      "image/png": "[encoded data removed]",
      "text/plain": [
       "<Figure size 432x288 with 1 Axes>"
      ]
     },
     "metadata": {
      "needs_background": "light"
     },
     "output_type": "display_data"
    }
   ],
   "source": [
    "qqplot(mixed_res.resid, line='s')\n",
    "plt.title('QQ Plot for Mixed Model')\n",
    "plt.show()"
   ]
  },
  {
   "cell_type": "markdown",
   "metadata": {},
   "source": [
    "##### QQ Plot for GEE Model"
   ]
  },
  {
   "cell_type": "code",
   "execution_count": 54,
   "metadata": {},
   "outputs": [
    {
     "data": {
      "image/png": "[encoded data removed]",
      "text/plain": [
       "<Figure size 432x288 with 1 Axes>"
      ]
     },
     "metadata": {
      "needs_background": "light"
     },
     "output_type": "display_data"
    }
   ],
   "source": [
    "qqplot(res.resid, line='s')\n",
    "plt.title('QQ Plot for GEE Model')\n",
    "plt.show()"
   ]
  },
  {
   "cell_type": "markdown",
   "metadata": {},
   "source": [
    "We see that, for the most part, the QQ plot is a straight line which means the residuals are normally distributed. For both models, there are slight deviations from the line for large positive residuals, wherein the mixed model is closer to normally distributed than the GEE model. However, this deviation is minute and both models have similar coefficients so we conclude that they are both good fits to the data and we can interpret the coefficients of either model to infer the relationship between the predictor and the response."
   ]
  },
  {
   "cell_type": "markdown",
   "metadata": {},
   "source": [
    "##### Mixed Model Standardized Residuals"
   ]
  },
  {
   "cell_type": "markdown",
   "metadata": {},
   "source": [
    "We can also plot the standardized residuals versus the predictors to ensure that there are no patterns in the residuals with respect to any of the predictors."
   ]
  },
  {
   "cell_type": "code",
   "execution_count": 94,
   "metadata": {},
   "outputs": [],
   "source": [
    "def plot_residuals_for_model(m):\n",
    "\n",
    "    residuals = merged_df[['Pain']]\n",
    "    residuals['Residual'] = (m.resid - m.resid.mean()) / m.resid.std()\n",
    "\n",
    "    #plt.subplot(1, 2, 1)\n",
    "    scatter_plot(residuals, 'Pain', 'Residual', 'Residuals vs Pain', hold_plot=True)\n",
    "    #plt.subplot(1, 2, 2)\n",
    "    #scatter_plot(residuals, 'Nutrition', 'Residual', 'Residuals vs Nutrition', hold_plot=True)\n",
    "    #plt.tight_layout()\n",
    "    plt.show()\n"
   ]
  },
  {
   "cell_type": "code",
   "execution_count": 95,
   "metadata": {},
   "outputs": [
    {
     "data": {
      "image/png": "[encoded data removed]",
      "text/plain": [
       "<Figure size 432x288 with 1 Axes>"
      ]
     },
     "metadata": {
      "needs_background": "light"
     },
     "output_type": "display_data"
    }
   ],
   "source": [
    "plot_residuals_for_model(mixed_res)\n"
   ]
  },
  {
   "cell_type": "markdown",
   "metadata": {},
   "source": [
    "##### GEE Standardized Residuals"
   ]
  },
  {
   "cell_type": "code",
   "execution_count": 96,
   "metadata": {},
   "outputs": [
    {
     "data": {
      "image/png": "[encoded data removed]",
      "text/plain": [
       "<Figure size 432x288 with 1 Axes>"
      ]
     },
     "metadata": {
      "needs_background": "light"
     },
     "output_type": "display_data"
    }
   ],
   "source": [
    "plot_residuals_for_model(res)\n"
   ]
  },
  {
   "cell_type": "markdown",
   "metadata": {},
   "source": [
    "We see that there is no pattern in the residuals for either predictor which, taken with the QQ plots is solid evidence that both models are good fits to the data. We can see from the residual plot for Pain that there are more samples in the training set with pain set to 1 over 0. This means more players played without pain than played with pain. This imbalance could explain the unexpected result we got in the model (that not being in pain leads to worse performance). This will be further explored in the coefficient interpretation section below."
   ]
  },
  {
   "cell_type": "markdown",
   "metadata": {},
   "source": [
    "### Coefficient Interpretation"
   ]
  },
  {
   "cell_type": "markdown",
   "metadata": {},
   "source": [
    "Before interpreting the coefficients, we should review the variability of the performance data so we can contextualize the effect sizes of the relationships between the effects and the responses."
   ]
  },
  {
   "cell_type": "code",
   "execution_count": 98,
   "metadata": {},
   "outputs": [
    {
     "data": {
      "text/plain": [
       "0.7763611995236209"
      ]
     },
     "execution_count": 98,
     "metadata": {},
     "output_type": "execute_result"
    }
   ],
   "source": [
    "merged_df['MaxSpeedInGame'].std()"
   ]
  },
  {
   "cell_type": "markdown",
   "metadata": {},
   "source": [
    "We see that the standard deviation of the performance metric is about `0.78`."
   ]
  },
  {
   "cell_type": "markdown",
   "metadata": {},
   "source": [
    "#### Pain"
   ]
  },
  {
   "cell_type": "markdown",
   "metadata": {},
   "source": [
    "Looking at the coefficients of our model above, we see moderately strong evidence that Pain has a negative relationship to performance. The standard error of this estimate is about half of the point estimate itself. Recalling how we coded pain, this is interesting because pain equal to 1 refers to not being in pain. Thus, better wellness with respect to pain is leading to worse performance."
   ]
  },
  {
   "cell_type": "code",
   "execution_count": 99,
   "metadata": {},
   "outputs": [
    {
     "data": {
      "text/html": [
       "<div>\n",
       "<style scoped>\n",
       "    .dataframe tbody tr th:only-of-type {\n",
       "        vertical-align: middle;\n",
       "    }\n",
       "\n",
       "    .dataframe tbody tr th {\n",
       "        vertical-align: top;\n",
       "    }\n",
       "\n",
       "    .dataframe thead th {\n",
       "        text-align: right;\n",
       "    }\n",
       "</style>\n",
       "<table border=\"1\" class=\"dataframe\">\n",
       "  <thead>\n",
       "    <tr style=\"text-align: right;\">\n",
       "      <th></th>\n",
       "      <th>PlayerID</th>\n",
       "      <th>AverageMaxSpeedInGame</th>\n",
       "      <th>ProbabilityOfPlayingNotInPain</th>\n",
       "      <th>GamesPlayedInPain</th>\n",
       "    </tr>\n",
       "  </thead>\n",
       "  <tbody>\n",
       "    <tr>\n",
       "      <th>0</th>\n",
       "      <td>1</td>\n",
       "      <td>7.683961</td>\n",
       "      <td>0.964286</td>\n",
       "      <td>1</td>\n",
       "    </tr>\n",
       "    <tr>\n",
       "      <th>1</th>\n",
       "      <td>2</td>\n",
       "      <td>6.902797</td>\n",
       "      <td>0.685714</td>\n",
       "      <td>11</td>\n",
       "    </tr>\n",
       "    <tr>\n",
       "      <th>2</th>\n",
       "      <td>3</td>\n",
       "      <td>7.230131</td>\n",
       "      <td>1.000000</td>\n",
       "      <td>0</td>\n",
       "    </tr>\n",
       "    <tr>\n",
       "      <th>3</th>\n",
       "      <td>4</td>\n",
       "      <td>6.799333</td>\n",
       "      <td>1.000000</td>\n",
       "      <td>0</td>\n",
       "    </tr>\n",
       "    <tr>\n",
       "      <th>4</th>\n",
       "      <td>5</td>\n",
       "      <td>7.721914</td>\n",
       "      <td>0.714286</td>\n",
       "      <td>8</td>\n",
       "    </tr>\n",
       "    <tr>\n",
       "      <th>5</th>\n",
       "      <td>6</td>\n",
       "      <td>6.511335</td>\n",
       "      <td>1.000000</td>\n",
       "      <td>0</td>\n",
       "    </tr>\n",
       "    <tr>\n",
       "      <th>6</th>\n",
       "      <td>7</td>\n",
       "      <td>7.309137</td>\n",
       "      <td>0.818182</td>\n",
       "      <td>6</td>\n",
       "    </tr>\n",
       "    <tr>\n",
       "      <th>7</th>\n",
       "      <td>8</td>\n",
       "      <td>7.159093</td>\n",
       "      <td>0.818182</td>\n",
       "      <td>6</td>\n",
       "    </tr>\n",
       "    <tr>\n",
       "      <th>8</th>\n",
       "      <td>9</td>\n",
       "      <td>6.931128</td>\n",
       "      <td>1.000000</td>\n",
       "      <td>0</td>\n",
       "    </tr>\n",
       "    <tr>\n",
       "      <th>9</th>\n",
       "      <td>10</td>\n",
       "      <td>7.614805</td>\n",
       "      <td>0.384615</td>\n",
       "      <td>16</td>\n",
       "    </tr>\n",
       "    <tr>\n",
       "      <th>10</th>\n",
       "      <td>11</td>\n",
       "      <td>6.920157</td>\n",
       "      <td>1.000000</td>\n",
       "      <td>0</td>\n",
       "    </tr>\n",
       "    <tr>\n",
       "      <th>11</th>\n",
       "      <td>12</td>\n",
       "      <td>6.215714</td>\n",
       "      <td>1.000000</td>\n",
       "      <td>0</td>\n",
       "    </tr>\n",
       "    <tr>\n",
       "      <th>12</th>\n",
       "      <td>13</td>\n",
       "      <td>6.737886</td>\n",
       "      <td>1.000000</td>\n",
       "      <td>0</td>\n",
       "    </tr>\n",
       "    <tr>\n",
       "      <th>13</th>\n",
       "      <td>14</td>\n",
       "      <td>6.304165</td>\n",
       "      <td>1.000000</td>\n",
       "      <td>0</td>\n",
       "    </tr>\n",
       "    <tr>\n",
       "      <th>14</th>\n",
       "      <td>15</td>\n",
       "      <td>6.434150</td>\n",
       "      <td>1.000000</td>\n",
       "      <td>0</td>\n",
       "    </tr>\n",
       "    <tr>\n",
       "      <th>15</th>\n",
       "      <td>16</td>\n",
       "      <td>6.466877</td>\n",
       "      <td>0.875000</td>\n",
       "      <td>3</td>\n",
       "    </tr>\n",
       "    <tr>\n",
       "      <th>16</th>\n",
       "      <td>17</td>\n",
       "      <td>6.250989</td>\n",
       "      <td>1.000000</td>\n",
       "      <td>0</td>\n",
       "    </tr>\n",
       "  </tbody>\n",
       "</table>\n",
       "</div>"
      ],
      "text/plain": [
       "    PlayerID  AverageMaxSpeedInGame  ProbabilityOfPlayingNotInPain  \\\n",
       "0          1               7.683961                       0.964286   \n",
       "1          2               6.902797                       0.685714   \n",
       "2          3               7.230131                       1.000000   \n",
       "3          4               6.799333                       1.000000   \n",
       "4          5               7.721914                       0.714286   \n",
       "5          6               6.511335                       1.000000   \n",
       "6          7               7.309137                       0.818182   \n",
       "7          8               7.159093                       0.818182   \n",
       "8          9               6.931128                       1.000000   \n",
       "9         10               7.614805                       0.384615   \n",
       "10        11               6.920157                       1.000000   \n",
       "11        12               6.215714                       1.000000   \n",
       "12        13               6.737886                       1.000000   \n",
       "13        14               6.304165                       1.000000   \n",
       "14        15               6.434150                       1.000000   \n",
       "15        16               6.466877                       0.875000   \n",
       "16        17               6.250989                       1.000000   \n",
       "\n",
       "    GamesPlayedInPain  \n",
       "0                   1  \n",
       "1                  11  \n",
       "2                   0  \n",
       "3                   0  \n",
       "4                   8  \n",
       "5                   0  \n",
       "6                   6  \n",
       "7                   6  \n",
       "8                   0  \n",
       "9                  16  \n",
       "10                  0  \n",
       "11                  0  \n",
       "12                  0  \n",
       "13                  0  \n",
       "14                  0  \n",
       "15                  3  \n",
       "16                  0  "
      ]
     },
     "execution_count": 99,
     "metadata": {},
     "output_type": "execute_result"
    }
   ],
   "source": [
    "def find_games_played_in_pain(row):\n",
    "    games = merged_df[merged_df['PlayerID'] == row['PlayerID']]\n",
    "    return len(games[games['Pain'] == 0])\n",
    "\n",
    "averaged_df = merged_df.copy()[['PlayerID', 'MaxSpeedInGame', 'Pain']].groupby('PlayerID').mean().reset_index()\n",
    "averaged_df.columns = ['PlayerID', 'AverageMaxSpeedInGame', 'ProbabilityOfPlayingNotInPain']\n",
    "averaged_df['GamesPlayedInPain'] =  averaged_df.apply(find_games_played_in_pain, axis=1)\n",
    "averaged_df"
   ]
  },
  {
   "cell_type": "markdown",
   "metadata": {},
   "source": [
    "We see that the games played in pain come from a subset of players (2, 5, 7, 8, and 10). These players tended to play a substantial amount of their games in pain and they also tend to be higher performing players on average. In the extreme case, player 10 played most of their games in pain, yet they are one of the fastest players on the team."
   ]
  },
  {
   "cell_type": "markdown",
   "metadata": {},
   "source": [
    "There are many possible reasons for this imbalance. Some players might have different definitions of pain. For example, player 10 might have a more liberal view of pain and marks themselves as in pain often while a player like player 12, who was never in pain while playing, might have a very strict view of pain and must be very hurt to mark themselves as in pain. Alternatively, some players might not be as affected by being in pain and encouraged to play while in pain, while other players who are affected by being in pain are not played while they are hurt."
   ]
  },
  {
   "cell_type": "markdown",
   "metadata": {},
   "source": [
    "This example highlights the selection bias in our dataset. There were some choices that went into which players played a given game so we cannot see the true effect of load and wellness on performance. In other words, we might not see performance issues due to poor wellness because we do not have performance data for instances where wellness was low, since a player with low wellness might not be played. Had we done a controlled experiment where we very different factors of load and wellness and measure subsequent performance, we might be able to find stronger relationships between load, wellness, and performance. Given that many factor of wellness cannot be controlled for an experiment, we could also use data from more controlled performance testing that is completed regardless of the wellness of players so we could see the effect of all different values of wellness on performance."
   ]
  },
  {
   "cell_type": "markdown",
   "metadata": {},
   "source": [
    "Thus, our coefficient for pain is misleading as the pain data in imbalanced because the inevitable instances of poor performance while in pain are missing from the dataset."
   ]
  },
  {
   "cell_type": "markdown",
   "metadata": {},
   "source": [
    "### Conclusions"
   ]
  },
  {
   "cell_type": "markdown",
   "metadata": {},
   "source": [
    "The player's max speed in a game has a lot of variance in it and it is hard to model the relationship between wellness, load, and performance using the data we have. Furthermore, the selection bias present in the data we have on performance makes it hard to draw useful conclusions from our analysis."
   ]
  },
  {
   "cell_type": "markdown",
   "metadata": {},
   "source": [
    "## Effect of Wellness On RPE"
   ]
  },
  {
   "cell_type": "markdown",
   "metadata": {},
   "source": [
    "Now that we have explored the relationships between load and wellness on performance, we want to explore the relationship between wellness and load independent of performance. We will continue to use the same wellness predictors as before, however, for load we will use RPE as the target. This is because we want to see how wellness affected the perceived intensity of workouts."
   ]
  },
  {
   "cell_type": "code",
   "execution_count": 63,
   "metadata": {},
   "outputs": [
    {
     "data": {
      "text/html": [
       "<div>\n",
       "<style scoped>\n",
       "    .dataframe tbody tr th:only-of-type {\n",
       "        vertical-align: middle;\n",
       "    }\n",
       "\n",
       "    .dataframe tbody tr th {\n",
       "        vertical-align: top;\n",
       "    }\n",
       "\n",
       "    .dataframe thead th {\n",
       "        text-align: right;\n",
       "    }\n",
       "</style>\n",
       "<table border=\"1\" class=\"dataframe\">\n",
       "  <thead>\n",
       "    <tr style=\"text-align: right;\">\n",
       "      <th></th>\n",
       "      <th>Date</th>\n",
       "      <th>PlayerID</th>\n",
       "      <th>MonitoringScore</th>\n",
       "      <th>Fatigue</th>\n",
       "      <th>Soreness</th>\n",
       "      <th>Desire</th>\n",
       "      <th>Irritability</th>\n",
       "      <th>SleepHours</th>\n",
       "      <th>SleepQuality</th>\n",
       "      <th>Menstruation</th>\n",
       "      <th>...</th>\n",
       "      <th>TrainingReadiness</th>\n",
       "      <th>StandardizedMonitoringScore</th>\n",
       "      <th>StandardizedPain</th>\n",
       "      <th>StandardizedIllness</th>\n",
       "      <th>StandardizedNutrition</th>\n",
       "      <th>StandardizedMenstruation</th>\n",
       "      <th>StandardizedTrainingReadiness</th>\n",
       "      <th>wellness</th>\n",
       "      <th>WellnessAffectedByLoad</th>\n",
       "      <th>RPE</th>\n",
       "    </tr>\n",
       "  </thead>\n",
       "  <tbody>\n",
       "    <tr>\n",
       "      <th>0</th>\n",
       "      <td>2017-11-30</td>\n",
       "      <td>1</td>\n",
       "      <td>16.0</td>\n",
       "      <td>2.0</td>\n",
       "      <td>3.0</td>\n",
       "      <td>2.0</td>\n",
       "      <td>3.0</td>\n",
       "      <td>9.00</td>\n",
       "      <td>6.0</td>\n",
       "      <td>1.0</td>\n",
       "      <td>...</td>\n",
       "      <td>80.0</td>\n",
       "      <td>-0.639228</td>\n",
       "      <td>0.363863</td>\n",
       "      <td>0.330081</td>\n",
       "      <td>0.716267</td>\n",
       "      <td>0.716267</td>\n",
       "      <td>0.407056</td>\n",
       "      <td>0.770983</td>\n",
       "      <td>1.178039</td>\n",
       "      <td>7.0</td>\n",
       "    </tr>\n",
       "    <tr>\n",
       "      <th>1</th>\n",
       "      <td>2017-11-30</td>\n",
       "      <td>1</td>\n",
       "      <td>16.0</td>\n",
       "      <td>2.0</td>\n",
       "      <td>3.0</td>\n",
       "      <td>2.0</td>\n",
       "      <td>3.0</td>\n",
       "      <td>9.00</td>\n",
       "      <td>6.0</td>\n",
       "      <td>1.0</td>\n",
       "      <td>...</td>\n",
       "      <td>80.0</td>\n",
       "      <td>-0.639228</td>\n",
       "      <td>0.363863</td>\n",
       "      <td>0.330081</td>\n",
       "      <td>0.716267</td>\n",
       "      <td>0.716267</td>\n",
       "      <td>0.407056</td>\n",
       "      <td>0.770983</td>\n",
       "      <td>1.178039</td>\n",
       "      <td>2.0</td>\n",
       "    </tr>\n",
       "    <tr>\n",
       "      <th>2</th>\n",
       "      <td>2017-11-30</td>\n",
       "      <td>1</td>\n",
       "      <td>16.0</td>\n",
       "      <td>2.0</td>\n",
       "      <td>3.0</td>\n",
       "      <td>2.0</td>\n",
       "      <td>3.0</td>\n",
       "      <td>9.00</td>\n",
       "      <td>6.0</td>\n",
       "      <td>1.0</td>\n",
       "      <td>...</td>\n",
       "      <td>80.0</td>\n",
       "      <td>-0.639228</td>\n",
       "      <td>0.363863</td>\n",
       "      <td>0.330081</td>\n",
       "      <td>0.716267</td>\n",
       "      <td>0.716267</td>\n",
       "      <td>0.407056</td>\n",
       "      <td>0.770983</td>\n",
       "      <td>1.178039</td>\n",
       "      <td>4.0</td>\n",
       "    </tr>\n",
       "    <tr>\n",
       "      <th>3</th>\n",
       "      <td>2017-11-30</td>\n",
       "      <td>2</td>\n",
       "      <td>22.0</td>\n",
       "      <td>4.0</td>\n",
       "      <td>4.0</td>\n",
       "      <td>5.0</td>\n",
       "      <td>4.0</td>\n",
       "      <td>8.75</td>\n",
       "      <td>5.0</td>\n",
       "      <td>1.0</td>\n",
       "      <td>...</td>\n",
       "      <td>0.0</td>\n",
       "      <td>0.980185</td>\n",
       "      <td>0.363863</td>\n",
       "      <td>0.330081</td>\n",
       "      <td>0.716267</td>\n",
       "      <td>0.716267</td>\n",
       "      <td>0.407056</td>\n",
       "      <td>2.390396</td>\n",
       "      <td>2.797452</td>\n",
       "      <td>1.0</td>\n",
       "    </tr>\n",
       "    <tr>\n",
       "      <th>4</th>\n",
       "      <td>2017-11-30</td>\n",
       "      <td>2</td>\n",
       "      <td>22.0</td>\n",
       "      <td>4.0</td>\n",
       "      <td>4.0</td>\n",
       "      <td>5.0</td>\n",
       "      <td>4.0</td>\n",
       "      <td>8.75</td>\n",
       "      <td>5.0</td>\n",
       "      <td>1.0</td>\n",
       "      <td>...</td>\n",
       "      <td>0.0</td>\n",
       "      <td>0.980185</td>\n",
       "      <td>0.363863</td>\n",
       "      <td>0.330081</td>\n",
       "      <td>0.716267</td>\n",
       "      <td>0.716267</td>\n",
       "      <td>0.407056</td>\n",
       "      <td>2.390396</td>\n",
       "      <td>2.797452</td>\n",
       "      <td>6.0</td>\n",
       "    </tr>\n",
       "  </tbody>\n",
       "</table>\n",
       "<p>5 rows × 23 columns</p>\n",
       "</div>"
      ],
      "text/plain": [
       "        Date  PlayerID  MonitoringScore  Fatigue  Soreness  Desire  \\\n",
       "0 2017-11-30         1             16.0      2.0       3.0     2.0   \n",
       "1 2017-11-30         1             16.0      2.0       3.0     2.0   \n",
       "2 2017-11-30         1             16.0      2.0       3.0     2.0   \n",
       "3 2017-11-30         2             22.0      4.0       4.0     5.0   \n",
       "4 2017-11-30         2             22.0      4.0       4.0     5.0   \n",
       "\n",
       "   Irritability  SleepHours  SleepQuality  Menstruation  ...  \\\n",
       "0           3.0        9.00           6.0           1.0  ...   \n",
       "1           3.0        9.00           6.0           1.0  ...   \n",
       "2           3.0        9.00           6.0           1.0  ...   \n",
       "3           4.0        8.75           5.0           1.0  ...   \n",
       "4           4.0        8.75           5.0           1.0  ...   \n",
       "\n",
       "   TrainingReadiness  StandardizedMonitoringScore  StandardizedPain  \\\n",
       "0               80.0                    -0.639228          0.363863   \n",
       "1               80.0                    -0.639228          0.363863   \n",
       "2               80.0                    -0.639228          0.363863   \n",
       "3                0.0                     0.980185          0.363863   \n",
       "4                0.0                     0.980185          0.363863   \n",
       "\n",
       "   StandardizedIllness  StandardizedNutrition  StandardizedMenstruation  \\\n",
       "0             0.330081               0.716267                  0.716267   \n",
       "1             0.330081               0.716267                  0.716267   \n",
       "2             0.330081               0.716267                  0.716267   \n",
       "3             0.330081               0.716267                  0.716267   \n",
       "4             0.330081               0.716267                  0.716267   \n",
       "\n",
       "   StandardizedTrainingReadiness  wellness  WellnessAffectedByLoad  RPE  \n",
       "0                       0.407056  0.770983                1.178039  7.0  \n",
       "1                       0.407056  0.770983                1.178039  2.0  \n",
       "2                       0.407056  0.770983                1.178039  4.0  \n",
       "3                       0.407056  2.390396                2.797452  1.0  \n",
       "4                       0.407056  2.390396                2.797452  6.0  \n",
       "\n",
       "[5 rows x 23 columns]"
      ]
     },
     "execution_count": 63,
     "metadata": {},
     "output_type": "execute_result"
    }
   ],
   "source": [
    "raw_rpe['Date'] = pd.to_datetime(raw_rpe['Date'])\n",
    "rpe_wellness = wellness_df.merge(raw_rpe, on=['Date', 'PlayerID'])\n",
    "rpe_wellness = rpe_wellness.dropna()\n",
    "rpe_wellness.head()"
   ]
  },
  {
   "cell_type": "markdown",
   "metadata": {},
   "source": [
    "### Exploratory Analysis"
   ]
  },
  {
   "cell_type": "markdown",
   "metadata": {},
   "source": [
    "Before we get into modeling, we should look at the distribution of the response and see if there are any outliers that would affect our model."
   ]
  },
  {
   "cell_type": "code",
   "execution_count": 64,
   "metadata": {},
   "outputs": [
    {
     "data": {
      "text/plain": [
       "<matplotlib.axes._subplots.AxesSubplot at 0x1c2640e550>"
      ]
     },
     "execution_count": 64,
     "metadata": {},
     "output_type": "execute_result"
    },
    {
     "data": {
      "image/png": "[encoded data removed]",
      "text/plain": [
       "<Figure size 432x288 with 1 Axes>"
      ]
     },
     "metadata": {
      "needs_background": "light"
     },
     "output_type": "display_data"
    }
   ],
   "source": [
    "rpe_wellness['RPE'].hist()"
   ]
  },
  {
   "cell_type": "markdown",
   "metadata": {},
   "source": [
    "### Regression Models"
   ]
  },
  {
   "cell_type": "code",
   "execution_count": 65,
   "metadata": {},
   "outputs": [
    {
     "name": "stdout",
     "output_type": "stream",
     "text": [
      "          Mixed Linear Model Regression Results\n",
      "=========================================================\n",
      "Model:            MixedLM Dependent Variable: RPE        \n",
      "No. Observations: 4822    Method:             REML       \n",
      "No. Groups:       17      Scale:              4.7003     \n",
      "Min. group size:  151     Likelihood:         -10599.7985\n",
      "Max. group size:  452     Converged:          Yes        \n",
      "Mean group size:  283.6                                  \n",
      "----------------------------------------------------------\n",
      "            Coef.  Std.Err.    z     P>|z|  [0.025  0.975]\n",
      "----------------------------------------------------------\n",
      "Intercept   4.292     0.125  34.431  0.000   4.048   4.537\n",
      "wellness    0.031     0.018   1.731  0.083  -0.004   0.065\n",
      "Group Var   0.246     0.043                               \n",
      "=========================================================\n",
      "\n"
     ]
    }
   ],
   "source": [
    "rpe_wellness = rpe_wellness.dropna()\n",
    "mixed_rpe_mod = smf.mixedlm(\"RPE ~ wellness\", rpe_wellness, groups=rpe_wellness['PlayerID'])\n",
    "mixed_rpe_res = mixed_rpe_mod.fit()\n",
    "print(mixed_rpe_res.summary())"
   ]
  },
  {
   "cell_type": "code",
   "execution_count": 66,
   "metadata": {},
   "outputs": [
    {
     "name": "stdout",
     "output_type": "stream",
     "text": [
      "                               GEE Regression Results                              \n",
      "===================================================================================\n",
      "Dep. Variable:                         RPE   No. Observations:                 4822\n",
      "Model:                                 GEE   No. clusters:                       17\n",
      "Method:                        Generalized   Min. cluster size:                 151\n",
      "                      Estimating Equations   Max. cluster size:                 452\n",
      "Family:                           Gaussian   Mean cluster size:               283.6\n",
      "Dependence structure:         Exchangeable   Num. iterations:                     5\n",
      "Date:                     Tue, 10 Dec 2019   Scale:                           4.939\n",
      "Covariance type:                    robust   Time:                         16:44:40\n",
      "==============================================================================\n",
      "                 coef    std err          z      P>|z|      [0.025      0.975]\n",
      "------------------------------------------------------------------------------\n",
      "Intercept      4.2923      0.121     35.350      0.000       4.054       4.530\n",
      "wellness       0.0306      0.020      1.498      0.134      -0.009       0.071\n",
      "==============================================================================\n",
      "Skew:                          0.1339   Kurtosis:                      -0.3845\n",
      "Centered skew:                 0.1977   Centered kurtosis:             -0.2849\n",
      "==============================================================================\n"
     ]
    }
   ],
   "source": [
    "fam = sm.families.Gaussian()\n",
    "ind = sm.cov_struct.Exchangeable()\n",
    "\n",
    "rpe_wellness_gee = smf.gee(\"RPE ~ wellness\", \"PlayerID\", rpe_wellness, cov_struct=ind, family=fam)\n",
    "rpe_wellness_gee_fit = rpe_wellness_gee.fit()\n",
    "print(rpe_wellness_gee_fit.summary())\n"
   ]
  },
  {
   "cell_type": "markdown",
   "metadata": {},
   "source": [
    "We see that the mixed and GEE models above both suggest a small positive relationship between RPE and wellness. If we expand wellness out into the elements that form it, we could find which specific aspects of wellness have a relationship with RPE."
   ]
  },
  {
   "cell_type": "markdown",
   "metadata": {},
   "source": [
    "First, let's fit a mixed linear model using the elements of our wellness score as predictors."
   ]
  },
  {
   "cell_type": "code",
   "execution_count": 67,
   "metadata": {},
   "outputs": [
    {
     "name": "stdout",
     "output_type": "stream",
     "text": [
      "           Mixed Linear Model Regression Results\n",
      "============================================================\n",
      "Model:             MixedLM  Dependent Variable:  RPE        \n",
      "No. Observations:  4822     Method:              REML       \n",
      "No. Groups:        17       Scale:               4.6853     \n",
      "Min. group size:   151      Likelihood:          -10598.9753\n",
      "Max. group size:   452      Converged:           Yes        \n",
      "Mean group size:   283.6                                    \n",
      "------------------------------------------------------------\n",
      "                  Coef.  Std.Err.   z    P>|z| [0.025 0.975]\n",
      "------------------------------------------------------------\n",
      "Intercept          3.531    0.375  9.419 0.000  2.796  4.266\n",
      "MonitoringScore   -0.012    0.011 -1.026 0.305 -0.034  0.011\n",
      "TrainingReadiness  0.005    0.002  3.001 0.003  0.002  0.008\n",
      "Pain               0.261    0.120  2.169 0.030  0.025  0.497\n",
      "Illness           -0.098    0.078 -1.248 0.212 -0.251  0.056\n",
      "Nutrition          0.246    0.079  3.102 0.002  0.090  0.401\n",
      "Group Var          0.198    0.035                           \n",
      "============================================================\n",
      "\n"
     ]
    }
   ],
   "source": [
    "mixed_rpe_mod = smf.mixedlm(\"RPE ~ MonitoringScore + TrainingReadiness + Pain + Illness + Nutrition\", rpe_wellness, groups=rpe_wellness['PlayerID'])\n",
    "mixed_rpe_res = mixed_rpe_mod.fit()\n",
    "print(mixed_rpe_res.summary())\n"
   ]
  },
  {
   "cell_type": "code",
   "execution_count": 68,
   "metadata": {},
   "outputs": [
    {
     "data": {
      "text/plain": [
       "21209.950655156383"
      ]
     },
     "execution_count": 68,
     "metadata": {},
     "output_type": "execute_result"
    }
   ],
   "source": [
    "rpe_aic1 = aic(mixed_rpe_res.llf, 4822, 6)\n",
    "rpe_aic1"
   ]
  },
  {
   "cell_type": "markdown",
   "metadata": {},
   "source": [
    "We see that the AIC is much larger than our previous model of performance. Modeling RPE in this was is losing a lot of information but we can still use regression to explore the relationship between RPE and the elements of wellness even if this model will not have a lot of predictive power."
   ]
  },
  {
   "cell_type": "markdown",
   "metadata": {},
   "source": [
    "Looking at the coefficients of the model above, we see that the standard error of the monitoring score estimate is equally as large in magnitiude as the point estimate itself. It very well could be the case that this coefficient should actually be 0 or positive so we can try removing it from our model as the data cannot tell us anything conclsive about the relationship between the monitoring score and RPE."
   ]
  },
  {
   "cell_type": "code",
   "execution_count": 69,
   "metadata": {},
   "outputs": [
    {
     "name": "stdout",
     "output_type": "stream",
     "text": [
      "           Mixed Linear Model Regression Results\n",
      "============================================================\n",
      "Model:             MixedLM  Dependent Variable:  RPE        \n",
      "No. Observations:  4822     Method:              REML       \n",
      "No. Groups:        17       Scale:               4.6852     \n",
      "Min. group size:   151      Likelihood:          -10595.9467\n",
      "Max. group size:   452      Converged:           Yes        \n",
      "Mean group size:   283.6                                    \n",
      "------------------------------------------------------------\n",
      "                  Coef.  Std.Err.   z    P>|z| [0.025 0.975]\n",
      "------------------------------------------------------------\n",
      "Intercept          3.375    0.343  9.836 0.000  2.703  4.048\n",
      "TrainingReadiness  0.005    0.002  2.843 0.004  0.001  0.008\n",
      "Pain               0.250    0.120  2.083 0.037  0.015  0.484\n",
      "Illness           -0.106    0.078 -1.353 0.176 -0.258  0.047\n",
      "Nutrition          0.247    0.079  3.123 0.002  0.092  0.402\n",
      "Group Var          0.200    0.036                           \n",
      "============================================================\n",
      "\n"
     ]
    }
   ],
   "source": [
    "mixed_rpe_mod = smf.mixedlm(\"RPE ~ TrainingReadiness + Pain + Illness + Nutrition\", rpe_wellness, groups=rpe_wellness['PlayerID'])\n",
    "mixed_rpe_res = mixed_rpe_mod.fit()\n",
    "print(mixed_rpe_res.summary())"
   ]
  },
  {
   "cell_type": "code",
   "execution_count": 70,
   "metadata": {},
   "outputs": [
    {
     "data": {
      "text/plain": [
       "21201.89338955828"
      ]
     },
     "execution_count": 70,
     "metadata": {},
     "output_type": "execute_result"
    }
   ],
   "source": [
    "rpe_aic2 = aic(mixed_rpe_res.llf, 4822, 5)\n",
    "rpe_aic2"
   ]
  },
  {
   "cell_type": "code",
   "execution_count": 71,
   "metadata": {},
   "outputs": [
    {
     "data": {
      "text/plain": [
       "0.017798647654249256"
      ]
     },
     "execution_count": 71,
     "metadata": {},
     "output_type": "execute_result"
    }
   ],
   "source": [
    "np.exp((rpe_aic2 - rpe_aic1)/2)"
   ]
  },
  {
   "cell_type": "markdown",
   "metadata": {},
   "source": [
    "Our model with monitoring score removed loses much less data, with the first model only about 0.016 times as likely as the second model to minimize the information loss. Thus, we can confidently say the second model is better than the first."
   ]
  },
  {
   "cell_type": "markdown",
   "metadata": {},
   "source": [
    "Looking at the coefficient for illness, the standard error is close to the point estimate so we might be tempted to remove this predictor as the true value of the predictor may be closer to 0 or might even be positive."
   ]
  },
  {
   "cell_type": "code",
   "execution_count": 72,
   "metadata": {},
   "outputs": [
    {
     "name": "stdout",
     "output_type": "stream",
     "text": [
      "           Mixed Linear Model Regression Results\n",
      "===========================================================\n",
      "Model:              MixedLM Dependent Variable: RPE        \n",
      "No. Observations:   4822    Method:             REML       \n",
      "No. Groups:         17      Scale:              4.6860     \n",
      "Min. group size:    151     Likelihood:         -10595.2298\n",
      "Max. group size:    452     Converged:          Yes        \n",
      "Mean group size:    283.6                                  \n",
      "-----------------------------------------------------------\n",
      "                  Coef. Std.Err.   z    P>|z| [0.025 0.975]\n",
      "-----------------------------------------------------------\n",
      "Intercept         3.102    0.277 11.187 0.000  2.558  3.645\n",
      "TrainingReadiness 0.004    0.002  2.718 0.007  0.001  0.007\n",
      "Pain              0.247    0.120  2.062 0.039  0.012  0.482\n",
      "Nutrition         0.244    0.079  3.087 0.002  0.089  0.399\n",
      "Group Var         0.200    0.036                           \n",
      "===========================================================\n",
      "\n"
     ]
    }
   ],
   "source": [
    "mixed_rpe_mod = smf.mixedlm(\"RPE ~ TrainingReadiness + Pain + Nutrition\", rpe_wellness, groups=rpe_wellness['PlayerID'])\n",
    "mixed_rpe_res = mixed_rpe_mod.fit()\n",
    "print(mixed_rpe_res.summary())"
   ]
  },
  {
   "cell_type": "code",
   "execution_count": 73,
   "metadata": {},
   "outputs": [
    {
     "data": {
      "text/plain": [
       "21200.459651031204"
      ]
     },
     "execution_count": 73,
     "metadata": {},
     "output_type": "execute_result"
    }
   ],
   "source": [
    "rpe_aic3 = aic(mixed_rpe_res.llf, 4822, 5)\n",
    "rpe_aic3"
   ]
  },
  {
   "cell_type": "code",
   "execution_count": 74,
   "metadata": {},
   "outputs": [
    {
     "data": {
      "text/plain": [
       "0.4882785369404368"
      ]
     },
     "execution_count": 74,
     "metadata": {},
     "output_type": "execute_result"
    }
   ],
   "source": [
    "np.exp((rpe_aic3 - rpe_aic2)/2)"
   ]
  },
  {
   "cell_type": "markdown",
   "metadata": {},
   "source": [
    "The model without illness is not that much better than the model that includes illness. In fact, the model that includes illness is about 0.48 times as likily as the model without illness to minimize information loss. Thus, we don't have enought evidence to discount the model with illness and we need to value its coefficient estimates as well."
   ]
  },
  {
   "cell_type": "markdown",
   "metadata": {},
   "source": [
    "As with previous regressions, we will train a GEE model as well to see if we get similar coefficients. Note that we will include illness as a predictor because removing it did not result in a much better mixed linear model so there is evidence that it is a valuable predictor."
   ]
  },
  {
   "cell_type": "code",
   "execution_count": 75,
   "metadata": {},
   "outputs": [
    {
     "name": "stdout",
     "output_type": "stream",
     "text": [
      "                               GEE Regression Results                              \n",
      "===================================================================================\n",
      "Dep. Variable:                         RPE   No. Observations:                 4822\n",
      "Model:                                 GEE   No. clusters:                       17\n",
      "Method:                        Generalized   Min. cluster size:                 151\n",
      "                      Estimating Equations   Max. cluster size:                 452\n",
      "Family:                           Gaussian   Mean cluster size:               283.6\n",
      "Dependence structure:         Exchangeable   Num. iterations:                     5\n",
      "Date:                     Tue, 10 Dec 2019   Scale:                           4.884\n",
      "Covariance type:                    robust   Time:                         16:44:40\n",
      "=====================================================================================\n",
      "                        coef    std err          z      P>|z|      [0.025      0.975]\n",
      "-------------------------------------------------------------------------------------\n",
      "Intercept             3.3783      0.400      8.451      0.000       2.595       4.162\n",
      "TrainingReadiness     0.0045      0.001      3.498      0.000       0.002       0.007\n",
      "Pain                  0.2498      0.069      3.601      0.000       0.114       0.386\n",
      "Illness              -0.1055      0.083     -1.277      0.202      -0.267       0.056\n",
      "Nutrition             0.2467      0.106      2.329      0.020       0.039       0.454\n",
      "==============================================================================\n",
      "Skew:                          0.1063   Kurtosis:                      -0.3260\n",
      "Centered skew:                 0.1944   Centered kurtosis:             -0.2785\n",
      "==============================================================================\n"
     ]
    }
   ],
   "source": [
    "rpe_wellness_gee = smf.gee(\"RPE ~ TrainingReadiness + Pain + Illness + Nutrition\", \"PlayerID\", rpe_wellness, cov_struct=ind, family=fam)\n",
    "rpe_wellness_gee_fit = rpe_wellness_gee.fit()\n",
    "print(rpe_wellness_gee_fit.summary())\n"
   ]
  },
  {
   "cell_type": "markdown",
   "metadata": {},
   "source": [
    "### Test Model Fit"
   ]
  },
  {
   "cell_type": "markdown",
   "metadata": {},
   "source": [
    "We will test the model fit using residual plots and QQ plots as previously done in this notebook."
   ]
  },
  {
   "cell_type": "markdown",
   "metadata": {},
   "source": [
    "#### QQ Plots For Mixed Model"
   ]
  },
  {
   "cell_type": "code",
   "execution_count": 76,
   "metadata": {},
   "outputs": [
    {
     "data": {
      "image/png": "[encoded data removed]",
      "text/plain": [
       "<Figure size 432x288 with 1 Axes>"
      ]
     },
     "metadata": {
      "needs_background": "light"
     },
     "output_type": "display_data"
    }
   ],
   "source": [
    "qqplot(mixed_rpe_res.resid, line='s')\n",
    "plt.title('QQ Plot for Mixed Model')\n",
    "plt.show()"
   ]
  },
  {
   "cell_type": "markdown",
   "metadata": {},
   "source": [
    "#### QQ Plots for GEE Model"
   ]
  },
  {
   "cell_type": "code",
   "execution_count": 77,
   "metadata": {},
   "outputs": [
    {
     "data": {
      "image/png": "[encoded data removed]",
      "text/plain": [
       "<Figure size 432x288 with 1 Axes>"
      ]
     },
     "metadata": {
      "needs_background": "light"
     },
     "output_type": "display_data"
    }
   ],
   "source": [
    "qqplot(rpe_wellness_gee_fit.resid, line='s')\n",
    "plt.title('QQ Plot for Mixed Model')\n",
    "plt.show()"
   ]
  },
  {
   "cell_type": "markdown",
   "metadata": {},
   "source": [
    "We see from the QQ plots above that the residuals are not quite normally distributed, with the issue occuring at the extreme values of the residuals. This would be more of an issue if we were interested in predicting RPE but for our exploratory analysis, the slight non-normality of the residuals should not be too much of an issue."
   ]
  },
  {
   "cell_type": "code",
   "execution_count": 78,
   "metadata": {},
   "outputs": [
    {
     "ename": "NameError",
     "evalue": "name 'rpe_wellness_mixed_fit' is not defined",
     "output_type": "error",
     "traceback": [
      "\u001b[0;31m---------------------------------------------------------------------------\u001b[0m",
      "\u001b[0;31mNameError\u001b[0m                                 Traceback (most recent call last)",
      "\u001b[0;32m<ipython-input-78-59378cf970a5>\u001b[0m in \u001b[0;36m<module>\u001b[0;34m\u001b[0m\n\u001b[0;32m----> 1\u001b[0;31m \u001b[0mpre_wellness_predictions\u001b[0m \u001b[0;34m=\u001b[0m \u001b[0mrpe_wellness_mixed_fit\u001b[0m\u001b[0;34m.\u001b[0m\u001b[0mpredict\u001b[0m\u001b[0;34m(\u001b[0m\u001b[0;34m)\u001b[0m\u001b[0;34m\u001b[0m\u001b[0;34m\u001b[0m\u001b[0m\n\u001b[0m\u001b[1;32m      2\u001b[0m \u001b[0mresidual_df\u001b[0m \u001b[0;34m=\u001b[0m \u001b[0mmodel_rpe_wellness\u001b[0m\u001b[0;34m.\u001b[0m\u001b[0mcopy\u001b[0m\u001b[0;34m(\u001b[0m\u001b[0;34m)\u001b[0m\u001b[0;34m[\u001b[0m\u001b[0;34m[\u001b[0m\u001b[0;34m'MonitoringScore'\u001b[0m\u001b[0;34m,\u001b[0m \u001b[0;34m'TrainingReadiness'\u001b[0m\u001b[0;34m,\u001b[0m \u001b[0;34m'Illness'\u001b[0m\u001b[0;34m,\u001b[0m \u001b[0;34m'Pain'\u001b[0m\u001b[0;34m,\u001b[0m \u001b[0;34m'Nutrition'\u001b[0m\u001b[0;34m,\u001b[0m \u001b[0;34m'RPE'\u001b[0m\u001b[0;34m]\u001b[0m\u001b[0;34m]\u001b[0m\u001b[0;34m\u001b[0m\u001b[0;34m\u001b[0m\u001b[0m\n\u001b[1;32m      3\u001b[0m \u001b[0mresidual_df\u001b[0m\u001b[0;34m[\u001b[0m\u001b[0;34m'Prediction'\u001b[0m\u001b[0;34m]\u001b[0m \u001b[0;34m=\u001b[0m \u001b[0mpre_wellness_predictions\u001b[0m\u001b[0;34m\u001b[0m\u001b[0;34m\u001b[0m\u001b[0m\n\u001b[1;32m      4\u001b[0m \u001b[0mresidual_df\u001b[0m\u001b[0;34m[\u001b[0m\u001b[0;34m'Residuals'\u001b[0m\u001b[0;34m]\u001b[0m \u001b[0;34m=\u001b[0m \u001b[0mresidual_df\u001b[0m\u001b[0;34m[\u001b[0m\u001b[0;34m'RPE'\u001b[0m\u001b[0;34m]\u001b[0m \u001b[0;34m-\u001b[0m \u001b[0mresidual_df\u001b[0m\u001b[0;34m[\u001b[0m\u001b[0;34m'Prediction'\u001b[0m\u001b[0;34m]\u001b[0m\u001b[0;34m\u001b[0m\u001b[0;34m\u001b[0m\u001b[0m\n\u001b[1;32m      5\u001b[0m \u001b[0mresidual_df\u001b[0m\u001b[0;34m.\u001b[0m\u001b[0mhead\u001b[0m\u001b[0;34m(\u001b[0m\u001b[0;34m)\u001b[0m\u001b[0;34m\u001b[0m\u001b[0;34m\u001b[0m\u001b[0m\n",
      "\u001b[0;31mNameError\u001b[0m: name 'rpe_wellness_mixed_fit' is not defined"
     ]
    }
   ],
   "source": [
    "pre_wellness_predictions = rpe_wellness_mixed_fit.predict()\n",
    "residual_df = model_rpe_wellness.copy()[['MonitoringScore', 'TrainingReadiness', 'Illness', 'Pain', 'Nutrition', 'RPE']]\n",
    "residual_df['Prediction'] = pre_wellness_predictions\n",
    "residual_df['Residuals'] = residual_df['RPE'] - residual_df['Prediction']\n",
    "residual_df.head()\n"
   ]
  },
  {
   "cell_type": "code",
   "execution_count": null,
   "metadata": {},
   "outputs": [],
   "source": [
    "scatter_plot(residual_df, 'MonitoringScore', 'Residuals', 'Residuals VS Monitoring Score')"
   ]
  },
  {
   "cell_type": "markdown",
   "metadata": {},
   "source": [
    "## Performance vs Training load graphs per player"
   ]
  },
  {
   "cell_type": "code",
   "execution_count": null,
   "metadata": {},
   "outputs": [],
   "source": [
    "grouped = merged_df.copy().groupby('PlayerID')\n",
    "\n",
    "for name,group in grouped:\n",
    "    fig = plt.figure(figsize=(12,3))\n",
    "    ax1 = fig.add_subplot(121)\n",
    "\n",
    "    group.plot.bar(ax=ax1, color='red',x=\"GameID\",y=\"MaxSpeedInGame\")\n",
    "    ax1.set_ylabel('MaxSpeedInGame')\n",
    "    ax3 = ax1.twinx()\n",
    "    group.plot.bar(ax=ax3, color='blue',x=\"GameID\",y=\"AcuteChronicRatio\",fill=False)\n",
    "\n",
    "    ax1.set_title('Player ' + str(name), fontsize=15)\n",
    "    ax2 = fig.add_subplot(122)\n",
    "    group.plot.bar(ax=ax2, color='green',x=\"GameID\",y=\"MaxAccelImpulseInGame\")\n",
    "    ax2.set_ylabel('MaxAccelImpulseInGame')\n",
    "    ax4 = ax2.twinx()\n",
    "    group.plot.bar(ax=ax4, color='blue',\n",
    "                    x='GameID',\n",
    "                    y=\"AcuteChronicRatio\",fill=False)\n",
    "\n",
    "    ax2.set_title('Player ' + str(name), fontsize=15)\n",
    "\n",
    "plt.show()\n",
    "plt.close()"
   ]
  },
  {
   "cell_type": "markdown",
   "metadata": {},
   "source": [
    "## Performance vs Training load graphs for each game for all players"
   ]
  },
  {
   "cell_type": "code",
   "execution_count": null,
   "metadata": {},
   "outputs": [],
   "source": [
    "grouped_by_game = merged_df.copy().groupby(['GameID','Outcome','TeamPoints'])\n",
    "\n",
    "for name,group in grouped_by_game:\n",
    "    fig = plt.figure(figsize=(12,3))\n",
    "    ax1 = fig.add_subplot(121)\n",
    "\n",
    "    group.plot.bar(ax=ax1, color='blue',x=\"PlayerID\",y=\"MaxSpeedInGame\")\n",
    "    ax1.set_ylabel('MaxSpeedInGame')\n",
    "    ax1.set_title('Game ' + str(name[0])+ \n",
    "                  ' Outcome: ' + str(name[1]) + \n",
    "                  ' Points: ' + str(name[2]), fontsize=15)\n",
    "    ax3 = ax1.twinx()\n",
    "    group.plot.bar(ax=ax3, color='red',\n",
    "                    x='PlayerID',\n",
    "                    y=\"AcuteLoad\",fill=False)\n",
    "    ax2 = fig.add_subplot(122)\n",
    "    group.plot.bar(ax=ax2, color='green',x=\"PlayerID\",y=\"MaxAccelImpulseInGame\")\n",
    "    ax2.set_ylabel('MaxAccelImpulseInGame')\n",
    "    ax2.set_title('Game ' + str(name[0])+ \n",
    "                  ' Outcome: ' + str(name[1]) + \n",
    "                  ' Points: ' + str(name[2]), fontsize=15)\n",
    "    ax4 = ax2.twinx()\n",
    "    group.plot.bar(ax=ax4, color='red',\n",
    "                    x='PlayerID',\n",
    "                    y=\"AcuteLoad\",fill=False)\n",
    "\n",
    "plt.show()\n",
    "plt.close()"
   ]
  },
  {
   "cell_type": "markdown",
   "metadata": {},
   "source": [
    "## Performance vs wellness graphs per player"
   ]
  },
  {
   "cell_type": "code",
   "execution_count": null,
   "metadata": {},
   "outputs": [],
   "source": [
    "grouped = merged_df.copy().groupby('PlayerID')\n",
    "\n",
    "for name,group in grouped:\n",
    "    fig = plt.figure(figsize=(12,3))\n",
    "    ax1 = fig.add_subplot(121)\n",
    "\n",
    "    group.plot.bar(ax=ax1, color='red',x=\"GameID\",y=\"MaxSpeedInGame\")\n",
    "    ax1.set_ylabel('MaxSpeedInGame')\n",
    "    ax3 = ax1.twinx()\n",
    "    group.plot.bar(ax=ax3, color='blue',x=\"GameID\",y=\"wellness\",fill=False)\n",
    "    ax3.set_ylabel('wellness')\n",
    "    ax1.set_title('Player ' + str(name), fontsize=15)\n",
    "\n",
    "\n",
    "\n",
    "plt.show()\n",
    "plt.close()"
   ]
  },
  {
   "cell_type": "markdown",
   "metadata": {},
   "source": [
    "## Performance vs wellness and nutrition load graphs for each game for all players"
   ]
  },
  {
   "cell_type": "code",
   "execution_count": null,
   "metadata": {},
   "outputs": [],
   "source": [
    "grouped_by_game = merged_df.copy().groupby(['GameID','Outcome','TeamPoints'])\n",
    "\n",
    "for name,group in grouped_by_game:\n",
    "    fig = plt.figure(figsize=(12,3))\n",
    "    ax1 = fig.add_subplot(121)\n",
    "\n",
    "    group.plot.bar(ax=ax1, color='blue',x=\"PlayerID\",y=\"MaxSpeedInGame\")\n",
    "    ax1.set_ylabel('MaxSpeedInGame')\n",
    "    ax1.set_title('Game ' + str(name[0])+ \n",
    "                  ' Outcome: ' + str(name[1]) + \n",
    "                  ' Points: ' + str(name[2]), fontsize=15)\n",
    "    ax3 = ax1.twinx()\n",
    "    group.plot.bar(ax=ax3, color='red',\n",
    "                    x='PlayerID',\n",
    "                    y=\"wellness\",fill=False)\n",
    "    ax2 = fig.add_subplot(122)\n",
    "    group.plot.bar(ax=ax2, color='green',x=\"PlayerID\",y=\"MaxSpeedInGame\")\n",
    "    ax2.set_ylabel('MaxSpeedInGame')\n",
    "    ax2.set_title('Game ' + str(name[0])+ \n",
    "                  ' Outcome: ' + str(name[1]) + \n",
    "                  ' Points: ' + str(name[2]), fontsize=15)\n",
    "    ax4 = ax2.twinx()\n",
    "    group.plot.bar(ax=ax4, color='red',\n",
    "                    x='PlayerID',\n",
    "                    y=\"Nutrition\",fill=False)\n",
    "\n",
    "plt.show()\n",
    "plt.close()"
   ]
  },
  {
   "cell_type": "markdown",
   "metadata": {},
   "source": [
    "Unfortunately there is no special relationship between the clusters for prformance, training and wellness."
   ]
  },
  {
   "cell_type": "markdown",
   "metadata": {},
   "source": [
    "## Conslusions"
   ]
  },
  {
   "cell_type": "markdown",
   "metadata": {},
   "source": [
    "Mention final conclusions for the coach based on this data."
   ]
  }
 ],
 "metadata": {
  "kernelspec": {
   "display_name": "Python 3",
   "language": "python",
   "name": "python3"
  },
  "language_info": {
   "codemirror_mode": {
    "name": "ipython",
    "version": 3
   },
   "file_extension": ".py",
   "mimetype": "text/x-python",
   "name": "python",
   "nbconvert_exporter": "python",
   "pygments_lexer": "ipython3",
   "version": "3.7.3"
  }
 },
 "nbformat": 4,
 "nbformat_minor": 2
}
