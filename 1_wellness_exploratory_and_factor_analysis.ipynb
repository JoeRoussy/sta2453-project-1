{
 "cells": [
  {
   "cell_type": "markdown",
   "metadata": {},
   "source": [
    "# Exploratory Analysis On Wellness Data"
   ]
  },
  {
   "cell_type": "markdown",
   "metadata": {},
   "source": [
    "In this notebook, we will explore the wellness data with the goal of finding a summary measure for wellness. This will let us explore the relationship between wellness, training load, and performance."
   ]
  },
  {
   "cell_type": "markdown",
   "metadata": {},
   "source": [
    "## Install Unusual Packages"
   ]
  },
  {
   "cell_type": "markdown",
   "metadata": {},
   "source": [
    "We use some non-standard packages in our analysis so we want to make sure those packages are installed on the machine running these notebooks. Note that we assume the use on anaconda to run the notebooks so we install packages using `conda`. If you would rather install packages using `pip`, replace the commands below with something of the form: `!{sys.executable} -m pip install <package_name>`."
   ]
  },
  {
   "cell_type": "code",
   "execution_count": 1,
   "metadata": {},
   "outputs": [
    {
     "name": "stdout",
     "output_type": "stream",
     "text": [
      "Collecting package metadata (current_repodata.json): done\n",
      "Solving environment: done\n",
      "\n",
      "# All requested packages already installed.\n",
      "\n",
      "Collecting package metadata (current_repodata.json): done\n",
      "Solving environment: done\n",
      "\n",
      "# All requested packages already installed.\n",
      "\n"
     ]
    }
   ],
   "source": [
    "import sys\n",
    "!conda install -c desilinguist --yes --prefix {sys.prefix} factor_analyzer\n",
    "!conda install --yes --prefix {sys.prefix} pingouin"
   ]
  },
  {
   "cell_type": "code",
   "execution_count": 2,
   "metadata": {},
   "outputs": [],
   "source": [
    "import os\n",
    "import warnings\n",
    "import pandas as pd\n",
    "import numpy as np\n",
    "from factor_analyzer import FactorAnalyzer\n",
    "from factor_analyzer.factor_analyzer import calculate_bartlett_sphericity, calculate_kmo\n",
    "from scipy.stats import pointbiserialr, ttest_ind, ttest_rel\n",
    "import matplotlib.pyplot as plt\n",
    "import pingouin as pg\n",
    "from sklearn.decomposition import PCA\n",
    "from sklearn.preprocessing import StandardScaler\n",
    "\n",
    "warnings.filterwarnings('ignore')\n",
    "np.random.seed(5151)"
   ]
  },
  {
   "cell_type": "markdown",
   "metadata": {},
   "source": [
    "## Ensure Processed Data Folder Exists"
   ]
  },
  {
   "cell_type": "markdown",
   "metadata": {},
   "source": [
    "Since this is the first notebook to be ran, we must create the processed data folder if it is not present."
   ]
  },
  {
   "cell_type": "code",
   "execution_count": 3,
   "metadata": {},
   "outputs": [],
   "source": [
    "if not os.path.exists('processed_data'):\n",
    "    os.makedirs('processed_data')"
   ]
  },
  {
   "cell_type": "markdown",
   "metadata": {},
   "source": [
    "## Load Data"
   ]
  },
  {
   "cell_type": "code",
   "execution_count": 4,
   "metadata": {},
   "outputs": [
    {
     "data": {
      "text/html": [
       "<div>\n",
       "<style scoped>\n",
       "    .dataframe tbody tr th:only-of-type {\n",
       "        vertical-align: middle;\n",
       "    }\n",
       "\n",
       "    .dataframe tbody tr th {\n",
       "        vertical-align: top;\n",
       "    }\n",
       "\n",
       "    .dataframe thead th {\n",
       "        text-align: right;\n",
       "    }\n",
       "</style>\n",
       "<table border=\"1\" class=\"dataframe\">\n",
       "  <thead>\n",
       "    <tr style=\"text-align: right;\">\n",
       "      <th></th>\n",
       "      <th>Date</th>\n",
       "      <th>PlayerID</th>\n",
       "      <th>Fatigue</th>\n",
       "      <th>Soreness</th>\n",
       "      <th>Desire</th>\n",
       "      <th>Irritability</th>\n",
       "      <th>BedTime</th>\n",
       "      <th>WakeTime</th>\n",
       "      <th>SleepHours</th>\n",
       "      <th>SleepQuality</th>\n",
       "      <th>MonitoringScore</th>\n",
       "      <th>Pain</th>\n",
       "      <th>Illness</th>\n",
       "      <th>Menstruation</th>\n",
       "      <th>Nutrition</th>\n",
       "      <th>NutritionAdjustment</th>\n",
       "      <th>USGMeasurement</th>\n",
       "      <th>USG</th>\n",
       "      <th>TrainingReadiness</th>\n",
       "    </tr>\n",
       "  </thead>\n",
       "  <tbody>\n",
       "    <tr>\n",
       "      <th>0</th>\n",
       "      <td>2018-07-21</td>\n",
       "      <td>1</td>\n",
       "      <td>3</td>\n",
       "      <td>3</td>\n",
       "      <td>2</td>\n",
       "      <td>3</td>\n",
       "      <td>23:00:00</td>\n",
       "      <td>07:00:00</td>\n",
       "      <td>8.00</td>\n",
       "      <td>2</td>\n",
       "      <td>13</td>\n",
       "      <td>No</td>\n",
       "      <td>No</td>\n",
       "      <td>Yes</td>\n",
       "      <td>Excellent</td>\n",
       "      <td>Yes</td>\n",
       "      <td>No</td>\n",
       "      <td>NaN</td>\n",
       "      <td>0%</td>\n",
       "    </tr>\n",
       "    <tr>\n",
       "      <th>1</th>\n",
       "      <td>2018-07-21</td>\n",
       "      <td>2</td>\n",
       "      <td>4</td>\n",
       "      <td>3</td>\n",
       "      <td>4</td>\n",
       "      <td>4</td>\n",
       "      <td>23:00:00</td>\n",
       "      <td>07:00:00</td>\n",
       "      <td>8.00</td>\n",
       "      <td>4</td>\n",
       "      <td>19</td>\n",
       "      <td>Yes</td>\n",
       "      <td>No</td>\n",
       "      <td>Yes</td>\n",
       "      <td>NaN</td>\n",
       "      <td>NaN</td>\n",
       "      <td>Yes</td>\n",
       "      <td>1.010</td>\n",
       "      <td>0%</td>\n",
       "    </tr>\n",
       "    <tr>\n",
       "      <th>2</th>\n",
       "      <td>2018-07-21</td>\n",
       "      <td>3</td>\n",
       "      <td>3</td>\n",
       "      <td>3</td>\n",
       "      <td>5</td>\n",
       "      <td>4</td>\n",
       "      <td>22:30:00</td>\n",
       "      <td>06:30:00</td>\n",
       "      <td>8.00</td>\n",
       "      <td>4</td>\n",
       "      <td>19</td>\n",
       "      <td>No</td>\n",
       "      <td>No</td>\n",
       "      <td>No</td>\n",
       "      <td>NaN</td>\n",
       "      <td>NaN</td>\n",
       "      <td>Yes</td>\n",
       "      <td>1.016</td>\n",
       "      <td>100%</td>\n",
       "    </tr>\n",
       "    <tr>\n",
       "      <th>3</th>\n",
       "      <td>2018-07-21</td>\n",
       "      <td>4</td>\n",
       "      <td>2</td>\n",
       "      <td>3</td>\n",
       "      <td>5</td>\n",
       "      <td>4</td>\n",
       "      <td>00:30:00</td>\n",
       "      <td>07:00:00</td>\n",
       "      <td>6.50</td>\n",
       "      <td>1</td>\n",
       "      <td>15</td>\n",
       "      <td>No</td>\n",
       "      <td>No</td>\n",
       "      <td>Yes</td>\n",
       "      <td>Excellent</td>\n",
       "      <td>Yes</td>\n",
       "      <td>Yes</td>\n",
       "      <td>1.025</td>\n",
       "      <td>95%</td>\n",
       "    </tr>\n",
       "    <tr>\n",
       "      <th>4</th>\n",
       "      <td>2018-07-21</td>\n",
       "      <td>5</td>\n",
       "      <td>5</td>\n",
       "      <td>3</td>\n",
       "      <td>4</td>\n",
       "      <td>4</td>\n",
       "      <td>23:45:00</td>\n",
       "      <td>07:00:00</td>\n",
       "      <td>7.25</td>\n",
       "      <td>4</td>\n",
       "      <td>20</td>\n",
       "      <td>No</td>\n",
       "      <td>No</td>\n",
       "      <td>No</td>\n",
       "      <td>Okay</td>\n",
       "      <td>Yes</td>\n",
       "      <td>Yes</td>\n",
       "      <td>1.022</td>\n",
       "      <td>100%</td>\n",
       "    </tr>\n",
       "  </tbody>\n",
       "</table>\n",
       "</div>"
      ],
      "text/plain": [
       "         Date  PlayerID  Fatigue  Soreness  Desire  Irritability   BedTime  \\\n",
       "0  2018-07-21         1        3         3       2             3  23:00:00   \n",
       "1  2018-07-21         2        4         3       4             4  23:00:00   \n",
       "2  2018-07-21         3        3         3       5             4  22:30:00   \n",
       "3  2018-07-21         4        2         3       5             4  00:30:00   \n",
       "4  2018-07-21         5        5         3       4             4  23:45:00   \n",
       "\n",
       "   WakeTime  SleepHours  SleepQuality  MonitoringScore Pain Illness  \\\n",
       "0  07:00:00        8.00             2               13   No      No   \n",
       "1  07:00:00        8.00             4               19  Yes      No   \n",
       "2  06:30:00        8.00             4               19   No      No   \n",
       "3  07:00:00        6.50             1               15   No      No   \n",
       "4  07:00:00        7.25             4               20   No      No   \n",
       "\n",
       "  Menstruation  Nutrition NutritionAdjustment USGMeasurement    USG  \\\n",
       "0          Yes  Excellent                 Yes             No    NaN   \n",
       "1          Yes        NaN                 NaN            Yes  1.010   \n",
       "2           No        NaN                 NaN            Yes  1.016   \n",
       "3          Yes  Excellent                 Yes            Yes  1.025   \n",
       "4           No       Okay                 Yes            Yes  1.022   \n",
       "\n",
       "  TrainingReadiness  \n",
       "0                0%  \n",
       "1                0%  \n",
       "2              100%  \n",
       "3               95%  \n",
       "4              100%  "
      ]
     },
     "execution_count": 4,
     "metadata": {},
     "output_type": "execute_result"
    }
   ],
   "source": [
    "wellness_df = pd.read_csv('https://www.dropbox.com/s/170bc3dimgn8ru8/wellness.csv?dl=1')\n",
    "wellness_df.head()\n"
   ]
  },
  {
   "cell_type": "code",
   "execution_count": 5,
   "metadata": {},
   "outputs": [
    {
     "data": {
      "text/plain": [
       "(5011, 19)"
      ]
     },
     "execution_count": 5,
     "metadata": {},
     "output_type": "execute_result"
    }
   ],
   "source": [
    "wellness_df.shape"
   ]
  },
  {
   "cell_type": "markdown",
   "metadata": {},
   "source": [
    "To start with, we have 5011 wellness observations."
   ]
  },
  {
   "cell_type": "markdown",
   "metadata": {},
   "source": [
    "## Cleaning and Visualizing Data"
   ]
  },
  {
   "cell_type": "code",
   "execution_count": 6,
   "metadata": {},
   "outputs": [],
   "source": [
    "def plot_histogram(column_name):\n",
    "    plt.bar(np.sort(wellness_df[column_name].unique()), wellness_df[column_name].value_counts().sort_index())\n",
    "    plt.title('Distribution of {}'.format(column_name))\n",
    "    plt.show()"
   ]
  },
  {
   "cell_type": "markdown",
   "metadata": {},
   "source": [
    "### Fatigue"
   ]
  },
  {
   "cell_type": "code",
   "execution_count": 7,
   "metadata": {},
   "outputs": [
    {
     "data": {
      "text/plain": [
       "4    2003\n",
       "3    1721\n",
       "2     642\n",
       "5     301\n",
       "1     187\n",
       "6     150\n",
       "7       7\n",
       "Name: Fatigue, dtype: int64"
      ]
     },
     "execution_count": 7,
     "metadata": {},
     "output_type": "execute_result"
    }
   ],
   "source": [
    "wellness_df['Fatigue'].value_counts()"
   ]
  },
  {
   "cell_type": "markdown",
   "metadata": {},
   "source": [
    "Based on the codebook, 1 is most tired and 7 is most fresh. The scales are:  \n",
    "1 -> Exhausted  \n",
    "4 -> Average  \n",
    "7 -> Fresher than usual  \n",
    "\n",
    "Thus, the values above make sense with average being most common and 1 less than average being second most common."
   ]
  },
  {
   "cell_type": "code",
   "execution_count": 8,
   "metadata": {},
   "outputs": [
    {
     "data": {
      "text/plain": [
       "(0, 19)"
      ]
     },
     "execution_count": 8,
     "metadata": {},
     "output_type": "execute_result"
    }
   ],
   "source": [
    "wellness_df[wellness_df['Fatigue'].isnull()].shape"
   ]
  },
  {
   "cell_type": "markdown",
   "metadata": {},
   "source": [
    "There are no rows missing Fatigue data."
   ]
  },
  {
   "cell_type": "code",
   "execution_count": 9,
   "metadata": {},
   "outputs": [
    {
     "data": {
      "image/png": "[encoded data removed]",
      "text/plain": [
       "<Figure size 432x288 with 1 Axes>"
      ]
     },
     "metadata": {
      "needs_background": "light"
     },
     "output_type": "display_data"
    }
   ],
   "source": [
    "plot_histogram('Fatigue')\n"
   ]
  },
  {
   "cell_type": "markdown",
   "metadata": {},
   "source": [
    "Based on the histogram above, we see that the fatigue values are approximately normally distributed."
   ]
  },
  {
   "cell_type": "markdown",
   "metadata": {},
   "source": [
    "### Soreness, Desire, Irritability and Sleep Hours"
   ]
  },
  {
   "cell_type": "markdown",
   "metadata": {},
   "source": [
    "All of these columns are on the same scale as fatigue so we just need to make sure there are no missing values and we can continue using the raw values as with Fatigue."
   ]
  },
  {
   "cell_type": "code",
   "execution_count": 10,
   "metadata": {},
   "outputs": [
    {
     "data": {
      "text/plain": [
       "4    1843\n",
       "3    1831\n",
       "2     737\n",
       "5     280\n",
       "1     176\n",
       "6     128\n",
       "7      16\n",
       "Name: Soreness, dtype: int64"
      ]
     },
     "execution_count": 10,
     "metadata": {},
     "output_type": "execute_result"
    }
   ],
   "source": [
    "wellness_df['Soreness'].value_counts()"
   ]
  },
  {
   "cell_type": "code",
   "execution_count": 11,
   "metadata": {},
   "outputs": [
    {
     "data": {
      "text/plain": [
       "(0, 19)"
      ]
     },
     "execution_count": 11,
     "metadata": {},
     "output_type": "execute_result"
    }
   ],
   "source": [
    "wellness_df[wellness_df['Soreness'].isnull()].shape"
   ]
  },
  {
   "cell_type": "markdown",
   "metadata": {},
   "source": [
    "There are no rows missing Soreness data."
   ]
  },
  {
   "cell_type": "code",
   "execution_count": 12,
   "metadata": {},
   "outputs": [
    {
     "data": {
      "image/png": "[encoded data removed]",
      "text/plain": [
       "<Figure size 432x288 with 1 Axes>"
      ]
     },
     "metadata": {
      "needs_background": "light"
     },
     "output_type": "display_data"
    }
   ],
   "source": [
    "plot_histogram('Soreness')\n"
   ]
  },
  {
   "cell_type": "code",
   "execution_count": 13,
   "metadata": {},
   "outputs": [
    {
     "data": {
      "text/plain": [
       "4    3023\n",
       "3     820\n",
       "5     428\n",
       "2     300\n",
       "6     228\n",
       "1     159\n",
       "7      53\n",
       "Name: Desire, dtype: int64"
      ]
     },
     "execution_count": 13,
     "metadata": {},
     "output_type": "execute_result"
    }
   ],
   "source": [
    "wellness_df['Desire'].value_counts()"
   ]
  },
  {
   "cell_type": "code",
   "execution_count": 14,
   "metadata": {},
   "outputs": [
    {
     "data": {
      "text/plain": [
       "(0, 19)"
      ]
     },
     "execution_count": 14,
     "metadata": {},
     "output_type": "execute_result"
    }
   ],
   "source": [
    "wellness_df[wellness_df['Desire'].isnull()].shape"
   ]
  },
  {
   "cell_type": "markdown",
   "metadata": {},
   "source": [
    "There are no rows missing Desire data."
   ]
  },
  {
   "cell_type": "code",
   "execution_count": 15,
   "metadata": {},
   "outputs": [
    {
     "data": {
      "image/png": "[encoded data removed]",
      "text/plain": [
       "<Figure size 432x288 with 1 Axes>"
      ]
     },
     "metadata": {
      "needs_background": "light"
     },
     "output_type": "display_data"
    }
   ],
   "source": [
    "plot_histogram('Desire')\n"
   ]
  },
  {
   "cell_type": "code",
   "execution_count": 16,
   "metadata": {},
   "outputs": [
    {
     "data": {
      "text/plain": [
       "4    3597\n",
       "3     650\n",
       "5     347\n",
       "6     180\n",
       "2     135\n",
       "7      61\n",
       "1      41\n",
       "Name: Irritability, dtype: int64"
      ]
     },
     "execution_count": 16,
     "metadata": {},
     "output_type": "execute_result"
    }
   ],
   "source": [
    "wellness_df['Irritability'].value_counts()"
   ]
  },
  {
   "cell_type": "code",
   "execution_count": 17,
   "metadata": {},
   "outputs": [
    {
     "data": {
      "text/plain": [
       "(0, 19)"
      ]
     },
     "execution_count": 17,
     "metadata": {},
     "output_type": "execute_result"
    }
   ],
   "source": [
    "wellness_df[wellness_df['Irritability'].isnull()].shape"
   ]
  },
  {
   "cell_type": "markdown",
   "metadata": {},
   "source": [
    "There are no rows missing Irritability data."
   ]
  },
  {
   "cell_type": "code",
   "execution_count": 18,
   "metadata": {},
   "outputs": [
    {
     "data": {
      "image/png": "[encoded data removed]",
      "text/plain": [
       "<Figure size 432x288 with 1 Axes>"
      ]
     },
     "metadata": {
      "needs_background": "light"
     },
     "output_type": "display_data"
    }
   ],
   "source": [
    "plot_histogram('Irritability')\n"
   ]
  },
  {
   "cell_type": "code",
   "execution_count": 19,
   "metadata": {},
   "outputs": [
    {
     "data": {
      "text/plain": [
       "4    2505\n",
       "3    1037\n",
       "5     508\n",
       "2     386\n",
       "6     242\n",
       "1     193\n",
       "7     140\n",
       "Name: SleepQuality, dtype: int64"
      ]
     },
     "execution_count": 19,
     "metadata": {},
     "output_type": "execute_result"
    }
   ],
   "source": [
    "wellness_df['SleepQuality'].value_counts()"
   ]
  },
  {
   "cell_type": "code",
   "execution_count": 20,
   "metadata": {},
   "outputs": [
    {
     "data": {
      "text/plain": [
       "(0, 19)"
      ]
     },
     "execution_count": 20,
     "metadata": {},
     "output_type": "execute_result"
    }
   ],
   "source": [
    "wellness_df[wellness_df['SleepQuality'].isnull()].shape"
   ]
  },
  {
   "cell_type": "markdown",
   "metadata": {},
   "source": [
    "There are no rows missing SleepQuality data."
   ]
  },
  {
   "cell_type": "code",
   "execution_count": 21,
   "metadata": {},
   "outputs": [
    {
     "data": {
      "image/png": "[encoded data removed]",
      "text/plain": [
       "<Figure size 432x288 with 1 Axes>"
      ]
     },
     "metadata": {
      "needs_background": "light"
     },
     "output_type": "display_data"
    }
   ],
   "source": [
    "plot_histogram('SleepQuality')"
   ]
  },
  {
   "cell_type": "markdown",
   "metadata": {},
   "source": [
    "No missing values so all these columns can be used as is."
   ]
  },
  {
   "cell_type": "markdown",
   "metadata": {},
   "source": [
    "### Distribution Of Monitor Score Components"
   ]
  },
  {
   "cell_type": "markdown",
   "metadata": {},
   "source": [
    "All of the monitor score components follow a normal distribution with a mean at the average value of 4. Soreness and Fatigue tend to have more lower values below 4. Sleep Quality has a similar pattern to a lesser degree while Desire and Irritability are more peaked around the mean of 4."
   ]
  },
  {
   "cell_type": "markdown",
   "metadata": {},
   "source": [
    "### BedTime, WakeTime, and SleepHours"
   ]
  },
  {
   "cell_type": "markdown",
   "metadata": {},
   "source": [
    "If we have Sleep Hours, it seems like we do not need Bed Time and Wake Time as wellness would be affected by the amount of sleep and not the particular time players went to bed. So, I will removed the `BedTime` and `Waketime` columns from the dataframe."
   ]
  },
  {
   "cell_type": "code",
   "execution_count": 22,
   "metadata": {},
   "outputs": [
    {
     "data": {
      "text/html": [
       "<div>\n",
       "<style scoped>\n",
       "    .dataframe tbody tr th:only-of-type {\n",
       "        vertical-align: middle;\n",
       "    }\n",
       "\n",
       "    .dataframe tbody tr th {\n",
       "        vertical-align: top;\n",
       "    }\n",
       "\n",
       "    .dataframe thead th {\n",
       "        text-align: right;\n",
       "    }\n",
       "</style>\n",
       "<table border=\"1\" class=\"dataframe\">\n",
       "  <thead>\n",
       "    <tr style=\"text-align: right;\">\n",
       "      <th></th>\n",
       "      <th>Date</th>\n",
       "      <th>PlayerID</th>\n",
       "      <th>Fatigue</th>\n",
       "      <th>Soreness</th>\n",
       "      <th>Desire</th>\n",
       "      <th>Irritability</th>\n",
       "      <th>SleepHours</th>\n",
       "      <th>SleepQuality</th>\n",
       "      <th>MonitoringScore</th>\n",
       "      <th>Pain</th>\n",
       "      <th>Illness</th>\n",
       "      <th>Menstruation</th>\n",
       "      <th>Nutrition</th>\n",
       "      <th>NutritionAdjustment</th>\n",
       "      <th>USGMeasurement</th>\n",
       "      <th>USG</th>\n",
       "      <th>TrainingReadiness</th>\n",
       "    </tr>\n",
       "  </thead>\n",
       "  <tbody>\n",
       "    <tr>\n",
       "      <th>0</th>\n",
       "      <td>2018-07-21</td>\n",
       "      <td>1</td>\n",
       "      <td>3</td>\n",
       "      <td>3</td>\n",
       "      <td>2</td>\n",
       "      <td>3</td>\n",
       "      <td>8.00</td>\n",
       "      <td>2</td>\n",
       "      <td>13</td>\n",
       "      <td>No</td>\n",
       "      <td>No</td>\n",
       "      <td>Yes</td>\n",
       "      <td>Excellent</td>\n",
       "      <td>Yes</td>\n",
       "      <td>No</td>\n",
       "      <td>NaN</td>\n",
       "      <td>0%</td>\n",
       "    </tr>\n",
       "    <tr>\n",
       "      <th>1</th>\n",
       "      <td>2018-07-21</td>\n",
       "      <td>2</td>\n",
       "      <td>4</td>\n",
       "      <td>3</td>\n",
       "      <td>4</td>\n",
       "      <td>4</td>\n",
       "      <td>8.00</td>\n",
       "      <td>4</td>\n",
       "      <td>19</td>\n",
       "      <td>Yes</td>\n",
       "      <td>No</td>\n",
       "      <td>Yes</td>\n",
       "      <td>NaN</td>\n",
       "      <td>NaN</td>\n",
       "      <td>Yes</td>\n",
       "      <td>1.010</td>\n",
       "      <td>0%</td>\n",
       "    </tr>\n",
       "    <tr>\n",
       "      <th>2</th>\n",
       "      <td>2018-07-21</td>\n",
       "      <td>3</td>\n",
       "      <td>3</td>\n",
       "      <td>3</td>\n",
       "      <td>5</td>\n",
       "      <td>4</td>\n",
       "      <td>8.00</td>\n",
       "      <td>4</td>\n",
       "      <td>19</td>\n",
       "      <td>No</td>\n",
       "      <td>No</td>\n",
       "      <td>No</td>\n",
       "      <td>NaN</td>\n",
       "      <td>NaN</td>\n",
       "      <td>Yes</td>\n",
       "      <td>1.016</td>\n",
       "      <td>100%</td>\n",
       "    </tr>\n",
       "    <tr>\n",
       "      <th>3</th>\n",
       "      <td>2018-07-21</td>\n",
       "      <td>4</td>\n",
       "      <td>2</td>\n",
       "      <td>3</td>\n",
       "      <td>5</td>\n",
       "      <td>4</td>\n",
       "      <td>6.50</td>\n",
       "      <td>1</td>\n",
       "      <td>15</td>\n",
       "      <td>No</td>\n",
       "      <td>No</td>\n",
       "      <td>Yes</td>\n",
       "      <td>Excellent</td>\n",
       "      <td>Yes</td>\n",
       "      <td>Yes</td>\n",
       "      <td>1.025</td>\n",
       "      <td>95%</td>\n",
       "    </tr>\n",
       "    <tr>\n",
       "      <th>4</th>\n",
       "      <td>2018-07-21</td>\n",
       "      <td>5</td>\n",
       "      <td>5</td>\n",
       "      <td>3</td>\n",
       "      <td>4</td>\n",
       "      <td>4</td>\n",
       "      <td>7.25</td>\n",
       "      <td>4</td>\n",
       "      <td>20</td>\n",
       "      <td>No</td>\n",
       "      <td>No</td>\n",
       "      <td>No</td>\n",
       "      <td>Okay</td>\n",
       "      <td>Yes</td>\n",
       "      <td>Yes</td>\n",
       "      <td>1.022</td>\n",
       "      <td>100%</td>\n",
       "    </tr>\n",
       "  </tbody>\n",
       "</table>\n",
       "</div>"
      ],
      "text/plain": [
       "         Date  PlayerID  Fatigue  Soreness  Desire  Irritability  SleepHours  \\\n",
       "0  2018-07-21         1        3         3       2             3        8.00   \n",
       "1  2018-07-21         2        4         3       4             4        8.00   \n",
       "2  2018-07-21         3        3         3       5             4        8.00   \n",
       "3  2018-07-21         4        2         3       5             4        6.50   \n",
       "4  2018-07-21         5        5         3       4             4        7.25   \n",
       "\n",
       "   SleepQuality  MonitoringScore Pain Illness Menstruation  Nutrition  \\\n",
       "0             2               13   No      No          Yes  Excellent   \n",
       "1             4               19  Yes      No          Yes        NaN   \n",
       "2             4               19   No      No           No        NaN   \n",
       "3             1               15   No      No          Yes  Excellent   \n",
       "4             4               20   No      No           No       Okay   \n",
       "\n",
       "  NutritionAdjustment USGMeasurement    USG TrainingReadiness  \n",
       "0                 Yes             No    NaN                0%  \n",
       "1                 NaN            Yes  1.010                0%  \n",
       "2                 NaN            Yes  1.016              100%  \n",
       "3                 Yes            Yes  1.025               95%  \n",
       "4                 Yes            Yes  1.022              100%  "
      ]
     },
     "execution_count": 22,
     "metadata": {},
     "output_type": "execute_result"
    }
   ],
   "source": [
    "wellness_df = wellness_df.drop(columns=['BedTime', 'WakeTime'])\n",
    "wellness_df.head()\n"
   ]
  },
  {
   "cell_type": "code",
   "execution_count": 23,
   "metadata": {},
   "outputs": [
    {
     "data": {
      "text/plain": [
       "8.661893833566154"
      ]
     },
     "execution_count": 23,
     "metadata": {},
     "output_type": "execute_result"
    }
   ],
   "source": [
    "wellness_df['SleepHours'].mean()"
   ]
  },
  {
   "cell_type": "code",
   "execution_count": 24,
   "metadata": {},
   "outputs": [
    {
     "data": {
      "text/plain": [
       "1.418457325102741"
      ]
     },
     "execution_count": 24,
     "metadata": {},
     "output_type": "execute_result"
    }
   ],
   "source": [
    "wellness_df['SleepHours'].std()"
   ]
  },
  {
   "cell_type": "code",
   "execution_count": 25,
   "metadata": {},
   "outputs": [
    {
     "data": {
      "image/png": "[encoded data removed]",
      "text/plain": [
       "<Figure size 432x288 with 1 Axes>"
      ]
     },
     "metadata": {
      "needs_background": "light"
     },
     "output_type": "display_data"
    }
   ],
   "source": [
    "plot_histogram('SleepHours')\n"
   ]
  },
  {
   "cell_type": "markdown",
   "metadata": {},
   "source": [
    "The distribution is very peaked around 8.5 hours of sleep, similar to some of the other concentrated wellness variables above."
   ]
  },
  {
   "cell_type": "markdown",
   "metadata": {},
   "source": [
    "#### Correlation Of Sleep Measures"
   ]
  },
  {
   "cell_type": "markdown",
   "metadata": {},
   "source": [
    "Note we are perform a repeated measures correlation as implemented by the `pingouin` since performing a regular correlation computation of data with repreated measures is not appropriate."
   ]
  },
  {
   "cell_type": "code",
   "execution_count": 26,
   "metadata": {},
   "outputs": [
    {
     "data": {
      "text/html": [
       "<div>\n",
       "<style scoped>\n",
       "    .dataframe tbody tr th:only-of-type {\n",
       "        vertical-align: middle;\n",
       "    }\n",
       "\n",
       "    .dataframe tbody tr th {\n",
       "        vertical-align: top;\n",
       "    }\n",
       "\n",
       "    .dataframe thead th {\n",
       "        text-align: right;\n",
       "    }\n",
       "</style>\n",
       "<table border=\"1\" class=\"dataframe\">\n",
       "  <thead>\n",
       "    <tr style=\"text-align: right;\">\n",
       "      <th></th>\n",
       "      <th>r</th>\n",
       "      <th>dof</th>\n",
       "      <th>pval</th>\n",
       "      <th>CI95%</th>\n",
       "      <th>power</th>\n",
       "    </tr>\n",
       "  </thead>\n",
       "  <tbody>\n",
       "    <tr>\n",
       "      <th>rm_corr</th>\n",
       "      <td>0.269</td>\n",
       "      <td>4993</td>\n",
       "      <td>2.037650e-83</td>\n",
       "      <td>[0.24, 0.29]</td>\n",
       "      <td>1.0</td>\n",
       "    </tr>\n",
       "  </tbody>\n",
       "</table>\n",
       "</div>"
      ],
      "text/plain": [
       "             r   dof          pval         CI95%  power\n",
       "rm_corr  0.269  4993  2.037650e-83  [0.24, 0.29]    1.0"
      ]
     },
     "execution_count": 26,
     "metadata": {},
     "output_type": "execute_result"
    }
   ],
   "source": [
    "pg.rm_corr(data=wellness_df, x='SleepQuality', y='SleepHours', subject='PlayerID')"
   ]
  },
  {
   "cell_type": "markdown",
   "metadata": {},
   "source": [
    "It turns out sleep quality and the duration of sleep are not very correlated which is interesting, as the 95% confidence interval for the estimate of the correlation is only [0.24, 0.29]. We thought this correlation would be higher, i.e. less sleep leads to worse quality and vice versa. However, contextualizing this result with the fact that these players are athletes makes sense. They are on a regimented schedule and get about the same amount of sleep each night, which we see from the distribution of sleep hours. So, any variance in their subjective sleep quality is likely related to other factors other than how long they slept. Thus, we should keep both Sleep Hours and Sleep Quality in the dataset as they appear to be measuring distinct components of wellness."
   ]
  },
  {
   "cell_type": "markdown",
   "metadata": {},
   "source": [
    "### Pain"
   ]
  },
  {
   "cell_type": "code",
   "execution_count": 27,
   "metadata": {},
   "outputs": [
    {
     "data": {
      "text/plain": [
       "No     4423\n",
       "Yes     588\n",
       "Name: Pain, dtype: int64"
      ]
     },
     "execution_count": 27,
     "metadata": {},
     "output_type": "execute_result"
    }
   ],
   "source": [
    "wellness_df['Pain'].value_counts()"
   ]
  },
  {
   "cell_type": "markdown",
   "metadata": {},
   "source": [
    "We need to code this `Yes/No` column to take the values `1/0`"
   ]
  },
  {
   "cell_type": "code",
   "execution_count": 28,
   "metadata": {},
   "outputs": [
    {
     "data": {
      "text/plain": [
       "(0, 17)"
      ]
     },
     "execution_count": 28,
     "metadata": {},
     "output_type": "execute_result"
    }
   ],
   "source": [
    "wellness_df[wellness_df['Pain'].isnull()].shape"
   ]
  },
  {
   "cell_type": "markdown",
   "metadata": {},
   "source": [
    "There are no rows missing Pain data."
   ]
  },
  {
   "cell_type": "markdown",
   "metadata": {},
   "source": [
    "The scale for all measures of wellness are such that larger values indicate better wellness. We want to keep this pattern for pain so we can combine values together into a single summary wellness measure later that can also be interpreted using the logic that larger values indicate better wellness. Thus we will code pain using the unusual convention that 1 indicates no pain and 0 indicates pain."
   ]
  },
  {
   "cell_type": "code",
   "execution_count": 29,
   "metadata": {},
   "outputs": [
    {
     "data": {
      "text/html": [
       "<div>\n",
       "<style scoped>\n",
       "    .dataframe tbody tr th:only-of-type {\n",
       "        vertical-align: middle;\n",
       "    }\n",
       "\n",
       "    .dataframe tbody tr th {\n",
       "        vertical-align: top;\n",
       "    }\n",
       "\n",
       "    .dataframe thead th {\n",
       "        text-align: right;\n",
       "    }\n",
       "</style>\n",
       "<table border=\"1\" class=\"dataframe\">\n",
       "  <thead>\n",
       "    <tr style=\"text-align: right;\">\n",
       "      <th></th>\n",
       "      <th>Date</th>\n",
       "      <th>PlayerID</th>\n",
       "      <th>Fatigue</th>\n",
       "      <th>Soreness</th>\n",
       "      <th>Desire</th>\n",
       "      <th>Irritability</th>\n",
       "      <th>SleepHours</th>\n",
       "      <th>SleepQuality</th>\n",
       "      <th>MonitoringScore</th>\n",
       "      <th>Pain</th>\n",
       "      <th>Illness</th>\n",
       "      <th>Menstruation</th>\n",
       "      <th>Nutrition</th>\n",
       "      <th>NutritionAdjustment</th>\n",
       "      <th>USGMeasurement</th>\n",
       "      <th>USG</th>\n",
       "      <th>TrainingReadiness</th>\n",
       "    </tr>\n",
       "  </thead>\n",
       "  <tbody>\n",
       "    <tr>\n",
       "      <th>0</th>\n",
       "      <td>2018-07-21</td>\n",
       "      <td>1</td>\n",
       "      <td>3</td>\n",
       "      <td>3</td>\n",
       "      <td>2</td>\n",
       "      <td>3</td>\n",
       "      <td>8.00</td>\n",
       "      <td>2</td>\n",
       "      <td>13</td>\n",
       "      <td>1</td>\n",
       "      <td>No</td>\n",
       "      <td>Yes</td>\n",
       "      <td>Excellent</td>\n",
       "      <td>Yes</td>\n",
       "      <td>No</td>\n",
       "      <td>NaN</td>\n",
       "      <td>0%</td>\n",
       "    </tr>\n",
       "    <tr>\n",
       "      <th>1</th>\n",
       "      <td>2018-07-21</td>\n",
       "      <td>2</td>\n",
       "      <td>4</td>\n",
       "      <td>3</td>\n",
       "      <td>4</td>\n",
       "      <td>4</td>\n",
       "      <td>8.00</td>\n",
       "      <td>4</td>\n",
       "      <td>19</td>\n",
       "      <td>0</td>\n",
       "      <td>No</td>\n",
       "      <td>Yes</td>\n",
       "      <td>NaN</td>\n",
       "      <td>NaN</td>\n",
       "      <td>Yes</td>\n",
       "      <td>1.010</td>\n",
       "      <td>0%</td>\n",
       "    </tr>\n",
       "    <tr>\n",
       "      <th>2</th>\n",
       "      <td>2018-07-21</td>\n",
       "      <td>3</td>\n",
       "      <td>3</td>\n",
       "      <td>3</td>\n",
       "      <td>5</td>\n",
       "      <td>4</td>\n",
       "      <td>8.00</td>\n",
       "      <td>4</td>\n",
       "      <td>19</td>\n",
       "      <td>1</td>\n",
       "      <td>No</td>\n",
       "      <td>No</td>\n",
       "      <td>NaN</td>\n",
       "      <td>NaN</td>\n",
       "      <td>Yes</td>\n",
       "      <td>1.016</td>\n",
       "      <td>100%</td>\n",
       "    </tr>\n",
       "    <tr>\n",
       "      <th>3</th>\n",
       "      <td>2018-07-21</td>\n",
       "      <td>4</td>\n",
       "      <td>2</td>\n",
       "      <td>3</td>\n",
       "      <td>5</td>\n",
       "      <td>4</td>\n",
       "      <td>6.50</td>\n",
       "      <td>1</td>\n",
       "      <td>15</td>\n",
       "      <td>1</td>\n",
       "      <td>No</td>\n",
       "      <td>Yes</td>\n",
       "      <td>Excellent</td>\n",
       "      <td>Yes</td>\n",
       "      <td>Yes</td>\n",
       "      <td>1.025</td>\n",
       "      <td>95%</td>\n",
       "    </tr>\n",
       "    <tr>\n",
       "      <th>4</th>\n",
       "      <td>2018-07-21</td>\n",
       "      <td>5</td>\n",
       "      <td>5</td>\n",
       "      <td>3</td>\n",
       "      <td>4</td>\n",
       "      <td>4</td>\n",
       "      <td>7.25</td>\n",
       "      <td>4</td>\n",
       "      <td>20</td>\n",
       "      <td>1</td>\n",
       "      <td>No</td>\n",
       "      <td>No</td>\n",
       "      <td>Okay</td>\n",
       "      <td>Yes</td>\n",
       "      <td>Yes</td>\n",
       "      <td>1.022</td>\n",
       "      <td>100%</td>\n",
       "    </tr>\n",
       "  </tbody>\n",
       "</table>\n",
       "</div>"
      ],
      "text/plain": [
       "         Date  PlayerID  Fatigue  Soreness  Desire  Irritability  SleepHours  \\\n",
       "0  2018-07-21         1        3         3       2             3        8.00   \n",
       "1  2018-07-21         2        4         3       4             4        8.00   \n",
       "2  2018-07-21         3        3         3       5             4        8.00   \n",
       "3  2018-07-21         4        2         3       5             4        6.50   \n",
       "4  2018-07-21         5        5         3       4             4        7.25   \n",
       "\n",
       "   SleepQuality  MonitoringScore  Pain Illness Menstruation  Nutrition  \\\n",
       "0             2               13     1      No          Yes  Excellent   \n",
       "1             4               19     0      No          Yes        NaN   \n",
       "2             4               19     1      No           No        NaN   \n",
       "3             1               15     1      No          Yes  Excellent   \n",
       "4             4               20     1      No           No       Okay   \n",
       "\n",
       "  NutritionAdjustment USGMeasurement    USG TrainingReadiness  \n",
       "0                 Yes             No    NaN                0%  \n",
       "1                 NaN            Yes  1.010                0%  \n",
       "2                 NaN            Yes  1.016              100%  \n",
       "3                 Yes            Yes  1.025               95%  \n",
       "4                 Yes            Yes  1.022              100%  "
      ]
     },
     "execution_count": 29,
     "metadata": {},
     "output_type": "execute_result"
    }
   ],
   "source": [
    "wellness_df['Pain'] = wellness_df['Pain'].map(dict(Yes=0, No=1))\n",
    "wellness_df.head()\n"
   ]
  },
  {
   "cell_type": "markdown",
   "metadata": {},
   "source": [
    "### Illness"
   ]
  },
  {
   "cell_type": "markdown",
   "metadata": {},
   "source": [
    "This should be trated the same as `Pain` assuming there are no missing values "
   ]
  },
  {
   "cell_type": "code",
   "execution_count": 30,
   "metadata": {},
   "outputs": [
    {
     "data": {
      "text/plain": [
       "No              4456\n",
       "Slightly Off     421\n",
       "Yes              134\n",
       "Name: Illness, dtype: int64"
      ]
     },
     "execution_count": 30,
     "metadata": {},
     "output_type": "execute_result"
    }
   ],
   "source": [
    "wellness_df['Illness'].value_counts()"
   ]
  },
  {
   "cell_type": "code",
   "execution_count": 31,
   "metadata": {},
   "outputs": [
    {
     "data": {
      "text/plain": [
       "(0, 17)"
      ]
     },
     "execution_count": 31,
     "metadata": {},
     "output_type": "execute_result"
    }
   ],
   "source": [
    "wellness_df[wellness_df['Illness'].isnull()].shape"
   ]
  },
  {
   "cell_type": "markdown",
   "metadata": {},
   "source": [
    "It turns out there is a medium category of `Slightly Off` between `Yes` and `No`. So, I will code this column as an ordered categorical variable. Without more information on how the players interpret these different scales, I don't want to make too many strong assumptions about the relative difference between the scales so I will encode them such that the relative distance is equal. As previously mentioned, we will code illness such that larger values indicate better wellness, which means less illness in this case."
   ]
  },
  {
   "cell_type": "code",
   "execution_count": 32,
   "metadata": {},
   "outputs": [
    {
     "data": {
      "text/html": [
       "<div>\n",
       "<style scoped>\n",
       "    .dataframe tbody tr th:only-of-type {\n",
       "        vertical-align: middle;\n",
       "    }\n",
       "\n",
       "    .dataframe tbody tr th {\n",
       "        vertical-align: top;\n",
       "    }\n",
       "\n",
       "    .dataframe thead th {\n",
       "        text-align: right;\n",
       "    }\n",
       "</style>\n",
       "<table border=\"1\" class=\"dataframe\">\n",
       "  <thead>\n",
       "    <tr style=\"text-align: right;\">\n",
       "      <th></th>\n",
       "      <th>Date</th>\n",
       "      <th>PlayerID</th>\n",
       "      <th>Fatigue</th>\n",
       "      <th>Soreness</th>\n",
       "      <th>Desire</th>\n",
       "      <th>Irritability</th>\n",
       "      <th>SleepHours</th>\n",
       "      <th>SleepQuality</th>\n",
       "      <th>MonitoringScore</th>\n",
       "      <th>Pain</th>\n",
       "      <th>Illness</th>\n",
       "      <th>Menstruation</th>\n",
       "      <th>Nutrition</th>\n",
       "      <th>NutritionAdjustment</th>\n",
       "      <th>USGMeasurement</th>\n",
       "      <th>USG</th>\n",
       "      <th>TrainingReadiness</th>\n",
       "    </tr>\n",
       "  </thead>\n",
       "  <tbody>\n",
       "    <tr>\n",
       "      <th>0</th>\n",
       "      <td>2018-07-21</td>\n",
       "      <td>1</td>\n",
       "      <td>3</td>\n",
       "      <td>3</td>\n",
       "      <td>2</td>\n",
       "      <td>3</td>\n",
       "      <td>8.00</td>\n",
       "      <td>2</td>\n",
       "      <td>13</td>\n",
       "      <td>1</td>\n",
       "      <td>3</td>\n",
       "      <td>Yes</td>\n",
       "      <td>Excellent</td>\n",
       "      <td>Yes</td>\n",
       "      <td>No</td>\n",
       "      <td>NaN</td>\n",
       "      <td>0%</td>\n",
       "    </tr>\n",
       "    <tr>\n",
       "      <th>1</th>\n",
       "      <td>2018-07-21</td>\n",
       "      <td>2</td>\n",
       "      <td>4</td>\n",
       "      <td>3</td>\n",
       "      <td>4</td>\n",
       "      <td>4</td>\n",
       "      <td>8.00</td>\n",
       "      <td>4</td>\n",
       "      <td>19</td>\n",
       "      <td>0</td>\n",
       "      <td>3</td>\n",
       "      <td>Yes</td>\n",
       "      <td>NaN</td>\n",
       "      <td>NaN</td>\n",
       "      <td>Yes</td>\n",
       "      <td>1.010</td>\n",
       "      <td>0%</td>\n",
       "    </tr>\n",
       "    <tr>\n",
       "      <th>2</th>\n",
       "      <td>2018-07-21</td>\n",
       "      <td>3</td>\n",
       "      <td>3</td>\n",
       "      <td>3</td>\n",
       "      <td>5</td>\n",
       "      <td>4</td>\n",
       "      <td>8.00</td>\n",
       "      <td>4</td>\n",
       "      <td>19</td>\n",
       "      <td>1</td>\n",
       "      <td>3</td>\n",
       "      <td>No</td>\n",
       "      <td>NaN</td>\n",
       "      <td>NaN</td>\n",
       "      <td>Yes</td>\n",
       "      <td>1.016</td>\n",
       "      <td>100%</td>\n",
       "    </tr>\n",
       "    <tr>\n",
       "      <th>3</th>\n",
       "      <td>2018-07-21</td>\n",
       "      <td>4</td>\n",
       "      <td>2</td>\n",
       "      <td>3</td>\n",
       "      <td>5</td>\n",
       "      <td>4</td>\n",
       "      <td>6.50</td>\n",
       "      <td>1</td>\n",
       "      <td>15</td>\n",
       "      <td>1</td>\n",
       "      <td>3</td>\n",
       "      <td>Yes</td>\n",
       "      <td>Excellent</td>\n",
       "      <td>Yes</td>\n",
       "      <td>Yes</td>\n",
       "      <td>1.025</td>\n",
       "      <td>95%</td>\n",
       "    </tr>\n",
       "    <tr>\n",
       "      <th>4</th>\n",
       "      <td>2018-07-21</td>\n",
       "      <td>5</td>\n",
       "      <td>5</td>\n",
       "      <td>3</td>\n",
       "      <td>4</td>\n",
       "      <td>4</td>\n",
       "      <td>7.25</td>\n",
       "      <td>4</td>\n",
       "      <td>20</td>\n",
       "      <td>1</td>\n",
       "      <td>3</td>\n",
       "      <td>No</td>\n",
       "      <td>Okay</td>\n",
       "      <td>Yes</td>\n",
       "      <td>Yes</td>\n",
       "      <td>1.022</td>\n",
       "      <td>100%</td>\n",
       "    </tr>\n",
       "  </tbody>\n",
       "</table>\n",
       "</div>"
      ],
      "text/plain": [
       "         Date  PlayerID  Fatigue  Soreness  Desire  Irritability  SleepHours  \\\n",
       "0  2018-07-21         1        3         3       2             3        8.00   \n",
       "1  2018-07-21         2        4         3       4             4        8.00   \n",
       "2  2018-07-21         3        3         3       5             4        8.00   \n",
       "3  2018-07-21         4        2         3       5             4        6.50   \n",
       "4  2018-07-21         5        5         3       4             4        7.25   \n",
       "\n",
       "   SleepQuality  MonitoringScore  Pain  Illness Menstruation  Nutrition  \\\n",
       "0             2               13     1        3          Yes  Excellent   \n",
       "1             4               19     0        3          Yes        NaN   \n",
       "2             4               19     1        3           No        NaN   \n",
       "3             1               15     1        3          Yes  Excellent   \n",
       "4             4               20     1        3           No       Okay   \n",
       "\n",
       "  NutritionAdjustment USGMeasurement    USG TrainingReadiness  \n",
       "0                 Yes             No    NaN                0%  \n",
       "1                 NaN            Yes  1.010                0%  \n",
       "2                 NaN            Yes  1.016              100%  \n",
       "3                 Yes            Yes  1.025               95%  \n",
       "4                 Yes            Yes  1.022              100%  "
      ]
     },
     "execution_count": 32,
     "metadata": {},
     "output_type": "execute_result"
    }
   ],
   "source": [
    "wellness_df['Illness'] = wellness_df['Illness'].map({'Yes': 1, 'Slightly Off': 2, 'No': 3})\n",
    "wellness_df.head()\n"
   ]
  },
  {
   "cell_type": "markdown",
   "metadata": {},
   "source": [
    "### Menstruation"
   ]
  },
  {
   "cell_type": "code",
   "execution_count": 33,
   "metadata": {},
   "outputs": [
    {
     "data": {
      "text/plain": [
       "(4995, 17)"
      ]
     },
     "execution_count": 33,
     "metadata": {},
     "output_type": "execute_result"
    }
   ],
   "source": [
    "wellness_df[~ wellness_df['Menstruation'].isnull()].shape"
   ]
  },
  {
   "cell_type": "markdown",
   "metadata": {},
   "source": [
    "There are not too many observations that are missing a Menstruation entry (4995 of 5011 total) so I will just remove the observations that are missing Menstruation data."
   ]
  },
  {
   "cell_type": "code",
   "execution_count": 34,
   "metadata": {},
   "outputs": [
    {
     "data": {
      "text/plain": [
       "(4995, 17)"
      ]
     },
     "execution_count": 34,
     "metadata": {},
     "output_type": "execute_result"
    }
   ],
   "source": [
    "wellness_df = wellness_df[~ wellness_df['Menstruation'].isnull()]\n",
    "\n",
    "wellness_df.shape"
   ]
  },
  {
   "cell_type": "markdown",
   "metadata": {},
   "source": [
    "This is a simple `Yes/No` column so we can encode it with integers 1 and 0 following the same convention as Pain."
   ]
  },
  {
   "cell_type": "code",
   "execution_count": 35,
   "metadata": {},
   "outputs": [
    {
     "data": {
      "text/html": [
       "<div>\n",
       "<style scoped>\n",
       "    .dataframe tbody tr th:only-of-type {\n",
       "        vertical-align: middle;\n",
       "    }\n",
       "\n",
       "    .dataframe tbody tr th {\n",
       "        vertical-align: top;\n",
       "    }\n",
       "\n",
       "    .dataframe thead th {\n",
       "        text-align: right;\n",
       "    }\n",
       "</style>\n",
       "<table border=\"1\" class=\"dataframe\">\n",
       "  <thead>\n",
       "    <tr style=\"text-align: right;\">\n",
       "      <th></th>\n",
       "      <th>Date</th>\n",
       "      <th>PlayerID</th>\n",
       "      <th>Fatigue</th>\n",
       "      <th>Soreness</th>\n",
       "      <th>Desire</th>\n",
       "      <th>Irritability</th>\n",
       "      <th>SleepHours</th>\n",
       "      <th>SleepQuality</th>\n",
       "      <th>MonitoringScore</th>\n",
       "      <th>Pain</th>\n",
       "      <th>Illness</th>\n",
       "      <th>Menstruation</th>\n",
       "      <th>Nutrition</th>\n",
       "      <th>NutritionAdjustment</th>\n",
       "      <th>USGMeasurement</th>\n",
       "      <th>USG</th>\n",
       "      <th>TrainingReadiness</th>\n",
       "    </tr>\n",
       "  </thead>\n",
       "  <tbody>\n",
       "    <tr>\n",
       "      <th>0</th>\n",
       "      <td>2018-07-21</td>\n",
       "      <td>1</td>\n",
       "      <td>3</td>\n",
       "      <td>3</td>\n",
       "      <td>2</td>\n",
       "      <td>3</td>\n",
       "      <td>8.00</td>\n",
       "      <td>2</td>\n",
       "      <td>13</td>\n",
       "      <td>1</td>\n",
       "      <td>3</td>\n",
       "      <td>0</td>\n",
       "      <td>Excellent</td>\n",
       "      <td>Yes</td>\n",
       "      <td>No</td>\n",
       "      <td>NaN</td>\n",
       "      <td>0%</td>\n",
       "    </tr>\n",
       "    <tr>\n",
       "      <th>1</th>\n",
       "      <td>2018-07-21</td>\n",
       "      <td>2</td>\n",
       "      <td>4</td>\n",
       "      <td>3</td>\n",
       "      <td>4</td>\n",
       "      <td>4</td>\n",
       "      <td>8.00</td>\n",
       "      <td>4</td>\n",
       "      <td>19</td>\n",
       "      <td>0</td>\n",
       "      <td>3</td>\n",
       "      <td>0</td>\n",
       "      <td>NaN</td>\n",
       "      <td>NaN</td>\n",
       "      <td>Yes</td>\n",
       "      <td>1.010</td>\n",
       "      <td>0%</td>\n",
       "    </tr>\n",
       "    <tr>\n",
       "      <th>2</th>\n",
       "      <td>2018-07-21</td>\n",
       "      <td>3</td>\n",
       "      <td>3</td>\n",
       "      <td>3</td>\n",
       "      <td>5</td>\n",
       "      <td>4</td>\n",
       "      <td>8.00</td>\n",
       "      <td>4</td>\n",
       "      <td>19</td>\n",
       "      <td>1</td>\n",
       "      <td>3</td>\n",
       "      <td>1</td>\n",
       "      <td>NaN</td>\n",
       "      <td>NaN</td>\n",
       "      <td>Yes</td>\n",
       "      <td>1.016</td>\n",
       "      <td>100%</td>\n",
       "    </tr>\n",
       "    <tr>\n",
       "      <th>3</th>\n",
       "      <td>2018-07-21</td>\n",
       "      <td>4</td>\n",
       "      <td>2</td>\n",
       "      <td>3</td>\n",
       "      <td>5</td>\n",
       "      <td>4</td>\n",
       "      <td>6.50</td>\n",
       "      <td>1</td>\n",
       "      <td>15</td>\n",
       "      <td>1</td>\n",
       "      <td>3</td>\n",
       "      <td>0</td>\n",
       "      <td>Excellent</td>\n",
       "      <td>Yes</td>\n",
       "      <td>Yes</td>\n",
       "      <td>1.025</td>\n",
       "      <td>95%</td>\n",
       "    </tr>\n",
       "    <tr>\n",
       "      <th>4</th>\n",
       "      <td>2018-07-21</td>\n",
       "      <td>5</td>\n",
       "      <td>5</td>\n",
       "      <td>3</td>\n",
       "      <td>4</td>\n",
       "      <td>4</td>\n",
       "      <td>7.25</td>\n",
       "      <td>4</td>\n",
       "      <td>20</td>\n",
       "      <td>1</td>\n",
       "      <td>3</td>\n",
       "      <td>1</td>\n",
       "      <td>Okay</td>\n",
       "      <td>Yes</td>\n",
       "      <td>Yes</td>\n",
       "      <td>1.022</td>\n",
       "      <td>100%</td>\n",
       "    </tr>\n",
       "  </tbody>\n",
       "</table>\n",
       "</div>"
      ],
      "text/plain": [
       "         Date  PlayerID  Fatigue  Soreness  Desire  Irritability  SleepHours  \\\n",
       "0  2018-07-21         1        3         3       2             3        8.00   \n",
       "1  2018-07-21         2        4         3       4             4        8.00   \n",
       "2  2018-07-21         3        3         3       5             4        8.00   \n",
       "3  2018-07-21         4        2         3       5             4        6.50   \n",
       "4  2018-07-21         5        5         3       4             4        7.25   \n",
       "\n",
       "   SleepQuality  MonitoringScore  Pain  Illness  Menstruation  Nutrition  \\\n",
       "0             2               13     1        3             0  Excellent   \n",
       "1             4               19     0        3             0        NaN   \n",
       "2             4               19     1        3             1        NaN   \n",
       "3             1               15     1        3             0  Excellent   \n",
       "4             4               20     1        3             1       Okay   \n",
       "\n",
       "  NutritionAdjustment USGMeasurement    USG TrainingReadiness  \n",
       "0                 Yes             No    NaN                0%  \n",
       "1                 NaN            Yes  1.010                0%  \n",
       "2                 NaN            Yes  1.016              100%  \n",
       "3                 Yes            Yes  1.025               95%  \n",
       "4                 Yes            Yes  1.022              100%  "
      ]
     },
     "execution_count": 35,
     "metadata": {},
     "output_type": "execute_result"
    }
   ],
   "source": [
    "wellness_df['Menstruation'] = wellness_df['Menstruation'].map(dict(Yes=0, No=1))\n",
    "wellness_df.head()\n"
   ]
  },
  {
   "cell_type": "markdown",
   "metadata": {},
   "source": [
    "### Nutrition"
   ]
  },
  {
   "cell_type": "code",
   "execution_count": 36,
   "metadata": {},
   "outputs": [
    {
     "data": {
      "text/plain": [
       "Excellent    2706\n",
       "Okay         1394\n",
       "Poor           63\n",
       "Name: Nutrition, dtype: int64"
      ]
     },
     "execution_count": 36,
     "metadata": {},
     "output_type": "execute_result"
    }
   ],
   "source": [
    "wellness_df['Nutrition'].value_counts()\n"
   ]
  },
  {
   "cell_type": "code",
   "execution_count": 37,
   "metadata": {},
   "outputs": [
    {
     "data": {
      "text/plain": [
       "(832, 17)"
      ]
     },
     "execution_count": 37,
     "metadata": {},
     "output_type": "execute_result"
    }
   ],
   "source": [
    "wellness_df[wellness_df['Nutrition'].isnull()].shape\n"
   ]
  },
  {
   "cell_type": "markdown",
   "metadata": {},
   "source": [
    "#### Impute By Sampling From Distribution"
   ]
  },
  {
   "cell_type": "markdown",
   "metadata": {},
   "source": [
    "There is a moderate amount of missing values but it would be nice to still include `Nutrition` in our analysis so I will resample the distribution to fill in missing values. To make sure this is as accurate as possible. I will resample from the given player's distribution of nutrition responses as opposed to the general distribution of nutrition responses."
   ]
  },
  {
   "cell_type": "code",
   "execution_count": 38,
   "metadata": {},
   "outputs": [
    {
     "data": {
      "text/html": [
       "<div>\n",
       "<style scoped>\n",
       "    .dataframe tbody tr th:only-of-type {\n",
       "        vertical-align: middle;\n",
       "    }\n",
       "\n",
       "    .dataframe tbody tr th {\n",
       "        vertical-align: top;\n",
       "    }\n",
       "\n",
       "    .dataframe thead th {\n",
       "        text-align: right;\n",
       "    }\n",
       "</style>\n",
       "<table border=\"1\" class=\"dataframe\">\n",
       "  <thead>\n",
       "    <tr style=\"text-align: right;\">\n",
       "      <th></th>\n",
       "      <th>Date</th>\n",
       "      <th>PlayerID</th>\n",
       "      <th>Fatigue</th>\n",
       "      <th>Soreness</th>\n",
       "      <th>Desire</th>\n",
       "      <th>Irritability</th>\n",
       "      <th>SleepHours</th>\n",
       "      <th>SleepQuality</th>\n",
       "      <th>MonitoringScore</th>\n",
       "      <th>Pain</th>\n",
       "      <th>Illness</th>\n",
       "      <th>Menstruation</th>\n",
       "      <th>Nutrition</th>\n",
       "      <th>NutritionAdjustment</th>\n",
       "      <th>USGMeasurement</th>\n",
       "      <th>USG</th>\n",
       "      <th>TrainingReadiness</th>\n",
       "    </tr>\n",
       "  </thead>\n",
       "  <tbody>\n",
       "    <tr>\n",
       "      <th>0</th>\n",
       "      <td>2018-07-21</td>\n",
       "      <td>1</td>\n",
       "      <td>3</td>\n",
       "      <td>3</td>\n",
       "      <td>2</td>\n",
       "      <td>3</td>\n",
       "      <td>8.00</td>\n",
       "      <td>2</td>\n",
       "      <td>13</td>\n",
       "      <td>1</td>\n",
       "      <td>3</td>\n",
       "      <td>0</td>\n",
       "      <td>Excellent</td>\n",
       "      <td>Yes</td>\n",
       "      <td>No</td>\n",
       "      <td>NaN</td>\n",
       "      <td>0%</td>\n",
       "    </tr>\n",
       "    <tr>\n",
       "      <th>1</th>\n",
       "      <td>2018-07-21</td>\n",
       "      <td>2</td>\n",
       "      <td>4</td>\n",
       "      <td>3</td>\n",
       "      <td>4</td>\n",
       "      <td>4</td>\n",
       "      <td>8.00</td>\n",
       "      <td>4</td>\n",
       "      <td>19</td>\n",
       "      <td>0</td>\n",
       "      <td>3</td>\n",
       "      <td>0</td>\n",
       "      <td>Excellent</td>\n",
       "      <td>NaN</td>\n",
       "      <td>Yes</td>\n",
       "      <td>1.010</td>\n",
       "      <td>0%</td>\n",
       "    </tr>\n",
       "    <tr>\n",
       "      <th>2</th>\n",
       "      <td>2018-07-21</td>\n",
       "      <td>3</td>\n",
       "      <td>3</td>\n",
       "      <td>3</td>\n",
       "      <td>5</td>\n",
       "      <td>4</td>\n",
       "      <td>8.00</td>\n",
       "      <td>4</td>\n",
       "      <td>19</td>\n",
       "      <td>1</td>\n",
       "      <td>3</td>\n",
       "      <td>1</td>\n",
       "      <td>Excellent</td>\n",
       "      <td>NaN</td>\n",
       "      <td>Yes</td>\n",
       "      <td>1.016</td>\n",
       "      <td>100%</td>\n",
       "    </tr>\n",
       "    <tr>\n",
       "      <th>3</th>\n",
       "      <td>2018-07-21</td>\n",
       "      <td>4</td>\n",
       "      <td>2</td>\n",
       "      <td>3</td>\n",
       "      <td>5</td>\n",
       "      <td>4</td>\n",
       "      <td>6.50</td>\n",
       "      <td>1</td>\n",
       "      <td>15</td>\n",
       "      <td>1</td>\n",
       "      <td>3</td>\n",
       "      <td>0</td>\n",
       "      <td>Excellent</td>\n",
       "      <td>Yes</td>\n",
       "      <td>Yes</td>\n",
       "      <td>1.025</td>\n",
       "      <td>95%</td>\n",
       "    </tr>\n",
       "    <tr>\n",
       "      <th>4</th>\n",
       "      <td>2018-07-21</td>\n",
       "      <td>5</td>\n",
       "      <td>5</td>\n",
       "      <td>3</td>\n",
       "      <td>4</td>\n",
       "      <td>4</td>\n",
       "      <td>7.25</td>\n",
       "      <td>4</td>\n",
       "      <td>20</td>\n",
       "      <td>1</td>\n",
       "      <td>3</td>\n",
       "      <td>1</td>\n",
       "      <td>Okay</td>\n",
       "      <td>Yes</td>\n",
       "      <td>Yes</td>\n",
       "      <td>1.022</td>\n",
       "      <td>100%</td>\n",
       "    </tr>\n",
       "  </tbody>\n",
       "</table>\n",
       "</div>"
      ],
      "text/plain": [
       "         Date  PlayerID  Fatigue  Soreness  Desire  Irritability  SleepHours  \\\n",
       "0  2018-07-21         1        3         3       2             3        8.00   \n",
       "1  2018-07-21         2        4         3       4             4        8.00   \n",
       "2  2018-07-21         3        3         3       5             4        8.00   \n",
       "3  2018-07-21         4        2         3       5             4        6.50   \n",
       "4  2018-07-21         5        5         3       4             4        7.25   \n",
       "\n",
       "   SleepQuality  MonitoringScore  Pain  Illness  Menstruation  Nutrition  \\\n",
       "0             2               13     1        3             0  Excellent   \n",
       "1             4               19     0        3             0  Excellent   \n",
       "2             4               19     1        3             1  Excellent   \n",
       "3             1               15     1        3             0  Excellent   \n",
       "4             4               20     1        3             1       Okay   \n",
       "\n",
       "  NutritionAdjustment USGMeasurement    USG TrainingReadiness  \n",
       "0                 Yes             No    NaN                0%  \n",
       "1                 NaN            Yes  1.010                0%  \n",
       "2                 NaN            Yes  1.016              100%  \n",
       "3                 Yes            Yes  1.025               95%  \n",
       "4                 Yes            Yes  1.022              100%  "
      ]
     },
     "execution_count": 38,
     "metadata": {},
     "output_type": "execute_result"
    }
   ],
   "source": [
    "def impute_nutrition(row):\n",
    "    if (isinstance(row['Nutrition'], float) and (np.isnan(row['Nutrition']))):\n",
    "        normalized_nutrition_value_counts = wellness_df[wellness_df['PlayerID'] == row['PlayerID']]['Nutrition'].value_counts(normalize=True)\n",
    "        \n",
    "        return np.random.choice(normalized_nutrition_value_counts.index, size=1, p=normalized_nutrition_value_counts.values)[0]\n",
    "    else:\n",
    "        return row['Nutrition']\n",
    "    \n",
    "non_imputed_wellness_df = wellness_df.copy() # We save this for factor analysis on non-imputed data\n",
    "wellness_df['Nutrition'] = wellness_df.apply(impute_nutrition, axis=1)\n",
    "\n",
    "wellness_df.head()\n"
   ]
  },
  {
   "cell_type": "markdown",
   "metadata": {},
   "source": [
    "Make sure the imputation worked by looking for missing values again."
   ]
  },
  {
   "cell_type": "code",
   "execution_count": 39,
   "metadata": {},
   "outputs": [
    {
     "data": {
      "text/plain": [
       "(0, 17)"
      ]
     },
     "execution_count": 39,
     "metadata": {},
     "output_type": "execute_result"
    }
   ],
   "source": [
    "wellness_df[wellness_df['Nutrition'].isnull()].shape\n"
   ]
  },
  {
   "cell_type": "code",
   "execution_count": 40,
   "metadata": {},
   "outputs": [
    {
     "data": {
      "text/plain": [
       "Excellent    3232\n",
       "Okay         1680\n",
       "Poor           83\n",
       "Name: Nutrition, dtype: int64"
      ]
     },
     "execution_count": 40,
     "metadata": {},
     "output_type": "execute_result"
    }
   ],
   "source": [
    "wellness_df['Nutrition'].value_counts()"
   ]
  },
  {
   "cell_type": "markdown",
   "metadata": {},
   "source": [
    "I will encode this as an ordered categorical variable with equal space between categories. As with previous coding, larger values indicate better wellness."
   ]
  },
  {
   "cell_type": "code",
   "execution_count": 41,
   "metadata": {},
   "outputs": [
    {
     "data": {
      "text/html": [
       "<div>\n",
       "<style scoped>\n",
       "    .dataframe tbody tr th:only-of-type {\n",
       "        vertical-align: middle;\n",
       "    }\n",
       "\n",
       "    .dataframe tbody tr th {\n",
       "        vertical-align: top;\n",
       "    }\n",
       "\n",
       "    .dataframe thead th {\n",
       "        text-align: right;\n",
       "    }\n",
       "</style>\n",
       "<table border=\"1\" class=\"dataframe\">\n",
       "  <thead>\n",
       "    <tr style=\"text-align: right;\">\n",
       "      <th></th>\n",
       "      <th>Date</th>\n",
       "      <th>PlayerID</th>\n",
       "      <th>Fatigue</th>\n",
       "      <th>Soreness</th>\n",
       "      <th>Desire</th>\n",
       "      <th>Irritability</th>\n",
       "      <th>SleepHours</th>\n",
       "      <th>SleepQuality</th>\n",
       "      <th>MonitoringScore</th>\n",
       "      <th>Pain</th>\n",
       "      <th>Illness</th>\n",
       "      <th>Menstruation</th>\n",
       "      <th>Nutrition</th>\n",
       "      <th>NutritionAdjustment</th>\n",
       "      <th>USGMeasurement</th>\n",
       "      <th>USG</th>\n",
       "      <th>TrainingReadiness</th>\n",
       "    </tr>\n",
       "  </thead>\n",
       "  <tbody>\n",
       "    <tr>\n",
       "      <th>0</th>\n",
       "      <td>2018-07-21</td>\n",
       "      <td>1</td>\n",
       "      <td>3</td>\n",
       "      <td>3</td>\n",
       "      <td>2</td>\n",
       "      <td>3</td>\n",
       "      <td>8.00</td>\n",
       "      <td>2</td>\n",
       "      <td>13</td>\n",
       "      <td>1</td>\n",
       "      <td>3</td>\n",
       "      <td>0</td>\n",
       "      <td>3</td>\n",
       "      <td>Yes</td>\n",
       "      <td>No</td>\n",
       "      <td>NaN</td>\n",
       "      <td>0%</td>\n",
       "    </tr>\n",
       "    <tr>\n",
       "      <th>1</th>\n",
       "      <td>2018-07-21</td>\n",
       "      <td>2</td>\n",
       "      <td>4</td>\n",
       "      <td>3</td>\n",
       "      <td>4</td>\n",
       "      <td>4</td>\n",
       "      <td>8.00</td>\n",
       "      <td>4</td>\n",
       "      <td>19</td>\n",
       "      <td>0</td>\n",
       "      <td>3</td>\n",
       "      <td>0</td>\n",
       "      <td>3</td>\n",
       "      <td>NaN</td>\n",
       "      <td>Yes</td>\n",
       "      <td>1.010</td>\n",
       "      <td>0%</td>\n",
       "    </tr>\n",
       "    <tr>\n",
       "      <th>2</th>\n",
       "      <td>2018-07-21</td>\n",
       "      <td>3</td>\n",
       "      <td>3</td>\n",
       "      <td>3</td>\n",
       "      <td>5</td>\n",
       "      <td>4</td>\n",
       "      <td>8.00</td>\n",
       "      <td>4</td>\n",
       "      <td>19</td>\n",
       "      <td>1</td>\n",
       "      <td>3</td>\n",
       "      <td>1</td>\n",
       "      <td>3</td>\n",
       "      <td>NaN</td>\n",
       "      <td>Yes</td>\n",
       "      <td>1.016</td>\n",
       "      <td>100%</td>\n",
       "    </tr>\n",
       "    <tr>\n",
       "      <th>3</th>\n",
       "      <td>2018-07-21</td>\n",
       "      <td>4</td>\n",
       "      <td>2</td>\n",
       "      <td>3</td>\n",
       "      <td>5</td>\n",
       "      <td>4</td>\n",
       "      <td>6.50</td>\n",
       "      <td>1</td>\n",
       "      <td>15</td>\n",
       "      <td>1</td>\n",
       "      <td>3</td>\n",
       "      <td>0</td>\n",
       "      <td>3</td>\n",
       "      <td>Yes</td>\n",
       "      <td>Yes</td>\n",
       "      <td>1.025</td>\n",
       "      <td>95%</td>\n",
       "    </tr>\n",
       "    <tr>\n",
       "      <th>4</th>\n",
       "      <td>2018-07-21</td>\n",
       "      <td>5</td>\n",
       "      <td>5</td>\n",
       "      <td>3</td>\n",
       "      <td>4</td>\n",
       "      <td>4</td>\n",
       "      <td>7.25</td>\n",
       "      <td>4</td>\n",
       "      <td>20</td>\n",
       "      <td>1</td>\n",
       "      <td>3</td>\n",
       "      <td>1</td>\n",
       "      <td>2</td>\n",
       "      <td>Yes</td>\n",
       "      <td>Yes</td>\n",
       "      <td>1.022</td>\n",
       "      <td>100%</td>\n",
       "    </tr>\n",
       "  </tbody>\n",
       "</table>\n",
       "</div>"
      ],
      "text/plain": [
       "         Date  PlayerID  Fatigue  Soreness  Desire  Irritability  SleepHours  \\\n",
       "0  2018-07-21         1        3         3       2             3        8.00   \n",
       "1  2018-07-21         2        4         3       4             4        8.00   \n",
       "2  2018-07-21         3        3         3       5             4        8.00   \n",
       "3  2018-07-21         4        2         3       5             4        6.50   \n",
       "4  2018-07-21         5        5         3       4             4        7.25   \n",
       "\n",
       "   SleepQuality  MonitoringScore  Pain  Illness  Menstruation  Nutrition  \\\n",
       "0             2               13     1        3             0          3   \n",
       "1             4               19     0        3             0          3   \n",
       "2             4               19     1        3             1          3   \n",
       "3             1               15     1        3             0          3   \n",
       "4             4               20     1        3             1          2   \n",
       "\n",
       "  NutritionAdjustment USGMeasurement    USG TrainingReadiness  \n",
       "0                 Yes             No    NaN                0%  \n",
       "1                 NaN            Yes  1.010                0%  \n",
       "2                 NaN            Yes  1.016              100%  \n",
       "3                 Yes            Yes  1.025               95%  \n",
       "4                 Yes            Yes  1.022              100%  "
      ]
     },
     "execution_count": 41,
     "metadata": {},
     "output_type": "execute_result"
    }
   ],
   "source": [
    "wellness_df['Nutrition'] = wellness_df['Nutrition'].map({'Excellent': 3, 'Okay': 2, 'Poor': 1})\n",
    "non_imputed_wellness_df['Nutrition'] = non_imputed_wellness_df['Nutrition'].map({'Excellent': 3, 'Okay': 2, 'Poor': 1})\n",
    "wellness_df.head()\n"
   ]
  },
  {
   "cell_type": "markdown",
   "metadata": {},
   "source": [
    "### NutritionAdjustment"
   ]
  },
  {
   "cell_type": "code",
   "execution_count": 42,
   "metadata": {},
   "outputs": [
    {
     "data": {
      "text/plain": [
       "Yes             3718\n",
       "No               438\n",
       "I Don't Know      99\n",
       "Name: NutritionAdjustment, dtype: int64"
      ]
     },
     "execution_count": 42,
     "metadata": {},
     "output_type": "execute_result"
    }
   ],
   "source": [
    "wellness_df['NutritionAdjustment'].value_counts()"
   ]
  },
  {
   "cell_type": "code",
   "execution_count": 43,
   "metadata": {},
   "outputs": [
    {
     "data": {
      "text/plain": [
       "(740, 17)"
      ]
     },
     "execution_count": 43,
     "metadata": {},
     "output_type": "execute_result"
    }
   ],
   "source": [
    "wellness_df[wellness_df['NutritionAdjustment'].isnull()].shape"
   ]
  },
  {
   "cell_type": "markdown",
   "metadata": {},
   "source": [
    "There are some missing values in nutrition adjustment and we are unsure about the relevance of this column to wellness in general. Even columns that have data are not informative as their response is \"I don't know\". Thus, we will remove this column from our analysis."
   ]
  },
  {
   "cell_type": "code",
   "execution_count": 44,
   "metadata": {},
   "outputs": [
    {
     "data": {
      "text/html": [
       "<div>\n",
       "<style scoped>\n",
       "    .dataframe tbody tr th:only-of-type {\n",
       "        vertical-align: middle;\n",
       "    }\n",
       "\n",
       "    .dataframe tbody tr th {\n",
       "        vertical-align: top;\n",
       "    }\n",
       "\n",
       "    .dataframe thead th {\n",
       "        text-align: right;\n",
       "    }\n",
       "</style>\n",
       "<table border=\"1\" class=\"dataframe\">\n",
       "  <thead>\n",
       "    <tr style=\"text-align: right;\">\n",
       "      <th></th>\n",
       "      <th>Date</th>\n",
       "      <th>PlayerID</th>\n",
       "      <th>Fatigue</th>\n",
       "      <th>Soreness</th>\n",
       "      <th>Desire</th>\n",
       "      <th>Irritability</th>\n",
       "      <th>SleepHours</th>\n",
       "      <th>SleepQuality</th>\n",
       "      <th>MonitoringScore</th>\n",
       "      <th>Pain</th>\n",
       "      <th>Illness</th>\n",
       "      <th>Menstruation</th>\n",
       "      <th>Nutrition</th>\n",
       "      <th>USGMeasurement</th>\n",
       "      <th>USG</th>\n",
       "      <th>TrainingReadiness</th>\n",
       "    </tr>\n",
       "  </thead>\n",
       "  <tbody>\n",
       "    <tr>\n",
       "      <th>0</th>\n",
       "      <td>2018-07-21</td>\n",
       "      <td>1</td>\n",
       "      <td>3</td>\n",
       "      <td>3</td>\n",
       "      <td>2</td>\n",
       "      <td>3</td>\n",
       "      <td>8.00</td>\n",
       "      <td>2</td>\n",
       "      <td>13</td>\n",
       "      <td>1</td>\n",
       "      <td>3</td>\n",
       "      <td>0</td>\n",
       "      <td>3</td>\n",
       "      <td>No</td>\n",
       "      <td>NaN</td>\n",
       "      <td>0%</td>\n",
       "    </tr>\n",
       "    <tr>\n",
       "      <th>1</th>\n",
       "      <td>2018-07-21</td>\n",
       "      <td>2</td>\n",
       "      <td>4</td>\n",
       "      <td>3</td>\n",
       "      <td>4</td>\n",
       "      <td>4</td>\n",
       "      <td>8.00</td>\n",
       "      <td>4</td>\n",
       "      <td>19</td>\n",
       "      <td>0</td>\n",
       "      <td>3</td>\n",
       "      <td>0</td>\n",
       "      <td>3</td>\n",
       "      <td>Yes</td>\n",
       "      <td>1.010</td>\n",
       "      <td>0%</td>\n",
       "    </tr>\n",
       "    <tr>\n",
       "      <th>2</th>\n",
       "      <td>2018-07-21</td>\n",
       "      <td>3</td>\n",
       "      <td>3</td>\n",
       "      <td>3</td>\n",
       "      <td>5</td>\n",
       "      <td>4</td>\n",
       "      <td>8.00</td>\n",
       "      <td>4</td>\n",
       "      <td>19</td>\n",
       "      <td>1</td>\n",
       "      <td>3</td>\n",
       "      <td>1</td>\n",
       "      <td>3</td>\n",
       "      <td>Yes</td>\n",
       "      <td>1.016</td>\n",
       "      <td>100%</td>\n",
       "    </tr>\n",
       "    <tr>\n",
       "      <th>3</th>\n",
       "      <td>2018-07-21</td>\n",
       "      <td>4</td>\n",
       "      <td>2</td>\n",
       "      <td>3</td>\n",
       "      <td>5</td>\n",
       "      <td>4</td>\n",
       "      <td>6.50</td>\n",
       "      <td>1</td>\n",
       "      <td>15</td>\n",
       "      <td>1</td>\n",
       "      <td>3</td>\n",
       "      <td>0</td>\n",
       "      <td>3</td>\n",
       "      <td>Yes</td>\n",
       "      <td>1.025</td>\n",
       "      <td>95%</td>\n",
       "    </tr>\n",
       "    <tr>\n",
       "      <th>4</th>\n",
       "      <td>2018-07-21</td>\n",
       "      <td>5</td>\n",
       "      <td>5</td>\n",
       "      <td>3</td>\n",
       "      <td>4</td>\n",
       "      <td>4</td>\n",
       "      <td>7.25</td>\n",
       "      <td>4</td>\n",
       "      <td>20</td>\n",
       "      <td>1</td>\n",
       "      <td>3</td>\n",
       "      <td>1</td>\n",
       "      <td>2</td>\n",
       "      <td>Yes</td>\n",
       "      <td>1.022</td>\n",
       "      <td>100%</td>\n",
       "    </tr>\n",
       "  </tbody>\n",
       "</table>\n",
       "</div>"
      ],
      "text/plain": [
       "         Date  PlayerID  Fatigue  Soreness  Desire  Irritability  SleepHours  \\\n",
       "0  2018-07-21         1        3         3       2             3        8.00   \n",
       "1  2018-07-21         2        4         3       4             4        8.00   \n",
       "2  2018-07-21         3        3         3       5             4        8.00   \n",
       "3  2018-07-21         4        2         3       5             4        6.50   \n",
       "4  2018-07-21         5        5         3       4             4        7.25   \n",
       "\n",
       "   SleepQuality  MonitoringScore  Pain  Illness  Menstruation  Nutrition  \\\n",
       "0             2               13     1        3             0          3   \n",
       "1             4               19     0        3             0          3   \n",
       "2             4               19     1        3             1          3   \n",
       "3             1               15     1        3             0          3   \n",
       "4             4               20     1        3             1          2   \n",
       "\n",
       "  USGMeasurement    USG TrainingReadiness  \n",
       "0             No    NaN                0%  \n",
       "1            Yes  1.010                0%  \n",
       "2            Yes  1.016              100%  \n",
       "3            Yes  1.025               95%  \n",
       "4            Yes  1.022              100%  "
      ]
     },
     "execution_count": 44,
     "metadata": {},
     "output_type": "execute_result"
    }
   ],
   "source": [
    "wellness_df = wellness_df.drop(columns=['NutritionAdjustment'])\n",
    "non_imputed_wellness_df = non_imputed_wellness_df.drop(columns=['NutritionAdjustment'])\n",
    "wellness_df.head()\n"
   ]
  },
  {
   "cell_type": "markdown",
   "metadata": {},
   "source": [
    "### USG"
   ]
  },
  {
   "cell_type": "markdown",
   "metadata": {},
   "source": [
    "` USGMeasurement` is just a flag that tells us whether there is a value for USG on that row so it does not provide us any useful information we could not get from just looking at the `USG` column. So, I will drop it."
   ]
  },
  {
   "cell_type": "code",
   "execution_count": 45,
   "metadata": {},
   "outputs": [],
   "source": [
    "wellness_df = wellness_df.drop(columns=['USGMeasurement'])\n",
    "non_imputed_wellness_df = non_imputed_wellness_df.drop(columns=['USGMeasurement'])\n"
   ]
  },
  {
   "cell_type": "code",
   "execution_count": 46,
   "metadata": {},
   "outputs": [
    {
     "data": {
      "text/plain": [
       "(4370, 15)"
      ]
     },
     "execution_count": 46,
     "metadata": {},
     "output_type": "execute_result"
    }
   ],
   "source": [
    "wellness_df[wellness_df['USG'].isnull()].shape\n"
   ]
  },
  {
   "cell_type": "markdown",
   "metadata": {},
   "source": [
    "There are so many missing measurements for `USG` that I don't think we could do anything over than dropping it."
   ]
  },
  {
   "cell_type": "code",
   "execution_count": 47,
   "metadata": {},
   "outputs": [],
   "source": [
    "wellness_df = wellness_df.drop(columns=['USG'])\n",
    "non_imputed_wellness_df = non_imputed_wellness_df.drop(columns=['USG'])\n"
   ]
  },
  {
   "cell_type": "markdown",
   "metadata": {},
   "source": [
    "### TrainingReadiness"
   ]
  },
  {
   "cell_type": "code",
   "execution_count": 48,
   "metadata": {},
   "outputs": [
    {
     "data": {
      "text/plain": [
       "100%    1434\n",
       "0%      1004\n",
       "90%      641\n",
       "95%      590\n",
       "85%      293\n",
       "80%      226\n",
       "75%      201\n",
       "70%      152\n",
       "65%      111\n",
       "50%       72\n",
       "60%       70\n",
       "55%       52\n",
       "35%       26\n",
       "45%       23\n",
       "30%       17\n",
       "25%       17\n",
       "40%       16\n",
       "15%       14\n",
       "20%       14\n",
       "5%        11\n",
       "10%       11\n",
       "Name: TrainingReadiness, dtype: int64"
      ]
     },
     "execution_count": 48,
     "metadata": {},
     "output_type": "execute_result"
    }
   ],
   "source": [
    "wellness_df['TrainingReadiness'].value_counts()"
   ]
  },
  {
   "cell_type": "code",
   "execution_count": 49,
   "metadata": {},
   "outputs": [
    {
     "data": {
      "text/plain": [
       "(0, 14)"
      ]
     },
     "execution_count": 49,
     "metadata": {},
     "output_type": "execute_result"
    }
   ],
   "source": [
    "wellness_df[wellness_df['TrainingReadiness'].isnull()].shape"
   ]
  },
  {
   "cell_type": "markdown",
   "metadata": {},
   "source": [
    "Training readiness has no missing values and is expressed as percentages. I can map these to integers."
   ]
  },
  {
   "cell_type": "code",
   "execution_count": 50,
   "metadata": {},
   "outputs": [
    {
     "data": {
      "text/html": [
       "<div>\n",
       "<style scoped>\n",
       "    .dataframe tbody tr th:only-of-type {\n",
       "        vertical-align: middle;\n",
       "    }\n",
       "\n",
       "    .dataframe tbody tr th {\n",
       "        vertical-align: top;\n",
       "    }\n",
       "\n",
       "    .dataframe thead th {\n",
       "        text-align: right;\n",
       "    }\n",
       "</style>\n",
       "<table border=\"1\" class=\"dataframe\">\n",
       "  <thead>\n",
       "    <tr style=\"text-align: right;\">\n",
       "      <th></th>\n",
       "      <th>Date</th>\n",
       "      <th>PlayerID</th>\n",
       "      <th>Fatigue</th>\n",
       "      <th>Soreness</th>\n",
       "      <th>Desire</th>\n",
       "      <th>Irritability</th>\n",
       "      <th>SleepHours</th>\n",
       "      <th>SleepQuality</th>\n",
       "      <th>MonitoringScore</th>\n",
       "      <th>Pain</th>\n",
       "      <th>Illness</th>\n",
       "      <th>Menstruation</th>\n",
       "      <th>Nutrition</th>\n",
       "      <th>TrainingReadiness</th>\n",
       "    </tr>\n",
       "  </thead>\n",
       "  <tbody>\n",
       "    <tr>\n",
       "      <th>0</th>\n",
       "      <td>2018-07-21</td>\n",
       "      <td>1</td>\n",
       "      <td>3</td>\n",
       "      <td>3</td>\n",
       "      <td>2</td>\n",
       "      <td>3</td>\n",
       "      <td>8.00</td>\n",
       "      <td>2</td>\n",
       "      <td>13</td>\n",
       "      <td>1</td>\n",
       "      <td>3</td>\n",
       "      <td>0</td>\n",
       "      <td>3</td>\n",
       "      <td>0</td>\n",
       "    </tr>\n",
       "    <tr>\n",
       "      <th>1</th>\n",
       "      <td>2018-07-21</td>\n",
       "      <td>2</td>\n",
       "      <td>4</td>\n",
       "      <td>3</td>\n",
       "      <td>4</td>\n",
       "      <td>4</td>\n",
       "      <td>8.00</td>\n",
       "      <td>4</td>\n",
       "      <td>19</td>\n",
       "      <td>0</td>\n",
       "      <td>3</td>\n",
       "      <td>0</td>\n",
       "      <td>3</td>\n",
       "      <td>0</td>\n",
       "    </tr>\n",
       "    <tr>\n",
       "      <th>2</th>\n",
       "      <td>2018-07-21</td>\n",
       "      <td>3</td>\n",
       "      <td>3</td>\n",
       "      <td>3</td>\n",
       "      <td>5</td>\n",
       "      <td>4</td>\n",
       "      <td>8.00</td>\n",
       "      <td>4</td>\n",
       "      <td>19</td>\n",
       "      <td>1</td>\n",
       "      <td>3</td>\n",
       "      <td>1</td>\n",
       "      <td>3</td>\n",
       "      <td>100</td>\n",
       "    </tr>\n",
       "    <tr>\n",
       "      <th>3</th>\n",
       "      <td>2018-07-21</td>\n",
       "      <td>4</td>\n",
       "      <td>2</td>\n",
       "      <td>3</td>\n",
       "      <td>5</td>\n",
       "      <td>4</td>\n",
       "      <td>6.50</td>\n",
       "      <td>1</td>\n",
       "      <td>15</td>\n",
       "      <td>1</td>\n",
       "      <td>3</td>\n",
       "      <td>0</td>\n",
       "      <td>3</td>\n",
       "      <td>95</td>\n",
       "    </tr>\n",
       "    <tr>\n",
       "      <th>4</th>\n",
       "      <td>2018-07-21</td>\n",
       "      <td>5</td>\n",
       "      <td>5</td>\n",
       "      <td>3</td>\n",
       "      <td>4</td>\n",
       "      <td>4</td>\n",
       "      <td>7.25</td>\n",
       "      <td>4</td>\n",
       "      <td>20</td>\n",
       "      <td>1</td>\n",
       "      <td>3</td>\n",
       "      <td>1</td>\n",
       "      <td>2</td>\n",
       "      <td>100</td>\n",
       "    </tr>\n",
       "  </tbody>\n",
       "</table>\n",
       "</div>"
      ],
      "text/plain": [
       "         Date  PlayerID  Fatigue  Soreness  Desire  Irritability  SleepHours  \\\n",
       "0  2018-07-21         1        3         3       2             3        8.00   \n",
       "1  2018-07-21         2        4         3       4             4        8.00   \n",
       "2  2018-07-21         3        3         3       5             4        8.00   \n",
       "3  2018-07-21         4        2         3       5             4        6.50   \n",
       "4  2018-07-21         5        5         3       4             4        7.25   \n",
       "\n",
       "   SleepQuality  MonitoringScore  Pain  Illness  Menstruation  Nutrition  \\\n",
       "0             2               13     1        3             0          3   \n",
       "1             4               19     0        3             0          3   \n",
       "2             4               19     1        3             1          3   \n",
       "3             1               15     1        3             0          3   \n",
       "4             4               20     1        3             1          2   \n",
       "\n",
       "   TrainingReadiness  \n",
       "0                  0  \n",
       "1                  0  \n",
       "2                100  \n",
       "3                 95  \n",
       "4                100  "
      ]
     },
     "execution_count": 50,
     "metadata": {},
     "output_type": "execute_result"
    }
   ],
   "source": [
    "wellness_df['TrainingReadiness'] = wellness_df.apply(lambda row: int(row['TrainingReadiness'][0:-1]), axis=1)\n",
    "non_imputed_wellness_df['TrainingReadiness'] = non_imputed_wellness_df.apply(lambda row: int(row['TrainingReadiness'][0:-1]), axis=1)\n",
    "wellness_df.head()\n"
   ]
  },
  {
   "cell_type": "code",
   "execution_count": 51,
   "metadata": {},
   "outputs": [
    {
     "data": {
      "image/png": "[encoded data removed]",
      "text/plain": [
       "<Figure size 432x288 with 1 Axes>"
      ]
     },
     "metadata": {
      "needs_background": "light"
     },
     "output_type": "display_data"
    }
   ],
   "source": [
    "wellness_df['TrainingReadiness'].hist()\n",
    "plt.title('Distribution of TrainingReadiness')\n",
    "plt.show()"
   ]
  },
  {
   "cell_type": "markdown",
   "metadata": {},
   "source": [
    "Training readiness has an interesting distribution where most players are 100% ready but the second most common response is close to 0. We also see a tail to the left of 100% with a small number of player tending down to about 50% readiness.\n",
    "\n",
    "It is interesting that most players see themselves as completely ready or not at all ready to train. I wonder what causes the players to be 0% ready to train? Is there are correlation to one of the binary variables like illness? We will explore correlations between all the wellness columns later in this notebook."
   ]
  },
  {
   "cell_type": "markdown",
   "metadata": {},
   "source": [
    "To see if there is some factor of wellness that is affecting training readiness, we could look at the Monitoring Scores of those who marked themselves with low vs high Training Readiness."
   ]
  },
  {
   "cell_type": "code",
   "execution_count": 52,
   "metadata": {},
   "outputs": [],
   "source": [
    "low_readiness_df = wellness_df[wellness_df['TrainingReadiness'] <= 10]\n",
    "high_readiness_df = wellness_df[wellness_df['TrainingReadiness'] >= 80]"
   ]
  },
  {
   "cell_type": "code",
   "execution_count": 53,
   "metadata": {},
   "outputs": [
    {
     "data": {
      "text/plain": [
       "17.680311890838208"
      ]
     },
     "execution_count": 53,
     "metadata": {},
     "output_type": "execute_result"
    }
   ],
   "source": [
    "low_readiness_df['MonitoringScore'].mean()"
   ]
  },
  {
   "cell_type": "code",
   "execution_count": 54,
   "metadata": {},
   "outputs": [
    {
     "data": {
      "text/plain": [
       "3.908857022161638"
      ]
     },
     "execution_count": 54,
     "metadata": {},
     "output_type": "execute_result"
    }
   ],
   "source": [
    "low_readiness_df['MonitoringScore'].std()"
   ]
  },
  {
   "cell_type": "code",
   "execution_count": 55,
   "metadata": {},
   "outputs": [
    {
     "data": {
      "text/plain": [
       "18.78831658291457"
      ]
     },
     "execution_count": 55,
     "metadata": {},
     "output_type": "execute_result"
    }
   ],
   "source": [
    "high_readiness_df['MonitoringScore'].mean()"
   ]
  },
  {
   "cell_type": "code",
   "execution_count": 56,
   "metadata": {},
   "outputs": [
    {
     "data": {
      "text/plain": [
       "3.589759467852359"
      ]
     },
     "execution_count": 56,
     "metadata": {},
     "output_type": "execute_result"
    }
   ],
   "source": [
    "high_readiness_df['MonitoringScore'].std()"
   ]
  },
  {
   "cell_type": "code",
   "execution_count": 57,
   "metadata": {},
   "outputs": [
    {
     "data": {
      "image/png": "[encoded data removed]",
      "text/plain": [
       "<Figure size 432x288 with 1 Axes>"
      ]
     },
     "metadata": {
      "needs_background": "light"
     },
     "output_type": "display_data"
    }
   ],
   "source": [
    "plt.bar(np.sort(low_readiness_df['MonitoringScore'].unique()), low_readiness_df['MonitoringScore'].value_counts().sort_index())\n",
    "plt.title('Distribution of Monitor Score for Low Training Readiness')\n",
    "plt.show()\n"
   ]
  },
  {
   "cell_type": "code",
   "execution_count": 58,
   "metadata": {},
   "outputs": [
    {
     "data": {
      "image/png": "[encoded data removed]",
      "text/plain": [
       "<Figure size 432x288 with 1 Axes>"
      ]
     },
     "metadata": {
      "needs_background": "light"
     },
     "output_type": "display_data"
    }
   ],
   "source": [
    "plt.bar(np.sort(high_readiness_df['MonitoringScore'].unique()), high_readiness_df['MonitoringScore'].value_counts().sort_index())\n",
    "plt.title('Distribution of Monitor Score for High Training Readiness')\n",
    "plt.show()\n"
   ]
  },
  {
   "cell_type": "markdown",
   "metadata": {},
   "source": [
    "It seems like the Monitoring Score of those with low Training Readiness tends to be lower than the Monitoring Score of those with high Training Readiness. To see the effect size of this relationship, we can compute the repeated measures correlation between Monitoring Score and Training Readiness."
   ]
  },
  {
   "cell_type": "code",
   "execution_count": 59,
   "metadata": {},
   "outputs": [
    {
     "data": {
      "text/html": [
       "<div>\n",
       "<style scoped>\n",
       "    .dataframe tbody tr th:only-of-type {\n",
       "        vertical-align: middle;\n",
       "    }\n",
       "\n",
       "    .dataframe tbody tr th {\n",
       "        vertical-align: top;\n",
       "    }\n",
       "\n",
       "    .dataframe thead th {\n",
       "        text-align: right;\n",
       "    }\n",
       "</style>\n",
       "<table border=\"1\" class=\"dataframe\">\n",
       "  <thead>\n",
       "    <tr style=\"text-align: right;\">\n",
       "      <th></th>\n",
       "      <th>r</th>\n",
       "      <th>dof</th>\n",
       "      <th>pval</th>\n",
       "      <th>CI95%</th>\n",
       "      <th>power</th>\n",
       "    </tr>\n",
       "  </thead>\n",
       "  <tbody>\n",
       "    <tr>\n",
       "      <th>rm_corr</th>\n",
       "      <td>0.227</td>\n",
       "      <td>4977</td>\n",
       "      <td>2.639584e-59</td>\n",
       "      <td>[0.2, 0.25]</td>\n",
       "      <td>1.0</td>\n",
       "    </tr>\n",
       "  </tbody>\n",
       "</table>\n",
       "</div>"
      ],
      "text/plain": [
       "             r   dof          pval        CI95%  power\n",
       "rm_corr  0.227  4977  2.639584e-59  [0.2, 0.25]    1.0"
      ]
     },
     "execution_count": 59,
     "metadata": {},
     "output_type": "execute_result"
    }
   ],
   "source": [
    "pg.rm_corr(data=wellness_df, x='MonitoringScore', y='TrainingReadiness', subject='PlayerID')\n"
   ]
  },
  {
   "cell_type": "markdown",
   "metadata": {},
   "source": [
    "We see that there is a weak positive correlation between monitoring score and training readiness. Higher monitoring score is related to higher training readiness, however, training readiness still measures aspects of wellness not covered by the monitoring score. Thus, we should keep it in our dataset for now."
   ]
  },
  {
   "cell_type": "markdown",
   "metadata": {},
   "source": [
    "### Monitoring Score"
   ]
  },
  {
   "cell_type": "markdown",
   "metadata": {},
   "source": [
    "This is an aggregation of the 5 scale values. We could either use this or the 5 scales on their own but it would not be appropriate to use both. Given that we will later use factor analysis to see if our data can be represented as latent factors, we should ignore this summary column and see if the columns that it is made from are actually all related."
   ]
  },
  {
   "cell_type": "code",
   "execution_count": 60,
   "metadata": {},
   "outputs": [
    {
     "data": {
      "text/html": [
       "<div>\n",
       "<style scoped>\n",
       "    .dataframe tbody tr th:only-of-type {\n",
       "        vertical-align: middle;\n",
       "    }\n",
       "\n",
       "    .dataframe tbody tr th {\n",
       "        vertical-align: top;\n",
       "    }\n",
       "\n",
       "    .dataframe thead th {\n",
       "        text-align: right;\n",
       "    }\n",
       "</style>\n",
       "<table border=\"1\" class=\"dataframe\">\n",
       "  <thead>\n",
       "    <tr style=\"text-align: right;\">\n",
       "      <th></th>\n",
       "      <th>Date</th>\n",
       "      <th>PlayerID</th>\n",
       "      <th>Fatigue</th>\n",
       "      <th>Soreness</th>\n",
       "      <th>Desire</th>\n",
       "      <th>Irritability</th>\n",
       "      <th>SleepHours</th>\n",
       "      <th>SleepQuality</th>\n",
       "      <th>Pain</th>\n",
       "      <th>Illness</th>\n",
       "      <th>Menstruation</th>\n",
       "      <th>Nutrition</th>\n",
       "      <th>TrainingReadiness</th>\n",
       "    </tr>\n",
       "  </thead>\n",
       "  <tbody>\n",
       "    <tr>\n",
       "      <th>0</th>\n",
       "      <td>2018-07-21</td>\n",
       "      <td>1</td>\n",
       "      <td>3</td>\n",
       "      <td>3</td>\n",
       "      <td>2</td>\n",
       "      <td>3</td>\n",
       "      <td>8.00</td>\n",
       "      <td>2</td>\n",
       "      <td>1</td>\n",
       "      <td>3</td>\n",
       "      <td>0</td>\n",
       "      <td>3</td>\n",
       "      <td>0</td>\n",
       "    </tr>\n",
       "    <tr>\n",
       "      <th>1</th>\n",
       "      <td>2018-07-21</td>\n",
       "      <td>2</td>\n",
       "      <td>4</td>\n",
       "      <td>3</td>\n",
       "      <td>4</td>\n",
       "      <td>4</td>\n",
       "      <td>8.00</td>\n",
       "      <td>4</td>\n",
       "      <td>0</td>\n",
       "      <td>3</td>\n",
       "      <td>0</td>\n",
       "      <td>3</td>\n",
       "      <td>0</td>\n",
       "    </tr>\n",
       "    <tr>\n",
       "      <th>2</th>\n",
       "      <td>2018-07-21</td>\n",
       "      <td>3</td>\n",
       "      <td>3</td>\n",
       "      <td>3</td>\n",
       "      <td>5</td>\n",
       "      <td>4</td>\n",
       "      <td>8.00</td>\n",
       "      <td>4</td>\n",
       "      <td>1</td>\n",
       "      <td>3</td>\n",
       "      <td>1</td>\n",
       "      <td>3</td>\n",
       "      <td>100</td>\n",
       "    </tr>\n",
       "    <tr>\n",
       "      <th>3</th>\n",
       "      <td>2018-07-21</td>\n",
       "      <td>4</td>\n",
       "      <td>2</td>\n",
       "      <td>3</td>\n",
       "      <td>5</td>\n",
       "      <td>4</td>\n",
       "      <td>6.50</td>\n",
       "      <td>1</td>\n",
       "      <td>1</td>\n",
       "      <td>3</td>\n",
       "      <td>0</td>\n",
       "      <td>3</td>\n",
       "      <td>95</td>\n",
       "    </tr>\n",
       "    <tr>\n",
       "      <th>4</th>\n",
       "      <td>2018-07-21</td>\n",
       "      <td>5</td>\n",
       "      <td>5</td>\n",
       "      <td>3</td>\n",
       "      <td>4</td>\n",
       "      <td>4</td>\n",
       "      <td>7.25</td>\n",
       "      <td>4</td>\n",
       "      <td>1</td>\n",
       "      <td>3</td>\n",
       "      <td>1</td>\n",
       "      <td>2</td>\n",
       "      <td>100</td>\n",
       "    </tr>\n",
       "  </tbody>\n",
       "</table>\n",
       "</div>"
      ],
      "text/plain": [
       "         Date  PlayerID  Fatigue  Soreness  Desire  Irritability  SleepHours  \\\n",
       "0  2018-07-21         1        3         3       2             3        8.00   \n",
       "1  2018-07-21         2        4         3       4             4        8.00   \n",
       "2  2018-07-21         3        3         3       5             4        8.00   \n",
       "3  2018-07-21         4        2         3       5             4        6.50   \n",
       "4  2018-07-21         5        5         3       4             4        7.25   \n",
       "\n",
       "   SleepQuality  Pain  Illness  Menstruation  Nutrition  TrainingReadiness  \n",
       "0             2     1        3             0          3                  0  \n",
       "1             4     0        3             0          3                  0  \n",
       "2             4     1        3             1          3                100  \n",
       "3             1     1        3             0          3                 95  \n",
       "4             4     1        3             1          2                100  "
      ]
     },
     "execution_count": 60,
     "metadata": {},
     "output_type": "execute_result"
    }
   ],
   "source": [
    "full_wellness_df = wellness_df.copy() # Save full df for later\n",
    "wellness_df = wellness_df.drop(columns=['MonitoringScore'])\n",
    "non_imputed_wellness_df = non_imputed_wellness_df.drop(columns=['MonitoringScore'])\n",
    "wellness_df.head()\n"
   ]
  },
  {
   "cell_type": "code",
   "execution_count": 61,
   "metadata": {},
   "outputs": [
    {
     "data": {
      "text/plain": [
       "(4995, 13)"
      ]
     },
     "execution_count": 61,
     "metadata": {},
     "output_type": "execute_result"
    }
   ],
   "source": [
    "wellness_df.shape\n"
   ]
  },
  {
   "cell_type": "markdown",
   "metadata": {},
   "source": [
    "After all my cleaning, I am left with 4995 observations and 11 observed variables for factor analysis (date and player id) are not useful in this case."
   ]
  },
  {
   "cell_type": "code",
   "execution_count": 62,
   "metadata": {},
   "outputs": [
    {
     "data": {
      "text/plain": [
       "Index(['Date', 'PlayerID', 'Fatigue', 'Soreness', 'Desire', 'Irritability',\n",
       "       'SleepHours', 'SleepQuality', 'Pain', 'Illness', 'Menstruation',\n",
       "       'Nutrition', 'TrainingReadiness'],\n",
       "      dtype='object')"
      ]
     },
     "execution_count": 62,
     "metadata": {},
     "output_type": "execute_result"
    }
   ],
   "source": [
    "wellness_df.columns"
   ]
  },
  {
   "cell_type": "markdown",
   "metadata": {},
   "source": [
    "### Repeated Measures Correlations"
   ]
  },
  {
   "cell_type": "markdown",
   "metadata": {},
   "source": [
    "We have performed repeated measures correlations on some of the columns as we explored to wellness data. To get a full picture of how the wellness data columns relate to each other, we will now perform the repeated measures correlation for all relevant columns (excluding Date and Player ID). Unfortunately, the package we are using does not give us a repeated measures correlation matrix so we will iteratively compute the correlations in a loop and then summarize all the correlations above `0.3`."
   ]
  },
  {
   "cell_type": "code",
   "execution_count": 63,
   "metadata": {},
   "outputs": [
    {
     "name": "stdout",
     "output_type": "stream",
     "text": [
      "Repeated Measures Correlation Result for Fatigue and Soreness\n",
      "             r   dof           pval        CI95%  power\n",
      "rm_corr  0.425  4977  4.349049e-218  [0.4, 0.45]    1.0\n",
      "Repeated Measures Correlation Result for Fatigue and Desire\n",
      "             r   dof           pval         CI95%  power\n",
      "rm_corr  0.491  4977  2.047966e-300  [0.47, 0.51]    1.0\n",
      "Repeated Measures Correlation Result for Fatigue and Irritability\n",
      "             r   dof           pval         CI95%  power\n",
      "rm_corr  0.382  4977  5.424256e-173  [0.36, 0.41]    1.0\n",
      "Repeated Measures Correlation Result for Fatigue and SleepHours\n",
      "             r   dof          pval         CI95%  power\n",
      "rm_corr  0.201  4977  2.500877e-46  [0.17, 0.23]    1.0\n",
      "Repeated Measures Correlation Result for Fatigue and SleepQuality\n",
      "             r   dof           pval        CI95%  power\n",
      "rm_corr  0.423  4977  6.015440e-215  [0.4, 0.45]    1.0\n",
      "Repeated Measures Correlation Result for Fatigue and Pain\n",
      "             r   dof      pval         CI95%  power\n",
      "rm_corr  0.036  4977  0.011026  [0.01, 0.06]   0.72\n",
      "Repeated Measures Correlation Result for Fatigue and Illness\n",
      "            r   dof          pval         CI95%  power\n",
      "rm_corr  0.11  4977  9.203220e-15  [0.08, 0.14]    1.0\n",
      "Repeated Measures Correlation Result for Fatigue and Menstruation\n",
      "             r   dof      pval          CI95%  power\n",
      "rm_corr -0.006  4977  0.665409  [-0.03, 0.02]  0.072\n",
      "Repeated Measures Correlation Result for Fatigue and Nutrition\n",
      "             r   dof          pval         CI95%  power\n",
      "rm_corr  0.147  4977  1.628291e-25  [0.12, 0.17]    1.0\n",
      "Repeated Measures Correlation Result for Fatigue and TrainingReadiness\n",
      "             r   dof          pval         CI95%  power\n",
      "rm_corr  0.158  4977  2.685135e-29  [0.13, 0.19]    1.0\n",
      "Repeated Measures Correlation Result for Soreness and Fatigue\n",
      "             r   dof           pval        CI95%  power\n",
      "rm_corr  0.425  4977  4.349030e-218  [0.4, 0.45]    1.0\n",
      "Repeated Measures Correlation Result for Soreness and Desire\n",
      "             r   dof           pval        CI95%  power\n",
      "rm_corr  0.379  4977  5.568108e-170  [0.36, 0.4]    1.0\n",
      "Repeated Measures Correlation Result for Soreness and Irritability\n",
      "             r   dof          pval         CI95%  power\n",
      "rm_corr  0.239  4977  1.397613e-65  [0.21, 0.26]    1.0\n",
      "Repeated Measures Correlation Result for Soreness and SleepHours\n",
      "             r   dof      pval         CI95%  power\n",
      "rm_corr  0.027  4977  0.058692  [-0.0, 0.05]  0.472\n",
      "Repeated Measures Correlation Result for Soreness and SleepQuality\n",
      "             r   dof          pval        CI95%  power\n",
      "rm_corr  0.178  4977  1.501552e-36  [0.15, 0.2]    1.0\n",
      "Repeated Measures Correlation Result for Soreness and Pain\n",
      "             r   dof          pval        CI95%  power\n",
      "rm_corr  0.131  4977  1.238324e-20  [0.1, 0.16]    1.0\n",
      "Repeated Measures Correlation Result for Soreness and Illness\n",
      "             r   dof      pval          CI95%  power\n",
      "rm_corr  0.013  4977  0.359858  [-0.01, 0.04]   0.15\n",
      "Repeated Measures Correlation Result for Soreness and Menstruation\n",
      "             r   dof      pval          CI95%  power\n",
      "rm_corr -0.014  4977  0.314112  [-0.04, 0.01]  0.172\n",
      "Repeated Measures Correlation Result for Soreness and Nutrition\n",
      "             r   dof      pval         CI95%  power\n",
      "rm_corr  0.061  4977  0.000018  [0.03, 0.09]   0.99\n",
      "Repeated Measures Correlation Result for Soreness and TrainingReadiness\n",
      "             r   dof          pval         CI95%  power\n",
      "rm_corr  0.101  4977  8.303302e-13  [0.07, 0.13]    1.0\n",
      "Repeated Measures Correlation Result for Desire and Fatigue\n",
      "             r   dof           pval         CI95%  power\n",
      "rm_corr  0.491  4977  2.047847e-300  [0.47, 0.51]    1.0\n",
      "Repeated Measures Correlation Result for Desire and Soreness\n",
      "             r   dof           pval        CI95%  power\n",
      "rm_corr  0.379  4977  5.567968e-170  [0.36, 0.4]    1.0\n",
      "Repeated Measures Correlation Result for Desire and Irritability\n",
      "             r   dof           pval         CI95%  power\n",
      "rm_corr  0.435  4977  1.861571e-229  [0.41, 0.46]    1.0\n",
      "Repeated Measures Correlation Result for Desire and SleepHours\n",
      "             r   dof      pval         CI95%  power\n",
      "rm_corr  0.036  4977  0.010464  [0.01, 0.06]  0.726\n",
      "Repeated Measures Correlation Result for Desire and SleepQuality\n",
      "             r   dof          pval        CI95%  power\n",
      "rm_corr  0.231  4977  2.345143e-61  [0.2, 0.26]    1.0\n",
      "Repeated Measures Correlation Result for Desire and Pain\n",
      "             r   dof     pval         CI95%  power\n",
      "rm_corr  0.059  4977  0.00003  [0.03, 0.09]  0.987\n",
      "Repeated Measures Correlation Result for Desire and Illness\n",
      "             r   dof          pval        CI95%  power\n",
      "rm_corr  0.126  4977  3.848405e-19  [0.1, 0.15]    1.0\n",
      "Repeated Measures Correlation Result for Desire and Menstruation\n",
      "             r   dof      pval          CI95%  power\n",
      "rm_corr  0.014  4977  0.334779  [-0.01, 0.04]  0.161\n",
      "Repeated Measures Correlation Result for Desire and Nutrition\n",
      "             r   dof          pval         CI95%  power\n",
      "rm_corr  0.153  4977  2.553690e-27  [0.13, 0.18]    1.0\n",
      "Repeated Measures Correlation Result for Desire and TrainingReadiness\n",
      "             r   dof           pval        CI95%  power\n",
      "rm_corr  0.324  4977  6.993297e-122  [0.3, 0.35]    1.0\n",
      "Repeated Measures Correlation Result for Irritability and Fatigue\n",
      "             r   dof           pval         CI95%  power\n",
      "rm_corr  0.382  4977  5.424700e-173  [0.36, 0.41]    1.0\n",
      "Repeated Measures Correlation Result for Irritability and Soreness\n",
      "             r   dof          pval         CI95%  power\n",
      "rm_corr  0.239  4977  1.397652e-65  [0.21, 0.26]    1.0\n",
      "Repeated Measures Correlation Result for Irritability and Desire\n",
      "             r   dof           pval         CI95%  power\n",
      "rm_corr  0.435  4977  1.861864e-229  [0.41, 0.46]    1.0\n",
      "Repeated Measures Correlation Result for Irritability and SleepHours\n",
      "            r   dof          pval         CI95%  power\n",
      "rm_corr  0.08  4977  1.817824e-08  [0.05, 0.11]    1.0\n",
      "Repeated Measures Correlation Result for Irritability and SleepQuality\n",
      "             r   dof           pval         CI95%  power\n",
      "rm_corr  0.307  4977  6.799473e-109  [0.28, 0.33]    1.0\n",
      "Repeated Measures Correlation Result for Irritability and Pain\n",
      "             r   dof      pval         CI95%  power\n",
      "rm_corr  0.045  4977  0.001678  [0.02, 0.07]  0.882\n",
      "Repeated Measures Correlation Result for Irritability and Illness\n",
      "             r   dof          pval         CI95%  power\n",
      "rm_corr  0.093  4977  5.857999e-11  [0.07, 0.12]    1.0\n",
      "Repeated Measures Correlation Result for Irritability and Menstruation\n",
      "             r   dof      pval          CI95%  power\n",
      "rm_corr  0.019  4977  0.179349  [-0.01, 0.05]  0.269\n",
      "Repeated Measures Correlation Result for Irritability and Nutrition\n",
      "             r   dof          pval         CI95%  power\n",
      "rm_corr  0.138  4977  1.093644e-22  [0.11, 0.17]    1.0\n",
      "Repeated Measures Correlation Result for Irritability and TrainingReadiness\n",
      "             r   dof          pval         CI95%  power\n",
      "rm_corr  0.139  4977  5.020780e-23  [0.11, 0.17]    1.0\n",
      "Repeated Measures Correlation Result for SleepHours and Fatigue\n",
      "             r   dof          pval         CI95%  power\n",
      "rm_corr  0.201  4977  2.500875e-46  [0.17, 0.23]    1.0\n",
      "Repeated Measures Correlation Result for SleepHours and Soreness\n",
      "             r   dof      pval         CI95%  power\n",
      "rm_corr  0.027  4977  0.058692  [-0.0, 0.05]  0.472\n",
      "Repeated Measures Correlation Result for SleepHours and Desire\n",
      "             r   dof      pval         CI95%  power\n",
      "rm_corr  0.036  4977  0.010464  [0.01, 0.06]  0.726\n",
      "Repeated Measures Correlation Result for SleepHours and Irritability\n",
      "            r   dof          pval         CI95%  power\n",
      "rm_corr  0.08  4977  1.817819e-08  [0.05, 0.11]    1.0\n",
      "Repeated Measures Correlation Result for SleepHours and SleepQuality\n",
      "             r   dof          pval         CI95%  power\n",
      "rm_corr  0.269  4977  4.751148e-83  [0.24, 0.29]    1.0\n",
      "Repeated Measures Correlation Result for SleepHours and Pain\n",
      "             r   dof      pval          CI95%  power\n",
      "rm_corr -0.019  4977  0.186216  [-0.05, 0.01]  0.262\n",
      "Repeated Measures Correlation Result for SleepHours and Illness\n",
      "            r   dof      pval           CI95%  power\n",
      "rm_corr -0.04  4977  0.004697  [-0.07, -0.01]  0.807\n",
      "Repeated Measures Correlation Result for SleepHours and Menstruation\n"
     ]
    },
    {
     "name": "stdout",
     "output_type": "stream",
     "text": [
      "             r   dof      pval          CI95%  power\n",
      "rm_corr  0.001  4977  0.960987  [-0.03, 0.03]   0.05\n",
      "Repeated Measures Correlation Result for SleepHours and Nutrition\n",
      "             r   dof      pval         CI95%  power\n",
      "rm_corr  0.061  4977  0.000016  [0.03, 0.09]  0.991\n",
      "Repeated Measures Correlation Result for SleepHours and TrainingReadiness\n",
      "             r   dof      pval           CI95%  power\n",
      "rm_corr -0.036  4977  0.010345  [-0.06, -0.01]  0.727\n",
      "Repeated Measures Correlation Result for SleepQuality and Fatigue\n",
      "             r   dof           pval        CI95%  power\n",
      "rm_corr  0.423  4977  6.015782e-215  [0.4, 0.45]    1.0\n",
      "Repeated Measures Correlation Result for SleepQuality and Soreness\n",
      "             r   dof          pval        CI95%  power\n",
      "rm_corr  0.178  4977  1.501565e-36  [0.15, 0.2]    1.0\n",
      "Repeated Measures Correlation Result for SleepQuality and Desire\n",
      "             r   dof          pval        CI95%  power\n",
      "rm_corr  0.231  4977  2.345194e-61  [0.2, 0.26]    1.0\n",
      "Repeated Measures Correlation Result for SleepQuality and Irritability\n",
      "             r   dof           pval         CI95%  power\n",
      "rm_corr  0.307  4977  6.799322e-109  [0.28, 0.33]    1.0\n",
      "Repeated Measures Correlation Result for SleepQuality and SleepHours\n",
      "             r   dof          pval         CI95%  power\n",
      "rm_corr  0.269  4977  4.751244e-83  [0.24, 0.29]    1.0\n",
      "Repeated Measures Correlation Result for SleepQuality and Pain\n",
      "             r   dof      pval          CI95%  power\n",
      "rm_corr  0.022  4977  0.125065  [-0.01, 0.05]  0.335\n",
      "Repeated Measures Correlation Result for SleepQuality and Illness\n",
      "             r   dof          pval         CI95%  power\n",
      "rm_corr  0.085  4977  2.193838e-09  [0.06, 0.11]    1.0\n",
      "Repeated Measures Correlation Result for SleepQuality and Menstruation\n",
      "             r   dof      pval          CI95%  power\n",
      "rm_corr  0.001  4977  0.962367  [-0.03, 0.03]   0.05\n",
      "Repeated Measures Correlation Result for SleepQuality and Nutrition\n",
      "             r   dof          pval        CI95%  power\n",
      "rm_corr  0.128  4977  1.148914e-19  [0.1, 0.16]    1.0\n",
      "Repeated Measures Correlation Result for SleepQuality and TrainingReadiness\n",
      "             r   dof          pval        CI95%  power\n",
      "rm_corr  0.073  4977  2.272748e-07  [0.05, 0.1]  0.999\n",
      "Repeated Measures Correlation Result for Pain and Fatigue\n",
      "             r   dof      pval         CI95%  power\n",
      "rm_corr  0.036  4977  0.011026  [0.01, 0.06]   0.72\n",
      "Repeated Measures Correlation Result for Pain and Soreness\n",
      "             r   dof          pval        CI95%  power\n",
      "rm_corr  0.131  4977  1.238293e-20  [0.1, 0.16]    1.0\n",
      "Repeated Measures Correlation Result for Pain and Desire\n",
      "             r   dof     pval         CI95%  power\n",
      "rm_corr  0.059  4977  0.00003  [0.03, 0.09]  0.987\n",
      "Repeated Measures Correlation Result for Pain and Irritability\n",
      "             r   dof      pval         CI95%  power\n",
      "rm_corr  0.045  4977  0.001678  [0.02, 0.07]  0.882\n",
      "Repeated Measures Correlation Result for Pain and SleepHours\n",
      "             r   dof      pval          CI95%  power\n",
      "rm_corr -0.019  4977  0.186216  [-0.05, 0.01]  0.262\n",
      "Repeated Measures Correlation Result for Pain and SleepQuality\n",
      "             r   dof      pval          CI95%  power\n",
      "rm_corr  0.022  4977  0.125064  [-0.01, 0.05]  0.335\n",
      "Repeated Measures Correlation Result for Pain and Illness\n",
      "             r   dof      pval           CI95%  power\n",
      "rm_corr -0.053  4977  0.000173  [-0.08, -0.03]  0.964\n",
      "Repeated Measures Correlation Result for Pain and Menstruation\n",
      "             r   dof     pval          CI95%  power\n",
      "rm_corr  0.005  4977  0.70554  [-0.02, 0.03]  0.067\n",
      "Repeated Measures Correlation Result for Pain and Nutrition\n",
      "             r   dof      pval          CI95%  power\n",
      "rm_corr -0.018  4977  0.195834  [-0.05, 0.01]  0.253\n",
      "Repeated Measures Correlation Result for Pain and TrainingReadiness\n",
      "            r   dof      pval          CI95%  power\n",
      "rm_corr  0.01  4977  0.486946  [-0.02, 0.04]  0.107\n",
      "Repeated Measures Correlation Result for Illness and Fatigue\n",
      "            r   dof          pval         CI95%  power\n",
      "rm_corr  0.11  4977  9.203247e-15  [0.08, 0.14]    1.0\n",
      "Repeated Measures Correlation Result for Illness and Soreness\n",
      "             r   dof      pval          CI95%  power\n",
      "rm_corr  0.013  4977  0.359858  [-0.01, 0.04]   0.15\n",
      "Repeated Measures Correlation Result for Illness and Desire\n",
      "             r   dof          pval        CI95%  power\n",
      "rm_corr  0.126  4977  3.848430e-19  [0.1, 0.15]    1.0\n",
      "Repeated Measures Correlation Result for Illness and Irritability\n",
      "             r   dof          pval         CI95%  power\n",
      "rm_corr  0.093  4977  5.857989e-11  [0.07, 0.12]    1.0\n",
      "Repeated Measures Correlation Result for Illness and SleepHours\n",
      "            r   dof      pval           CI95%  power\n",
      "rm_corr -0.04  4977  0.004697  [-0.07, -0.01]  0.807\n",
      "Repeated Measures Correlation Result for Illness and SleepQuality\n",
      "             r   dof          pval         CI95%  power\n",
      "rm_corr  0.085  4977  2.193838e-09  [0.06, 0.11]    1.0\n",
      "Repeated Measures Correlation Result for Illness and Pain\n",
      "             r   dof      pval           CI95%  power\n",
      "rm_corr -0.053  4977  0.000173  [-0.08, -0.03]  0.964\n",
      "Repeated Measures Correlation Result for Illness and Menstruation\n",
      "            r   dof      pval          CI95%  power\n",
      "rm_corr  0.02  4977  0.150718  [-0.01, 0.05]  0.301\n",
      "Repeated Measures Correlation Result for Illness and Nutrition\n",
      "             r   dof      pval        CI95%  power\n",
      "rm_corr  0.029  4977  0.042583  [0.0, 0.06]  0.527\n",
      "Repeated Measures Correlation Result for Illness and TrainingReadiness\n",
      "             r   dof          pval         CI95%  power\n",
      "rm_corr  0.091  4977  1.490656e-10  [0.06, 0.12]    1.0\n",
      "Repeated Measures Correlation Result for Menstruation and Fatigue\n",
      "             r   dof      pval          CI95%  power\n",
      "rm_corr -0.006  4977  0.665409  [-0.03, 0.02]  0.072\n",
      "Repeated Measures Correlation Result for Menstruation and Soreness\n",
      "             r   dof      pval          CI95%  power\n",
      "rm_corr -0.014  4977  0.314112  [-0.04, 0.01]  0.172\n",
      "Repeated Measures Correlation Result for Menstruation and Desire\n",
      "             r   dof      pval          CI95%  power\n",
      "rm_corr  0.014  4977  0.334779  [-0.01, 0.04]  0.161\n",
      "Repeated Measures Correlation Result for Menstruation and Irritability\n",
      "             r   dof      pval          CI95%  power\n",
      "rm_corr  0.019  4977  0.179349  [-0.01, 0.05]  0.269\n",
      "Repeated Measures Correlation Result for Menstruation and SleepHours\n",
      "             r   dof      pval          CI95%  power\n",
      "rm_corr  0.001  4977  0.960987  [-0.03, 0.03]   0.05\n",
      "Repeated Measures Correlation Result for Menstruation and SleepQuality\n",
      "             r   dof      pval          CI95%  power\n",
      "rm_corr  0.001  4977  0.962367  [-0.03, 0.03]   0.05\n",
      "Repeated Measures Correlation Result for Menstruation and Pain\n",
      "             r   dof     pval          CI95%  power\n",
      "rm_corr  0.005  4977  0.70554  [-0.02, 0.03]  0.067\n",
      "Repeated Measures Correlation Result for Menstruation and Illness\n",
      "            r   dof      pval          CI95%  power\n",
      "rm_corr  0.02  4977  0.150718  [-0.01, 0.05]  0.301\n",
      "Repeated Measures Correlation Result for Menstruation and Nutrition\n",
      "             r   dof      pval          CI95%  power\n",
      "rm_corr  0.001  4977  0.969623  [-0.03, 0.03]   0.05\n",
      "Repeated Measures Correlation Result for Menstruation and TrainingReadiness\n",
      "             r   dof      pval          CI95%  power\n",
      "rm_corr -0.006  4977  0.660601  [-0.03, 0.02]  0.072\n",
      "Repeated Measures Correlation Result for Nutrition and Fatigue\n",
      "             r   dof          pval         CI95%  power\n",
      "rm_corr  0.147  4977  1.628316e-25  [0.12, 0.17]    1.0\n",
      "Repeated Measures Correlation Result for Nutrition and Soreness\n",
      "             r   dof      pval         CI95%  power\n",
      "rm_corr  0.061  4977  0.000018  [0.03, 0.09]   0.99\n",
      "Repeated Measures Correlation Result for Nutrition and Desire\n",
      "             r   dof          pval         CI95%  power\n",
      "rm_corr  0.153  4977  2.553742e-27  [0.13, 0.18]    1.0\n",
      "Repeated Measures Correlation Result for Nutrition and Irritability\n",
      "             r   dof          pval         CI95%  power\n",
      "rm_corr  0.138  4977  1.093650e-22  [0.11, 0.17]    1.0\n",
      "Repeated Measures Correlation Result for Nutrition and SleepHours\n",
      "             r   dof      pval         CI95%  power\n",
      "rm_corr  0.061  4977  0.000016  [0.03, 0.09]  0.991\n",
      "Repeated Measures Correlation Result for Nutrition and SleepQuality\n",
      "             r   dof          pval        CI95%  power\n",
      "rm_corr  0.128  4977  1.148923e-19  [0.1, 0.16]    1.0\n",
      "Repeated Measures Correlation Result for Nutrition and Pain\n",
      "             r   dof      pval          CI95%  power\n",
      "rm_corr -0.018  4977  0.195834  [-0.05, 0.01]  0.253\n",
      "Repeated Measures Correlation Result for Nutrition and Illness\n"
     ]
    },
    {
     "name": "stdout",
     "output_type": "stream",
     "text": [
      "             r   dof      pval        CI95%  power\n",
      "rm_corr  0.029  4977  0.042583  [0.0, 0.06]  0.527\n",
      "Repeated Measures Correlation Result for Nutrition and Menstruation\n",
      "             r   dof      pval          CI95%  power\n",
      "rm_corr  0.001  4977  0.969623  [-0.03, 0.03]   0.05\n",
      "Repeated Measures Correlation Result for Nutrition and TrainingReadiness\n",
      "            r   dof          pval         CI95%  power\n",
      "rm_corr  0.12  4977  1.524307e-17  [0.09, 0.15]    1.0\n",
      "Repeated Measures Correlation Result for TrainingReadiness and Fatigue\n",
      "             r   dof          pval         CI95%  power\n",
      "rm_corr  0.158  4977  2.685141e-29  [0.13, 0.19]    1.0\n",
      "Repeated Measures Correlation Result for TrainingReadiness and Soreness\n",
      "             r   dof          pval         CI95%  power\n",
      "rm_corr  0.101  4977  8.303311e-13  [0.07, 0.13]    1.0\n",
      "Repeated Measures Correlation Result for TrainingReadiness and Desire\n",
      "             r   dof           pval        CI95%  power\n",
      "rm_corr  0.324  4977  6.993504e-122  [0.3, 0.35]    1.0\n",
      "Repeated Measures Correlation Result for TrainingReadiness and Irritability\n",
      "             r   dof          pval         CI95%  power\n",
      "rm_corr  0.139  4977  5.020746e-23  [0.11, 0.17]    1.0\n",
      "Repeated Measures Correlation Result for TrainingReadiness and SleepHours\n",
      "             r   dof      pval           CI95%  power\n",
      "rm_corr -0.036  4977  0.010345  [-0.06, -0.01]  0.727\n",
      "Repeated Measures Correlation Result for TrainingReadiness and SleepQuality\n",
      "             r   dof          pval        CI95%  power\n",
      "rm_corr  0.073  4977  2.272747e-07  [0.05, 0.1]  0.999\n",
      "Repeated Measures Correlation Result for TrainingReadiness and Pain\n",
      "            r   dof      pval          CI95%  power\n",
      "rm_corr  0.01  4977  0.486946  [-0.02, 0.04]  0.107\n",
      "Repeated Measures Correlation Result for TrainingReadiness and Illness\n",
      "             r   dof          pval         CI95%  power\n",
      "rm_corr  0.091  4977  1.490654e-10  [0.06, 0.12]    1.0\n",
      "Repeated Measures Correlation Result for TrainingReadiness and Menstruation\n",
      "             r   dof      pval          CI95%  power\n",
      "rm_corr -0.006  4977  0.660601  [-0.03, 0.02]  0.072\n",
      "Repeated Measures Correlation Result for TrainingReadiness and Nutrition\n",
      "            r   dof          pval         CI95%  power\n",
      "rm_corr  0.12  4977  1.524294e-17  [0.09, 0.15]    1.0\n"
     ]
    }
   ],
   "source": [
    "for i in wellness_df.columns:\n",
    "    if i == 'Date' or i == 'PlayerID':\n",
    "        continue\n",
    "        \n",
    "    for j in wellness_df.columns:\n",
    "        if j == 'Date' or j == 'PlayerID' or i == j:\n",
    "            continue\n",
    "            \n",
    "        print('Repeated Measures Correlation Result for {} and {}'.format(i, j))\n",
    "        print(pg.rm_corr(data=wellness_df, x=i, y=j, subject='PlayerID'))"
   ]
  },
  {
   "cell_type": "markdown",
   "metadata": {},
   "source": [
    "#### Correlated Measures"
   ]
  },
  {
   "cell_type": "markdown",
   "metadata": {},
   "source": [
    "* Fatigue and Soreness (0.425)  \n",
    "* Fatigue and Desire (0.491)  \n",
    "* Fatigue and Irritability (0.382)  \n",
    "* Fatigue and Sleep Quality (0.423)  \n",
    "* Soreness and Desire (0.379)\n",
    "* Desire and Irritability (0.491)\n",
    "* Desire and Soreness (0.379)\n",
    "* Desire and TrainingReadiness (0.324)\n",
    "* Irritability and SleepQuality (0.307)"
   ]
  },
  {
   "cell_type": "markdown",
   "metadata": {},
   "source": [
    "The elements of the monitor score are all correlated with each other which supports the idea that it is measuring the same latent variable. We will test this conclusion when we perform factor analysis. It is further interesting that nothing is correlated to Sleep Hours but measures such as Fatigue and Irritability are correlated with Sleep Quality. So sleep quality seems to be a better measure of one's sleeps over their sleep hours. At first, I thought this was because these athletes probably sleep for the same amount of time each night but that us not the case. The SD of Sleep Hours is 1.42 but it is only 1.17 for Sleep Quality. So Sleep Hours has more variance but is still not a good measure for things related to sleep, such as fatigue and Irritability.\n",
    "\n",
    "I wonder how exactly Sleep Hours is computed. For example, when you \"go to bed\" is not when you fall asleep. Is sleep measure by bedtime and wake time or by tracking the actual time one falls asleep or wakes up."
   ]
  },
  {
   "cell_type": "code",
   "execution_count": 64,
   "metadata": {},
   "outputs": [
    {
     "data": {
      "text/plain": [
       "1.417490411895022"
      ]
     },
     "execution_count": 64,
     "metadata": {},
     "output_type": "execute_result"
    }
   ],
   "source": [
    "wellness_df['SleepHours'].std()"
   ]
  },
  {
   "cell_type": "code",
   "execution_count": 65,
   "metadata": {},
   "outputs": [
    {
     "data": {
      "text/plain": [
       "1.1707329112441724"
      ]
     },
     "execution_count": 65,
     "metadata": {},
     "output_type": "execute_result"
    }
   ],
   "source": [
    "wellness_df['SleepQuality'].std()"
   ]
  },
  {
   "cell_type": "markdown",
   "metadata": {},
   "source": [
    "## Factor Analysis"
   ]
  },
  {
   "cell_type": "markdown",
   "metadata": {},
   "source": [
    "Factor analysis is a method for automatically finding latent variables in a data set. It assumes that observed variables are actually a linear combination of a number of latent factors. Often, we are aiming to find a smaller number of factors that explain trends in our data.\n",
    "\n",
    "This is how factor analysis differs from principal component analysis. In PCA, the components are not interpretable, however, in factor analysis, we can see which observed variables are highly correlated with which factors and group observed variables according to which factors they are correlated with by looking at the loading matrices. We can also see which factors are most important by their eigenvalues. Another technical difference between PCA and factor analysis is that in PCA, all the components are orthogonal but in factor analysis this does not need to be the case.\n",
    "\n",
    "Thus, we will use factor analysis to point us to relevant features correlated to the latent variables in the wellness data for use later in our analysis. We will also aim to combine these relevant features of wellness into a single wellness score which will let us find the high level relationships between wellness, load, and performance."
   ]
  },
  {
   "cell_type": "code",
   "execution_count": 66,
   "metadata": {},
   "outputs": [
    {
     "data": {
      "text/html": [
       "<div>\n",
       "<style scoped>\n",
       "    .dataframe tbody tr th:only-of-type {\n",
       "        vertical-align: middle;\n",
       "    }\n",
       "\n",
       "    .dataframe tbody tr th {\n",
       "        vertical-align: top;\n",
       "    }\n",
       "\n",
       "    .dataframe thead th {\n",
       "        text-align: right;\n",
       "    }\n",
       "</style>\n",
       "<table border=\"1\" class=\"dataframe\">\n",
       "  <thead>\n",
       "    <tr style=\"text-align: right;\">\n",
       "      <th></th>\n",
       "      <th>Date</th>\n",
       "      <th>PlayerID</th>\n",
       "      <th>Fatigue</th>\n",
       "      <th>Soreness</th>\n",
       "      <th>Desire</th>\n",
       "      <th>Irritability</th>\n",
       "      <th>SleepHours</th>\n",
       "      <th>SleepQuality</th>\n",
       "      <th>Pain</th>\n",
       "      <th>Illness</th>\n",
       "      <th>Menstruation</th>\n",
       "      <th>Nutrition</th>\n",
       "      <th>TrainingReadiness</th>\n",
       "    </tr>\n",
       "  </thead>\n",
       "  <tbody>\n",
       "    <tr>\n",
       "      <th>0</th>\n",
       "      <td>2018-07-21</td>\n",
       "      <td>1</td>\n",
       "      <td>3</td>\n",
       "      <td>3</td>\n",
       "      <td>2</td>\n",
       "      <td>3</td>\n",
       "      <td>8.00</td>\n",
       "      <td>2</td>\n",
       "      <td>1</td>\n",
       "      <td>3</td>\n",
       "      <td>0</td>\n",
       "      <td>3</td>\n",
       "      <td>0</td>\n",
       "    </tr>\n",
       "    <tr>\n",
       "      <th>1</th>\n",
       "      <td>2018-07-21</td>\n",
       "      <td>2</td>\n",
       "      <td>4</td>\n",
       "      <td>3</td>\n",
       "      <td>4</td>\n",
       "      <td>4</td>\n",
       "      <td>8.00</td>\n",
       "      <td>4</td>\n",
       "      <td>0</td>\n",
       "      <td>3</td>\n",
       "      <td>0</td>\n",
       "      <td>3</td>\n",
       "      <td>0</td>\n",
       "    </tr>\n",
       "    <tr>\n",
       "      <th>2</th>\n",
       "      <td>2018-07-21</td>\n",
       "      <td>3</td>\n",
       "      <td>3</td>\n",
       "      <td>3</td>\n",
       "      <td>5</td>\n",
       "      <td>4</td>\n",
       "      <td>8.00</td>\n",
       "      <td>4</td>\n",
       "      <td>1</td>\n",
       "      <td>3</td>\n",
       "      <td>1</td>\n",
       "      <td>3</td>\n",
       "      <td>100</td>\n",
       "    </tr>\n",
       "    <tr>\n",
       "      <th>3</th>\n",
       "      <td>2018-07-21</td>\n",
       "      <td>4</td>\n",
       "      <td>2</td>\n",
       "      <td>3</td>\n",
       "      <td>5</td>\n",
       "      <td>4</td>\n",
       "      <td>6.50</td>\n",
       "      <td>1</td>\n",
       "      <td>1</td>\n",
       "      <td>3</td>\n",
       "      <td>0</td>\n",
       "      <td>3</td>\n",
       "      <td>95</td>\n",
       "    </tr>\n",
       "    <tr>\n",
       "      <th>4</th>\n",
       "      <td>2018-07-21</td>\n",
       "      <td>5</td>\n",
       "      <td>5</td>\n",
       "      <td>3</td>\n",
       "      <td>4</td>\n",
       "      <td>4</td>\n",
       "      <td>7.25</td>\n",
       "      <td>4</td>\n",
       "      <td>1</td>\n",
       "      <td>3</td>\n",
       "      <td>1</td>\n",
       "      <td>2</td>\n",
       "      <td>100</td>\n",
       "    </tr>\n",
       "  </tbody>\n",
       "</table>\n",
       "</div>"
      ],
      "text/plain": [
       "         Date  PlayerID  Fatigue  Soreness  Desire  Irritability  SleepHours  \\\n",
       "0  2018-07-21         1        3         3       2             3        8.00   \n",
       "1  2018-07-21         2        4         3       4             4        8.00   \n",
       "2  2018-07-21         3        3         3       5             4        8.00   \n",
       "3  2018-07-21         4        2         3       5             4        6.50   \n",
       "4  2018-07-21         5        5         3       4             4        7.25   \n",
       "\n",
       "   SleepQuality  Pain  Illness  Menstruation  Nutrition  TrainingReadiness  \n",
       "0             2     1        3             0          3                  0  \n",
       "1             4     0        3             0          3                  0  \n",
       "2             4     1        3             1          3                100  \n",
       "3             1     1        3             0          3                 95  \n",
       "4             4     1        3             1          2                100  "
      ]
     },
     "execution_count": 66,
     "metadata": {},
     "output_type": "execute_result"
    }
   ],
   "source": [
    "wellness_df.head()"
   ]
  },
  {
   "cell_type": "markdown",
   "metadata": {},
   "source": [
    "### Averaging Over Different Dates"
   ]
  },
  {
   "cell_type": "markdown",
   "metadata": {},
   "source": [
    "We cannot perform factor analysis using data gathered at different dates. So, for each player, we need to average all their values. In doing so, we can interpret most columns as \"Average X\", i.e. \"Average Sleep Hours\". However, we cannot do this for the binary categorical columns. We could instead interpret these as probabilities, i.e., probability of being ill."
   ]
  },
  {
   "cell_type": "code",
   "execution_count": 67,
   "metadata": {},
   "outputs": [
    {
     "data": {
      "text/html": [
       "<div>\n",
       "<style scoped>\n",
       "    .dataframe tbody tr th:only-of-type {\n",
       "        vertical-align: middle;\n",
       "    }\n",
       "\n",
       "    .dataframe tbody tr th {\n",
       "        vertical-align: top;\n",
       "    }\n",
       "\n",
       "    .dataframe thead th {\n",
       "        text-align: right;\n",
       "    }\n",
       "</style>\n",
       "<table border=\"1\" class=\"dataframe\">\n",
       "  <thead>\n",
       "    <tr style=\"text-align: right;\">\n",
       "      <th></th>\n",
       "      <th>PlayerID</th>\n",
       "      <th>Fatigue</th>\n",
       "      <th>Soreness</th>\n",
       "      <th>Desire</th>\n",
       "      <th>Irritability</th>\n",
       "      <th>SleepHours</th>\n",
       "      <th>SleepQuality</th>\n",
       "      <th>Pain</th>\n",
       "      <th>Illness</th>\n",
       "      <th>Menstruation</th>\n",
       "      <th>Nutrition</th>\n",
       "      <th>TrainingReadiness</th>\n",
       "    </tr>\n",
       "  </thead>\n",
       "  <tbody>\n",
       "    <tr>\n",
       "      <th>0</th>\n",
       "      <td>1</td>\n",
       "      <td>2.671924</td>\n",
       "      <td>3.302839</td>\n",
       "      <td>2.479495</td>\n",
       "      <td>3.936909</td>\n",
       "      <td>8.715300</td>\n",
       "      <td>3.611987</td>\n",
       "      <td>0.974763</td>\n",
       "      <td>2.895899</td>\n",
       "      <td>0.842271</td>\n",
       "      <td>2.984227</td>\n",
       "      <td>21.435331</td>\n",
       "    </tr>\n",
       "    <tr>\n",
       "      <th>1</th>\n",
       "      <td>2</td>\n",
       "      <td>3.779762</td>\n",
       "      <td>3.276786</td>\n",
       "      <td>4.113095</td>\n",
       "      <td>4.151786</td>\n",
       "      <td>9.053571</td>\n",
       "      <td>4.122024</td>\n",
       "      <td>0.794643</td>\n",
       "      <td>2.958333</td>\n",
       "      <td>0.812500</td>\n",
       "      <td>2.589286</td>\n",
       "      <td>11.651786</td>\n",
       "    </tr>\n",
       "    <tr>\n",
       "      <th>2</th>\n",
       "      <td>3</td>\n",
       "      <td>3.350725</td>\n",
       "      <td>3.176812</td>\n",
       "      <td>3.455072</td>\n",
       "      <td>3.979710</td>\n",
       "      <td>7.879710</td>\n",
       "      <td>3.913043</td>\n",
       "      <td>0.973913</td>\n",
       "      <td>3.000000</td>\n",
       "      <td>0.881159</td>\n",
       "      <td>3.000000</td>\n",
       "      <td>98.115942</td>\n",
       "    </tr>\n",
       "    <tr>\n",
       "      <th>3</th>\n",
       "      <td>4</td>\n",
       "      <td>3.305195</td>\n",
       "      <td>3.542208</td>\n",
       "      <td>3.935065</td>\n",
       "      <td>3.668831</td>\n",
       "      <td>8.266234</td>\n",
       "      <td>2.954545</td>\n",
       "      <td>0.993506</td>\n",
       "      <td>2.983766</td>\n",
       "      <td>0.853896</td>\n",
       "      <td>2.980519</td>\n",
       "      <td>66.996753</td>\n",
       "    </tr>\n",
       "    <tr>\n",
       "      <th>4</th>\n",
       "      <td>5</td>\n",
       "      <td>3.803089</td>\n",
       "      <td>3.814672</td>\n",
       "      <td>4.324324</td>\n",
       "      <td>3.965251</td>\n",
       "      <td>7.925676</td>\n",
       "      <td>3.841699</td>\n",
       "      <td>0.683398</td>\n",
       "      <td>2.768340</td>\n",
       "      <td>0.888031</td>\n",
       "      <td>1.996139</td>\n",
       "      <td>65.637066</td>\n",
       "    </tr>\n",
       "    <tr>\n",
       "      <th>5</th>\n",
       "      <td>6</td>\n",
       "      <td>3.694656</td>\n",
       "      <td>3.438931</td>\n",
       "      <td>3.961832</td>\n",
       "      <td>3.942748</td>\n",
       "      <td>8.471374</td>\n",
       "      <td>3.984733</td>\n",
       "      <td>0.996183</td>\n",
       "      <td>2.946565</td>\n",
       "      <td>0.858779</td>\n",
       "      <td>2.782443</td>\n",
       "      <td>67.156489</td>\n",
       "    </tr>\n",
       "    <tr>\n",
       "      <th>6</th>\n",
       "      <td>7</td>\n",
       "      <td>3.073314</td>\n",
       "      <td>3.087977</td>\n",
       "      <td>3.797654</td>\n",
       "      <td>3.697947</td>\n",
       "      <td>9.212610</td>\n",
       "      <td>3.862170</td>\n",
       "      <td>0.929619</td>\n",
       "      <td>2.926686</td>\n",
       "      <td>0.868035</td>\n",
       "      <td>2.891496</td>\n",
       "      <td>93.460411</td>\n",
       "    </tr>\n",
       "    <tr>\n",
       "      <th>7</th>\n",
       "      <td>8</td>\n",
       "      <td>3.737705</td>\n",
       "      <td>3.537705</td>\n",
       "      <td>3.734426</td>\n",
       "      <td>4.367213</td>\n",
       "      <td>8.194262</td>\n",
       "      <td>4.016393</td>\n",
       "      <td>0.744262</td>\n",
       "      <td>2.442623</td>\n",
       "      <td>0.927869</td>\n",
       "      <td>2.419672</td>\n",
       "      <td>53.704918</td>\n",
       "    </tr>\n",
       "    <tr>\n",
       "      <th>8</th>\n",
       "      <td>9</td>\n",
       "      <td>4.877828</td>\n",
       "      <td>4.565611</td>\n",
       "      <td>4.886878</td>\n",
       "      <td>4.914027</td>\n",
       "      <td>9.160633</td>\n",
       "      <td>4.900452</td>\n",
       "      <td>0.995475</td>\n",
       "      <td>2.945701</td>\n",
       "      <td>0.895928</td>\n",
       "      <td>2.479638</td>\n",
       "      <td>77.104072</td>\n",
       "    </tr>\n",
       "    <tr>\n",
       "      <th>9</th>\n",
       "      <td>10</td>\n",
       "      <td>2.954683</td>\n",
       "      <td>2.978852</td>\n",
       "      <td>3.794562</td>\n",
       "      <td>3.824773</td>\n",
       "      <td>8.374622</td>\n",
       "      <td>2.933535</td>\n",
       "      <td>0.274924</td>\n",
       "      <td>2.489426</td>\n",
       "      <td>0.788520</td>\n",
       "      <td>2.513595</td>\n",
       "      <td>74.244713</td>\n",
       "    </tr>\n",
       "    <tr>\n",
       "      <th>10</th>\n",
       "      <td>11</td>\n",
       "      <td>2.616715</td>\n",
       "      <td>2.668588</td>\n",
       "      <td>3.331412</td>\n",
       "      <td>3.613833</td>\n",
       "      <td>8.446686</td>\n",
       "      <td>3.198847</td>\n",
       "      <td>0.997118</td>\n",
       "      <td>2.795389</td>\n",
       "      <td>0.775216</td>\n",
       "      <td>2.737752</td>\n",
       "      <td>96.455331</td>\n",
       "    </tr>\n",
       "    <tr>\n",
       "      <th>11</th>\n",
       "      <td>12</td>\n",
       "      <td>3.800000</td>\n",
       "      <td>3.852174</td>\n",
       "      <td>4.013043</td>\n",
       "      <td>4.017391</td>\n",
       "      <td>8.307609</td>\n",
       "      <td>3.600000</td>\n",
       "      <td>0.991304</td>\n",
       "      <td>2.943478</td>\n",
       "      <td>0.821739</td>\n",
       "      <td>2.060870</td>\n",
       "      <td>72.869565</td>\n",
       "    </tr>\n",
       "    <tr>\n",
       "      <th>12</th>\n",
       "      <td>13</td>\n",
       "      <td>3.465909</td>\n",
       "      <td>2.900568</td>\n",
       "      <td>3.960227</td>\n",
       "      <td>4.000000</td>\n",
       "      <td>9.088778</td>\n",
       "      <td>3.826705</td>\n",
       "      <td>0.957386</td>\n",
       "      <td>2.866477</td>\n",
       "      <td>0.963068</td>\n",
       "      <td>2.875000</td>\n",
       "      <td>99.900568</td>\n",
       "    </tr>\n",
       "    <tr>\n",
       "      <th>13</th>\n",
       "      <td>14</td>\n",
       "      <td>3.384906</td>\n",
       "      <td>3.233962</td>\n",
       "      <td>4.147170</td>\n",
       "      <td>3.758491</td>\n",
       "      <td>8.938679</td>\n",
       "      <td>4.109434</td>\n",
       "      <td>0.992453</td>\n",
       "      <td>2.996226</td>\n",
       "      <td>0.958491</td>\n",
       "      <td>2.962264</td>\n",
       "      <td>66.320755</td>\n",
       "    </tr>\n",
       "    <tr>\n",
       "      <th>14</th>\n",
       "      <td>15</td>\n",
       "      <td>4.448276</td>\n",
       "      <td>4.236453</td>\n",
       "      <td>4.596059</td>\n",
       "      <td>4.600985</td>\n",
       "      <td>9.012315</td>\n",
       "      <td>5.679803</td>\n",
       "      <td>0.950739</td>\n",
       "      <td>2.960591</td>\n",
       "      <td>0.842365</td>\n",
       "      <td>2.600985</td>\n",
       "      <td>78.965517</td>\n",
       "    </tr>\n",
       "    <tr>\n",
       "      <th>15</th>\n",
       "      <td>16</td>\n",
       "      <td>2.587209</td>\n",
       "      <td>3.052326</td>\n",
       "      <td>3.514535</td>\n",
       "      <td>3.622093</td>\n",
       "      <td>8.863372</td>\n",
       "      <td>3.258721</td>\n",
       "      <td>0.883721</td>\n",
       "      <td>2.924419</td>\n",
       "      <td>0.793605</td>\n",
       "      <td>2.340116</td>\n",
       "      <td>56.787791</td>\n",
       "    </tr>\n",
       "    <tr>\n",
       "      <th>16</th>\n",
       "      <td>17</td>\n",
       "      <td>3.781659</td>\n",
       "      <td>3.445415</td>\n",
       "      <td>3.991266</td>\n",
       "      <td>3.995633</td>\n",
       "      <td>9.634279</td>\n",
       "      <td>4.082969</td>\n",
       "      <td>1.000000</td>\n",
       "      <td>2.943231</td>\n",
       "      <td>0.829694</td>\n",
       "      <td>2.034934</td>\n",
       "      <td>86.026201</td>\n",
       "    </tr>\n",
       "  </tbody>\n",
       "</table>\n",
       "</div>"
      ],
      "text/plain": [
       "    PlayerID   Fatigue  Soreness    Desire  Irritability  SleepHours  \\\n",
       "0          1  2.671924  3.302839  2.479495      3.936909    8.715300   \n",
       "1          2  3.779762  3.276786  4.113095      4.151786    9.053571   \n",
       "2          3  3.350725  3.176812  3.455072      3.979710    7.879710   \n",
       "3          4  3.305195  3.542208  3.935065      3.668831    8.266234   \n",
       "4          5  3.803089  3.814672  4.324324      3.965251    7.925676   \n",
       "5          6  3.694656  3.438931  3.961832      3.942748    8.471374   \n",
       "6          7  3.073314  3.087977  3.797654      3.697947    9.212610   \n",
       "7          8  3.737705  3.537705  3.734426      4.367213    8.194262   \n",
       "8          9  4.877828  4.565611  4.886878      4.914027    9.160633   \n",
       "9         10  2.954683  2.978852  3.794562      3.824773    8.374622   \n",
       "10        11  2.616715  2.668588  3.331412      3.613833    8.446686   \n",
       "11        12  3.800000  3.852174  4.013043      4.017391    8.307609   \n",
       "12        13  3.465909  2.900568  3.960227      4.000000    9.088778   \n",
       "13        14  3.384906  3.233962  4.147170      3.758491    8.938679   \n",
       "14        15  4.448276  4.236453  4.596059      4.600985    9.012315   \n",
       "15        16  2.587209  3.052326  3.514535      3.622093    8.863372   \n",
       "16        17  3.781659  3.445415  3.991266      3.995633    9.634279   \n",
       "\n",
       "    SleepQuality      Pain   Illness  Menstruation  Nutrition  \\\n",
       "0       3.611987  0.974763  2.895899      0.842271   2.984227   \n",
       "1       4.122024  0.794643  2.958333      0.812500   2.589286   \n",
       "2       3.913043  0.973913  3.000000      0.881159   3.000000   \n",
       "3       2.954545  0.993506  2.983766      0.853896   2.980519   \n",
       "4       3.841699  0.683398  2.768340      0.888031   1.996139   \n",
       "5       3.984733  0.996183  2.946565      0.858779   2.782443   \n",
       "6       3.862170  0.929619  2.926686      0.868035   2.891496   \n",
       "7       4.016393  0.744262  2.442623      0.927869   2.419672   \n",
       "8       4.900452  0.995475  2.945701      0.895928   2.479638   \n",
       "9       2.933535  0.274924  2.489426      0.788520   2.513595   \n",
       "10      3.198847  0.997118  2.795389      0.775216   2.737752   \n",
       "11      3.600000  0.991304  2.943478      0.821739   2.060870   \n",
       "12      3.826705  0.957386  2.866477      0.963068   2.875000   \n",
       "13      4.109434  0.992453  2.996226      0.958491   2.962264   \n",
       "14      5.679803  0.950739  2.960591      0.842365   2.600985   \n",
       "15      3.258721  0.883721  2.924419      0.793605   2.340116   \n",
       "16      4.082969  1.000000  2.943231      0.829694   2.034934   \n",
       "\n",
       "    TrainingReadiness  \n",
       "0           21.435331  \n",
       "1           11.651786  \n",
       "2           98.115942  \n",
       "3           66.996753  \n",
       "4           65.637066  \n",
       "5           67.156489  \n",
       "6           93.460411  \n",
       "7           53.704918  \n",
       "8           77.104072  \n",
       "9           74.244713  \n",
       "10          96.455331  \n",
       "11          72.869565  \n",
       "12          99.900568  \n",
       "13          66.320755  \n",
       "14          78.965517  \n",
       "15          56.787791  \n",
       "16          86.026201  "
      ]
     },
     "execution_count": 67,
     "metadata": {},
     "output_type": "execute_result"
    }
   ],
   "source": [
    "wellness_df = wellness_df.drop(columns=['Date'])\n",
    "non_imputed_wellness_df = non_imputed_wellness_df.drop(columns=['Date'])\n",
    "wellness_df = wellness_df.groupby('PlayerID',as_index = False).mean()\n",
    "non_imputed_wellness_df = non_imputed_wellness_df.groupby('PlayerID',as_index = False).mean()\n",
    "wellness_df\n"
   ]
  },
  {
   "cell_type": "markdown",
   "metadata": {},
   "source": [
    "Now that we have averaged over all the days for each player, we can drop the player id column."
   ]
  },
  {
   "cell_type": "code",
   "execution_count": 68,
   "metadata": {},
   "outputs": [],
   "source": [
    "player_id_series = wellness_df['PlayerID'] # Also save this for later\n",
    "wellness_df = wellness_df.drop(columns=['PlayerID'])\n",
    "non_imputed_wellness_df = non_imputed_wellness_df.drop(columns=['PlayerID'])\n"
   ]
  },
  {
   "cell_type": "code",
   "execution_count": 69,
   "metadata": {},
   "outputs": [
    {
     "data": {
      "text/plain": [
       "(17, 11)"
      ]
     },
     "execution_count": 69,
     "metadata": {},
     "output_type": "execute_result"
    }
   ],
   "source": [
    "wellness_df.shape"
   ]
  },
  {
   "cell_type": "markdown",
   "metadata": {},
   "source": [
    "We see that we have averaged over the 17 players in the dataset."
   ]
  },
  {
   "cell_type": "markdown",
   "metadata": {},
   "source": [
    "### Adequacy Tests"
   ]
  },
  {
   "cell_type": "markdown",
   "metadata": {},
   "source": [
    "There are two tests we can perform to see if a dataset is suitable for factor analysis."
   ]
  },
  {
   "cell_type": "markdown",
   "metadata": {},
   "source": [
    "#### Bartlett’s Test"
   ]
  },
  {
   "cell_type": "markdown",
   "metadata": {},
   "source": [
    "This test makes sure the observed variables are correlated. It tests if the observed correlation matrix is statistically different from the identity matrix (ie, are all correlations between observations 0). A significant result means we have correlation between the observations."
   ]
  },
  {
   "cell_type": "code",
   "execution_count": 70,
   "metadata": {},
   "outputs": [
    {
     "data": {
      "text/plain": [
       "(116.96551634104655, 6.414729983140542e-07)"
      ]
     },
     "execution_count": 70,
     "metadata": {},
     "output_type": "execute_result"
    }
   ],
   "source": [
    "chi_square_value,p_value = calculate_bartlett_sphericity(wellness_df)\n",
    "chi_square_value, p_value\n"
   ]
  },
  {
   "cell_type": "markdown",
   "metadata": {},
   "source": [
    "#### Kaiser-Meyer-Olkin Test"
   ]
  },
  {
   "cell_type": "markdown",
   "metadata": {},
   "source": [
    "The statistic given by this test is a measure of the proportion of variance among variables that might be common variance. We are looking for an overall score from the model above `0.5`."
   ]
  },
  {
   "cell_type": "code",
   "execution_count": 71,
   "metadata": {},
   "outputs": [
    {
     "data": {
      "text/plain": [
       "(array([0.64867746, 0.8003926 , 0.56751788, 0.57756778, 0.35975405,\n",
       "        0.88448718, 0.45718562, 0.39360699, 0.4318835 , 0.39729764,\n",
       "        0.19594677]), 0.5816376555684316)"
      ]
     },
     "execution_count": 71,
     "metadata": {},
     "output_type": "execute_result"
    }
   ],
   "source": [
    "kmo_all,kmo_model=calculate_kmo(wellness_df)\n",
    "kmo_all, kmo_model\n"
   ]
  },
  {
   "cell_type": "markdown",
   "metadata": {},
   "source": [
    "The data just barely passes the KMO test but passes Bartlett's test by a large margin.\n",
    "\n",
    "From the perspective of the KMO test, training readiness is the least adequate of all observations."
   ]
  },
  {
   "cell_type": "markdown",
   "metadata": {},
   "source": [
    "### Dealing With Pain, Illness, and Menstruation"
   ]
  },
  {
   "cell_type": "markdown",
   "metadata": {},
   "source": [
    "The scale of all variables are such that larger values indicate better wellness. However, the Pain, Illness, and Menstruation variables are encoding the probability that one is exhibiting the given trait, which all seem to decrease wellness. Thus, I should take the inverse of these probabilities to represent the probability that the players are not exhibiting this trait so wellness can be interpreted in the same way across all factors."
   ]
  },
  {
   "cell_type": "code",
   "execution_count": 72,
   "metadata": {},
   "outputs": [
    {
     "data": {
      "text/html": [
       "<div>\n",
       "<style scoped>\n",
       "    .dataframe tbody tr th:only-of-type {\n",
       "        vertical-align: middle;\n",
       "    }\n",
       "\n",
       "    .dataframe tbody tr th {\n",
       "        vertical-align: top;\n",
       "    }\n",
       "\n",
       "    .dataframe thead th {\n",
       "        text-align: right;\n",
       "    }\n",
       "</style>\n",
       "<table border=\"1\" class=\"dataframe\">\n",
       "  <thead>\n",
       "    <tr style=\"text-align: right;\">\n",
       "      <th></th>\n",
       "      <th>Fatigue</th>\n",
       "      <th>Soreness</th>\n",
       "      <th>Desire</th>\n",
       "      <th>Irritability</th>\n",
       "      <th>SleepHours</th>\n",
       "      <th>SleepQuality</th>\n",
       "      <th>Pain</th>\n",
       "      <th>Illness</th>\n",
       "      <th>Menstruation</th>\n",
       "      <th>Nutrition</th>\n",
       "      <th>TrainingReadiness</th>\n",
       "    </tr>\n",
       "  </thead>\n",
       "  <tbody>\n",
       "    <tr>\n",
       "      <th>0</th>\n",
       "      <td>2.671924</td>\n",
       "      <td>3.302839</td>\n",
       "      <td>2.479495</td>\n",
       "      <td>3.936909</td>\n",
       "      <td>8.715300</td>\n",
       "      <td>3.611987</td>\n",
       "      <td>0.974763</td>\n",
       "      <td>2.895899</td>\n",
       "      <td>0.842271</td>\n",
       "      <td>2.984227</td>\n",
       "      <td>21.435331</td>\n",
       "    </tr>\n",
       "    <tr>\n",
       "      <th>1</th>\n",
       "      <td>3.779762</td>\n",
       "      <td>3.276786</td>\n",
       "      <td>4.113095</td>\n",
       "      <td>4.151786</td>\n",
       "      <td>9.053571</td>\n",
       "      <td>4.122024</td>\n",
       "      <td>0.794643</td>\n",
       "      <td>2.958333</td>\n",
       "      <td>0.812500</td>\n",
       "      <td>2.589286</td>\n",
       "      <td>11.651786</td>\n",
       "    </tr>\n",
       "    <tr>\n",
       "      <th>2</th>\n",
       "      <td>3.350725</td>\n",
       "      <td>3.176812</td>\n",
       "      <td>3.455072</td>\n",
       "      <td>3.979710</td>\n",
       "      <td>7.879710</td>\n",
       "      <td>3.913043</td>\n",
       "      <td>0.973913</td>\n",
       "      <td>3.000000</td>\n",
       "      <td>0.881159</td>\n",
       "      <td>3.000000</td>\n",
       "      <td>98.115942</td>\n",
       "    </tr>\n",
       "    <tr>\n",
       "      <th>3</th>\n",
       "      <td>3.305195</td>\n",
       "      <td>3.542208</td>\n",
       "      <td>3.935065</td>\n",
       "      <td>3.668831</td>\n",
       "      <td>8.266234</td>\n",
       "      <td>2.954545</td>\n",
       "      <td>0.993506</td>\n",
       "      <td>2.983766</td>\n",
       "      <td>0.853896</td>\n",
       "      <td>2.980519</td>\n",
       "      <td>66.996753</td>\n",
       "    </tr>\n",
       "    <tr>\n",
       "      <th>4</th>\n",
       "      <td>3.803089</td>\n",
       "      <td>3.814672</td>\n",
       "      <td>4.324324</td>\n",
       "      <td>3.965251</td>\n",
       "      <td>7.925676</td>\n",
       "      <td>3.841699</td>\n",
       "      <td>0.683398</td>\n",
       "      <td>2.768340</td>\n",
       "      <td>0.888031</td>\n",
       "      <td>1.996139</td>\n",
       "      <td>65.637066</td>\n",
       "    </tr>\n",
       "    <tr>\n",
       "      <th>5</th>\n",
       "      <td>3.694656</td>\n",
       "      <td>3.438931</td>\n",
       "      <td>3.961832</td>\n",
       "      <td>3.942748</td>\n",
       "      <td>8.471374</td>\n",
       "      <td>3.984733</td>\n",
       "      <td>0.996183</td>\n",
       "      <td>2.946565</td>\n",
       "      <td>0.858779</td>\n",
       "      <td>2.782443</td>\n",
       "      <td>67.156489</td>\n",
       "    </tr>\n",
       "    <tr>\n",
       "      <th>6</th>\n",
       "      <td>3.073314</td>\n",
       "      <td>3.087977</td>\n",
       "      <td>3.797654</td>\n",
       "      <td>3.697947</td>\n",
       "      <td>9.212610</td>\n",
       "      <td>3.862170</td>\n",
       "      <td>0.929619</td>\n",
       "      <td>2.926686</td>\n",
       "      <td>0.868035</td>\n",
       "      <td>2.891496</td>\n",
       "      <td>93.460411</td>\n",
       "    </tr>\n",
       "    <tr>\n",
       "      <th>7</th>\n",
       "      <td>3.737705</td>\n",
       "      <td>3.537705</td>\n",
       "      <td>3.734426</td>\n",
       "      <td>4.367213</td>\n",
       "      <td>8.194262</td>\n",
       "      <td>4.016393</td>\n",
       "      <td>0.744262</td>\n",
       "      <td>2.442623</td>\n",
       "      <td>0.927869</td>\n",
       "      <td>2.419672</td>\n",
       "      <td>53.704918</td>\n",
       "    </tr>\n",
       "    <tr>\n",
       "      <th>8</th>\n",
       "      <td>4.877828</td>\n",
       "      <td>4.565611</td>\n",
       "      <td>4.886878</td>\n",
       "      <td>4.914027</td>\n",
       "      <td>9.160633</td>\n",
       "      <td>4.900452</td>\n",
       "      <td>0.995475</td>\n",
       "      <td>2.945701</td>\n",
       "      <td>0.895928</td>\n",
       "      <td>2.479638</td>\n",
       "      <td>77.104072</td>\n",
       "    </tr>\n",
       "    <tr>\n",
       "      <th>9</th>\n",
       "      <td>2.954683</td>\n",
       "      <td>2.978852</td>\n",
       "      <td>3.794562</td>\n",
       "      <td>3.824773</td>\n",
       "      <td>8.374622</td>\n",
       "      <td>2.933535</td>\n",
       "      <td>0.274924</td>\n",
       "      <td>2.489426</td>\n",
       "      <td>0.788520</td>\n",
       "      <td>2.513595</td>\n",
       "      <td>74.244713</td>\n",
       "    </tr>\n",
       "    <tr>\n",
       "      <th>10</th>\n",
       "      <td>2.616715</td>\n",
       "      <td>2.668588</td>\n",
       "      <td>3.331412</td>\n",
       "      <td>3.613833</td>\n",
       "      <td>8.446686</td>\n",
       "      <td>3.198847</td>\n",
       "      <td>0.997118</td>\n",
       "      <td>2.795389</td>\n",
       "      <td>0.775216</td>\n",
       "      <td>2.737752</td>\n",
       "      <td>96.455331</td>\n",
       "    </tr>\n",
       "    <tr>\n",
       "      <th>11</th>\n",
       "      <td>3.800000</td>\n",
       "      <td>3.852174</td>\n",
       "      <td>4.013043</td>\n",
       "      <td>4.017391</td>\n",
       "      <td>8.307609</td>\n",
       "      <td>3.600000</td>\n",
       "      <td>0.991304</td>\n",
       "      <td>2.943478</td>\n",
       "      <td>0.821739</td>\n",
       "      <td>2.060870</td>\n",
       "      <td>72.869565</td>\n",
       "    </tr>\n",
       "    <tr>\n",
       "      <th>12</th>\n",
       "      <td>3.465909</td>\n",
       "      <td>2.900568</td>\n",
       "      <td>3.960227</td>\n",
       "      <td>4.000000</td>\n",
       "      <td>9.088778</td>\n",
       "      <td>3.826705</td>\n",
       "      <td>0.957386</td>\n",
       "      <td>2.866477</td>\n",
       "      <td>0.963068</td>\n",
       "      <td>2.875000</td>\n",
       "      <td>99.900568</td>\n",
       "    </tr>\n",
       "    <tr>\n",
       "      <th>13</th>\n",
       "      <td>3.384906</td>\n",
       "      <td>3.233962</td>\n",
       "      <td>4.147170</td>\n",
       "      <td>3.758491</td>\n",
       "      <td>8.938679</td>\n",
       "      <td>4.109434</td>\n",
       "      <td>0.992453</td>\n",
       "      <td>2.996226</td>\n",
       "      <td>0.958491</td>\n",
       "      <td>2.962264</td>\n",
       "      <td>66.320755</td>\n",
       "    </tr>\n",
       "    <tr>\n",
       "      <th>14</th>\n",
       "      <td>4.448276</td>\n",
       "      <td>4.236453</td>\n",
       "      <td>4.596059</td>\n",
       "      <td>4.600985</td>\n",
       "      <td>9.012315</td>\n",
       "      <td>5.679803</td>\n",
       "      <td>0.950739</td>\n",
       "      <td>2.960591</td>\n",
       "      <td>0.842365</td>\n",
       "      <td>2.600985</td>\n",
       "      <td>78.965517</td>\n",
       "    </tr>\n",
       "    <tr>\n",
       "      <th>15</th>\n",
       "      <td>2.587209</td>\n",
       "      <td>3.052326</td>\n",
       "      <td>3.514535</td>\n",
       "      <td>3.622093</td>\n",
       "      <td>8.863372</td>\n",
       "      <td>3.258721</td>\n",
       "      <td>0.883721</td>\n",
       "      <td>2.924419</td>\n",
       "      <td>0.793605</td>\n",
       "      <td>2.340116</td>\n",
       "      <td>56.787791</td>\n",
       "    </tr>\n",
       "    <tr>\n",
       "      <th>16</th>\n",
       "      <td>3.781659</td>\n",
       "      <td>3.445415</td>\n",
       "      <td>3.991266</td>\n",
       "      <td>3.995633</td>\n",
       "      <td>9.634279</td>\n",
       "      <td>4.082969</td>\n",
       "      <td>1.000000</td>\n",
       "      <td>2.943231</td>\n",
       "      <td>0.829694</td>\n",
       "      <td>2.034934</td>\n",
       "      <td>86.026201</td>\n",
       "    </tr>\n",
       "  </tbody>\n",
       "</table>\n",
       "</div>"
      ],
      "text/plain": [
       "     Fatigue  Soreness    Desire  Irritability  SleepHours  SleepQuality  \\\n",
       "0   2.671924  3.302839  2.479495      3.936909    8.715300      3.611987   \n",
       "1   3.779762  3.276786  4.113095      4.151786    9.053571      4.122024   \n",
       "2   3.350725  3.176812  3.455072      3.979710    7.879710      3.913043   \n",
       "3   3.305195  3.542208  3.935065      3.668831    8.266234      2.954545   \n",
       "4   3.803089  3.814672  4.324324      3.965251    7.925676      3.841699   \n",
       "5   3.694656  3.438931  3.961832      3.942748    8.471374      3.984733   \n",
       "6   3.073314  3.087977  3.797654      3.697947    9.212610      3.862170   \n",
       "7   3.737705  3.537705  3.734426      4.367213    8.194262      4.016393   \n",
       "8   4.877828  4.565611  4.886878      4.914027    9.160633      4.900452   \n",
       "9   2.954683  2.978852  3.794562      3.824773    8.374622      2.933535   \n",
       "10  2.616715  2.668588  3.331412      3.613833    8.446686      3.198847   \n",
       "11  3.800000  3.852174  4.013043      4.017391    8.307609      3.600000   \n",
       "12  3.465909  2.900568  3.960227      4.000000    9.088778      3.826705   \n",
       "13  3.384906  3.233962  4.147170      3.758491    8.938679      4.109434   \n",
       "14  4.448276  4.236453  4.596059      4.600985    9.012315      5.679803   \n",
       "15  2.587209  3.052326  3.514535      3.622093    8.863372      3.258721   \n",
       "16  3.781659  3.445415  3.991266      3.995633    9.634279      4.082969   \n",
       "\n",
       "        Pain   Illness  Menstruation  Nutrition  TrainingReadiness  \n",
       "0   0.974763  2.895899      0.842271   2.984227          21.435331  \n",
       "1   0.794643  2.958333      0.812500   2.589286          11.651786  \n",
       "2   0.973913  3.000000      0.881159   3.000000          98.115942  \n",
       "3   0.993506  2.983766      0.853896   2.980519          66.996753  \n",
       "4   0.683398  2.768340      0.888031   1.996139          65.637066  \n",
       "5   0.996183  2.946565      0.858779   2.782443          67.156489  \n",
       "6   0.929619  2.926686      0.868035   2.891496          93.460411  \n",
       "7   0.744262  2.442623      0.927869   2.419672          53.704918  \n",
       "8   0.995475  2.945701      0.895928   2.479638          77.104072  \n",
       "9   0.274924  2.489426      0.788520   2.513595          74.244713  \n",
       "10  0.997118  2.795389      0.775216   2.737752          96.455331  \n",
       "11  0.991304  2.943478      0.821739   2.060870          72.869565  \n",
       "12  0.957386  2.866477      0.963068   2.875000          99.900568  \n",
       "13  0.992453  2.996226      0.958491   2.962264          66.320755  \n",
       "14  0.950739  2.960591      0.842365   2.600985          78.965517  \n",
       "15  0.883721  2.924419      0.793605   2.340116          56.787791  \n",
       "16  1.000000  2.943231      0.829694   2.034934          86.026201  "
      ]
     },
     "execution_count": 72,
     "metadata": {},
     "output_type": "execute_result"
    }
   ],
   "source": [
    "#wellness_df['Pain'] = 1 - wellness_df['Pain']\n",
    "#wellness_df['Illness'] = 1 - wellness_df['Illness']\n",
    "#wellness_df['Menstruation'] = 1 - wellness_df['Menstruation']\n",
    "pca_df = wellness_df.copy() # Added in for PCA at end of document\n",
    "#non_imputed_wellness_df['Pain'] = 1 - non_imputed_wellness_df['Pain']\n",
    "#non_imputed_wellness_df['Illness'] = 1 - non_imputed_wellness_df['Illness']\n",
    "#non_imputed_wellness_df['Menstruation'] = 1 - non_imputed_wellness_df['Menstruation']\n",
    "wellness_df\n"
   ]
  },
  {
   "cell_type": "markdown",
   "metadata": {},
   "source": [
    "### Choosing the Number of Factors"
   ]
  },
  {
   "cell_type": "code",
   "execution_count": 73,
   "metadata": {
    "scrolled": true
   },
   "outputs": [
    {
     "data": {
      "image/png": "[encoded data removed]",
      "text/plain": [
       "<Figure size 432x288 with 1 Axes>"
      ]
     },
     "metadata": {
      "needs_background": "light"
     },
     "output_type": "display_data"
    }
   ],
   "source": [
    "factor_number_tester = FactorAnalyzer(n_factors=10, rotation=None) # Using number of factors = number of columns\n",
    "factor_number_tester.fit(wellness_df) \n",
    "ev, v = factor_number_tester.get_eigenvalues()\n",
    "\n",
    "plt.scatter(range(1,wellness_df.shape[1]+1),ev)\n",
    "plt.plot(range(1,wellness_df.shape[1]+1),ev)\n",
    "plt.title('Scree Plot')\n",
    "plt.xlabel('Factors')\n",
    "plt.ylabel('Eigenvalue')\n",
    "plt.grid()\n",
    "plt.show()\n"
   ]
  },
  {
   "cell_type": "markdown",
   "metadata": {},
   "source": [
    "The elbow seems to form at the third factor so I will use 3 factors in my analysis."
   ]
  },
  {
   "cell_type": "markdown",
   "metadata": {},
   "source": [
    "### Perform Factor Analysis"
   ]
  },
  {
   "cell_type": "code",
   "execution_count": 74,
   "metadata": {},
   "outputs": [
    {
     "data": {
      "text/plain": [
       "['Fatigue',\n",
       " 'Soreness',\n",
       " 'Desire',\n",
       " 'Irritability',\n",
       " 'SleepHours',\n",
       " 'SleepQuality',\n",
       " 'Pain',\n",
       " 'Illness',\n",
       " 'Menstruation',\n",
       " 'Nutrition',\n",
       " 'TrainingReadiness']"
      ]
     },
     "execution_count": 74,
     "metadata": {},
     "output_type": "execute_result"
    }
   ],
   "source": [
    "list(wellness_df.columns)"
   ]
  },
  {
   "cell_type": "code",
   "execution_count": 75,
   "metadata": {},
   "outputs": [
    {
     "data": {
      "text/plain": [
       "array([[ 0.99335799,  0.11138695,  0.08884982],\n",
       "       [ 0.86689953,  0.14049917, -0.10103337],\n",
       "       [ 0.76959397,  0.05748282,  0.03479729],\n",
       "       [ 0.88167378, -0.00561019,  0.08171634],\n",
       "       [ 0.19577453,  0.37047252,  0.01844416],\n",
       "       [ 0.7844147 ,  0.30196335,  0.20579328],\n",
       "       [ 0.02969643,  0.76986303,  0.29240082],\n",
       "       [ 0.02623362,  0.97599987,  0.05925815],\n",
       "       [ 0.27747682, -0.02975125,  0.76518849],\n",
       "       [-0.39093356,  0.21909658,  0.4940861 ],\n",
       "       [ 0.0114892 ,  0.06059035,  0.20523662]])"
      ]
     },
     "execution_count": 75,
     "metadata": {},
     "output_type": "execute_result"
    }
   ],
   "source": [
    "fa = FactorAnalyzer(n_factors=3, rotation='varimax')\n",
    "\n",
    "fa.fit(wellness_df)\n",
    "fa.loadings_\n"
   ]
  },
  {
   "cell_type": "markdown",
   "metadata": {},
   "source": [
    "The rule of thumb for seeing if a observation is related to a factor is a loading of `0.7` or higher."
   ]
  },
  {
   "cell_type": "markdown",
   "metadata": {},
   "source": [
    "From this we see that `Fatigue`, `Soreness`, `Desire`, `Irritability`, and `SleepQuality` all relate to the first factor. This is interesting because these are the observations that made up the Monitor Score. We can interpret this as subjective wellness as they are all self reported values."
   ]
  },
  {
   "cell_type": "markdown",
   "metadata": {},
   "source": [
    "The second is related to `Pain` and `Illness`. We can interpret this as objective wellness."
   ]
  },
  {
   "cell_type": "markdown",
   "metadata": {},
   "source": [
    "The third factor is only related to `Menstruation` and to a lesser extent `Nutrition`. We can interpret this factor as representing Mentration."
   ]
  },
  {
   "cell_type": "code",
   "execution_count": 76,
   "metadata": {},
   "outputs": [
    {
     "data": {
      "text/plain": [
       "(array([3.99305703, 1.86173905, 1.02944785]),\n",
       " array([0.36300518, 0.169249  , 0.09358617]),\n",
       " array([0.36300518, 0.53225419, 0.62584036]))"
      ]
     },
     "execution_count": 76,
     "metadata": {},
     "output_type": "execute_result"
    }
   ],
   "source": [
    "fa.get_factor_variance()"
   ]
  },
  {
   "cell_type": "markdown",
   "metadata": {},
   "source": [
    "This 3 factor model explains about `62%` of the variance in the data which is adequate."
   ]
  },
  {
   "cell_type": "markdown",
   "metadata": {},
   "source": [
    "### Factor Analysis With Non-Imputed Data"
   ]
  },
  {
   "cell_type": "markdown",
   "metadata": {},
   "source": [
    "As mentioned during our presentation, imputing the nutrition data might affect our factor analysis."
   ]
  },
  {
   "cell_type": "code",
   "execution_count": 77,
   "metadata": {},
   "outputs": [
    {
     "data": {
      "text/plain": [
       "Index(['Fatigue', 'Soreness', 'Desire', 'Irritability', 'SleepHours',\n",
       "       'SleepQuality', 'Pain', 'Illness', 'Menstruation', 'Nutrition',\n",
       "       'TrainingReadiness'],\n",
       "      dtype='object')"
      ]
     },
     "execution_count": 77,
     "metadata": {},
     "output_type": "execute_result"
    }
   ],
   "source": [
    "non_imputed_wellness_df.columns"
   ]
  },
  {
   "cell_type": "code",
   "execution_count": 78,
   "metadata": {},
   "outputs": [
    {
     "data": {
      "text/plain": [
       "array([[ 0.99331801,  0.11026136,  0.09063911],\n",
       "       [ 0.86776123,  0.13979281, -0.10403713],\n",
       "       [ 0.76863531,  0.05532832,  0.04152568],\n",
       "       [ 0.88199956, -0.00504349,  0.07917245],\n",
       "       [ 0.19572868,  0.36931924,  0.01983908],\n",
       "       [ 0.78479007,  0.30224301,  0.20455423],\n",
       "       [ 0.03095082,  0.76781679,  0.28875663],\n",
       "       [ 0.02664974,  0.98063229,  0.05380147],\n",
       "       [ 0.27684725, -0.02488507,  0.75654431],\n",
       "       [-0.39217745,  0.23778501,  0.48417433],\n",
       "       [ 0.00943702,  0.05994114,  0.21684416]])"
      ]
     },
     "execution_count": 78,
     "metadata": {},
     "output_type": "execute_result"
    }
   ],
   "source": [
    "fa_non_imputed = FactorAnalyzer(n_factors=3, rotation='varimax')\n",
    "\n",
    "fa_non_imputed.fit(non_imputed_wellness_df)\n",
    "fa_non_imputed.loadings_"
   ]
  },
  {
   "cell_type": "markdown",
   "metadata": {},
   "source": [
    "We see that when we use non-imputed data, the results of factor analysis are largely the same. This is a good sign because it means our imputation of the nutrition data did not change the essence of the data much."
   ]
  },
  {
   "cell_type": "markdown",
   "metadata": {},
   "source": [
    "## Factor Analysis Conclusions"
   ]
  },
  {
   "cell_type": "markdown",
   "metadata": {},
   "source": [
    "Given the wellness data, we can summarize it into summary measures by taking the `Monitoring Score`, along with the categorical variables `Pain`, `Illness`, `Menstruation`, and `Nutrition`. We add in nutrition because it was somewhat related to the third factor and we would rather be over inclusive as opposed to leaving out important features at this stage of our analysis. Since each variable is on a different scale, we should standardize the values before adding them up so they are equally weighted in the final wellness score."
   ]
  },
  {
   "cell_type": "markdown",
   "metadata": {},
   "source": [
    "## Summarize Wellness"
   ]
  },
  {
   "cell_type": "code",
   "execution_count": 79,
   "metadata": {},
   "outputs": [
    {
     "data": {
      "text/html": [
       "<div>\n",
       "<style scoped>\n",
       "    .dataframe tbody tr th:only-of-type {\n",
       "        vertical-align: middle;\n",
       "    }\n",
       "\n",
       "    .dataframe tbody tr th {\n",
       "        vertical-align: top;\n",
       "    }\n",
       "\n",
       "    .dataframe thead th {\n",
       "        text-align: right;\n",
       "    }\n",
       "</style>\n",
       "<table border=\"1\" class=\"dataframe\">\n",
       "  <thead>\n",
       "    <tr style=\"text-align: right;\">\n",
       "      <th></th>\n",
       "      <th>Date</th>\n",
       "      <th>PlayerID</th>\n",
       "      <th>Fatigue</th>\n",
       "      <th>Soreness</th>\n",
       "      <th>Desire</th>\n",
       "      <th>Irritability</th>\n",
       "      <th>SleepHours</th>\n",
       "      <th>SleepQuality</th>\n",
       "      <th>MonitoringScore</th>\n",
       "      <th>Pain</th>\n",
       "      <th>Illness</th>\n",
       "      <th>Menstruation</th>\n",
       "      <th>Nutrition</th>\n",
       "      <th>TrainingReadiness</th>\n",
       "    </tr>\n",
       "  </thead>\n",
       "  <tbody>\n",
       "    <tr>\n",
       "      <th>0</th>\n",
       "      <td>2018-07-21</td>\n",
       "      <td>1</td>\n",
       "      <td>3</td>\n",
       "      <td>3</td>\n",
       "      <td>2</td>\n",
       "      <td>3</td>\n",
       "      <td>8.00</td>\n",
       "      <td>2</td>\n",
       "      <td>13</td>\n",
       "      <td>1</td>\n",
       "      <td>3</td>\n",
       "      <td>0</td>\n",
       "      <td>3</td>\n",
       "      <td>0</td>\n",
       "    </tr>\n",
       "    <tr>\n",
       "      <th>1</th>\n",
       "      <td>2018-07-21</td>\n",
       "      <td>2</td>\n",
       "      <td>4</td>\n",
       "      <td>3</td>\n",
       "      <td>4</td>\n",
       "      <td>4</td>\n",
       "      <td>8.00</td>\n",
       "      <td>4</td>\n",
       "      <td>19</td>\n",
       "      <td>0</td>\n",
       "      <td>3</td>\n",
       "      <td>0</td>\n",
       "      <td>3</td>\n",
       "      <td>0</td>\n",
       "    </tr>\n",
       "    <tr>\n",
       "      <th>2</th>\n",
       "      <td>2018-07-21</td>\n",
       "      <td>3</td>\n",
       "      <td>3</td>\n",
       "      <td>3</td>\n",
       "      <td>5</td>\n",
       "      <td>4</td>\n",
       "      <td>8.00</td>\n",
       "      <td>4</td>\n",
       "      <td>19</td>\n",
       "      <td>1</td>\n",
       "      <td>3</td>\n",
       "      <td>1</td>\n",
       "      <td>3</td>\n",
       "      <td>100</td>\n",
       "    </tr>\n",
       "    <tr>\n",
       "      <th>3</th>\n",
       "      <td>2018-07-21</td>\n",
       "      <td>4</td>\n",
       "      <td>2</td>\n",
       "      <td>3</td>\n",
       "      <td>5</td>\n",
       "      <td>4</td>\n",
       "      <td>6.50</td>\n",
       "      <td>1</td>\n",
       "      <td>15</td>\n",
       "      <td>1</td>\n",
       "      <td>3</td>\n",
       "      <td>0</td>\n",
       "      <td>3</td>\n",
       "      <td>95</td>\n",
       "    </tr>\n",
       "    <tr>\n",
       "      <th>4</th>\n",
       "      <td>2018-07-21</td>\n",
       "      <td>5</td>\n",
       "      <td>5</td>\n",
       "      <td>3</td>\n",
       "      <td>4</td>\n",
       "      <td>4</td>\n",
       "      <td>7.25</td>\n",
       "      <td>4</td>\n",
       "      <td>20</td>\n",
       "      <td>1</td>\n",
       "      <td>3</td>\n",
       "      <td>1</td>\n",
       "      <td>2</td>\n",
       "      <td>100</td>\n",
       "    </tr>\n",
       "  </tbody>\n",
       "</table>\n",
       "</div>"
      ],
      "text/plain": [
       "         Date  PlayerID  Fatigue  Soreness  Desire  Irritability  SleepHours  \\\n",
       "0  2018-07-21         1        3         3       2             3        8.00   \n",
       "1  2018-07-21         2        4         3       4             4        8.00   \n",
       "2  2018-07-21         3        3         3       5             4        8.00   \n",
       "3  2018-07-21         4        2         3       5             4        6.50   \n",
       "4  2018-07-21         5        5         3       4             4        7.25   \n",
       "\n",
       "   SleepQuality  MonitoringScore  Pain  Illness  Menstruation  Nutrition  \\\n",
       "0             2               13     1        3             0          3   \n",
       "1             4               19     0        3             0          3   \n",
       "2             4               19     1        3             1          3   \n",
       "3             1               15     1        3             0          3   \n",
       "4             4               20     1        3             1          2   \n",
       "\n",
       "   TrainingReadiness  \n",
       "0                  0  \n",
       "1                  0  \n",
       "2                100  \n",
       "3                 95  \n",
       "4                100  "
      ]
     },
     "execution_count": 79,
     "metadata": {},
     "output_type": "execute_result"
    }
   ],
   "source": [
    "full_wellness_df.head()"
   ]
  },
  {
   "cell_type": "code",
   "execution_count": 80,
   "metadata": {},
   "outputs": [
    {
     "data": {
      "text/html": [
       "<div>\n",
       "<style scoped>\n",
       "    .dataframe tbody tr th:only-of-type {\n",
       "        vertical-align: middle;\n",
       "    }\n",
       "\n",
       "    .dataframe tbody tr th {\n",
       "        vertical-align: top;\n",
       "    }\n",
       "\n",
       "    .dataframe thead th {\n",
       "        text-align: right;\n",
       "    }\n",
       "</style>\n",
       "<table border=\"1\" class=\"dataframe\">\n",
       "  <thead>\n",
       "    <tr style=\"text-align: right;\">\n",
       "      <th></th>\n",
       "      <th>Date</th>\n",
       "      <th>PlayerID</th>\n",
       "      <th>MonitoringScore</th>\n",
       "      <th>Fatigue</th>\n",
       "      <th>Soreness</th>\n",
       "      <th>Desire</th>\n",
       "      <th>Irritability</th>\n",
       "      <th>SleepHours</th>\n",
       "      <th>SleepQuality</th>\n",
       "      <th>Menstruation</th>\n",
       "      <th>...</th>\n",
       "      <th>Nutrition</th>\n",
       "      <th>TrainingReadiness</th>\n",
       "      <th>StandardizedMonitoringScore</th>\n",
       "      <th>StandardizedPain</th>\n",
       "      <th>StandardizedIllness</th>\n",
       "      <th>StandardizedNutrition</th>\n",
       "      <th>StandardizedMenstruation</th>\n",
       "      <th>StandardizedTrainingReadiness</th>\n",
       "      <th>wellness</th>\n",
       "      <th>WellnessAffectedByLoad</th>\n",
       "    </tr>\n",
       "  </thead>\n",
       "  <tbody>\n",
       "    <tr>\n",
       "      <th>0</th>\n",
       "      <td>2018-07-21</td>\n",
       "      <td>1</td>\n",
       "      <td>13</td>\n",
       "      <td>3</td>\n",
       "      <td>3</td>\n",
       "      <td>2</td>\n",
       "      <td>3</td>\n",
       "      <td>8.00</td>\n",
       "      <td>2</td>\n",
       "      <td>0</td>\n",
       "      <td>...</td>\n",
       "      <td>3</td>\n",
       "      <td>0</td>\n",
       "      <td>-1.448934</td>\n",
       "      <td>0.363863</td>\n",
       "      <td>0.330081</td>\n",
       "      <td>0.716267</td>\n",
       "      <td>0.716267</td>\n",
       "      <td>-2.456667</td>\n",
       "      <td>-0.038724</td>\n",
       "      <td>-2.495390</td>\n",
       "    </tr>\n",
       "    <tr>\n",
       "      <th>1</th>\n",
       "      <td>2018-07-21</td>\n",
       "      <td>2</td>\n",
       "      <td>19</td>\n",
       "      <td>4</td>\n",
       "      <td>3</td>\n",
       "      <td>4</td>\n",
       "      <td>4</td>\n",
       "      <td>8.00</td>\n",
       "      <td>4</td>\n",
       "      <td>0</td>\n",
       "      <td>...</td>\n",
       "      <td>3</td>\n",
       "      <td>0</td>\n",
       "      <td>0.170479</td>\n",
       "      <td>-2.748287</td>\n",
       "      <td>0.330081</td>\n",
       "      <td>0.716267</td>\n",
       "      <td>0.716267</td>\n",
       "      <td>-2.456667</td>\n",
       "      <td>-1.531461</td>\n",
       "      <td>-3.988127</td>\n",
       "    </tr>\n",
       "    <tr>\n",
       "      <th>2</th>\n",
       "      <td>2018-07-21</td>\n",
       "      <td>3</td>\n",
       "      <td>19</td>\n",
       "      <td>3</td>\n",
       "      <td>3</td>\n",
       "      <td>5</td>\n",
       "      <td>4</td>\n",
       "      <td>8.00</td>\n",
       "      <td>4</td>\n",
       "      <td>1</td>\n",
       "      <td>...</td>\n",
       "      <td>3</td>\n",
       "      <td>100</td>\n",
       "      <td>0.170479</td>\n",
       "      <td>0.363863</td>\n",
       "      <td>0.330081</td>\n",
       "      <td>0.716267</td>\n",
       "      <td>0.716267</td>\n",
       "      <td>0.407056</td>\n",
       "      <td>1.580689</td>\n",
       "      <td>1.987745</td>\n",
       "    </tr>\n",
       "    <tr>\n",
       "      <th>3</th>\n",
       "      <td>2018-07-21</td>\n",
       "      <td>4</td>\n",
       "      <td>15</td>\n",
       "      <td>2</td>\n",
       "      <td>3</td>\n",
       "      <td>5</td>\n",
       "      <td>4</td>\n",
       "      <td>6.50</td>\n",
       "      <td>1</td>\n",
       "      <td>0</td>\n",
       "      <td>...</td>\n",
       "      <td>3</td>\n",
       "      <td>95</td>\n",
       "      <td>-0.909130</td>\n",
       "      <td>0.363863</td>\n",
       "      <td>0.330081</td>\n",
       "      <td>0.716267</td>\n",
       "      <td>0.716267</td>\n",
       "      <td>-2.456667</td>\n",
       "      <td>0.501081</td>\n",
       "      <td>-1.955586</td>\n",
       "    </tr>\n",
       "    <tr>\n",
       "      <th>4</th>\n",
       "      <td>2018-07-21</td>\n",
       "      <td>5</td>\n",
       "      <td>20</td>\n",
       "      <td>5</td>\n",
       "      <td>3</td>\n",
       "      <td>4</td>\n",
       "      <td>4</td>\n",
       "      <td>7.25</td>\n",
       "      <td>4</td>\n",
       "      <td>1</td>\n",
       "      <td>...</td>\n",
       "      <td>2</td>\n",
       "      <td>100</td>\n",
       "      <td>0.440381</td>\n",
       "      <td>0.363863</td>\n",
       "      <td>0.330081</td>\n",
       "      <td>-1.221844</td>\n",
       "      <td>-1.221844</td>\n",
       "      <td>0.407056</td>\n",
       "      <td>-0.087520</td>\n",
       "      <td>0.319536</td>\n",
       "    </tr>\n",
       "  </tbody>\n",
       "</table>\n",
       "<p>5 rows × 22 columns</p>\n",
       "</div>"
      ],
      "text/plain": [
       "         Date  PlayerID  MonitoringScore  Fatigue  Soreness  Desire  \\\n",
       "0  2018-07-21         1               13        3         3       2   \n",
       "1  2018-07-21         2               19        4         3       4   \n",
       "2  2018-07-21         3               19        3         3       5   \n",
       "3  2018-07-21         4               15        2         3       5   \n",
       "4  2018-07-21         5               20        5         3       4   \n",
       "\n",
       "   Irritability  SleepHours  SleepQuality  Menstruation  ...  Nutrition  \\\n",
       "0             3        8.00             2             0  ...          3   \n",
       "1             4        8.00             4             0  ...          3   \n",
       "2             4        8.00             4             1  ...          3   \n",
       "3             4        6.50             1             0  ...          3   \n",
       "4             4        7.25             4             1  ...          2   \n",
       "\n",
       "   TrainingReadiness  StandardizedMonitoringScore  StandardizedPain  \\\n",
       "0                  0                    -1.448934          0.363863   \n",
       "1                  0                     0.170479         -2.748287   \n",
       "2                100                     0.170479          0.363863   \n",
       "3                 95                    -0.909130          0.363863   \n",
       "4                100                     0.440381          0.363863   \n",
       "\n",
       "   StandardizedIllness  StandardizedNutrition  StandardizedMenstruation  \\\n",
       "0             0.330081               0.716267                  0.716267   \n",
       "1             0.330081               0.716267                  0.716267   \n",
       "2             0.330081               0.716267                  0.716267   \n",
       "3             0.330081               0.716267                  0.716267   \n",
       "4             0.330081              -1.221844                 -1.221844   \n",
       "\n",
       "   StandardizedTrainingReadiness  wellness  WellnessAffectedByLoad  \n",
       "0                      -2.456667 -0.038724               -2.495390  \n",
       "1                      -2.456667 -1.531461               -3.988127  \n",
       "2                       0.407056  1.580689                1.987745  \n",
       "3                      -2.456667  0.501081               -1.955586  \n",
       "4                       0.407056 -0.087520                0.319536  \n",
       "\n",
       "[5 rows x 22 columns]"
      ]
     },
     "execution_count": 80,
     "metadata": {},
     "output_type": "execute_result"
    }
   ],
   "source": [
    "processed_wellness_df = full_wellness_df.copy()[['Date', 'PlayerID', 'MonitoringScore', 'Fatigue', 'Soreness', 'Desire', 'Irritability', 'SleepHours', 'SleepQuality', 'Menstruation', 'Pain', 'Illness', 'Nutrition', 'TrainingReadiness']]\n",
    "scaled_wellness_values = StandardScaler().fit_transform(processed_wellness_df[['MonitoringScore', 'Pain', 'Illness', 'Nutrition', 'Menstruation', 'TrainingReadiness']])\n",
    "processed_wellness_df['StandardizedMonitoringScore'] = scaled_wellness_values[:, 0]\n",
    "processed_wellness_df['StandardizedPain'] = scaled_wellness_values[:, 1]\n",
    "processed_wellness_df['StandardizedIllness'] = scaled_wellness_values[:, 2]\n",
    "processed_wellness_df['StandardizedNutrition'] = scaled_wellness_values[:, 3]\n",
    "processed_wellness_df['StandardizedMenstruation'] = scaled_wellness_values[:, 3]\n",
    "processed_wellness_df['StandardizedTrainingReadiness'] = scaled_wellness_values[:, 4]\n",
    "processed_wellness_df['wellness'] = processed_wellness_df['StandardizedMonitoringScore'] + processed_wellness_df['StandardizedPain'] + processed_wellness_df['StandardizedIllness'] + processed_wellness_df['StandardizedMenstruation']\n",
    "processed_wellness_df['WellnessAffectedByLoad'] = processed_wellness_df['StandardizedMonitoringScore'] + processed_wellness_df['StandardizedPain'] + processed_wellness_df['StandardizedIllness'] + processed_wellness_df['StandardizedNutrition'] + processed_wellness_df['StandardizedTrainingReadiness']\n",
    "\n",
    "processed_wellness_df.head()"
   ]
  },
  {
   "cell_type": "markdown",
   "metadata": {},
   "source": [
    "Note that we added 2 summary measures of wellness. The first is what we get if we follow the logic of our factor analysis. The second is meant to be used when we compare wellness and training load. Given that menstruation is not dependent on training load, it would in appropriate for the wellness summary we use to be influcenced by menstruation as we intend for wellness to be the dependent variable in this case."
   ]
  },
  {
   "cell_type": "markdown",
   "metadata": {},
   "source": [
    "### Saved Processed Wellness Data To File"
   ]
  },
  {
   "cell_type": "code",
   "execution_count": 81,
   "metadata": {},
   "outputs": [],
   "source": [
    "processed_wellness_df.to_csv('./processed_data/processed_wellness.csv')"
   ]
  },
  {
   "cell_type": "code",
   "execution_count": 82,
   "metadata": {},
   "outputs": [
    {
     "data": {
      "text/html": [
       "<div>\n",
       "<style scoped>\n",
       "    .dataframe tbody tr th:only-of-type {\n",
       "        vertical-align: middle;\n",
       "    }\n",
       "\n",
       "    .dataframe tbody tr th {\n",
       "        vertical-align: top;\n",
       "    }\n",
       "\n",
       "    .dataframe thead th {\n",
       "        text-align: right;\n",
       "    }\n",
       "</style>\n",
       "<table border=\"1\" class=\"dataframe\">\n",
       "  <thead>\n",
       "    <tr style=\"text-align: right;\">\n",
       "      <th></th>\n",
       "      <th>wellness</th>\n",
       "      <th>WellnessAffectedByLoad</th>\n",
       "    </tr>\n",
       "    <tr>\n",
       "      <th>PlayerID</th>\n",
       "      <th></th>\n",
       "      <th></th>\n",
       "    </tr>\n",
       "  </thead>\n",
       "  <tbody>\n",
       "    <tr>\n",
       "      <th>1</th>\n",
       "      <td>0.410688</td>\n",
       "      <td>0.366053</td>\n",
       "    </tr>\n",
       "    <tr>\n",
       "      <th>2</th>\n",
       "      <td>0.164388</td>\n",
       "      <td>0.034495</td>\n",
       "    </tr>\n",
       "    <tr>\n",
       "      <th>3</th>\n",
       "      <td>1.195961</td>\n",
       "      <td>1.262690</td>\n",
       "    </tr>\n",
       "    <tr>\n",
       "      <th>4</th>\n",
       "      <td>1.053156</td>\n",
       "      <td>1.041811</td>\n",
       "    </tr>\n",
       "    <tr>\n",
       "      <th>5</th>\n",
       "      <td>-1.708920</td>\n",
       "      <td>-1.622513</td>\n",
       "    </tr>\n",
       "    <tr>\n",
       "      <th>6</th>\n",
       "      <td>1.023971</td>\n",
       "      <td>1.026608</td>\n",
       "    </tr>\n",
       "    <tr>\n",
       "      <th>7</th>\n",
       "      <td>0.574152</td>\n",
       "      <td>0.603297</td>\n",
       "    </tr>\n",
       "    <tr>\n",
       "      <th>8</th>\n",
       "      <td>-1.583206</td>\n",
       "      <td>-1.382714</td>\n",
       "    </tr>\n",
       "    <tr>\n",
       "      <th>9</th>\n",
       "      <td>1.815218</td>\n",
       "      <td>1.924239</td>\n",
       "    </tr>\n",
       "    <tr>\n",
       "      <th>10</th>\n",
       "      <td>-3.533125</td>\n",
       "      <td>-3.731690</td>\n",
       "    </tr>\n",
       "    <tr>\n",
       "      <th>11</th>\n",
       "      <td>-0.395638</td>\n",
       "      <td>-0.632301</td>\n",
       "    </tr>\n",
       "    <tr>\n",
       "      <th>12</th>\n",
       "      <td>-0.327079</td>\n",
       "      <td>-0.430513</td>\n",
       "    </tr>\n",
       "    <tr>\n",
       "      <th>13</th>\n",
       "      <td>0.654040</td>\n",
       "      <td>0.955333</td>\n",
       "    </tr>\n",
       "    <tr>\n",
       "      <th>14</th>\n",
       "      <td>1.376135</td>\n",
       "      <td>1.664319</td>\n",
       "    </tr>\n",
       "    <tr>\n",
       "      <th>15</th>\n",
       "      <td>1.789814</td>\n",
       "      <td>1.745445</td>\n",
       "    </tr>\n",
       "    <tr>\n",
       "      <th>16</th>\n",
       "      <td>-1.043396</td>\n",
       "      <td>-1.227400</td>\n",
       "    </tr>\n",
       "    <tr>\n",
       "      <th>17</th>\n",
       "      <td>-0.347010</td>\n",
       "      <td>-0.427663</td>\n",
       "    </tr>\n",
       "  </tbody>\n",
       "</table>\n",
       "</div>"
      ],
      "text/plain": [
       "          wellness  WellnessAffectedByLoad\n",
       "PlayerID                                  \n",
       "1         0.410688                0.366053\n",
       "2         0.164388                0.034495\n",
       "3         1.195961                1.262690\n",
       "4         1.053156                1.041811\n",
       "5        -1.708920               -1.622513\n",
       "6         1.023971                1.026608\n",
       "7         0.574152                0.603297\n",
       "8        -1.583206               -1.382714\n",
       "9         1.815218                1.924239\n",
       "10       -3.533125               -3.731690\n",
       "11       -0.395638               -0.632301\n",
       "12       -0.327079               -0.430513\n",
       "13        0.654040                0.955333\n",
       "14        1.376135                1.664319\n",
       "15        1.789814                1.745445\n",
       "16       -1.043396               -1.227400\n",
       "17       -0.347010               -0.427663"
      ]
     },
     "execution_count": 82,
     "metadata": {},
     "output_type": "execute_result"
    }
   ],
   "source": [
    "processed_wellness_df[['PlayerID', 'wellness', 'WellnessAffectedByLoad']].groupby('PlayerID').mean()"
   ]
  },
  {
   "cell_type": "markdown",
   "metadata": {},
   "source": [
    "We see that in general, both our summary measures of wellness are similar."
   ]
  },
  {
   "cell_type": "markdown",
   "metadata": {},
   "source": [
    "## Visualize Wellness Using PCA"
   ]
  },
  {
   "cell_type": "markdown",
   "metadata": {},
   "source": [
    "We want to try and visualize the clusters of players so we will use PCA to plot the average player wellness data on 2 principal components. This gives us a ground truth on the similarity in wellness between players and can help us assess the quality of our wellness summary measures."
   ]
  },
  {
   "cell_type": "code",
   "execution_count": 83,
   "metadata": {},
   "outputs": [
    {
     "data": {
      "text/html": [
       "<div>\n",
       "<style scoped>\n",
       "    .dataframe tbody tr th:only-of-type {\n",
       "        vertical-align: middle;\n",
       "    }\n",
       "\n",
       "    .dataframe tbody tr th {\n",
       "        vertical-align: top;\n",
       "    }\n",
       "\n",
       "    .dataframe thead th {\n",
       "        text-align: right;\n",
       "    }\n",
       "</style>\n",
       "<table border=\"1\" class=\"dataframe\">\n",
       "  <thead>\n",
       "    <tr style=\"text-align: right;\">\n",
       "      <th></th>\n",
       "      <th>Fatigue</th>\n",
       "      <th>Soreness</th>\n",
       "      <th>Desire</th>\n",
       "      <th>Irritability</th>\n",
       "      <th>SleepHours</th>\n",
       "      <th>SleepQuality</th>\n",
       "      <th>Pain</th>\n",
       "      <th>Illness</th>\n",
       "      <th>Menstruation</th>\n",
       "      <th>Nutrition</th>\n",
       "      <th>TrainingReadiness</th>\n",
       "    </tr>\n",
       "  </thead>\n",
       "  <tbody>\n",
       "    <tr>\n",
       "      <th>0</th>\n",
       "      <td>2.671924</td>\n",
       "      <td>3.302839</td>\n",
       "      <td>2.479495</td>\n",
       "      <td>3.936909</td>\n",
       "      <td>8.715300</td>\n",
       "      <td>3.611987</td>\n",
       "      <td>0.974763</td>\n",
       "      <td>2.895899</td>\n",
       "      <td>0.842271</td>\n",
       "      <td>2.984227</td>\n",
       "      <td>21.435331</td>\n",
       "    </tr>\n",
       "    <tr>\n",
       "      <th>1</th>\n",
       "      <td>3.779762</td>\n",
       "      <td>3.276786</td>\n",
       "      <td>4.113095</td>\n",
       "      <td>4.151786</td>\n",
       "      <td>9.053571</td>\n",
       "      <td>4.122024</td>\n",
       "      <td>0.794643</td>\n",
       "      <td>2.958333</td>\n",
       "      <td>0.812500</td>\n",
       "      <td>2.589286</td>\n",
       "      <td>11.651786</td>\n",
       "    </tr>\n",
       "    <tr>\n",
       "      <th>2</th>\n",
       "      <td>3.350725</td>\n",
       "      <td>3.176812</td>\n",
       "      <td>3.455072</td>\n",
       "      <td>3.979710</td>\n",
       "      <td>7.879710</td>\n",
       "      <td>3.913043</td>\n",
       "      <td>0.973913</td>\n",
       "      <td>3.000000</td>\n",
       "      <td>0.881159</td>\n",
       "      <td>3.000000</td>\n",
       "      <td>98.115942</td>\n",
       "    </tr>\n",
       "    <tr>\n",
       "      <th>3</th>\n",
       "      <td>3.305195</td>\n",
       "      <td>3.542208</td>\n",
       "      <td>3.935065</td>\n",
       "      <td>3.668831</td>\n",
       "      <td>8.266234</td>\n",
       "      <td>2.954545</td>\n",
       "      <td>0.993506</td>\n",
       "      <td>2.983766</td>\n",
       "      <td>0.853896</td>\n",
       "      <td>2.980519</td>\n",
       "      <td>66.996753</td>\n",
       "    </tr>\n",
       "    <tr>\n",
       "      <th>4</th>\n",
       "      <td>3.803089</td>\n",
       "      <td>3.814672</td>\n",
       "      <td>4.324324</td>\n",
       "      <td>3.965251</td>\n",
       "      <td>7.925676</td>\n",
       "      <td>3.841699</td>\n",
       "      <td>0.683398</td>\n",
       "      <td>2.768340</td>\n",
       "      <td>0.888031</td>\n",
       "      <td>1.996139</td>\n",
       "      <td>65.637066</td>\n",
       "    </tr>\n",
       "  </tbody>\n",
       "</table>\n",
       "</div>"
      ],
      "text/plain": [
       "    Fatigue  Soreness    Desire  Irritability  SleepHours  SleepQuality  \\\n",
       "0  2.671924  3.302839  2.479495      3.936909    8.715300      3.611987   \n",
       "1  3.779762  3.276786  4.113095      4.151786    9.053571      4.122024   \n",
       "2  3.350725  3.176812  3.455072      3.979710    7.879710      3.913043   \n",
       "3  3.305195  3.542208  3.935065      3.668831    8.266234      2.954545   \n",
       "4  3.803089  3.814672  4.324324      3.965251    7.925676      3.841699   \n",
       "\n",
       "       Pain   Illness  Menstruation  Nutrition  TrainingReadiness  \n",
       "0  0.974763  2.895899      0.842271   2.984227          21.435331  \n",
       "1  0.794643  2.958333      0.812500   2.589286          11.651786  \n",
       "2  0.973913  3.000000      0.881159   3.000000          98.115942  \n",
       "3  0.993506  2.983766      0.853896   2.980519          66.996753  \n",
       "4  0.683398  2.768340      0.888031   1.996139          65.637066  "
      ]
     },
     "execution_count": 83,
     "metadata": {},
     "output_type": "execute_result"
    }
   ],
   "source": [
    "pca_df.head()"
   ]
  },
  {
   "cell_type": "code",
   "execution_count": 84,
   "metadata": {},
   "outputs": [
    {
     "data": {
      "text/html": [
       "<div>\n",
       "<style scoped>\n",
       "    .dataframe tbody tr th:only-of-type {\n",
       "        vertical-align: middle;\n",
       "    }\n",
       "\n",
       "    .dataframe tbody tr th {\n",
       "        vertical-align: top;\n",
       "    }\n",
       "\n",
       "    .dataframe thead th {\n",
       "        text-align: right;\n",
       "    }\n",
       "</style>\n",
       "<table border=\"1\" class=\"dataframe\">\n",
       "  <thead>\n",
       "    <tr style=\"text-align: right;\">\n",
       "      <th></th>\n",
       "      <th>Fatigue</th>\n",
       "      <th>Soreness</th>\n",
       "      <th>Desire</th>\n",
       "      <th>Irritability</th>\n",
       "      <th>SleepHours</th>\n",
       "      <th>SleepQuality</th>\n",
       "      <th>Pain</th>\n",
       "      <th>Illness</th>\n",
       "      <th>Menstruation</th>\n",
       "      <th>Nutrition</th>\n",
       "      <th>TrainingReadiness</th>\n",
       "    </tr>\n",
       "  </thead>\n",
       "  <tbody>\n",
       "    <tr>\n",
       "      <th>0</th>\n",
       "      <td>-1.367946</td>\n",
       "      <td>-0.245809</td>\n",
       "      <td>-2.728568</td>\n",
       "      <td>-0.196525</td>\n",
       "      <td>0.075544</td>\n",
       "      <td>-0.405559</td>\n",
       "      <td>0.468923</td>\n",
       "      <td>0.163069</td>\n",
       "      <td>-0.307996</td>\n",
       "      <td>1.142769</td>\n",
       "      <td>-2.035719</td>\n",
       "    </tr>\n",
       "    <tr>\n",
       "      <th>1</th>\n",
       "      <td>0.484052</td>\n",
       "      <td>-0.301253</td>\n",
       "      <td>0.443991</td>\n",
       "      <td>0.438675</td>\n",
       "      <td>0.782637</td>\n",
       "      <td>0.377043</td>\n",
       "      <td>-0.529892</td>\n",
       "      <td>0.553648</td>\n",
       "      <td>-0.859682</td>\n",
       "      <td>-0.040733</td>\n",
       "      <td>-2.447402</td>\n",
       "    </tr>\n",
       "    <tr>\n",
       "      <th>2</th>\n",
       "      <td>-0.233180</td>\n",
       "      <td>-0.514008</td>\n",
       "      <td>-0.833933</td>\n",
       "      <td>-0.069999</td>\n",
       "      <td>-1.671097</td>\n",
       "      <td>0.056383</td>\n",
       "      <td>0.464208</td>\n",
       "      <td>0.814308</td>\n",
       "      <td>0.412632</td>\n",
       "      <td>1.190035</td>\n",
       "      <td>1.190932</td>\n",
       "    </tr>\n",
       "    <tr>\n",
       "      <th>3</th>\n",
       "      <td>-0.309293</td>\n",
       "      <td>0.263590</td>\n",
       "      <td>0.098244</td>\n",
       "      <td>-0.988991</td>\n",
       "      <td>-0.863143</td>\n",
       "      <td>-1.414341</td>\n",
       "      <td>0.572859</td>\n",
       "      <td>0.712752</td>\n",
       "      <td>-0.092579</td>\n",
       "      <td>1.131659</td>\n",
       "      <td>-0.118535</td>\n",
       "    </tr>\n",
       "    <tr>\n",
       "      <th>4</th>\n",
       "      <td>0.523049</td>\n",
       "      <td>0.843420</td>\n",
       "      <td>0.854211</td>\n",
       "      <td>-0.112742</td>\n",
       "      <td>-1.575015</td>\n",
       "      <td>-0.053089</td>\n",
       "      <td>-1.146776</td>\n",
       "      <td>-0.634923</td>\n",
       "      <td>0.539966</td>\n",
       "      <td>-1.818188</td>\n",
       "      <td>-0.175750</td>\n",
       "    </tr>\n",
       "    <tr>\n",
       "      <th>5</th>\n",
       "      <td>0.341780</td>\n",
       "      <td>0.043808</td>\n",
       "      <td>0.150228</td>\n",
       "      <td>-0.179263</td>\n",
       "      <td>-0.434336</td>\n",
       "      <td>0.166383</td>\n",
       "      <td>0.587702</td>\n",
       "      <td>0.480026</td>\n",
       "      <td>-0.002102</td>\n",
       "      <td>0.538091</td>\n",
       "      <td>-0.111814</td>\n",
       "    </tr>\n",
       "    <tr>\n",
       "      <th>6</th>\n",
       "      <td>-0.696934</td>\n",
       "      <td>-0.703057</td>\n",
       "      <td>-0.168617</td>\n",
       "      <td>-0.902921</td>\n",
       "      <td>1.115077</td>\n",
       "      <td>-0.021678</td>\n",
       "      <td>0.218585</td>\n",
       "      <td>0.355668</td>\n",
       "      <td>0.169429</td>\n",
       "      <td>0.864885</td>\n",
       "      <td>0.995032</td>\n",
       "    </tr>\n",
       "    <tr>\n",
       "      <th>7</th>\n",
       "      <td>0.413745</td>\n",
       "      <td>0.254008</td>\n",
       "      <td>-0.291409</td>\n",
       "      <td>1.075502</td>\n",
       "      <td>-1.013586</td>\n",
       "      <td>0.214963</td>\n",
       "      <td>-0.809266</td>\n",
       "      <td>-2.672557</td>\n",
       "      <td>1.278195</td>\n",
       "      <td>-0.549006</td>\n",
       "      <td>-0.677844</td>\n",
       "    </tr>\n",
       "    <tr>\n",
       "      <th>8</th>\n",
       "      <td>2.319716</td>\n",
       "      <td>2.441490</td>\n",
       "      <td>1.946727</td>\n",
       "      <td>2.691944</td>\n",
       "      <td>1.006430</td>\n",
       "      <td>1.571468</td>\n",
       "      <td>0.583775</td>\n",
       "      <td>0.474624</td>\n",
       "      <td>0.686298</td>\n",
       "      <td>-0.369309</td>\n",
       "      <td>0.306772</td>\n",
       "    </tr>\n",
       "    <tr>\n",
       "      <th>9</th>\n",
       "      <td>-0.895252</td>\n",
       "      <td>-0.935285</td>\n",
       "      <td>-0.174622</td>\n",
       "      <td>-0.528009</td>\n",
       "      <td>-0.636577</td>\n",
       "      <td>-1.446580</td>\n",
       "      <td>-3.411868</td>\n",
       "      <td>-2.379765</td>\n",
       "      <td>-1.304058</td>\n",
       "      <td>-0.267552</td>\n",
       "      <td>0.186452</td>\n",
       "    </tr>\n",
       "    <tr>\n",
       "      <th>10</th>\n",
       "      <td>-1.460242</td>\n",
       "      <td>-1.595557</td>\n",
       "      <td>-1.074089</td>\n",
       "      <td>-1.151572</td>\n",
       "      <td>-0.485942</td>\n",
       "      <td>-1.039483</td>\n",
       "      <td>0.592886</td>\n",
       "      <td>-0.465707</td>\n",
       "      <td>-1.550582</td>\n",
       "      <td>0.404169</td>\n",
       "      <td>1.121055</td>\n",
       "    </tr>\n",
       "    <tr>\n",
       "      <th>11</th>\n",
       "      <td>0.517885</td>\n",
       "      <td>0.923228</td>\n",
       "      <td>0.249684</td>\n",
       "      <td>0.041391</td>\n",
       "      <td>-0.776656</td>\n",
       "      <td>-0.423952</td>\n",
       "      <td>0.560647</td>\n",
       "      <td>0.460717</td>\n",
       "      <td>-0.688474</td>\n",
       "      <td>-1.624213</td>\n",
       "      <td>0.128587</td>\n",
       "    </tr>\n",
       "    <tr>\n",
       "      <th>12</th>\n",
       "      <td>-0.040623</td>\n",
       "      <td>-1.101880</td>\n",
       "      <td>0.147111</td>\n",
       "      <td>-0.010020</td>\n",
       "      <td>0.856230</td>\n",
       "      <td>-0.076096</td>\n",
       "      <td>0.372563</td>\n",
       "      <td>-0.020990</td>\n",
       "      <td>1.930467</td>\n",
       "      <td>0.815453</td>\n",
       "      <td>1.266028</td>\n",
       "    </tr>\n",
       "    <tr>\n",
       "      <th>13</th>\n",
       "      <td>-0.176038</td>\n",
       "      <td>-0.392386</td>\n",
       "      <td>0.510166</td>\n",
       "      <td>-0.723948</td>\n",
       "      <td>0.542477</td>\n",
       "      <td>0.357725</td>\n",
       "      <td>0.567016</td>\n",
       "      <td>0.790701</td>\n",
       "      <td>1.845640</td>\n",
       "      <td>1.076954</td>\n",
       "      <td>-0.146981</td>\n",
       "    </tr>\n",
       "    <tr>\n",
       "      <th>14</th>\n",
       "      <td>1.601623</td>\n",
       "      <td>1.741011</td>\n",
       "      <td>1.381938</td>\n",
       "      <td>1.766558</td>\n",
       "      <td>0.696399</td>\n",
       "      <td>2.767306</td>\n",
       "      <td>0.335701</td>\n",
       "      <td>0.567772</td>\n",
       "      <td>-0.306268</td>\n",
       "      <td>-0.005674</td>\n",
       "      <td>0.385100</td>\n",
       "    </tr>\n",
       "    <tr>\n",
       "      <th>15</th>\n",
       "      <td>-1.509567</td>\n",
       "      <td>-0.778926</td>\n",
       "      <td>-0.718453</td>\n",
       "      <td>-1.127154</td>\n",
       "      <td>0.385061</td>\n",
       "      <td>-0.947613</td>\n",
       "      <td>-0.035931</td>\n",
       "      <td>0.341483</td>\n",
       "      <td>-1.209828</td>\n",
       "      <td>-0.787408</td>\n",
       "      <td>-0.548119</td>\n",
       "    </tr>\n",
       "    <tr>\n",
       "      <th>16</th>\n",
       "      <td>0.487225</td>\n",
       "      <td>0.057606</td>\n",
       "      <td>0.207391</td>\n",
       "      <td>-0.022929</td>\n",
       "      <td>1.996497</td>\n",
       "      <td>0.317118</td>\n",
       "      <td>0.608867</td>\n",
       "      <td>0.459173</td>\n",
       "      <td>-0.541058</td>\n",
       "      <td>-1.701931</td>\n",
       "      <td>0.682207</td>\n",
       "    </tr>\n",
       "  </tbody>\n",
       "</table>\n",
       "</div>"
      ],
      "text/plain": [
       "     Fatigue  Soreness    Desire  Irritability  SleepHours  SleepQuality  \\\n",
       "0  -1.367946 -0.245809 -2.728568     -0.196525    0.075544     -0.405559   \n",
       "1   0.484052 -0.301253  0.443991      0.438675    0.782637      0.377043   \n",
       "2  -0.233180 -0.514008 -0.833933     -0.069999   -1.671097      0.056383   \n",
       "3  -0.309293  0.263590  0.098244     -0.988991   -0.863143     -1.414341   \n",
       "4   0.523049  0.843420  0.854211     -0.112742   -1.575015     -0.053089   \n",
       "5   0.341780  0.043808  0.150228     -0.179263   -0.434336      0.166383   \n",
       "6  -0.696934 -0.703057 -0.168617     -0.902921    1.115077     -0.021678   \n",
       "7   0.413745  0.254008 -0.291409      1.075502   -1.013586      0.214963   \n",
       "8   2.319716  2.441490  1.946727      2.691944    1.006430      1.571468   \n",
       "9  -0.895252 -0.935285 -0.174622     -0.528009   -0.636577     -1.446580   \n",
       "10 -1.460242 -1.595557 -1.074089     -1.151572   -0.485942     -1.039483   \n",
       "11  0.517885  0.923228  0.249684      0.041391   -0.776656     -0.423952   \n",
       "12 -0.040623 -1.101880  0.147111     -0.010020    0.856230     -0.076096   \n",
       "13 -0.176038 -0.392386  0.510166     -0.723948    0.542477      0.357725   \n",
       "14  1.601623  1.741011  1.381938      1.766558    0.696399      2.767306   \n",
       "15 -1.509567 -0.778926 -0.718453     -1.127154    0.385061     -0.947613   \n",
       "16  0.487225  0.057606  0.207391     -0.022929    1.996497      0.317118   \n",
       "\n",
       "        Pain   Illness  Menstruation  Nutrition  TrainingReadiness  \n",
       "0   0.468923  0.163069     -0.307996   1.142769          -2.035719  \n",
       "1  -0.529892  0.553648     -0.859682  -0.040733          -2.447402  \n",
       "2   0.464208  0.814308      0.412632   1.190035           1.190932  \n",
       "3   0.572859  0.712752     -0.092579   1.131659          -0.118535  \n",
       "4  -1.146776 -0.634923      0.539966  -1.818188          -0.175750  \n",
       "5   0.587702  0.480026     -0.002102   0.538091          -0.111814  \n",
       "6   0.218585  0.355668      0.169429   0.864885           0.995032  \n",
       "7  -0.809266 -2.672557      1.278195  -0.549006          -0.677844  \n",
       "8   0.583775  0.474624      0.686298  -0.369309           0.306772  \n",
       "9  -3.411868 -2.379765     -1.304058  -0.267552           0.186452  \n",
       "10  0.592886 -0.465707     -1.550582   0.404169           1.121055  \n",
       "11  0.560647  0.460717     -0.688474  -1.624213           0.128587  \n",
       "12  0.372563 -0.020990      1.930467   0.815453           1.266028  \n",
       "13  0.567016  0.790701      1.845640   1.076954          -0.146981  \n",
       "14  0.335701  0.567772     -0.306268  -0.005674           0.385100  \n",
       "15 -0.035931  0.341483     -1.209828  -0.787408          -0.548119  \n",
       "16  0.608867  0.459173     -0.541058  -1.701931           0.682207  "
      ]
     },
     "execution_count": 84,
     "metadata": {},
     "output_type": "execute_result"
    }
   ],
   "source": [
    "pca_standard_scaler = StandardScaler()\n",
    "pca_df[pca_df.columns] = pca_standard_scaler.fit_transform(pca_df)\n",
    "pca_df"
   ]
  },
  {
   "cell_type": "code",
   "execution_count": 85,
   "metadata": {},
   "outputs": [
    {
     "data": {
      "text/plain": [
       "array([[-2.22879566e+00, -9.78179524e-01],\n",
       "       [ 5.16621003e-01,  3.96763049e-01],\n",
       "       [-8.09451011e-01, -1.20412800e+00],\n",
       "       [-1.15416238e+00, -9.26623749e-01],\n",
       "       [ 7.11091561e-01,  2.38690944e+00],\n",
       "       [ 2.18462421e-01, -6.79261069e-01],\n",
       "       [-8.68002204e-01, -1.47457888e+00],\n",
       "       [ 3.90985076e-01,  2.50528003e+00],\n",
       "       [ 5.11076852e+00,  1.40340238e-01],\n",
       "       [-2.73985461e+00,  3.56187426e+00],\n",
       "       [-3.03314641e+00, -5.77101244e-01],\n",
       "       [ 6.70100487e-01,  6.63291943e-01],\n",
       "       [-3.30537459e-04, -1.40432596e+00],\n",
       "       [ 2.41097572e-01, -1.79070392e+00],\n",
       "       [ 4.09124544e+00, -1.65176657e-01],\n",
       "       [-2.19192478e+00, -6.26922031e-02],\n",
       "       [ 1.07529552e+00, -3.91687753e-01]])"
      ]
     },
     "execution_count": 85,
     "metadata": {},
     "output_type": "execute_result"
    }
   ],
   "source": [
    "pca = PCA(n_components=2)\n",
    "principal_components = pca.fit_transform(pca_df)\n",
    "principal_components\n"
   ]
  },
  {
   "cell_type": "code",
   "execution_count": 86,
   "metadata": {},
   "outputs": [
    {
     "data": {
      "image/png": "[encoded data removed]",
      "text/plain": [
       "<Figure size 432x288 with 1 Axes>"
      ]
     },
     "metadata": {
      "needs_background": "light"
     },
     "output_type": "display_data"
    }
   ],
   "source": [
    "HORIZONTAL_OFFSET = 0.1\n",
    "VERTICAL_OFFSET = 0.1\n",
    "\n",
    "fig, ax = plt.subplots()\n",
    "ax.scatter(principal_components[:, 0], principal_components[:, 1])\n",
    "plt.title('Wellness Data')\n",
    "plt.xlabel('Principal Component 1')\n",
    "plt.ylabel('Principal Component 2')\n",
    "\n",
    "\n",
    "for i in range(len(player_id_series)):\n",
    "    ax.annotate(str(i + 1), (principal_components[i, 0] + HORIZONTAL_OFFSET, principal_components[i, 1] + VERTICAL_OFFSET), color='r')\n",
    "plt.show()"
   ]
  },
  {
   "cell_type": "markdown",
   "metadata": {},
   "source": [
    "Looking back at the average wellness summaries, we see that many of these patterns are present in the PCA visualization as well. For example, players 8 and 5 have similar scores as do player 2 and 12. We even further notice that players 2 and 12 have average scores as they are close to the center of the PCA plot and in our wellness summaries, their scores are close to 0."
   ]
  },
  {
   "cell_type": "markdown",
   "metadata": {},
   "source": [
    "## Conclusion"
   ]
  },
  {
   "cell_type": "markdown",
   "metadata": {},
   "source": [
    "In this notebook, we explored the wellness data and used factor analysis to create summary measures of wellness. We used PCA to visualize the wellness data and used the patterns in the PCA decomposition to check the quality of our wellness summaries. Many patterns on the PCA visualization carry over to our summary measures which gives us confidence that they are good summaries of the wellness data."
   ]
  },
  {
   "cell_type": "markdown",
   "metadata": {},
   "source": [
    "Using the results from our factor analysis, it seems that the features that best represent wellness are: monitoring score, pain, illness, nutrition, and menstruation. Ming had mentioned that sleep hours is known to affect performance, so although our factor analysis did not find that this was an important feature, we should include it as well as we want to incorporate domain knowledge in our feature selection as well."
   ]
  }
 ],
 "metadata": {
  "kernelspec": {
   "display_name": "Python 3",
   "language": "python",
   "name": "python3"
  },
  "language_info": {
   "codemirror_mode": {
    "name": "ipython",
    "version": 3
   },
   "file_extension": ".py",
   "mimetype": "text/x-python",
   "name": "python",
   "nbconvert_exporter": "python",
   "pygments_lexer": "ipython3",
   "version": "3.7.3"
  }
 },
 "nbformat": 4,
 "nbformat_minor": 2
}
