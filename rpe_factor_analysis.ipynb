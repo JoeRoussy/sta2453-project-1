{
 "cells": [
  {
   "cell_type": "markdown",
   "metadata": {},
   "source": [
    "# Factor Analysis"
   ]
  },
  {
   "cell_type": "markdown",
   "metadata": {},
   "source": [
    "Factor analysis is a method for automatically finding latent variables in a data set. It assumes that observed variables are actually a linear combination of a number of latent factors. Often, we are aiming to find a smaller number of factors that explain trends in our data.\n",
    "\n",
    "This is how factor analysis differs from principal componant analysis. In PCA, the components are not interpretable, however, in factor analysis, we can see which observed variables are highly correlated with which factors and group observed variables according to which factors they are correlated with by looking at the loading. We can also see which factors are most important by their eiganvalues. Another technical difference between PCA and factor analysis is that in PCA, all the components are orthogonal but in factor analysis this does not need to be the case."
   ]
  },
  {
   "cell_type": "markdown",
   "metadata": {},
   "source": [
    "## Load Data"
   ]
  },
  {
   "cell_type": "code",
   "execution_count": 1,
   "metadata": {},
   "outputs": [],
   "source": [
    "import pandas as pd\n",
    "from factor_analyzer import FactorAnalyzer\n",
    "from factor_analyzer.factor_analyzer import calculate_bartlett_sphericity, calculate_kmo\n",
    "from scipy.stats import pointbiserialr\n",
    "import matplotlib.pyplot as plt"
   ]
  },
  {
   "cell_type": "code",
   "execution_count": 3,
   "metadata": {},
   "outputs": [
    {
     "name": "stdout",
     "output_type": "stream",
     "text": [
      "         Date  PlayerID Training        SessionType  Duration  RPE  \\\n",
      "0  2018-07-21        13      Yes  Mobility/Recovery       5.0  0.0   \n",
      "1  2018-07-21        13      Yes               Game      29.0  7.0   \n",
      "2  2018-07-21        13      Yes               Game      27.0  9.0   \n",
      "3  2018-07-20        11      Yes               Game      36.0  6.0   \n",
      "4  2018-07-20        11      Yes               Game      36.0  8.0   \n",
      "\n",
      "   SessionLoad  DailyLoad  AcuteLoad  ChronicLoad  AcuteChronicRatio  \\\n",
      "0          0.0      446.0      323.1       303.25               1.07   \n",
      "1        203.0        NaN        NaN          NaN                NaN   \n",
      "2        243.0        NaN        NaN          NaN                NaN   \n",
      "3        216.0      534.0      256.3       344.18               0.74   \n",
      "4        288.0        NaN        NaN          NaN                NaN   \n",
      "\n",
      "   ObjectiveRating  FocusRating BestOutOfMyself  \n",
      "0              NaN          NaN      Not at all  \n",
      "1              NaN          NaN      Not at all  \n",
      "2              NaN          NaN      Not at all  \n",
      "3              9.0         10.0      Absolutely  \n",
      "4              9.0         10.0      Absolutely  \n",
      "1233\n",
      "1238\n"
     ]
    }
   ],
   "source": [
    "rpe_df = pd.read_csv('./raw_data/rpe.csv')\n",
    "print(rpe_df.head())\n",
    "print(len(rpe_df[(rpe_df['Training']=='No') & (rpe_df['FocusRating'].isnull())]))\n",
    "print(len(rpe_df[(rpe_df['Training']=='No')]))"
   ]
  },
  {
   "cell_type": "code",
   "execution_count": 4,
   "metadata": {},
   "outputs": [
    {
     "name": "stdout",
     "output_type": "stream",
     "text": [
      "(8860, 14)\n",
      "(8860, 14)\n"
     ]
    }
   ],
   "source": [
    "print(rpe_df.shape)\n",
    "\n",
    "indexNames = rpe_df[ (rpe_df['PlayerID'] < 18) | (rpe_df['PlayerID'] > 21) ]\n",
    "print(indexNames.shape)"
   ]
  },
  {
   "cell_type": "markdown",
   "metadata": {},
   "source": [
    "To start with, we have 8860 observations."
   ]
  },
  {
   "cell_type": "markdown",
   "metadata": {},
   "source": [
    "## Cleaning Data"
   ]
  },
  {
   "cell_type": "code",
   "execution_count": 5,
   "metadata": {},
   "outputs": [
    {
     "name": "stdout",
     "output_type": "stream",
     "text": [
      "0\n",
      "8860\n",
      "(1239, 14)\n",
      "(1239, 14)\n",
      "(1239, 14)\n",
      "(1239, 14)\n",
      "(5711, 14)\n",
      "(4511, 14)\n",
      "(4477, 14)\n",
      "(1226, 14)\n",
      "(35, 14)\n",
      "(3, 14)\n",
      "         Date  PlayerID Training        SessionType  Duration  RPE  \\\n",
      "0  2018-07-21        13      Yes  Mobility/Recovery       5.0  0.0   \n",
      "1  2018-07-21        13      Yes               Game      29.0  7.0   \n",
      "2  2018-07-21        13      Yes               Game      27.0  9.0   \n",
      "3  2018-07-20        11      Yes               Game      36.0  6.0   \n",
      "4  2018-07-20        11      Yes               Game      36.0  8.0   \n",
      "\n",
      "   SessionLoad  DailyLoad  AcuteLoad  ChronicLoad  AcuteChronicRatio  \\\n",
      "0          0.0      446.0      323.1       303.25               1.07   \n",
      "1        203.0      446.0      323.1       303.25               1.07   \n",
      "2        243.0      446.0      323.1       303.25               1.07   \n",
      "3        216.0      534.0      256.3       344.18               0.74   \n",
      "4        288.0      534.0      256.3       344.18               0.74   \n",
      "\n",
      "   ObjectiveRating  FocusRating BestOutOfMyself  \n",
      "0              NaN          NaN      Not at all  \n",
      "1              NaN          NaN      Not at all  \n",
      "2              NaN          NaN      Not at all  \n",
      "3              9.0         10.0      Absolutely  \n",
      "4              9.0         10.0      Absolutely  \n"
     ]
    }
   ],
   "source": [
    "print(len(rpe_df) - rpe_df['Training'].count())\n",
    "# rpe_df = rpe_df[~ rpe_df['SessionType'].isna()]\n",
    "print(len(rpe_df))\n",
    "print(rpe_df[rpe_df['SessionType'].isna()].shape)\n",
    "print(rpe_df[rpe_df['Duration'].isna()].shape)\n",
    "print(rpe_df[rpe_df['RPE'].isna()].shape)\n",
    "print(rpe_df[rpe_df['SessionLoad'].isna()].shape)\n",
    "print(rpe_df[rpe_df['DailyLoad'].isna()].shape)\n",
    "print(rpe_df[rpe_df['AcuteLoad'].isna()].shape)\n",
    "print(rpe_df[rpe_df['ChronicLoad'].isna()].shape)\n",
    "rpe_df['DailyLoad'] = rpe_df.groupby(['Date','PlayerID'])['DailyLoad'].fillna(method='ffill')\n",
    "rpe_df['AcuteLoad'] = rpe_df.groupby(['Date','PlayerID'])['AcuteLoad'].fillna(method='ffill')\n",
    "rpe_df['ChronicLoad'] = rpe_df.groupby(['Date','PlayerID'])['ChronicLoad'].fillna(method='ffill')\n",
    "rpe_df['AcuteChronicRatio'] = rpe_df.groupby(['Date','PlayerID'])['AcuteChronicRatio'].fillna(method='ffill')\n",
    "print(rpe_df[rpe_df['DailyLoad'].isna()].shape)\n",
    "print(rpe_df[rpe_df['AcuteLoad'].isna()].shape)\n",
    "print(rpe_df[rpe_df['ChronicLoad'].isna()].shape)\n",
    "print(rpe_df.head())"
   ]
  },
  {
   "cell_type": "code",
   "execution_count": 6,
   "metadata": {},
   "outputs": [
    {
     "name": "stdout",
     "output_type": "stream",
     "text": [
      "         Date  PlayerID Training        SessionType  Duration  RPE  \\\n",
      "0  2018-07-21        13      Yes  Mobility/Recovery       5.0  0.0   \n",
      "1  2018-07-21        13      Yes               Game      29.0  7.0   \n",
      "2  2018-07-21        13      Yes               Game      27.0  9.0   \n",
      "3  2018-07-20        11      Yes               Game      36.0  6.0   \n",
      "4  2018-07-20        11      Yes               Game      36.0  8.0   \n",
      "\n",
      "   SessionLoad  DailyLoad  AcuteLoad  ChronicLoad  AcuteChronicRatio  \\\n",
      "0          0.0      446.0      323.1       303.25               1.07   \n",
      "1        203.0      446.0      323.1       303.25               1.07   \n",
      "2        243.0      446.0      323.1       303.25               1.07   \n",
      "3        216.0      534.0      256.3       344.18               0.74   \n",
      "4        288.0      534.0      256.3       344.18               0.74   \n",
      "\n",
      "   ObjectiveRating  FocusRating BestOutOfMyself  \n",
      "0              9.0          8.0      Not at all  \n",
      "1              8.0          9.0      Not at all  \n",
      "2              8.0          7.0      Not at all  \n",
      "3              9.0         10.0      Absolutely  \n",
      "4              9.0         10.0      Absolutely  \n"
     ]
    }
   ],
   "source": [
    "# For datapoints that did do a training but their ratings are nan generate random ratqings\n",
    "# based on the current distribution of the values\n",
    "for s in ['ObjectiveRating', 'FocusRating', 'BestOutOfMyself']:\n",
    "#     tmp_df = rpe_df[rpe_df['Training'] == 'Yes']\n",
    "    #print(len(rpe_df['Training']=='Yes'))\n",
    "    isnull = (rpe_df['Training']=='Yes') & (rpe_df[s].isnull())\n",
    "    sample = rpe_df[(rpe_df['Training']=='Yes')][s].dropna().sample(isnull.sum(), replace=True).values\n",
    "    rpe_df.loc[isnull, s] = sample\n",
    "print(rpe_df.head())"
   ]
  },
  {
   "cell_type": "code",
   "execution_count": 6,
   "metadata": {},
   "outputs": [
    {
     "data": {
      "text/plain": [
       "Absolutely    6567\n",
       "Not at all    1068\n",
       "Somewhat       520\n",
       "Name: BestOutOfMyself, dtype: int64"
      ]
     },
     "execution_count": 6,
     "metadata": {},
     "output_type": "execute_result"
    }
   ],
   "source": [
    "rpe_df['BestOutOfMyself'].value_counts()"
   ]
  },
  {
   "cell_type": "code",
   "execution_count": 7,
   "metadata": {},
   "outputs": [
    {
     "name": "stdout",
     "output_type": "stream",
     "text": [
      "         Date  PlayerID Training        SessionType  Duration  RPE  \\\n",
      "0  2018-07-21        13      Yes  Mobility/Recovery       5.0  0.0   \n",
      "1  2018-07-21        13      Yes               Game      29.0  7.0   \n",
      "2  2018-07-21        13      Yes               Game      27.0  9.0   \n",
      "3  2018-07-20        11      Yes               Game      36.0  6.0   \n",
      "4  2018-07-20        11      Yes               Game      36.0  8.0   \n",
      "\n",
      "   SessionLoad  DailyLoad  AcuteLoad  ChronicLoad  AcuteChronicRatio  \\\n",
      "0          0.0      446.0      323.1       303.25               1.07   \n",
      "1        203.0      446.0      323.1       303.25               1.07   \n",
      "2        243.0      446.0      323.1       303.25               1.07   \n",
      "3        216.0      534.0      256.3       344.18               0.74   \n",
      "4        288.0      534.0      256.3       344.18               0.74   \n",
      "\n",
      "   ObjectiveRating  FocusRating BestOutOfMyself  \n",
      "0              7.0          8.0      Not at all  \n",
      "1              8.0         10.0      Not at all  \n",
      "2              8.0          7.0      Not at all  \n",
      "3              9.0         10.0      Absolutely  \n",
      "4              9.0         10.0      Absolutely  \n",
      "         Date  PlayerID Training        SessionType  Duration  RPE  \\\n",
      "0  2018-07-21        13      Yes  Mobility/Recovery       5.0  0.0   \n",
      "1  2018-07-21        13      Yes               Game      29.0  7.0   \n",
      "2  2018-07-21        13      Yes               Game      27.0  9.0   \n",
      "3  2018-07-20        11      Yes               Game      36.0  6.0   \n",
      "4  2018-07-20        11      Yes               Game      36.0  8.0   \n",
      "\n",
      "   SessionLoad  DailyLoad  AcuteLoad  ChronicLoad  AcuteChronicRatio  \\\n",
      "0          0.0      446.0      323.1       303.25               1.07   \n",
      "1        203.0      446.0      323.1       303.25               1.07   \n",
      "2        243.0      446.0      323.1       303.25               1.07   \n",
      "3        216.0      534.0      256.3       344.18               0.74   \n",
      "4        288.0      534.0      256.3       344.18               0.74   \n",
      "\n",
      "   ObjectiveRating  FocusRating  BestOutOfMyself  \n",
      "0              7.0          8.0              0.0  \n",
      "1              8.0         10.0              0.0  \n",
      "2              8.0          7.0              0.0  \n",
      "3              9.0         10.0              3.0  \n",
      "4              9.0         10.0              3.0  \n"
     ]
    }
   ],
   "source": [
    "print(rpe_df.head())\n",
    "rpe_df['BestOutOfMyself'] = rpe_df['BestOutOfMyself'].map({'Absolutely': 3, 'Not at all': 0, 'Somewhat': 1})\n",
    "print(rpe_df.head())"
   ]
  },
  {
   "cell_type": "markdown",
   "metadata": {},
   "source": [
    "## Factor Analysis"
   ]
  },
  {
   "cell_type": "code",
   "execution_count": 8,
   "metadata": {},
   "outputs": [
    {
     "name": "stdout",
     "output_type": "stream",
     "text": [
      "8860 705\n"
     ]
    }
   ],
   "source": [
    "print(len(rpe_df),len(rpe_df[rpe_df['BestOutOfMyself'].isnull()]))\n",
    "rpe_df['SessionType'].value_counts()\n",
    "rpe_df['Training'] = rpe_df['Training'].map({'Yes': 1, 'No': 0})"
   ]
  },
  {
   "cell_type": "code",
   "execution_count": 9,
   "metadata": {},
   "outputs": [
    {
     "name": "stdout",
     "output_type": "stream",
     "text": [
      "8860\n",
      "7622\n"
     ]
    }
   ],
   "source": [
    "print(len(rpe_df))\n",
    "training_yes = rpe_df[rpe_df['Training'] == 1].drop(['Training'], axis=1)\n",
    "training_no = rpe_df[rpe_df['Training'] == 0].drop(['Training'], axis=1)\n",
    "print(len(training_yes))"
   ]
  },
  {
   "cell_type": "code",
   "execution_count": 10,
   "metadata": {},
   "outputs": [
    {
     "name": "stdout",
     "output_type": "stream",
     "text": [
      "1238 1237\n",
      "Conditioning    1\n",
      "Name: SessionType, dtype: int64\n",
      "            Date  PlayerID   SessionType  Duration  RPE  SessionLoad  \\\n",
      "5591  2017-11-30         3  Conditioning      30.0  5.0        150.0   \n",
      "\n",
      "      DailyLoad  AcuteLoad  ChronicLoad  AcuteChronicRatio  ObjectiveRating  \\\n",
      "5591      150.0      260.7       457.86               0.57              8.0   \n",
      "\n",
      "      FocusRating  BestOutOfMyself  \n",
      "5591          8.0              3.0  \n",
      "30.0    1\n",
      "Name: Duration, dtype: int64\n",
      "5.0    1\n",
      "Name: RPE, dtype: int64\n",
      "150.0    1\n",
      "Name: SessionLoad, dtype: int64\n",
      "180.0     2\n",
      "615.0     1\n",
      "485.0     1\n",
      "225.0     1\n",
      "150.0     1\n",
      "525.0     1\n",
      "1260.0    1\n",
      "330.0     1\n",
      "770.0     1\n",
      "560.0     1\n",
      "0.0       1\n",
      "90.0      1\n",
      "990.0     1\n",
      "Name: DailyLoad, dtype: int64\n",
      "51.4     10\n",
      "77.1      9\n",
      "141.4     8\n",
      "171.4     7\n",
      "402.9     7\n",
      "96.4      6\n",
      "229.3     6\n",
      "83.6      6\n",
      "57.9      6\n",
      "42.9      6\n",
      "102.9     6\n",
      "488.6     6\n",
      "214.3     6\n",
      "278.6     6\n",
      "355.7     6\n",
      "172.1     5\n",
      "124.3     5\n",
      "287.1     5\n",
      "173.6     5\n",
      "203.6     5\n",
      "12.9      5\n",
      "325.7     5\n",
      "180.0     5\n",
      "82.9      5\n",
      "98.6      5\n",
      "182.1     5\n",
      "254.3     4\n",
      "225.0     4\n",
      "218.6     4\n",
      "396.4     4\n",
      "         ..\n",
      "98.9      1\n",
      "762.9     1\n",
      "607.1     1\n",
      "457.1     1\n",
      "466.4     1\n",
      "227.7     1\n",
      "286.4     1\n",
      "145.0     1\n",
      "375.0     1\n",
      "252.9     1\n",
      "505.0     1\n",
      "368.6     1\n",
      "575.3     1\n",
      "212.9     1\n",
      "367.6     1\n",
      "323.1     1\n",
      "604.0     1\n",
      "314.0     1\n",
      "562.9     1\n",
      "235.0     1\n",
      "609.7     1\n",
      "581.4     1\n",
      "657.1     1\n",
      "158.9     1\n",
      "199.3     1\n",
      "591.4     1\n",
      "528.6     1\n",
      "186.4     1\n",
      "580.7     1\n",
      "119.3     1\n",
      "Name: AcuteLoad, Length: 674, dtype: int64\n",
      "275.46    5\n",
      "184.64    5\n",
      "425.00    4\n",
      "297.07    4\n",
      "210.00    4\n",
      "14.46     4\n",
      "165.71    4\n",
      "187.50    4\n",
      "215.89    4\n",
      "415.36    3\n",
      "305.71    3\n",
      "283.93    3\n",
      "448.21    3\n",
      "303.04    3\n",
      "187.86    3\n",
      "155.71    3\n",
      "382.50    3\n",
      "364.11    3\n",
      "277.61    3\n",
      "278.75    3\n",
      "311.61    3\n",
      "203.57    3\n",
      "50.86     3\n",
      "310.36    3\n",
      "397.25    3\n",
      "205.18    3\n",
      "313.39    3\n",
      "397.43    3\n",
      "20.00     3\n",
      "136.43    2\n",
      "         ..\n",
      "331.61    1\n",
      "395.43    1\n",
      "322.36    1\n",
      "180.89    1\n",
      "470.71    1\n",
      "411.61    1\n",
      "396.50    1\n",
      "267.04    1\n",
      "186.43    1\n",
      "259.50    1\n",
      "121.96    1\n",
      "290.68    1\n",
      "429.50    1\n",
      "325.25    1\n",
      "200.25    1\n",
      "369.21    1\n",
      "362.57    1\n",
      "379.43    1\n",
      "435.32    1\n",
      "251.07    1\n",
      "222.39    1\n",
      "490.57    1\n",
      "346.57    1\n",
      "388.04    1\n",
      "332.68    1\n",
      "370.14    1\n",
      "546.75    1\n",
      "61.79     1\n",
      "417.68    1\n",
      "436.00    1\n",
      "Name: ChronicLoad, Length: 999, dtype: int64\n",
      "4.00    23\n",
      "0.59    18\n",
      "0.67    18\n",
      "0.65    17\n",
      "0.77    16\n",
      "0.78    16\n",
      "1.04    15\n",
      "0.55    14\n",
      "0.72    14\n",
      "0.63    14\n",
      "0.56    14\n",
      "0.58    14\n",
      "0.71    14\n",
      "0.51    14\n",
      "0.61    13\n",
      "0.80    13\n",
      "0.32    13\n",
      "0.93    13\n",
      "1.00    13\n",
      "0.66    12\n",
      "0.54    11\n",
      "0.47    11\n",
      "0.46    11\n",
      "0.96    11\n",
      "1.13    11\n",
      "0.64    11\n",
      "1.25    11\n",
      "1.15    11\n",
      "0.68    11\n",
      "0.87    10\n",
      "        ..\n",
      "2.49     1\n",
      "1.62     1\n",
      "0.10     1\n",
      "2.19     1\n",
      "0.28     1\n",
      "0.06     1\n",
      "2.20     1\n",
      "0.04     1\n",
      "0.43     1\n",
      "2.35     1\n",
      "2.52     1\n",
      "1.44     1\n",
      "2.65     1\n",
      "1.72     1\n",
      "2.40     1\n",
      "1.93     1\n",
      "2.39     1\n",
      "2.04     1\n",
      "2.51     1\n",
      "2.12     1\n",
      "3.07     1\n",
      "2.92     1\n",
      "2.27     1\n",
      "1.85     1\n",
      "1.89     1\n",
      "2.18     1\n",
      "2.01     1\n",
      "3.99     1\n",
      "2.06     1\n",
      "1.81     1\n",
      "Name: AcuteChronicRatio, Length: 214, dtype: int64\n",
      "0.0    3\n",
      "7.0    1\n",
      "8.0    1\n",
      "Name: ObjectiveRating, dtype: int64\n",
      "0.0    3\n",
      "7.0    1\n",
      "8.0    1\n",
      "Name: FocusRating, dtype: int64\n",
      "3.0    449\n",
      "1.0     60\n",
      "0.0     24\n",
      "Name: BestOutOfMyself, dtype: int64\n"
     ]
    }
   ],
   "source": [
    "print(len(training_no),len(training_no[training_no['SessionType'].isnull()]))\n",
    "print(training_no['SessionType'].value_counts())\n",
    "print(training_no[training_no['SessionType']=='Conditioning'])\n",
    "print(training_no['Duration'].value_counts())\n",
    "print(training_no['RPE'].value_counts())\n",
    "print(training_no['SessionLoad'].value_counts())\n",
    "print(training_no['DailyLoad'].value_counts())\n",
    "print(training_no['AcuteLoad'].value_counts())\n",
    "print(training_no['ChronicLoad'].value_counts())\n",
    "print(training_no['AcuteChronicRatio'].value_counts())\n",
    "print(training_no['ObjectiveRating'].value_counts())\n",
    "print(training_no['FocusRating'].value_counts())\n",
    "print(training_no['BestOutOfMyself'].value_counts())"
   ]
  },
  {
   "cell_type": "markdown",
   "metadata": {},
   "source": [
    "There was only one datapoint that by mistake the training field was marked as a No, while it was a conditioning training. So we add that to the training_yes group and remove it from the training_no group. Also since there were only 5 datapoints that had focus rating and objective rating we can remove these two columns from the training_no group."
   ]
  },
  {
   "cell_type": "code",
   "execution_count": 11,
   "metadata": {
    "scrolled": true
   },
   "outputs": [
    {
     "name": "stdout",
     "output_type": "stream",
     "text": [
      "7622\n",
      "7623\n",
      "1238\n",
      "1237\n"
     ]
    }
   ],
   "source": [
    "print(len(training_yes))\n",
    "tmp_df = training_no[training_no['SessionType']=='Conditioning']\n",
    "training_yes = pd.concat([training_yes, tmp_df])\n",
    "print(len(training_yes))\n",
    "print(len(training_no))\n",
    "training_no = training_no[training_no['SessionType'].isnull()]\n",
    "print(len(training_no))"
   ]
  },
  {
   "cell_type": "code",
   "execution_count": 2,
   "metadata": {},
   "outputs": [
    {
     "ename": "NameError",
     "evalue": "name 'training_no' is not defined",
     "output_type": "error",
     "traceback": [
      "\u001b[1;31m---------------------------------------------------------------------------\u001b[0m",
      "\u001b[1;31mNameError\u001b[0m                                 Traceback (most recent call last)",
      "\u001b[1;32m<ipython-input-2-0125966a1bb0>\u001b[0m in \u001b[0;36m<module>\u001b[1;34m()\u001b[0m\n\u001b[1;32m----> 1\u001b[1;33m \u001b[0mprint\u001b[0m\u001b[1;33m(\u001b[0m\u001b[0mlen\u001b[0m\u001b[1;33m(\u001b[0m\u001b[0mtraining_no\u001b[0m\u001b[1;33m)\u001b[0m\u001b[1;33m,\u001b[0m\u001b[0mtraining_no\u001b[0m\u001b[1;33m.\u001b[0m\u001b[0mcolumns\u001b[0m\u001b[1;33m)\u001b[0m\u001b[1;33m\u001b[0m\u001b[0m\n\u001b[0m\u001b[0;32m      2\u001b[0m \u001b[0mtraining_no\u001b[0m\u001b[1;33m.\u001b[0m\u001b[0mdropna\u001b[0m\u001b[1;33m(\u001b[0m\u001b[0maxis\u001b[0m \u001b[1;33m=\u001b[0m \u001b[1;36m1\u001b[0m\u001b[1;33m,\u001b[0m \u001b[0mhow\u001b[0m \u001b[1;33m=\u001b[0m \u001b[1;34m'all'\u001b[0m\u001b[1;33m,\u001b[0m\u001b[0minplace\u001b[0m \u001b[1;33m=\u001b[0m \u001b[1;32mTrue\u001b[0m\u001b[1;33m)\u001b[0m\u001b[1;33m\u001b[0m\u001b[0m\n\u001b[0;32m      3\u001b[0m \u001b[0mtraining_no\u001b[0m\u001b[1;33m.\u001b[0m\u001b[0mdrop\u001b[0m\u001b[1;33m(\u001b[0m\u001b[1;33m[\u001b[0m\u001b[1;34m'ObjectiveRating'\u001b[0m\u001b[1;33m,\u001b[0m \u001b[1;34m'FocusRating'\u001b[0m\u001b[1;33m]\u001b[0m\u001b[1;33m,\u001b[0m\u001b[0maxis\u001b[0m\u001b[1;33m=\u001b[0m\u001b[1;36m1\u001b[0m\u001b[1;33m,\u001b[0m \u001b[0minplace\u001b[0m \u001b[1;33m=\u001b[0m \u001b[1;32mTrue\u001b[0m\u001b[1;33m)\u001b[0m\u001b[1;33m\u001b[0m\u001b[0m\n\u001b[0;32m      4\u001b[0m \u001b[0mprint\u001b[0m\u001b[1;33m(\u001b[0m\u001b[0mtraining_no\u001b[0m\u001b[1;33m.\u001b[0m\u001b[0mcolumns\u001b[0m\u001b[1;33m)\u001b[0m\u001b[1;33m\u001b[0m\u001b[0m\n",
      "\u001b[1;31mNameError\u001b[0m: name 'training_no' is not defined"
     ]
    }
   ],
   "source": [
    "print(len(training_no),training_no.columns)\n",
    "training_no.dropna(axis = 1, how = 'all',inplace = True)\n",
    "training_no.drop(['ObjectiveRating', 'FocusRating'],axis=1, inplace = True)\n",
    "print(training_no.columns)"
   ]
  },
  {
   "cell_type": "code",
   "execution_count": 18,
   "metadata": {},
   "outputs": [
    {
     "name": "stdout",
     "output_type": "stream",
     "text": [
      "7623          Date  PlayerID  Duration  RPE  SessionLoad  DailyLoad  AcuteLoad  \\\n",
      "0  2018-07-21        13       5.0  0.0          0.0      446.0      323.1   \n",
      "1  2018-07-21        13      29.0  7.0        203.0      446.0      323.1   \n",
      "2  2018-07-21        13      27.0  9.0        243.0      446.0      323.1   \n",
      "3  2018-07-20        11      36.0  6.0        216.0      534.0      256.3   \n",
      "4  2018-07-20        11      36.0  8.0        288.0      534.0      256.3   \n",
      "\n",
      "   ChronicLoad  AcuteChronicRatio  ObjectiveRating  FocusRating  \\\n",
      "0       303.25               1.07              7.0          8.0   \n",
      "1       303.25               1.07              8.0         10.0   \n",
      "2       303.25               1.07              8.0          7.0   \n",
      "3       344.18               0.74              9.0         10.0   \n",
      "4       344.18               0.74              9.0         10.0   \n",
      "\n",
      "   BestOutOfMyself  SessionType_Combat  SessionType_Conditioning  \\\n",
      "0              0.0                   0                         0   \n",
      "1              0.0                   0                         0   \n",
      "2              0.0                   0                         0   \n",
      "3              3.0                   0                         0   \n",
      "4              3.0                   0                         0   \n",
      "\n",
      "   SessionType_Game  SessionType_Mobility/Recovery  SessionType_Skills  \\\n",
      "0                 0                              1                   0   \n",
      "1                 1                              0                   0   \n",
      "2                 1                              0                   0   \n",
      "3                 1                              0                   0   \n",
      "4                 1                              0                   0   \n",
      "\n",
      "   SessionType_Speed  SessionType_Strength  \n",
      "0                  0                     0  \n",
      "1                  0                     0  \n",
      "2                  0                     0  \n",
      "3                  0                     0  \n",
      "4                  0                     0  \n"
     ]
    }
   ],
   "source": [
    "df_with_dummies = pd.get_dummies( training_yes, columns = ['SessionType'] )\n",
    "print(len(df_with_dummies),df_with_dummies.head())"
   ]
  },
  {
   "cell_type": "markdown",
   "metadata": {},
   "source": [
    "### Adequacy Tests"
   ]
  },
  {
   "cell_type": "markdown",
   "metadata": {},
   "source": [
    "Before we perform any partiular tests for suitability, we should make sure there are not any columns that are correlated in our dataset."
   ]
  },
  {
   "cell_type": "code",
   "execution_count": 19,
   "metadata": {},
   "outputs": [
    {
     "name": "stdout",
     "output_type": "stream",
     "text": [
      "          Date  PlayerID  DailyLoad  AcuteLoad  ChronicLoad  \\\n",
      "20  2018-07-18         1        NaN       62.1       159.46   \n",
      "21  2018-07-18         2        NaN       82.9       316.57   \n",
      "22  2018-07-18         3        NaN      105.0       372.25   \n",
      "23  2018-07-18         6        NaN       52.9       333.50   \n",
      "24  2018-07-18         7        NaN       98.6       372.86   \n",
      "\n",
      "    AcuteChronicRatio  BestOutOfMyself  \n",
      "20               0.39              NaN  \n",
      "21               0.26              NaN  \n",
      "22               0.28              3.0  \n",
      "23               0.16              NaN  \n",
      "24               0.26              3.0  \n",
      "                   PlayerID  Duration       RPE  SessionLoad  DailyLoad  \\\n",
      "PlayerID           1.000000 -0.067921 -0.085777    -0.099765  -0.054533   \n",
      "Duration          -0.067921  1.000000  0.254596     0.797332   0.369132   \n",
      "RPE               -0.085777  0.254596  1.000000     0.658283   0.388978   \n",
      "SessionLoad       -0.099765  0.797332  0.658283     1.000000   0.522373   \n",
      "DailyLoad         -0.054533  0.369132  0.388978     0.522373   1.000000   \n",
      "AcuteLoad         -0.065946  0.211553  0.204392     0.311172   0.572448   \n",
      "ChronicLoad       -0.076335  0.073831  0.097205     0.136571   0.272018   \n",
      "AcuteChronicRatio  0.040900  0.132035  0.057020     0.133722   0.231523   \n",
      "ObjectiveRating   -0.008733 -0.023303 -0.010563    -0.022835   0.010285   \n",
      "FocusRating        0.001861 -0.039279  0.016742    -0.021039  -0.003626   \n",
      "BestOutOfMyself   -0.093459  0.054217  0.014674     0.043424   0.048163   \n",
      "\n",
      "                   AcuteLoad  ChronicLoad  AcuteChronicRatio  ObjectiveRating  \\\n",
      "PlayerID           -0.065946    -0.076335           0.040900        -0.008733   \n",
      "Duration            0.211553     0.073831           0.132035        -0.023303   \n",
      "RPE                 0.204392     0.097205           0.057020        -0.010563   \n",
      "SessionLoad         0.311172     0.136571           0.133722        -0.022835   \n",
      "DailyLoad           0.572448     0.272018           0.231523         0.010285   \n",
      "AcuteLoad           1.000000     0.564318           0.270785         0.032939   \n",
      "ChronicLoad         0.564318     1.000000          -0.471899         0.061280   \n",
      "AcuteChronicRatio   0.270785    -0.471899           1.000000        -0.038681   \n",
      "ObjectiveRating     0.032939     0.061280          -0.038681         1.000000   \n",
      "FocusRating         0.039228     0.067667          -0.039525         0.358034   \n",
      "BestOutOfMyself     0.048264     0.053840           0.012394         0.057257   \n",
      "\n",
      "                   FocusRating  BestOutOfMyself  \n",
      "PlayerID              0.001861        -0.093459  \n",
      "Duration             -0.039279         0.054217  \n",
      "RPE                   0.016742         0.014674  \n",
      "SessionLoad          -0.021039         0.043424  \n",
      "DailyLoad            -0.003626         0.048163  \n",
      "AcuteLoad             0.039228         0.048264  \n",
      "ChronicLoad           0.067667         0.053840  \n",
      "AcuteChronicRatio    -0.039525         0.012394  \n",
      "ObjectiveRating       0.358034         0.057257  \n",
      "FocusRating           1.000000         0.073573  \n",
      "BestOutOfMyself       0.073573         1.000000  \n",
      "                   PlayerID  DailyLoad  AcuteLoad  ChronicLoad  \\\n",
      "PlayerID           1.000000  -0.453975  -0.113938    -0.140074   \n",
      "DailyLoad         -0.453975   1.000000   0.566377     0.593316   \n",
      "AcuteLoad         -0.113938   0.566377   1.000000     0.537543   \n",
      "ChronicLoad       -0.140074   0.593316   0.537543     1.000000   \n",
      "AcuteChronicRatio  0.007654   0.244124   0.440489    -0.330717   \n",
      "BestOutOfMyself   -0.228377   0.347960   0.159658     0.241689   \n",
      "\n",
      "                   AcuteChronicRatio  BestOutOfMyself  \n",
      "PlayerID                    0.007654        -0.228377  \n",
      "DailyLoad                   0.244124         0.347960  \n",
      "AcuteLoad                   0.440489         0.159658  \n",
      "ChronicLoad                -0.330717         0.241689  \n",
      "AcuteChronicRatio           1.000000         0.024483  \n",
      "BestOutOfMyself             0.024483         1.000000  \n"
     ]
    }
   ],
   "source": [
    "\n",
    "print(training_no.head())\n",
    "print(training_yes.corr())\n",
    "print(training_no.corr())"
   ]
  },
  {
   "cell_type": "code",
   "execution_count": 32,
   "metadata": {},
   "outputs": [
    {
     "name": "stdout",
     "output_type": "stream",
     "text": [
      "   PlayerID   Duration       RPE  SessionLoad   DailyLoad   AcuteLoad  \\\n",
      "0         1  62.807203  3.476695   248.260593  667.944915  319.350847   \n",
      "1         2  51.758621  4.241379   238.054767  695.549696  337.388889   \n",
      "2         3  58.376569  4.995816   304.669456  790.244770  401.386820   \n",
      "3         4  63.384804  4.497549   295.384804  724.651961  341.928676   \n",
      "4         5  56.828571  4.281633   255.248980  669.408163  246.402857   \n",
      "\n",
      "   ChronicLoad  AcuteChronicRatio  ObjectiveRating  FocusRating  \\\n",
      "0   331.988792           1.016356         7.976695     8.358051   \n",
      "1   326.889394           1.136606         7.896970     8.024242   \n",
      "2   402.718180           1.096151         7.968619     8.033473   \n",
      "3   332.925613           1.110980         7.774510     7.845588   \n",
      "4   223.395388           1.322939         8.240816     8.514286   \n",
      "\n",
      "   BestOutOfMyself  SessionType_Combat  SessionType_Conditioning  \\\n",
      "0         2.569915            0.012712                  0.120763   \n",
      "1         2.440404            0.044444                  0.117172   \n",
      "2         2.878661            0.004184                  0.161088   \n",
      "3         2.681373            0.014706                  0.112745   \n",
      "4         2.469388            0.016327                  0.175510   \n",
      "\n",
      "   SessionType_Game  SessionType_Mobility/Recovery  SessionType_Skills  \\\n",
      "0          0.046610                       0.088983            0.283898   \n",
      "1          0.038384                       0.163636            0.250505   \n",
      "2          0.054393                       0.102510            0.213389   \n",
      "3          0.078431                       0.061275            0.257353   \n",
      "4          0.057143                       0.093878            0.146939   \n",
      "\n",
      "   SessionType_Speed  SessionType_Strength  \n",
      "0           0.165254              0.281780  \n",
      "1           0.155556              0.226263  \n",
      "2           0.173640              0.290795  \n",
      "3           0.191176              0.284314  \n",
      "4           0.175510              0.334694  \n",
      "                               Duration       RPE  SessionLoad  DailyLoad  \\\n",
      "Duration                       1.000000  0.196419     0.580440   0.240492   \n",
      "RPE                            0.196419  1.000000     0.807335   0.690444   \n",
      "SessionLoad                    0.580440  0.807335     1.000000   0.713338   \n",
      "DailyLoad                      0.240492  0.690444     0.713338   1.000000   \n",
      "AcuteLoad                      0.019149  0.451144     0.563383   0.825631   \n",
      "ChronicLoad                    0.015699  0.329855     0.484019   0.768365   \n",
      "AcuteChronicRatio             -0.095910 -0.062037    -0.310667  -0.493616   \n",
      "ObjectiveRating               -0.153086  0.027481     0.125483   0.399232   \n",
      "FocusRating                   -0.207238  0.141954     0.127991   0.321499   \n",
      "BestOutOfMyself                0.486053  0.357680     0.478501   0.177862   \n",
      "SessionType_Combat            -0.143115 -0.093294    -0.302915  -0.052168   \n",
      "SessionType_Conditioning      -0.251782  0.040604     0.007054  -0.399776   \n",
      "SessionType_Game               0.282837  0.169528     0.295758   0.278883   \n",
      "SessionType_Mobility/Recovery -0.576161 -0.434704    -0.435055   0.037568   \n",
      "SessionType_Skills             0.360870  0.277039     0.250644   0.463521   \n",
      "SessionType_Speed              0.512313  0.400905     0.342627  -0.058015   \n",
      "SessionType_Strength           0.569142  0.130943     0.328483  -0.281571   \n",
      "\n",
      "                               AcuteLoad  ChronicLoad  AcuteChronicRatio  \\\n",
      "Duration                        0.019149     0.015699          -0.095910   \n",
      "RPE                             0.451144     0.329855          -0.062037   \n",
      "SessionLoad                     0.563383     0.484019          -0.310667   \n",
      "DailyLoad                       0.825631     0.768365          -0.493616   \n",
      "AcuteLoad                       1.000000     0.987021          -0.820518   \n",
      "ChronicLoad                     0.987021     1.000000          -0.885544   \n",
      "AcuteChronicRatio              -0.820518    -0.885544           1.000000   \n",
      "ObjectiveRating                 0.522765     0.573611          -0.503323   \n",
      "FocusRating                     0.407192     0.401933          -0.246537   \n",
      "BestOutOfMyself                 0.061932     0.024574           0.037736   \n",
      "SessionType_Combat             -0.364714    -0.385895           0.430658   \n",
      "SessionType_Conditioning       -0.221489    -0.241455           0.279239   \n",
      "SessionType_Game                0.191634     0.154892          -0.059795   \n",
      "SessionType_Mobility/Recovery   0.369852     0.450694          -0.421365   \n",
      "SessionType_Skills              0.232048     0.183348          -0.147106   \n",
      "SessionType_Speed              -0.341931    -0.403746           0.301237   \n",
      "SessionType_Strength           -0.428463    -0.427074           0.285430   \n",
      "\n",
      "                               ObjectiveRating  FocusRating  BestOutOfMyself  \\\n",
      "Duration                             -0.153086    -0.207238         0.486053   \n",
      "RPE                                   0.027481     0.141954         0.357680   \n",
      "SessionLoad                           0.125483     0.127991         0.478501   \n",
      "DailyLoad                             0.399232     0.321499         0.177862   \n",
      "AcuteLoad                             0.522765     0.407192         0.061932   \n",
      "ChronicLoad                           0.573611     0.401933         0.024574   \n",
      "AcuteChronicRatio                    -0.503323    -0.246537         0.037736   \n",
      "ObjectiveRating                       1.000000     0.662827         0.128073   \n",
      "FocusRating                           0.662827     1.000000         0.096621   \n",
      "BestOutOfMyself                       0.128073     0.096621         1.000000   \n",
      "SessionType_Combat                   -0.366717    -0.458348        -0.152361   \n",
      "SessionType_Conditioning              0.199413     0.395906         0.270605   \n",
      "SessionType_Game                     -0.187987    -0.166234         0.028199   \n",
      "SessionType_Mobility/Recovery         0.624203     0.368608        -0.434947   \n",
      "SessionType_Skills                   -0.404134    -0.254904        -0.014176   \n",
      "SessionType_Speed                    -0.694638    -0.510873         0.228589   \n",
      "SessionType_Strength                 -0.141181    -0.161066         0.489777   \n",
      "\n",
      "                               SessionType_Combat  SessionType_Conditioning  \\\n",
      "Duration                                -0.143115                 -0.251782   \n",
      "RPE                                     -0.093294                  0.040604   \n",
      "SessionLoad                             -0.302915                  0.007054   \n",
      "DailyLoad                               -0.052168                 -0.399776   \n",
      "AcuteLoad                               -0.364714                 -0.221489   \n",
      "ChronicLoad                             -0.385895                 -0.241455   \n",
      "AcuteChronicRatio                        0.430658                  0.279239   \n",
      "ObjectiveRating                         -0.366717                  0.199413   \n",
      "FocusRating                             -0.458348                  0.395906   \n",
      "BestOutOfMyself                         -0.152361                  0.270605   \n",
      "SessionType_Combat                       1.000000                 -0.454614   \n",
      "SessionType_Conditioning                -0.454614                  1.000000   \n",
      "SessionType_Game                         0.150834                 -0.301900   \n",
      "SessionType_Mobility/Recovery           -0.220950                 -0.011703   \n",
      "SessionType_Skills                       0.360716                 -0.758495   \n",
      "SessionType_Speed                        0.184997                 -0.197210   \n",
      "SessionType_Strength                    -0.275859                  0.409693   \n",
      "\n",
      "                               SessionType_Game  \\\n",
      "Duration                               0.282837   \n",
      "RPE                                    0.169528   \n",
      "SessionLoad                            0.295758   \n",
      "DailyLoad                              0.278883   \n",
      "AcuteLoad                              0.191634   \n",
      "ChronicLoad                            0.154892   \n",
      "AcuteChronicRatio                     -0.059795   \n",
      "ObjectiveRating                       -0.187987   \n",
      "FocusRating                           -0.166234   \n",
      "BestOutOfMyself                        0.028199   \n",
      "SessionType_Combat                     0.150834   \n",
      "SessionType_Conditioning              -0.301900   \n",
      "SessionType_Game                       1.000000   \n",
      "SessionType_Mobility/Recovery         -0.251021   \n",
      "SessionType_Skills                     0.217332   \n",
      "SessionType_Speed                      0.214464   \n",
      "SessionType_Strength                  -0.061958   \n",
      "\n",
      "                               SessionType_Mobility/Recovery  \\\n",
      "Duration                                           -0.576161   \n",
      "RPE                                                -0.434704   \n",
      "SessionLoad                                        -0.435055   \n",
      "DailyLoad                                           0.037568   \n",
      "AcuteLoad                                           0.369852   \n",
      "ChronicLoad                                         0.450694   \n",
      "AcuteChronicRatio                                  -0.421365   \n",
      "ObjectiveRating                                     0.624203   \n",
      "FocusRating                                         0.368608   \n",
      "BestOutOfMyself                                    -0.434947   \n",
      "SessionType_Combat                                 -0.220950   \n",
      "SessionType_Conditioning                           -0.011703   \n",
      "SessionType_Game                                   -0.251021   \n",
      "SessionType_Mobility/Recovery                       1.000000   \n",
      "SessionType_Skills                                 -0.384307   \n",
      "SessionType_Speed                                  -0.900753   \n",
      "SessionType_Strength                               -0.591521   \n",
      "\n",
      "                               SessionType_Skills  SessionType_Speed  \\\n",
      "Duration                                 0.360870           0.512313   \n",
      "RPE                                      0.277039           0.400905   \n",
      "SessionLoad                              0.250644           0.342627   \n",
      "DailyLoad                                0.463521          -0.058015   \n",
      "AcuteLoad                                0.232048          -0.341931   \n",
      "ChronicLoad                              0.183348          -0.403746   \n",
      "AcuteChronicRatio                       -0.147106           0.301237   \n",
      "ObjectiveRating                         -0.404134          -0.694638   \n",
      "FocusRating                             -0.254904          -0.510873   \n",
      "BestOutOfMyself                         -0.014176           0.228589   \n",
      "SessionType_Combat                       0.360716           0.184997   \n",
      "SessionType_Conditioning                -0.758495          -0.197210   \n",
      "SessionType_Game                         0.217332           0.214464   \n",
      "SessionType_Mobility/Recovery           -0.384307          -0.900753   \n",
      "SessionType_Skills                       1.000000           0.452185   \n",
      "SessionType_Speed                        0.452185           1.000000   \n",
      "SessionType_Strength                    -0.336796           0.501572   \n",
      "\n",
      "                               SessionType_Strength  \n",
      "Duration                                   0.569142  \n",
      "RPE                                        0.130943  \n",
      "SessionLoad                                0.328483  \n",
      "DailyLoad                                 -0.281571  \n",
      "AcuteLoad                                 -0.428463  \n",
      "ChronicLoad                               -0.427074  \n",
      "AcuteChronicRatio                          0.285430  \n",
      "ObjectiveRating                           -0.141181  \n",
      "FocusRating                               -0.161066  \n",
      "BestOutOfMyself                            0.489777  \n",
      "SessionType_Combat                        -0.275859  \n",
      "SessionType_Conditioning                   0.409693  \n",
      "SessionType_Game                          -0.061958  \n",
      "SessionType_Mobility/Recovery             -0.591521  \n",
      "SessionType_Skills                        -0.336796  \n",
      "SessionType_Speed                          0.501572  \n",
      "SessionType_Strength                       1.000000  \n",
      "Index(['Duration', 'RPE', 'SessionLoad', 'DailyLoad', 'AcuteLoad',\n",
      "       'ChronicLoad', 'AcuteChronicRatio', 'ObjectiveRating', 'FocusRating',\n",
      "       'BestOutOfMyself'],\n",
      "      dtype='object')\n",
      "[0.23114113 0.44842415 0.57274579 0.59116945 0.6314044  0.61094084\n",
      " 0.58009754 0.48296718 0.62806515 0.4506737 ] 0.5367564682737905\n"
     ]
    }
   ],
   "source": [
    "player_data_yes = df_with_dummies.groupby('PlayerID',as_index = False).mean()\n",
    "print(player_data_yes.head())\n",
    "new_df_yes = player_data_yes.drop(['PlayerID'], axis=1)\n",
    "print(new_df_yes.corr())\n",
    "chi_square_value,p_value = calculate_bartlett_sphericity(new_df_yes)\n",
    "print(chi_square_value, p_value)\n",
    "\n",
    "yes_without_session_type = new_df_yes.drop(['SessionType_Combat',\n",
    "                                        'SessionType_Conditioning',\n",
    "                                       'SessionType_Game',\n",
    "                                       'SessionType_Mobility/Recovery',\n",
    "                                       'SessionType_Skills',\n",
    "                                       'SessionType_Speed',\n",
    "                                       'SessionType_Strength'],axis=1)\n",
    "print(yes_without_session_type.columns)\n",
    "\n",
    "kmo_all,kmo_model=calculate_kmo(yes_without_session_type)\n",
    "print(kmo_all, kmo_model)"
   ]
  },
  {
   "cell_type": "code",
   "execution_count": 31,
   "metadata": {},
   "outputs": [
    {
     "name": "stdout",
     "output_type": "stream",
     "text": [
      "   PlayerID  DailyLoad   AcuteLoad  ChronicLoad  AcuteChronicRatio  \\\n",
      "0         1      587.5  258.939216   311.435534           0.885196   \n",
      "1         2        NaN  311.526250   328.023250           1.025500   \n",
      "2         3     1260.0  338.124219   400.593178           0.888672   \n",
      "3         5        NaN  213.321622   201.865909           1.201081   \n",
      "4         6      180.0  342.110204   350.614898           1.089592   \n",
      "\n",
      "   BestOutOfMyself  \n",
      "0            2.375  \n",
      "1            0.000  \n",
      "2            3.000  \n",
      "3            0.000  \n",
      "4            0.000  \n",
      "                   DailyLoad  AcuteLoad  ChronicLoad  AcuteChronicRatio  \\\n",
      "DailyLoad           1.000000   0.470617     0.619577          -0.641400   \n",
      "AcuteLoad           0.470617   1.000000     0.928216          -0.448340   \n",
      "ChronicLoad         0.619577   0.928216     1.000000          -0.698846   \n",
      "AcuteChronicRatio  -0.641400  -0.448340    -0.698846           1.000000   \n",
      "BestOutOfMyself     0.731260   0.444360     0.617471          -0.797467   \n",
      "\n",
      "                   BestOutOfMyself  \n",
      "DailyLoad                 0.731260  \n",
      "AcuteLoad                 0.444360  \n",
      "ChronicLoad               0.617471  \n",
      "AcuteChronicRatio        -0.797467  \n",
      "BestOutOfMyself           1.000000  \n",
      "48.42440712917779 8.476485415834036e-11\n",
      "[0.38501924 0.41865906 0.31969499] 0.38103999583848475\n"
     ]
    }
   ],
   "source": [
    "player_data_no = training_no.groupby('PlayerID',as_index = False).mean()\n",
    "print(player_data_no.head())\n",
    "new_df_no = player_data_no.drop(['PlayerID'], axis=1)\n",
    "print(new_df_no.corr())\n",
    "no_without_nan_columns = new_df_no.drop(['DailyLoad', 'BestOutOfMyself'],axis=1)\n",
    "chi_square_value,p_value = calculate_bartlett_sphericity(no_without_nan_columns)\n",
    "print(chi_square_value, p_value)\n",
    "kmo_all,kmo_model=calculate_kmo(no_without_nan_columns)\n",
    "print(kmo_all, kmo_model)"
   ]
  },
  {
   "cell_type": "markdown",
   "metadata": {},
   "source": [
    "### Choosing the Number of Factors"
   ]
  },
  {
   "cell_type": "code",
   "execution_count": 34,
   "metadata": {},
   "outputs": [
    {
     "data": {
      "image/png": "[encoded data removed]",
      "text/plain": [
       "<Figure size 432x288 with 1 Axes>"
      ]
     },
     "metadata": {},
     "output_type": "display_data"
    }
   ],
   "source": [
    "factor_number_tester = FactorAnalyzer(n_factors=10, rotation=None) # Using number of factors = number of columns\n",
    "factor_number_tester.fit(new_df_yes) \n",
    "ev, v = factor_number_tester.get_eigenvalues()\n",
    "\n",
    "plt.scatter(range(1,new_df_yes.shape[1]+1),ev)\n",
    "plt.plot(range(1,new_df_yes.shape[1]+1),ev)\n",
    "plt.title('Scree Plot')\n",
    "plt.xlabel('Factors')\n",
    "plt.ylabel('Eigenvalue')\n",
    "plt.grid()\n",
    "plt.show()\n"
   ]
  },
  {
   "cell_type": "code",
   "execution_count": 36,
   "metadata": {},
   "outputs": [
    {
     "name": "stdout",
     "output_type": "stream",
     "text": [
      "Index(['Duration', 'RPE', 'SessionLoad', 'DailyLoad', 'AcuteLoad',\n",
      "       'ChronicLoad', 'AcuteChronicRatio', 'ObjectiveRating', 'FocusRating',\n",
      "       'BestOutOfMyself', 'SessionType_Combat', 'SessionType_Conditioning',\n",
      "       'SessionType_Game', 'SessionType_Mobility/Recovery',\n",
      "       'SessionType_Skills', 'SessionType_Speed', 'SessionType_Strength'],\n",
      "      dtype='object')\n",
      "[[ 0.0042458   0.67572095  0.18882167]\n",
      " [ 0.35696759  0.62435093  0.11101767]\n",
      " [ 0.50660103  0.84294555  0.0384077 ]\n",
      " [ 0.81728579  0.31935516  0.30110299]\n",
      " [ 0.99224024  0.07147452  0.07990681]\n",
      " [ 0.99020189 -0.00794501  0.04731264]\n",
      " [-0.76450386  0.05769289 -0.02740293]\n",
      " [ 0.64080685 -0.18301047 -0.51344077]\n",
      " [ 0.48565236 -0.07831706 -0.49266594]\n",
      " [ 0.04427962  0.60109124 -0.21801282]\n",
      " [-0.35109892 -0.18461111  0.54796079]\n",
      " [-0.19954935  0.12768987 -0.86081529]\n",
      " [ 0.11232919  0.21687623  0.33904661]\n",
      " [ 0.46463246 -0.81686891 -0.29682938]\n",
      " [ 0.1614625   0.20441799  0.84258802]\n",
      " [-0.43853678  0.68294489  0.43644761]\n",
      " [-0.41939566  0.68013066 -0.3945552 ]]\n",
      "(array([ 2,  3,  4,  5, 14], dtype=int64), array([1, 0, 0, 0, 2], dtype=int64))\n",
      "(array([5.03587243, 3.8038693 , 3.00380112]), array([0.29622779, 0.22375702, 0.17669418]), array([0.29622779, 0.51998481, 0.69667899]))\n"
     ]
    }
   ],
   "source": [
    "import numpy as np\n",
    "fa = FactorAnalyzer(3, rotation=\"varimax\")\n",
    "fa.fit(new_df_yes)\n",
    "print(new_df_yes.columns)\n",
    "print(fa.loadings_)\n",
    "print(np.where(fa.loadings_>0.7))\n",
    "print(fa.get_factor_variance())"
   ]
  },
  {
   "cell_type": "code",
   "execution_count": 37,
   "metadata": {},
   "outputs": [
    {
     "data": {
      "image/png": "[encoded data removed]",
      "text/plain": [
       "<Figure size 432x288 with 1 Axes>"
      ]
     },
     "metadata": {},
     "output_type": "display_data"
    }
   ],
   "source": [
    "factor_number_tester = FactorAnalyzer(n_factors=5, rotation=None) # Using number of factors = number of columns\n",
    "factor_number_tester.fit(no_without_nan_columns) \n",
    "ev, v = factor_number_tester.get_eigenvalues()\n",
    "\n",
    "plt.scatter(range(1,no_without_nan_columns.shape[1]+1),ev)\n",
    "plt.plot(range(1,no_without_nan_columns.shape[1]+1),ev)\n",
    "plt.title('Scree Plot')\n",
    "plt.xlabel('Factors')\n",
    "plt.ylabel('Eigenvalue')\n",
    "plt.grid()\n",
    "plt.show()"
   ]
  },
  {
   "cell_type": "code",
   "execution_count": 41,
   "metadata": {},
   "outputs": [
    {
     "name": "stdout",
     "output_type": "stream",
     "text": [
      "Index(['AcuteLoad', 'ChronicLoad', 'AcuteChronicRatio'], dtype='object')\n",
      "[[-0.85352286]\n",
      " [-1.03435133]\n",
      " [ 0.61473018]]\n",
      "(array([2], dtype=int64), array([0], dtype=int64))\n",
      "(array([2.17627715]), array([0.72542572]), array([0.72542572]))\n"
     ]
    }
   ],
   "source": [
    "fa = FactorAnalyzer(1,rotation = None)\n",
    "fa.fit(no_without_nan_columns)\n",
    "print(no_without_nan_columns.columns)\n",
    "print(fa.loadings_)\n",
    "print(np.where(fa.loadings_>0.5))\n",
    "print(fa.get_factor_variance())"
   ]
  }
 ],
 "metadata": {
  "kernelspec": {
   "display_name": "Python 3",
   "language": "python",
   "name": "python3"
  },
  "language_info": {
   "codemirror_mode": {
    "name": "ipython",
    "version": 3
   },
   "file_extension": ".py",
   "mimetype": "text/x-python",
   "name": "python",
   "nbconvert_exporter": "python",
   "pygments_lexer": "ipython3",
   "version": "3.6.5"
  }
 },
 "nbformat": 4,
 "nbformat_minor": 2
}
