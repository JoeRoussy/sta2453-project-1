{
 "cells": [
  {
   "cell_type": "code",
   "execution_count": 1,
   "metadata": {
    "scrolled": true
   },
   "outputs": [
    {
     "name": "stdout",
     "output_type": "stream",
     "text": [
      "Index(['Date', 'PlayerID', 'Fatigue', 'Soreness', 'Desire', 'Irritability',\n",
      "       'BedTime', 'WakeTime', 'SleepHours', 'SleepQuality', 'MonitoringScore',\n",
      "       'Pain', 'Illness', 'Menstruation', 'Nutrition', 'NutritionAdjustment',\n",
      "       'USGMeasurement', 'USG', 'TrainingReadiness'],\n",
      "      dtype='object')\n",
      "Index(['Date', 'PlayerID', 'Training', 'SessionType', 'Duration', 'RPE',\n",
      "       'SessionLoad', 'DailyLoad', 'AcuteLoad', 'ChronicLoad',\n",
      "       'AcuteChronicRatio', 'ObjectiveRating', 'FocusRating',\n",
      "       'BestOutOfMyself'],\n",
      "      dtype='object')\n",
      "Index(['GameID', 'Date', 'Tournament', 'TournamentGame', 'Team', 'Opponent',\n",
      "       'Outcome', 'TeamPoints', 'TeamPointsAllowed'],\n",
      "      dtype='object')\n",
      "Index(['GameID', 'Half', 'PlayerID', 'FrameID', 'Time', 'GameClock', 'Speed',\n",
      "       'AccelImpulse', 'AccelLoad', 'AccelX', 'AccelY', 'AccelZ', 'Longitude',\n",
      "       'Latitude'],\n",
      "      dtype='object')\n"
     ]
    }
   ],
   "source": [
    "import pandas as pd\n",
    "\n",
    "wellness_df= pd.read_csv(\"./raw_data/wellness.csv\")\n",
    "rpe_df= pd.read_csv(\"./raw_data/rpe.csv\")\n",
    "games_df= pd.read_csv(\"./raw_data/games.csv\")\n",
    "gps_df= pd.read_csv(\"./raw_data/gps.csv\")\n",
    "# wellness_df.dropna(inplace=True)\n",
    "# rpe_df.dropna(inplace=True)\n",
    "# games_df.dropna(inplace=True)\n",
    "# gps_df.dropna(inplace=True)\n",
    "gps_df['Longitude'] = gps_df.groupby('PlayerID')['Longitude'].fillna(method='ffill')\n",
    "print(wellness_df.columns)\n",
    "print(rpe_df.columns)\n",
    "print(games_df.columns)\n",
    "print(gps_df.columns)"
   ]
  },
  {
   "cell_type": "code",
   "execution_count": 2,
   "metadata": {},
   "outputs": [
    {
     "name": "stdout",
     "output_type": "stream",
     "text": [
      "4570160\n",
      "7\n",
      "4570153\n"
     ]
    }
   ],
   "source": [
    "print(len(gps_df))\n",
    "#print(gps_df.head())\n",
    "\n",
    "print(len(gps_df) - gps_df['Longitude'].count())\n",
    "gps_df.dropna(inplace = True)\n",
    "print(len(gps_df))"
   ]
  },
  {
   "cell_type": "code",
   "execution_count": 3,
   "metadata": {},
   "outputs": [
    {
     "name": "stdout",
     "output_type": "stream",
     "text": [
      "Index(['GameID', 'Half', 'PlayerID', 'FrameID', 'Time', 'GameClock', 'Speed',\n",
      "       'AccelImpulse', 'AccelLoad', 'AccelX', 'AccelY', 'AccelZ', 'Longitude',\n",
      "       'Latitude'],\n",
      "      dtype='object')\n"
     ]
    },
    {
     "data": {
      "text/html": [
       "<div>\n",
       "<style scoped>\n",
       "    .dataframe tbody tr th:only-of-type {\n",
       "        vertical-align: middle;\n",
       "    }\n",
       "\n",
       "    .dataframe tbody tr th {\n",
       "        vertical-align: top;\n",
       "    }\n",
       "\n",
       "    .dataframe thead th {\n",
       "        text-align: right;\n",
       "    }\n",
       "</style>\n",
       "<table border=\"1\" class=\"dataframe\">\n",
       "  <thead>\n",
       "    <tr style=\"text-align: right;\">\n",
       "      <th></th>\n",
       "      <th>PlayerID</th>\n",
       "      <th>GameID</th>\n",
       "      <th>Half</th>\n",
       "      <th>FrameID</th>\n",
       "      <th>Speed</th>\n",
       "      <th>AccelImpulse</th>\n",
       "      <th>AccelLoad</th>\n",
       "      <th>AccelX</th>\n",
       "      <th>AccelY</th>\n",
       "      <th>AccelZ</th>\n",
       "      <th>Longitude</th>\n",
       "      <th>Latitude</th>\n",
       "      <th>TimeInSeconds</th>\n",
       "      <th>GameClockInSeconds</th>\n",
       "    </tr>\n",
       "  </thead>\n",
       "  <tbody>\n",
       "    <tr>\n",
       "      <th>0</th>\n",
       "      <td>1</td>\n",
       "      <td>24.408629</td>\n",
       "      <td>1.502777</td>\n",
       "      <td>2600.307058</td>\n",
       "      <td>1.458636</td>\n",
       "      <td>1.200927</td>\n",
       "      <td>0.023339</td>\n",
       "      <td>-0.126561</td>\n",
       "      <td>0.508641</td>\n",
       "      <td>0.684284</td>\n",
       "      <td>-13.500557</td>\n",
       "      <td>33.268763</td>\n",
       "      <td>51201.055709</td>\n",
       "      <td>470.747159</td>\n",
       "    </tr>\n",
       "    <tr>\n",
       "      <th>1</th>\n",
       "      <td>2</td>\n",
       "      <td>19.573893</td>\n",
       "      <td>1.496852</td>\n",
       "      <td>2607.325098</td>\n",
       "      <td>1.037175</td>\n",
       "      <td>0.881994</td>\n",
       "      <td>0.020449</td>\n",
       "      <td>0.052635</td>\n",
       "      <td>0.768138</td>\n",
       "      <td>0.524536</td>\n",
       "      <td>7.806169</td>\n",
       "      <td>24.077370</td>\n",
       "      <td>50113.687888</td>\n",
       "      <td>468.960619</td>\n",
       "    </tr>\n",
       "    <tr>\n",
       "      <th>2</th>\n",
       "      <td>3</td>\n",
       "      <td>18.254155</td>\n",
       "      <td>1.490334</td>\n",
       "      <td>2646.834458</td>\n",
       "      <td>1.302805</td>\n",
       "      <td>1.010284</td>\n",
       "      <td>0.016925</td>\n",
       "      <td>0.017612</td>\n",
       "      <td>0.807178</td>\n",
       "      <td>0.462286</td>\n",
       "      <td>35.055545</td>\n",
       "      <td>14.159077</td>\n",
       "      <td>49851.420231</td>\n",
       "      <td>470.173836</td>\n",
       "    </tr>\n",
       "    <tr>\n",
       "      <th>3</th>\n",
       "      <td>4</td>\n",
       "      <td>19.641452</td>\n",
       "      <td>1.498507</td>\n",
       "      <td>2600.610423</td>\n",
       "      <td>1.187677</td>\n",
       "      <td>1.109686</td>\n",
       "      <td>0.018231</td>\n",
       "      <td>-0.010219</td>\n",
       "      <td>0.842286</td>\n",
       "      <td>0.544878</td>\n",
       "      <td>5.369631</td>\n",
       "      <td>23.835324</td>\n",
       "      <td>49960.163917</td>\n",
       "      <td>468.983964</td>\n",
       "    </tr>\n",
       "    <tr>\n",
       "      <th>4</th>\n",
       "      <td>5</td>\n",
       "      <td>24.408715</td>\n",
       "      <td>1.502775</td>\n",
       "      <td>2600.347476</td>\n",
       "      <td>0.944265</td>\n",
       "      <td>0.821855</td>\n",
       "      <td>0.013843</td>\n",
       "      <td>-0.079326</td>\n",
       "      <td>0.825949</td>\n",
       "      <td>0.404541</td>\n",
       "      <td>-13.499155</td>\n",
       "      <td>33.268214</td>\n",
       "      <td>51201.056056</td>\n",
       "      <td>470.750459</td>\n",
       "    </tr>\n",
       "  </tbody>\n",
       "</table>\n",
       "</div>"
      ],
      "text/plain": [
       "   PlayerID     GameID      Half      FrameID     Speed  AccelImpulse  \\\n",
       "0         1  24.408629  1.502777  2600.307058  1.458636      1.200927   \n",
       "1         2  19.573893  1.496852  2607.325098  1.037175      0.881994   \n",
       "2         3  18.254155  1.490334  2646.834458  1.302805      1.010284   \n",
       "3         4  19.641452  1.498507  2600.610423  1.187677      1.109686   \n",
       "4         5  24.408715  1.502775  2600.347476  0.944265      0.821855   \n",
       "\n",
       "   AccelLoad    AccelX    AccelY    AccelZ  Longitude   Latitude  \\\n",
       "0   0.023339 -0.126561  0.508641  0.684284 -13.500557  33.268763   \n",
       "1   0.020449  0.052635  0.768138  0.524536   7.806169  24.077370   \n",
       "2   0.016925  0.017612  0.807178  0.462286  35.055545  14.159077   \n",
       "3   0.018231 -0.010219  0.842286  0.544878   5.369631  23.835324   \n",
       "4   0.013843 -0.079326  0.825949  0.404541 -13.499155  33.268214   \n",
       "\n",
       "   TimeInSeconds  GameClockInSeconds  \n",
       "0   51201.055709          470.747159  \n",
       "1   50113.687888          468.960619  \n",
       "2   49851.420231          470.173836  \n",
       "3   49960.163917          468.983964  \n",
       "4   51201.056056          470.750459  "
      ]
     },
     "execution_count": 3,
     "metadata": {},
     "output_type": "execute_result"
    }
   ],
   "source": [
    "from factor_analyzer.factor_analyzer import calculate_bartlett_sphericity, calculate_kmo\n",
    "from factor_analyzer.factor_analyzer import FactorAnalyzer\n",
    "import matplotlib.pyplot as plt\n",
    "\n",
    "print(gps_df.columns)\n",
    "gps_df['Time'] = pd.to_datetime(gps_df.Time, format = '%H:%M:%S')\n",
    "gps_df['TimeInSeconds'] = gps_df.Time.dt.hour * 3600 + gps_df.Time.dt.minute * 60 + gps_df.Time.dt.second\n",
    "gps_df['GameClock'] = pd.to_datetime(gps_df.GameClock, format = '%H:%M:%S')\n",
    "gps_df['GameClockInSeconds'] = gps_df.GameClock.dt.hour * 3600 + gps_df.GameClock.dt.minute * 60 + gps_df.GameClock.dt.second\n",
    "player_data = gps_df.groupby('PlayerID',as_index = False).mean()\n",
    "\n",
    "new_data = player_data.drop(['GameID','Half','PlayerID','FrameID'], axis=1)\n",
    "player_data.head()"
   ]
  },
  {
   "cell_type": "code",
   "execution_count": 5,
   "metadata": {},
   "outputs": [
    {
     "name": "stdout",
     "output_type": "stream",
     "text": [
      "(4570153, 16) Index(['GameID', 'Half', 'PlayerID', 'FrameID', 'Time', 'GameClock', 'Speed',\n",
      "       'AccelImpulse', 'AccelLoad', 'AccelX', 'AccelY', 'AccelZ', 'Longitude',\n",
      "       'Latitude', 'TimeInSeconds', 'GameClockInSeconds'],\n",
      "      dtype='object')\n",
      "195.36376099140384 4.788303756275974e-21\n",
      "[0.70899787 0.59202318 0.78485244 0.18032777 0.4281548  0.66479685\n",
      " 0.41164553 0.3982143  0.48972958 0.49078213] 0.5094014237789682\n"
     ]
    },
    {
     "data": {
      "image/png": "[encoded data removed]",
      "text/plain": [
       "<Figure size 432x288 with 1 Axes>"
      ]
     },
     "metadata": {},
     "output_type": "display_data"
    }
   ],
   "source": [
    "print(gps_df.shape,gps_df.columns)\n",
    "\n",
    "chi_square_value,p_value=calculate_bartlett_sphericity(new_data)\n",
    "print(chi_square_value, p_value)\n",
    "kmo_all,kmo_model=calculate_kmo(new_data)\n",
    "print(kmo_all,kmo_model)\n",
    "\n",
    "fa = FactorAnalyzer(3, rotation=\"varimax\")\n",
    "#gps_df[gps_df.columns[~gps_df.columns.isin(['Time','GameClock'])]]\n",
    "fa.fit(new_data)\n",
    "\n",
    "ev, v = fa.get_eigenvalues()\n",
    "plt.scatter(range(1,new_data.shape[1]+1),ev)\n",
    "plt.plot(range(1,new_data.shape[1]+1),ev)\n",
    "plt.title('Scree Plot')\n",
    "plt.xlabel('Factors')\n",
    "plt.ylabel('Eigenvalue')\n",
    "plt.grid()\n",
    "plt.show()"
   ]
  },
  {
   "cell_type": "code",
   "execution_count": 6,
   "metadata": {},
   "outputs": [
    {
     "name": "stdout",
     "output_type": "stream",
     "text": [
      "Index(['Speed', 'AccelImpulse', 'AccelLoad', 'AccelX', 'AccelY', 'AccelZ',\n",
      "       'Longitude', 'Latitude', 'TimeInSeconds', 'GameClockInSeconds'],\n",
      "      dtype='object')\n",
      "[[ 0.98392498  0.12402764 -0.05101752]\n",
      " [ 0.93066737 -0.11607117  0.03428061]\n",
      " [ 0.95326906  0.18839389 -0.07082124]\n",
      " [ 0.08242758 -0.18503188  0.99098588]\n",
      " [ 0.60141984  0.44487161  0.19554736]\n",
      " [ 0.37825654  0.43486858 -0.45077052]\n",
      " [ 0.15199048  0.86080868 -0.17651629]\n",
      " [-0.11371065 -0.88845775  0.04948214]\n",
      " [ 0.58842892  0.52886674 -0.23089403]\n",
      " [-0.00110707  0.48516588 -0.10980677]]\n",
      "(array([0, 1, 2, 3, 6], dtype=int64), array([0, 0, 0, 2, 1], dtype=int64))\n"
     ]
    }
   ],
   "source": [
    "import numpy as np\n",
    "fa = FactorAnalyzer(3, rotation=\"varimax\")\n",
    "fa.fit(new_data)\n",
    "print(new_data.columns)\n",
    "print(fa.loadings_)\n",
    "print(np.where(fa.loadings_>0.7))"
   ]
  },
  {
   "cell_type": "code",
   "execution_count": 38,
   "metadata": {},
   "outputs": [
    {
     "name": "stdout",
     "output_type": "stream",
     "text": [
      "         Date  PlayerID  Fatigue  Soreness  Desire  Irritability   BedTime  \\\n",
      "3  2018-07-21         4        2         3       5             4  00:30:00   \n",
      "4  2018-07-21         5        5         3       4             4  23:45:00   \n",
      "5  2018-07-21         7        2         2       5             4  22:00:00   \n",
      "6  2018-07-21        10        2         2       4             4  22:30:00   \n",
      "7  2018-07-21        11        4         3       6             4  23:00:00   \n",
      "\n",
      "   WakeTime  SleepHours  SleepQuality  MonitoringScore Pain       Illness  \\\n",
      "3  07:00:00        6.50             1               15   No            No   \n",
      "4  07:00:00        7.25             4               20   No            No   \n",
      "5  07:00:00        9.00             3               16   No            No   \n",
      "6  05:45:00        7.25             3               15   No  Slightly Off   \n",
      "7  07:00:00        8.00             3               20   No  Slightly Off   \n",
      "\n",
      "  Menstruation  Nutrition NutritionAdjustment USGMeasurement    USG  \\\n",
      "3          Yes  Excellent                 Yes            Yes  1.025   \n",
      "4           No       Okay                 Yes            Yes  1.022   \n",
      "5           No  Excellent                 Yes            Yes  1.014   \n",
      "6           No  Excellent                 Yes            Yes  1.017   \n",
      "7           No  Excellent                 Yes            Yes  1.013   \n",
      "\n",
      "  TrainingReadiness  \n",
      "3               95%  \n",
      "4              100%  \n",
      "5               95%  \n",
      "6               70%  \n",
      "7              100%  \n",
      "          Date  PlayerID Training SessionType  Duration  RPE  SessionLoad  \\\n",
      "3   2018-07-20        11      Yes        Game      36.0  6.0        216.0   \n",
      "16  2018-07-19        11      Yes      Skills      90.0  5.0        450.0   \n",
      "19  2018-07-19        16      Yes      Skills      60.0  4.0        240.0   \n",
      "40  2018-07-17        11      Yes      Skills      90.0  5.0        450.0   \n",
      "44  2018-07-17        15      Yes      Skills      60.0  4.0        240.0   \n",
      "\n",
      "    DailyLoad  AcuteLoad  ChronicLoad  AcuteChronicRatio  ObjectiveRating  \\\n",
      "3       534.0      256.3       344.18               0.74              9.0   \n",
      "16      450.0      180.0       325.11               0.55              9.0   \n",
      "19      240.0      102.9       348.57               0.30              7.0   \n",
      "40      450.0      210.0       391.36               0.54              9.0   \n",
      "44      240.0       34.3       161.68               0.21              8.0   \n",
      "\n",
      "    FocusRating BestOutOfMyself  \n",
      "3          10.0      Absolutely  \n",
      "16          9.0      Absolutely  \n",
      "19         10.0      Absolutely  \n",
      "40          9.0      Absolutely  \n",
      "44          9.0      Absolutely  \n",
      "   GameID        Date Tournament  TournamentGame    Team   Opponent Outcome  \\\n",
      "0       1  2017-11-30      Dubai               1  Canada      Spain       W   \n",
      "1       2  2017-11-30      Dubai               2  Canada    Ireland       W   \n",
      "2       3  2017-11-30      Dubai               3  Canada       Fiji       W   \n",
      "3       4  2017-12-01      Dubai               4  Canada     France       W   \n",
      "4       5  2017-12-01      Dubai               5  Canada  Australia       L   \n",
      "\n",
      "   TeamPoints  TeamPointsAllowed  \n",
      "0          19                  0  \n",
      "1          31                  0  \n",
      "2          31                 14  \n",
      "3          24                 19  \n",
      "4           7                 25  \n"
     ]
    }
   ],
   "source": [
    "print(wellness_df.head())\n",
    "print(rpe_df.head())\n",
    "print(games_df.head())"
   ]
  },
  {
   "cell_type": "code",
   "execution_count": null,
   "metadata": {},
   "outputs": [],
   "source": []
  }
 ],
 "metadata": {
  "kernelspec": {
   "display_name": "Python 3",
   "language": "python",
   "name": "python3"
  },
  "language_info": {
   "codemirror_mode": {
    "name": "ipython",
    "version": 3
   },
   "file_extension": ".py",
   "mimetype": "text/x-python",
   "name": "python",
   "nbconvert_exporter": "python",
   "pygments_lexer": "ipython3",
   "version": "3.6.5"
  }
 },
 "nbformat": 4,
 "nbformat_minor": 2
}
