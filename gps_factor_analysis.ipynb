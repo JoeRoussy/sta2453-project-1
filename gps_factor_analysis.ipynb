{
 "cells": [
  {
   "cell_type": "code",
   "execution_count": 2,
   "metadata": {
    "scrolled": true
   },
   "outputs": [
    {
     "name": "stdout",
     "output_type": "stream",
     "text": [
      "Index(['Date', 'PlayerID', 'Fatigue', 'Soreness', 'Desire', 'Irritability',\n",
      "       'BedTime', 'WakeTime', 'SleepHours', 'SleepQuality', 'MonitoringScore',\n",
      "       'Pain', 'Illness', 'Menstruation', 'Nutrition', 'NutritionAdjustment',\n",
      "       'USGMeasurement', 'USG', 'TrainingReadiness'],\n",
      "      dtype='object')\n",
      "Index(['Date', 'PlayerID', 'Training', 'SessionType', 'Duration', 'RPE',\n",
      "       'SessionLoad', 'DailyLoad', 'AcuteLoad', 'ChronicLoad',\n",
      "       'AcuteChronicRatio', 'ObjectiveRating', 'FocusRating',\n",
      "       'BestOutOfMyself'],\n",
      "      dtype='object')\n",
      "Index(['GameID', 'Date', 'Tournament', 'TournamentGame', 'Team', 'Opponent',\n",
      "       'Outcome', 'TeamPoints', 'TeamPointsAllowed'],\n",
      "      dtype='object')\n",
      "Index(['GameID', 'Half', 'PlayerID', 'FrameID', 'Time', 'GameClock', 'Speed',\n",
      "       'AccelImpulse', 'AccelLoad', 'AccelX', 'AccelY', 'AccelZ', 'Longitude',\n",
      "       'Latitude'],\n",
      "      dtype='object')\n"
     ]
    }
   ],
   "source": [
    "import pandas as pd\n",
    "\n",
    "wellness_df= pd.read_csv(\"./raw_data/wellness.csv\")\n",
    "rpe_df= pd.read_csv(\"./raw_data/rpe.csv\")\n",
    "games_df= pd.read_csv(\"./raw_data/games.csv\")\n",
    "gps_df= pd.read_csv(\"./raw_data/gps.csv\")\n",
    "wellness_df.dropna(inplace=True)\n",
    "rpe_df.dropna(inplace=True)\n",
    "games_df.dropna(inplace=True)\n",
    "gps_df.dropna(inplace=True)\n",
    "print(wellness_df.columns)\n",
    "print(rpe_df.columns)\n",
    "print(games_df.columns)\n",
    "print(gps_df.columns)"
   ]
  },
  {
   "cell_type": "code",
   "execution_count": 3,
   "metadata": {},
   "outputs": [],
   "source": [
    "from factor_analyzer.factor_analyzer import calculate_bartlett_sphericity, calculate_kmo"
   ]
  },
  {
   "cell_type": "code",
   "execution_count": 5,
   "metadata": {},
   "outputs": [
    {
     "name": "stdout",
     "output_type": "stream",
     "text": [
      "Index(['GameID', 'Half', 'PlayerID', 'FrameID', 'Time', 'GameClock', 'Speed',\n",
      "       'AccelImpulse', 'AccelLoad', 'AccelX', 'AccelY', 'AccelZ', 'Longitude',\n",
      "       'Latitude', 'TimeInSeconds', 'GameClockInSeconds'],\n",
      "      dtype='object')\n"
     ]
    }
   ],
   "source": [
    "from factor_analyzer.factor_analyzer import FactorAnalyzer\n",
    "import matplotlib.pyplot as plt\n",
    "\n",
    "print(gps_df.columns)\n",
    "gps_df['Time'] = pd.to_datetime(gps_df.Time, format = '%H:%M:%S')\n",
    "gps_df['TimeInSeconds'] = gps_df.Time.dt.hour * 3600 + gps_df.Time.dt.minute * 60 + gps_df.Time.dt.second\n",
    "gps_df['GameClock'] = pd.to_datetime(gps_df.GameClock, format = '%H:%M:%S')\n",
    "gps_df['GameClockInSeconds'] = gps_df.GameClock.dt.hour * 3600 + gps_df.GameClock.dt.minute * 60 + gps_df.GameClock.dt.second\n",
    "\n",
    "new_data = gps_df.drop(['Time', 'GameClock','GameID','Half','PlayerID','FrameID'], axis=1)\n"
   ]
  },
  {
   "cell_type": "code",
   "execution_count": 7,
   "metadata": {},
   "outputs": [
    {
     "name": "stdout",
     "output_type": "stream",
     "text": [
      "(3054917, 16) Index(['GameID', 'Half', 'PlayerID', 'FrameID', 'Time', 'GameClock', 'Speed',\n",
      "       'AccelImpulse', 'AccelLoad', 'AccelX', 'AccelY', 'AccelZ', 'Longitude',\n",
      "       'Latitude', 'TimeInSeconds', 'GameClockInSeconds'],\n",
      "      dtype='object')\n"
     ]
    },
    {
     "data": {
      "image/png": "[encoded data removed]",
      "text/plain": [
       "<Figure size 432x288 with 1 Axes>"
      ]
     },
     "metadata": {},
     "output_type": "display_data"
    }
   ],
   "source": [
    "print(gps_df.shape,gps_df.columns)\n",
    "\n",
    "# chi_square_value,p_value=calculate_bartlett_sphericity(gps_df)\n",
    "# print(chi_square_value, p_value)\n",
    "# kmo_all,kmo_model=calculate_kmo(gps_df)\n",
    "# print(kmo_model)\n",
    "\n",
    "fa = FactorAnalyzer(9, rotation=\"varimax\")\n",
    "#gps_df[gps_df.columns[~gps_df.columns.isin(['Time','GameClock'])]]\n",
    "fa.fit(new_data)\n",
    "\n",
    "ev, v = fa.get_eigenvalues()\n",
    "plt.scatter(range(1,new_data.shape[1]+1),ev)\n",
    "plt.plot(range(1,new_data.shape[1]+1),ev)\n",
    "plt.title('Scree Plot')\n",
    "plt.xlabel('Factors')\n",
    "plt.ylabel('Eigenvalue')\n",
    "plt.grid()\n",
    "plt.show()"
   ]
  },
  {
   "cell_type": "code",
   "execution_count": 8,
   "metadata": {},
   "outputs": [
    {
     "name": "stdout",
     "output_type": "stream",
     "text": [
      "Index(['Speed', 'AccelImpulse', 'AccelLoad', 'AccelX', 'AccelY', 'AccelZ',\n",
      "       'Longitude', 'Latitude', 'TimeInSeconds', 'GameClockInSeconds'],\n",
      "      dtype='object')\n",
      "[[ 0.98641     0.03730682 -0.0058534  -0.00306855]\n",
      " [ 0.46120334 -0.00757886 -0.00780098 -0.0076047 ]\n",
      " [ 0.68617794  0.01662529  0.25052741 -0.05060626]\n",
      " [ 0.01511239  0.04678894 -0.00354168  0.0262285 ]\n",
      " [ 0.10090064  0.01014174  0.32320013  0.147146  ]\n",
      " [-0.00475634  0.00702177  0.60230966 -0.14472972]\n",
      " [-0.05592137  0.85729564  0.01028613 -0.15689111]\n",
      " [ 0.04385505 -0.79097414 -0.05300322 -0.16258738]\n",
      " [ 0.00798207  0.05142143  0.08737383  0.36653163]\n",
      " [-0.01763361  0.00918898 -0.02540672  0.11907311]]\n",
      "(array([0, 2, 5, 6], dtype=int64), array([0, 0, 2, 1], dtype=int64))\n"
     ]
    }
   ],
   "source": [
    "import numpy as np\n",
    "fa = FactorAnalyzer(4, rotation=\"varimax\")\n",
    "fa.fit(new_data)\n",
    "print(new_data.columns)\n",
    "print(fa.loadings_)\n",
    "print(np.where(fa.loadings_>0.5))"
   ]
  },
  {
   "cell_type": "code",
   "execution_count": 38,
   "metadata": {},
   "outputs": [
    {
     "name": "stdout",
     "output_type": "stream",
     "text": [
      "         Date  PlayerID  Fatigue  Soreness  Desire  Irritability   BedTime  \\\n",
      "3  2018-07-21         4        2         3       5             4  00:30:00   \n",
      "4  2018-07-21         5        5         3       4             4  23:45:00   \n",
      "5  2018-07-21         7        2         2       5             4  22:00:00   \n",
      "6  2018-07-21        10        2         2       4             4  22:30:00   \n",
      "7  2018-07-21        11        4         3       6             4  23:00:00   \n",
      "\n",
      "   WakeTime  SleepHours  SleepQuality  MonitoringScore Pain       Illness  \\\n",
      "3  07:00:00        6.50             1               15   No            No   \n",
      "4  07:00:00        7.25             4               20   No            No   \n",
      "5  07:00:00        9.00             3               16   No            No   \n",
      "6  05:45:00        7.25             3               15   No  Slightly Off   \n",
      "7  07:00:00        8.00             3               20   No  Slightly Off   \n",
      "\n",
      "  Menstruation  Nutrition NutritionAdjustment USGMeasurement    USG  \\\n",
      "3          Yes  Excellent                 Yes            Yes  1.025   \n",
      "4           No       Okay                 Yes            Yes  1.022   \n",
      "5           No  Excellent                 Yes            Yes  1.014   \n",
      "6           No  Excellent                 Yes            Yes  1.017   \n",
      "7           No  Excellent                 Yes            Yes  1.013   \n",
      "\n",
      "  TrainingReadiness  \n",
      "3               95%  \n",
      "4              100%  \n",
      "5               95%  \n",
      "6               70%  \n",
      "7              100%  \n",
      "          Date  PlayerID Training SessionType  Duration  RPE  SessionLoad  \\\n",
      "3   2018-07-20        11      Yes        Game      36.0  6.0        216.0   \n",
      "16  2018-07-19        11      Yes      Skills      90.0  5.0        450.0   \n",
      "19  2018-07-19        16      Yes      Skills      60.0  4.0        240.0   \n",
      "40  2018-07-17        11      Yes      Skills      90.0  5.0        450.0   \n",
      "44  2018-07-17        15      Yes      Skills      60.0  4.0        240.0   \n",
      "\n",
      "    DailyLoad  AcuteLoad  ChronicLoad  AcuteChronicRatio  ObjectiveRating  \\\n",
      "3       534.0      256.3       344.18               0.74              9.0   \n",
      "16      450.0      180.0       325.11               0.55              9.0   \n",
      "19      240.0      102.9       348.57               0.30              7.0   \n",
      "40      450.0      210.0       391.36               0.54              9.0   \n",
      "44      240.0       34.3       161.68               0.21              8.0   \n",
      "\n",
      "    FocusRating BestOutOfMyself  \n",
      "3          10.0      Absolutely  \n",
      "16          9.0      Absolutely  \n",
      "19         10.0      Absolutely  \n",
      "40          9.0      Absolutely  \n",
      "44          9.0      Absolutely  \n",
      "   GameID        Date Tournament  TournamentGame    Team   Opponent Outcome  \\\n",
      "0       1  2017-11-30      Dubai               1  Canada      Spain       W   \n",
      "1       2  2017-11-30      Dubai               2  Canada    Ireland       W   \n",
      "2       3  2017-11-30      Dubai               3  Canada       Fiji       W   \n",
      "3       4  2017-12-01      Dubai               4  Canada     France       W   \n",
      "4       5  2017-12-01      Dubai               5  Canada  Australia       L   \n",
      "\n",
      "   TeamPoints  TeamPointsAllowed  \n",
      "0          19                  0  \n",
      "1          31                  0  \n",
      "2          31                 14  \n",
      "3          24                 19  \n",
      "4           7                 25  \n"
     ]
    }
   ],
   "source": [
    "print(wellness_df.head())\n",
    "print(rpe_df.head())\n",
    "print(games_df.head())"
   ]
  },
  {
   "cell_type": "code",
   "execution_count": null,
   "metadata": {},
   "outputs": [],
   "source": []
  }
 ],
 "metadata": {
  "kernelspec": {
   "display_name": "Python 3",
   "language": "python",
   "name": "python3"
  },
  "language_info": {
   "codemirror_mode": {
    "name": "ipython",
    "version": 3
   },
   "file_extension": ".py",
   "mimetype": "text/x-python",
   "name": "python",
   "nbconvert_exporter": "python",
   "pygments_lexer": "ipython3",
   "version": "3.6.5"
  }
 },
 "nbformat": 4,
 "nbformat_minor": 2
}
