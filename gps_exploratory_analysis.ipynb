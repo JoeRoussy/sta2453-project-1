{
 "cells": [
  {
   "cell_type": "markdown",
   "metadata": {},
   "source": [
    "# GPS exploratory analysis"
   ]
  },
  {
   "cell_type": "markdown",
   "metadata": {},
   "source": [
    "In this notebook, we start by cleaning the gps data and then we will merge it with games data to get the dates and final scores for each game. Also, we compute the maximim speed and acceleration for each player over a single game as a possible measure of performance for that player in that game (Note that we first compute the average values over one second (10 frames) and then take the max)."
   ]
  },
  {
   "cell_type": "code",
   "execution_count": null,
   "metadata": {
    "scrolled": true
   },
   "outputs": [],
   "source": [
    "import pandas as pd\n",
    "import seaborn as sns\n",
    "from sklearn.decomposition import PCA\n",
    "from scipy.stats import ttest_ind\n",
    "import matplotlib.pyplot as plt\n",
    "\n",
    "games_df= pd.read_csv('https://www.dropbox.com/s/tk13ad7sca5nkwy/games.csv?dl=1')\n",
    "gps_df= pd.read_csv('https://www.dropbox.com/s/n7pvlxy60qwyy91/gps.csv?dl=1')\n",
    "\n",
    "# Fill in the missing longitude data for each player based on its previous frame (it\n",
    "# seems that in some cases when the longitude stays the same it is filled in as nan in the dataset)\n",
    "gps_df['Longitude'] = gps_df.groupby('PlayerID')['Longitude'].fillna(method='ffill')\n",
    "print(games_df.columns)\n",
    "print(gps_df.columns)"
   ]
  },
  {
   "cell_type": "code",
   "execution_count": null,
   "metadata": {},
   "outputs": [],
   "source": [
    "# Remove the data that logitude was nan for a player and could not\n",
    "# be filled based on the previous frames\n",
    "print(len(gps_df) - gps_df['Longitude'].count())\n",
    "gps_df.dropna(inplace = True)\n",
    "print(len(gps_df))"
   ]
  },
  {
   "cell_type": "code",
   "execution_count": null,
   "metadata": {},
   "outputs": [],
   "source": [
    "# Converting game clock to seconds to group by seconds later on\n",
    "gps_df['GameClock'] = pd.to_datetime(gps_df.GameClock, format = '%H:%M:%S')\n",
    "gps_df['GameClockInSeconds'] = gps_df.GameClock.dt.hour * 3600 + gps_df.GameClock.dt.minute * 60 + gps_df.GameClock.dt.second"
   ]
  },
  {
   "cell_type": "markdown",
   "metadata": {},
   "source": [
    "Merging the gpa data with game data to get the dates. We kept the team points and game outcome as well. "
   ]
  },
  {
   "cell_type": "code",
   "execution_count": null,
   "metadata": {},
   "outputs": [],
   "source": [
    "# Removing players with player ID greater than 17\n",
    "gps_df = gps_df[ (gps_df['PlayerID'] < 18) ]\n",
    "\n",
    "gps_with_date = gps_df.merge(games_df[['GameID', 'Date', 'TeamPoints','Outcome']],\n",
    "                    how='inner', on='GameID').drop_duplicates()\n",
    "gps_with_date.head()"
   ]
  },
  {
   "cell_type": "code",
   "execution_count": null,
   "metadata": {},
   "outputs": [],
   "source": [
    "# Negative AccelX shows when the player has stopped and we don't want that \n",
    "# to be considered as a player's best performance during a game\n",
    "gps_with_date = gps_with_date[(gps_with_date['AccelX'] >= 0)]\n",
    "\n",
    "accel_data = gps_with_date.copy()\n",
    "accel_data[['MaxAccImpulse', 'MaxAccLoad']] = gps_with_date.groupby(['GameID','PlayerID'])['AccelImpulse', 'AccelLoad'].transform('max')\n",
    "accel_data.head()"
   ]
  },
  {
   "cell_type": "code",
   "execution_count": null,
   "metadata": {},
   "outputs": [],
   "source": [
    "second_data = gps_with_date.groupby(['Date','GameID','Outcome','TeamPoints',\n",
    "                                     'PlayerID','Half','GameClockInSeconds'],\n",
    "                                    as_index = False)[['Speed','AccelImpulse',\n",
    "                                                       'AccelLoad', 'AccelX']].mean()\n",
    "\n",
    "second_data.head()"
   ]
  },
  {
   "cell_type": "code",
   "execution_count": null,
   "metadata": {},
   "outputs": [],
   "source": [
    "second_data['MaxSpeedInGame'] = second_data.groupby(['GameID','PlayerID'])['Speed'].transform(max)\n",
    "second_data['MaxAccelImpulseInGame'] = second_data.groupby(['GameID','PlayerID'])['AccelImpulse'].transform(max)\n",
    "second_data['MaxAccelLoadInGame'] = second_data.groupby(['GameID','PlayerID'])['AccelLoad'].transform(max)\n",
    "second_data['MaxAccelXInGame'] = second_data.groupby(['GameID','PlayerID'])['AccelX'].transform(max)\n",
    "second_data.head()"
   ]
  },
  {
   "cell_type": "code",
   "execution_count": null,
   "metadata": {},
   "outputs": [],
   "source": [
    "idx = second_data['MaxSpeedInGame'] == second_data['Speed']\n",
    "second_data[idx]['Half'].value_counts()"
   ]
  },
  {
   "cell_type": "markdown",
   "metadata": {},
   "source": [
    "We can see that it is almost equally likely for the max speed for players to occur either in the first half or the second half."
   ]
  },
  {
   "cell_type": "code",
   "execution_count": null,
   "metadata": {},
   "outputs": [],
   "source": [
    "second_data[idx].groupby('PlayerID')['Half'].value_counts()"
   ]
  },
  {
   "cell_type": "code",
   "execution_count": null,
   "metadata": {},
   "outputs": [],
   "source": [
    "second_data[idx].groupby('PlayerID')['GameID'].unique()"
   ]
  },
  {
   "cell_type": "code",
   "execution_count": null,
   "metadata": {},
   "outputs": [],
   "source": [
    "second_data[idx].groupby('PlayerID')['GameID'].nunique()"
   ]
  },
  {
   "cell_type": "markdown",
   "metadata": {},
   "source": [
    "In general maximum speed can happen either in first half or second half. For some players we can see that their max speed occurs in the second half across all games more than the first half and for some other players we can see a reverse pattern.<br>\n",
    "Also, after printing out the gameIDs that each player participated in, we can see that the regular players that played in almost all games are the following players: (2,4,7,8,10,11,13)"
   ]
  },
  {
   "cell_type": "code",
   "execution_count": null,
   "metadata": {},
   "outputs": [],
   "source": [
    "speed_data = second_data[['Date','GameID','Outcome','TeamPoints','PlayerID','MaxSpeedInGame','MaxAccelImpulseInGame']].drop_duplicates()\n",
    "speed_data.to_csv('./processed_data/processed_gps.csv')\n",
    "speed_data = speed_data.sort_values(by=['PlayerID', 'Date'])\n"
   ]
  },
  {
   "cell_type": "code",
   "execution_count": null,
   "metadata": {},
   "outputs": [],
   "source": [
    "def box_plot_and_ttest(group1_name, group2_name, column1, column2, ylabel, title):\n",
    "    plt.figure()\n",
    "    sns.set(context='notebook', style='whitegrid')\n",
    "    sns.utils.axlabel(xlabel=\"group\", ylabel=ylabel)\n",
    "    sns.boxplot(data=[column1, column2])\n",
    "    plt.xticks(plt.xticks()[0], [group1_name, group2_name])\n",
    "    plt.title(title)\n",
    "    plt.show()\n",
    "    t, p = ttest_ind(column1, column2)\n",
    "    print(\"p-value is: %.4f\" % p,\" t-statistic is: %.2f\" % t)\n",
    "    \n",
    "    \n",
    "print(speed_data.columns)\n",
    "avg_speed_per_game = speed_data[['GameID', 'Outcome', 'TeamPoints', 'MaxSpeedInGame', 'MaxAccelImpulseInGame']].groupby(['GameID','Outcome','TeamPoints'],as_index=False).mean()\n",
    "winners = avg_speed_per_game[avg_speed_per_game['Outcome'] == 'W']\n",
    "losers = avg_speed_per_game[avg_speed_per_game['Outcome'] == 'L']\n",
    "\n",
    "print('Max speed average')\n",
    "print(winners['MaxSpeedInGame'].mean())\n",
    "print(losers['MaxSpeedInGame'].mean())\n",
    "print('max accel average')\n",
    "print(winners['MaxAccelImpulseInGame'].mean())\n",
    "print(losers['MaxAccelImpulseInGame'].mean())\n",
    "\n",
    "box_plot_and_ttest('Winners', 'Losers', winners['MaxSpeedInGame'], losers['MaxSpeedInGame'], 'MaxSpeedInGame', 'Max Speed In Game For Winners and Losers')\n",
    "box_plot_and_ttest('Winners', 'Losers', winners['MaxAccelImpulseInGame'], losers['MaxAccelImpulseInGame'], 'MaxAccelImpulseInGame', 'Max Acceleration Impulse In Game For Winners and Losers')"
   ]
  },
  {
   "cell_type": "markdown",
   "metadata": {},
   "source": [
    "From both the boxplots and the ttests, we can see that the average max speed of players in the games they won is higher than the average max speed in the games they lost and the difference is statistically significant. However, that is not the case for max acceleration (p_value is large). This shows, that max speed might be a better metric of performance for players compared to max acceleration.\n",
    "Also in general it is worth to note that if a player's speed was 0 in one frame and 0.4 (m/s) in the next frame, its acceleartion would be 4 which is relatively a large value. Also if a player keeps his/her high speed, its acceleration will be close to zero and will not show the true performance of the player. So using max speed as a measure of performance seems more reasonable than using acceleration."
   ]
  }
 ],
 "metadata": {
  "kernelspec": {
   "display_name": "Python 3",
   "language": "python",
   "name": "python3"
  },
  "language_info": {
   "codemirror_mode": {
    "name": "ipython",
    "version": 3
   },
   "file_extension": ".py",
   "mimetype": "text/x-python",
   "name": "python",
   "nbconvert_exporter": "python",
   "pygments_lexer": "ipython3",
   "version": "3.6.5"
  }
 },
 "nbformat": 4,
 "nbformat_minor": 2
}
