{
 "cells": [
  {
   "cell_type": "code",
   "execution_count": 78,
   "metadata": {},
   "outputs": [],
   "source": [
    "import pandas as pd\n",
    "import numpy as np\n",
    "from factor_analyzer import FactorAnalyzer\n",
    "from factor_analyzer.factor_analyzer import calculate_bartlett_sphericity, calculate_kmo\n",
    "from scipy.stats import pointbiserialr\n",
    "from sklearn.decomposition import PCA\n",
    "import matplotlib.pyplot as plt\n",
    "\n",
    "np.random.seed(5151)\n",
    "rpe_df = pd.read_csv('./raw_data/rpe.csv')\n",
    "rpe_df['BestOutOfMyself'] = rpe_df['BestOutOfMyself'].map({'Absolutely': 3, 'Not at all': 0, 'Somewhat': 1})\n",
    "rpe_df['Training'] = rpe_df['Training'].map({'Yes': 1, 'No': 0})"
   ]
  },
  {
   "cell_type": "code",
   "execution_count": 79,
   "metadata": {},
   "outputs": [],
   "source": [
    "# Recomputing Session loads and daily loads\n",
    "rpe_df['SessionLoad'] = rpe_df['Duration'] * rpe_df['RPE']\n",
    "\n",
    "rpe_df.Date = pd.to_datetime(rpe_df.Date)\n",
    "rpe_df = rpe_df.sort_values(by = 'Date', ascending = True)\n",
    "rpe_df['DailyLoad'] = rpe_df.groupby(['Date','PlayerID'])['SessionLoad'].transform('sum')\n",
    "rpe_df[rpe_df['Date'] == '2017-09-06']\n",
    "rpe_df['DailyLoad'] = rpe_df.groupby(['Date','PlayerID'])['DailyLoad'].fillna(method='ffill')"
   ]
  },
  {
   "cell_type": "code",
   "execution_count": 80,
   "metadata": {},
   "outputs": [],
   "source": [
    "# Recomputing acute load\n",
    "temp = rpe_df[['Date','PlayerID','DailyLoad']].drop_duplicates()\n",
    "past7Days = temp.groupby('PlayerID').rolling('7d', on='Date')['DailyLoad'].sum().reset_index()\n",
    "past7Days['newAcuteLoad'] = (past7Days['DailyLoad'] / 7.).round(2)\n",
    "past7Days = past7Days.drop(columns = 'DailyLoad')\n",
    "\n",
    "rpe_df = pd.merge(rpe_df, past7Days, how=\"left\", on=[\"Date\", \"PlayerID\"])"
   ]
  },
  {
   "cell_type": "code",
   "execution_count": 81,
   "metadata": {},
   "outputs": [
    {
     "name": "stdout",
     "output_type": "stream",
     "text": [
      "           Date  PlayerID  Training        SessionType  Duration  RPE  \\\n",
      "1    2017-08-01         1         1              Speed      60.0  3.0   \n",
      "2    2017-08-01         1         1           Strength      90.0  4.0   \n",
      "19   2017-08-02         1         0                NaN       NaN  NaN   \n",
      "41   2017-08-03         1         0                NaN       NaN  NaN   \n",
      "114  2017-08-07         1         1             Skills      60.0  3.0   \n",
      "...         ...       ...       ...                ...       ...  ...   \n",
      "8797 2018-07-16         1         1              Speed      30.0  2.0   \n",
      "8814 2018-07-17         1         1             Skills      60.0  3.0   \n",
      "8815 2018-07-17         1         1  Mobility/Recovery      30.0  0.0   \n",
      "8832 2018-07-18         1         0                NaN       NaN  NaN   \n",
      "8840 2018-07-19         1         1             Skills      60.0  3.0   \n",
      "\n",
      "      SessionLoad  DailyLoad  AcuteLoad  ChronicLoad  AcuteChronicRatio  \\\n",
      "1           180.0      540.0       77.1        19.29               4.00   \n",
      "2           360.0      540.0        NaN          NaN                NaN   \n",
      "19            NaN        0.0        NaN          NaN                NaN   \n",
      "41            NaN        0.0       77.1        19.29               4.00   \n",
      "114         180.0      720.0        NaN          NaN                NaN   \n",
      "...           ...        ...        ...          ...                ...   \n",
      "8797         60.0      240.0        NaN          NaN                NaN   \n",
      "8814        180.0      180.0       62.1       173.93               0.36   \n",
      "8815          0.0      180.0        NaN          NaN                NaN   \n",
      "8832          NaN        0.0       62.1       159.46               0.39   \n",
      "8840        180.0      180.0       87.9       140.54               0.63   \n",
      "\n",
      "      ObjectiveRating  FocusRating  BestOutOfMyself  newAcuteLoad  \\\n",
      "1                 0.0          0.0              NaN         77.14   \n",
      "2                 0.0          0.0              NaN         77.14   \n",
      "19                0.0          0.0              NaN         77.14   \n",
      "41                NaN          NaN              1.0         77.14   \n",
      "114               7.0          8.0              NaN        180.00   \n",
      "...               ...          ...              ...           ...   \n",
      "8797              NaN          NaN              NaN         85.71   \n",
      "8814              NaN          NaN              NaN         60.00   \n",
      "8815              NaN          NaN              NaN         60.00   \n",
      "8832              NaN          NaN              NaN         60.00   \n",
      "8840              NaN          NaN              NaN         85.71   \n",
      "\n",
      "      newChronicLoad  \n",
      "1              18.00  \n",
      "2              18.00  \n",
      "19             18.00  \n",
      "41             18.00  \n",
      "114            42.00  \n",
      "...              ...  \n",
      "8797          208.00  \n",
      "8814          214.00  \n",
      "8815          214.00  \n",
      "8832          194.33  \n",
      "8840          166.33  \n",
      "\n",
      "[576 rows x 16 columns]\n"
     ]
    }
   ],
   "source": [
    "past30Days = temp.groupby('PlayerID').rolling('30d', on='Date')['DailyLoad'].sum().reset_index()\n",
    "past30Days['newChronicLoad'] = (past30Days['DailyLoad'] / 30.).round(2)\n",
    "past30Days = past30Days.drop(columns = 'DailyLoad')\n",
    "\n",
    "rpe_df = pd.merge(rpe_df, past30Days, how=\"left\", on=[\"Date\", \"PlayerID\"])\n",
    "print(rpe_df[rpe_df['PlayerID'] == 1])"
   ]
  },
  {
   "cell_type": "code",
   "execution_count": 82,
   "metadata": {},
   "outputs": [
    {
     "name": "stdout",
     "output_type": "stream",
     "text": [
      "           Date  PlayerID  Training        SessionType  Duration  RPE  \\\n",
      "1    2017-08-01         1         1              Speed      60.0  3.0   \n",
      "2    2017-08-01         1         1           Strength      90.0  4.0   \n",
      "19   2017-08-02         1         0                NaN       NaN  NaN   \n",
      "41   2017-08-03         1         0                NaN       NaN  NaN   \n",
      "114  2017-08-07         1         1             Skills      60.0  3.0   \n",
      "...         ...       ...       ...                ...       ...  ...   \n",
      "8797 2018-07-16         1         1              Speed      30.0  2.0   \n",
      "8814 2018-07-17         1         1             Skills      60.0  3.0   \n",
      "8815 2018-07-17         1         1  Mobility/Recovery      30.0  0.0   \n",
      "8832 2018-07-18         1         0                NaN       NaN  NaN   \n",
      "8840 2018-07-19         1         1             Skills      60.0  3.0   \n",
      "\n",
      "      SessionLoad  DailyLoad  AcuteChronicRatio  ObjectiveRating  FocusRating  \\\n",
      "1           180.0      540.0               4.29              0.0          0.0   \n",
      "2           360.0      540.0               4.29              0.0          0.0   \n",
      "19            NaN        0.0               4.29              0.0          0.0   \n",
      "41            NaN        0.0               4.29              NaN          NaN   \n",
      "114         180.0      720.0               4.29              7.0          8.0   \n",
      "...           ...        ...                ...              ...          ...   \n",
      "8797         60.0      240.0               0.41              NaN          NaN   \n",
      "8814        180.0      180.0               0.28              NaN          NaN   \n",
      "8815          0.0      180.0               0.28              NaN          NaN   \n",
      "8832          NaN        0.0               0.31              NaN          NaN   \n",
      "8840        180.0      180.0               0.52              NaN          NaN   \n",
      "\n",
      "      BestOutOfMyself  AcuteLoad  ChronicLoad  \n",
      "1                 NaN      77.14        18.00  \n",
      "2                 NaN      77.14        18.00  \n",
      "19                NaN      77.14        18.00  \n",
      "41                1.0      77.14        18.00  \n",
      "114               NaN     180.00        42.00  \n",
      "...               ...        ...          ...  \n",
      "8797              NaN      85.71       208.00  \n",
      "8814              NaN      60.00       214.00  \n",
      "8815              NaN      60.00       214.00  \n",
      "8832              NaN      60.00       194.33  \n",
      "8840              NaN      85.71       166.33  \n",
      "\n",
      "[576 rows x 14 columns]\n"
     ]
    }
   ],
   "source": [
    "rpe_df.drop(['ChronicLoad','AcuteLoad'],axis = 1, inplace = True)\n",
    "rpe_df.rename(columns = {'newChronicLoad':'ChronicLoad','newAcuteLoad':'AcuteLoad'}, inplace = True)\n",
    "rpe_df['AcuteChronicRatio'] = (rpe_df['AcuteLoad'] / rpe_df['ChronicLoad']).round(2)\n",
    "print(rpe_df[rpe_df['PlayerID'] == 1])"
   ]
  },
  {
   "cell_type": "code",
   "execution_count": 83,
   "metadata": {},
   "outputs": [
    {
     "name": "stdout",
     "output_type": "stream",
     "text": [
      "8860\n",
      "7152\n",
      "8860\n"
     ]
    }
   ],
   "source": [
    "print(rpe_df.shape[0])\n",
    "print(rpe_df.shape[0]- rpe_df.dropna().shape[0])\n",
    "print(rpe_df.shape[0])"
   ]
  },
  {
   "cell_type": "code",
   "execution_count": 84,
   "metadata": {},
   "outputs": [],
   "source": [
    "rpe_df = rpe_df.dropna()"
   ]
  },
  {
   "cell_type": "code",
   "execution_count": 85,
   "metadata": {},
   "outputs": [],
   "source": [
    "dummy_session_type = pd.get_dummies(rpe_df, columns = ['SessionType'] )\n",
    "number_session_type = rpe_df.copy()\n",
    "number_session_type['SessionType'] = rpe_df['SessionType'].map({'Combat': 0, 'Conditioning': 1,\n",
    "                                                                 'Game': 2,\n",
    "                                                                 'Mobility/Recovery': 3,\n",
    "                                                                 'Skills': 4,\n",
    "                                                                 'Speed': 5,'Strength': 6})"
   ]
  },
  {
   "cell_type": "code",
   "execution_count": 86,
   "metadata": {},
   "outputs": [
    {
     "name": "stdout",
     "output_type": "stream",
     "text": [
      "190.6351264821661 1.646039727264444e-14\n",
      "   PlayerID  Training   Duration       RPE  SessionLoad   DailyLoad  \\\n",
      "0         1  1.000000  73.333333  3.962963   304.259259  847.222222   \n",
      "1         2  1.000000  45.000000  2.500000   142.500000  570.000000   \n",
      "2         3  0.995951  58.740891  5.222672   312.688259  806.080972   \n",
      "3         4  1.000000  65.250000  4.112500   288.875000  727.250000   \n",
      "4         5  1.000000  56.500000  3.777778   242.555556  837.555556   \n",
      "\n",
      "   AcuteChronicRatio  ObjectiveRating  FocusRating  BestOutOfMyself  \\\n",
      "0           1.328148         8.629630     9.777778         2.851852   \n",
      "1           4.290000         9.000000     8.000000         3.000000   \n",
      "2           1.154980         8.004049     8.000000         3.000000   \n",
      "3           1.145375         7.962500     7.962500         3.000000   \n",
      "4           1.398889         8.944444     9.611111         3.000000   \n",
      "\n",
      "    AcuteLoad  ChronicLoad  SessionType_Combat  SessionType_Conditioning  \\\n",
      "0  403.015556   319.420000            0.074074                  0.000000   \n",
      "1  378.570000    88.330000            0.000000                  0.000000   \n",
      "2  482.592834   430.982915            0.008097                  0.157895   \n",
      "3  394.779000   347.643125            0.000000                  0.087500   \n",
      "4  403.937778   268.976667            0.000000                  0.055556   \n",
      "\n",
      "   SessionType_Game  SessionType_Mobility/Recovery  SessionType_Skills  \\\n",
      "0          0.000000                       0.000000            0.370370   \n",
      "1          0.000000                       0.250000            0.250000   \n",
      "2          0.056680                       0.101215            0.198381   \n",
      "3          0.000000                       0.087500            0.262500   \n",
      "4          0.055556                       0.055556            0.277778   \n",
      "\n",
      "   SessionType_Speed  SessionType_Strength  \n",
      "0           0.259259              0.296296  \n",
      "1           0.250000              0.250000  \n",
      "2           0.174089              0.303644  \n",
      "3           0.200000              0.362500  \n",
      "4           0.277778              0.277778  \n"
     ]
    }
   ],
   "source": [
    "dummy_player_data = dummy_session_type.groupby('PlayerID',as_index = False).mean()\n",
    "dummy_player_data = dummy_player_data.drop(['PlayerID'], axis=1)\n",
    "num_player_data = number_session_type.groupby('PlayerID',as_index = False).mean()\n",
    "num_player_data = num_player_data.drop(['PlayerID'], axis=1)\n",
    "\n",
    "chi_square_value,p_value = calculate_bartlett_sphericity(num_player_data)\n",
    "print(chi_square_value, p_value)\n",
    "\n",
    "print(player_data.head())"
   ]
  },
  {
   "cell_type": "code",
   "execution_count": 87,
   "metadata": {},
   "outputs": [
    {
     "name": "stdout",
     "output_type": "stream",
     "text": [
      "[0.21567603 0.35158996 0.39068185 0.2769437  0.39067862 0.49146777\n",
      " 0.22863533 0.54027162 0.60688263 0.57739519 0.58481032 0.53645715] 0.440294608310951\n"
     ]
    }
   ],
   "source": [
    "new_rpe.shape[0]\n",
    "kmo_all,kmo_model=calculate_kmo(num_player_data)\n",
    "print(kmo_all, kmo_model)"
   ]
  },
  {
   "cell_type": "markdown",
   "metadata": {},
   "source": [
    "# Session type as dummy variables"
   ]
  },
  {
   "cell_type": "code",
   "execution_count": 88,
   "metadata": {},
   "outputs": [
    {
     "data": {
      "image/png": "[encoded data removed]",
      "text/plain": [
       "<Figure size 432x288 with 1 Axes>"
      ]
     },
     "metadata": {},
     "output_type": "display_data"
    }
   ],
   "source": [
    "factor_number_tester = FactorAnalyzer(n_factors=10, rotation=\"varimax\") # Using number of factors = number of columns\n",
    "factor_number_tester.fit(dummy_player_data) \n",
    "ev, v = factor_number_tester.get_eigenvalues()\n",
    "\n",
    "plt.scatter(range(1,dummy_player_data.shape[1]+1),ev)\n",
    "plt.plot(range(1,dummy_player_data.shape[1]+1),ev)\n",
    "plt.title('Scree Plot')\n",
    "plt.xlabel('Factors')\n",
    "plt.ylabel('Eigenvalue')\n",
    "plt.grid()\n",
    "plt.show()"
   ]
  },
  {
   "cell_type": "code",
   "execution_count": 89,
   "metadata": {},
   "outputs": [
    {
     "name": "stdout",
     "output_type": "stream",
     "text": [
      "Index(['Training', 'Duration', 'RPE', 'SessionLoad', 'DailyLoad',\n",
      "       'AcuteChronicRatio', 'ObjectiveRating', 'FocusRating',\n",
      "       'BestOutOfMyself', 'AcuteLoad', 'ChronicLoad', 'SessionType_Combat',\n",
      "       'SessionType_Conditioning', 'SessionType_Game',\n",
      "       'SessionType_Mobility/Recovery', 'SessionType_Skills',\n",
      "       'SessionType_Speed', 'SessionType_Strength'],\n",
      "      dtype='object')\n",
      "[[ 0.00647976 -0.28798022 -0.10376725  0.35383489  0.25661657]\n",
      " [ 0.0619483   0.70762136  0.44077603  0.15437369  0.29543227]\n",
      " [-0.23844304  0.81455674 -0.33568164 -0.13739826  0.0399805 ]\n",
      " [-0.0624797   0.98018673  0.10622587  0.02078443  0.11648831]\n",
      " [ 0.4000867   0.78717114  0.28195956  0.21576986  0.15214904]\n",
      " [-0.05787399 -0.1871248   0.41398485  0.65072021 -0.36978548]\n",
      " [ 0.90831739 -0.101174    0.1740587   0.06807411  0.04361947]\n",
      " [ 0.79548592 -0.06810862  0.17620858 -0.13316444  0.4257702 ]\n",
      " [ 0.68483656  0.00567385  0.54018419 -0.20355974  0.17917145]\n",
      " [ 0.75485071  0.51195537  0.26414504 -0.08780819 -0.18776024]\n",
      " [ 0.62399881  0.52584497 -0.04598675 -0.41760499  0.00484192]\n",
      " [ 0.06060955  0.07582805  0.04290335 -0.04865153  0.42098865]\n",
      " [ 0.13973627 -0.17026859  0.14467914 -0.72941552  0.0134211 ]\n",
      " [-0.55671117 -0.05143378 -0.79657226  0.04985828 -0.12837419]\n",
      " [ 0.6497751  -0.23413002 -0.1278058  -0.04513347 -0.60464018]\n",
      " [ 0.43770221  0.15669871  0.46383694  0.29743485  0.56612008]\n",
      " [ 0.05073392  0.34156057  0.714095    0.56090781  0.15899296]\n",
      " [ 0.14512733  0.0646188   0.94801538 -0.13060456  0.03569614]]\n",
      "(array([ 1,  2,  3,  4,  6,  7,  9, 16, 17], dtype=int64), array([1, 1, 1, 1, 0, 0, 0, 2, 2], dtype=int64))\n",
      "(array([4.08462455, 3.65369907, 3.30237811, 1.84332116, 1.48527975]), array([0.22692359, 0.20298328, 0.18346545, 0.10240673, 0.08251554]), array([0.22692359, 0.42990687, 0.61337232, 0.71577905, 0.79829459]))\n"
     ]
    }
   ],
   "source": [
    "fa = FactorAnalyzer(5, rotation=\"varimax\")\n",
    "fa.fit(dummy_player_data)\n",
    "print(dummy_player_data.columns)\n",
    "print(fa.loadings_)\n",
    "print(np.where(fa.loadings_>0.7))\n",
    "print(fa.get_factor_variance())"
   ]
  },
  {
   "cell_type": "markdown",
   "metadata": {},
   "source": [
    "# Session types encoded as numbers"
   ]
  },
  {
   "cell_type": "code",
   "execution_count": 90,
   "metadata": {},
   "outputs": [
    {
     "data": {
      "image/png": "[encoded data removed]",
      "text/plain": [
       "<Figure size 432x288 with 1 Axes>"
      ]
     },
     "metadata": {},
     "output_type": "display_data"
    }
   ],
   "source": [
    "factor_number_tester = FactorAnalyzer(n_factors=10, rotation=\"varimax\") # Using number of factors = number of columns\n",
    "factor_number_tester.fit(num_player_data) \n",
    "ev, v = factor_number_tester.get_eigenvalues()\n",
    "\n",
    "plt.scatter(range(1,num_player_data.shape[1]+1),ev)\n",
    "plt.plot(range(1,num_player_data.shape[1]+1),ev)\n",
    "plt.title('Scree Plot')\n",
    "plt.xlabel('Factors')\n",
    "plt.ylabel('Eigenvalue')\n",
    "plt.grid()\n",
    "plt.show()"
   ]
  },
  {
   "cell_type": "code",
   "execution_count": 91,
   "metadata": {},
   "outputs": [
    {
     "name": "stdout",
     "output_type": "stream",
     "text": [
      "Index(['Training', 'SessionType', 'Duration', 'RPE', 'SessionLoad',\n",
      "       'DailyLoad', 'AcuteChronicRatio', 'ObjectiveRating', 'FocusRating',\n",
      "       'BestOutOfMyself', 'AcuteLoad', 'ChronicLoad'],\n",
      "      dtype='object')\n",
      "[[-0.03269261 -0.19755691  0.24777761]\n",
      " [ 0.52733887  0.46777589  0.57329311]\n",
      " [ 0.17703937  0.82972939  0.10238803]\n",
      " [-0.38609221  0.63925393 -0.53493861]\n",
      " [-0.08778348  0.97151699 -0.24039852]\n",
      " [ 0.37381448  0.86473063 -0.01100794]\n",
      " [-0.04029718  0.05093691  0.75734879]\n",
      " [ 0.88730212 -0.02661675  0.05725989]\n",
      " [ 0.87241346 -0.02223578 -0.12497518]\n",
      " [ 0.84386277  0.14104249  0.08569697]\n",
      " [ 0.71589352  0.49577616 -0.17623357]\n",
      " [ 0.5756266   0.37913814 -0.6347999 ]]\n",
      "(array([ 2,  4,  5,  6,  7,  8,  9, 10], dtype=int64), array([1, 1, 1, 2, 0, 0, 0, 0], dtype=int64))\n",
      "(array([3.71299647, 3.45977395, 1.77846182]), array([0.30941637, 0.2883145 , 0.14820515]), array([0.30941637, 0.59773087, 0.74593602]))\n"
     ]
    }
   ],
   "source": [
    "fa = FactorAnalyzer(3, rotation=\"varimax\")\n",
    "fa.fit(num_player_data)\n",
    "print(num_player_data.columns)\n",
    "print(fa.loadings_)\n",
    "print(np.where(fa.loadings_>0.7))\n",
    "print(fa.get_factor_variance())"
   ]
  }
 ],
 "metadata": {
  "kernelspec": {
   "display_name": "Python 3",
   "language": "python",
   "name": "python3"
  },
  "language_info": {
   "codemirror_mode": {
    "name": "ipython",
    "version": 3
   },
   "file_extension": ".py",
   "mimetype": "text/x-python",
   "name": "python",
   "nbconvert_exporter": "python",
   "pygments_lexer": "ipython3",
   "version": "3.6.5"
  }
 },
 "nbformat": 4,
 "nbformat_minor": 2
}
