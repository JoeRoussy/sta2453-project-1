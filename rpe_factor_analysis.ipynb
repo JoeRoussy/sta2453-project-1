{
 "cells": [
  {
   "cell_type": "markdown",
   "metadata": {},
   "source": [
    "# Factor Analysis"
   ]
  },
  {
   "cell_type": "markdown",
   "metadata": {},
   "source": [
    "Factor analysis is a method for automatically finding latent variables in a data set. It assumes that observed variables are actually a linear combination of a number of latent factors. Often, we are aiming to find a smaller number of factors that explain trends in our data.\n",
    "\n",
    "This is how factor analysis differs from principal componant analysis. In PCA, the components are not interpretable, however, in factor analysis, we can see which observed variables are highly correlated with which factors and group observed variables according to which factors they are correlated with by looking at the loading. We can also see which factors are most important by their eiganvalues. Another technical difference between PCA and factor analysis is that in PCA, all the components are orthogonal but in factor analysis this does not need to be the case."
   ]
  },
  {
   "cell_type": "markdown",
   "metadata": {},
   "source": [
    "## Load Data"
   ]
  },
  {
   "cell_type": "code",
   "execution_count": 1,
   "metadata": {},
   "outputs": [],
   "source": [
    "import pandas as pd\n",
    "from factor_analyzer import FactorAnalyzer\n",
    "from factor_analyzer.factor_analyzer import calculate_bartlett_sphericity, calculate_kmo\n",
    "from scipy.stats import pointbiserialr\n",
    "import matplotlib.pyplot as plt"
   ]
  },
  {
   "cell_type": "code",
   "execution_count": 3,
   "metadata": {},
   "outputs": [
    {
     "name": "stdout",
     "output_type": "stream",
     "text": [
      "         Date  PlayerID Training        SessionType  Duration  RPE  \\\n",
      "0  2018-07-21        13      Yes  Mobility/Recovery       5.0  0.0   \n",
      "1  2018-07-21        13      Yes               Game      29.0  7.0   \n",
      "2  2018-07-21        13      Yes               Game      27.0  9.0   \n",
      "3  2018-07-20        11      Yes               Game      36.0  6.0   \n",
      "4  2018-07-20        11      Yes               Game      36.0  8.0   \n",
      "\n",
      "   SessionLoad  DailyLoad  AcuteLoad  ChronicLoad  AcuteChronicRatio  \\\n",
      "0          0.0      446.0      323.1       303.25               1.07   \n",
      "1        203.0        NaN        NaN          NaN                NaN   \n",
      "2        243.0        NaN        NaN          NaN                NaN   \n",
      "3        216.0      534.0      256.3       344.18               0.74   \n",
      "4        288.0        NaN        NaN          NaN                NaN   \n",
      "\n",
      "   ObjectiveRating  FocusRating BestOutOfMyself  \n",
      "0              NaN          NaN      Not at all  \n",
      "1              NaN          NaN      Not at all  \n",
      "2              NaN          NaN      Not at all  \n",
      "3              9.0         10.0      Absolutely  \n",
      "4              9.0         10.0      Absolutely  \n",
      "1233\n",
      "1238\n"
     ]
    }
   ],
   "source": [
    "rpe_df = pd.read_csv('./raw_data/rpe.csv')\n",
    "print(rpe_df.head())\n",
    "print(len(rpe_df[(rpe_df['Training']=='No') & (rpe_df['FocusRating'].isnull())]))\n",
    "print(len(rpe_df[(rpe_df['Training']=='No')]))"
   ]
  },
  {
   "cell_type": "code",
   "execution_count": 4,
   "metadata": {},
   "outputs": [
    {
     "name": "stdout",
     "output_type": "stream",
     "text": [
      "(8860, 14)\n",
      "(8860, 14)\n"
     ]
    }
   ],
   "source": [
    "print(rpe_df.shape)\n",
    "\n",
    "indexNames = rpe_df[ (rpe_df['PlayerID'] < 18) | (rpe_df['PlayerID'] > 21) ]\n",
    "print(indexNames.shape)"
   ]
  },
  {
   "cell_type": "markdown",
   "metadata": {},
   "source": [
    "To start with, we have 8860 observations."
   ]
  },
  {
   "cell_type": "markdown",
   "metadata": {},
   "source": [
    "## Cleaning Data"
   ]
  },
  {
   "cell_type": "code",
   "execution_count": 5,
   "metadata": {},
   "outputs": [
    {
     "name": "stdout",
     "output_type": "stream",
     "text": [
      "0\n",
      "8860\n",
      "(1239, 14)\n",
      "(1239, 14)\n",
      "(1239, 14)\n",
      "(1239, 14)\n",
      "(5711, 14)\n",
      "(4511, 14)\n",
      "(4477, 14)\n",
      "(1226, 14)\n",
      "(35, 14)\n",
      "(3, 14)\n",
      "         Date  PlayerID Training        SessionType  Duration  RPE  \\\n",
      "0  2018-07-21        13      Yes  Mobility/Recovery       5.0  0.0   \n",
      "1  2018-07-21        13      Yes               Game      29.0  7.0   \n",
      "2  2018-07-21        13      Yes               Game      27.0  9.0   \n",
      "3  2018-07-20        11      Yes               Game      36.0  6.0   \n",
      "4  2018-07-20        11      Yes               Game      36.0  8.0   \n",
      "\n",
      "   SessionLoad  DailyLoad  AcuteLoad  ChronicLoad  AcuteChronicRatio  \\\n",
      "0          0.0      446.0      323.1       303.25               1.07   \n",
      "1        203.0      446.0      323.1       303.25               1.07   \n",
      "2        243.0      446.0      323.1       303.25               1.07   \n",
      "3        216.0      534.0      256.3       344.18               0.74   \n",
      "4        288.0      534.0      256.3       344.18               0.74   \n",
      "\n",
      "   ObjectiveRating  FocusRating BestOutOfMyself  \n",
      "0              NaN          NaN      Not at all  \n",
      "1              NaN          NaN      Not at all  \n",
      "2              NaN          NaN      Not at all  \n",
      "3              9.0         10.0      Absolutely  \n",
      "4              9.0         10.0      Absolutely  \n"
     ]
    }
   ],
   "source": [
    "print(len(rpe_df) - rpe_df['Training'].count())\n",
    "# rpe_df = rpe_df[~ rpe_df['SessionType'].isna()]\n",
    "print(len(rpe_df))\n",
    "print(rpe_df[rpe_df['SessionType'].isna()].shape)\n",
    "print(rpe_df[rpe_df['Duration'].isna()].shape)\n",
    "print(rpe_df[rpe_df['RPE'].isna()].shape)\n",
    "print(rpe_df[rpe_df['SessionLoad'].isna()].shape)\n",
    "print(rpe_df[rpe_df['DailyLoad'].isna()].shape)\n",
    "print(rpe_df[rpe_df['AcuteLoad'].isna()].shape)\n",
    "print(rpe_df[rpe_df['ChronicLoad'].isna()].shape)\n",
    "rpe_df['DailyLoad'] = rpe_df.groupby(['Date','PlayerID'])['DailyLoad'].fillna(method='ffill')\n",
    "rpe_df['AcuteLoad'] = rpe_df.groupby(['Date','PlayerID'])['AcuteLoad'].fillna(method='ffill')\n",
    "rpe_df['ChronicLoad'] = rpe_df.groupby(['Date','PlayerID'])['ChronicLoad'].fillna(method='ffill')\n",
    "rpe_df['AcuteChronicRatio'] = rpe_df.groupby(['Date','PlayerID'])['AcuteChronicRatio'].fillna(method='ffill')\n",
    "print(rpe_df[rpe_df['DailyLoad'].isna()].shape)\n",
    "print(rpe_df[rpe_df['AcuteLoad'].isna()].shape)\n",
    "print(rpe_df[rpe_df['ChronicLoad'].isna()].shape)\n",
    "print(rpe_df.head())"
   ]
  },
  {
   "cell_type": "code",
   "execution_count": 6,
   "metadata": {},
   "outputs": [
    {
     "name": "stdout",
     "output_type": "stream",
     "text": [
      "         Date  PlayerID Training        SessionType  Duration  RPE  \\\n",
      "0  2018-07-21        13      Yes  Mobility/Recovery       5.0  0.0   \n",
      "1  2018-07-21        13      Yes               Game      29.0  7.0   \n",
      "2  2018-07-21        13      Yes               Game      27.0  9.0   \n",
      "3  2018-07-20        11      Yes               Game      36.0  6.0   \n",
      "4  2018-07-20        11      Yes               Game      36.0  8.0   \n",
      "\n",
      "   SessionLoad  DailyLoad  AcuteLoad  ChronicLoad  AcuteChronicRatio  \\\n",
      "0          0.0      446.0      323.1       303.25               1.07   \n",
      "1        203.0      446.0      323.1       303.25               1.07   \n",
      "2        243.0      446.0      323.1       303.25               1.07   \n",
      "3        216.0      534.0      256.3       344.18               0.74   \n",
      "4        288.0      534.0      256.3       344.18               0.74   \n",
      "\n",
      "   ObjectiveRating  FocusRating BestOutOfMyself  \n",
      "0              9.0          8.0      Not at all  \n",
      "1              8.0          9.0      Not at all  \n",
      "2              8.0          7.0      Not at all  \n",
      "3              9.0         10.0      Absolutely  \n",
      "4              9.0         10.0      Absolutely  \n"
     ]
    }
   ],
   "source": [
    "# For datapoints that did do a training but their ratings are nan generate random ratqings\n",
    "# based on the current distribution of the values\n",
    "for s in ['ObjectiveRating', 'FocusRating', 'BestOutOfMyself']:\n",
    "#     tmp_df = rpe_df[rpe_df['Training'] == 'Yes']\n",
    "    #print(len(rpe_df['Training']=='Yes'))\n",
    "    isnull = (rpe_df['Training']=='Yes') & (rpe_df[s].isnull())\n",
    "    sample = rpe_df[(rpe_df['Training']=='Yes')][s].dropna().sample(isnull.sum(), replace=True).values\n",
    "    rpe_df.loc[isnull, s] = sample\n",
    "print(rpe_df.head())"
   ]
  },
  {
   "cell_type": "code",
   "execution_count": 7,
   "metadata": {},
   "outputs": [
    {
     "data": {
      "text/plain": [
       "Absolutely    6584\n",
       "Not at all    1055\n",
       "Somewhat       516\n",
       "Name: BestOutOfMyself, dtype: int64"
      ]
     },
     "execution_count": 7,
     "metadata": {},
     "output_type": "execute_result"
    }
   ],
   "source": [
    "rpe_df['BestOutOfMyself'].value_counts()"
   ]
  },
  {
   "cell_type": "code",
   "execution_count": 8,
   "metadata": {},
   "outputs": [
    {
     "name": "stdout",
     "output_type": "stream",
     "text": [
      "         Date  PlayerID Training        SessionType  Duration  RPE  \\\n",
      "0  2018-07-21        13      Yes  Mobility/Recovery       5.0  0.0   \n",
      "1  2018-07-21        13      Yes               Game      29.0  7.0   \n",
      "2  2018-07-21        13      Yes               Game      27.0  9.0   \n",
      "3  2018-07-20        11      Yes               Game      36.0  6.0   \n",
      "4  2018-07-20        11      Yes               Game      36.0  8.0   \n",
      "\n",
      "   SessionLoad  DailyLoad  AcuteLoad  ChronicLoad  AcuteChronicRatio  \\\n",
      "0          0.0      446.0      323.1       303.25               1.07   \n",
      "1        203.0      446.0      323.1       303.25               1.07   \n",
      "2        243.0      446.0      323.1       303.25               1.07   \n",
      "3        216.0      534.0      256.3       344.18               0.74   \n",
      "4        288.0      534.0      256.3       344.18               0.74   \n",
      "\n",
      "   ObjectiveRating  FocusRating BestOutOfMyself  \n",
      "0              9.0          8.0      Not at all  \n",
      "1              8.0          9.0      Not at all  \n",
      "2              8.0          7.0      Not at all  \n",
      "3              9.0         10.0      Absolutely  \n",
      "4              9.0         10.0      Absolutely  \n",
      "         Date  PlayerID Training        SessionType  Duration  RPE  \\\n",
      "0  2018-07-21        13      Yes  Mobility/Recovery       5.0  0.0   \n",
      "1  2018-07-21        13      Yes               Game      29.0  7.0   \n",
      "2  2018-07-21        13      Yes               Game      27.0  9.0   \n",
      "3  2018-07-20        11      Yes               Game      36.0  6.0   \n",
      "4  2018-07-20        11      Yes               Game      36.0  8.0   \n",
      "\n",
      "   SessionLoad  DailyLoad  AcuteLoad  ChronicLoad  AcuteChronicRatio  \\\n",
      "0          0.0      446.0      323.1       303.25               1.07   \n",
      "1        203.0      446.0      323.1       303.25               1.07   \n",
      "2        243.0      446.0      323.1       303.25               1.07   \n",
      "3        216.0      534.0      256.3       344.18               0.74   \n",
      "4        288.0      534.0      256.3       344.18               0.74   \n",
      "\n",
      "   ObjectiveRating  FocusRating  BestOutOfMyself  \n",
      "0              9.0          8.0              0.0  \n",
      "1              8.0          9.0              0.0  \n",
      "2              8.0          7.0              0.0  \n",
      "3              9.0         10.0              3.0  \n",
      "4              9.0         10.0              3.0  \n"
     ]
    }
   ],
   "source": [
    "print(rpe_df.head())\n",
    "rpe_df['BestOutOfMyself'] = rpe_df['BestOutOfMyself'].map({'Absolutely': 3, 'Not at all': 0, 'Somewhat': 1})\n",
    "print(rpe_df.head())"
   ]
  },
  {
   "cell_type": "markdown",
   "metadata": {},
   "source": [
    "## Factor Analysis"
   ]
  },
  {
   "cell_type": "code",
   "execution_count": 9,
   "metadata": {},
   "outputs": [
    {
     "name": "stdout",
     "output_type": "stream",
     "text": [
      "8860 705\n"
     ]
    }
   ],
   "source": [
    "print(len(rpe_df),len(rpe_df[rpe_df['BestOutOfMyself'].isnull()]))\n",
    "rpe_df['SessionType'].value_counts()\n",
    "rpe_df['Training'] = rpe_df['Training'].map({'Yes': 1, 'No': 0})"
   ]
  },
  {
   "cell_type": "code",
   "execution_count": 10,
   "metadata": {},
   "outputs": [
    {
     "name": "stdout",
     "output_type": "stream",
     "text": [
      "8860\n",
      "7622\n"
     ]
    }
   ],
   "source": [
    "print(len(rpe_df))\n",
    "training_yes = rpe_df[rpe_df['Training'] == 1].drop(['Training'], axis=1)\n",
    "training_no = rpe_df[rpe_df['Training'] == 0].drop(['Training'], axis=1)\n",
    "print(len(training_yes))"
   ]
  },
  {
   "cell_type": "code",
   "execution_count": 11,
   "metadata": {},
   "outputs": [
    {
     "name": "stdout",
     "output_type": "stream",
     "text": [
      "1238 1237\n",
      "Conditioning    1\n",
      "Name: SessionType, dtype: int64\n",
      "            Date  PlayerID   SessionType  Duration  RPE  SessionLoad  \\\n",
      "5591  2017-11-30         3  Conditioning      30.0  5.0        150.0   \n",
      "\n",
      "      DailyLoad  AcuteLoad  ChronicLoad  AcuteChronicRatio  ObjectiveRating  \\\n",
      "5591      150.0      260.7       457.86               0.57              8.0   \n",
      "\n",
      "      FocusRating  BestOutOfMyself  \n",
      "5591          8.0              3.0  \n",
      "30.0    1\n",
      "Name: Duration, dtype: int64\n",
      "5.0    1\n",
      "Name: RPE, dtype: int64\n",
      "150.0    1\n",
      "Name: SessionLoad, dtype: int64\n",
      "180.0     2\n",
      "615.0     1\n",
      "485.0     1\n",
      "225.0     1\n",
      "150.0     1\n",
      "525.0     1\n",
      "1260.0    1\n",
      "330.0     1\n",
      "770.0     1\n",
      "560.0     1\n",
      "0.0       1\n",
      "90.0      1\n",
      "990.0     1\n",
      "Name: DailyLoad, dtype: int64\n",
      "51.4     10\n",
      "77.1      9\n",
      "141.4     8\n",
      "171.4     7\n",
      "402.9     7\n",
      "96.4      6\n",
      "229.3     6\n",
      "83.6      6\n",
      "57.9      6\n",
      "42.9      6\n",
      "102.9     6\n",
      "488.6     6\n",
      "214.3     6\n",
      "278.6     6\n",
      "355.7     6\n",
      "172.1     5\n",
      "124.3     5\n",
      "287.1     5\n",
      "173.6     5\n",
      "203.6     5\n",
      "12.9      5\n",
      "325.7     5\n",
      "180.0     5\n",
      "82.9      5\n",
      "98.6      5\n",
      "182.1     5\n",
      "254.3     4\n",
      "225.0     4\n",
      "218.6     4\n",
      "396.4     4\n",
      "         ..\n",
      "98.9      1\n",
      "762.9     1\n",
      "607.1     1\n",
      "457.1     1\n",
      "466.4     1\n",
      "227.7     1\n",
      "286.4     1\n",
      "145.0     1\n",
      "375.0     1\n",
      "252.9     1\n",
      "505.0     1\n",
      "368.6     1\n",
      "575.3     1\n",
      "212.9     1\n",
      "367.6     1\n",
      "323.1     1\n",
      "604.0     1\n",
      "314.0     1\n",
      "562.9     1\n",
      "235.0     1\n",
      "609.7     1\n",
      "581.4     1\n",
      "657.1     1\n",
      "158.9     1\n",
      "199.3     1\n",
      "591.4     1\n",
      "528.6     1\n",
      "186.4     1\n",
      "580.7     1\n",
      "119.3     1\n",
      "Name: AcuteLoad, Length: 674, dtype: int64\n",
      "275.46    5\n",
      "184.64    5\n",
      "425.00    4\n",
      "297.07    4\n",
      "210.00    4\n",
      "14.46     4\n",
      "165.71    4\n",
      "187.50    4\n",
      "215.89    4\n",
      "415.36    3\n",
      "305.71    3\n",
      "283.93    3\n",
      "448.21    3\n",
      "303.04    3\n",
      "187.86    3\n",
      "155.71    3\n",
      "382.50    3\n",
      "364.11    3\n",
      "277.61    3\n",
      "278.75    3\n",
      "311.61    3\n",
      "203.57    3\n",
      "50.86     3\n",
      "310.36    3\n",
      "397.25    3\n",
      "205.18    3\n",
      "313.39    3\n",
      "397.43    3\n",
      "20.00     3\n",
      "136.43    2\n",
      "         ..\n",
      "331.61    1\n",
      "395.43    1\n",
      "322.36    1\n",
      "180.89    1\n",
      "470.71    1\n",
      "411.61    1\n",
      "396.50    1\n",
      "267.04    1\n",
      "186.43    1\n",
      "259.50    1\n",
      "121.96    1\n",
      "290.68    1\n",
      "429.50    1\n",
      "325.25    1\n",
      "200.25    1\n",
      "369.21    1\n",
      "362.57    1\n",
      "379.43    1\n",
      "435.32    1\n",
      "251.07    1\n",
      "222.39    1\n",
      "490.57    1\n",
      "346.57    1\n",
      "388.04    1\n",
      "332.68    1\n",
      "370.14    1\n",
      "546.75    1\n",
      "61.79     1\n",
      "417.68    1\n",
      "436.00    1\n",
      "Name: ChronicLoad, Length: 999, dtype: int64\n",
      "4.00    23\n",
      "0.59    18\n",
      "0.67    18\n",
      "0.65    17\n",
      "0.77    16\n",
      "0.78    16\n",
      "1.04    15\n",
      "0.55    14\n",
      "0.72    14\n",
      "0.63    14\n",
      "0.56    14\n",
      "0.58    14\n",
      "0.71    14\n",
      "0.51    14\n",
      "0.61    13\n",
      "0.80    13\n",
      "0.32    13\n",
      "0.93    13\n",
      "1.00    13\n",
      "0.66    12\n",
      "0.54    11\n",
      "0.47    11\n",
      "0.46    11\n",
      "0.96    11\n",
      "1.13    11\n",
      "0.64    11\n",
      "1.25    11\n",
      "1.15    11\n",
      "0.68    11\n",
      "0.87    10\n",
      "        ..\n",
      "2.49     1\n",
      "1.62     1\n",
      "0.10     1\n",
      "2.19     1\n",
      "0.28     1\n",
      "0.06     1\n",
      "2.20     1\n",
      "0.04     1\n",
      "0.43     1\n",
      "2.35     1\n",
      "2.52     1\n",
      "1.44     1\n",
      "2.65     1\n",
      "1.72     1\n",
      "2.40     1\n",
      "1.93     1\n",
      "2.39     1\n",
      "2.04     1\n",
      "2.51     1\n",
      "2.12     1\n",
      "3.07     1\n",
      "2.92     1\n",
      "2.27     1\n",
      "1.85     1\n",
      "1.89     1\n",
      "2.18     1\n",
      "2.01     1\n",
      "3.99     1\n",
      "2.06     1\n",
      "1.81     1\n",
      "Name: AcuteChronicRatio, Length: 214, dtype: int64\n",
      "0.0    3\n",
      "7.0    1\n",
      "8.0    1\n",
      "Name: ObjectiveRating, dtype: int64\n",
      "0.0    3\n",
      "7.0    1\n",
      "8.0    1\n",
      "Name: FocusRating, dtype: int64\n",
      "3.0    449\n",
      "1.0     60\n",
      "0.0     24\n",
      "Name: BestOutOfMyself, dtype: int64\n"
     ]
    }
   ],
   "source": [
    "print(len(training_no),len(training_no[training_no['SessionType'].isnull()]))\n",
    "print(training_no['SessionType'].value_counts())\n",
    "print(training_no[training_no['SessionType']=='Conditioning'])\n",
    "print(training_no['Duration'].value_counts())\n",
    "print(training_no['RPE'].value_counts())\n",
    "print(training_no['SessionLoad'].value_counts())\n",
    "print(training_no['DailyLoad'].value_counts())\n",
    "print(training_no['AcuteLoad'].value_counts())\n",
    "print(training_no['ChronicLoad'].value_counts())\n",
    "print(training_no['AcuteChronicRatio'].value_counts())\n",
    "print(training_no['ObjectiveRating'].value_counts())\n",
    "print(training_no['FocusRating'].value_counts())\n",
    "print(training_no['BestOutOfMyself'].value_counts())"
   ]
  },
  {
   "cell_type": "markdown",
   "metadata": {},
   "source": [
    "There was only one datapoint that by mistake the training field was marked as a No, while it was a conditioning training. So we add that to the training_yes group and remove it from the training_no group. Also since there were only 5 datapoints that had focus rating and objective rating we can remove these two columns from the training_no group."
   ]
  },
  {
   "cell_type": "code",
   "execution_count": 12,
   "metadata": {
    "scrolled": true
   },
   "outputs": [
    {
     "name": "stdout",
     "output_type": "stream",
     "text": [
      "7622\n",
      "7623\n",
      "1238\n",
      "1237\n"
     ]
    }
   ],
   "source": [
    "print(len(training_yes))\n",
    "tmp_df = training_no[training_no['SessionType']=='Conditioning']\n",
    "training_yes = pd.concat([training_yes, tmp_df])\n",
    "print(len(training_yes))\n",
    "print(len(training_no))\n",
    "training_no = training_no[training_no['SessionType'].isnull()]\n",
    "print(len(training_no))"
   ]
  },
  {
   "cell_type": "code",
   "execution_count": 13,
   "metadata": {},
   "outputs": [
    {
     "name": "stdout",
     "output_type": "stream",
     "text": [
      "1237 Index(['Date', 'PlayerID', 'SessionType', 'Duration', 'RPE', 'SessionLoad',\n",
      "       'DailyLoad', 'AcuteLoad', 'ChronicLoad', 'AcuteChronicRatio',\n",
      "       'ObjectiveRating', 'FocusRating', 'BestOutOfMyself'],\n",
      "      dtype='object')\n",
      "Index(['Date', 'PlayerID', 'DailyLoad', 'AcuteLoad', 'ChronicLoad',\n",
      "       'AcuteChronicRatio', 'BestOutOfMyself'],\n",
      "      dtype='object')\n"
     ]
    }
   ],
   "source": [
    "print(len(training_no),training_no.columns)\n",
    "training_no.dropna(axis = 1, how = 'all',inplace = True)\n",
    "training_no.drop(['ObjectiveRating', 'FocusRating'],axis=1, inplace = True)\n",
    "print(training_no.columns)"
   ]
  },
  {
   "cell_type": "code",
   "execution_count": 14,
   "metadata": {},
   "outputs": [
    {
     "name": "stdout",
     "output_type": "stream",
     "text": [
      "7623          Date  PlayerID  Duration  RPE  SessionLoad  DailyLoad  AcuteLoad  \\\n",
      "0  2018-07-21        13       5.0  0.0          0.0      446.0      323.1   \n",
      "1  2018-07-21        13      29.0  7.0        203.0      446.0      323.1   \n",
      "2  2018-07-21        13      27.0  9.0        243.0      446.0      323.1   \n",
      "3  2018-07-20        11      36.0  6.0        216.0      534.0      256.3   \n",
      "4  2018-07-20        11      36.0  8.0        288.0      534.0      256.3   \n",
      "\n",
      "   ChronicLoad  AcuteChronicRatio  ObjectiveRating  FocusRating  \\\n",
      "0       303.25               1.07              9.0          8.0   \n",
      "1       303.25               1.07              8.0          9.0   \n",
      "2       303.25               1.07              8.0          7.0   \n",
      "3       344.18               0.74              9.0         10.0   \n",
      "4       344.18               0.74              9.0         10.0   \n",
      "\n",
      "   BestOutOfMyself  SessionType_Combat  SessionType_Conditioning  \\\n",
      "0              0.0                   0                         0   \n",
      "1              0.0                   0                         0   \n",
      "2              0.0                   0                         0   \n",
      "3              3.0                   0                         0   \n",
      "4              3.0                   0                         0   \n",
      "\n",
      "   SessionType_Game  SessionType_Mobility/Recovery  SessionType_Skills  \\\n",
      "0                 0                              1                   0   \n",
      "1                 1                              0                   0   \n",
      "2                 1                              0                   0   \n",
      "3                 1                              0                   0   \n",
      "4                 1                              0                   0   \n",
      "\n",
      "   SessionType_Speed  SessionType_Strength  \n",
      "0                  0                     0  \n",
      "1                  0                     0  \n",
      "2                  0                     0  \n",
      "3                  0                     0  \n",
      "4                  0                     0  \n"
     ]
    }
   ],
   "source": [
    "df_with_dummies = pd.get_dummies( training_yes, columns = ['SessionType'] )\n",
    "print(len(df_with_dummies),df_with_dummies.head())"
   ]
  },
  {
   "cell_type": "markdown",
   "metadata": {},
   "source": [
    "### Adequacy Tests"
   ]
  },
  {
   "cell_type": "markdown",
   "metadata": {},
   "source": [
    "Before we perform any partiular tests for suitability, we should make sure there are not any columns that are correlated in our dataset."
   ]
  },
  {
   "cell_type": "code",
   "execution_count": 15,
   "metadata": {},
   "outputs": [
    {
     "name": "stdout",
     "output_type": "stream",
     "text": [
      "          Date  PlayerID  DailyLoad  AcuteLoad  ChronicLoad  \\\n",
      "20  2018-07-18         1        NaN       62.1       159.46   \n",
      "21  2018-07-18         2        NaN       82.9       316.57   \n",
      "22  2018-07-18         3        NaN      105.0       372.25   \n",
      "23  2018-07-18         6        NaN       52.9       333.50   \n",
      "24  2018-07-18         7        NaN       98.6       372.86   \n",
      "\n",
      "    AcuteChronicRatio  BestOutOfMyself  \n",
      "20               0.39              NaN  \n",
      "21               0.26              NaN  \n",
      "22               0.28              3.0  \n",
      "23               0.16              NaN  \n",
      "24               0.26              3.0  \n",
      "                   PlayerID  Duration       RPE  SessionLoad  DailyLoad  \\\n",
      "PlayerID           1.000000 -0.067921 -0.085777    -0.099765  -0.054533   \n",
      "Duration          -0.067921  1.000000  0.254596     0.797332   0.369132   \n",
      "RPE               -0.085777  0.254596  1.000000     0.658283   0.388978   \n",
      "SessionLoad       -0.099765  0.797332  0.658283     1.000000   0.522373   \n",
      "DailyLoad         -0.054533  0.369132  0.388978     0.522373   1.000000   \n",
      "AcuteLoad         -0.065946  0.211553  0.204392     0.311172   0.572448   \n",
      "ChronicLoad       -0.076335  0.073831  0.097205     0.136571   0.272018   \n",
      "AcuteChronicRatio  0.040900  0.132035  0.057020     0.133722   0.231523   \n",
      "ObjectiveRating   -0.014401 -0.029356 -0.026658    -0.035057  -0.016330   \n",
      "FocusRating        0.002907 -0.042402  0.029369    -0.014587  -0.005446   \n",
      "BestOutOfMyself   -0.077951  0.056337  0.025260     0.046389   0.048222   \n",
      "\n",
      "                   AcuteLoad  ChronicLoad  AcuteChronicRatio  ObjectiveRating  \\\n",
      "PlayerID           -0.065946    -0.076335           0.040900        -0.014401   \n",
      "Duration            0.211553     0.073831           0.132035        -0.029356   \n",
      "RPE                 0.204392     0.097205           0.057020        -0.026658   \n",
      "SessionLoad         0.311172     0.136571           0.133722        -0.035057   \n",
      "DailyLoad           0.572448     0.272018           0.231523        -0.016330   \n",
      "AcuteLoad           1.000000     0.564318           0.270785         0.034884   \n",
      "ChronicLoad         0.564318     1.000000          -0.471899         0.057139   \n",
      "AcuteChronicRatio   0.270785    -0.471899           1.000000        -0.030822   \n",
      "ObjectiveRating     0.034884     0.057139          -0.030822         1.000000   \n",
      "FocusRating         0.019785     0.059131          -0.053591         0.353943   \n",
      "BestOutOfMyself     0.034564     0.034761           0.037005         0.057429   \n",
      "\n",
      "                   FocusRating  BestOutOfMyself  \n",
      "PlayerID              0.002907        -0.077951  \n",
      "Duration             -0.042402         0.056337  \n",
      "RPE                   0.029369         0.025260  \n",
      "SessionLoad          -0.014587         0.046389  \n",
      "DailyLoad            -0.005446         0.048222  \n",
      "AcuteLoad             0.019785         0.034564  \n",
      "ChronicLoad           0.059131         0.034761  \n",
      "AcuteChronicRatio    -0.053591         0.037005  \n",
      "ObjectiveRating       0.353943         0.057429  \n",
      "FocusRating           1.000000         0.060683  \n",
      "BestOutOfMyself       0.060683         1.000000  \n",
      "                   PlayerID  DailyLoad  AcuteLoad  ChronicLoad  \\\n",
      "PlayerID           1.000000  -0.453975  -0.113938    -0.140074   \n",
      "DailyLoad         -0.453975   1.000000   0.566377     0.593316   \n",
      "AcuteLoad         -0.113938   0.566377   1.000000     0.537543   \n",
      "ChronicLoad       -0.140074   0.593316   0.537543     1.000000   \n",
      "AcuteChronicRatio  0.007654   0.244124   0.440489    -0.330717   \n",
      "BestOutOfMyself   -0.228377   0.347960   0.159658     0.241689   \n",
      "\n",
      "                   AcuteChronicRatio  BestOutOfMyself  \n",
      "PlayerID                    0.007654        -0.228377  \n",
      "DailyLoad                   0.244124         0.347960  \n",
      "AcuteLoad                   0.440489         0.159658  \n",
      "ChronicLoad                -0.330717         0.241689  \n",
      "AcuteChronicRatio           1.000000         0.024483  \n",
      "BestOutOfMyself             0.024483         1.000000  \n"
     ]
    }
   ],
   "source": [
    "\n",
    "print(training_no.head())\n",
    "print(training_yes.corr())\n",
    "print(training_no.corr())"
   ]
  },
  {
   "cell_type": "code",
   "execution_count": 16,
   "metadata": {},
   "outputs": [
    {
     "name": "stdout",
     "output_type": "stream",
     "text": [
      "   PlayerID   Duration       RPE  SessionLoad   DailyLoad   AcuteLoad  \\\n",
      "0         1  62.807203  3.476695   248.260593  667.944915  319.350847   \n",
      "1         2  51.758621  4.241379   238.054767  695.549696  337.388889   \n",
      "2         3  58.376569  4.995816   304.669456  790.244770  401.386820   \n",
      "3         4  63.384804  4.497549   295.384804  724.651961  341.928676   \n",
      "4         5  56.828571  4.281633   255.248980  669.408163  246.402857   \n",
      "\n",
      "   ChronicLoad  AcuteChronicRatio  ObjectiveRating  FocusRating  \\\n",
      "0   331.988792           1.016356         8.002119     8.319915   \n",
      "1   326.889394           1.136606         7.941414     8.137374   \n",
      "2   402.718180           1.096151         7.995816     8.060669   \n",
      "3   332.925613           1.110980         7.774510     7.884804   \n",
      "4   223.395388           1.322939         8.395918     8.546939   \n",
      "\n",
      "   BestOutOfMyself  SessionType_Combat  SessionType_Conditioning  \\\n",
      "0         2.572034            0.012712                  0.120763   \n",
      "1         2.379798            0.044444                  0.117172   \n",
      "2         2.895397            0.004184                  0.161088   \n",
      "3         2.629902            0.014706                  0.112745   \n",
      "4         2.530612            0.016327                  0.175510   \n",
      "\n",
      "   SessionType_Game  SessionType_Mobility/Recovery  SessionType_Skills  \\\n",
      "0          0.046610                       0.088983            0.283898   \n",
      "1          0.038384                       0.163636            0.250505   \n",
      "2          0.054393                       0.102510            0.213389   \n",
      "3          0.078431                       0.061275            0.257353   \n",
      "4          0.057143                       0.093878            0.146939   \n",
      "\n",
      "   SessionType_Speed  SessionType_Strength  \n",
      "0           0.165254              0.281780  \n",
      "1           0.155556              0.226263  \n",
      "2           0.173640              0.290795  \n",
      "3           0.191176              0.284314  \n",
      "4           0.175510              0.334694  \n",
      "                               Duration       RPE  SessionLoad  DailyLoad  \\\n",
      "Duration                       1.000000  0.196419     0.580440   0.240492   \n",
      "RPE                            0.196419  1.000000     0.807335   0.690444   \n",
      "SessionLoad                    0.580440  0.807335     1.000000   0.713338   \n",
      "DailyLoad                      0.240492  0.690444     0.713338   1.000000   \n",
      "AcuteLoad                      0.019149  0.451144     0.563383   0.825631   \n",
      "ChronicLoad                    0.015699  0.329855     0.484019   0.768365   \n",
      "AcuteChronicRatio             -0.095910 -0.062037    -0.310667  -0.493616   \n",
      "ObjectiveRating               -0.140228  0.062094     0.114966   0.384412   \n",
      "FocusRating                   -0.260017  0.145218     0.059819   0.268967   \n",
      "BestOutOfMyself                0.473452  0.301562     0.399569   0.125568   \n",
      "SessionType_Combat            -0.143115 -0.093294    -0.302915  -0.052168   \n",
      "SessionType_Conditioning      -0.251782  0.040604     0.007054  -0.399776   \n",
      "SessionType_Game               0.282837  0.169528     0.295758   0.278883   \n",
      "SessionType_Mobility/Recovery -0.576161 -0.434704    -0.435055   0.037568   \n",
      "SessionType_Skills             0.360870  0.277039     0.250644   0.463521   \n",
      "SessionType_Speed              0.512313  0.400905     0.342627  -0.058015   \n",
      "SessionType_Strength           0.569142  0.130943     0.328483  -0.281571   \n",
      "\n",
      "                               AcuteLoad  ChronicLoad  AcuteChronicRatio  \\\n",
      "Duration                        0.019149     0.015699          -0.095910   \n",
      "RPE                             0.451144     0.329855          -0.062037   \n",
      "SessionLoad                     0.563383     0.484019          -0.310667   \n",
      "DailyLoad                       0.825631     0.768365          -0.493616   \n",
      "AcuteLoad                       1.000000     0.987021          -0.820518   \n",
      "ChronicLoad                     0.987021     1.000000          -0.885544   \n",
      "AcuteChronicRatio              -0.820518    -0.885544           1.000000   \n",
      "ObjectiveRating                 0.471976     0.523420          -0.468457   \n",
      "FocusRating                     0.341506     0.329426          -0.176472   \n",
      "BestOutOfMyself                -0.047509    -0.086232           0.176314   \n",
      "SessionType_Combat             -0.364714    -0.385895           0.430658   \n",
      "SessionType_Conditioning       -0.221489    -0.241455           0.279239   \n",
      "SessionType_Game                0.191634     0.154892          -0.059795   \n",
      "SessionType_Mobility/Recovery   0.369852     0.450694          -0.421365   \n",
      "SessionType_Skills              0.232048     0.183348          -0.147106   \n",
      "SessionType_Speed              -0.341931    -0.403746           0.301237   \n",
      "SessionType_Strength           -0.428463    -0.427074           0.285430   \n",
      "\n",
      "                               ObjectiveRating  FocusRating  BestOutOfMyself  \\\n",
      "Duration                             -0.140228    -0.260017         0.473452   \n",
      "RPE                                   0.062094     0.145218         0.301562   \n",
      "SessionLoad                           0.114966     0.059819         0.399569   \n",
      "DailyLoad                             0.384412     0.268967         0.125568   \n",
      "AcuteLoad                             0.471976     0.341506        -0.047509   \n",
      "ChronicLoad                           0.523420     0.329426        -0.086232   \n",
      "AcuteChronicRatio                    -0.468457    -0.176472         0.176314   \n",
      "ObjectiveRating                       1.000000     0.674736         0.085778   \n",
      "FocusRating                           0.674736     1.000000         0.056657   \n",
      "BestOutOfMyself                       0.085778     0.056657         1.000000   \n",
      "SessionType_Combat                   -0.359965    -0.440112        -0.048681   \n",
      "SessionType_Conditioning              0.203805     0.413164         0.265767   \n",
      "SessionType_Game                     -0.233759    -0.246993         0.045527   \n",
      "SessionType_Mobility/Recovery         0.576272     0.378843        -0.455062   \n",
      "SessionType_Skills                   -0.405098    -0.266578        -0.028822   \n",
      "SessionType_Speed                    -0.628598    -0.500121         0.218790   \n",
      "SessionType_Strength                 -0.083235    -0.175425         0.501542   \n",
      "\n",
      "                               SessionType_Combat  SessionType_Conditioning  \\\n",
      "Duration                                -0.143115                 -0.251782   \n",
      "RPE                                     -0.093294                  0.040604   \n",
      "SessionLoad                             -0.302915                  0.007054   \n",
      "DailyLoad                               -0.052168                 -0.399776   \n",
      "AcuteLoad                               -0.364714                 -0.221489   \n",
      "ChronicLoad                             -0.385895                 -0.241455   \n",
      "AcuteChronicRatio                        0.430658                  0.279239   \n",
      "ObjectiveRating                         -0.359965                  0.203805   \n",
      "FocusRating                             -0.440112                  0.413164   \n",
      "BestOutOfMyself                         -0.048681                  0.265767   \n",
      "SessionType_Combat                       1.000000                 -0.454614   \n",
      "SessionType_Conditioning                -0.454614                  1.000000   \n",
      "SessionType_Game                         0.150834                 -0.301900   \n",
      "SessionType_Mobility/Recovery           -0.220950                 -0.011703   \n",
      "SessionType_Skills                       0.360716                 -0.758495   \n",
      "SessionType_Speed                        0.184997                 -0.197210   \n",
      "SessionType_Strength                    -0.275859                  0.409693   \n",
      "\n",
      "                               SessionType_Game  \\\n",
      "Duration                               0.282837   \n",
      "RPE                                    0.169528   \n",
      "SessionLoad                            0.295758   \n",
      "DailyLoad                              0.278883   \n",
      "AcuteLoad                              0.191634   \n",
      "ChronicLoad                            0.154892   \n",
      "AcuteChronicRatio                     -0.059795   \n",
      "ObjectiveRating                       -0.233759   \n",
      "FocusRating                           -0.246993   \n",
      "BestOutOfMyself                        0.045527   \n",
      "SessionType_Combat                     0.150834   \n",
      "SessionType_Conditioning              -0.301900   \n",
      "SessionType_Game                       1.000000   \n",
      "SessionType_Mobility/Recovery         -0.251021   \n",
      "SessionType_Skills                     0.217332   \n",
      "SessionType_Speed                      0.214464   \n",
      "SessionType_Strength                  -0.061958   \n",
      "\n",
      "                               SessionType_Mobility/Recovery  \\\n",
      "Duration                                           -0.576161   \n",
      "RPE                                                -0.434704   \n",
      "SessionLoad                                        -0.435055   \n",
      "DailyLoad                                           0.037568   \n",
      "AcuteLoad                                           0.369852   \n",
      "ChronicLoad                                         0.450694   \n",
      "AcuteChronicRatio                                  -0.421365   \n",
      "ObjectiveRating                                     0.576272   \n",
      "FocusRating                                         0.378843   \n",
      "BestOutOfMyself                                    -0.455062   \n",
      "SessionType_Combat                                 -0.220950   \n",
      "SessionType_Conditioning                           -0.011703   \n",
      "SessionType_Game                                   -0.251021   \n",
      "SessionType_Mobility/Recovery                       1.000000   \n",
      "SessionType_Skills                                 -0.384307   \n",
      "SessionType_Speed                                  -0.900753   \n",
      "SessionType_Strength                               -0.591521   \n",
      "\n",
      "                               SessionType_Skills  SessionType_Speed  \\\n",
      "Duration                                 0.360870           0.512313   \n",
      "RPE                                      0.277039           0.400905   \n",
      "SessionLoad                              0.250644           0.342627   \n",
      "DailyLoad                                0.463521          -0.058015   \n",
      "AcuteLoad                                0.232048          -0.341931   \n",
      "ChronicLoad                              0.183348          -0.403746   \n",
      "AcuteChronicRatio                       -0.147106           0.301237   \n",
      "ObjectiveRating                         -0.405098          -0.628598   \n",
      "FocusRating                             -0.266578          -0.500121   \n",
      "BestOutOfMyself                         -0.028822           0.218790   \n",
      "SessionType_Combat                       0.360716           0.184997   \n",
      "SessionType_Conditioning                -0.758495          -0.197210   \n",
      "SessionType_Game                         0.217332           0.214464   \n",
      "SessionType_Mobility/Recovery           -0.384307          -0.900753   \n",
      "SessionType_Skills                       1.000000           0.452185   \n",
      "SessionType_Speed                        0.452185           1.000000   \n",
      "SessionType_Strength                    -0.336796           0.501572   \n",
      "\n",
      "                               SessionType_Strength  \n",
      "Duration                                   0.569142  \n",
      "RPE                                        0.130943  \n",
      "SessionLoad                                0.328483  \n",
      "DailyLoad                                 -0.281571  \n",
      "AcuteLoad                                 -0.428463  \n",
      "ChronicLoad                               -0.427074  \n",
      "AcuteChronicRatio                          0.285430  \n",
      "ObjectiveRating                           -0.083235  \n",
      "FocusRating                               -0.175425  \n",
      "BestOutOfMyself                            0.501542  \n",
      "SessionType_Combat                        -0.275859  \n",
      "SessionType_Conditioning                   0.409693  \n",
      "SessionType_Game                          -0.061958  \n",
      "SessionType_Mobility/Recovery             -0.591521  \n",
      "SessionType_Skills                        -0.336796  \n",
      "SessionType_Speed                          0.501572  \n",
      "SessionType_Strength                       1.000000  \n"
     ]
    },
    {
     "name": "stdout",
     "output_type": "stream",
     "text": [
      "668.1531285217573 1.4031216656344185e-71\n",
      "Index(['Duration', 'RPE', 'SessionLoad', 'DailyLoad', 'AcuteLoad',\n",
      "       'ChronicLoad', 'AcuteChronicRatio', 'ObjectiveRating', 'FocusRating',\n",
      "       'BestOutOfMyself'],\n",
      "      dtype='object')\n",
      "[0.23072802 0.46650331 0.55700593 0.57978155 0.58018548 0.5801361\n",
      " 0.57062984 0.39078289 0.40450894 0.41333297] 0.5013586087498892\n"
     ]
    }
   ],
   "source": [
    "player_data_yes = df_with_dummies.groupby('PlayerID',as_index = False).mean()\n",
    "print(player_data_yes.head())\n",
    "new_df_yes = player_data_yes.drop(['PlayerID'], axis=1)\n",
    "print(new_df_yes.corr())\n",
    "chi_square_value,p_value = calculate_bartlett_sphericity(new_df_yes)\n",
    "print(chi_square_value, p_value)\n",
    "\n",
    "yes_without_session_type = new_df_yes.drop(['SessionType_Combat',\n",
    "                                        'SessionType_Conditioning',\n",
    "                                       'SessionType_Game',\n",
    "                                       'SessionType_Mobility/Recovery',\n",
    "                                       'SessionType_Skills',\n",
    "                                       'SessionType_Speed',\n",
    "                                       'SessionType_Strength'],axis=1)\n",
    "print(yes_without_session_type.columns)\n",
    "\n",
    "kmo_all,kmo_model=calculate_kmo(yes_without_session_type)\n",
    "print(kmo_all, kmo_model)"
   ]
  },
  {
   "cell_type": "code",
   "execution_count": 19,
   "metadata": {},
   "outputs": [
    {
     "name": "stdout",
     "output_type": "stream",
     "text": [
      "   PlayerID  DailyLoad   AcuteLoad  ChronicLoad  AcuteChronicRatio  \\\n",
      "0         1      587.5  258.939216   311.435534           0.885196   \n",
      "1         2        NaN  311.526250   328.023250           1.025500   \n",
      "2         3     1260.0  338.124219   400.593178           0.888672   \n",
      "3         5        NaN  213.321622   201.865909           1.201081   \n",
      "4         6      180.0  342.110204   350.614898           1.089592   \n",
      "\n",
      "   BestOutOfMyself  \n",
      "0            2.375  \n",
      "1            0.000  \n",
      "2            3.000  \n",
      "3            0.000  \n",
      "4            0.000  \n",
      "                   DailyLoad  AcuteLoad  ChronicLoad  AcuteChronicRatio  \\\n",
      "DailyLoad           1.000000   0.470617     0.619577          -0.641400   \n",
      "AcuteLoad           0.470617   1.000000     0.928216          -0.448340   \n",
      "ChronicLoad         0.619577   0.928216     1.000000          -0.698846   \n",
      "AcuteChronicRatio  -0.641400  -0.448340    -0.698846           1.000000   \n",
      "BestOutOfMyself     0.731260   0.444360     0.617471          -0.797467   \n",
      "\n",
      "                   BestOutOfMyself  \n",
      "DailyLoad                 0.731260  \n",
      "AcuteLoad                 0.444360  \n",
      "ChronicLoad               0.617471  \n",
      "AcuteChronicRatio        -0.797467  \n",
      "BestOutOfMyself           1.000000  \n",
      "48.42440712917779 8.476485415834036e-11\n",
      "[0.38501924 0.41865906 0.31969499] 0.38103999583848475\n"
     ]
    }
   ],
   "source": [
    "player_data_no = training_no.groupby('PlayerID',as_index = False).mean()\n",
    "print(player_data_no.head())\n",
    "new_df_no = player_data_no.drop(['PlayerID'], axis=1)\n",
    "print(new_df_no.corr())\n",
    "no_without_nan_columns = new_df_no.drop(['DailyLoad', 'BestOutOfMyself'],axis=1)\n",
    "chi_square_value,p_value = calculate_bartlett_sphericity(no_without_nan_columns)\n",
    "print(chi_square_value, p_value)\n",
    "kmo_all,kmo_model=calculate_kmo(no_without_nan_columns)\n",
    "print(kmo_all, kmo_model)"
   ]
  },
  {
   "cell_type": "markdown",
   "metadata": {},
   "source": [
    "### Choosing the Number of Factors"
   ]
  },
  {
   "cell_type": "code",
   "execution_count": 20,
   "metadata": {},
   "outputs": [
    {
     "data": {
      "image/png": "[encoded data removed]",
      "text/plain": [
       "<Figure size 432x288 with 1 Axes>"
      ]
     },
     "metadata": {},
     "output_type": "display_data"
    }
   ],
   "source": [
    "factor_number_tester = FactorAnalyzer(n_factors=10, rotation=None) # Using number of factors = number of columns\n",
    "factor_number_tester.fit(new_df_yes) \n",
    "ev, v = factor_number_tester.get_eigenvalues()\n",
    "\n",
    "plt.scatter(range(1,new_df_yes.shape[1]+1),ev)\n",
    "plt.plot(range(1,new_df_yes.shape[1]+1),ev)\n",
    "plt.title('Scree Plot')\n",
    "plt.xlabel('Factors')\n",
    "plt.ylabel('Eigenvalue')\n",
    "plt.grid()\n",
    "plt.show()\n"
   ]
  },
  {
   "cell_type": "code",
   "execution_count": 21,
   "metadata": {},
   "outputs": [
    {
     "name": "stdout",
     "output_type": "stream",
     "text": [
      "Index(['Duration', 'RPE', 'SessionLoad', 'DailyLoad', 'AcuteLoad',\n",
      "       'ChronicLoad', 'AcuteChronicRatio', 'ObjectiveRating', 'FocusRating',\n",
      "       'BestOutOfMyself', 'SessionType_Combat', 'SessionType_Conditioning',\n",
      "       'SessionType_Game', 'SessionType_Mobility/Recovery',\n",
      "       'SessionType_Skills', 'SessionType_Speed', 'SessionType_Strength'],\n",
      "      dtype='object')\n",
      "[[ 0.07331936  0.66631363 -0.22004835]\n",
      " [ 0.42357563  0.59026344 -0.07966516]\n",
      " [ 0.57733553  0.80003136 -0.02172342]\n",
      " [ 0.86442577  0.24754269 -0.22137364]\n",
      " [ 0.99800805 -0.01474999  0.00800395]\n",
      " [ 0.9857999  -0.09325549  0.04007126]\n",
      " [-0.75743121  0.13236508 -0.03300123]\n",
      " [ 0.52947054 -0.17054582  0.5878027 ]\n",
      " [ 0.37037842 -0.12262285  0.56471338]\n",
      " [-0.03265276  0.57377208  0.17063429]\n",
      " [-0.31591785 -0.16618133 -0.56314921]\n",
      " [-0.26761922  0.17680942  0.83039594]\n",
      " [ 0.1536971   0.19908367 -0.35283471]\n",
      " [ 0.36627003 -0.83823865  0.36654362]\n",
      " [ 0.25384061  0.15306487 -0.82215211]\n",
      " [-0.32926487  0.68645184 -0.49126728]\n",
      " [-0.3943086   0.72786155  0.3263888 ]]\n",
      "(array([ 2,  3,  4,  5, 11, 16], dtype=int64), array([1, 0, 0, 0, 2, 1], dtype=int64))\n",
      "(array([4.88297958, 3.7190672 , 3.08988242]), array([0.28723409, 0.21876866, 0.18175779]), array([0.28723409, 0.50600275, 0.68776054]))\n"
     ]
    }
   ],
   "source": [
    "import numpy as np\n",
    "fa = FactorAnalyzer(3, rotation=\"varimax\")\n",
    "fa.fit(new_df_yes)\n",
    "print(new_df_yes.columns)\n",
    "print(fa.loadings_)\n",
    "print(np.where(fa.loadings_>0.7))\n",
    "print(fa.get_factor_variance())"
   ]
  },
  {
   "cell_type": "code",
   "execution_count": 22,
   "metadata": {},
   "outputs": [
    {
     "data": {
      "image/png": "[encoded data removed]",
      "text/plain": [
       "<Figure size 432x288 with 1 Axes>"
      ]
     },
     "metadata": {},
     "output_type": "display_data"
    }
   ],
   "source": [
    "factor_number_tester = FactorAnalyzer(n_factors=5, rotation=None) # Using number of factors = number of columns\n",
    "factor_number_tester.fit(no_without_nan_columns) \n",
    "ev, v = factor_number_tester.get_eigenvalues()\n",
    "\n",
    "plt.scatter(range(1,no_without_nan_columns.shape[1]+1),ev)\n",
    "plt.plot(range(1,no_without_nan_columns.shape[1]+1),ev)\n",
    "plt.title('Scree Plot')\n",
    "plt.xlabel('Factors')\n",
    "plt.ylabel('Eigenvalue')\n",
    "plt.grid()\n",
    "plt.show()"
   ]
  },
  {
   "cell_type": "code",
   "execution_count": 23,
   "metadata": {},
   "outputs": [
    {
     "name": "stdout",
     "output_type": "stream",
     "text": [
      "Index(['AcuteLoad', 'ChronicLoad', 'AcuteChronicRatio'], dtype='object')\n",
      "[[-0.85352286]\n",
      " [-1.03435133]\n",
      " [ 0.61473018]]\n",
      "(array([2], dtype=int64), array([0], dtype=int64))\n",
      "(array([2.17627715]), array([0.72542572]), array([0.72542572]))\n"
     ]
    }
   ],
   "source": [
    "fa = FactorAnalyzer(1,rotation = None)\n",
    "fa.fit(no_without_nan_columns)\n",
    "print(no_without_nan_columns.columns)\n",
    "print(fa.loadings_)\n",
    "print(np.where(fa.loadings_>0.5))\n",
    "print(fa.get_factor_variance())"
   ]
  }
 ],
 "metadata": {
  "kernelspec": {
   "display_name": "Python 3",
   "language": "python",
   "name": "python3"
  },
  "language_info": {
   "codemirror_mode": {
    "name": "ipython",
    "version": 3
   },
   "file_extension": ".py",
   "mimetype": "text/x-python",
   "name": "python",
   "nbconvert_exporter": "python",
   "pygments_lexer": "ipython3",
   "version": "3.6.5"
  }
 },
 "nbformat": 4,
 "nbformat_minor": 2
}
